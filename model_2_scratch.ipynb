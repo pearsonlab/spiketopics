{
 "metadata": {
  "name": "",
  "signature": "sha256:fcf87bc311439075714267564fca3e4f068f92c6a9c01224228d14198af6a2b9"
 },
 "nbformat": 3,
 "nbformat_minor": 0,
 "worksheets": [
  {
   "cells": [
    {
     "cell_type": "heading",
     "level": 1,
     "metadata": {},
     "source": [
      "Model 2 Scratch"
     ]
    },
    {
     "cell_type": "markdown",
     "metadata": {},
     "source": [
      "Implement variational inference for a firing rate model with latent categorical factors following a hidden Markov model."
     ]
    },
    {
     "cell_type": "code",
     "collapsed": false,
     "input": [
      "from __future__ import division\n",
      "import numpy as np\n",
      "import scipy.stats as stats\n",
      "import matplotlib.pyplot as plt\n",
      "import matplotlib.cm as cm\n",
      "%matplotlib inline"
     ],
     "language": "python",
     "metadata": {},
     "outputs": [],
     "prompt_number": 1
    },
    {
     "cell_type": "heading",
     "level": 2,
     "metadata": {},
     "source": [
      "Let's make fake data"
     ]
    },
    {
     "cell_type": "code",
     "collapsed": false,
     "input": [
      "U = 120  # units\n",
      "T = 50000  # time points/frames\n",
      "K = 2  # categories\n",
      "dt = 1 / 30  # frames per second"
     ],
     "language": "python",
     "metadata": {},
     "outputs": [],
     "prompt_number": 2
    },
    {
     "cell_type": "code",
     "collapsed": false,
     "input": [
      "# 0 -> 1 transition should be small\n",
      "v0_a = 1\n",
      "v0_b = 100\n",
      "xx = np.linspace(0, 1, 1000)\n",
      "plt.plot(xx, stats.beta.pdf(xx, v0_a, v0_b));\n",
      "\n",
      "# 1 -> 1 transition should be large\n",
      "v1_a = 100\n",
      "v1_b = 1\n",
      "xx = np.linspace(0, 1, 1000)\n",
      "plt.plot(xx, stats.beta.pdf(xx, v1_a, v1_b));"
     ],
     "language": "python",
     "metadata": {},
     "outputs": [
      {
       "metadata": {},
       "output_type": "display_data",
       "png": "[encoded data removed]",
       "text": [
        "<matplotlib.figure.Figure at 0x1092d9890>"
       ]
      }
     ],
     "prompt_number": 3
    },
    {
     "cell_type": "code",
     "collapsed": false,
     "input": [
      "# make vector of transition probabilities\n",
      "# each row is a category, each column the transition\n",
      "# probability from that state to state 1\n",
      "# (this is easy to do without matrices since we have\n",
      "# only two states)\n",
      "v0 = stats.beta.rvs(v0_a, v0_b, size=K)\n",
      "v1 = stats.beta.rvs(v1_a, v1_b, size=K)\n",
      "trans_probs = np.vstack([v0, v1]).T "
     ],
     "language": "python",
     "metadata": {},
     "outputs": [],
     "prompt_number": 4
    },
    {
     "cell_type": "code",
     "collapsed": false,
     "input": [
      "# pick initial states for each category\n",
      "z0_probs = stats.beta.rvs(50, 50, size=K)\n",
      "z0 = stats.bernoulli.rvs(z0_probs)"
     ],
     "language": "python",
     "metadata": {},
     "outputs": [],
     "prompt_number": 5
    },
    {
     "cell_type": "code",
     "collapsed": false,
     "input": [
      "# make the chain by evolving each category through time\n",
      "chain = np.empty((K, T), dtype='int')\n",
      "\n",
      "# initialize\n",
      "chain[:, 0] = z0\n",
      "\n",
      "for t in xrange(1, T):\n",
      "    p_trans_to_1 = trans_probs[range(K), chain[:, t - 1]]\n",
      "    chain[:, t] = stats.bernoulli.rvs(p_trans_to_1)"
     ],
     "language": "python",
     "metadata": {},
     "outputs": [],
     "prompt_number": 6
    },
    {
     "cell_type": "code",
     "collapsed": false,
     "input": [
      "# plot the categories through time\n",
      "Trng = (0, 500)\n",
      "plt.matshow(chain[:, slice(*Trng)], aspect='auto', cmap=cm.gray);"
     ],
     "language": "python",
     "metadata": {},
     "outputs": [
      {
       "metadata": {},
       "output_type": "display_data",
       "png": "[encoded data removed]",
       "text": [
        "<matplotlib.figure.Figure at 0x103eb5a50>"
       ]
      }
     ],
     "prompt_number": 7
    },
    {
     "cell_type": "code",
     "collapsed": false,
     "input": [
      "# set up firing rates for each category, unit\n",
      "lam = stats.gamma.rvs(a=10 / 3, scale=3, size=(K, U))\n",
      "\n",
      "xx = np.linspace(0, 40, 1000)\n",
      "plt.plot(xx, stats.gamma.pdf(xx, a=10/3, scale=3));"
     ],
     "language": "python",
     "metadata": {},
     "outputs": [
      {
       "metadata": {},
       "output_type": "display_data",
       "png": "[encoded data removed]",
       "text": [
        "<matplotlib.figure.Figure at 0x10ed71090>"
       ]
      }
     ],
     "prompt_number": 33
    },
    {
     "cell_type": "code",
     "collapsed": false,
     "input": [
      "# calculate rate for each time\n",
      "fr = chain.T.dot(lam) * dt\n",
      "fr = fr + 1e-5  # in case we get exactly 0\n",
      "\n",
      "# draw from Poisson\n",
      "N = stats.poisson.rvs(fr)"
     ],
     "language": "python",
     "metadata": {},
     "outputs": [],
     "prompt_number": 9
    },
    {
     "cell_type": "heading",
     "level": 2,
     "metadata": {},
     "source": [
      "Priors"
     ]
    },
    {
     "cell_type": "heading",
     "level": 3,
     "metadata": {},
     "source": [
      "$\\lambda$"
     ]
    },
    {
     "cell_type": "code",
     "collapsed": false,
     "input": [
      "amat = np.ones((K, U))\n",
      "bmat = 0.02 * np.ones((K, U)) * (1 / dt)"
     ],
     "language": "python",
     "metadata": {},
     "outputs": [],
     "prompt_number": 10
    },
    {
     "cell_type": "code",
     "collapsed": false,
     "input": [
      "xx = np.linspace(0, 100)\n",
      "plt.plot(xx, stats.gamma.pdf(xx, 1, scale=1 / (bmat[0, 0] * dt)));\n",
      "#plt.plot(xx, stats.gamma.pdf(xx, 1, scale=1 / bmat[0, 0]));"
     ],
     "language": "python",
     "metadata": {},
     "outputs": [
      {
       "metadata": {},
       "output_type": "display_data",
       "png": "[encoded data removed]",
       "text": [
        "<matplotlib.figure.Figure at 0x1094f7750>"
       ]
      }
     ],
     "prompt_number": 11
    },
    {
     "cell_type": "heading",
     "level": 3,
     "metadata": {},
     "source": [
      "$\\tau$"
     ]
    },
    {
     "cell_type": "markdown",
     "metadata": {},
     "source": [
      "Here, we choose weakly informative priors based on the assumption that $\\tau_{0k} = \\tau_{0 \\rightarrow 1}$ is small and $\\tau_{1k} = \\tau_{1 \\rightarrow 1}$ is large."
     ]
    },
    {
     "cell_type": "code",
     "collapsed": false,
     "input": [
      "alpha_mat = np.r_[np.ones((1, K)), 10 * np.ones((1, K))]\n",
      "beta_mat = np.r_[10 * np.ones((1, K)), np.ones((1, K))]"
     ],
     "language": "python",
     "metadata": {},
     "outputs": [],
     "prompt_number": 12
    },
    {
     "cell_type": "heading",
     "level": 3,
     "metadata": {},
     "source": [
      "$\\zeta$"
     ]
    },
    {
     "cell_type": "code",
     "collapsed": false,
     "input": [
      "upsilon1_mat = np.ones((K,))\n",
      "upsilon2_mat = np.ones((K,))"
     ],
     "language": "python",
     "metadata": {},
     "outputs": [],
     "prompt_number": 13
    },
    {
     "cell_type": "code",
     "collapsed": false,
     "input": [
      "xx = np.linspace(0, 1, 1000)\n",
      "plt.plot(xx, stats.beta.pdf(xx, 1, 10));\n",
      "plt.plot(xx, stats.beta.pdf(xx, 10, 1));"
     ],
     "language": "python",
     "metadata": {},
     "outputs": [
      {
       "metadata": {},
       "output_type": "display_data",
       "png": "[encoded data removed]",
       "text": [
        "<matplotlib.figure.Figure at 0x109470750>"
       ]
      }
     ],
     "prompt_number": 14
    },
    {
     "cell_type": "heading",
     "level": 2,
     "metadata": {},
     "source": [
      "Initial Values"
     ]
    },
    {
     "cell_type": "heading",
     "level": 3,
     "metadata": {},
     "source": [
      "$q(\\lambda)$"
     ]
    },
    {
     "cell_type": "code",
     "collapsed": false,
     "input": [
      "cmat = np.ones((K, U)) + 0.05 * stats.norm.rvs(size=(K, U))\n",
      "dmat = 0.25 * (np.ones((K, U)) + 0.05 * stats.norm.rvs(size=(K, U))) * (1 / dt)"
     ],
     "language": "python",
     "metadata": {},
     "outputs": [],
     "prompt_number": 15
    },
    {
     "cell_type": "heading",
     "level": 3,
     "metadata": {},
     "source": [
      "$q(\\tau)$"
     ]
    },
    {
     "cell_type": "code",
     "collapsed": false,
     "input": [
      "gamma_mat = np.r_[np.ones((1, K)), 10 * np.ones((1, K))]\n",
      "delta_mat = np.r_[10 * np.ones((1, K)), np.ones((1, K))]"
     ],
     "language": "python",
     "metadata": {},
     "outputs": [],
     "prompt_number": 16
    },
    {
     "cell_type": "heading",
     "level": 3,
     "metadata": {},
     "source": [
      "$q(\\zeta)$"
     ]
    },
    {
     "cell_type": "code",
     "collapsed": false,
     "input": [
      "# non-informative (uniform) prior\n",
      "rho1_mat = np.ones((K,))\n",
      "rho2_mat = np.ones((K,))"
     ],
     "language": "python",
     "metadata": {},
     "outputs": [],
     "prompt_number": 17
    },
    {
     "cell_type": "heading",
     "level": 3,
     "metadata": {},
     "source": [
      "$q(n|z)$"
     ]
    },
    {
     "cell_type": "code",
     "collapsed": false,
     "input": [
      "# initialze eta parameters to partition observed firing \n",
      "# for each unit equally across categories\n",
      "mean_fr = np.mean(N, 0)  # mean firing rate for each units\n",
      "mu_mat = (1 / K) * mean_fr * np.ones((K, U))"
     ],
     "language": "python",
     "metadata": {},
     "outputs": [],
     "prompt_number": 18
    },
    {
     "cell_type": "heading",
     "level": 3,
     "metadata": {},
     "source": [
      "$q(z)$"
     ]
    },
    {
     "cell_type": "code",
     "collapsed": false,
     "input": [
      "# initial phi value also uniform prior on z0\n",
      "phi_mat = 0.5 * np.ones((K,))\n",
      "\n",
      "# for transition probability parameters, start low\n",
      "# and high, respectively\n",
      "pi_mat = np.r_[0.05 * np.ones((1, K)), 0.95 * np.ones((1, K))]\n",
      "A_mat = np.c_[1 - pi_mat[:, [0]], pi_mat[:, [0]]]\n",
      "\n",
      "# make a set of initial guesses for z\n",
      "xi_mat = np.random.rand(T, K)\n",
      "\n",
      "Xi = np.tile(A_mat[np.newaxis, :, :, np.newaxis], (T - 1, 1, 1, K))\n"
     ],
     "language": "python",
     "metadata": {},
     "outputs": [],
     "prompt_number": 19
    },
    {
     "cell_type": "heading",
     "level": 2,
     "metadata": {},
     "source": [
      "Forward-Backward"
     ]
    },
    {
     "cell_type": "markdown",
     "metadata": {},
     "source": [
      "Given observations $y$, $\\pi_0$ (initial state distribution), and $A_{i \\rightarrow j}$ (transition matrix), return the posterior probabilities of the latent states $z_{1:T}$ and the partition function $Z = p(\\mathcal{D})$. Notational conventions for intermediate quantities in the algorithm follows Murphy (Machine Learning: A probabilistic approach). "
     ]
    },
    {
     "cell_type": "code",
     "collapsed": false,
     "input": [
      "def fb_infer(y, lam, A, pi0):\n",
      "    # implement the forward-backward inference algorithm\n",
      "    # y is a times x units matrix of observations (counts)\n",
      "    # lam is a states x times x units array of Poisson rates\n",
      "    # A is a matrix of transition probabilities that acts to the right:\n",
      "    # new_state = A * old_state, so that columns of A sum to 1\n",
      "    T = y.shape[0]\n",
      "    M = A.shape[0]\n",
      "\n",
      "    # initialize empty variables\n",
      "    zmat = np.empty((T, K))  # latent states\n",
      "    alpha = np.empty((T, M))  # p(z_t|y_{1:T})\n",
      "    beta = np.empty((T, M))  # p(y_{t+1:T}|z_t) (unnormalized)\n",
      "    psi = np.empty((T, M))  # p(y_t|z_t) (observation model)\n",
      "    logpsi = np.empty((T, M))\n",
      "    gamma = np.empty((T, M))  # p(z_t|y_{1:T}) (posterior)\n",
      "    logZ = np.empty(T)  # log partition function\n",
      "\n",
      "    # Poisson observation model\n",
      "    # product over all units for each time\n",
      "    # z = 0\n",
      "    logpsi[:, 0] = np.sum(stats.poisson.logpmf(y, lam[..., 0]), axis=1)\n",
      "\n",
      "    # z = 1\n",
      "    logpsi[:, 1] = np.sum(stats.poisson.logpmf(y, lam[..., 1]), axis=1)\n",
      "    \n",
      "    # take care of underflow\n",
      "    logpsi = logpsi - np.amax(logpsi, 1, keepdims=True)\n",
      "    psi = np.exp(logpsi)\n",
      "    \n",
      "    # initialize\n",
      "    alpha[0, :] = pi0\n",
      "    beta[-1, :] = 1\n",
      "    logZ[0] = 0\n",
      "    \n",
      "    # forwards\n",
      "    for t in xrange(1, T):\n",
      "        a = psi[t, :] * (A.dot(alpha[t - 1, :]))\n",
      "        logZ[t] = np.sum(a)\n",
      "        alpha[t, :] = a / np.sum(a)\n",
      "        \n",
      "    # backwards\n",
      "    for t in xrange(T - 1, 0, -1):\n",
      "        b = A.T.dot(beta[t, :] * psi[t, :])\n",
      "        beta[t - 1, :] = b / np.sum(b)\n",
      "        \n",
      "    # posterior\n",
      "    gamma = alpha * beta\n",
      "    gamma = gamma / np.sum(gamma, 1, keepdims=True)\n",
      "    \n",
      "    # two-slice marginal matrix: xi = p(z_{t+1}, z_t|y_{1:T})\n",
      "    beta_shift = np.expand_dims(np.roll(beta * psi, shift=-1, axis=0), 2)\n",
      "\n",
      "    # take outer product; make sure t axis on alpha < T\n",
      "    # and t+1 axis on bp > 0\n",
      "    xi = beta_shift[1:] * alpha[:-1, np.newaxis, :]\n",
      "\n",
      "    #normalize\n",
      "    xi = xi / np.sum(xi, axis=(1, 2), keepdims=True)\n",
      "    \n",
      "    return gamma, np.sum(logZ), xi"
     ],
     "language": "python",
     "metadata": {},
     "outputs": [],
     "prompt_number": 20
    },
    {
     "cell_type": "markdown",
     "metadata": {},
     "source": [
      "Let's test this on some fake data:"
     ]
    },
    {
     "cell_type": "code",
     "collapsed": false,
     "input": [
      "idx = 0\n",
      "num_units = 10\n",
      "\n",
      "# series of states: ground truth\n",
      "ztest = chain[idx, :]\n",
      "\n",
      "# rates for each unit\n",
      "mu0 = np.random.rand(num_units)\n",
      "mu = 5 * np.random.rand(num_units)\n",
      "mu_stack = np.dstack([mu0, mu0 + mu])\n",
      "\n",
      "# series of observations: ground truth\n",
      "rates = mu0 + np.outer(ztest, mu)\n",
      "Ntest = stats.poisson.rvs(rates)\n",
      "\n",
      "# transition matrix\n",
      "to_1 = np.expand_dims(trans_probs[idx, :], 0)\n",
      "A = np.r_[1 - to_1, to_1]\n",
      "\n",
      "# initial belief about states\n",
      "pi_0 = np.array([0.5, 0.5])"
     ],
     "language": "python",
     "metadata": {},
     "outputs": [],
     "prompt_number": 21
    },
    {
     "cell_type": "code",
     "collapsed": false,
     "input": [
      "posterior, logZ, Xi_test = fb_infer(Ntest, mu_stack, A, pi_0)"
     ],
     "language": "python",
     "metadata": {},
     "outputs": [],
     "prompt_number": 22
    },
    {
     "cell_type": "code",
     "collapsed": false,
     "input": [
      "# plot results\n",
      "Trng = (0, 5000)\n",
      "plt.matshow(ztest[slice(*Trng)].reshape((-1, 1)).T, aspect='auto', cmap=cm.gray);\n",
      "plt.matshow(posterior[slice(*Trng), [1]].T, aspect='auto', cmap=cm.gray, vmin=0, vmax=1);"
     ],
     "language": "python",
     "metadata": {},
     "outputs": [
      {
       "metadata": {},
       "output_type": "display_data",
       "png": "[encoded data removed]",
       "text": [
        "<matplotlib.figure.Figure at 0x1093c4290>"
       ]
      },
      {
       "metadata": {},
       "output_type": "display_data",
       "png": "[encoded data removed]",
       "text": [
        "<matplotlib.figure.Figure at 0x1093fdad0>"
       ]
      }
     ],
     "prompt_number": 23
    },
    {
     "cell_type": "heading",
     "level": 2,
     "metadata": {},
     "source": [
      "Inference"
     ]
    },
    {
     "cell_type": "code",
     "collapsed": false,
     "input": [
      "from scipy.special import logit, digamma\n",
      "logistic = stats.logistic.cdf"
     ],
     "language": "python",
     "metadata": {},
     "outputs": [],
     "prompt_number": 24
    },
    {
     "cell_type": "code",
     "collapsed": false,
     "input": [
      "def prep_fb_pars(mu, xi, phi, pi, k, T):\n",
      "    # given variational parameters, return tuple of\n",
      "    # parameters suitable for passing to fb algorithm\n",
      "    # k is the index of the chain to convert\n",
      "    \n",
      "    # the observation at time t for unit u of chain k is N(t, u)\n",
      "    # the underlying Poisson rate is \n",
      "    # z_{tk}\\mu_{ku} + \\sum_{j \\neq k} \\xi_{tj}\\mu_{ju}\n",
      "    rate0 = xi.dot(mu) - xi[:, [k]] * mu[[k], :]\n",
      "    rate1 = rate0 + mu[k, :]\n",
      "    lam = np.dstack([rate0, rate1])\n",
      "    \n",
      "    # the initial belief about the chain can simply be extracted\n",
      "    pi_0 = np.array([1 - phi[k], phi[k]])\n",
      "    \n",
      "    # the transition matrix is constructed from the j -> 1 \n",
      "    # probabilities for each chain\n",
      "    to_1 = np.expand_dims(trans_probs[k, :], 0)\n",
      "    A = np.r_[1 - to_1, to_1]\n",
      "    \n",
      "    return (lam, A, pi_0)"
     ],
     "language": "python",
     "metadata": {},
     "outputs": [],
     "prompt_number": 25
    },
    {
     "cell_type": "code",
     "collapsed": false,
     "input": [
      "def update(N, pars):\n",
      "    (cmat, dmat, gamma_mat, delta_mat, \n",
      "     rho1_mat, rho2_mat, mu_mat,\n",
      "     phi_mat, pi_mat, xi_mat, Xi) = pars\n",
      "\n",
      "    T, U = N.shape\n",
      "    K = cmat.shape[0]\n",
      "    \n",
      "    ######### start by updating some parameters for the chains\n",
      "    \n",
      "    # update q(n|z)\n",
      "    mu_mat = cmat / dmat\n",
      "\n",
      "    # update q(z):\n",
      "\n",
      "    # phi\n",
      "    phi_mat = rho1_mat / (rho1_mat + rho2_mat)\n",
      "\n",
      "    # A(pi)\n",
      "    log_pi = digamma(gamma_mat) - digamma(gamma_mat + delta_mat)\n",
      "    pi_mat = np.exp(log_pi)\n",
      "    \n",
      "    ########## next, run forward-backward to get xi_mat and Xi\n",
      "    logZ = np.empty((K,))\n",
      "    for k in xrange(K):\n",
      "        fb_pars = prep_fb_pars(mu_mat, xi_mat, phi_mat, pi_mat, k, T)\n",
      "        post, logZ[k], Xi[..., k] = fb_infer(N, *fb_pars)\n",
      "        xi_mat[:, k] = post[:, 1]\n",
      "    \n",
      "    ########## now calculate sufficient statistics\n",
      "    mu_xi = xi_mat[:, :, np.newaxis] * mu_mat\n",
      "    n_mat = mu_xi\n",
      "\n",
      "    # update q(lambda)\n",
      "    cmat = amat + np.sum(n_mat, 0)\n",
      "    dmat = bmat + np.expand_dims(np.sum(xi_mat, axis=0), 1)\n",
      "    \n",
      "    # update q(tau)\n",
      "    Xi_red = np.sum(Xi, 0)\n",
      "    gamma_mat = Xi_red[1] + alpha_mat\n",
      "    delta_mat = Xi_red[0] + beta_mat\n",
      "    \n",
      "    # update q(zeta)\n",
      "    rho1_mat = upsilon1_mat + xi_mat[0]\n",
      "    rho2_mat = upsilon2_mat + 1 - xi_mat[0]\n",
      "    \n",
      "    pars = (cmat, dmat, gamma_mat, delta_mat, \n",
      "         rho1_mat, rho2_mat, mu_mat, \n",
      "         phi_mat, pi_mat, xi_mat, Xi)\n",
      "    \n",
      "    return pars"
     ],
     "language": "python",
     "metadata": {},
     "outputs": [],
     "prompt_number": 26
    },
    {
     "cell_type": "code",
     "collapsed": false,
     "input": [
      "# tuple of initial values\n",
      "pars0 = (cmat, dmat, gamma_mat, delta_mat, \n",
      "         rho1_mat, rho2_mat, mu_mat, \n",
      "         phi_mat, pi_mat, xi_mat, Xi)"
     ],
     "language": "python",
     "metadata": {},
     "outputs": [],
     "prompt_number": 27
    },
    {
     "cell_type": "code",
     "collapsed": false,
     "input": [
      "pars = update(N, pars0)"
     ],
     "language": "python",
     "metadata": {},
     "outputs": [],
     "prompt_number": 28
    },
    {
     "cell_type": "code",
     "collapsed": false,
     "input": [
      "parlist = [pars0]\n",
      "for ind in xrange(10):\n",
      "    pars = update(N, pars)\n",
      "    parlist.append(pars)"
     ],
     "language": "python",
     "metadata": {},
     "outputs": [],
     "prompt_number": 29
    },
    {
     "cell_type": "code",
     "collapsed": false,
     "input": [
      "Trng = (500, 1000)\n",
      "plt.matshow(chain[:, slice(*Trng)], aspect='auto', cmap=cm.gray, vmin=0, vmax=1);\n",
      "plt.matshow(pars[9].T[:, slice(*Trng)], aspect='auto', cmap=cm.gray, vmin=0, vmax=1);"
     ],
     "language": "python",
     "metadata": {},
     "outputs": [
      {
       "metadata": {},
       "output_type": "display_data",
       "png": "[encoded data removed]",
       "text": [
        "<matplotlib.figure.Figure at 0x109484750>"
       ]
      },
      {
       "metadata": {},
       "output_type": "display_data",
       "png": "[encoded data removed]",
       "text": [
        "<matplotlib.figure.Figure at 0x1093b5090>"
       ]
      }
     ],
     "prompt_number": 30
    },
    {
     "cell_type": "code",
     "collapsed": false,
     "input": [
      "plt.matshow(chain, aspect='auto', cmap=cm.gray, vmin=0, vmax=1);\n",
      "plt.matshow(pars[9].T, aspect='auto', cmap=cm.gray, vmin=0, vmax=1);"
     ],
     "language": "python",
     "metadata": {},
     "outputs": [
      {
       "metadata": {},
       "output_type": "display_data",
       "png": "[encoded data removed]",
       "text": [
        "<matplotlib.figure.Figure at 0x1093f17d0>"
       ]
      },
      {
       "metadata": {},
       "output_type": "display_data",
       "png": "[encoded data removed]",
       "text": [
        "<matplotlib.figure.Figure at 0x10945c790>"
       ]
      }
     ],
     "prompt_number": 31
    },
    {
     "cell_type": "code",
     "collapsed": false,
     "input": [],
     "language": "python",
     "metadata": {},
     "outputs": [],
     "prompt_number": 31
    }
   ],
   "metadata": {}
  }
 ]
}