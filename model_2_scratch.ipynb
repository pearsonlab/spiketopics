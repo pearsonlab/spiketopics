{
 "metadata": {
  "name": "",
  "signature": "sha256:be6bc1b7a97f4aec1c38a01208a3bee30b8ade4514a783a8087933c4aa5061a2"
 },
 "nbformat": 3,
 "nbformat_minor": 0,
 "worksheets": [
  {
   "cells": [
    {
     "cell_type": "heading",
     "level": 1,
     "metadata": {},
     "source": [
      "Model 2 Scratch"
     ]
    },
    {
     "cell_type": "markdown",
     "metadata": {},
     "source": [
      "Implement variational inference for a firing rate model with latent categorical factors following a hidden Markov model."
     ]
    },
    {
     "cell_type": "code",
     "collapsed": false,
     "input": [
      "from __future__ import division\n",
      "import numpy as np\n",
      "import scipy.stats as stats\n",
      "import matplotlib.pyplot as plt\n",
      "import matplotlib.cm as cm\n",
      "%matplotlib inline"
     ],
     "language": "python",
     "metadata": {},
     "outputs": [],
     "prompt_number": 1
    },
    {
     "cell_type": "heading",
     "level": 2,
     "metadata": {},
     "source": [
      "Let's make fake data"
     ]
    },
    {
     "cell_type": "code",
     "collapsed": false,
     "input": [
      "U = 120  # units\n",
      "T = 5000  # time points/frames\n",
      "K = 5  # categories\n",
      "dt = 1 / 30  # frames per second"
     ],
     "language": "python",
     "metadata": {},
     "outputs": [],
     "prompt_number": 2
    },
    {
     "cell_type": "code",
     "collapsed": false,
     "input": [
      "# 0 -> 1 transition should be small\n",
      "v0_a = 1\n",
      "v0_b = 100\n",
      "xx = np.linspace(0, 1, 1000)\n",
      "plt.plot(xx, stats.beta.pdf(xx, v0_a, v0_b));\n",
      "\n",
      "# 1 -> 1 transition should be large\n",
      "v1_a = 100\n",
      "v1_b = 1\n",
      "xx = np.linspace(0, 1, 1000)\n",
      "plt.plot(xx, stats.beta.pdf(xx, v1_a, v1_b));"
     ],
     "language": "python",
     "metadata": {},
     "outputs": [
      {
       "metadata": {},
       "output_type": "display_data",
       "png": "[encoded data removed]",
       "text": [
        "<matplotlib.figure.Figure at 0x109bc28d0>"
       ]
      }
     ],
     "prompt_number": 3
    },
    {
     "cell_type": "code",
     "collapsed": false,
     "input": [
      "# make vector of transition probabilities\n",
      "# each row is a category, each column the transition\n",
      "# probability from that state to state 1\n",
      "# (this is easy to do without matrices since we have\n",
      "# only two states)\n",
      "v0 = stats.beta.rvs(v0_a, v0_b, size=K)\n",
      "v1 = stats.beta.rvs(v1_a, v1_b, size=K)\n",
      "trans_probs = np.vstack([v0, v1]).T "
     ],
     "language": "python",
     "metadata": {},
     "outputs": [],
     "prompt_number": 4
    },
    {
     "cell_type": "code",
     "collapsed": false,
     "input": [
      "# pick initial states for each category\n",
      "z0_probs = stats.beta.rvs(50, 50, size=K)\n",
      "z0 = stats.bernoulli.rvs(z0_probs)"
     ],
     "language": "python",
     "metadata": {},
     "outputs": [],
     "prompt_number": 5
    },
    {
     "cell_type": "code",
     "collapsed": false,
     "input": [
      "# make the chain by evolving each category through time\n",
      "chain = np.empty((K, T), dtype='int')\n",
      "\n",
      "# initialize\n",
      "chain[:, 0] = z0\n",
      "\n",
      "for t in xrange(1, T):\n",
      "    p_trans_to_1 = trans_probs[range(K), chain[:, t - 1]]\n",
      "    chain[:, t] = stats.bernoulli.rvs(p_trans_to_1)"
     ],
     "language": "python",
     "metadata": {},
     "outputs": [],
     "prompt_number": 6
    },
    {
     "cell_type": "code",
     "collapsed": false,
     "input": [
      "# plot the categories through time\n",
      "Trng = (0, 500)\n",
      "plt.matshow(chain[:, slice(*Trng)], aspect='auto', cmap=cm.gray);"
     ],
     "language": "python",
     "metadata": {},
     "outputs": [
      {
       "metadata": {},
       "output_type": "display_data",
       "png": "[encoded data removed]",
       "text": [
        "<matplotlib.figure.Figure at 0x109bb0f10>"
       ]
      }
     ],
     "prompt_number": 7
    },
    {
     "cell_type": "code",
     "collapsed": false,
     "input": [
      "# set up firing rates for each category, unit\n",
      "lam = stats.gamma.rvs(a=10 / 3, scale=3, size=(K, U))"
     ],
     "language": "python",
     "metadata": {},
     "outputs": [],
     "prompt_number": 8
    },
    {
     "cell_type": "code",
     "collapsed": false,
     "input": [
      "# calculate rate for each time\n",
      "fr = chain.T.dot(lam) * dt\n",
      "fr = fr + 1e-5  # in case we get exactly 0\n",
      "\n",
      "# draw from Poisson\n",
      "N = stats.poisson.rvs(fr)"
     ],
     "language": "python",
     "metadata": {},
     "outputs": [],
     "prompt_number": 9
    },
    {
     "cell_type": "heading",
     "level": 2,
     "metadata": {},
     "source": [
      "Priors"
     ]
    },
    {
     "cell_type": "heading",
     "level": 3,
     "metadata": {},
     "source": [
      "$\\lambda$"
     ]
    },
    {
     "cell_type": "code",
     "collapsed": false,
     "input": [
      "amat = np.ones((K, U))\n",
      "bmat = 0.25 * np.ones((K, U))"
     ],
     "language": "python",
     "metadata": {},
     "outputs": [],
     "prompt_number": 10
    },
    {
     "cell_type": "heading",
     "level": 3,
     "metadata": {},
     "source": [
      "$\\tau$"
     ]
    },
    {
     "cell_type": "markdown",
     "metadata": {},
     "source": [
      "Here, we choose weakly informative priors based on the assumption that $\\tau_{0k} = \\tau_{0 \\rightarrow 1}$ is small and $\\tau_{1k} = \\tau_{1 \\rightarrow 1}$ is large."
     ]
    },
    {
     "cell_type": "code",
     "collapsed": false,
     "input": [
      "alpha_mat = np.r_[np.ones((1, K)), 10 * np.ones((1, K))]\n",
      "beta_mat = np.r_[10 * np.ones((1, K)), np.ones((1, K))]"
     ],
     "language": "python",
     "metadata": {},
     "outputs": [],
     "prompt_number": 11
    },
    {
     "cell_type": "heading",
     "level": 3,
     "metadata": {},
     "source": [
      "$\\zeta$"
     ]
    },
    {
     "cell_type": "code",
     "collapsed": false,
     "input": [
      "upsilon1_mat = np.ones((K,))\n",
      "upsilon2_mat = np.ones((K,))"
     ],
     "language": "python",
     "metadata": {},
     "outputs": [],
     "prompt_number": 12
    },
    {
     "cell_type": "code",
     "collapsed": false,
     "input": [
      "xx = np.linspace(0, 1, 1000)\n",
      "plt.plot(xx, stats.beta.pdf(xx, 1, 10));\n",
      "plt.plot(xx, stats.beta.pdf(xx, 10, 1));"
     ],
     "language": "python",
     "metadata": {},
     "outputs": [
      {
       "metadata": {},
       "output_type": "display_data",
       "png": "[encoded data removed]",
       "text": [
        "<matplotlib.figure.Figure at 0x109ec5190>"
       ]
      }
     ],
     "prompt_number": 13
    },
    {
     "cell_type": "heading",
     "level": 2,
     "metadata": {},
     "source": [
      "Initial Values"
     ]
    },
    {
     "cell_type": "heading",
     "level": 3,
     "metadata": {},
     "source": [
      "$q(\\lambda)$"
     ]
    },
    {
     "cell_type": "code",
     "collapsed": false,
     "input": [
      "cmat = np.ones((K, U)) + 0.05 * stats.norm.rvs(size=(K, U))\n",
      "dmat = 0.25 * (np.ones((K, U)) + 0.05 * stats.norm.rvs(size=(K, U)))"
     ],
     "language": "python",
     "metadata": {},
     "outputs": [],
     "prompt_number": 14
    },
    {
     "cell_type": "heading",
     "level": 3,
     "metadata": {},
     "source": [
      "$q(\\tau)$"
     ]
    },
    {
     "cell_type": "code",
     "collapsed": false,
     "input": [
      "gamma_mat = np.r_[np.ones((1, K)), 10 * np.ones((1, K))]\n",
      "delta_mat = np.r_[10 * np.ones((1, K)), np.ones((1, K))]"
     ],
     "language": "python",
     "metadata": {},
     "outputs": [],
     "prompt_number": 15
    },
    {
     "cell_type": "heading",
     "level": 3,
     "metadata": {},
     "source": [
      "$q(\\zeta)$"
     ]
    },
    {
     "cell_type": "code",
     "collapsed": false,
     "input": [
      "# non-informative (uniform) prior\n",
      "rho1_mat = np.ones((K,))\n",
      "rho2_mat = np.ones((K,))"
     ],
     "language": "python",
     "metadata": {},
     "outputs": [],
     "prompt_number": 16
    },
    {
     "cell_type": "heading",
     "level": 3,
     "metadata": {},
     "source": [
      "$q(n|z)$"
     ]
    },
    {
     "cell_type": "code",
     "collapsed": false,
     "input": [
      "# initialze eta parameters to partition observed firing \n",
      "# for each unit equally across categories\n",
      "mean_fr = np.mean(N, 0)  # mean firing rate for each units\n",
      "eta_mat = (1 / K) * mean_fr * np.ones((K, U))"
     ],
     "language": "python",
     "metadata": {},
     "outputs": [],
     "prompt_number": 17
    },
    {
     "cell_type": "heading",
     "level": 3,
     "metadata": {},
     "source": [
      "$q(z)$"
     ]
    },
    {
     "cell_type": "code",
     "collapsed": false,
     "input": [
      "# again, category-specific firing rates are initially\n",
      "# just means\n",
      "mu_mat = eta_mat\n",
      "\n",
      "# initial phi value also uniform prior on z0\n",
      "phi_mat = 0.5 * np.ones((K,))\n",
      "\n",
      "# for transition probability parameters, start low\n",
      "# and high, respectively\n",
      "pi_mat = np.r_[0.05 * np.ones((1, K)), 0.95 * np.ones((1, K))]"
     ],
     "language": "python",
     "metadata": {},
     "outputs": [],
     "prompt_number": 18
    },
    {
     "cell_type": "heading",
     "level": 2,
     "metadata": {},
     "source": [
      "Forward-Backward"
     ]
    },
    {
     "cell_type": "markdown",
     "metadata": {},
     "source": [
      "Given observations $y$, $\\pi_0$ (initial state distribution), and $A_{i \\rightarrow j}$ (transition matrix), return the posterior probabilities of the latent states $z_{1:T}$ and the partition function $Z = p(\\mathcal{D})$. Notational conventions for intermediate quantities in the algorithm follows Murphy (Machine Learning: A probabilistic approach). "
     ]
    },
    {
     "cell_type": "code",
     "collapsed": false,
     "input": [
      "def fb_infer(y, A, pi0):\n",
      "    # implement the forward-backward inference algorithm\n",
      "    # y is a times x units matrix of observations\n",
      "    # A is a matrix of transition probabilities that acts to the right:\n",
      "    # new_state = A * old_state, so that columns of A sum to 1\n",
      "    T = y.shape[0]\n",
      "    M = A.shape[0]\n",
      "    \n",
      "    # if we have multiple observations per time point, the effective\n",
      "    # observation is just their sum, since the observation model \n",
      "    # is exponential\n",
      "    yeff = np.sum(y, 1)\n",
      "\n",
      "    # initialize empty variables\n",
      "    zmat = np.empty((T, K))  # latent states\n",
      "    alpha = np.empty((T, M))  # p(z_t|y_{1:T})\n",
      "    beta = np.empty((T, M))  # p(y_{t+1:T}|z_t) (unnormalized)\n",
      "    psi = np.empty((T, M))  # p(y_t|z_t) (observation model)\n",
      "    gamma = np.empty((T, M))  # p(z_t|y_{1:T}) (posterior)\n",
      "    logZ = np.empty(T)  # log partition function\n",
      "\n",
      "    # spike and slab model for observations:\n",
      "    # p(mu|z=0) = 0 unless mu = 0\n",
      "    zmin = 1e-6\n",
      "    psi[:, 0] = stats.expon.pdf(yeff, scale=zmin)\n",
      "\n",
      "    # p(mu|z=1)\n",
      "    psi[:, 1] = stats.expon.pdf(yeff)\n",
      "    \n",
      "    # initialize\n",
      "    alpha[0, :] = pi0\n",
      "    beta[-1, :] = 1\n",
      "    logZ[0] = 0\n",
      "    \n",
      "    # forwards\n",
      "    for t in xrange(1, T):\n",
      "        a = psi[t, :] * (A.dot(alpha[t - 1, :]))\n",
      "        logZ[t] = np.sum(a)\n",
      "        alpha[t, :] = a / np.sum(a)\n",
      "        \n",
      "    # backwards\n",
      "    for t in xrange(T - 1, 0, -1):\n",
      "        b = A.T.dot(beta[t, :] * psi[t, :])\n",
      "        beta[t - 1, :] = b / np.sum(b)\n",
      "        \n",
      "    # posterior\n",
      "    gamma = alpha * beta\n",
      "    gamma = gamma / np.sum(gamma, 1, keepdims=True)\n",
      "    \n",
      "    # two-slice marginal matrix: xi = p(z_{t+1}, z_t|y_{1:T})\n",
      "    beta_shift = np.expand_dims(np.roll(beta * psi, shift=-1, axis=0), 2)\n",
      "\n",
      "    # take outer product; make sure t axis on alpha < T\n",
      "    # and t+1 axis on bp > 0\n",
      "    xi = beta_shift[1:] * alpha[:-1, np.newaxis, :]\n",
      "\n",
      "    #normalize\n",
      "    xi = xi / np.sum(xi, axis=(1, 2), keepdims=True)\n",
      "    \n",
      "    return gamma, np.sum(logZ), xi"
     ],
     "language": "python",
     "metadata": {},
     "outputs": [],
     "prompt_number": 19
    },
    {
     "cell_type": "markdown",
     "metadata": {},
     "source": [
      "Let's test this on some fake data:"
     ]
    },
    {
     "cell_type": "code",
     "collapsed": false,
     "input": [
      "idx = 0\n",
      "num_units = 10\n",
      "\n",
      "# series of states: ground truth\n",
      "ztest = chain[idx, :]\n",
      "\n",
      "# series of observations: ground truth\n",
      "ytest = np.zeros((ztest.size, num_units))\n",
      "to_draw = np.nonzero(ztest)[0]\n",
      "ytest = ytest.astype('float')\n",
      "ytest[to_draw] = np.tile(stats.expon.rvs(size=num_units), (to_draw.size, 1))\n",
      "\n",
      "# transition matrix\n",
      "to_1 = np.expand_dims(trans_probs[idx, :], 0)\n",
      "A = np.r_[1 - to_1, to_1]\n",
      "\n",
      "# initial belief about states\n",
      "pi_0 = np.array([0.5, 0.5])"
     ],
     "language": "python",
     "metadata": {},
     "outputs": [],
     "prompt_number": 20
    },
    {
     "cell_type": "code",
     "collapsed": false,
     "input": [
      "posterior, logZ, Xi = fb_infer(ytest, A, pi_0)"
     ],
     "language": "python",
     "metadata": {},
     "outputs": [],
     "prompt_number": 21
    },
    {
     "cell_type": "code",
     "collapsed": false,
     "input": [
      "# plot results\n",
      "Trng = (0, 5000)\n",
      "plt.matshow(ztest[slice(*Trng)].reshape((-1, 1)).T, aspect='auto', cmap=cm.gray);\n",
      "plt.matshow(posterior[slice(*Trng), [1]].T, aspect='auto', cmap=cm.gray, vmin=0, vmax=1);"
     ],
     "language": "python",
     "metadata": {},
     "outputs": [
      {
       "metadata": {},
       "output_type": "display_data",
       "png": "[encoded data removed]",
       "text": [
        "<matplotlib.figure.Figure at 0x109eb2d10>"
       ]
      },
      {
       "metadata": {},
       "output_type": "display_data",
       "png": "[encoded data removed]",
       "text": [
        "<matplotlib.figure.Figure at 0x109c9e610>"
       ]
      }
     ],
     "prompt_number": 22
    },
    {
     "cell_type": "heading",
     "level": 2,
     "metadata": {},
     "source": [
      "Inference"
     ]
    },
    {
     "cell_type": "code",
     "collapsed": false,
     "input": [
      "from scipy.special import logit, digamma\n",
      "logistic = stats.logistic.cdf"
     ],
     "language": "python",
     "metadata": {},
     "outputs": [],
     "prompt_number": 23
    },
    {
     "cell_type": "code",
     "collapsed": false,
     "input": [
      "# tuple of initial values\n",
      "pars0 = (cmat, dmat, gamma_mat, delta_mat, \n",
      "         rho1_mat, rho2_mat, eta_mat, mu_mat, \n",
      "         phi_mat, pi_mat)"
     ],
     "language": "python",
     "metadata": {},
     "outputs": [],
     "prompt_number": 24
    },
    {
     "cell_type": "code",
     "collapsed": false,
     "input": [
      "def prep_fb_pars(mu, phi, pi, k, T):\n",
      "    # given variational parameters, return tuple of\n",
      "    # parameters suitable for passing to fb algorithm\n",
      "    # k is the index of the chain to convert\n",
      "    \n",
      "    # the observation at time t for unit u of chain k is mu(k, u)\n",
      "    y = np.tile(mu[k], (T, 1))  # y(t, u)\n",
      "    \n",
      "    # the initial belief about the chain can simply be extracted\n",
      "    pi_0 = np.array([1 - phi[k], phi[k]])\n",
      "    \n",
      "    # the transition matrix is constructed from the j -> 1 \n",
      "    # probabilities for each chain\n",
      "    to_1 = np.expand_dims(trans_probs[k, :], 0)\n",
      "    A = np.r_[1 - to_1, to_1]\n",
      "    \n",
      "    return (y, A, pi_0)"
     ],
     "language": "python",
     "metadata": {},
     "outputs": [],
     "prompt_number": 43
    },
    {
     "cell_type": "code",
     "collapsed": false,
     "input": [
      "def update(N, pars):\n",
      "    (cmat, dmat, gamma_mat, delta_mat, \n",
      "     rho1_mat, rho2_mat, eta_mat, mu_mat,\n",
      "     phi_mat, pi_mat) = pars\n",
      "\n",
      "    T, U = N.shape\n",
      "    K = cmat.shape[0]\n",
      "    \n",
      "    # first thing: to get sufficient statistics for \n",
      "    # z and n, we need to run forwards-backwards\n",
      "    xi_mat = np.empty((T, K))\n",
      "    logZ = np.empty((K,))\n",
      "    Xi = np.empty((T - 1, 2, 2, K))\n",
      "    for k in xrange(K):\n",
      "        fb_pars = prep_fb_pars(mu_mat, phi_mat, pi_mat, k, T)\n",
      "        post, logZ[k], Xi[..., k] = fb_infer(*fb_pars)\n",
      "        xi_mat[:, k] = post[:, 1]\n",
      "\n",
      "    # we need to calculate E[n] and E[z]\n",
      "    # E[z] = xi_mat is easy\n",
      "    # E[n_k] = E[eta_k z_k/eta^T z] is O(2^N)\n",
      "    # for expediency, we round xi to get the pointwise MAP estimate and use that\n",
      "    z_MAP = np.around(xi_mat)\n",
      "    eta_xi = xi_mat[:, :, np.newaxis] * eta_mat\n",
      "    norm = np.sum(eta_xi, 1, keepdims=True)\n",
      "    n_mat = N[:, np.newaxis, :] * eta_xi / norm\n",
      "\n",
      "    # update q(lambda)\n",
      "    cmat = amat + np.sum(n_mat, 0)\n",
      "    dmat = bmat + np.expand_dims(np.sum(xi_mat, axis=0), 1)\n",
      "\n",
      "    # update q(tau)\n",
      "    Xi_red = np.sum(Xi, 0)\n",
      "    gamma_mat = Xi_red[1] + alpha_mat\n",
      "    delta_mat = Xi_red[0] + beta_mat\n",
      "\n",
      "    # update q(zeta)\n",
      "    rho1_mat = upsilon1_mat + xi_mat[0]\n",
      "    rho2_mat = upsilon2_mat + 1 - xi_mat[0]\n",
      "\n",
      "    # update q(n|z)\n",
      "    log_eta = digamma(cmat) - np.log(dmat)\n",
      "    eta_mat = np.exp(log_eta)\n",
      "\n",
      "    # update q(z)\n",
      "\n",
      "    # phi\n",
      "    phi_mat = rho1_mat / (rho1_mat + rho2_mat)\n",
      "\n",
      "    # A(pi)\n",
      "    log_pi = digamma(gamma_mat) - digamma(gamma_mat + delta_mat)\n",
      "    pi_mat = np.exp(log_pi)\n",
      "\n",
      "    # mu\n",
      "    mu_mat = cmat / dmat\n",
      "    \n",
      "    pars = (cmat, dmat, gamma_mat, delta_mat, \n",
      "         rho1_mat, rho2_mat, eta_mat, mu_mat, \n",
      "         phi_mat, pi_mat)\n",
      "    \n",
      "    return pars, xi_mat"
     ],
     "language": "python",
     "metadata": {},
     "outputs": [],
     "prompt_number": 44
    },
    {
     "cell_type": "code",
     "collapsed": false,
     "input": [
      "pars, zmat = update(N, pars0)"
     ],
     "language": "python",
     "metadata": {},
     "outputs": [],
     "prompt_number": 45
    },
    {
     "cell_type": "code",
     "collapsed": false,
     "input": [
      "parlist = [pars0]\n",
      "for ind in xrange(10):\n",
      "    pars, zmat = update(N, pars)\n",
      "    parlist.append(pars)"
     ],
     "language": "python",
     "metadata": {},
     "outputs": [],
     "prompt_number": 47
    },
    {
     "cell_type": "code",
     "collapsed": false,
     "input": [
      "Trng = (500, 1000)\n",
      "plt.matshow(chain[:, slice(*Trng)], aspect='auto', cmap=cm.gray, vmin=0, vmax=1);\n",
      "plt.matshow(zmat.T[:, slice(*Trng)], aspect='auto', cmap=cm.gray, vmin=0, vmax=1);"
     ],
     "language": "python",
     "metadata": {},
     "outputs": [
      {
       "metadata": {},
       "output_type": "display_data",
       "png": "[encoded data removed]",
       "text": [
        "<matplotlib.figure.Figure at 0x10a4c1e90>"
       ]
      },
      {
       "metadata": {},
       "output_type": "display_data",
       "png": "[encoded data removed]",
       "text": [
        "<matplotlib.figure.Figure at 0x109d45c90>"
       ]
      }
     ],
     "prompt_number": 49
    },
    {
     "cell_type": "code",
     "collapsed": false,
     "input": [],
     "language": "python",
     "metadata": {},
     "outputs": []
    }
   ],
   "metadata": {}
  }
 ]
}