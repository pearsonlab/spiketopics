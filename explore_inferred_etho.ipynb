{
 "cells": [
  {
   "cell_type": "code",
   "execution_count": 17,
   "metadata": {
    "collapsed": false
   },
   "outputs": [],
   "source": [
    "from __future__ import division\n",
    "import numpy as np\n",
    "import pandas as pd\n",
    "import matplotlib.pyplot as plt\n",
    "import seaborn as sns\n",
    "import matplotlib.cm as cm\n",
    "import cPickle as pickle\n",
    "from helpers import *\n",
    "\n",
    "%matplotlib inline\n",
    "sns.set_style('darkgrid')"
   ]
  },
  {
   "cell_type": "markdown",
   "metadata": {},
   "source": [
    "# Load in data"
   ]
  },
  {
   "cell_type": "code",
   "execution_count": 3,
   "metadata": {
    "collapsed": true
   },
   "outputs": [],
   "source": [
    "infile = 'data/fitted_model_object.pkl'\n",
    "gpm = pickle.load(open(infile, 'rb'))\n",
    "dt = 1 / 30."
   ]
  },
  {
   "cell_type": "code",
   "execution_count": 4,
   "metadata": {
    "collapsed": false
   },
   "outputs": [
    {
     "data": {
      "text/html": [
       "<div style=\"max-height:1000px;max-width:1500px;overflow:auto;\">\n",
       "<table border=\"1\" class=\"dataframe\">\n",
       "  <thead>\n",
       "    <tr style=\"text-align: right;\">\n",
       "      <th></th>\n",
       "      <th>unit</th>\n",
       "      <th>time</th>\n",
       "      <th>count</th>\n",
       "      <th>lam0</th>\n",
       "      <th>lam1</th>\n",
       "    </tr>\n",
       "  </thead>\n",
       "  <tbody>\n",
       "    <tr>\n",
       "      <th>0</th>\n",
       "      <td> 10</td>\n",
       "      <td> 0</td>\n",
       "      <td> 0</td>\n",
       "      <td>-0.138828</td>\n",
       "      <td>-0.138838</td>\n",
       "    </tr>\n",
       "    <tr>\n",
       "      <th>1</th>\n",
       "      <td> 11</td>\n",
       "      <td> 0</td>\n",
       "      <td> 0</td>\n",
       "      <td>-1.804539</td>\n",
       "      <td>-1.796516</td>\n",
       "    </tr>\n",
       "    <tr>\n",
       "      <th>2</th>\n",
       "      <td> 10</td>\n",
       "      <td> 1</td>\n",
       "      <td> 0</td>\n",
       "      <td>-0.102298</td>\n",
       "      <td>-0.102305</td>\n",
       "    </tr>\n",
       "    <tr>\n",
       "      <th>3</th>\n",
       "      <td> 11</td>\n",
       "      <td> 1</td>\n",
       "      <td> 4</td>\n",
       "      <td>-2.582745</td>\n",
       "      <td>-2.589395</td>\n",
       "    </tr>\n",
       "    <tr>\n",
       "      <th>4</th>\n",
       "      <td> 10</td>\n",
       "      <td> 2</td>\n",
       "      <td> 0</td>\n",
       "      <td>-0.080524</td>\n",
       "      <td>-0.080530</td>\n",
       "    </tr>\n",
       "  </tbody>\n",
       "</table>\n",
       "</div>"
      ],
      "text/plain": [
       "   unit  time  count      lam0      lam1\n",
       "0    10     0      0 -0.138828 -0.138838\n",
       "1    11     0      0 -1.804539 -1.796516\n",
       "2    10     1      0 -0.102298 -0.102305\n",
       "3    11     1      4 -2.582745 -2.589395\n",
       "4    10     2      0 -0.080524 -0.080530"
      ]
     },
     "execution_count": 4,
     "metadata": {},
     "output_type": "execute_result"
    }
   ],
   "source": [
    "gpm.Nframe.head()"
   ]
  },
  {
   "cell_type": "code",
   "execution_count": 5,
   "metadata": {
    "collapsed": false
   },
   "outputs": [
    {
     "data": {
      "text/html": [
       "<div style=\"max-height:1000px;max-width:1500px;overflow:auto;\">\n",
       "<table border=\"1\" class=\"dataframe\">\n",
       "  <thead>\n",
       "    <tr style=\"text-align: right;\">\n",
       "      <th></th>\n",
       "      <th>X0</th>\n",
       "      <th>X1</th>\n",
       "      <th>X2</th>\n",
       "    </tr>\n",
       "  </thead>\n",
       "  <tbody>\n",
       "    <tr>\n",
       "      <th>0</th>\n",
       "      <td> 1.749200</td>\n",
       "      <td> 0.083333</td>\n",
       "      <td> 0.000000</td>\n",
       "    </tr>\n",
       "    <tr>\n",
       "      <th>1</th>\n",
       "      <td> 0.716926</td>\n",
       "      <td> 0.092861</td>\n",
       "      <td> 0.000000</td>\n",
       "    </tr>\n",
       "    <tr>\n",
       "      <th>2</th>\n",
       "      <td> 1.386294</td>\n",
       "      <td> 1.395833</td>\n",
       "      <td> 3.461310</td>\n",
       "    </tr>\n",
       "    <tr>\n",
       "      <th>3</th>\n",
       "      <td> 0.750306</td>\n",
       "      <td> 0.349570</td>\n",
       "      <td> 0.720427</td>\n",
       "    </tr>\n",
       "    <tr>\n",
       "      <th>4</th>\n",
       "      <td> 1.609438</td>\n",
       "      <td> 2.033333</td>\n",
       "      <td> 2.786310</td>\n",
       "    </tr>\n",
       "  </tbody>\n",
       "</table>\n",
       "</div>"
      ],
      "text/plain": [
       "         X0        X1        X2\n",
       "0  1.749200  0.083333  0.000000\n",
       "1  0.716926  0.092861  0.000000\n",
       "2  1.386294  1.395833  3.461310\n",
       "3  0.750306  0.349570  0.720427\n",
       "4  1.609438  2.033333  2.786310"
      ]
     },
     "execution_count": 5,
     "metadata": {},
     "output_type": "execute_result"
    }
   ],
   "source": [
    "gpm.Xframe.head()"
   ]
  },
  {
   "cell_type": "markdown",
   "metadata": {},
   "source": [
    "# Plot inferred categories as matrix"
   ]
  },
  {
   "cell_type": "code",
   "execution_count": 6,
   "metadata": {
    "collapsed": false
   },
   "outputs": [
    {
     "name": "stdout",
     "output_type": "stream",
     "text": [
      "(100001, 5)\n"
     ]
    }
   ],
   "source": [
    "xi = gpm.nodes['HMM'].nodes['z'].z[1]\n",
    "print xi.shape"
   ]
  },
  {
   "cell_type": "code",
   "execution_count": 10,
   "metadata": {
    "collapsed": false
   },
   "outputs": [
    {
     "data": {
      "image/png": "[encoded data removed]",
      "text/plain": [
       "<matplotlib.figure.Figure at 0x1067dd450>"
      ]
     },
     "metadata": {},
     "output_type": "display_data"
    }
   ],
   "source": [
    "matshow(xi[:5000].T, vmin=0, vmax=1)"
   ]
  },
  {
   "cell_type": "markdown",
   "metadata": {},
   "source": [
    "# Posteriors for effects"
   ]
  },
  {
   "cell_type": "markdown",
   "metadata": {},
   "source": [
    "## Baselines"
   ]
  },
  {
   "cell_type": "code",
   "execution_count": 40,
   "metadata": {
    "collapsed": false
   },
   "outputs": [
    {
     "data": {
      "image/png": "[encoded data removed]",
      "text/plain": [
       "<matplotlib.figure.Figure at 0x116da7810>"
      ]
     },
     "metadata": {},
     "output_type": "display_data"
    }
   ],
   "source": [
    "plt.figure(figsize=(14, 4))\n",
    "\n",
    "th = gpm.nodes['baseline_mean']\n",
    "cc = gpm.nodes['baseline_shape']\n",
    "th_pars = [th.post_shape, th.post_rate]\n",
    "cc_pars = [cc.post_shape, cc.post_rate]\n",
    "samples = gamma_from_hypers(th_pars, cc_pars, 1e5)\n",
    "\n",
    "plt.subplot(1, 3, 1)\n",
    "xx = np.linspace(0, 20, 500)\n",
    "plt.plot(xx, stats.invgamma.pdf(xx, a=th_pars[0], scale=th_pars[1]/dt))\n",
    "plt.title('Baseline mean parameter posterior');\n",
    "\n",
    "plt.subplot(1, 3, 2)\n",
    "xx = np.linspace(0, 2, 500)\n",
    "plt.plot(xx, stats.invgamma.pdf(xx, a=cc_pars[0], scale=cc_pars[1]))\n",
    "plt.title('Baseline variance parameter posterior');\n",
    "\n",
    "plt.subplot(1, 3, 3)\n",
    "sns.kdeplot(samples / dt, gridsize=1e4, clip=(0, 100))\n",
    "plt.title('baseline posterior distribution')\n",
    "plt.xlabel('Firing rate (Hz)')\n",
    "plt.xlim(0, 100);"
   ]
  },
  {
   "cell_type": "markdown",
   "metadata": {},
   "source": [
    "## Regressors"
   ]
  },
  {
   "cell_type": "code",
   "execution_count": 43,
   "metadata": {
    "collapsed": false
   },
   "outputs": [
    {
     "data": {
      "image/png": "[encoded data removed]",
      "text/plain": [
       "<matplotlib.figure.Figure at 0x11a60a390>"
      ]
     },
     "metadata": {},
     "output_type": "display_data"
    }
   ],
   "source": [
    "plt.figure(figsize=(8, 6))\n",
    "inferred_means = gpm.nodes['fr_regressors'].expected_x()\n",
    "R = inferred_means.shape[1]\n",
    "for r in xrange(R):\n",
    "    plt.hist(inferred_means[:, r], bins=50, normed=True, alpha=0.25, label='X' + str(r))\n",
    "plt.title('Regression effects');\n",
    "plt.legend()\n",
    "plt.ylim(0, 5);\n",
    "plt.xlim(0, 5);"
   ]
  },
  {
   "cell_type": "markdown",
   "metadata": {},
   "source": [
    "## Latent Categories"
   ]
  },
  {
   "cell_type": "code",
   "execution_count": 37,
   "metadata": {
    "collapsed": false
   },
   "outputs": [
    {
     "data": {
      "image/png": "[encoded data removed]",
      "text/plain": [
       "<matplotlib.figure.Figure at 0x11bf500d0>"
      ]
     },
     "metadata": {},
     "output_type": "display_data"
    }
   ],
   "source": [
    "plt.figure(figsize=(16, 4))\n",
    "\n",
    "th = gpm.nodes['fr_latents_mean']\n",
    "cc = gpm.nodes['fr_latents_shape']\n",
    "\n",
    "K = th.post_shape.shape[0]\n",
    "\n",
    "th_pars = np.c_[th.post_shape, th.post_rate].T\n",
    "cc_pars = np.c_[cc.post_shape, cc.post_rate].T\n",
    "\n",
    "plt.subplot(1, 3, 1)\n",
    "xx = np.linspace(0, 2, 500)\n",
    "for kk in xrange(K):\n",
    "    plt.plot(xx, stats.invgamma.pdf(xx, a=th_pars[0, kk], scale=th_pars[1, kk]), label='Z' + str(kk))\n",
    "plt.legend()\n",
    "plt.title('effect mean posterior');\n",
    "\n",
    "plt.subplot(1, 3, 2)\n",
    "xx = np.linspace(0, 5, 500)\n",
    "for kk in xrange(K):\n",
    "    plt.plot(xx, stats.invgamma.pdf(xx, a=cc_pars[0, kk], scale=cc_pars[1, kk]), label='Z' + str(kk))\n",
    "plt.legend()\n",
    "plt.title('effect variance parameter posterior');\n",
    "\n",
    "plt.subplot(1, 3, 3)\n",
    "for kk in xrange(K):\n",
    "    samples = gamma_from_hypers(th_pars[:, kk], cc_pars[:, kk], 1e5)\n",
    "    sns.kdeplot(samples, gridsize=1e4, clip=(0, 10), label='Z' + str(kk))\n",
    "plt.legend()\n",
    "plt.title(r'$\\lambda$ effect posterior distribution')\n",
    "plt.xlabel('Firing rate (Hz)')\n",
    "plt.xlim(0, 2);"
   ]
  },
  {
   "cell_type": "code",
   "execution_count": 44,
   "metadata": {
    "collapsed": false
   },
   "outputs": [
    {
     "data": {
      "image/png": "[encoded data removed]",
      "text/plain": [
       "<matplotlib.figure.Figure at 0x11a8dee50>"
      ]
     },
     "metadata": {},
     "output_type": "display_data"
    }
   ],
   "source": [
    "plt.figure(figsize=(8, 6))\n",
    "\n",
    "inferred_effects = gpm.nodes['fr_latents'].expected_x()\n",
    "for kk in xrange(K):\n",
    "    plt.hist(inferred_effects[..., kk], bins=50, normed=True, alpha=0.25, label='Z' + str(kk));\n",
    "plt.legend();\n",
    "plt.title('Firing rate effects');"
   ]
  },
  {
   "cell_type": "markdown",
   "metadata": {},
   "source": [
    "## Overdispersion"
   ]
  },
  {
   "cell_type": "code",
   "execution_count": 45,
   "metadata": {
    "collapsed": false
   },
   "outputs": [
    {
     "data": {
      "image/png": "[encoded data removed]",
      "text/plain": [
       "<matplotlib.figure.Figure at 0x11cfcafd0>"
      ]
     },
     "metadata": {},
     "output_type": "display_data"
    }
   ],
   "source": [
    "plt.figure(figsize=(8, 6))\n",
    "\n",
    "inferred_means = gpm.nodes['overdispersion'].expected_x().ravel()\n",
    "plt.hist(inferred_means, bins=500, normed=True, alpha=0.25);\n",
    "plt.title('Overdispersion effects');\n",
    "plt.ylim(0, 2);"
   ]
  },
  {
   "cell_type": "markdown",
   "metadata": {},
   "source": [
    "# Load and prepare ethogram:"
   ]
  },
  {
   "cell_type": "markdown",
   "metadata": {},
   "source": [
    "Our goal here is to load the ethogram, join it to the inferred ethogram, and perform some comparisons to see if any of our discovered categories match hand-labeled categories from the ethogram."
   ]
  },
  {
   "cell_type": "code",
   "execution_count": 8,
   "metadata": {
    "collapsed": false
   },
   "outputs": [
    {
     "name": "stderr",
     "output_type": "stream",
     "text": [
      "/Users/jmxp/anaconda/lib/python2.7/site-packages/pandas/io/parsers.py:1159: DtypeWarning: Columns (11) have mixed types. Specify dtype option on import or set low_memory=False.\n",
      "  data = self._reader.read(nrows)\n"
     ]
    }
   ],
   "source": [
    "ethofile = 'sql/etho.csv'\n",
    "etho = pd.read_csv(ethofile)"
   ]
  },
  {
   "cell_type": "code",
   "execution_count": 9,
   "metadata": {
    "collapsed": false
   },
   "outputs": [
    {
     "data": {
      "text/html": [
       "<div style=\"max-height:1000px;max-width:1500px;overflow:auto;\">\n",
       "<table border=\"1\" class=\"dataframe\">\n",
       "  <thead>\n",
       "    <tr style=\"text-align: right;\">\n",
       "      <th></th>\n",
       "      <th>movieId</th>\n",
       "      <th>frameTime</th>\n",
       "      <th>frameNumber</th>\n",
       "      <th>ethoCameraLabel</th>\n",
       "      <th>ethoCameraLevel</th>\n",
       "      <th>ethoCameraHolding</th>\n",
       "      <th>ethoCameraZoomingIn</th>\n",
       "      <th>ethoCameraZoomingOut</th>\n",
       "      <th>ethoCameraTracking</th>\n",
       "      <th>ethoCameraPanning</th>\n",
       "      <th>...</th>\n",
       "      <th>ethoCharge</th>\n",
       "      <th>ethoChase</th>\n",
       "      <th>ethoFlee</th>\n",
       "      <th>ethoThreaten</th>\n",
       "      <th>ethoMountedThreaten</th>\n",
       "      <th>ethoSubmit</th>\n",
       "      <th>ethoDisplace</th>\n",
       "      <th>ethoLeanAway</th>\n",
       "      <th>ethoAvoid</th>\n",
       "      <th>ethoBranchDisplay</th>\n",
       "    </tr>\n",
       "  </thead>\n",
       "  <tbody>\n",
       "    <tr>\n",
       "      <th>0</th>\n",
       "      <td> 1</td>\n",
       "      <td> 0.0000</td>\n",
       "      <td> 0</td>\n",
       "      <td> holding</td>\n",
       "      <td> 0</td>\n",
       "      <td> 1</td>\n",
       "      <td> 0</td>\n",
       "      <td> 0</td>\n",
       "      <td> 0</td>\n",
       "      <td> 0</td>\n",
       "      <td>...</td>\n",
       "      <td> 0</td>\n",
       "      <td> 0</td>\n",
       "      <td> 0</td>\n",
       "      <td> 0</td>\n",
       "      <td> 0</td>\n",
       "      <td> 0</td>\n",
       "      <td> 0</td>\n",
       "      <td> 0</td>\n",
       "      <td> 0</td>\n",
       "      <td> 0</td>\n",
       "    </tr>\n",
       "    <tr>\n",
       "      <th>1</th>\n",
       "      <td> 1</td>\n",
       "      <td> 0.0333</td>\n",
       "      <td> 1</td>\n",
       "      <td> holding</td>\n",
       "      <td> 0</td>\n",
       "      <td> 1</td>\n",
       "      <td> 0</td>\n",
       "      <td> 0</td>\n",
       "      <td> 0</td>\n",
       "      <td> 0</td>\n",
       "      <td>...</td>\n",
       "      <td> 0</td>\n",
       "      <td> 0</td>\n",
       "      <td> 0</td>\n",
       "      <td> 0</td>\n",
       "      <td> 0</td>\n",
       "      <td> 0</td>\n",
       "      <td> 0</td>\n",
       "      <td> 0</td>\n",
       "      <td> 0</td>\n",
       "      <td> 0</td>\n",
       "    </tr>\n",
       "    <tr>\n",
       "      <th>2</th>\n",
       "      <td> 1</td>\n",
       "      <td> 0.0667</td>\n",
       "      <td> 2</td>\n",
       "      <td> holding</td>\n",
       "      <td> 0</td>\n",
       "      <td> 1</td>\n",
       "      <td> 0</td>\n",
       "      <td> 0</td>\n",
       "      <td> 0</td>\n",
       "      <td> 0</td>\n",
       "      <td>...</td>\n",
       "      <td> 0</td>\n",
       "      <td> 0</td>\n",
       "      <td> 0</td>\n",
       "      <td> 0</td>\n",
       "      <td> 0</td>\n",
       "      <td> 0</td>\n",
       "      <td> 0</td>\n",
       "      <td> 0</td>\n",
       "      <td> 0</td>\n",
       "      <td> 0</td>\n",
       "    </tr>\n",
       "    <tr>\n",
       "      <th>3</th>\n",
       "      <td> 1</td>\n",
       "      <td> 0.1000</td>\n",
       "      <td> 3</td>\n",
       "      <td> holding</td>\n",
       "      <td> 0</td>\n",
       "      <td> 1</td>\n",
       "      <td> 0</td>\n",
       "      <td> 0</td>\n",
       "      <td> 0</td>\n",
       "      <td> 0</td>\n",
       "      <td>...</td>\n",
       "      <td> 0</td>\n",
       "      <td> 0</td>\n",
       "      <td> 0</td>\n",
       "      <td> 0</td>\n",
       "      <td> 0</td>\n",
       "      <td> 0</td>\n",
       "      <td> 0</td>\n",
       "      <td> 0</td>\n",
       "      <td> 0</td>\n",
       "      <td> 0</td>\n",
       "    </tr>\n",
       "    <tr>\n",
       "      <th>4</th>\n",
       "      <td> 1</td>\n",
       "      <td> 0.1333</td>\n",
       "      <td> 4</td>\n",
       "      <td> holding</td>\n",
       "      <td> 0</td>\n",
       "      <td> 1</td>\n",
       "      <td> 0</td>\n",
       "      <td> 0</td>\n",
       "      <td> 0</td>\n",
       "      <td> 0</td>\n",
       "      <td>...</td>\n",
       "      <td> 0</td>\n",
       "      <td> 0</td>\n",
       "      <td> 0</td>\n",
       "      <td> 0</td>\n",
       "      <td> 0</td>\n",
       "      <td> 0</td>\n",
       "      <td> 0</td>\n",
       "      <td> 0</td>\n",
       "      <td> 0</td>\n",
       "      <td> 0</td>\n",
       "    </tr>\n",
       "  </tbody>\n",
       "</table>\n",
       "<p>5 rows × 75 columns</p>\n",
       "</div>"
      ],
      "text/plain": [
       "   movieId  frameTime  frameNumber ethoCameraLabel  ethoCameraLevel  \\\n",
       "0        1     0.0000            0         holding                0   \n",
       "1        1     0.0333            1         holding                0   \n",
       "2        1     0.0667            2         holding                0   \n",
       "3        1     0.1000            3         holding                0   \n",
       "4        1     0.1333            4         holding                0   \n",
       "\n",
       "   ethoCameraHolding  ethoCameraZoomingIn  ethoCameraZoomingOut  \\\n",
       "0                  1                    0                     0   \n",
       "1                  1                    0                     0   \n",
       "2                  1                    0                     0   \n",
       "3                  1                    0                     0   \n",
       "4                  1                    0                     0   \n",
       "\n",
       "   ethoCameraTracking  ethoCameraPanning        ...          ethoCharge  \\\n",
       "0                   0                  0        ...                   0   \n",
       "1                   0                  0        ...                   0   \n",
       "2                   0                  0        ...                   0   \n",
       "3                   0                  0        ...                   0   \n",
       "4                   0                  0        ...                   0   \n",
       "\n",
       "  ethoChase  ethoFlee  ethoThreaten  ethoMountedThreaten  ethoSubmit  \\\n",
       "0         0         0             0                    0           0   \n",
       "1         0         0             0                    0           0   \n",
       "2         0         0             0                    0           0   \n",
       "3         0         0             0                    0           0   \n",
       "4         0         0             0                    0           0   \n",
       "\n",
       "   ethoDisplace  ethoLeanAway  ethoAvoid  ethoBranchDisplay  \n",
       "0             0             0          0                  0  \n",
       "1             0             0          0                  0  \n",
       "2             0             0          0                  0  \n",
       "3             0             0          0                  0  \n",
       "4             0             0          0                  0  \n",
       "\n",
       "[5 rows x 75 columns]"
      ]
     },
     "execution_count": 9,
     "metadata": {},
     "output_type": "execute_result"
    }
   ],
   "source": [
    "etho.head()"
   ]
  },
  {
   "cell_type": "code",
   "execution_count": 10,
   "metadata": {
    "collapsed": false
   },
   "outputs": [],
   "source": [
    "# rename some columns\n",
    "etho = etho.rename(columns={'movieId': 'movie', 'frameNumber': 'frame'})"
   ]
  },
  {
   "cell_type": "code",
   "execution_count": 11,
   "metadata": {
    "collapsed": false
   },
   "outputs": [
    {
     "data": {
      "text/plain": [
       "Index([u'movie', u'frameTime', u'frame', u'ethoCameraLabel', u'ethoCameraLevel', u'ethoCameraHolding', u'ethoCameraZoomingIn', u'ethoCameraZoomingOut', u'ethoCameraTracking', u'ethoCameraPanning', u'ethoCameraSlewing', u'ethoRoughCountLabel', u'ethoRoughCountLevel', u'ethoCountNone', u'ethoLeast1', u'ethoLeast2', u'ethoLeast3', u'ethoLeast6', u'ethoLeast11', u'ethoHumanVisible', u'ethoFaceLabel', u'ethoFaceViewLevel', u'ethoFaceNone', u'ethoFaceVisible', u'ethoFaceProminent', u'ethoFaceDirect', u'ethoFaceEyeContact', u'ethoGenitalsLabel', u'ethoGenitalsViewLevel', u'ethoGenitalsNone', u'ethoGenitalsVisible', u'ethoGenitalsProminent', u'ethoGenitalsMale', u'ethoGenitalsFemale', u'ethoGenitalsBoth', u'ethoForageLabel', u'ethoForageLevel', u'ethoForage', u'ethoMassForage', u'ethoDrink', u'ethoSearch', u'ethoGraspFood', u'ethoHoldFood', u'ethoHoldInMouth', u'ethoManipulateFood', u'ethoIngestFood', u'ethoIngestFromGroom', u'ethoChew', u'ethoRetrieveFromPouch', u'ethoHeave', u'ethoAllogroom', u'ethoSolicitAllogroom', u'ethoScratch', u'ethoAutogroom', u'ethoAggressionLabel', u'ethoAggressionLevel', u'ethoAggressionNone', u'ethoAggressionAny', u'ethoAggressionTwo', u'ethoAggressionJoint', u'ethoAggressionMass', u'ethoStrike', u'ethoGrapple', u'ethoLunge', u'ethoWithdraw', u'ethoCharge', u'ethoChase', u'ethoFlee', u'ethoThreaten', u'ethoMountedThreaten', u'ethoSubmit', u'ethoDisplace', u'ethoLeanAway', u'ethoAvoid', u'ethoBranchDisplay', u'time', u'0', u'1', u'2', u'3', u'4'], dtype='object')"
      ]
     },
     "execution_count": 11,
     "metadata": {},
     "output_type": "execute_result"
    }
   ],
   "source": [
    "# merge labeled and inferred etho on movie and frame columns\n",
    "edf = pd.merge(etho, df, how='right')\n",
    "edf.columns"
   ]
  },
  {
   "cell_type": "code",
   "execution_count": 12,
   "metadata": {
    "collapsed": false
   },
   "outputs": [],
   "source": [
    "# get rid of categories that are either identifiers or have non-binary entries\n",
    "edf = edf.drop(['movie', 'frameTime', 'frame', 'ethoCameraLabel', 'ethoFaceLabel',\n",
    "                'ethoGenitalsLabel', 'ethoForageLabel', 'ethoAggressionLabel', 'time',\n",
    "                'ethoRoughCountLabel'], axis=1)"
   ]
  },
  {
   "cell_type": "code",
   "execution_count": 13,
   "metadata": {
    "collapsed": false
   },
   "outputs": [
    {
     "data": {
      "text/html": [
       "<div style=\"max-height:1000px;max-width:1500px;overflow:auto;\">\n",
       "<table border=\"1\" class=\"dataframe\">\n",
       "  <thead>\n",
       "    <tr style=\"text-align: right;\">\n",
       "      <th></th>\n",
       "      <th>ethoCameraLevel</th>\n",
       "      <th>ethoCameraHolding</th>\n",
       "      <th>ethoCameraZoomingIn</th>\n",
       "      <th>ethoCameraZoomingOut</th>\n",
       "      <th>ethoCameraTracking</th>\n",
       "      <th>ethoCameraPanning</th>\n",
       "      <th>ethoCameraSlewing</th>\n",
       "      <th>ethoRoughCountLevel</th>\n",
       "      <th>ethoCountNone</th>\n",
       "      <th>ethoLeast1</th>\n",
       "      <th>...</th>\n",
       "      <th>ethoSubmit</th>\n",
       "      <th>ethoDisplace</th>\n",
       "      <th>ethoLeanAway</th>\n",
       "      <th>ethoAvoid</th>\n",
       "      <th>ethoBranchDisplay</th>\n",
       "      <th>0</th>\n",
       "      <th>1</th>\n",
       "      <th>2</th>\n",
       "      <th>3</th>\n",
       "      <th>4</th>\n",
       "    </tr>\n",
       "  </thead>\n",
       "  <tbody>\n",
       "    <tr>\n",
       "      <th>0</th>\n",
       "      <td> 0</td>\n",
       "      <td> 1</td>\n",
       "      <td> 0</td>\n",
       "      <td> 0</td>\n",
       "      <td> 0</td>\n",
       "      <td> 0</td>\n",
       "      <td> 0</td>\n",
       "      <td> 0</td>\n",
       "      <td> 1</td>\n",
       "      <td> 0</td>\n",
       "      <td>...</td>\n",
       "      <td> 0</td>\n",
       "      <td> 0</td>\n",
       "      <td> 0</td>\n",
       "      <td> 0</td>\n",
       "      <td> 0</td>\n",
       "      <td> 0.962218</td>\n",
       "      <td> 0.564181</td>\n",
       "      <td> 0.523433</td>\n",
       "      <td> 0.498135</td>\n",
       "      <td> 0.481726</td>\n",
       "    </tr>\n",
       "    <tr>\n",
       "      <th>1</th>\n",
       "      <td> 0</td>\n",
       "      <td> 1</td>\n",
       "      <td> 0</td>\n",
       "      <td> 0</td>\n",
       "      <td> 0</td>\n",
       "      <td> 0</td>\n",
       "      <td> 0</td>\n",
       "      <td> 0</td>\n",
       "      <td> 1</td>\n",
       "      <td> 0</td>\n",
       "      <td>...</td>\n",
       "      <td> 0</td>\n",
       "      <td> 0</td>\n",
       "      <td> 0</td>\n",
       "      <td> 0</td>\n",
       "      <td> 0</td>\n",
       "      <td> 0.994416</td>\n",
       "      <td> 0.194662</td>\n",
       "      <td> 0.245615</td>\n",
       "      <td> 0.281497</td>\n",
       "      <td> 0.306595</td>\n",
       "    </tr>\n",
       "    <tr>\n",
       "      <th>2</th>\n",
       "      <td> 0</td>\n",
       "      <td> 1</td>\n",
       "      <td> 0</td>\n",
       "      <td> 0</td>\n",
       "      <td> 0</td>\n",
       "      <td> 0</td>\n",
       "      <td> 0</td>\n",
       "      <td> 0</td>\n",
       "      <td> 1</td>\n",
       "      <td> 0</td>\n",
       "      <td>...</td>\n",
       "      <td> 0</td>\n",
       "      <td> 0</td>\n",
       "      <td> 0</td>\n",
       "      <td> 0</td>\n",
       "      <td> 0</td>\n",
       "      <td> 0.997607</td>\n",
       "      <td> 0.347369</td>\n",
       "      <td> 0.348749</td>\n",
       "      <td> 0.349896</td>\n",
       "      <td> 0.351049</td>\n",
       "    </tr>\n",
       "    <tr>\n",
       "      <th>3</th>\n",
       "      <td> 0</td>\n",
       "      <td> 1</td>\n",
       "      <td> 0</td>\n",
       "      <td> 0</td>\n",
       "      <td> 0</td>\n",
       "      <td> 0</td>\n",
       "      <td> 0</td>\n",
       "      <td> 0</td>\n",
       "      <td> 1</td>\n",
       "      <td> 0</td>\n",
       "      <td>...</td>\n",
       "      <td> 0</td>\n",
       "      <td> 0</td>\n",
       "      <td> 0</td>\n",
       "      <td> 0</td>\n",
       "      <td> 0</td>\n",
       "      <td> 0.998959</td>\n",
       "      <td> 0.353127</td>\n",
       "      <td> 0.352289</td>\n",
       "      <td> 0.352068</td>\n",
       "      <td> 0.352369</td>\n",
       "    </tr>\n",
       "    <tr>\n",
       "      <th>4</th>\n",
       "      <td> 0</td>\n",
       "      <td> 1</td>\n",
       "      <td> 0</td>\n",
       "      <td> 0</td>\n",
       "      <td> 0</td>\n",
       "      <td> 0</td>\n",
       "      <td> 0</td>\n",
       "      <td> 0</td>\n",
       "      <td> 1</td>\n",
       "      <td> 0</td>\n",
       "      <td>...</td>\n",
       "      <td> 0</td>\n",
       "      <td> 0</td>\n",
       "      <td> 0</td>\n",
       "      <td> 0</td>\n",
       "      <td> 0</td>\n",
       "      <td> 0.999533</td>\n",
       "      <td> 0.296414</td>\n",
       "      <td> 0.315153</td>\n",
       "      <td> 0.327510</td>\n",
       "      <td> 0.336123</td>\n",
       "    </tr>\n",
       "  </tbody>\n",
       "</table>\n",
       "<p>5 rows × 71 columns</p>\n",
       "</div>"
      ],
      "text/plain": [
       "   ethoCameraLevel  ethoCameraHolding  ethoCameraZoomingIn  \\\n",
       "0                0                  1                    0   \n",
       "1                0                  1                    0   \n",
       "2                0                  1                    0   \n",
       "3                0                  1                    0   \n",
       "4                0                  1                    0   \n",
       "\n",
       "   ethoCameraZoomingOut  ethoCameraTracking  ethoCameraPanning  \\\n",
       "0                     0                   0                  0   \n",
       "1                     0                   0                  0   \n",
       "2                     0                   0                  0   \n",
       "3                     0                   0                  0   \n",
       "4                     0                   0                  0   \n",
       "\n",
       "   ethoCameraSlewing  ethoRoughCountLevel  ethoCountNone  ethoLeast1  \\\n",
       "0                  0                    0              1           0   \n",
       "1                  0                    0              1           0   \n",
       "2                  0                    0              1           0   \n",
       "3                  0                    0              1           0   \n",
       "4                  0                    0              1           0   \n",
       "\n",
       "     ...     ethoSubmit  ethoDisplace  ethoLeanAway  ethoAvoid  \\\n",
       "0    ...              0             0             0          0   \n",
       "1    ...              0             0             0          0   \n",
       "2    ...              0             0             0          0   \n",
       "3    ...              0             0             0          0   \n",
       "4    ...              0             0             0          0   \n",
       "\n",
       "   ethoBranchDisplay         0         1         2         3         4  \n",
       "0                  0  0.962218  0.564181  0.523433  0.498135  0.481726  \n",
       "1                  0  0.994416  0.194662  0.245615  0.281497  0.306595  \n",
       "2                  0  0.997607  0.347369  0.348749  0.349896  0.351049  \n",
       "3                  0  0.998959  0.353127  0.352289  0.352068  0.352369  \n",
       "4                  0  0.999533  0.296414  0.315153  0.327510  0.336123  \n",
       "\n",
       "[5 rows x 71 columns]"
      ]
     },
     "execution_count": 13,
     "metadata": {},
     "output_type": "execute_result"
    }
   ],
   "source": [
    "edf.head()"
   ]
  },
  {
   "cell_type": "markdown",
   "metadata": {},
   "source": [
    "# View results:"
   ]
  },
  {
   "cell_type": "code",
   "execution_count": 14,
   "metadata": {
    "collapsed": false
   },
   "outputs": [
    {
     "data": {
      "image/png": "[encoded data removed]",
      "text/plain": [
       "<matplotlib.figure.Figure at 0x105527d50>"
      ]
     },
     "metadata": {},
     "output_type": "display_data"
    }
   ],
   "source": [
    "# plot a section in time; each row is a regressor; bottom rows are inferred categories\n",
    "matshow(edf.iloc[500:1000, :].values.T, vmin=0, vmax=1)"
   ]
  },
  {
   "cell_type": "markdown",
   "metadata": {},
   "source": [
    "## Correlation analysis:"
   ]
  },
  {
   "cell_type": "markdown",
   "metadata": {},
   "source": [
    "The idea is to compute a correlation matrix between inferred and hand-labeled ethogram categories. To do so, we z-score the regressor values."
   ]
  },
  {
   "cell_type": "code",
   "execution_count": 15,
   "metadata": {
    "collapsed": false
   },
   "outputs": [
    {
     "data": {
      "image/png": "[encoded data removed]",
      "text/plain": [
       "<matplotlib.figure.Figure at 0x10ba5cd90>"
      ]
     },
     "metadata": {},
     "output_type": "display_data"
    }
   ],
   "source": [
    "# compute z-scored regressors\n",
    "sd = edf.std()\n",
    "sd[sd == 0] = 1\n",
    "zdf = (edf - edf.mean()) / sd\n",
    "labeled = zdf.iloc[:, :-5].values\n",
    "inferred = zdf.iloc[:, -5:].values\n",
    "\n",
    "# compute correlation as dot product between standardized regressors\n",
    "T = labeled.shape[0]\n",
    "corr = inferred.T.dot(labeled) / T\n",
    "\n",
    "# plot results\n",
    "matshow(np.abs(corr), vmin=0, vmax=1)\n",
    "plt.xlabel('labeled factor');\n",
    "plt.ylabel('inferred factor');\n",
    "plt.title('abs(correlation)');\n",
    "plt.colorbar();"
   ]
  },
  {
   "cell_type": "markdown",
   "metadata": {},
   "source": [
    "As a different approach, try just computing a correlation matrix between unnormalized regressors:"
   ]
  },
  {
   "cell_type": "code",
   "execution_count": 16,
   "metadata": {
    "collapsed": false
   },
   "outputs": [],
   "source": [
    "# np.corrcoef computes correlation coefficients between all pairs of variables in first two arguments\n",
    "aa = np.corrcoef(edf.iloc[:, -5:], edf.iloc[:, :-5], rowvar=0)"
   ]
  },
  {
   "cell_type": "code",
   "execution_count": 17,
   "metadata": {
    "collapsed": false
   },
   "outputs": [
    {
     "data": {
      "image/png": "[encoded data removed]",
      "text/plain": [
       "<matplotlib.figure.Figure at 0x10a0d5890>"
      ]
     },
     "metadata": {},
     "output_type": "display_data"
    }
   ],
   "source": [
    "matshow(aa, vmin=-1, vmax=1)"
   ]
  },
  {
   "cell_type": "code",
   "execution_count": 18,
   "metadata": {
    "collapsed": false
   },
   "outputs": [
    {
     "data": {
      "image/png": "[encoded data removed]",
      "text/plain": [
       "<matplotlib.figure.Figure at 0x10a9fe150>"
      ]
     },
     "metadata": {},
     "output_type": "display_data"
    }
   ],
   "source": [
    "matshow(aa[:5, :], vmin=-1, vmax=1)\n",
    "plt.colorbar();"
   ]
  },
  {
   "cell_type": "code",
   "execution_count": 19,
   "metadata": {
    "collapsed": false
   },
   "outputs": [
    {
     "data": {
      "text/plain": [
       "(71, 71)"
      ]
     },
     "execution_count": 19,
     "metadata": {},
     "output_type": "execute_result"
    }
   ],
   "source": [
    "aa.shape"
   ]
  },
  {
   "cell_type": "code",
   "execution_count": 20,
   "metadata": {
    "collapsed": false
   },
   "outputs": [
    {
     "data": {
      "text/plain": [
       "array([[ -1.44871900e-02,   9.98229049e-03,  -1.43720629e-03,\n",
       "          1.39536234e-03,   3.86865893e-03,  -1.04856302e-02,\n",
       "         -1.57635571e-02,  -5.97929976e-03,  -1.51753535e-02,\n",
       "          1.51753535e-02,  -7.56410409e-03,  -8.22891648e-03,\n",
       "         -8.22891648e-03,  -2.93385029e-03,  -4.93108585e-03,\n",
       "          5.18587047e-03,  -5.28506812e-03,   5.28506812e-03,\n",
       "          6.57589661e-03,  -3.85368131e-04,  -3.15339617e-03,\n",
       "          1.30027257e-02,  -9.21206981e-03,   9.21206981e-03,\n",
       "          1.57785160e-02,   1.60250328e-02,  -2.62668623e-04,\n",
       "          4.04241667e-03,   1.06303332e-02,   1.19597125e-02,\n",
       "          4.17047116e-03,   5.36434929e-03,  -2.26537591e-04,\n",
       "          4.29137285e-03,   7.54511085e-03,   4.36367182e-03,\n",
       "         -2.62594756e-03,   6.69769131e-03,   2.82559469e-03,\n",
       "          6.78866122e-03,   2.11796999e-03,   9.95098000e-04,\n",
       "          7.88353317e-03,  -6.03422319e-03,   4.94847363e-03,\n",
       "          3.78278064e-03,  -1.15706187e-02,   6.14180656e-03,\n",
       "         -6.14180656e-03,  -1.02341738e-02,  -1.29134835e-02,\n",
       "         -1.48919644e-02,   1.48484615e-03,   2.63062730e-03,\n",
       "          3.44500275e-03,   1.60036385e-03,  -8.36189973e-03,\n",
       "         -2.25565904e-03,  -3.20010806e-03,  -2.05291165e-03,\n",
       "          1.86351309e-03,   3.89538173e-03,  -2.49066123e-02,\n",
       "          8.29184384e-04,   1.53932604e-03,   1.10106896e-03],\n",
       "       [ -1.15258145e-02,   5.67435689e-03,   2.70706418e-03,\n",
       "         -1.47081235e-02,   2.09019832e-02,  -1.83649807e-02,\n",
       "         -1.68016122e-02,  -4.41724926e-03,  -1.25162921e-02,\n",
       "          1.25162921e-02,  -1.05926055e-02,  -2.51794120e-03,\n",
       "         -2.51794120e-03,  -2.01071404e-04,  -8.27860559e-03,\n",
       "          3.55313129e-03,  -3.91235147e-03,   3.91235147e-03,\n",
       "          6.68655676e-03,  -3.63186969e-03,  -4.20945803e-03,\n",
       "          1.55588900e-02,  -1.47803850e-02,   1.47803850e-02,\n",
       "          1.25996529e-02,   7.36008784e-03,   1.60075184e-02,\n",
       "          5.11816917e-03,   4.96602223e-03,   6.77946725e-03,\n",
       "         -7.52087072e-05,   8.85942681e-03,   7.20537885e-03,\n",
       "          3.69791276e-03,   3.30557327e-05,  -1.94664222e-03,\n",
       "          1.01019949e-04,   5.47475579e-03,  -2.92943092e-03,\n",
       "          8.46666669e-03,   2.77587043e-03,  -9.70473571e-03,\n",
       "         -9.44051119e-03,  -2.94575273e-03,  -2.82622965e-03,\n",
       "         -2.11154213e-04,  -4.25707498e-03,   5.43433090e-03,\n",
       "         -5.43433090e-03,  -5.94067793e-03,  -2.73688870e-03,\n",
       "          1.46799630e-03,  -9.54734654e-04,   3.96844799e-03,\n",
       "         -1.24321490e-03,   1.79425086e-03,  -4.36466364e-03,\n",
       "         -4.01481480e-03,  -2.59347191e-03,  -3.69936126e-03,\n",
       "         -6.59131931e-03,   2.72266056e-03,   7.49066550e-03,\n",
       "          9.11683027e-04,   2.38016547e-03,  -4.54268113e-03],\n",
       "       [ -1.05165880e-02,   4.75348860e-03,   2.32194769e-03,\n",
       "         -1.19269234e-02,   1.96100608e-02,  -1.64844307e-02,\n",
       "         -1.62901352e-02,  -2.51608506e-03,  -1.27537225e-02,\n",
       "          1.27537225e-02,  -9.36480144e-03,  -6.68572856e-04,\n",
       "         -6.68572856e-04,   9.54764478e-04,  -8.57071615e-03,\n",
       "          3.78964767e-03,  -4.93054066e-03,   4.93054066e-03,\n",
       "          6.29278639e-03,  -3.83580257e-03,  -3.60938114e-03,\n",
       "          1.42614095e-02,  -1.38434140e-02,   1.38434140e-02,\n",
       "          1.16027896e-02,   6.76582035e-03,   1.41780804e-02,\n",
       "          4.34624922e-03,   5.20793338e-03,   6.18023838e-03,\n",
       "          1.49840316e-03,   8.08914984e-03,   6.37616129e-03,\n",
       "          3.58319602e-03,  -4.96447546e-04,  -2.13526787e-03,\n",
       "          4.49555689e-04,   3.91618080e-03,  -2.23257347e-03,\n",
       "          7.85194779e-03,   3.00267183e-03,  -1.11960177e-02,\n",
       "         -9.28192665e-03,  -2.67172455e-03,  -2.32595604e-03,\n",
       "          4.82779864e-04,  -2.39766662e-03,   3.43704326e-03,\n",
       "         -3.43704326e-03,  -4.03774030e-03,  -1.35134046e-03,\n",
       "          2.44194574e-03,  -9.76229432e-04,   4.05936888e-03,\n",
       "         -1.11512766e-03,   2.48316150e-03,  -3.03706810e-03,\n",
       "         -3.98178267e-03,  -1.51170295e-03,  -1.58328399e-03,\n",
       "         -6.16458446e-03,   2.04127342e-03,   6.51320767e-03,\n",
       "          1.26327338e-03,   2.42024981e-03,  -4.86339376e-03],\n",
       "       [ -8.26990890e-03,   2.94908304e-03,   1.48281141e-03,\n",
       "         -8.65150278e-03,   1.84956282e-02,  -1.36095904e-02,\n",
       "         -1.49355767e-02,  -1.92433952e-04,  -1.24805041e-02,\n",
       "          1.24805041e-02,  -7.14434765e-03,   1.37089470e-03,\n",
       "          1.37089470e-03,   1.73298001e-03,  -8.24167944e-03,\n",
       "          2.74051466e-03,  -4.84088853e-03,   4.84088853e-03,\n",
       "          4.31205256e-03,  -4.11307406e-03,  -3.09062611e-03,\n",
       "          1.29906149e-02,  -1.28648932e-02,   1.28648932e-02,\n",
       "          1.06923327e-02,   6.17790056e-03,   1.23939626e-02,\n",
       "          3.16995663e-03,   4.91438993e-03,   4.99507280e-03,\n",
       "          2.83398204e-03,   6.90391951e-03,   5.46315971e-03,\n",
       "          3.16787277e-03,  -1.32863256e-03,  -2.07815045e-03,\n",
       "          7.40525417e-04,   1.69334209e-03,  -1.36583627e-03,\n",
       "          5.99335309e-03,   3.05426588e-03,  -1.24269009e-02,\n",
       "         -8.32885893e-03,  -2.05373513e-03,  -2.37260214e-03,\n",
       "          7.81033521e-04,  -4.18963493e-04,   1.21105209e-03,\n",
       "         -1.21105209e-03,  -1.89127972e-03,   1.15727095e-04,\n",
       "          3.08508498e-03,  -7.10301293e-04,   4.19481281e-03,\n",
       "         -4.66540446e-04,   2.64664010e-03,  -1.67841499e-03,\n",
       "         -3.65893406e-03,  -5.72202362e-04,   5.30085966e-04,\n",
       "         -5.56622084e-03,   1.69715268e-03,   5.50963050e-03,\n",
       "          1.63306936e-03,   2.03544311e-03,  -4.91888724e-03],\n",
       "       [ -5.98884305e-03,   1.59101277e-03,   3.85602738e-04,\n",
       "         -5.79201132e-03,   1.64526518e-02,  -1.09938505e-02,\n",
       "         -1.24944325e-02,   9.75501451e-04,  -1.12889972e-02,\n",
       "          1.12889972e-02,  -5.90274280e-03,   2.96513340e-03,\n",
       "          2.96513340e-03,   1.58209328e-03,  -7.83008430e-03,\n",
       "          1.83377800e-03,  -4.47926637e-03,   4.47926637e-03,\n",
       "          2.57458407e-03,  -3.94170993e-03,  -2.48908522e-03,\n",
       "          1.12891483e-02,  -1.14078818e-02,   1.14078818e-02,\n",
       "          9.46701723e-03,   5.40373544e-03,   1.01992275e-02,\n",
       "          1.46386106e-03,   4.73950222e-03,   4.32713420e-03,\n",
       "          3.56493793e-03,   6.00234806e-03,   4.79656208e-03,\n",
       "          2.55527065e-03,  -2.00413695e-03,  -2.47249964e-03,\n",
       "          1.26169944e-03,  -8.83912907e-04,  -3.83770216e-04,\n",
       "          5.04626539e-03,   2.64293066e-03,  -1.36543077e-02,\n",
       "         -7.24071183e-03,  -1.21051502e-03,  -3.38708522e-03,\n",
       "          9.85084187e-04,   1.40251272e-03,  -8.61968237e-04,\n",
       "          8.61968237e-04,   1.93682541e-04,   1.35846925e-03,\n",
       "          3.61346737e-03,  -5.69863182e-04,   4.58614333e-03,\n",
       "          5.61787009e-04,   2.02705234e-03,  -3.09025605e-04,\n",
       "         -3.19224634e-03,   4.07118307e-04,   2.36701916e-03,\n",
       "         -4.81697160e-03,   1.68247509e-03,   4.52446563e-03,\n",
       "          2.09051436e-03,   1.46381014e-03,  -5.16217369e-03]])"
      ]
     },
     "execution_count": 20,
     "metadata": {},
     "output_type": "execute_result"
    }
   ],
   "source": [
    "aa[:5, 5:]"
   ]
  },
  {
   "cell_type": "code",
   "execution_count": 19,
   "metadata": {
    "collapsed": false
   },
   "outputs": [],
   "source": []
  }
 ],
 "metadata": {
  "kernelspec": {
   "display_name": "Python 2",
   "language": "python",
   "name": "python2"
  },
  "language_info": {
   "codemirror_mode": {
    "name": "ipython",
    "version": 2
   },
   "file_extension": ".py",
   "mimetype": "text/x-python",
   "name": "python",
   "nbconvert_exporter": "python",
   "pygments_lexer": "ipython2",
   "version": "2.7.9"
  }
 },
 "nbformat": 4,
 "nbformat_minor": 0
}
