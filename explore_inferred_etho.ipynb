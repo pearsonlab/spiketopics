{
 "cells": [
  {
   "cell_type": "code",
   "execution_count": 1,
   "metadata": {
    "collapsed": false
   },
   "outputs": [],
   "source": [
    "from __future__ import division\n",
    "import numpy as np\n",
    "import pandas as pd\n",
    "import matplotlib.pyplot as plt\n",
    "import seaborn as sns\n",
    "import matplotlib.cm as cm\n",
    "import cPickle as pickle\n",
    "from helpers import *\n",
    "\n",
    "%matplotlib inline\n",
    "sns.set_style('darkgrid')"
   ]
  },
  {
   "cell_type": "markdown",
   "metadata": {},
   "source": [
    "# Load in data"
   ]
  },
  {
   "cell_type": "code",
   "execution_count": 2,
   "metadata": {
    "collapsed": true
   },
   "outputs": [],
   "source": [
    "infile = 'data/fitted_model_object.pkl'\n",
    "gpm = pickle.load(open(infile, 'rb'))\n",
    "dt = 1 / 30."
   ]
  },
  {
   "cell_type": "code",
   "execution_count": 3,
   "metadata": {
    "collapsed": false
   },
   "outputs": [
    {
     "data": {
      "text/html": [
       "<div style=\"max-height:1000px;max-width:1500px;overflow:auto;\">\n",
       "<table border=\"1\" class=\"dataframe\">\n",
       "  <thead>\n",
       "    <tr style=\"text-align: right;\">\n",
       "      <th></th>\n",
       "      <th>unit</th>\n",
       "      <th>time</th>\n",
       "      <th>count</th>\n",
       "      <th>lam0</th>\n",
       "      <th>lam1</th>\n",
       "    </tr>\n",
       "  </thead>\n",
       "  <tbody>\n",
       "    <tr>\n",
       "      <th>0</th>\n",
       "      <td> 10</td>\n",
       "      <td> 0</td>\n",
       "      <td> 0</td>\n",
       "      <td>-0.087757</td>\n",
       "      <td>-0.057978</td>\n",
       "    </tr>\n",
       "    <tr>\n",
       "      <th>1</th>\n",
       "      <td> 11</td>\n",
       "      <td> 0</td>\n",
       "      <td> 0</td>\n",
       "      <td>-0.962164</td>\n",
       "      <td>-0.843043</td>\n",
       "    </tr>\n",
       "    <tr>\n",
       "      <th>2</th>\n",
       "      <td> 10</td>\n",
       "      <td> 1</td>\n",
       "      <td> 0</td>\n",
       "      <td>-0.088559</td>\n",
       "      <td>-0.058508</td>\n",
       "    </tr>\n",
       "    <tr>\n",
       "      <th>3</th>\n",
       "      <td> 11</td>\n",
       "      <td> 1</td>\n",
       "      <td> 4</td>\n",
       "      <td>-1.608512</td>\n",
       "      <td>-1.938169</td>\n",
       "    </tr>\n",
       "    <tr>\n",
       "      <th>4</th>\n",
       "      <td> 10</td>\n",
       "      <td> 2</td>\n",
       "      <td> 0</td>\n",
       "      <td>-0.085418</td>\n",
       "      <td>-0.056433</td>\n",
       "    </tr>\n",
       "  </tbody>\n",
       "</table>\n",
       "</div>"
      ],
      "text/plain": [
       "   unit  time  count      lam0      lam1\n",
       "0    10     0      0 -0.087757 -0.057978\n",
       "1    11     0      0 -0.962164 -0.843043\n",
       "2    10     1      0 -0.088559 -0.058508\n",
       "3    11     1      4 -1.608512 -1.938169\n",
       "4    10     2      0 -0.085418 -0.056433"
      ]
     },
     "execution_count": 3,
     "metadata": {},
     "output_type": "execute_result"
    }
   ],
   "source": [
    "gpm.Nframe.head()"
   ]
  },
  {
   "cell_type": "code",
   "execution_count": 4,
   "metadata": {
    "collapsed": false
   },
   "outputs": [
    {
     "data": {
      "text/html": [
       "<div style=\"max-height:1000px;max-width:1500px;overflow:auto;\">\n",
       "<table border=\"1\" class=\"dataframe\">\n",
       "  <thead>\n",
       "    <tr style=\"text-align: right;\">\n",
       "      <th></th>\n",
       "      <th>X0</th>\n",
       "    </tr>\n",
       "  </thead>\n",
       "  <tbody>\n",
       "    <tr>\n",
       "      <th>0</th>\n",
       "      <td> 0</td>\n",
       "    </tr>\n",
       "    <tr>\n",
       "      <th>1</th>\n",
       "      <td> 0</td>\n",
       "    </tr>\n",
       "    <tr>\n",
       "      <th>2</th>\n",
       "      <td> 0</td>\n",
       "    </tr>\n",
       "    <tr>\n",
       "      <th>3</th>\n",
       "      <td> 0</td>\n",
       "    </tr>\n",
       "    <tr>\n",
       "      <th>4</th>\n",
       "      <td> 0</td>\n",
       "    </tr>\n",
       "  </tbody>\n",
       "</table>\n",
       "</div>"
      ],
      "text/plain": [
       "   X0\n",
       "0   0\n",
       "1   0\n",
       "2   0\n",
       "3   0\n",
       "4   0"
      ]
     },
     "execution_count": 4,
     "metadata": {},
     "output_type": "execute_result"
    }
   ],
   "source": [
    "gpm.Xframe.head()"
   ]
  },
  {
   "cell_type": "markdown",
   "metadata": {},
   "source": [
    "# Plot inferred categories as matrix"
   ]
  },
  {
   "cell_type": "code",
   "execution_count": 5,
   "metadata": {
    "collapsed": false
   },
   "outputs": [
    {
     "name": "stdout",
     "output_type": "stream",
     "text": [
      "(512644, 5)\n"
     ]
    }
   ],
   "source": [
    "xi = gpm.nodes['HMM'].nodes['z'].z[1]\n",
    "T, K = xi.shape\n",
    "print xi.shape"
   ]
  },
  {
   "cell_type": "code",
   "execution_count": 6,
   "metadata": {
    "collapsed": false
   },
   "outputs": [
    {
     "data": {
      "image/png": "[encoded data removed]",
      "text/plain": [
       "<matplotlib.figure.Figure at 0x1067b1610>"
      ]
     },
     "metadata": {},
     "output_type": "display_data"
    }
   ],
   "source": [
    "matshow(xi[:5000].T, vmin=0, vmax=1);"
   ]
  },
  {
   "cell_type": "markdown",
   "metadata": {},
   "source": [
    "Make $\\xi$ dataframe:"
   ]
  },
  {
   "cell_type": "code",
   "execution_count": 7,
   "metadata": {
    "collapsed": false
   },
   "outputs": [],
   "source": [
    "xif = pd.DataFrame(xi)\n",
    "xif.columns = ['Z' + str(k) for k in range(K)]\n",
    "xif.index.name = 'time'\n",
    "xif = xif.reset_index()"
   ]
  },
  {
   "cell_type": "markdown",
   "metadata": {},
   "source": [
    "# Posteriors for effects"
   ]
  },
  {
   "cell_type": "markdown",
   "metadata": {},
   "source": [
    "## Baselines"
   ]
  },
  {
   "cell_type": "code",
   "execution_count": 8,
   "metadata": {
    "collapsed": false
   },
   "outputs": [
    {
     "data": {
      "image/png": "[encoded data removed]",
      "text/plain": [
       "<matplotlib.figure.Figure at 0x118a0ad50>"
      ]
     },
     "metadata": {},
     "output_type": "display_data"
    }
   ],
   "source": [
    "plt.figure(figsize=(14, 4))\n",
    "\n",
    "th = gpm.nodes['baseline_mean']\n",
    "cc = gpm.nodes['baseline_shape']\n",
    "th_pars = [th.post_shape, th.post_rate]\n",
    "cc_pars = [cc.post_shape, cc.post_rate]\n",
    "samples = gamma_from_hypers(th_pars, cc_pars, 1e5)\n",
    "\n",
    "plt.subplot(1, 3, 1)\n",
    "xx = np.linspace(0, 20, 500)\n",
    "plt.plot(xx, stats.invgamma.pdf(xx, a=th_pars[0], scale=th_pars[1]/dt))\n",
    "plt.title('Baseline mean parameter posterior');\n",
    "\n",
    "plt.subplot(1, 3, 2)\n",
    "xx = np.linspace(0, 2, 500)\n",
    "plt.plot(xx, stats.invgamma.pdf(xx, a=cc_pars[0], scale=cc_pars[1]))\n",
    "plt.title('Baseline variance parameter posterior');\n",
    "\n",
    "plt.subplot(1, 3, 3)\n",
    "sns.kdeplot(samples / dt, gridsize=1e4, clip=(0, 100))\n",
    "plt.title('baseline posterior distribution')\n",
    "plt.xlabel('Firing rate (Hz)')\n",
    "plt.xlim(0, 100);"
   ]
  },
  {
   "cell_type": "markdown",
   "metadata": {},
   "source": [
    "## Regressors"
   ]
  },
  {
   "cell_type": "code",
   "execution_count": 9,
   "metadata": {
    "collapsed": false
   },
   "outputs": [
    {
     "data": {
      "image/png": "[encoded data removed]",
      "text/plain": [
       "<matplotlib.figure.Figure at 0x105c6aa10>"
      ]
     },
     "metadata": {},
     "output_type": "display_data"
    }
   ],
   "source": [
    "plt.figure(figsize=(8, 6))\n",
    "inferred_means = gpm.nodes['fr_regressors'].expected_x()\n",
    "R = inferred_means.shape[1]\n",
    "for r in xrange(R):\n",
    "    plt.hist(inferred_means[:, r], bins=50, normed=True, alpha=0.25, label='X' + str(r))\n",
    "plt.title('Regression effects');\n",
    "plt.legend()\n",
    "plt.ylim(0, 5);\n",
    "plt.xlim(0, 5);"
   ]
  },
  {
   "cell_type": "markdown",
   "metadata": {},
   "source": [
    "## Latent Categories"
   ]
  },
  {
   "cell_type": "code",
   "execution_count": 10,
   "metadata": {
    "collapsed": false
   },
   "outputs": [
    {
     "data": {
      "image/png": "[encoded data removed]",
      "text/plain": [
       "<matplotlib.figure.Figure at 0x118aa1850>"
      ]
     },
     "metadata": {},
     "output_type": "display_data"
    }
   ],
   "source": [
    "plt.figure(figsize=(16, 4))\n",
    "\n",
    "th = gpm.nodes['fr_latents_mean']\n",
    "cc = gpm.nodes['fr_latents_shape']\n",
    "\n",
    "th_pars = np.c_[th.post_shape, th.post_rate].T\n",
    "cc_pars = np.c_[cc.post_shape, cc.post_rate].T\n",
    "\n",
    "plt.subplot(1, 3, 1)\n",
    "xx = np.linspace(0, 2, 500)\n",
    "for kk in xrange(K):\n",
    "    plt.plot(xx, stats.invgamma.pdf(xx, a=th_pars[0, kk], scale=th_pars[1, kk]), label='Z' + str(kk))\n",
    "plt.legend()\n",
    "plt.title('effect mean posterior');\n",
    "\n",
    "plt.subplot(1, 3, 2)\n",
    "xx = np.linspace(0, 5, 500)\n",
    "for kk in xrange(K):\n",
    "    plt.plot(xx, stats.invgamma.pdf(xx, a=cc_pars[0, kk], scale=cc_pars[1, kk]), label='Z' + str(kk))\n",
    "plt.legend()\n",
    "plt.title('effect variance parameter posterior');\n",
    "\n",
    "plt.subplot(1, 3, 3)\n",
    "for kk in xrange(K):\n",
    "    samples = gamma_from_hypers(th_pars[:, kk], cc_pars[:, kk], 1e5)\n",
    "    sns.kdeplot(samples, gridsize=1e4, clip=(0, 10), label='Z' + str(kk))\n",
    "plt.legend()\n",
    "plt.title(r'$\\lambda$ effect posterior distribution')\n",
    "plt.xlabel('Firing rate (Hz)')\n",
    "plt.xlim(0, 2);"
   ]
  },
  {
   "cell_type": "code",
   "execution_count": 11,
   "metadata": {
    "collapsed": false
   },
   "outputs": [
    {
     "data": {
      "image/png": "[encoded data removed]",
      "text/plain": [
       "<matplotlib.figure.Figure at 0x119f36590>"
      ]
     },
     "metadata": {},
     "output_type": "display_data"
    }
   ],
   "source": [
    "plt.figure(figsize=(8, 6))\n",
    "\n",
    "inferred_effects = gpm.nodes['fr_latents'].expected_x()\n",
    "for kk in xrange(K):\n",
    "    plt.hist(inferred_effects[..., kk], bins=50, normed=True, alpha=0.25, label='Z' + str(kk));\n",
    "plt.legend();\n",
    "plt.title('Firing rate effects');\n",
    "plt.ylim(0, 5);"
   ]
  },
  {
   "cell_type": "markdown",
   "metadata": {},
   "source": [
    "## Overdispersion"
   ]
  },
  {
   "cell_type": "code",
   "execution_count": 12,
   "metadata": {
    "collapsed": false
   },
   "outputs": [
    {
     "data": {
      "image/png": "[encoded data removed]",
      "text/plain": [
       "<matplotlib.figure.Figure at 0x11a6e9b90>"
      ]
     },
     "metadata": {},
     "output_type": "display_data"
    }
   ],
   "source": [
    "plt.figure(figsize=(8, 6))\n",
    "\n",
    "inferred_means = gpm.nodes['overdispersion'].expected_x().ravel()\n",
    "plt.hist(inferred_means, bins=500, normed=True, alpha=0.25);\n",
    "plt.title('Overdispersion effects');\n",
    "plt.ylim(0, 2);"
   ]
  },
  {
   "cell_type": "markdown",
   "metadata": {},
   "source": [
    "# Load and prepare ethogram:"
   ]
  },
  {
   "cell_type": "markdown",
   "metadata": {},
   "source": [
    "Our goal here is to load the ethogram, join it to the inferred ethogram, and perform some comparisons to see if any of our discovered categories match hand-labeled categories from the ethogram."
   ]
  },
  {
   "cell_type": "code",
   "execution_count": 13,
   "metadata": {
    "collapsed": false
   },
   "outputs": [
    {
     "name": "stderr",
     "output_type": "stream",
     "text": [
      "/Users/jmxp/anaconda/lib/python2.7/site-packages/pandas/io/parsers.py:1159: DtypeWarning: Columns (11) have mixed types. Specify dtype option on import or set low_memory=False.\n",
      "  data = self._reader.read(nrows)\n"
     ]
    }
   ],
   "source": [
    "ethofile = 'sql/etho.csv'\n",
    "etho = pd.read_csv(ethofile)"
   ]
  },
  {
   "cell_type": "code",
   "execution_count": 14,
   "metadata": {
    "collapsed": false
   },
   "outputs": [],
   "source": [
    "# rename some columns\n",
    "etho = etho.rename(columns={'movieId': 'movie', 'frameNumber': 'frame'})\n",
    "etho = frames_to_times(etho)"
   ]
  },
  {
   "cell_type": "code",
   "execution_count": 15,
   "metadata": {
    "collapsed": false
   },
   "outputs": [
    {
     "data": {
      "text/html": [
       "<div style=\"max-height:1000px;max-width:1500px;overflow:auto;\">\n",
       "<table border=\"1\" class=\"dataframe\">\n",
       "  <thead>\n",
       "    <tr style=\"text-align: right;\">\n",
       "      <th></th>\n",
       "      <th>frameTime</th>\n",
       "      <th>ethoCameraLabel</th>\n",
       "      <th>ethoCameraLevel</th>\n",
       "      <th>ethoCameraHolding</th>\n",
       "      <th>ethoCameraZoomingIn</th>\n",
       "      <th>ethoCameraZoomingOut</th>\n",
       "      <th>ethoCameraTracking</th>\n",
       "      <th>ethoCameraPanning</th>\n",
       "      <th>ethoCameraSlewing</th>\n",
       "      <th>ethoRoughCountLabel</th>\n",
       "      <th>...</th>\n",
       "      <th>ethoChase</th>\n",
       "      <th>ethoFlee</th>\n",
       "      <th>ethoThreaten</th>\n",
       "      <th>ethoMountedThreaten</th>\n",
       "      <th>ethoSubmit</th>\n",
       "      <th>ethoDisplace</th>\n",
       "      <th>ethoLeanAway</th>\n",
       "      <th>ethoAvoid</th>\n",
       "      <th>ethoBranchDisplay</th>\n",
       "      <th>time</th>\n",
       "    </tr>\n",
       "  </thead>\n",
       "  <tbody>\n",
       "    <tr>\n",
       "      <th>0</th>\n",
       "      <td> 0.0000</td>\n",
       "      <td> holding</td>\n",
       "      <td> 0</td>\n",
       "      <td> 1</td>\n",
       "      <td> 0</td>\n",
       "      <td> 0</td>\n",
       "      <td> 0</td>\n",
       "      <td> 0</td>\n",
       "      <td> 0</td>\n",
       "      <td> 0</td>\n",
       "      <td>...</td>\n",
       "      <td> 0</td>\n",
       "      <td> 0</td>\n",
       "      <td> 0</td>\n",
       "      <td> 0</td>\n",
       "      <td> 0</td>\n",
       "      <td> 0</td>\n",
       "      <td> 0</td>\n",
       "      <td> 0</td>\n",
       "      <td> 0</td>\n",
       "      <td> 0</td>\n",
       "    </tr>\n",
       "    <tr>\n",
       "      <th>1</th>\n",
       "      <td> 0.0333</td>\n",
       "      <td> holding</td>\n",
       "      <td> 0</td>\n",
       "      <td> 1</td>\n",
       "      <td> 0</td>\n",
       "      <td> 0</td>\n",
       "      <td> 0</td>\n",
       "      <td> 0</td>\n",
       "      <td> 0</td>\n",
       "      <td> 0</td>\n",
       "      <td>...</td>\n",
       "      <td> 0</td>\n",
       "      <td> 0</td>\n",
       "      <td> 0</td>\n",
       "      <td> 0</td>\n",
       "      <td> 0</td>\n",
       "      <td> 0</td>\n",
       "      <td> 0</td>\n",
       "      <td> 0</td>\n",
       "      <td> 0</td>\n",
       "      <td> 1</td>\n",
       "    </tr>\n",
       "    <tr>\n",
       "      <th>2</th>\n",
       "      <td> 0.0667</td>\n",
       "      <td> holding</td>\n",
       "      <td> 0</td>\n",
       "      <td> 1</td>\n",
       "      <td> 0</td>\n",
       "      <td> 0</td>\n",
       "      <td> 0</td>\n",
       "      <td> 0</td>\n",
       "      <td> 0</td>\n",
       "      <td> 0</td>\n",
       "      <td>...</td>\n",
       "      <td> 0</td>\n",
       "      <td> 0</td>\n",
       "      <td> 0</td>\n",
       "      <td> 0</td>\n",
       "      <td> 0</td>\n",
       "      <td> 0</td>\n",
       "      <td> 0</td>\n",
       "      <td> 0</td>\n",
       "      <td> 0</td>\n",
       "      <td> 2</td>\n",
       "    </tr>\n",
       "    <tr>\n",
       "      <th>3</th>\n",
       "      <td> 0.1000</td>\n",
       "      <td> holding</td>\n",
       "      <td> 0</td>\n",
       "      <td> 1</td>\n",
       "      <td> 0</td>\n",
       "      <td> 0</td>\n",
       "      <td> 0</td>\n",
       "      <td> 0</td>\n",
       "      <td> 0</td>\n",
       "      <td> 0</td>\n",
       "      <td>...</td>\n",
       "      <td> 0</td>\n",
       "      <td> 0</td>\n",
       "      <td> 0</td>\n",
       "      <td> 0</td>\n",
       "      <td> 0</td>\n",
       "      <td> 0</td>\n",
       "      <td> 0</td>\n",
       "      <td> 0</td>\n",
       "      <td> 0</td>\n",
       "      <td> 3</td>\n",
       "    </tr>\n",
       "    <tr>\n",
       "      <th>4</th>\n",
       "      <td> 0.1333</td>\n",
       "      <td> holding</td>\n",
       "      <td> 0</td>\n",
       "      <td> 1</td>\n",
       "      <td> 0</td>\n",
       "      <td> 0</td>\n",
       "      <td> 0</td>\n",
       "      <td> 0</td>\n",
       "      <td> 0</td>\n",
       "      <td> 0</td>\n",
       "      <td>...</td>\n",
       "      <td> 0</td>\n",
       "      <td> 0</td>\n",
       "      <td> 0</td>\n",
       "      <td> 0</td>\n",
       "      <td> 0</td>\n",
       "      <td> 0</td>\n",
       "      <td> 0</td>\n",
       "      <td> 0</td>\n",
       "      <td> 0</td>\n",
       "      <td> 4</td>\n",
       "    </tr>\n",
       "  </tbody>\n",
       "</table>\n",
       "<p>5 rows × 74 columns</p>\n",
       "</div>"
      ],
      "text/plain": [
       "   frameTime ethoCameraLabel  ethoCameraLevel  ethoCameraHolding  \\\n",
       "0     0.0000         holding                0                  1   \n",
       "1     0.0333         holding                0                  1   \n",
       "2     0.0667         holding                0                  1   \n",
       "3     0.1000         holding                0                  1   \n",
       "4     0.1333         holding                0                  1   \n",
       "\n",
       "   ethoCameraZoomingIn  ethoCameraZoomingOut  ethoCameraTracking  \\\n",
       "0                    0                     0                   0   \n",
       "1                    0                     0                   0   \n",
       "2                    0                     0                   0   \n",
       "3                    0                     0                   0   \n",
       "4                    0                     0                   0   \n",
       "\n",
       "   ethoCameraPanning  ethoCameraSlewing ethoRoughCountLabel  ...   ethoChase  \\\n",
       "0                  0                  0                   0  ...           0   \n",
       "1                  0                  0                   0  ...           0   \n",
       "2                  0                  0                   0  ...           0   \n",
       "3                  0                  0                   0  ...           0   \n",
       "4                  0                  0                   0  ...           0   \n",
       "\n",
       "   ethoFlee  ethoThreaten  ethoMountedThreaten  ethoSubmit  ethoDisplace  \\\n",
       "0         0             0                    0           0             0   \n",
       "1         0             0                    0           0             0   \n",
       "2         0             0                    0           0             0   \n",
       "3         0             0                    0           0             0   \n",
       "4         0             0                    0           0             0   \n",
       "\n",
       "   ethoLeanAway  ethoAvoid ethoBranchDisplay  time  \n",
       "0             0          0                 0     0  \n",
       "1             0          0                 0     1  \n",
       "2             0          0                 0     2  \n",
       "3             0          0                 0     3  \n",
       "4             0          0                 0     4  \n",
       "\n",
       "[5 rows x 74 columns]"
      ]
     },
     "execution_count": 15,
     "metadata": {},
     "output_type": "execute_result"
    }
   ],
   "source": [
    "etho.head()"
   ]
  },
  {
   "cell_type": "code",
   "execution_count": 16,
   "metadata": {
    "collapsed": false
   },
   "outputs": [
    {
     "data": {
      "text/plain": [
       "Index([u'frameTime', u'ethoCameraLabel', u'ethoCameraLevel', u'ethoCameraHolding', u'ethoCameraZoomingIn', u'ethoCameraZoomingOut', u'ethoCameraTracking', u'ethoCameraPanning', u'ethoCameraSlewing', u'ethoRoughCountLabel', u'ethoRoughCountLevel', u'ethoCountNone', u'ethoLeast1', u'ethoLeast2', u'ethoLeast3', u'ethoLeast6', u'ethoLeast11', u'ethoHumanVisible', u'ethoFaceLabel', u'ethoFaceViewLevel', u'ethoFaceNone', u'ethoFaceVisible', u'ethoFaceProminent', u'ethoFaceDirect', u'ethoFaceEyeContact', u'ethoGenitalsLabel', u'ethoGenitalsViewLevel', u'ethoGenitalsNone', u'ethoGenitalsVisible', u'ethoGenitalsProminent', u'ethoGenitalsMale', u'ethoGenitalsFemale', u'ethoGenitalsBoth', u'ethoForageLabel', u'ethoForageLevel', u'ethoForage', u'ethoMassForage', u'ethoDrink', u'ethoSearch', u'ethoGraspFood', u'ethoHoldFood', u'ethoHoldInMouth', u'ethoManipulateFood', u'ethoIngestFood', u'ethoIngestFromGroom', u'ethoChew', u'ethoRetrieveFromPouch', u'ethoHeave', u'ethoAllogroom', u'ethoSolicitAllogroom', u'ethoScratch', u'ethoAutogroom', u'ethoAggressionLabel', u'ethoAggressionLevel', u'ethoAggressionNone', u'ethoAggressionAny', u'ethoAggressionTwo', u'ethoAggressionJoint', u'ethoAggressionMass', u'ethoStrike', u'ethoGrapple', u'ethoLunge', u'ethoWithdraw', u'ethoCharge', u'ethoChase', u'ethoFlee', u'ethoThreaten', u'ethoMountedThreaten', u'ethoSubmit', u'ethoDisplace', u'ethoLeanAway', u'ethoAvoid', u'ethoBranchDisplay', u'time', u'Z0', u'Z1', u'Z2', u'Z3', u'Z4'], dtype='object')"
      ]
     },
     "execution_count": 16,
     "metadata": {},
     "output_type": "execute_result"
    }
   ],
   "source": [
    "# merge labeled and inferred etho on movie and frame columns\n",
    "edf = pd.merge(etho, xif, how='right')\n",
    "edf.columns"
   ]
  },
  {
   "cell_type": "code",
   "execution_count": 17,
   "metadata": {
    "collapsed": false
   },
   "outputs": [],
   "source": [
    "# get rid of categories that are either identifiers or have non-binary entries\n",
    "edf = edf.drop(['frameTime', 'ethoCameraLabel', 'ethoFaceLabel',\n",
    "                'ethoGenitalsLabel', 'ethoForageLabel', 'ethoAggressionLabel', 'time',\n",
    "                'ethoRoughCountLabel', 'ethoRoughCountLevel', 'ethoFaceViewLevel', \n",
    "                'ethoGenitalsViewLevel', 'ethoForageLevel', 'ethoAggressionLevel'], axis=1)\n"
   ]
  },
  {
   "cell_type": "code",
   "execution_count": 18,
   "metadata": {
    "collapsed": false
   },
   "outputs": [
    {
     "data": {
      "text/html": [
       "<div style=\"max-height:1000px;max-width:1500px;overflow:auto;\">\n",
       "<table border=\"1\" class=\"dataframe\">\n",
       "  <thead>\n",
       "    <tr style=\"text-align: right;\">\n",
       "      <th></th>\n",
       "      <th>ethoCameraLevel</th>\n",
       "      <th>ethoCameraHolding</th>\n",
       "      <th>ethoCameraZoomingIn</th>\n",
       "      <th>ethoCameraZoomingOut</th>\n",
       "      <th>ethoCameraTracking</th>\n",
       "      <th>ethoCameraPanning</th>\n",
       "      <th>ethoCameraSlewing</th>\n",
       "      <th>ethoCountNone</th>\n",
       "      <th>ethoLeast1</th>\n",
       "      <th>ethoLeast2</th>\n",
       "      <th>...</th>\n",
       "      <th>ethoSubmit</th>\n",
       "      <th>ethoDisplace</th>\n",
       "      <th>ethoLeanAway</th>\n",
       "      <th>ethoAvoid</th>\n",
       "      <th>ethoBranchDisplay</th>\n",
       "      <th>Z0</th>\n",
       "      <th>Z1</th>\n",
       "      <th>Z2</th>\n",
       "      <th>Z3</th>\n",
       "      <th>Z4</th>\n",
       "    </tr>\n",
       "  </thead>\n",
       "  <tbody>\n",
       "    <tr>\n",
       "      <th>0</th>\n",
       "      <td> 0</td>\n",
       "      <td> 1</td>\n",
       "      <td> 0</td>\n",
       "      <td> 0</td>\n",
       "      <td> 0</td>\n",
       "      <td> 0</td>\n",
       "      <td> 0</td>\n",
       "      <td> 1</td>\n",
       "      <td> 0</td>\n",
       "      <td> 0</td>\n",
       "      <td>...</td>\n",
       "      <td> 0</td>\n",
       "      <td> 0</td>\n",
       "      <td> 0</td>\n",
       "      <td> 0</td>\n",
       "      <td> 0</td>\n",
       "      <td> 0.032431</td>\n",
       "      <td> 0.030681</td>\n",
       "      <td> 0.007067</td>\n",
       "      <td> 0.020552</td>\n",
       "      <td> 0.033363</td>\n",
       "    </tr>\n",
       "    <tr>\n",
       "      <th>1</th>\n",
       "      <td> 0</td>\n",
       "      <td> 1</td>\n",
       "      <td> 0</td>\n",
       "      <td> 0</td>\n",
       "      <td> 0</td>\n",
       "      <td> 0</td>\n",
       "      <td> 0</td>\n",
       "      <td> 1</td>\n",
       "      <td> 0</td>\n",
       "      <td> 0</td>\n",
       "      <td>...</td>\n",
       "      <td> 0</td>\n",
       "      <td> 0</td>\n",
       "      <td> 0</td>\n",
       "      <td> 0</td>\n",
       "      <td> 0</td>\n",
       "      <td> 0.105307</td>\n",
       "      <td> 0.090770</td>\n",
       "      <td> 0.034923</td>\n",
       "      <td> 0.047004</td>\n",
       "      <td> 0.062407</td>\n",
       "    </tr>\n",
       "    <tr>\n",
       "      <th>2</th>\n",
       "      <td> 0</td>\n",
       "      <td> 1</td>\n",
       "      <td> 0</td>\n",
       "      <td> 0</td>\n",
       "      <td> 0</td>\n",
       "      <td> 0</td>\n",
       "      <td> 0</td>\n",
       "      <td> 1</td>\n",
       "      <td> 0</td>\n",
       "      <td> 0</td>\n",
       "      <td>...</td>\n",
       "      <td> 0</td>\n",
       "      <td> 0</td>\n",
       "      <td> 0</td>\n",
       "      <td> 0</td>\n",
       "      <td> 0</td>\n",
       "      <td> 0.185309</td>\n",
       "      <td> 0.168386</td>\n",
       "      <td> 0.030690</td>\n",
       "      <td> 0.139522</td>\n",
       "      <td> 0.099783</td>\n",
       "    </tr>\n",
       "    <tr>\n",
       "      <th>3</th>\n",
       "      <td> 0</td>\n",
       "      <td> 1</td>\n",
       "      <td> 0</td>\n",
       "      <td> 0</td>\n",
       "      <td> 0</td>\n",
       "      <td> 0</td>\n",
       "      <td> 0</td>\n",
       "      <td> 1</td>\n",
       "      <td> 0</td>\n",
       "      <td> 0</td>\n",
       "      <td>...</td>\n",
       "      <td> 0</td>\n",
       "      <td> 0</td>\n",
       "      <td> 0</td>\n",
       "      <td> 0</td>\n",
       "      <td> 0</td>\n",
       "      <td> 0.250883</td>\n",
       "      <td> 0.236472</td>\n",
       "      <td> 0.027867</td>\n",
       "      <td> 0.210568</td>\n",
       "      <td> 0.132178</td>\n",
       "    </tr>\n",
       "    <tr>\n",
       "      <th>4</th>\n",
       "      <td> 0</td>\n",
       "      <td> 1</td>\n",
       "      <td> 0</td>\n",
       "      <td> 0</td>\n",
       "      <td> 0</td>\n",
       "      <td> 0</td>\n",
       "      <td> 0</td>\n",
       "      <td> 1</td>\n",
       "      <td> 0</td>\n",
       "      <td> 0</td>\n",
       "      <td>...</td>\n",
       "      <td> 0</td>\n",
       "      <td> 0</td>\n",
       "      <td> 0</td>\n",
       "      <td> 0</td>\n",
       "      <td> 0</td>\n",
       "      <td> 0.305391</td>\n",
       "      <td> 0.296920</td>\n",
       "      <td> 0.025380</td>\n",
       "      <td> 0.264497</td>\n",
       "      <td> 0.160218</td>\n",
       "    </tr>\n",
       "  </tbody>\n",
       "</table>\n",
       "<p>5 rows × 66 columns</p>\n",
       "</div>"
      ],
      "text/plain": [
       "   ethoCameraLevel  ethoCameraHolding  ethoCameraZoomingIn  \\\n",
       "0                0                  1                    0   \n",
       "1                0                  1                    0   \n",
       "2                0                  1                    0   \n",
       "3                0                  1                    0   \n",
       "4                0                  1                    0   \n",
       "\n",
       "   ethoCameraZoomingOut  ethoCameraTracking  ethoCameraPanning  \\\n",
       "0                     0                   0                  0   \n",
       "1                     0                   0                  0   \n",
       "2                     0                   0                  0   \n",
       "3                     0                   0                  0   \n",
       "4                     0                   0                  0   \n",
       "\n",
       "   ethoCameraSlewing  ethoCountNone  ethoLeast1  ethoLeast2    ...     \\\n",
       "0                  0              1           0           0    ...      \n",
       "1                  0              1           0           0    ...      \n",
       "2                  0              1           0           0    ...      \n",
       "3                  0              1           0           0    ...      \n",
       "4                  0              1           0           0    ...      \n",
       "\n",
       "   ethoSubmit  ethoDisplace  ethoLeanAway  ethoAvoid  ethoBranchDisplay  \\\n",
       "0           0             0             0          0                  0   \n",
       "1           0             0             0          0                  0   \n",
       "2           0             0             0          0                  0   \n",
       "3           0             0             0          0                  0   \n",
       "4           0             0             0          0                  0   \n",
       "\n",
       "         Z0        Z1        Z2        Z3        Z4  \n",
       "0  0.032431  0.030681  0.007067  0.020552  0.033363  \n",
       "1  0.105307  0.090770  0.034923  0.047004  0.062407  \n",
       "2  0.185309  0.168386  0.030690  0.139522  0.099783  \n",
       "3  0.250883  0.236472  0.027867  0.210568  0.132178  \n",
       "4  0.305391  0.296920  0.025380  0.264497  0.160218  \n",
       "\n",
       "[5 rows x 66 columns]"
      ]
     },
     "execution_count": 18,
     "metadata": {},
     "output_type": "execute_result"
    }
   ],
   "source": [
    "edf.head()"
   ]
  },
  {
   "cell_type": "markdown",
   "metadata": {},
   "source": [
    "# View results:"
   ]
  },
  {
   "cell_type": "code",
   "execution_count": 19,
   "metadata": {
    "collapsed": false
   },
   "outputs": [
    {
     "data": {
      "image/png": "[encoded data removed]",
      "text/plain": [
       "<matplotlib.figure.Figure at 0x119fe7e90>"
      ]
     },
     "metadata": {},
     "output_type": "display_data"
    },
    {
     "data": {
      "image/png": "[encoded data removed]",
      "text/plain": [
       "<matplotlib.figure.Figure at 0x119c75b10>"
      ]
     },
     "metadata": {},
     "output_type": "display_data"
    }
   ],
   "source": [
    "# plot a section in time; each row is a regressor; bottom rows are inferred categories\n",
    "trng = slice(500, 1000)\n",
    "matshow(edf.iloc[trng, :-K].values.T, vmin=0, vmax=1);\n",
    "\n",
    "# zoom in on inferred\n",
    "matshow(edf.iloc[trng, -K:].values.T, vmin=0, vmax=1);"
   ]
  },
  {
   "cell_type": "markdown",
   "metadata": {},
   "source": [
    "## Overlap analysis:"
   ]
  },
  {
   "cell_type": "markdown",
   "metadata": {},
   "source": [
    "Define the overlap as the maximum of the match or mismatch percentage. That is, if $x$ and $y$ are binary vectors, \n",
    "$$\n",
    "\\mathrm{overlap} = \\max \\{ \\mathbb{E}[xy + (1-x)(1-y)], \\mathbb{E}[(1-x)y + x(1-y)]\\}\n",
    "$$"
   ]
  },
  {
   "cell_type": "code",
   "execution_count": 20,
   "metadata": {
    "collapsed": false
   },
   "outputs": [],
   "source": [
    "match = (edf.T.dot(edf) + (1 - edf.T).dot(1 - edf)) / T\n",
    "mismatch = (edf.T.dot(1 - edf) + (1 - edf.T).dot(edf)) / T\n",
    "overlap = np.maximum(match, mismatch)"
   ]
  },
  {
   "cell_type": "code",
   "execution_count": 21,
   "metadata": {
    "collapsed": false
   },
   "outputs": [
    {
     "data": {
      "image/png": "[encoded data removed]",
      "text/plain": [
       "<matplotlib.figure.Figure at 0x119d8b3d0>"
      ]
     },
     "metadata": {},
     "output_type": "display_data"
    }
   ],
   "source": [
    "row_labels = edf.columns[:]\n",
    "matshow(overlap.values[-K:,:]) #, vmin=0.5, vmax=1)\n",
    "plt.ylabel('inferred factor')\n",
    "plt.xlabel('labeled factor')\n",
    "plt.colorbar();\n",
    "\n",
    "# add column names\n",
    "ax = plt.gca()\n",
    "ax.xaxis.set_label_position('top')\n",
    "plt.tick_params(axis='x', which='both', top='off', bottom='off', \n",
    "                labelbottom='on', labeltop='off', pad=5)\n",
    "plt.xticks(xrange(len(row_labels)), row_labels, rotation='vertical', horizontalalignment='center');"
   ]
  },
  {
   "cell_type": "code",
   "execution_count": 22,
   "metadata": {
    "collapsed": false
   },
   "outputs": [
    {
     "data": {
      "text/html": [
       "<div style=\"max-height:1000px;max-width:1500px;overflow:auto;\">\n",
       "<table border=\"1\" class=\"dataframe\">\n",
       "  <thead>\n",
       "    <tr style=\"text-align: right;\">\n",
       "      <th></th>\n",
       "      <th>ethoCameraLevel</th>\n",
       "      <th>ethoCameraHolding</th>\n",
       "      <th>ethoCameraZoomingIn</th>\n",
       "      <th>ethoCameraZoomingOut</th>\n",
       "      <th>ethoCameraTracking</th>\n",
       "      <th>ethoCameraPanning</th>\n",
       "      <th>ethoCameraSlewing</th>\n",
       "      <th>ethoCountNone</th>\n",
       "      <th>ethoLeast1</th>\n",
       "      <th>ethoLeast2</th>\n",
       "      <th>...</th>\n",
       "      <th>ethoSubmit</th>\n",
       "      <th>ethoDisplace</th>\n",
       "      <th>ethoLeanAway</th>\n",
       "      <th>ethoAvoid</th>\n",
       "      <th>ethoBranchDisplay</th>\n",
       "      <th>Z0</th>\n",
       "      <th>Z1</th>\n",
       "      <th>Z2</th>\n",
       "      <th>Z3</th>\n",
       "      <th>Z4</th>\n",
       "    </tr>\n",
       "  </thead>\n",
       "  <tbody>\n",
       "    <tr>\n",
       "      <th>Z0</th>\n",
       "      <td> 0.515935</td>\n",
       "      <td> 0.512729</td>\n",
       "      <td> 0.522212</td>\n",
       "      <td> 0.523755</td>\n",
       "      <td> 0.521401</td>\n",
       "      <td> 0.522692</td>\n",
       "      <td> 0.520021</td>\n",
       "      <td> 0.520432</td>\n",
       "      <td> 0.520432</td>\n",
       "      <td> 0.507245</td>\n",
       "      <td>...</td>\n",
       "      <td> 0.524335</td>\n",
       "      <td> 0.524199</td>\n",
       "      <td> 0.524350</td>\n",
       "      <td> 0.524324</td>\n",
       "      <td> 0.524229</td>\n",
       "      <td> 0.682492</td>\n",
       "      <td> 0.500918</td>\n",
       "      <td> 0.504596</td>\n",
       "      <td> 0.503304</td>\n",
       "      <td> 0.507644</td>\n",
       "    </tr>\n",
       "    <tr>\n",
       "      <th>Z1</th>\n",
       "      <td> 0.599318</td>\n",
       "      <td> 0.551146</td>\n",
       "      <td> 0.610825</td>\n",
       "      <td> 0.620777</td>\n",
       "      <td> 0.597975</td>\n",
       "      <td> 0.617860</td>\n",
       "      <td> 0.613304</td>\n",
       "      <td> 0.609538</td>\n",
       "      <td> 0.609538</td>\n",
       "      <td> 0.534189</td>\n",
       "      <td>...</td>\n",
       "      <td> 0.626337</td>\n",
       "      <td> 0.626572</td>\n",
       "      <td> 0.627323</td>\n",
       "      <td> 0.627204</td>\n",
       "      <td> 0.627331</td>\n",
       "      <td> 0.500918</td>\n",
       "      <td> 0.734310</td>\n",
       "      <td> 0.531093</td>\n",
       "      <td> 0.514087</td>\n",
       "      <td> 0.515157</td>\n",
       "    </tr>\n",
       "    <tr>\n",
       "      <th>Z2</th>\n",
       "      <td> 0.563162</td>\n",
       "      <td> 0.539368</td>\n",
       "      <td> 0.580626</td>\n",
       "      <td> 0.586643</td>\n",
       "      <td> 0.572754</td>\n",
       "      <td> 0.584736</td>\n",
       "      <td> 0.583058</td>\n",
       "      <td> 0.579464</td>\n",
       "      <td> 0.579464</td>\n",
       "      <td> 0.513177</td>\n",
       "      <td>...</td>\n",
       "      <td> 0.590610</td>\n",
       "      <td> 0.591358</td>\n",
       "      <td> 0.592014</td>\n",
       "      <td> 0.592103</td>\n",
       "      <td> 0.591984</td>\n",
       "      <td> 0.504596</td>\n",
       "      <td> 0.531093</td>\n",
       "      <td> 0.760900</td>\n",
       "      <td> 0.501764</td>\n",
       "      <td> 0.520881</td>\n",
       "    </tr>\n",
       "    <tr>\n",
       "      <th>Z3</th>\n",
       "      <td> 0.534901</td>\n",
       "      <td> 0.520467</td>\n",
       "      <td> 0.541828</td>\n",
       "      <td> 0.545484</td>\n",
       "      <td> 0.536922</td>\n",
       "      <td> 0.544622</td>\n",
       "      <td> 0.541607</td>\n",
       "      <td> 0.539915</td>\n",
       "      <td> 0.539915</td>\n",
       "      <td> 0.520611</td>\n",
       "      <td>...</td>\n",
       "      <td> 0.547570</td>\n",
       "      <td> 0.547140</td>\n",
       "      <td> 0.547502</td>\n",
       "      <td> 0.547472</td>\n",
       "      <td> 0.547359</td>\n",
       "      <td> 0.503304</td>\n",
       "      <td> 0.514087</td>\n",
       "      <td> 0.501764</td>\n",
       "      <td> 0.673197</td>\n",
       "      <td> 0.516352</td>\n",
       "    </tr>\n",
       "    <tr>\n",
       "      <th>Z4</th>\n",
       "      <td> 0.547226</td>\n",
       "      <td> 0.531719</td>\n",
       "      <td> 0.561349</td>\n",
       "      <td> 0.565522</td>\n",
       "      <td> 0.556079</td>\n",
       "      <td> 0.563020</td>\n",
       "      <td> 0.559964</td>\n",
       "      <td> 0.557095</td>\n",
       "      <td> 0.557095</td>\n",
       "      <td> 0.530413</td>\n",
       "      <td>...</td>\n",
       "      <td> 0.568183</td>\n",
       "      <td> 0.568508</td>\n",
       "      <td> 0.568489</td>\n",
       "      <td> 0.568342</td>\n",
       "      <td> 0.568612</td>\n",
       "      <td> 0.507644</td>\n",
       "      <td> 0.515157</td>\n",
       "      <td> 0.520881</td>\n",
       "      <td> 0.516352</td>\n",
       "      <td> 0.768161</td>\n",
       "    </tr>\n",
       "  </tbody>\n",
       "</table>\n",
       "<p>5 rows × 66 columns</p>\n",
       "</div>"
      ],
      "text/plain": [
       "    ethoCameraLevel  ethoCameraHolding  ethoCameraZoomingIn  \\\n",
       "Z0         0.515935           0.512729             0.522212   \n",
       "Z1         0.599318           0.551146             0.610825   \n",
       "Z2         0.563162           0.539368             0.580626   \n",
       "Z3         0.534901           0.520467             0.541828   \n",
       "Z4         0.547226           0.531719             0.561349   \n",
       "\n",
       "    ethoCameraZoomingOut  ethoCameraTracking  ethoCameraPanning  \\\n",
       "Z0              0.523755            0.521401           0.522692   \n",
       "Z1              0.620777            0.597975           0.617860   \n",
       "Z2              0.586643            0.572754           0.584736   \n",
       "Z3              0.545484            0.536922           0.544622   \n",
       "Z4              0.565522            0.556079           0.563020   \n",
       "\n",
       "    ethoCameraSlewing  ethoCountNone  ethoLeast1  ethoLeast2    ...     \\\n",
       "Z0           0.520021       0.520432    0.520432    0.507245    ...      \n",
       "Z1           0.613304       0.609538    0.609538    0.534189    ...      \n",
       "Z2           0.583058       0.579464    0.579464    0.513177    ...      \n",
       "Z3           0.541607       0.539915    0.539915    0.520611    ...      \n",
       "Z4           0.559964       0.557095    0.557095    0.530413    ...      \n",
       "\n",
       "    ethoSubmit  ethoDisplace  ethoLeanAway  ethoAvoid  ethoBranchDisplay  \\\n",
       "Z0    0.524335      0.524199      0.524350   0.524324           0.524229   \n",
       "Z1    0.626337      0.626572      0.627323   0.627204           0.627331   \n",
       "Z2    0.590610      0.591358      0.592014   0.592103           0.591984   \n",
       "Z3    0.547570      0.547140      0.547502   0.547472           0.547359   \n",
       "Z4    0.568183      0.568508      0.568489   0.568342           0.568612   \n",
       "\n",
       "          Z0        Z1        Z2        Z3        Z4  \n",
       "Z0  0.682492  0.500918  0.504596  0.503304  0.507644  \n",
       "Z1  0.500918  0.734310  0.531093  0.514087  0.515157  \n",
       "Z2  0.504596  0.531093  0.760900  0.501764  0.520881  \n",
       "Z3  0.503304  0.514087  0.501764  0.673197  0.516352  \n",
       "Z4  0.507644  0.515157  0.520881  0.516352  0.768161  \n",
       "\n",
       "[5 rows x 66 columns]"
      ]
     },
     "execution_count": 22,
     "metadata": {},
     "output_type": "execute_result"
    }
   ],
   "source": [
    "overlap.iloc[-K:, :]"
   ]
  },
  {
   "cell_type": "code",
   "execution_count": null,
   "metadata": {
    "collapsed": true
   },
   "outputs": [],
   "source": []
  }
 ],
 "metadata": {
  "kernelspec": {
   "display_name": "Python 2",
   "language": "python",
   "name": "python2"
  },
  "language_info": {
   "codemirror_mode": {
    "name": "ipython",
    "version": 2
   },
   "file_extension": ".py",
   "mimetype": "text/x-python",
   "name": "python",
   "nbconvert_exporter": "python",
   "pygments_lexer": "ipython2",
   "version": "2.7.9"
  }
 },
 "nbformat": 4,
 "nbformat_minor": 0
}
