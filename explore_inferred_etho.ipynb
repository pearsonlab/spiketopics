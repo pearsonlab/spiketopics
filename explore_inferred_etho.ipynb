{
 "cells": [
  {
   "cell_type": "code",
   "execution_count": 1,
   "metadata": {
    "collapsed": false
   },
   "outputs": [],
   "source": [
    "from __future__ import division\n",
    "import numpy as np\n",
    "import pandas as pd\n",
    "import matplotlib.pyplot as plt\n",
    "import seaborn as sns\n",
    "import matplotlib.cm as cm\n",
    "import cPickle as pickle\n",
    "from helpers import *\n",
    "\n",
    "%matplotlib inline\n",
    "sns.set_style('darkgrid')"
   ]
  },
  {
   "cell_type": "markdown",
   "metadata": {},
   "source": [
    "# Load in data"
   ]
  },
  {
   "cell_type": "code",
   "execution_count": 2,
   "metadata": {
    "collapsed": true
   },
   "outputs": [],
   "source": [
    "infile = 'data/fitted_model_object.pkl'\n",
    "gpm = pickle.load(open(infile, 'rb'))\n",
    "dt = 1 / 30."
   ]
  },
  {
   "cell_type": "code",
   "execution_count": 3,
   "metadata": {
    "collapsed": false
   },
   "outputs": [
    {
     "data": {
      "text/html": [
       "<div style=\"max-height:1000px;max-width:1500px;overflow:auto;\">\n",
       "<table border=\"1\" class=\"dataframe\">\n",
       "  <thead>\n",
       "    <tr style=\"text-align: right;\">\n",
       "      <th></th>\n",
       "      <th>unit</th>\n",
       "      <th>time</th>\n",
       "      <th>count</th>\n",
       "      <th>lam0</th>\n",
       "      <th>lam1</th>\n",
       "    </tr>\n",
       "  </thead>\n",
       "  <tbody>\n",
       "    <tr>\n",
       "      <th>0</th>\n",
       "      <td> 10</td>\n",
       "      <td> 0</td>\n",
       "      <td> 0</td>\n",
       "      <td>-0.146930</td>\n",
       "      <td>-0.080393</td>\n",
       "    </tr>\n",
       "    <tr>\n",
       "      <th>1</th>\n",
       "      <td> 11</td>\n",
       "      <td> 0</td>\n",
       "      <td> 0</td>\n",
       "      <td>-2.003209</td>\n",
       "      <td>-0.885357</td>\n",
       "    </tr>\n",
       "    <tr>\n",
       "      <th>2</th>\n",
       "      <td> 10</td>\n",
       "      <td> 1</td>\n",
       "      <td> 0</td>\n",
       "      <td>-0.097947</td>\n",
       "      <td>-0.053592</td>\n",
       "    </tr>\n",
       "    <tr>\n",
       "      <th>3</th>\n",
       "      <td> 11</td>\n",
       "      <td> 1</td>\n",
       "      <td> 4</td>\n",
       "      <td>-3.460257</td>\n",
       "      <td>-4.795559</td>\n",
       "    </tr>\n",
       "    <tr>\n",
       "      <th>4</th>\n",
       "      <td> 10</td>\n",
       "      <td> 2</td>\n",
       "      <td> 0</td>\n",
       "      <td>-0.121106</td>\n",
       "      <td>-0.066263</td>\n",
       "    </tr>\n",
       "  </tbody>\n",
       "</table>\n",
       "</div>"
      ],
      "text/plain": [
       "   unit  time  count      lam0      lam1\n",
       "0    10     0      0 -0.146930 -0.080393\n",
       "1    11     0      0 -2.003209 -0.885357\n",
       "2    10     1      0 -0.097947 -0.053592\n",
       "3    11     1      4 -3.460257 -4.795559\n",
       "4    10     2      0 -0.121106 -0.066263"
      ]
     },
     "execution_count": 3,
     "metadata": {},
     "output_type": "execute_result"
    }
   ],
   "source": [
    "gpm.Nframe.head()"
   ]
  },
  {
   "cell_type": "code",
   "execution_count": 4,
   "metadata": {
    "collapsed": false
   },
   "outputs": [
    {
     "data": {
      "text/html": [
       "<div style=\"max-height:1000px;max-width:1500px;overflow:auto;\">\n",
       "<table border=\"1\" class=\"dataframe\">\n",
       "  <thead>\n",
       "    <tr style=\"text-align: right;\">\n",
       "      <th></th>\n",
       "      <th>X0</th>\n",
       "    </tr>\n",
       "  </thead>\n",
       "  <tbody>\n",
       "    <tr>\n",
       "      <th>0</th>\n",
       "      <td> 1.749200</td>\n",
       "    </tr>\n",
       "    <tr>\n",
       "      <th>1</th>\n",
       "      <td> 0.716926</td>\n",
       "    </tr>\n",
       "    <tr>\n",
       "      <th>2</th>\n",
       "      <td> 1.386294</td>\n",
       "    </tr>\n",
       "    <tr>\n",
       "      <th>3</th>\n",
       "      <td> 0.750306</td>\n",
       "    </tr>\n",
       "    <tr>\n",
       "      <th>4</th>\n",
       "      <td> 1.609438</td>\n",
       "    </tr>\n",
       "  </tbody>\n",
       "</table>\n",
       "</div>"
      ],
      "text/plain": [
       "         X0\n",
       "0  1.749200\n",
       "1  0.716926\n",
       "2  1.386294\n",
       "3  0.750306\n",
       "4  1.609438"
      ]
     },
     "execution_count": 4,
     "metadata": {},
     "output_type": "execute_result"
    }
   ],
   "source": [
    "gpm.Xframe.head()"
   ]
  },
  {
   "cell_type": "markdown",
   "metadata": {},
   "source": [
    "# Plot inferred categories as matrix"
   ]
  },
  {
   "cell_type": "code",
   "execution_count": 5,
   "metadata": {
    "collapsed": false
   },
   "outputs": [
    {
     "name": "stdout",
     "output_type": "stream",
     "text": [
      "(512644, 5)\n"
     ]
    }
   ],
   "source": [
    "xi = gpm.nodes['HMM'].nodes['z'].z[1]\n",
    "T, K = xi.shape\n",
    "print xi.shape"
   ]
  },
  {
   "cell_type": "code",
   "execution_count": 6,
   "metadata": {
    "collapsed": false
   },
   "outputs": [
    {
     "data": {
      "text/plain": [
       "<matplotlib.image.AxesImage at 0x104cf1450>"
      ]
     },
     "execution_count": 6,
     "metadata": {},
     "output_type": "execute_result"
    },
    {
     "data": {
      "image/png": "[encoded data removed]",
      "text/plain": [
       "<matplotlib.figure.Figure at 0x1057ba790>"
      ]
     },
     "metadata": {},
     "output_type": "display_data"
    }
   ],
   "source": [
    "matshow(xi[:5000].T, vmin=0, vmax=1);"
   ]
  },
  {
   "cell_type": "markdown",
   "metadata": {},
   "source": [
    "Make $\\xi$ dataframe:"
   ]
  },
  {
   "cell_type": "code",
   "execution_count": 7,
   "metadata": {
    "collapsed": false
   },
   "outputs": [],
   "source": [
    "xif = pd.DataFrame(xi)\n",
    "xif.columns = ['Z' + str(k) for k in range(K)]\n",
    "xif.index.name = 'time'\n",
    "xif = xif.reset_index()"
   ]
  },
  {
   "cell_type": "markdown",
   "metadata": {},
   "source": [
    "# Posteriors for effects"
   ]
  },
  {
   "cell_type": "markdown",
   "metadata": {},
   "source": [
    "## Baselines"
   ]
  },
  {
   "cell_type": "code",
   "execution_count": 8,
   "metadata": {
    "collapsed": false
   },
   "outputs": [
    {
     "data": {
      "image/png": "[encoded data removed]",
      "text/plain": [
       "<matplotlib.figure.Figure at 0x1189dedd0>"
      ]
     },
     "metadata": {},
     "output_type": "display_data"
    }
   ],
   "source": [
    "plt.figure(figsize=(14, 4))\n",
    "\n",
    "th = gpm.nodes['baseline_mean']\n",
    "cc = gpm.nodes['baseline_shape']\n",
    "th_pars = [th.post_shape, th.post_rate]\n",
    "cc_pars = [cc.post_shape, cc.post_rate]\n",
    "samples = gamma_from_hypers(th_pars, cc_pars, 1e5)\n",
    "\n",
    "plt.subplot(1, 3, 1)\n",
    "xx = np.linspace(0, 20, 500)\n",
    "plt.plot(xx, stats.invgamma.pdf(xx, a=th_pars[0], scale=th_pars[1]/dt))\n",
    "plt.title('Baseline mean parameter posterior');\n",
    "\n",
    "plt.subplot(1, 3, 2)\n",
    "xx = np.linspace(0, 2, 500)\n",
    "plt.plot(xx, stats.invgamma.pdf(xx, a=cc_pars[0], scale=cc_pars[1]))\n",
    "plt.title('Baseline variance parameter posterior');\n",
    "\n",
    "plt.subplot(1, 3, 3)\n",
    "sns.kdeplot(samples / dt, gridsize=1e4, clip=(0, 100))\n",
    "plt.title('baseline posterior distribution')\n",
    "plt.xlabel('Firing rate (Hz)')\n",
    "plt.xlim(0, 100);"
   ]
  },
  {
   "cell_type": "markdown",
   "metadata": {},
   "source": [
    "## Regressors"
   ]
  },
  {
   "cell_type": "code",
   "execution_count": 9,
   "metadata": {
    "collapsed": false
   },
   "outputs": [
    {
     "data": {
      "image/png": "[encoded data removed]",
      "text/plain": [
       "<matplotlib.figure.Figure at 0x104c6b890>"
      ]
     },
     "metadata": {},
     "output_type": "display_data"
    }
   ],
   "source": [
    "plt.figure(figsize=(8, 6))\n",
    "inferred_means = gpm.nodes['fr_regressors'].expected_x()\n",
    "R = inferred_means.shape[1]\n",
    "for r in xrange(R):\n",
    "    plt.hist(inferred_means[:, r], bins=50, normed=True, alpha=0.25, label='X' + str(r))\n",
    "plt.title('Regression effects');\n",
    "plt.legend()\n",
    "plt.ylim(0, 5);\n",
    "plt.xlim(0, 5);"
   ]
  },
  {
   "cell_type": "markdown",
   "metadata": {},
   "source": [
    "## Latent Categories"
   ]
  },
  {
   "cell_type": "code",
   "execution_count": 10,
   "metadata": {
    "collapsed": false
   },
   "outputs": [
    {
     "data": {
      "image/png": "[encoded data removed]",
      "text/plain": [
       "<matplotlib.figure.Figure at 0x119b91510>"
      ]
     },
     "metadata": {},
     "output_type": "display_data"
    }
   ],
   "source": [
    "plt.figure(figsize=(16, 4))\n",
    "\n",
    "th = gpm.nodes['fr_latents_mean']\n",
    "cc = gpm.nodes['fr_latents_shape']\n",
    "\n",
    "th_pars = np.c_[th.post_shape, th.post_rate].T\n",
    "cc_pars = np.c_[cc.post_shape, cc.post_rate].T\n",
    "\n",
    "plt.subplot(1, 3, 1)\n",
    "xx = np.linspace(0, 2, 500)\n",
    "for kk in xrange(K):\n",
    "    plt.plot(xx, stats.invgamma.pdf(xx, a=th_pars[0, kk], scale=th_pars[1, kk]), label='Z' + str(kk))\n",
    "plt.legend()\n",
    "plt.title('effect mean posterior');\n",
    "\n",
    "plt.subplot(1, 3, 2)\n",
    "xx = np.linspace(0, 5, 500)\n",
    "for kk in xrange(K):\n",
    "    plt.plot(xx, stats.invgamma.pdf(xx, a=cc_pars[0, kk], scale=cc_pars[1, kk]), label='Z' + str(kk))\n",
    "plt.legend()\n",
    "plt.title('effect variance parameter posterior');\n",
    "\n",
    "plt.subplot(1, 3, 3)\n",
    "for kk in xrange(K):\n",
    "    samples = gamma_from_hypers(th_pars[:, kk], cc_pars[:, kk], 1e5)\n",
    "    sns.kdeplot(samples, gridsize=1e4, clip=(0, 10), label='Z' + str(kk))\n",
    "plt.legend()\n",
    "plt.title(r'$\\lambda$ effect posterior distribution')\n",
    "plt.xlabel('Firing rate (Hz)')\n",
    "plt.xlim(0, 2);"
   ]
  },
  {
   "cell_type": "code",
   "execution_count": 11,
   "metadata": {
    "collapsed": false
   },
   "outputs": [
    {
     "data": {
      "image/png": "[encoded data removed]",
      "text/plain": [
       "<matplotlib.figure.Figure at 0x104c6b9d0>"
      ]
     },
     "metadata": {},
     "output_type": "display_data"
    }
   ],
   "source": [
    "plt.figure(figsize=(8, 6))\n",
    "\n",
    "inferred_effects = gpm.nodes['fr_latents'].expected_x()\n",
    "for kk in xrange(K):\n",
    "    plt.hist(inferred_effects[..., kk], bins=50, normed=True, alpha=0.25, label='Z' + str(kk));\n",
    "plt.legend();\n",
    "plt.title('Firing rate effects');\n",
    "plt.ylim(0, 5);"
   ]
  },
  {
   "cell_type": "markdown",
   "metadata": {},
   "source": [
    "## Overdispersion"
   ]
  },
  {
   "cell_type": "code",
   "execution_count": 12,
   "metadata": {
    "collapsed": false
   },
   "outputs": [
    {
     "data": {
      "image/png": "[encoded data removed]",
      "text/plain": [
       "<matplotlib.figure.Figure at 0x11aab5710>"
      ]
     },
     "metadata": {},
     "output_type": "display_data"
    }
   ],
   "source": [
    "plt.figure(figsize=(8, 6))\n",
    "\n",
    "inferred_means = gpm.nodes['overdispersion'].expected_x().ravel()\n",
    "plt.hist(inferred_means, bins=500, normed=True, alpha=0.25);\n",
    "plt.title('Overdispersion effects');\n",
    "plt.ylim(0, 2);"
   ]
  },
  {
   "cell_type": "markdown",
   "metadata": {},
   "source": [
    "# Load and prepare ethogram:"
   ]
  },
  {
   "cell_type": "markdown",
   "metadata": {},
   "source": [
    "Our goal here is to load the ethogram, join it to the inferred ethogram, and perform some comparisons to see if any of our discovered categories match hand-labeled categories from the ethogram."
   ]
  },
  {
   "cell_type": "code",
   "execution_count": 38,
   "metadata": {
    "collapsed": false
   },
   "outputs": [],
   "source": [
    "ethofile = 'sql/etho.csv'\n",
    "etho = pd.read_csv(ethofile)"
   ]
  },
  {
   "cell_type": "code",
   "execution_count": 39,
   "metadata": {
    "collapsed": false
   },
   "outputs": [],
   "source": [
    "# rename some columns\n",
    "etho = etho.rename(columns={'movieId': 'movie', 'frameNumber': 'frame'})\n",
    "etho = frames_to_times(etho)"
   ]
  },
  {
   "cell_type": "code",
   "execution_count": 40,
   "metadata": {
    "collapsed": false
   },
   "outputs": [
    {
     "data": {
      "text/html": [
       "<div style=\"max-height:1000px;max-width:1500px;overflow:auto;\">\n",
       "<table border=\"1\" class=\"dataframe\">\n",
       "  <thead>\n",
       "    <tr style=\"text-align: right;\">\n",
       "      <th></th>\n",
       "      <th>frameTime</th>\n",
       "      <th>ethoCameraLabel</th>\n",
       "      <th>ethoCameraLevel</th>\n",
       "      <th>ethoCameraHolding</th>\n",
       "      <th>ethoCameraZoomingIn</th>\n",
       "      <th>ethoCameraZoomingOut</th>\n",
       "      <th>ethoCameraTracking</th>\n",
       "      <th>ethoCameraPanning</th>\n",
       "      <th>ethoCameraSlewing</th>\n",
       "      <th>ethoRoughCountLabel</th>\n",
       "      <th>...</th>\n",
       "      <th>ethoChase</th>\n",
       "      <th>ethoFlee</th>\n",
       "      <th>ethoThreaten</th>\n",
       "      <th>ethoMountedThreaten</th>\n",
       "      <th>ethoSubmit</th>\n",
       "      <th>ethoDisplace</th>\n",
       "      <th>ethoLeanAway</th>\n",
       "      <th>ethoAvoid</th>\n",
       "      <th>ethoBranchDisplay</th>\n",
       "      <th>time</th>\n",
       "    </tr>\n",
       "  </thead>\n",
       "  <tbody>\n",
       "    <tr>\n",
       "      <th>0</th>\n",
       "      <td> 0.0000</td>\n",
       "      <td> holding</td>\n",
       "      <td> 0</td>\n",
       "      <td> 1</td>\n",
       "      <td> 0</td>\n",
       "      <td> 0</td>\n",
       "      <td> 0</td>\n",
       "      <td> 0</td>\n",
       "      <td> 0</td>\n",
       "      <td> 0</td>\n",
       "      <td>...</td>\n",
       "      <td> 0</td>\n",
       "      <td> 0</td>\n",
       "      <td> 0</td>\n",
       "      <td> 0</td>\n",
       "      <td> 0</td>\n",
       "      <td> 0</td>\n",
       "      <td> 0</td>\n",
       "      <td> 0</td>\n",
       "      <td> 0</td>\n",
       "      <td> 0</td>\n",
       "    </tr>\n",
       "    <tr>\n",
       "      <th>1</th>\n",
       "      <td> 0.0333</td>\n",
       "      <td> holding</td>\n",
       "      <td> 0</td>\n",
       "      <td> 1</td>\n",
       "      <td> 0</td>\n",
       "      <td> 0</td>\n",
       "      <td> 0</td>\n",
       "      <td> 0</td>\n",
       "      <td> 0</td>\n",
       "      <td> 0</td>\n",
       "      <td>...</td>\n",
       "      <td> 0</td>\n",
       "      <td> 0</td>\n",
       "      <td> 0</td>\n",
       "      <td> 0</td>\n",
       "      <td> 0</td>\n",
       "      <td> 0</td>\n",
       "      <td> 0</td>\n",
       "      <td> 0</td>\n",
       "      <td> 0</td>\n",
       "      <td> 1</td>\n",
       "    </tr>\n",
       "    <tr>\n",
       "      <th>2</th>\n",
       "      <td> 0.0667</td>\n",
       "      <td> holding</td>\n",
       "      <td> 0</td>\n",
       "      <td> 1</td>\n",
       "      <td> 0</td>\n",
       "      <td> 0</td>\n",
       "      <td> 0</td>\n",
       "      <td> 0</td>\n",
       "      <td> 0</td>\n",
       "      <td> 0</td>\n",
       "      <td>...</td>\n",
       "      <td> 0</td>\n",
       "      <td> 0</td>\n",
       "      <td> 0</td>\n",
       "      <td> 0</td>\n",
       "      <td> 0</td>\n",
       "      <td> 0</td>\n",
       "      <td> 0</td>\n",
       "      <td> 0</td>\n",
       "      <td> 0</td>\n",
       "      <td> 2</td>\n",
       "    </tr>\n",
       "    <tr>\n",
       "      <th>3</th>\n",
       "      <td> 0.1000</td>\n",
       "      <td> holding</td>\n",
       "      <td> 0</td>\n",
       "      <td> 1</td>\n",
       "      <td> 0</td>\n",
       "      <td> 0</td>\n",
       "      <td> 0</td>\n",
       "      <td> 0</td>\n",
       "      <td> 0</td>\n",
       "      <td> 0</td>\n",
       "      <td>...</td>\n",
       "      <td> 0</td>\n",
       "      <td> 0</td>\n",
       "      <td> 0</td>\n",
       "      <td> 0</td>\n",
       "      <td> 0</td>\n",
       "      <td> 0</td>\n",
       "      <td> 0</td>\n",
       "      <td> 0</td>\n",
       "      <td> 0</td>\n",
       "      <td> 3</td>\n",
       "    </tr>\n",
       "    <tr>\n",
       "      <th>4</th>\n",
       "      <td> 0.1333</td>\n",
       "      <td> holding</td>\n",
       "      <td> 0</td>\n",
       "      <td> 1</td>\n",
       "      <td> 0</td>\n",
       "      <td> 0</td>\n",
       "      <td> 0</td>\n",
       "      <td> 0</td>\n",
       "      <td> 0</td>\n",
       "      <td> 0</td>\n",
       "      <td>...</td>\n",
       "      <td> 0</td>\n",
       "      <td> 0</td>\n",
       "      <td> 0</td>\n",
       "      <td> 0</td>\n",
       "      <td> 0</td>\n",
       "      <td> 0</td>\n",
       "      <td> 0</td>\n",
       "      <td> 0</td>\n",
       "      <td> 0</td>\n",
       "      <td> 4</td>\n",
       "    </tr>\n",
       "  </tbody>\n",
       "</table>\n",
       "<p>5 rows × 74 columns</p>\n",
       "</div>"
      ],
      "text/plain": [
       "   frameTime ethoCameraLabel  ethoCameraLevel  ethoCameraHolding  \\\n",
       "0     0.0000         holding                0                  1   \n",
       "1     0.0333         holding                0                  1   \n",
       "2     0.0667         holding                0                  1   \n",
       "3     0.1000         holding                0                  1   \n",
       "4     0.1333         holding                0                  1   \n",
       "\n",
       "   ethoCameraZoomingIn  ethoCameraZoomingOut  ethoCameraTracking  \\\n",
       "0                    0                     0                   0   \n",
       "1                    0                     0                   0   \n",
       "2                    0                     0                   0   \n",
       "3                    0                     0                   0   \n",
       "4                    0                     0                   0   \n",
       "\n",
       "   ethoCameraPanning  ethoCameraSlewing ethoRoughCountLabel  ...   ethoChase  \\\n",
       "0                  0                  0                   0  ...           0   \n",
       "1                  0                  0                   0  ...           0   \n",
       "2                  0                  0                   0  ...           0   \n",
       "3                  0                  0                   0  ...           0   \n",
       "4                  0                  0                   0  ...           0   \n",
       "\n",
       "   ethoFlee  ethoThreaten  ethoMountedThreaten  ethoSubmit  ethoDisplace  \\\n",
       "0         0             0                    0           0             0   \n",
       "1         0             0                    0           0             0   \n",
       "2         0             0                    0           0             0   \n",
       "3         0             0                    0           0             0   \n",
       "4         0             0                    0           0             0   \n",
       "\n",
       "   ethoLeanAway  ethoAvoid ethoBranchDisplay  time  \n",
       "0             0          0                 0     0  \n",
       "1             0          0                 0     1  \n",
       "2             0          0                 0     2  \n",
       "3             0          0                 0     3  \n",
       "4             0          0                 0     4  \n",
       "\n",
       "[5 rows x 74 columns]"
      ]
     },
     "execution_count": 40,
     "metadata": {},
     "output_type": "execute_result"
    }
   ],
   "source": [
    "etho.head()"
   ]
  },
  {
   "cell_type": "code",
   "execution_count": 41,
   "metadata": {
    "collapsed": false
   },
   "outputs": [
    {
     "data": {
      "text/plain": [
       "Index([u'frameTime', u'ethoCameraLabel', u'ethoCameraLevel', u'ethoCameraHolding', u'ethoCameraZoomingIn', u'ethoCameraZoomingOut', u'ethoCameraTracking', u'ethoCameraPanning', u'ethoCameraSlewing', u'ethoRoughCountLabel', u'ethoRoughCountLevel', u'ethoCountNone', u'ethoLeast1', u'ethoLeast2', u'ethoLeast3', u'ethoLeast6', u'ethoLeast11', u'ethoHumanVisible', u'ethoFaceLabel', u'ethoFaceViewLevel', u'ethoFaceNone', u'ethoFaceVisible', u'ethoFaceProminent', u'ethoFaceDirect', u'ethoFaceEyeContact', u'ethoGenitalsLabel', u'ethoGenitalsViewLevel', u'ethoGenitalsNone', u'ethoGenitalsVisible', u'ethoGenitalsProminent', u'ethoGenitalsMale', u'ethoGenitalsFemale', u'ethoGenitalsBoth', u'ethoForageLabel', u'ethoForageLevel', u'ethoForage', u'ethoMassForage', u'ethoDrink', u'ethoSearch', u'ethoGraspFood', u'ethoHoldFood', u'ethoHoldInMouth', u'ethoManipulateFood', u'ethoIngestFood', u'ethoIngestFromGroom', u'ethoChew', u'ethoRetrieveFromPouch', u'ethoHeave', u'ethoAllogroom', u'ethoSolicitAllogroom', u'ethoScratch', u'ethoAutogroom', u'ethoAggressionLabel', u'ethoAggressionLevel', u'ethoAggressionNone', u'ethoAggressionAny', u'ethoAggressionTwo', u'ethoAggressionJoint', u'ethoAggressionMass', u'ethoStrike', u'ethoGrapple', u'ethoLunge', u'ethoWithdraw', u'ethoCharge', u'ethoChase', u'ethoFlee', u'ethoThreaten', u'ethoMountedThreaten', u'ethoSubmit', u'ethoDisplace', u'ethoLeanAway', u'ethoAvoid', u'ethoBranchDisplay', u'time', u'Z0', u'Z1', u'Z2', u'Z3', u'Z4'], dtype='object')"
      ]
     },
     "execution_count": 41,
     "metadata": {},
     "output_type": "execute_result"
    }
   ],
   "source": [
    "# merge labeled and inferred etho on movie and frame columns\n",
    "edf = pd.merge(etho, xif, how='right')\n",
    "edf.columns"
   ]
  },
  {
   "cell_type": "code",
   "execution_count": 42,
   "metadata": {
    "collapsed": false
   },
   "outputs": [],
   "source": [
    "# get rid of categories that are either identifiers or have non-binary entries\n",
    "edf = edf.drop(['frameTime', 'ethoCameraLabel', 'ethoFaceLabel',\n",
    "                'ethoGenitalsLabel', 'ethoForageLabel', 'ethoAggressionLabel', 'time',\n",
    "                'ethoRoughCountLabel', 'ethoRoughCountLevel', 'ethoFaceViewLevel', \n",
    "                'ethoGenitalsViewLevel', 'ethoForageLevel', 'ethoAggressionLevel'], axis=1)\n"
   ]
  },
  {
   "cell_type": "code",
   "execution_count": 43,
   "metadata": {
    "collapsed": false
   },
   "outputs": [
    {
     "data": {
      "text/html": [
       "<div style=\"max-height:1000px;max-width:1500px;overflow:auto;\">\n",
       "<table border=\"1\" class=\"dataframe\">\n",
       "  <thead>\n",
       "    <tr style=\"text-align: right;\">\n",
       "      <th></th>\n",
       "      <th>ethoCameraLevel</th>\n",
       "      <th>ethoCameraHolding</th>\n",
       "      <th>ethoCameraZoomingIn</th>\n",
       "      <th>ethoCameraZoomingOut</th>\n",
       "      <th>ethoCameraTracking</th>\n",
       "      <th>ethoCameraPanning</th>\n",
       "      <th>ethoCameraSlewing</th>\n",
       "      <th>ethoCountNone</th>\n",
       "      <th>ethoLeast1</th>\n",
       "      <th>ethoLeast2</th>\n",
       "      <th>...</th>\n",
       "      <th>ethoSubmit</th>\n",
       "      <th>ethoDisplace</th>\n",
       "      <th>ethoLeanAway</th>\n",
       "      <th>ethoAvoid</th>\n",
       "      <th>ethoBranchDisplay</th>\n",
       "      <th>Z0</th>\n",
       "      <th>Z1</th>\n",
       "      <th>Z2</th>\n",
       "      <th>Z3</th>\n",
       "      <th>Z4</th>\n",
       "    </tr>\n",
       "  </thead>\n",
       "  <tbody>\n",
       "    <tr>\n",
       "      <th>0</th>\n",
       "      <td> 0</td>\n",
       "      <td> 1</td>\n",
       "      <td> 0</td>\n",
       "      <td> 0</td>\n",
       "      <td> 0</td>\n",
       "      <td> 0</td>\n",
       "      <td> 0</td>\n",
       "      <td> 1</td>\n",
       "      <td> 0</td>\n",
       "      <td> 0</td>\n",
       "      <td>...</td>\n",
       "      <td> 0</td>\n",
       "      <td> 0</td>\n",
       "      <td> 0</td>\n",
       "      <td> 0</td>\n",
       "      <td> 0</td>\n",
       "      <td> 0.039910</td>\n",
       "      <td> 0.034484</td>\n",
       "      <td> 0.038873</td>\n",
       "      <td> 0.023888</td>\n",
       "      <td> 0.393386</td>\n",
       "    </tr>\n",
       "    <tr>\n",
       "      <th>1</th>\n",
       "      <td> 0</td>\n",
       "      <td> 1</td>\n",
       "      <td> 0</td>\n",
       "      <td> 0</td>\n",
       "      <td> 0</td>\n",
       "      <td> 0</td>\n",
       "      <td> 0</td>\n",
       "      <td> 1</td>\n",
       "      <td> 0</td>\n",
       "      <td> 0</td>\n",
       "      <td>...</td>\n",
       "      <td> 0</td>\n",
       "      <td> 0</td>\n",
       "      <td> 0</td>\n",
       "      <td> 0</td>\n",
       "      <td> 0</td>\n",
       "      <td> 0.165568</td>\n",
       "      <td> 0.108487</td>\n",
       "      <td> 0.417758</td>\n",
       "      <td> 0.067435</td>\n",
       "      <td> 0.464084</td>\n",
       "    </tr>\n",
       "    <tr>\n",
       "      <th>2</th>\n",
       "      <td> 0</td>\n",
       "      <td> 1</td>\n",
       "      <td> 0</td>\n",
       "      <td> 0</td>\n",
       "      <td> 0</td>\n",
       "      <td> 0</td>\n",
       "      <td> 0</td>\n",
       "      <td> 1</td>\n",
       "      <td> 0</td>\n",
       "      <td> 0</td>\n",
       "      <td>...</td>\n",
       "      <td> 0</td>\n",
       "      <td> 0</td>\n",
       "      <td> 0</td>\n",
       "      <td> 0</td>\n",
       "      <td> 0</td>\n",
       "      <td> 0.285176</td>\n",
       "      <td> 0.166640</td>\n",
       "      <td> 0.538544</td>\n",
       "      <td> 0.097629</td>\n",
       "      <td> 0.730852</td>\n",
       "    </tr>\n",
       "    <tr>\n",
       "      <th>3</th>\n",
       "      <td> 0</td>\n",
       "      <td> 1</td>\n",
       "      <td> 0</td>\n",
       "      <td> 0</td>\n",
       "      <td> 0</td>\n",
       "      <td> 0</td>\n",
       "      <td> 0</td>\n",
       "      <td> 1</td>\n",
       "      <td> 0</td>\n",
       "      <td> 0</td>\n",
       "      <td>...</td>\n",
       "      <td> 0</td>\n",
       "      <td> 0</td>\n",
       "      <td> 0</td>\n",
       "      <td> 0</td>\n",
       "      <td> 0</td>\n",
       "      <td> 0.375177</td>\n",
       "      <td> 0.217575</td>\n",
       "      <td> 0.574808</td>\n",
       "      <td> 0.130005</td>\n",
       "      <td> 0.859293</td>\n",
       "    </tr>\n",
       "    <tr>\n",
       "      <th>4</th>\n",
       "      <td> 0</td>\n",
       "      <td> 1</td>\n",
       "      <td> 0</td>\n",
       "      <td> 0</td>\n",
       "      <td> 0</td>\n",
       "      <td> 0</td>\n",
       "      <td> 0</td>\n",
       "      <td> 1</td>\n",
       "      <td> 0</td>\n",
       "      <td> 0</td>\n",
       "      <td>...</td>\n",
       "      <td> 0</td>\n",
       "      <td> 0</td>\n",
       "      <td> 0</td>\n",
       "      <td> 0</td>\n",
       "      <td> 0</td>\n",
       "      <td> 0.445024</td>\n",
       "      <td> 0.261696</td>\n",
       "      <td> 0.586217</td>\n",
       "      <td> 0.162655</td>\n",
       "      <td> 0.926787</td>\n",
       "    </tr>\n",
       "  </tbody>\n",
       "</table>\n",
       "<p>5 rows × 66 columns</p>\n",
       "</div>"
      ],
      "text/plain": [
       "   ethoCameraLevel  ethoCameraHolding  ethoCameraZoomingIn  \\\n",
       "0                0                  1                    0   \n",
       "1                0                  1                    0   \n",
       "2                0                  1                    0   \n",
       "3                0                  1                    0   \n",
       "4                0                  1                    0   \n",
       "\n",
       "   ethoCameraZoomingOut  ethoCameraTracking  ethoCameraPanning  \\\n",
       "0                     0                   0                  0   \n",
       "1                     0                   0                  0   \n",
       "2                     0                   0                  0   \n",
       "3                     0                   0                  0   \n",
       "4                     0                   0                  0   \n",
       "\n",
       "   ethoCameraSlewing  ethoCountNone  ethoLeast1  ethoLeast2    ...     \\\n",
       "0                  0              1           0           0    ...      \n",
       "1                  0              1           0           0    ...      \n",
       "2                  0              1           0           0    ...      \n",
       "3                  0              1           0           0    ...      \n",
       "4                  0              1           0           0    ...      \n",
       "\n",
       "   ethoSubmit  ethoDisplace  ethoLeanAway  ethoAvoid  ethoBranchDisplay  \\\n",
       "0           0             0             0          0                  0   \n",
       "1           0             0             0          0                  0   \n",
       "2           0             0             0          0                  0   \n",
       "3           0             0             0          0                  0   \n",
       "4           0             0             0          0                  0   \n",
       "\n",
       "         Z0        Z1        Z2        Z3        Z4  \n",
       "0  0.039910  0.034484  0.038873  0.023888  0.393386  \n",
       "1  0.165568  0.108487  0.417758  0.067435  0.464084  \n",
       "2  0.285176  0.166640  0.538544  0.097629  0.730852  \n",
       "3  0.375177  0.217575  0.574808  0.130005  0.859293  \n",
       "4  0.445024  0.261696  0.586217  0.162655  0.926787  \n",
       "\n",
       "[5 rows x 66 columns]"
      ]
     },
     "execution_count": 43,
     "metadata": {},
     "output_type": "execute_result"
    }
   ],
   "source": [
    "edf.head()"
   ]
  },
  {
   "cell_type": "markdown",
   "metadata": {},
   "source": [
    "# View results:"
   ]
  },
  {
   "cell_type": "code",
   "execution_count": 52,
   "metadata": {
    "collapsed": false
   },
   "outputs": [
    {
     "data": {
      "image/png": "[encoded data removed]",
      "text/plain": [
       "<matplotlib.figure.Figure at 0x11b237d50>"
      ]
     },
     "metadata": {},
     "output_type": "display_data"
    },
    {
     "data": {
      "image/png": "[encoded data removed]",
      "text/plain": [
       "<matplotlib.figure.Figure at 0x119a92450>"
      ]
     },
     "metadata": {},
     "output_type": "display_data"
    }
   ],
   "source": [
    "# plot a section in time; each row is a regressor; bottom rows are inferred categories\n",
    "trng = slice(500, 1000)\n",
    "matshow(edf.iloc[trng, :-K].values.T, vmin=0, vmax=1);\n",
    "\n",
    "# zoom in on inferred\n",
    "matshow(edf.iloc[trng, -K:].values.T, vmin=0, vmax=1);"
   ]
  },
  {
   "cell_type": "markdown",
   "metadata": {},
   "source": [
    "## Overlap analysis:"
   ]
  },
  {
   "cell_type": "markdown",
   "metadata": {},
   "source": [
    "Define the overlap as the maximum of the match or mismatch percentage. That is, if $x$ and $y$ are binary vectors, \n",
    "$$\n",
    "\\mathrm{overlap} = \\max \\{ \\mathbb{E}[xy + (1-x)(1-y)], \\mathbb{E}[(1-x)y + x(1-y)]\\}\n",
    "$$"
   ]
  },
  {
   "cell_type": "code",
   "execution_count": 45,
   "metadata": {
    "collapsed": false
   },
   "outputs": [],
   "source": [
    "match = (edf.T.dot(edf) + (1 - edf.T).dot(1 - edf)) / T\n",
    "mismatch = (edf.T.dot(1 - edf) + (1 - edf.T).dot(edf)) / T\n",
    "overlap = np.maximum(match, mismatch)"
   ]
  },
  {
   "cell_type": "code",
   "execution_count": 51,
   "metadata": {
    "collapsed": false
   },
   "outputs": [
    {
     "data": {
      "image/png": "[encoded data removed]",
      "text/plain": [
       "<matplotlib.figure.Figure at 0x11b237950>"
      ]
     },
     "metadata": {},
     "output_type": "display_data"
    }
   ],
   "source": [
    "row_labels = edf.columns[:]\n",
    "matshow(overlap.values[-K:,:]) #, vmin=0.5, vmax=1)\n",
    "plt.ylabel('inferred factor')\n",
    "plt.xlabel('labeled factor')\n",
    "plt.colorbar();\n",
    "\n",
    "# add column names\n",
    "ax = plt.gca()\n",
    "ax.xaxis.set_label_position('top')\n",
    "plt.tick_params(axis='x', which='both', top='off', bottom='off', \n",
    "                labelbottom='on', labeltop='off', pad=5)\n",
    "plt.xticks(xrange(len(row_labels)), row_labels, rotation='vertical', horizontalalignment='center');"
   ]
  },
  {
   "cell_type": "code",
   "execution_count": 49,
   "metadata": {
    "collapsed": false
   },
   "outputs": [
    {
     "data": {
      "text/html": [
       "<div style=\"max-height:1000px;max-width:1500px;overflow:auto;\">\n",
       "<table border=\"1\" class=\"dataframe\">\n",
       "  <thead>\n",
       "    <tr style=\"text-align: right;\">\n",
       "      <th></th>\n",
       "      <th>ethoCameraLevel</th>\n",
       "      <th>ethoCameraHolding</th>\n",
       "      <th>ethoCameraZoomingIn</th>\n",
       "      <th>ethoCameraZoomingOut</th>\n",
       "      <th>ethoCameraTracking</th>\n",
       "      <th>ethoCameraPanning</th>\n",
       "      <th>ethoCameraSlewing</th>\n",
       "      <th>ethoCountNone</th>\n",
       "      <th>ethoLeast1</th>\n",
       "      <th>ethoLeast2</th>\n",
       "      <th>...</th>\n",
       "      <th>ethoSubmit</th>\n",
       "      <th>ethoDisplace</th>\n",
       "      <th>ethoLeanAway</th>\n",
       "      <th>ethoAvoid</th>\n",
       "      <th>ethoBranchDisplay</th>\n",
       "      <th>Z0</th>\n",
       "      <th>Z1</th>\n",
       "      <th>Z2</th>\n",
       "      <th>Z3</th>\n",
       "      <th>Z4</th>\n",
       "    </tr>\n",
       "  </thead>\n",
       "  <tbody>\n",
       "    <tr>\n",
       "      <th>Z0</th>\n",
       "      <td> 0.601604</td>\n",
       "      <td> 0.568525</td>\n",
       "      <td> 0.634945</td>\n",
       "      <td> 0.645982</td>\n",
       "      <td> 0.623242</td>\n",
       "      <td> 0.643245</td>\n",
       "      <td> 0.636595</td>\n",
       "      <td> 0.630856</td>\n",
       "      <td> 0.630856</td>\n",
       "      <td> 0.539912</td>\n",
       "      <td>...</td>\n",
       "      <td> 0.652297</td>\n",
       "      <td> 0.652982</td>\n",
       "      <td> 0.653724</td>\n",
       "      <td> 0.653691</td>\n",
       "      <td> 0.653784</td>\n",
       "      <td> 0.710612</td>\n",
       "      <td> 0.501531</td>\n",
       "      <td> 0.525052</td>\n",
       "      <td> 0.508959</td>\n",
       "      <td> 0.523992</td>\n",
       "    </tr>\n",
       "    <tr>\n",
       "      <th>Z1</th>\n",
       "      <td> 0.512511</td>\n",
       "      <td> 0.504848</td>\n",
       "      <td> 0.511552</td>\n",
       "      <td> 0.513128</td>\n",
       "      <td> 0.510814</td>\n",
       "      <td> 0.512509</td>\n",
       "      <td> 0.512162</td>\n",
       "      <td> 0.511054</td>\n",
       "      <td> 0.511054</td>\n",
       "      <td> 0.513828</td>\n",
       "      <td>...</td>\n",
       "      <td> 0.513948</td>\n",
       "      <td> 0.513992</td>\n",
       "      <td> 0.513824</td>\n",
       "      <td> 0.513779</td>\n",
       "      <td> 0.513833</td>\n",
       "      <td> 0.501531</td>\n",
       "      <td> 0.709015</td>\n",
       "      <td> 0.502042</td>\n",
       "      <td> 0.503417</td>\n",
       "      <td> 0.516691</td>\n",
       "    </tr>\n",
       "    <tr>\n",
       "      <th>Z2</th>\n",
       "      <td> 0.559647</td>\n",
       "      <td> 0.536435</td>\n",
       "      <td> 0.573968</td>\n",
       "      <td> 0.579615</td>\n",
       "      <td> 0.566770</td>\n",
       "      <td> 0.578349</td>\n",
       "      <td> 0.574254</td>\n",
       "      <td> 0.571570</td>\n",
       "      <td> 0.571570</td>\n",
       "      <td> 0.520753</td>\n",
       "      <td>...</td>\n",
       "      <td> 0.583484</td>\n",
       "      <td> 0.583648</td>\n",
       "      <td> 0.584120</td>\n",
       "      <td> 0.584037</td>\n",
       "      <td> 0.584065</td>\n",
       "      <td> 0.525052</td>\n",
       "      <td> 0.502042</td>\n",
       "      <td> 0.575652</td>\n",
       "      <td> 0.510518</td>\n",
       "      <td> 0.511191</td>\n",
       "    </tr>\n",
       "    <tr>\n",
       "      <th>Z3</th>\n",
       "      <td> 0.558327</td>\n",
       "      <td> 0.521489</td>\n",
       "      <td> 0.555016</td>\n",
       "      <td> 0.559470</td>\n",
       "      <td> 0.546135</td>\n",
       "      <td> 0.557570</td>\n",
       "      <td> 0.558325</td>\n",
       "      <td> 0.556194</td>\n",
       "      <td> 0.556194</td>\n",
       "      <td> 0.508537</td>\n",
       "      <td>...</td>\n",
       "      <td> 0.562839</td>\n",
       "      <td> 0.563335</td>\n",
       "      <td> 0.563818</td>\n",
       "      <td> 0.563741</td>\n",
       "      <td> 0.563775</td>\n",
       "      <td> 0.508959</td>\n",
       "      <td> 0.503417</td>\n",
       "      <td> 0.510518</td>\n",
       "      <td> 0.767555</td>\n",
       "      <td> 0.504525</td>\n",
       "    </tr>\n",
       "    <tr>\n",
       "      <th>Z4</th>\n",
       "      <td> 0.551660</td>\n",
       "      <td> 0.527110</td>\n",
       "      <td> 0.557811</td>\n",
       "      <td> 0.563716</td>\n",
       "      <td> 0.551897</td>\n",
       "      <td> 0.561017</td>\n",
       "      <td> 0.559331</td>\n",
       "      <td> 0.556426</td>\n",
       "      <td> 0.556426</td>\n",
       "      <td> 0.532183</td>\n",
       "      <td>...</td>\n",
       "      <td> 0.566860</td>\n",
       "      <td> 0.566570</td>\n",
       "      <td> 0.566657</td>\n",
       "      <td> 0.566485</td>\n",
       "      <td> 0.566665</td>\n",
       "      <td> 0.523992</td>\n",
       "      <td> 0.516691</td>\n",
       "      <td> 0.511191</td>\n",
       "      <td> 0.504525</td>\n",
       "      <td> 0.802673</td>\n",
       "    </tr>\n",
       "  </tbody>\n",
       "</table>\n",
       "<p>5 rows × 66 columns</p>\n",
       "</div>"
      ],
      "text/plain": [
       "    ethoCameraLevel  ethoCameraHolding  ethoCameraZoomingIn  \\\n",
       "Z0         0.601604           0.568525             0.634945   \n",
       "Z1         0.512511           0.504848             0.511552   \n",
       "Z2         0.559647           0.536435             0.573968   \n",
       "Z3         0.558327           0.521489             0.555016   \n",
       "Z4         0.551660           0.527110             0.557811   \n",
       "\n",
       "    ethoCameraZoomingOut  ethoCameraTracking  ethoCameraPanning  \\\n",
       "Z0              0.645982            0.623242           0.643245   \n",
       "Z1              0.513128            0.510814           0.512509   \n",
       "Z2              0.579615            0.566770           0.578349   \n",
       "Z3              0.559470            0.546135           0.557570   \n",
       "Z4              0.563716            0.551897           0.561017   \n",
       "\n",
       "    ethoCameraSlewing  ethoCountNone  ethoLeast1  ethoLeast2    ...     \\\n",
       "Z0           0.636595       0.630856    0.630856    0.539912    ...      \n",
       "Z1           0.512162       0.511054    0.511054    0.513828    ...      \n",
       "Z2           0.574254       0.571570    0.571570    0.520753    ...      \n",
       "Z3           0.558325       0.556194    0.556194    0.508537    ...      \n",
       "Z4           0.559331       0.556426    0.556426    0.532183    ...      \n",
       "\n",
       "    ethoSubmit  ethoDisplace  ethoLeanAway  ethoAvoid  ethoBranchDisplay  \\\n",
       "Z0    0.652297      0.652982      0.653724   0.653691           0.653784   \n",
       "Z1    0.513948      0.513992      0.513824   0.513779           0.513833   \n",
       "Z2    0.583484      0.583648      0.584120   0.584037           0.584065   \n",
       "Z3    0.562839      0.563335      0.563818   0.563741           0.563775   \n",
       "Z4    0.566860      0.566570      0.566657   0.566485           0.566665   \n",
       "\n",
       "          Z0        Z1        Z2        Z3        Z4  \n",
       "Z0  0.710612  0.501531  0.525052  0.508959  0.523992  \n",
       "Z1  0.501531  0.709015  0.502042  0.503417  0.516691  \n",
       "Z2  0.525052  0.502042  0.575652  0.510518  0.511191  \n",
       "Z3  0.508959  0.503417  0.510518  0.767555  0.504525  \n",
       "Z4  0.523992  0.516691  0.511191  0.504525  0.802673  \n",
       "\n",
       "[5 rows x 66 columns]"
      ]
     },
     "execution_count": 49,
     "metadata": {},
     "output_type": "execute_result"
    }
   ],
   "source": [
    "overlap.iloc[-K:, :]"
   ]
  },
  {
   "cell_type": "code",
   "execution_count": null,
   "metadata": {
    "collapsed": false
   },
   "outputs": [],
   "source": []
  }
 ],
 "metadata": {
  "kernelspec": {
   "display_name": "Python 2",
   "language": "python",
   "name": "python2"
  },
  "language_info": {
   "codemirror_mode": {
    "name": "ipython",
    "version": 2
   },
   "file_extension": ".py",
   "mimetype": "text/x-python",
   "name": "python",
   "nbconvert_exporter": "python",
   "pygments_lexer": "ipython2",
   "version": "2.7.9"
  }
 },
 "nbformat": 4,
 "nbformat_minor": 0
}
