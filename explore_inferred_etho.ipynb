{
 "metadata": {
  "name": "",
  "signature": "sha256:b30ac67a3b5a78f208b5c61c4e19ab9ef60eed401f2e1a7d34c647ce572d5328"
 },
 "nbformat": 3,
 "nbformat_minor": 0,
 "worksheets": [
  {
   "cells": [
    {
     "cell_type": "code",
     "collapsed": false,
     "input": [
      "from __future__ import division\n",
      "import numpy as np\n",
      "import pandas as pd\n",
      "import matplotlib.pyplot as plt\n",
      "import matplotlib.cm as cm\n",
      "\n",
      "%matplotlib inline"
     ],
     "language": "python",
     "metadata": {},
     "outputs": [],
     "prompt_number": 1
    },
    {
     "cell_type": "code",
     "collapsed": false,
     "input": [
      "def matshow(X, **kwargs):\n",
      "    cmap = cm.gray\n",
      "    cmap.set_bad('k', 1.0)\n",
      "    plt.matshow(X, aspect='auto', cmap=cmap, **kwargs);"
     ],
     "language": "python",
     "metadata": {},
     "outputs": [],
     "prompt_number": 2
    },
    {
     "cell_type": "heading",
     "level": 1,
     "metadata": {},
     "source": [
      "Load in data"
     ]
    },
    {
     "cell_type": "code",
     "collapsed": false,
     "input": [
      "infile = 'inferred_etho.csv'\n",
      "df = pd.read_csv(infile)"
     ],
     "language": "python",
     "metadata": {},
     "outputs": [],
     "prompt_number": 3
    },
    {
     "cell_type": "code",
     "collapsed": false,
     "input": [
      "df.head()"
     ],
     "language": "python",
     "metadata": {},
     "outputs": [
      {
       "html": [
        "<div style=\"max-height:1000px;max-width:1500px;overflow:auto;\">\n",
        "<table border=\"1\" class=\"dataframe\">\n",
        "  <thead>\n",
        "    <tr style=\"text-align: right;\">\n",
        "      <th></th>\n",
        "      <th>time</th>\n",
        "      <th>frame</th>\n",
        "      <th>movie</th>\n",
        "      <th>0</th>\n",
        "      <th>1</th>\n",
        "      <th>2</th>\n",
        "      <th>3</th>\n",
        "      <th>4</th>\n",
        "    </tr>\n",
        "  </thead>\n",
        "  <tbody>\n",
        "    <tr>\n",
        "      <th>0</th>\n",
        "      <td> 0</td>\n",
        "      <td> 11</td>\n",
        "      <td> 1</td>\n",
        "      <td> 0.934121</td>\n",
        "      <td> 0.431252</td>\n",
        "      <td> 0.451608</td>\n",
        "      <td> 0.550058</td>\n",
        "      <td> 0.538127</td>\n",
        "    </tr>\n",
        "    <tr>\n",
        "      <th>1</th>\n",
        "      <td> 1</td>\n",
        "      <td> 12</td>\n",
        "      <td> 1</td>\n",
        "      <td> 0.993173</td>\n",
        "      <td> 0.209388</td>\n",
        "      <td> 0.472344</td>\n",
        "      <td> 0.411927</td>\n",
        "      <td> 0.406249</td>\n",
        "    </tr>\n",
        "    <tr>\n",
        "      <th>2</th>\n",
        "      <td> 2</td>\n",
        "      <td> 13</td>\n",
        "      <td> 1</td>\n",
        "      <td> 0.996667</td>\n",
        "      <td> 0.421200</td>\n",
        "      <td> 0.411936</td>\n",
        "      <td> 0.413045</td>\n",
        "      <td> 0.406126</td>\n",
        "    </tr>\n",
        "    <tr>\n",
        "      <th>3</th>\n",
        "      <td> 3</td>\n",
        "      <td> 14</td>\n",
        "      <td> 1</td>\n",
        "      <td> 0.998429</td>\n",
        "      <td> 0.535633</td>\n",
        "      <td> 0.402593</td>\n",
        "      <td> 0.406653</td>\n",
        "      <td> 0.402586</td>\n",
        "    </tr>\n",
        "    <tr>\n",
        "      <th>4</th>\n",
        "      <td> 4</td>\n",
        "      <td> 15</td>\n",
        "      <td> 1</td>\n",
        "      <td> 0.999277</td>\n",
        "      <td> 0.582933</td>\n",
        "      <td> 0.414844</td>\n",
        "      <td> 0.393977</td>\n",
        "      <td> 0.394180</td>\n",
        "    </tr>\n",
        "  </tbody>\n",
        "</table>\n",
        "</div>"
       ],
       "metadata": {},
       "output_type": "pyout",
       "prompt_number": 4,
       "text": [
        "   time  frame  movie         0         1         2         3         4\n",
        "0     0     11      1  0.934121  0.431252  0.451608  0.550058  0.538127\n",
        "1     1     12      1  0.993173  0.209388  0.472344  0.411927  0.406249\n",
        "2     2     13      1  0.996667  0.421200  0.411936  0.413045  0.406126\n",
        "3     3     14      1  0.998429  0.535633  0.402593  0.406653  0.402586\n",
        "4     4     15      1  0.999277  0.582933  0.414844  0.393977  0.394180"
       ]
      }
     ],
     "prompt_number": 4
    },
    {
     "cell_type": "heading",
     "level": 1,
     "metadata": {},
     "source": [
      "Plot inferred categories as matrix"
     ]
    },
    {
     "cell_type": "code",
     "collapsed": false,
     "input": [
      "matshow(df.iloc[:5000, 3:].T, vmin=0, vmax=1)"
     ],
     "language": "python",
     "metadata": {},
     "outputs": [
      {
       "metadata": {},
       "output_type": "display_data",
       "png": "[encoded data removed]",
       "text": [
        "<matplotlib.figure.Figure at 0x10882e050>"
       ]
      }
     ],
     "prompt_number": 5
    },
    {
     "cell_type": "markdown",
     "metadata": {},
     "source": [
      "Take a look at a single movie:"
     ]
    },
    {
     "cell_type": "code",
     "collapsed": false,
     "input": [
      "matshow(df[df['movie'] == 1].iloc[:, 3:].T)"
     ],
     "language": "python",
     "metadata": {},
     "outputs": [
      {
       "metadata": {},
       "output_type": "display_data",
       "png": "[encoded data removed]",
       "text": [
        "<matplotlib.figure.Figure at 0x1023f5550>"
       ]
      }
     ],
     "prompt_number": 6
    },
    {
     "cell_type": "heading",
     "level": 1,
     "metadata": {},
     "source": [
      "Load and prepare ethogram:"
     ]
    },
    {
     "cell_type": "markdown",
     "metadata": {},
     "source": [
      "Our goal here is to load the ethogram, join it to the inferred ethogram, and perform some comparisons to see if any of our discovered categories match hand-labeled categories from the ethogram."
     ]
    },
    {
     "cell_type": "code",
     "collapsed": false,
     "input": [
      "ethofile = 'sql/etho.csv'\n",
      "etho = pd.read_csv(ethofile)"
     ],
     "language": "python",
     "metadata": {},
     "outputs": [
      {
       "output_type": "stream",
       "stream": "stderr",
       "text": [
        "/Users/jmxp/anaconda/lib/python2.7/site-packages/pandas/io/parsers.py:1159: DtypeWarning: Columns (11) have mixed types. Specify dtype option on import or set low_memory=False.\n",
        "  data = self._reader.read(nrows)\n"
       ]
      }
     ],
     "prompt_number": 7
    },
    {
     "cell_type": "code",
     "collapsed": false,
     "input": [
      "etho.head()"
     ],
     "language": "python",
     "metadata": {},
     "outputs": [
      {
       "html": [
        "<div style=\"max-height:1000px;max-width:1500px;overflow:auto;\">\n",
        "<table border=\"1\" class=\"dataframe\">\n",
        "  <thead>\n",
        "    <tr style=\"text-align: right;\">\n",
        "      <th></th>\n",
        "      <th>movieId</th>\n",
        "      <th>frameTime</th>\n",
        "      <th>frameNumber</th>\n",
        "      <th>ethoCameraLabel</th>\n",
        "      <th>ethoCameraLevel</th>\n",
        "      <th>ethoCameraHolding</th>\n",
        "      <th>ethoCameraZoomingIn</th>\n",
        "      <th>ethoCameraZoomingOut</th>\n",
        "      <th>ethoCameraTracking</th>\n",
        "      <th>ethoCameraPanning</th>\n",
        "      <th>...</th>\n",
        "      <th>ethoCharge</th>\n",
        "      <th>ethoChase</th>\n",
        "      <th>ethoFlee</th>\n",
        "      <th>ethoThreaten</th>\n",
        "      <th>ethoMountedThreaten</th>\n",
        "      <th>ethoSubmit</th>\n",
        "      <th>ethoDisplace</th>\n",
        "      <th>ethoLeanAway</th>\n",
        "      <th>ethoAvoid</th>\n",
        "      <th>ethoBranchDisplay</th>\n",
        "    </tr>\n",
        "  </thead>\n",
        "  <tbody>\n",
        "    <tr>\n",
        "      <th>0</th>\n",
        "      <td> 1</td>\n",
        "      <td> 0.0000</td>\n",
        "      <td> 0</td>\n",
        "      <td> holding</td>\n",
        "      <td> 0</td>\n",
        "      <td> 1</td>\n",
        "      <td> 0</td>\n",
        "      <td> 0</td>\n",
        "      <td> 0</td>\n",
        "      <td> 0</td>\n",
        "      <td>...</td>\n",
        "      <td> 0</td>\n",
        "      <td> 0</td>\n",
        "      <td> 0</td>\n",
        "      <td> 0</td>\n",
        "      <td> 0</td>\n",
        "      <td> 0</td>\n",
        "      <td> 0</td>\n",
        "      <td> 0</td>\n",
        "      <td> 0</td>\n",
        "      <td> 0</td>\n",
        "    </tr>\n",
        "    <tr>\n",
        "      <th>1</th>\n",
        "      <td> 1</td>\n",
        "      <td> 0.0333</td>\n",
        "      <td> 1</td>\n",
        "      <td> holding</td>\n",
        "      <td> 0</td>\n",
        "      <td> 1</td>\n",
        "      <td> 0</td>\n",
        "      <td> 0</td>\n",
        "      <td> 0</td>\n",
        "      <td> 0</td>\n",
        "      <td>...</td>\n",
        "      <td> 0</td>\n",
        "      <td> 0</td>\n",
        "      <td> 0</td>\n",
        "      <td> 0</td>\n",
        "      <td> 0</td>\n",
        "      <td> 0</td>\n",
        "      <td> 0</td>\n",
        "      <td> 0</td>\n",
        "      <td> 0</td>\n",
        "      <td> 0</td>\n",
        "    </tr>\n",
        "    <tr>\n",
        "      <th>2</th>\n",
        "      <td> 1</td>\n",
        "      <td> 0.0667</td>\n",
        "      <td> 2</td>\n",
        "      <td> holding</td>\n",
        "      <td> 0</td>\n",
        "      <td> 1</td>\n",
        "      <td> 0</td>\n",
        "      <td> 0</td>\n",
        "      <td> 0</td>\n",
        "      <td> 0</td>\n",
        "      <td>...</td>\n",
        "      <td> 0</td>\n",
        "      <td> 0</td>\n",
        "      <td> 0</td>\n",
        "      <td> 0</td>\n",
        "      <td> 0</td>\n",
        "      <td> 0</td>\n",
        "      <td> 0</td>\n",
        "      <td> 0</td>\n",
        "      <td> 0</td>\n",
        "      <td> 0</td>\n",
        "    </tr>\n",
        "    <tr>\n",
        "      <th>3</th>\n",
        "      <td> 1</td>\n",
        "      <td> 0.1000</td>\n",
        "      <td> 3</td>\n",
        "      <td> holding</td>\n",
        "      <td> 0</td>\n",
        "      <td> 1</td>\n",
        "      <td> 0</td>\n",
        "      <td> 0</td>\n",
        "      <td> 0</td>\n",
        "      <td> 0</td>\n",
        "      <td>...</td>\n",
        "      <td> 0</td>\n",
        "      <td> 0</td>\n",
        "      <td> 0</td>\n",
        "      <td> 0</td>\n",
        "      <td> 0</td>\n",
        "      <td> 0</td>\n",
        "      <td> 0</td>\n",
        "      <td> 0</td>\n",
        "      <td> 0</td>\n",
        "      <td> 0</td>\n",
        "    </tr>\n",
        "    <tr>\n",
        "      <th>4</th>\n",
        "      <td> 1</td>\n",
        "      <td> 0.1333</td>\n",
        "      <td> 4</td>\n",
        "      <td> holding</td>\n",
        "      <td> 0</td>\n",
        "      <td> 1</td>\n",
        "      <td> 0</td>\n",
        "      <td> 0</td>\n",
        "      <td> 0</td>\n",
        "      <td> 0</td>\n",
        "      <td>...</td>\n",
        "      <td> 0</td>\n",
        "      <td> 0</td>\n",
        "      <td> 0</td>\n",
        "      <td> 0</td>\n",
        "      <td> 0</td>\n",
        "      <td> 0</td>\n",
        "      <td> 0</td>\n",
        "      <td> 0</td>\n",
        "      <td> 0</td>\n",
        "      <td> 0</td>\n",
        "    </tr>\n",
        "  </tbody>\n",
        "</table>\n",
        "<p>5 rows \u00d7 75 columns</p>\n",
        "</div>"
       ],
       "metadata": {},
       "output_type": "pyout",
       "prompt_number": 8,
       "text": [
        "   movieId  frameTime  frameNumber ethoCameraLabel  ethoCameraLevel  \\\n",
        "0        1     0.0000            0         holding                0   \n",
        "1        1     0.0333            1         holding                0   \n",
        "2        1     0.0667            2         holding                0   \n",
        "3        1     0.1000            3         holding                0   \n",
        "4        1     0.1333            4         holding                0   \n",
        "\n",
        "   ethoCameraHolding  ethoCameraZoomingIn  ethoCameraZoomingOut  \\\n",
        "0                  1                    0                     0   \n",
        "1                  1                    0                     0   \n",
        "2                  1                    0                     0   \n",
        "3                  1                    0                     0   \n",
        "4                  1                    0                     0   \n",
        "\n",
        "   ethoCameraTracking  ethoCameraPanning        ...          ethoCharge  \\\n",
        "0                   0                  0        ...                   0   \n",
        "1                   0                  0        ...                   0   \n",
        "2                   0                  0        ...                   0   \n",
        "3                   0                  0        ...                   0   \n",
        "4                   0                  0        ...                   0   \n",
        "\n",
        "  ethoChase  ethoFlee  ethoThreaten  ethoMountedThreaten  ethoSubmit  \\\n",
        "0         0         0             0                    0           0   \n",
        "1         0         0             0                    0           0   \n",
        "2         0         0             0                    0           0   \n",
        "3         0         0             0                    0           0   \n",
        "4         0         0             0                    0           0   \n",
        "\n",
        "   ethoDisplace  ethoLeanAway  ethoAvoid  ethoBranchDisplay  \n",
        "0             0             0          0                  0  \n",
        "1             0             0          0                  0  \n",
        "2             0             0          0                  0  \n",
        "3             0             0          0                  0  \n",
        "4             0             0          0                  0  \n",
        "\n",
        "[5 rows x 75 columns]"
       ]
      }
     ],
     "prompt_number": 8
    },
    {
     "cell_type": "code",
     "collapsed": false,
     "input": [
      "# rename some columns\n",
      "etho = etho.rename(columns={'movieId': 'movie', 'frameNumber': 'frame'})"
     ],
     "language": "python",
     "metadata": {},
     "outputs": [],
     "prompt_number": 9
    },
    {
     "cell_type": "code",
     "collapsed": false,
     "input": [
      "# merge labeled and inferred etho on movie and frame columns\n",
      "edf = pd.merge(etho, df, how='right')\n",
      "edf.columns"
     ],
     "language": "python",
     "metadata": {},
     "outputs": [
      {
       "metadata": {},
       "output_type": "pyout",
       "prompt_number": 10,
       "text": [
        "Index([u'movie', u'frameTime', u'frame', u'ethoCameraLabel', u'ethoCameraLevel', u'ethoCameraHolding', u'ethoCameraZoomingIn', u'ethoCameraZoomingOut', u'ethoCameraTracking', u'ethoCameraPanning', u'ethoCameraSlewing', u'ethoRoughCountLabel', u'ethoRoughCountLevel', u'ethoCountNone', u'ethoLeast1', u'ethoLeast2', u'ethoLeast3', u'ethoLeast6', u'ethoLeast11', u'ethoHumanVisible', u'ethoFaceLabel', u'ethoFaceViewLevel', u'ethoFaceNone', u'ethoFaceVisible', u'ethoFaceProminent', u'ethoFaceDirect', u'ethoFaceEyeContact', u'ethoGenitalsLabel', u'ethoGenitalsViewLevel', u'ethoGenitalsNone', u'ethoGenitalsVisible', u'ethoGenitalsProminent', u'ethoGenitalsMale', u'ethoGenitalsFemale', u'ethoGenitalsBoth', u'ethoForageLabel', u'ethoForageLevel', u'ethoForage', u'ethoMassForage', u'ethoDrink', u'ethoSearch', u'ethoGraspFood', u'ethoHoldFood', u'ethoHoldInMouth', u'ethoManipulateFood', u'ethoIngestFood', u'ethoIngestFromGroom', u'ethoChew', u'ethoRetrieveFromPouch', u'ethoHeave', u'ethoAllogroom', u'ethoSolicitAllogroom', u'ethoScratch', u'ethoAutogroom', u'ethoAggressionLabel', u'ethoAggressionLevel', u'ethoAggressionNone', u'ethoAggressionAny', u'ethoAggressionTwo', u'ethoAggressionJoint', u'ethoAggressionMass', u'ethoStrike', u'ethoGrapple', u'ethoLunge', u'ethoWithdraw', u'ethoCharge', u'ethoChase', u'ethoFlee', u'ethoThreaten', u'ethoMountedThreaten', u'ethoSubmit', u'ethoDisplace', u'ethoLeanAway', u'ethoAvoid', u'ethoBranchDisplay', u'time', u'0', u'1', u'2', u'3', u'4'], dtype='object')"
       ]
      }
     ],
     "prompt_number": 10
    },
    {
     "cell_type": "code",
     "collapsed": false,
     "input": [
      "# get rid of categories that are either identifiers or have non-binary entries\n",
      "edf = edf.drop(['movie', 'frameTime', 'frame', 'ethoCameraLabel', 'ethoFaceLabel',\n",
      "                'ethoGenitalsLabel', 'ethoForageLabel', 'ethoAggressionLabel', 'time',\n",
      "                'ethoRoughCountLabel'], axis=1)"
     ],
     "language": "python",
     "metadata": {},
     "outputs": [],
     "prompt_number": 11
    },
    {
     "cell_type": "code",
     "collapsed": false,
     "input": [
      "edf.head()"
     ],
     "language": "python",
     "metadata": {},
     "outputs": [
      {
       "html": [
        "<div style=\"max-height:1000px;max-width:1500px;overflow:auto;\">\n",
        "<table border=\"1\" class=\"dataframe\">\n",
        "  <thead>\n",
        "    <tr style=\"text-align: right;\">\n",
        "      <th></th>\n",
        "      <th>ethoCameraLevel</th>\n",
        "      <th>ethoCameraHolding</th>\n",
        "      <th>ethoCameraZoomingIn</th>\n",
        "      <th>ethoCameraZoomingOut</th>\n",
        "      <th>ethoCameraTracking</th>\n",
        "      <th>ethoCameraPanning</th>\n",
        "      <th>ethoCameraSlewing</th>\n",
        "      <th>ethoRoughCountLevel</th>\n",
        "      <th>ethoCountNone</th>\n",
        "      <th>ethoLeast1</th>\n",
        "      <th>...</th>\n",
        "      <th>ethoSubmit</th>\n",
        "      <th>ethoDisplace</th>\n",
        "      <th>ethoLeanAway</th>\n",
        "      <th>ethoAvoid</th>\n",
        "      <th>ethoBranchDisplay</th>\n",
        "      <th>0</th>\n",
        "      <th>1</th>\n",
        "      <th>2</th>\n",
        "      <th>3</th>\n",
        "      <th>4</th>\n",
        "    </tr>\n",
        "  </thead>\n",
        "  <tbody>\n",
        "    <tr>\n",
        "      <th>0</th>\n",
        "      <td> 0</td>\n",
        "      <td> 1</td>\n",
        "      <td> 0</td>\n",
        "      <td> 0</td>\n",
        "      <td> 0</td>\n",
        "      <td> 0</td>\n",
        "      <td> 0</td>\n",
        "      <td> 0</td>\n",
        "      <td> 1</td>\n",
        "      <td> 0</td>\n",
        "      <td>...</td>\n",
        "      <td> 0</td>\n",
        "      <td> 0</td>\n",
        "      <td> 0</td>\n",
        "      <td> 0</td>\n",
        "      <td> 0</td>\n",
        "      <td> 0.934121</td>\n",
        "      <td> 0.431252</td>\n",
        "      <td> 0.451608</td>\n",
        "      <td> 0.550058</td>\n",
        "      <td> 0.538127</td>\n",
        "    </tr>\n",
        "    <tr>\n",
        "      <th>1</th>\n",
        "      <td> 0</td>\n",
        "      <td> 1</td>\n",
        "      <td> 0</td>\n",
        "      <td> 0</td>\n",
        "      <td> 0</td>\n",
        "      <td> 0</td>\n",
        "      <td> 0</td>\n",
        "      <td> 0</td>\n",
        "      <td> 1</td>\n",
        "      <td> 0</td>\n",
        "      <td>...</td>\n",
        "      <td> 0</td>\n",
        "      <td> 0</td>\n",
        "      <td> 0</td>\n",
        "      <td> 0</td>\n",
        "      <td> 0</td>\n",
        "      <td> 0.993173</td>\n",
        "      <td> 0.209388</td>\n",
        "      <td> 0.472344</td>\n",
        "      <td> 0.411927</td>\n",
        "      <td> 0.406249</td>\n",
        "    </tr>\n",
        "    <tr>\n",
        "      <th>2</th>\n",
        "      <td> 0</td>\n",
        "      <td> 1</td>\n",
        "      <td> 0</td>\n",
        "      <td> 0</td>\n",
        "      <td> 0</td>\n",
        "      <td> 0</td>\n",
        "      <td> 0</td>\n",
        "      <td> 0</td>\n",
        "      <td> 1</td>\n",
        "      <td> 0</td>\n",
        "      <td>...</td>\n",
        "      <td> 0</td>\n",
        "      <td> 0</td>\n",
        "      <td> 0</td>\n",
        "      <td> 0</td>\n",
        "      <td> 0</td>\n",
        "      <td> 0.996667</td>\n",
        "      <td> 0.421200</td>\n",
        "      <td> 0.411936</td>\n",
        "      <td> 0.413045</td>\n",
        "      <td> 0.406126</td>\n",
        "    </tr>\n",
        "    <tr>\n",
        "      <th>3</th>\n",
        "      <td> 0</td>\n",
        "      <td> 1</td>\n",
        "      <td> 0</td>\n",
        "      <td> 0</td>\n",
        "      <td> 0</td>\n",
        "      <td> 0</td>\n",
        "      <td> 0</td>\n",
        "      <td> 0</td>\n",
        "      <td> 1</td>\n",
        "      <td> 0</td>\n",
        "      <td>...</td>\n",
        "      <td> 0</td>\n",
        "      <td> 0</td>\n",
        "      <td> 0</td>\n",
        "      <td> 0</td>\n",
        "      <td> 0</td>\n",
        "      <td> 0.998429</td>\n",
        "      <td> 0.535633</td>\n",
        "      <td> 0.402593</td>\n",
        "      <td> 0.406653</td>\n",
        "      <td> 0.402586</td>\n",
        "    </tr>\n",
        "    <tr>\n",
        "      <th>4</th>\n",
        "      <td> 0</td>\n",
        "      <td> 1</td>\n",
        "      <td> 0</td>\n",
        "      <td> 0</td>\n",
        "      <td> 0</td>\n",
        "      <td> 0</td>\n",
        "      <td> 0</td>\n",
        "      <td> 0</td>\n",
        "      <td> 1</td>\n",
        "      <td> 0</td>\n",
        "      <td>...</td>\n",
        "      <td> 0</td>\n",
        "      <td> 0</td>\n",
        "      <td> 0</td>\n",
        "      <td> 0</td>\n",
        "      <td> 0</td>\n",
        "      <td> 0.999277</td>\n",
        "      <td> 0.582933</td>\n",
        "      <td> 0.414844</td>\n",
        "      <td> 0.393977</td>\n",
        "      <td> 0.394180</td>\n",
        "    </tr>\n",
        "  </tbody>\n",
        "</table>\n",
        "<p>5 rows \u00d7 71 columns</p>\n",
        "</div>"
       ],
       "metadata": {},
       "output_type": "pyout",
       "prompt_number": 12,
       "text": [
        "   ethoCameraLevel  ethoCameraHolding  ethoCameraZoomingIn  \\\n",
        "0                0                  1                    0   \n",
        "1                0                  1                    0   \n",
        "2                0                  1                    0   \n",
        "3                0                  1                    0   \n",
        "4                0                  1                    0   \n",
        "\n",
        "   ethoCameraZoomingOut  ethoCameraTracking  ethoCameraPanning  \\\n",
        "0                     0                   0                  0   \n",
        "1                     0                   0                  0   \n",
        "2                     0                   0                  0   \n",
        "3                     0                   0                  0   \n",
        "4                     0                   0                  0   \n",
        "\n",
        "   ethoCameraSlewing  ethoRoughCountLevel  ethoCountNone  ethoLeast1  \\\n",
        "0                  0                    0              1           0   \n",
        "1                  0                    0              1           0   \n",
        "2                  0                    0              1           0   \n",
        "3                  0                    0              1           0   \n",
        "4                  0                    0              1           0   \n",
        "\n",
        "     ...     ethoSubmit  ethoDisplace  ethoLeanAway  ethoAvoid  \\\n",
        "0    ...              0             0             0          0   \n",
        "1    ...              0             0             0          0   \n",
        "2    ...              0             0             0          0   \n",
        "3    ...              0             0             0          0   \n",
        "4    ...              0             0             0          0   \n",
        "\n",
        "   ethoBranchDisplay         0         1         2         3         4  \n",
        "0                  0  0.934121  0.431252  0.451608  0.550058  0.538127  \n",
        "1                  0  0.993173  0.209388  0.472344  0.411927  0.406249  \n",
        "2                  0  0.996667  0.421200  0.411936  0.413045  0.406126  \n",
        "3                  0  0.998429  0.535633  0.402593  0.406653  0.402586  \n",
        "4                  0  0.999277  0.582933  0.414844  0.393977  0.394180  \n",
        "\n",
        "[5 rows x 71 columns]"
       ]
      }
     ],
     "prompt_number": 12
    },
    {
     "cell_type": "heading",
     "level": 1,
     "metadata": {},
     "source": [
      "View results:"
     ]
    },
    {
     "cell_type": "code",
     "collapsed": false,
     "input": [
      "# plot a section in time; each row is a regressor; bottom rows are inferred categories\n",
      "matshow(edf.iloc[500:1000, :].values.T, vmin=0, vmax=1)"
     ],
     "language": "python",
     "metadata": {},
     "outputs": [
      {
       "metadata": {},
       "output_type": "display_data",
       "png": "[encoded data removed]",
       "text": [
        "<matplotlib.figure.Figure at 0x104c1bfd0>"
       ]
      }
     ],
     "prompt_number": 13
    },
    {
     "cell_type": "heading",
     "level": 2,
     "metadata": {},
     "source": [
      "Correlation analysis:"
     ]
    },
    {
     "cell_type": "markdown",
     "metadata": {},
     "source": [
      "The idea is to compute a correlation matrix between inferred and hand-labeled ethogram categories. To do so, we z-score the regressor values."
     ]
    },
    {
     "cell_type": "code",
     "collapsed": false,
     "input": [
      "# compute z-scored regressors\n",
      "sd = edf.std()\n",
      "sd[sd == 0] = 1\n",
      "zdf = (edf - edf.mean()) / sd\n",
      "labeled = zdf.iloc[:, :-5].values\n",
      "inferred = zdf.iloc[:, -5:].values\n",
      "\n",
      "# compute correlation as dot product between standardized regressors\n",
      "T = labeled.shape[0]\n",
      "corr = inferred.T.dot(labeled) / T\n",
      "\n",
      "# plot results\n",
      "matshow(np.abs(corr), vmin=0, vmax=1)\n",
      "plt.xlabel('labeled factor');\n",
      "plt.ylabel('inferred factor');\n",
      "plt.title('abs(correlation)');\n",
      "plt.colorbar();"
     ],
     "language": "python",
     "metadata": {},
     "outputs": [
      {
       "metadata": {},
       "output_type": "display_data",
       "png": "[encoded data removed]",
       "text": [
        "<matplotlib.figure.Figure at 0x10a0b02d0>"
       ]
      }
     ],
     "prompt_number": 14
    },
    {
     "cell_type": "markdown",
     "metadata": {},
     "source": [
      "As a different approach, try just computing a correlation matrix between unnormalized regressors:"
     ]
    },
    {
     "cell_type": "code",
     "collapsed": false,
     "input": [
      "# np.corrcoef computes correlation coefficients between all pairs of variables in first two arguments\n",
      "aa = np.corrcoef(edf.iloc[:, -5:], edf.iloc[:, :-5], rowvar=0)"
     ],
     "language": "python",
     "metadata": {},
     "outputs": [],
     "prompt_number": 15
    },
    {
     "cell_type": "code",
     "collapsed": false,
     "input": [
      "matshow(aa, vmin=-1, vmax=1)"
     ],
     "language": "python",
     "metadata": {},
     "outputs": [
      {
       "metadata": {},
       "output_type": "display_data",
       "png": "[encoded data removed]",
       "text": [
        "<matplotlib.figure.Figure at 0x1023b7cd0>"
       ]
      }
     ],
     "prompt_number": 16
    },
    {
     "cell_type": "code",
     "collapsed": false,
     "input": [
      "matshow(aa[:5, :], vmin=-1, vmax=1)\n",
      "plt.colorbar();"
     ],
     "language": "python",
     "metadata": {},
     "outputs": [
      {
       "metadata": {},
       "output_type": "display_data",
       "png": "[encoded data removed]",
       "text": [
        "<matplotlib.figure.Figure at 0x10b09b150>"
       ]
      }
     ],
     "prompt_number": 17
    },
    {
     "cell_type": "code",
     "collapsed": false,
     "input": [
      "aa.shape"
     ],
     "language": "python",
     "metadata": {},
     "outputs": [
      {
       "metadata": {},
       "output_type": "pyout",
       "prompt_number": 18,
       "text": [
        "(71, 71)"
       ]
      }
     ],
     "prompt_number": 18
    },
    {
     "cell_type": "code",
     "collapsed": false,
     "input": [
      "aa[:5, 5:]"
     ],
     "language": "python",
     "metadata": {},
     "outputs": [
      {
       "metadata": {},
       "output_type": "pyout",
       "prompt_number": 19,
       "text": [
        "array([[ -1.48235385e-02,   9.83323536e-03,  -1.52446272e-03,\n",
        "          5.18156890e-04,   6.52999249e-03,  -1.19389863e-02,\n",
        "         -1.71376757e-02,   4.99474677e-03,  -1.97205127e-02,\n",
        "          1.97205127e-02,  -3.65264432e-04,   2.32222964e-03,\n",
        "          2.32222964e-03,   3.53648404e-03,  -1.61094868e-03,\n",
        "          1.04034982e-02,  -1.47770310e-02,   1.47770310e-02,\n",
        "          8.25488579e-03,  -6.27241840e-04,   1.08848907e-03,\n",
        "          1.56431707e-02,  -1.22058971e-02,   1.22058971e-02,\n",
        "          1.74109582e-02,   1.62414753e-02,   3.61134161e-03,\n",
        "          3.48968884e-03,   1.48807928e-02,   1.28790586e-02,\n",
        "          1.23927219e-02,   7.82781915e-03,   3.58738814e-03,\n",
        "          4.09980209e-03,   5.33363492e-03,   3.75892655e-03,\n",
        "         -2.71042672e-03,   8.80377741e-03,   2.42019199e-03,\n",
        "          4.26903324e-03,   1.82001781e-03,   8.54750014e-04,\n",
        "          5.87817446e-03,  -7.10169119e-03,   4.53895841e-03,\n",
        "          6.20382925e-03,  -8.70989884e-03,   4.84326169e-03,\n",
        "         -4.84326169e-03,  -7.89819908e-03,  -1.01325393e-02,\n",
        "         -9.81222973e-03,   1.35197191e-03,   2.25738714e-03,\n",
        "          2.91553078e-03,   1.35689494e-03,  -3.79191743e-04,\n",
        "         -2.93676792e-03,   2.33909807e-03,   1.83199798e-04,\n",
        "          1.60110272e-03,   2.92195949e-03,  -2.49683514e-03,\n",
        "          7.10265687e-04,   1.32030693e-03,   7.15402654e-04],\n",
        "       [ -2.80993390e-02,   2.52411138e-02,  -1.70426450e-03,\n",
        "         -2.65802196e-02,   8.37092202e-03,  -2.40211662e-02,\n",
        "         -2.12320354e-02,  -2.49978799e-02,  -1.23909756e-02,\n",
        "          1.23909756e-02,  -3.46811187e-02,  -1.51192533e-02,\n",
        "         -1.51192533e-02,  -8.04019271e-03,  -1.87475868e-02,\n",
        "          1.32047540e-02,  -9.72492938e-03,   9.72492938e-03,\n",
        "          2.40825378e-02,  -8.48337860e-03,  -1.61678389e-03,\n",
        "          1.35316845e-02,  -1.60350564e-02,   1.60350564e-02,\n",
        "          1.21912527e-02,   1.05688702e-02,   3.22179102e-03,\n",
        "         -2.87184133e-03,   1.16216494e-02,   2.07889596e-02,\n",
        "         -8.53079488e-03,   1.78897086e-02,   1.15502074e-02,\n",
        "          2.16806975e-03,   1.30801457e-02,  -6.33253919e-04,\n",
        "          4.15311649e-03,   1.84495558e-02,  -2.77955232e-03,\n",
        "          3.29119275e-02,   4.27373413e-03,  -1.27847588e-02,\n",
        "         -2.12852648e-02,   4.53122269e-03,   1.25482945e-03,\n",
        "         -1.03093486e-03,  -1.14053414e-02,   1.48704537e-02,\n",
        "         -1.48704537e-02,  -1.34037968e-02,  -8.29047752e-03,\n",
        "          1.87970698e-03,   1.49644272e-03,   8.10686228e-03,\n",
        "         -6.64792078e-03,  -3.07691140e-03,  -1.49630594e-02,\n",
        "         -1.94745883e-03,  -5.77661043e-03,  -1.19377006e-02,\n",
        "         -7.33608187e-03,   3.80347442e-03,   8.35238526e-03,\n",
        "          7.76516819e-04,   7.03959028e-03,  -4.61664899e-03],\n",
        "       [  1.00502824e-02,  -8.93983405e-03,   2.09727097e-03,\n",
        "          1.50780119e-03,   3.37602837e-03,  -6.50693446e-04,\n",
        "          1.00824695e-02,   1.75577011e-03,   1.30337293e-02,\n",
        "         -1.30337293e-02,   6.70630738e-04,   7.43823172e-03,\n",
        "          7.43823172e-03,   4.94027974e-03,   1.01886433e-02,\n",
        "         -1.25757951e-02,   1.07272089e-02,  -1.07272089e-02,\n",
        "         -1.50265801e-02,  -2.52865323e-03,   3.28810986e-03,\n",
        "         -1.50376093e-03,   8.58272446e-04,  -8.58272446e-04,\n",
        "         -1.98010259e-03,  -4.98631115e-03,   3.55182416e-03,\n",
        "          1.50794672e-03,  -1.03602355e-02,  -1.57397594e-02,\n",
        "          2.86568833e-03,  -2.38976232e-04,  -5.66924554e-03,\n",
        "         -2.46245271e-03,  -1.08034208e-02,  -9.42205001e-03,\n",
        "         -2.33429453e-03,  -7.78691134e-03,   5.80617970e-04,\n",
        "         -1.28648769e-02,  -1.61352909e-03,  -4.32787873e-03,\n",
        "          2.39098654e-04,  -5.30563105e-03,   4.38627380e-04,\n",
        "          1.18092748e-03,   6.82721895e-03,  -8.97770282e-03,\n",
        "          8.97770282e-03,   6.85719551e-03,   4.35759913e-03,\n",
        "          1.57415302e-03,  -2.83748439e-03,   8.13880870e-03,\n",
        "         -1.17373471e-03,   4.19117925e-03,   4.18690089e-03,\n",
        "          1.44140144e-03,   8.56545149e-03,   7.12765905e-03,\n",
        "          2.18584576e-03,   1.18318721e-03,  -3.58390310e-04,\n",
        "         -3.43163876e-04,  -9.02854695e-04,   6.17969999e-04],\n",
        "       [  2.82505078e-04,  -1.01828942e-02,   6.62685778e-04,\n",
        "          1.46937698e-02,   2.19173224e-02,   8.21875192e-03,\n",
        "         -2.57058599e-02,   8.20528860e-02,  -3.11897831e-02,\n",
        "          3.11897831e-02,   8.34954626e-02,   4.62535099e-02,\n",
        "          4.62535099e-02,   3.24637478e-02,   1.26184162e-02,\n",
        "         -1.35107493e-02,  -1.26519361e-02,   1.26519361e-02,\n",
        "         -3.64395983e-02,  -2.24409025e-03,  -1.15920364e-02,\n",
        "          2.97740220e-02,  -2.92494452e-02,   2.92494452e-02,\n",
        "          2.24102624e-02,   5.36520494e-03,   4.14858612e-02,\n",
        "          1.40441269e-02,   2.84714250e-02,   1.00340119e-02,\n",
        "          4.84991292e-02,  -1.36350049e-02,   5.33464027e-03,\n",
        "          2.43346860e-04,  -1.63787186e-02,   3.38068983e-05,\n",
        "         -5.38510533e-04,  -1.27477918e-02,   1.23564926e-03,\n",
        "         -4.35029605e-02,   8.42180325e-03,   2.45111234e-03,\n",
        "          2.81935824e-02,   5.57258704e-03,  -7.15521111e-03,\n",
        "         -1.07418311e-02,   1.81045272e-02,  -2.05884465e-02,\n",
        "          2.05884465e-02,   1.90914201e-02,   1.58401401e-02,\n",
        "          2.63952006e-03,   7.48443186e-03,   9.78322396e-03,\n",
        "          1.22679023e-02,   8.42549764e-03,   1.11001482e-02,\n",
        "          1.98735772e-04,   1.16074179e-02,   1.65361732e-02,\n",
        "         -9.69055400e-03,   3.35225211e-03,   1.27282037e-02,\n",
        "          2.66682228e-03,   2.74428009e-03,  -1.00875969e-03],\n",
        "       [ -1.64512813e-02,   1.88493595e-02,  -7.11066312e-03,\n",
        "         -3.24122668e-03,  -1.20855436e-02,  -8.08702753e-03,\n",
        "         -4.97582915e-03,  -2.44686846e-02,  -6.37538537e-03,\n",
        "          6.37538537e-03,  -2.79278941e-02,  -1.94320462e-02,\n",
        "         -1.94320462e-02,  -7.62447949e-03,  -3.45793857e-03,\n",
        "          1.72056329e-02,  -6.81602315e-03,   6.81602315e-03,\n",
        "          2.42992008e-02,   7.52227388e-03,   1.50295916e-03,\n",
        "         -1.43969864e-02,   1.65002823e-02,  -1.65002823e-02,\n",
        "         -1.36082340e-02,  -9.49821439e-03,  -5.41118471e-03,\n",
        "         -4.87619658e-03,  -1.30338416e-02,  -5.58960161e-03,\n",
        "         -2.05118234e-02,   4.71479446e-03,  -1.34224409e-03,\n",
        "          3.60092829e-03,   9.21966461e-03,  -3.30324553e-03,\n",
        "          1.36927803e-04,   6.71333791e-03,   9.45723905e-04,\n",
        "          1.83466719e-02,  -7.32535909e-03,  -5.36663010e-03,\n",
        "         -1.00446879e-03,  -4.89016971e-04,  -3.05697235e-04,\n",
        "          6.18192252e-03,  -1.00871692e-02,   1.17705627e-02,\n",
        "         -1.17705627e-02,  -1.13451206e-02,  -8.26942416e-03,\n",
        "         -5.45087621e-04,  -1.08529635e-03,  -3.93560261e-03,\n",
        "         -4.16072917e-03,  -9.18898920e-03,  -6.75778339e-03,\n",
        "          1.54305784e-03,  -1.04273101e-02,  -5.20959323e-03,\n",
        "         -8.84605754e-04,  -9.30339164e-03,  -2.90123967e-03,\n",
        "          7.61753522e-04,  -3.77680343e-03,  -2.40318307e-03]])"
       ]
      }
     ],
     "prompt_number": 19
    },
    {
     "cell_type": "code",
     "collapsed": false,
     "input": [],
     "language": "python",
     "metadata": {},
     "outputs": [],
     "prompt_number": 19
    }
   ],
   "metadata": {}
  }
 ]
}