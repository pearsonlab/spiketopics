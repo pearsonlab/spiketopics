{
 "cells": [
  {
   "cell_type": "code",
   "execution_count": 1,
   "metadata": {
    "collapsed": false
   },
   "outputs": [],
   "source": [
    "from __future__ import division\n",
    "import numpy as np\n",
    "import pandas as pd\n",
    "import matplotlib.pyplot as plt\n",
    "import seaborn as sns\n",
    "import matplotlib.cm as cm\n",
    "import cPickle as pickle\n",
    "from helpers import *\n",
    "\n",
    "%matplotlib inline\n",
    "sns.set_style('darkgrid')"
   ]
  },
  {
   "cell_type": "markdown",
   "metadata": {},
   "source": [
    "# Load in data"
   ]
  },
  {
   "cell_type": "code",
   "execution_count": 2,
   "metadata": {
    "collapsed": false
   },
   "outputs": [],
   "source": [
    "infile = 'data/big_fitted_object.pkl'\n",
    "gpm = pickle.load(open(infile, 'rb'))\n",
    "dt = 1 / 30."
   ]
  },
  {
   "cell_type": "code",
   "execution_count": 3,
   "metadata": {
    "collapsed": false
   },
   "outputs": [
    {
     "data": {
      "text/html": [
       "<div style=\"max-height:1000px;max-width:1500px;overflow:auto;\">\n",
       "<table border=\"1\" class=\"dataframe\">\n",
       "  <thead>\n",
       "    <tr style=\"text-align: right;\">\n",
       "      <th></th>\n",
       "      <th>unit</th>\n",
       "      <th>time</th>\n",
       "      <th>count</th>\n",
       "      <th>lam0</th>\n",
       "      <th>lam1</th>\n",
       "    </tr>\n",
       "  </thead>\n",
       "  <tbody>\n",
       "    <tr>\n",
       "      <th>0</th>\n",
       "      <td> 10</td>\n",
       "      <td> 0</td>\n",
       "      <td> 0</td>\n",
       "      <td>-0.061339</td>\n",
       "      <td>-0.069248</td>\n",
       "    </tr>\n",
       "    <tr>\n",
       "      <th>1</th>\n",
       "      <td> 11</td>\n",
       "      <td> 0</td>\n",
       "      <td> 0</td>\n",
       "      <td>-0.820483</td>\n",
       "      <td>-1.076403</td>\n",
       "    </tr>\n",
       "    <tr>\n",
       "      <th>2</th>\n",
       "      <td> 10</td>\n",
       "      <td> 1</td>\n",
       "      <td> 0</td>\n",
       "      <td>-0.063422</td>\n",
       "      <td>-0.071599</td>\n",
       "    </tr>\n",
       "    <tr>\n",
       "      <th>3</th>\n",
       "      <td> 11</td>\n",
       "      <td> 1</td>\n",
       "      <td> 4</td>\n",
       "      <td>-1.389583</td>\n",
       "      <td>-0.737178</td>\n",
       "    </tr>\n",
       "    <tr>\n",
       "      <th>4</th>\n",
       "      <td> 10</td>\n",
       "      <td> 2</td>\n",
       "      <td> 0</td>\n",
       "      <td>-0.064339</td>\n",
       "      <td>-0.072635</td>\n",
       "    </tr>\n",
       "  </tbody>\n",
       "</table>\n",
       "</div>"
      ],
      "text/plain": [
       "   unit  time  count      lam0      lam1\n",
       "0    10     0      0 -0.061339 -0.069248\n",
       "1    11     0      0 -0.820483 -1.076403\n",
       "2    10     1      0 -0.063422 -0.071599\n",
       "3    11     1      4 -1.389583 -0.737178\n",
       "4    10     2      0 -0.064339 -0.072635"
      ]
     },
     "execution_count": 3,
     "metadata": {},
     "output_type": "execute_result"
    }
   ],
   "source": [
    "gpm.Nframe.head()"
   ]
  },
  {
   "cell_type": "code",
   "execution_count": 4,
   "metadata": {
    "collapsed": false
   },
   "outputs": [
    {
     "data": {
      "text/html": [
       "<div style=\"max-height:1000px;max-width:1500px;overflow:auto;\">\n",
       "<table border=\"1\" class=\"dataframe\">\n",
       "  <thead>\n",
       "    <tr style=\"text-align: right;\">\n",
       "      <th></th>\n",
       "      <th>X0</th>\n",
       "    </tr>\n",
       "  </thead>\n",
       "  <tbody>\n",
       "    <tr>\n",
       "      <th>0</th>\n",
       "      <td> 0</td>\n",
       "    </tr>\n",
       "    <tr>\n",
       "      <th>1</th>\n",
       "      <td> 0</td>\n",
       "    </tr>\n",
       "    <tr>\n",
       "      <th>2</th>\n",
       "      <td> 0</td>\n",
       "    </tr>\n",
       "    <tr>\n",
       "      <th>3</th>\n",
       "      <td> 0</td>\n",
       "    </tr>\n",
       "    <tr>\n",
       "      <th>4</th>\n",
       "      <td> 0</td>\n",
       "    </tr>\n",
       "  </tbody>\n",
       "</table>\n",
       "</div>"
      ],
      "text/plain": [
       "   X0\n",
       "0   0\n",
       "1   0\n",
       "2   0\n",
       "3   0\n",
       "4   0"
      ]
     },
     "execution_count": 4,
     "metadata": {},
     "output_type": "execute_result"
    }
   ],
   "source": [
    "gpm.Xframe.head()"
   ]
  },
  {
   "cell_type": "markdown",
   "metadata": {},
   "source": [
    "# Plot inferred categories as matrix"
   ]
  },
  {
   "cell_type": "code",
   "execution_count": 5,
   "metadata": {
    "collapsed": false
   },
   "outputs": [
    {
     "name": "stdout",
     "output_type": "stream",
     "text": [
      "(512644, 10)\n"
     ]
    }
   ],
   "source": [
    "xi = gpm.nodes['HMM'].nodes['z'].z[1]\n",
    "T, K = xi.shape\n",
    "print xi.shape"
   ]
  },
  {
   "cell_type": "code",
   "execution_count": 6,
   "metadata": {
    "collapsed": false
   },
   "outputs": [
    {
     "data": {
      "image/png": "[encoded data removed]",
      "text/plain": [
       "<matplotlib.figure.Figure at 0x10ec4f450>"
      ]
     },
     "metadata": {},
     "output_type": "display_data"
    }
   ],
   "source": [
    "matshow(xi[:5000].T, vmin=0, vmax=1);"
   ]
  },
  {
   "cell_type": "markdown",
   "metadata": {},
   "source": [
    "Make $\\xi$ dataframe:"
   ]
  },
  {
   "cell_type": "code",
   "execution_count": 7,
   "metadata": {
    "collapsed": false
   },
   "outputs": [],
   "source": [
    "xif = pd.DataFrame(xi)\n",
    "xif.columns = ['Z' + str(k) for k in range(K)]\n",
    "xif.index.name = 'time'\n",
    "xif = xif.reset_index()"
   ]
  },
  {
   "cell_type": "markdown",
   "metadata": {},
   "source": [
    "# Posteriors for effects"
   ]
  },
  {
   "cell_type": "markdown",
   "metadata": {},
   "source": [
    "## Baselines"
   ]
  },
  {
   "cell_type": "code",
   "execution_count": 8,
   "metadata": {
    "collapsed": false
   },
   "outputs": [
    {
     "data": {
      "image/png": "[encoded data removed]",
      "text/plain": [
       "<matplotlib.figure.Figure at 0x10ef3ee50>"
      ]
     },
     "metadata": {},
     "output_type": "display_data"
    }
   ],
   "source": [
    "plt.figure(figsize=(14, 4))\n",
    "\n",
    "th = gpm.nodes['baseline_mean']\n",
    "cc = gpm.nodes['baseline_shape']\n",
    "th_pars = [th.post_shape, th.post_rate]\n",
    "cc_pars = [cc.post_shape, cc.post_rate]\n",
    "samples = gamma_from_hypers(th_pars, cc_pars, 1e5)\n",
    "\n",
    "plt.subplot(1, 3, 1)\n",
    "xx = np.linspace(0, 20, 500)\n",
    "plt.plot(xx, stats.invgamma.pdf(xx, a=th_pars[0], scale=th_pars[1]/dt))\n",
    "plt.title('Baseline mean parameter posterior');\n",
    "\n",
    "plt.subplot(1, 3, 2)\n",
    "xx = np.linspace(0, 2, 500)\n",
    "plt.plot(xx, stats.invgamma.pdf(xx, a=cc_pars[0], scale=cc_pars[1]))\n",
    "plt.title('Baseline variance parameter posterior');\n",
    "\n",
    "plt.subplot(1, 3, 3)\n",
    "sns.kdeplot(samples / dt, gridsize=1e4, clip=(0, 100))\n",
    "plt.title('baseline posterior distribution')\n",
    "plt.xlabel('Firing rate (Hz)')\n",
    "plt.xlim(0, 100);"
   ]
  },
  {
   "cell_type": "markdown",
   "metadata": {},
   "source": [
    "## Regressors"
   ]
  },
  {
   "cell_type": "code",
   "execution_count": 9,
   "metadata": {
    "collapsed": false
   },
   "outputs": [
    {
     "data": {
      "image/png": "[encoded data removed]",
      "text/plain": [
       "<matplotlib.figure.Figure at 0x10ef45950>"
      ]
     },
     "metadata": {},
     "output_type": "display_data"
    }
   ],
   "source": [
    "plt.figure(figsize=(8, 6))\n",
    "inferred_means = gpm.nodes['fr_regressors'].expected_x()\n",
    "R = inferred_means.shape[1]\n",
    "for r in xrange(R):\n",
    "    plt.hist(inferred_means[:, r], bins=50, normed=True, alpha=0.25, label='X' + str(r))\n",
    "plt.title('Regression effects');\n",
    "plt.legend()\n",
    "plt.ylim(0, 5);\n",
    "plt.xlim(0, 5);"
   ]
  },
  {
   "cell_type": "markdown",
   "metadata": {},
   "source": [
    "## Latent Categories"
   ]
  },
  {
   "cell_type": "code",
   "execution_count": 10,
   "metadata": {
    "collapsed": false
   },
   "outputs": [
    {
     "data": {
      "image/png": "[encoded data removed]",
      "text/plain": [
       "<matplotlib.figure.Figure at 0x129f62350>"
      ]
     },
     "metadata": {},
     "output_type": "display_data"
    }
   ],
   "source": [
    "plt.figure(figsize=(16, 4))\n",
    "\n",
    "th = gpm.nodes['fr_latents_mean']\n",
    "cc = gpm.nodes['fr_latents_shape']\n",
    "\n",
    "th_pars = np.c_[th.post_shape, th.post_rate].T\n",
    "cc_pars = np.c_[cc.post_shape, cc.post_rate].T\n",
    "\n",
    "plt.subplot(1, 3, 1)\n",
    "xx = np.linspace(0, 2, 500)\n",
    "for kk in xrange(K):\n",
    "    plt.plot(xx, stats.invgamma.pdf(xx, a=th_pars[0, kk], scale=th_pars[1, kk]), label='Z' + str(kk))\n",
    "plt.legend()\n",
    "plt.title('effect mean posterior');\n",
    "\n",
    "plt.subplot(1, 3, 2)\n",
    "xx = np.linspace(0, 5, 500)\n",
    "for kk in xrange(K):\n",
    "    plt.plot(xx, stats.invgamma.pdf(xx, a=cc_pars[0, kk], scale=cc_pars[1, kk]), label='Z' + str(kk))\n",
    "plt.legend()\n",
    "plt.title('effect variance parameter posterior');\n",
    "\n",
    "plt.subplot(1, 3, 3)\n",
    "for kk in xrange(K):\n",
    "    samples = gamma_from_hypers(th_pars[:, kk], cc_pars[:, kk], 1e5)\n",
    "    sns.kdeplot(samples, gridsize=1e4, clip=(0, 10), label='Z' + str(kk))\n",
    "plt.legend()\n",
    "plt.title(r'$\\lambda$ effect posterior distribution')\n",
    "plt.xlim(0, 2);\n",
    "plt.ylim(0, 5);"
   ]
  },
  {
   "cell_type": "code",
   "execution_count": 11,
   "metadata": {
    "collapsed": false
   },
   "outputs": [
    {
     "data": {
      "image/png": "[encoded data removed]",
      "text/plain": [
       "<matplotlib.figure.Figure at 0x129e0fd50>"
      ]
     },
     "metadata": {},
     "output_type": "display_data"
    }
   ],
   "source": [
    "plt.figure(figsize=(8, 6))\n",
    "\n",
    "inferred_effects = gpm.nodes['fr_latents'].expected_x()\n",
    "for kk in xrange(K):\n",
    "    plt.hist(inferred_effects[..., kk], bins=50, normed=True, alpha=0.25, label='Z' + str(kk));\n",
    "plt.legend();\n",
    "plt.title('Firing rate effects');\n",
    "plt.ylim(0, 5);"
   ]
  },
  {
   "cell_type": "markdown",
   "metadata": {},
   "source": [
    "## Overdispersion"
   ]
  },
  {
   "cell_type": "code",
   "execution_count": 12,
   "metadata": {
    "collapsed": false
   },
   "outputs": [
    {
     "data": {
      "image/png": "[encoded data removed]",
      "text/plain": [
       "<matplotlib.figure.Figure at 0x11dc1ca10>"
      ]
     },
     "metadata": {},
     "output_type": "display_data"
    }
   ],
   "source": [
    "plt.figure(figsize=(8, 6))\n",
    "\n",
    "inferred_means = gpm.nodes['overdispersion'].expected_x().ravel()\n",
    "plt.hist(inferred_means, bins=500, normed=True, alpha=0.25);\n",
    "plt.title('Overdispersion effects');\n",
    "plt.ylim(0, 2);"
   ]
  },
  {
   "cell_type": "markdown",
   "metadata": {},
   "source": [
    "# Load and prepare ethogram:"
   ]
  },
  {
   "cell_type": "markdown",
   "metadata": {},
   "source": [
    "Our goal here is to load the ethogram, join it to the inferred ethogram, and perform some comparisons to see if any of our discovered categories match hand-labeled categories from the ethogram."
   ]
  },
  {
   "cell_type": "code",
   "execution_count": 13,
   "metadata": {
    "collapsed": false
   },
   "outputs": [
    {
     "name": "stderr",
     "output_type": "stream",
     "text": [
      "/Users/jmxp/anaconda/lib/python2.7/site-packages/pandas/io/parsers.py:1159: DtypeWarning: Columns (11) have mixed types. Specify dtype option on import or set low_memory=False.\n",
      "  data = self._reader.read(nrows)\n"
     ]
    }
   ],
   "source": [
    "ethofile = 'sql/etho.csv'\n",
    "etho = pd.read_csv(ethofile)"
   ]
  },
  {
   "cell_type": "code",
   "execution_count": 14,
   "metadata": {
    "collapsed": false
   },
   "outputs": [],
   "source": [
    "# rename some columns\n",
    "etho = etho.rename(columns={'movieId': 'movie', 'frameNumber': 'frame'})\n",
    "etho = frames_to_times(etho)"
   ]
  },
  {
   "cell_type": "code",
   "execution_count": 15,
   "metadata": {
    "collapsed": false
   },
   "outputs": [
    {
     "data": {
      "text/html": [
       "<div style=\"max-height:1000px;max-width:1500px;overflow:auto;\">\n",
       "<table border=\"1\" class=\"dataframe\">\n",
       "  <thead>\n",
       "    <tr style=\"text-align: right;\">\n",
       "      <th></th>\n",
       "      <th>frameTime</th>\n",
       "      <th>ethoCameraLabel</th>\n",
       "      <th>ethoCameraLevel</th>\n",
       "      <th>ethoCameraHolding</th>\n",
       "      <th>ethoCameraZoomingIn</th>\n",
       "      <th>ethoCameraZoomingOut</th>\n",
       "      <th>ethoCameraTracking</th>\n",
       "      <th>ethoCameraPanning</th>\n",
       "      <th>ethoCameraSlewing</th>\n",
       "      <th>ethoRoughCountLabel</th>\n",
       "      <th>...</th>\n",
       "      <th>ethoChase</th>\n",
       "      <th>ethoFlee</th>\n",
       "      <th>ethoThreaten</th>\n",
       "      <th>ethoMountedThreaten</th>\n",
       "      <th>ethoSubmit</th>\n",
       "      <th>ethoDisplace</th>\n",
       "      <th>ethoLeanAway</th>\n",
       "      <th>ethoAvoid</th>\n",
       "      <th>ethoBranchDisplay</th>\n",
       "      <th>time</th>\n",
       "    </tr>\n",
       "  </thead>\n",
       "  <tbody>\n",
       "    <tr>\n",
       "      <th>0</th>\n",
       "      <td> 0.0000</td>\n",
       "      <td> holding</td>\n",
       "      <td> 0</td>\n",
       "      <td> 1</td>\n",
       "      <td> 0</td>\n",
       "      <td> 0</td>\n",
       "      <td> 0</td>\n",
       "      <td> 0</td>\n",
       "      <td> 0</td>\n",
       "      <td> 0</td>\n",
       "      <td>...</td>\n",
       "      <td> 0</td>\n",
       "      <td> 0</td>\n",
       "      <td> 0</td>\n",
       "      <td> 0</td>\n",
       "      <td> 0</td>\n",
       "      <td> 0</td>\n",
       "      <td> 0</td>\n",
       "      <td> 0</td>\n",
       "      <td> 0</td>\n",
       "      <td> 0</td>\n",
       "    </tr>\n",
       "    <tr>\n",
       "      <th>1</th>\n",
       "      <td> 0.0333</td>\n",
       "      <td> holding</td>\n",
       "      <td> 0</td>\n",
       "      <td> 1</td>\n",
       "      <td> 0</td>\n",
       "      <td> 0</td>\n",
       "      <td> 0</td>\n",
       "      <td> 0</td>\n",
       "      <td> 0</td>\n",
       "      <td> 0</td>\n",
       "      <td>...</td>\n",
       "      <td> 0</td>\n",
       "      <td> 0</td>\n",
       "      <td> 0</td>\n",
       "      <td> 0</td>\n",
       "      <td> 0</td>\n",
       "      <td> 0</td>\n",
       "      <td> 0</td>\n",
       "      <td> 0</td>\n",
       "      <td> 0</td>\n",
       "      <td> 1</td>\n",
       "    </tr>\n",
       "    <tr>\n",
       "      <th>2</th>\n",
       "      <td> 0.0667</td>\n",
       "      <td> holding</td>\n",
       "      <td> 0</td>\n",
       "      <td> 1</td>\n",
       "      <td> 0</td>\n",
       "      <td> 0</td>\n",
       "      <td> 0</td>\n",
       "      <td> 0</td>\n",
       "      <td> 0</td>\n",
       "      <td> 0</td>\n",
       "      <td>...</td>\n",
       "      <td> 0</td>\n",
       "      <td> 0</td>\n",
       "      <td> 0</td>\n",
       "      <td> 0</td>\n",
       "      <td> 0</td>\n",
       "      <td> 0</td>\n",
       "      <td> 0</td>\n",
       "      <td> 0</td>\n",
       "      <td> 0</td>\n",
       "      <td> 2</td>\n",
       "    </tr>\n",
       "    <tr>\n",
       "      <th>3</th>\n",
       "      <td> 0.1000</td>\n",
       "      <td> holding</td>\n",
       "      <td> 0</td>\n",
       "      <td> 1</td>\n",
       "      <td> 0</td>\n",
       "      <td> 0</td>\n",
       "      <td> 0</td>\n",
       "      <td> 0</td>\n",
       "      <td> 0</td>\n",
       "      <td> 0</td>\n",
       "      <td>...</td>\n",
       "      <td> 0</td>\n",
       "      <td> 0</td>\n",
       "      <td> 0</td>\n",
       "      <td> 0</td>\n",
       "      <td> 0</td>\n",
       "      <td> 0</td>\n",
       "      <td> 0</td>\n",
       "      <td> 0</td>\n",
       "      <td> 0</td>\n",
       "      <td> 3</td>\n",
       "    </tr>\n",
       "    <tr>\n",
       "      <th>4</th>\n",
       "      <td> 0.1333</td>\n",
       "      <td> holding</td>\n",
       "      <td> 0</td>\n",
       "      <td> 1</td>\n",
       "      <td> 0</td>\n",
       "      <td> 0</td>\n",
       "      <td> 0</td>\n",
       "      <td> 0</td>\n",
       "      <td> 0</td>\n",
       "      <td> 0</td>\n",
       "      <td>...</td>\n",
       "      <td> 0</td>\n",
       "      <td> 0</td>\n",
       "      <td> 0</td>\n",
       "      <td> 0</td>\n",
       "      <td> 0</td>\n",
       "      <td> 0</td>\n",
       "      <td> 0</td>\n",
       "      <td> 0</td>\n",
       "      <td> 0</td>\n",
       "      <td> 4</td>\n",
       "    </tr>\n",
       "  </tbody>\n",
       "</table>\n",
       "<p>5 rows × 74 columns</p>\n",
       "</div>"
      ],
      "text/plain": [
       "   frameTime ethoCameraLabel  ethoCameraLevel  ethoCameraHolding  \\\n",
       "0     0.0000         holding                0                  1   \n",
       "1     0.0333         holding                0                  1   \n",
       "2     0.0667         holding                0                  1   \n",
       "3     0.1000         holding                0                  1   \n",
       "4     0.1333         holding                0                  1   \n",
       "\n",
       "   ethoCameraZoomingIn  ethoCameraZoomingOut  ethoCameraTracking  \\\n",
       "0                    0                     0                   0   \n",
       "1                    0                     0                   0   \n",
       "2                    0                     0                   0   \n",
       "3                    0                     0                   0   \n",
       "4                    0                     0                   0   \n",
       "\n",
       "   ethoCameraPanning  ethoCameraSlewing ethoRoughCountLabel  ...   ethoChase  \\\n",
       "0                  0                  0                   0  ...           0   \n",
       "1                  0                  0                   0  ...           0   \n",
       "2                  0                  0                   0  ...           0   \n",
       "3                  0                  0                   0  ...           0   \n",
       "4                  0                  0                   0  ...           0   \n",
       "\n",
       "   ethoFlee  ethoThreaten  ethoMountedThreaten  ethoSubmit  ethoDisplace  \\\n",
       "0         0             0                    0           0             0   \n",
       "1         0             0                    0           0             0   \n",
       "2         0             0                    0           0             0   \n",
       "3         0             0                    0           0             0   \n",
       "4         0             0                    0           0             0   \n",
       "\n",
       "   ethoLeanAway  ethoAvoid ethoBranchDisplay  time  \n",
       "0             0          0                 0     0  \n",
       "1             0          0                 0     1  \n",
       "2             0          0                 0     2  \n",
       "3             0          0                 0     3  \n",
       "4             0          0                 0     4  \n",
       "\n",
       "[5 rows x 74 columns]"
      ]
     },
     "execution_count": 15,
     "metadata": {},
     "output_type": "execute_result"
    }
   ],
   "source": [
    "etho.head()"
   ]
  },
  {
   "cell_type": "code",
   "execution_count": 16,
   "metadata": {
    "collapsed": false
   },
   "outputs": [
    {
     "data": {
      "text/plain": [
       "Index([u'frameTime', u'ethoCameraLabel', u'ethoCameraLevel', u'ethoCameraHolding', u'ethoCameraZoomingIn', u'ethoCameraZoomingOut', u'ethoCameraTracking', u'ethoCameraPanning', u'ethoCameraSlewing', u'ethoRoughCountLabel', u'ethoRoughCountLevel', u'ethoCountNone', u'ethoLeast1', u'ethoLeast2', u'ethoLeast3', u'ethoLeast6', u'ethoLeast11', u'ethoHumanVisible', u'ethoFaceLabel', u'ethoFaceViewLevel', u'ethoFaceNone', u'ethoFaceVisible', u'ethoFaceProminent', u'ethoFaceDirect', u'ethoFaceEyeContact', u'ethoGenitalsLabel', u'ethoGenitalsViewLevel', u'ethoGenitalsNone', u'ethoGenitalsVisible', u'ethoGenitalsProminent', u'ethoGenitalsMale', u'ethoGenitalsFemale', u'ethoGenitalsBoth', u'ethoForageLabel', u'ethoForageLevel', u'ethoForage', u'ethoMassForage', u'ethoDrink', u'ethoSearch', u'ethoGraspFood', u'ethoHoldFood', u'ethoHoldInMouth', u'ethoManipulateFood', u'ethoIngestFood', u'ethoIngestFromGroom', u'ethoChew', u'ethoRetrieveFromPouch', u'ethoHeave', u'ethoAllogroom', u'ethoSolicitAllogroom', u'ethoScratch', u'ethoAutogroom', u'ethoAggressionLabel', u'ethoAggressionLevel', u'ethoAggressionNone', u'ethoAggressionAny', u'ethoAggressionTwo', u'ethoAggressionJoint', u'ethoAggressionMass', u'ethoStrike', u'ethoGrapple', u'ethoLunge', u'ethoWithdraw', u'ethoCharge', u'ethoChase', u'ethoFlee', u'ethoThreaten', u'ethoMountedThreaten', u'ethoSubmit', u'ethoDisplace', u'ethoLeanAway', u'ethoAvoid', u'ethoBranchDisplay', u'time', u'Z0', u'Z1', u'Z2', u'Z3', u'Z4', u'Z5', u'Z6', u'Z7', u'Z8', u'Z9'], dtype='object')"
      ]
     },
     "execution_count": 16,
     "metadata": {},
     "output_type": "execute_result"
    }
   ],
   "source": [
    "# merge labeled and inferred etho on movie and frame columns\n",
    "edf = pd.merge(etho, xif, how='right')\n",
    "edf.columns"
   ]
  },
  {
   "cell_type": "code",
   "execution_count": 17,
   "metadata": {
    "collapsed": false
   },
   "outputs": [],
   "source": [
    "# get rid of categories that are either identifiers or have non-binary entries\n",
    "edf = edf.drop(['frameTime', 'ethoCameraLabel', 'ethoFaceLabel',\n",
    "                'ethoGenitalsLabel', 'ethoForageLabel', 'ethoAggressionLabel', 'time',\n",
    "                'ethoRoughCountLabel', 'ethoRoughCountLevel', 'ethoFaceViewLevel', \n",
    "                'ethoGenitalsViewLevel', 'ethoForageLevel', 'ethoAggressionLevel'], axis=1)\n"
   ]
  },
  {
   "cell_type": "code",
   "execution_count": 18,
   "metadata": {
    "collapsed": false
   },
   "outputs": [
    {
     "data": {
      "text/html": [
       "<div style=\"max-height:1000px;max-width:1500px;overflow:auto;\">\n",
       "<table border=\"1\" class=\"dataframe\">\n",
       "  <thead>\n",
       "    <tr style=\"text-align: right;\">\n",
       "      <th></th>\n",
       "      <th>ethoCameraLevel</th>\n",
       "      <th>ethoCameraHolding</th>\n",
       "      <th>ethoCameraZoomingIn</th>\n",
       "      <th>ethoCameraZoomingOut</th>\n",
       "      <th>ethoCameraTracking</th>\n",
       "      <th>ethoCameraPanning</th>\n",
       "      <th>ethoCameraSlewing</th>\n",
       "      <th>ethoCountNone</th>\n",
       "      <th>ethoLeast1</th>\n",
       "      <th>ethoLeast2</th>\n",
       "      <th>...</th>\n",
       "      <th>Z0</th>\n",
       "      <th>Z1</th>\n",
       "      <th>Z2</th>\n",
       "      <th>Z3</th>\n",
       "      <th>Z4</th>\n",
       "      <th>Z5</th>\n",
       "      <th>Z6</th>\n",
       "      <th>Z7</th>\n",
       "      <th>Z8</th>\n",
       "      <th>Z9</th>\n",
       "    </tr>\n",
       "  </thead>\n",
       "  <tbody>\n",
       "    <tr>\n",
       "      <th>0</th>\n",
       "      <td> 0</td>\n",
       "      <td> 1</td>\n",
       "      <td> 0</td>\n",
       "      <td> 0</td>\n",
       "      <td> 0</td>\n",
       "      <td> 0</td>\n",
       "      <td> 0</td>\n",
       "      <td> 1</td>\n",
       "      <td> 0</td>\n",
       "      <td> 0</td>\n",
       "      <td>...</td>\n",
       "      <td> 0.001029</td>\n",
       "      <td> 0.039860</td>\n",
       "      <td> 0.034572</td>\n",
       "      <td> 0.037617</td>\n",
       "      <td> 0.033740</td>\n",
       "      <td> 0.015442</td>\n",
       "      <td> 0.019248</td>\n",
       "      <td> 0.031667</td>\n",
       "      <td> 0.025052</td>\n",
       "      <td> 0.027933</td>\n",
       "    </tr>\n",
       "    <tr>\n",
       "      <th>1</th>\n",
       "      <td> 0</td>\n",
       "      <td> 1</td>\n",
       "      <td> 0</td>\n",
       "      <td> 0</td>\n",
       "      <td> 0</td>\n",
       "      <td> 0</td>\n",
       "      <td> 0</td>\n",
       "      <td> 1</td>\n",
       "      <td> 0</td>\n",
       "      <td> 0</td>\n",
       "      <td>...</td>\n",
       "      <td> 0.000153</td>\n",
       "      <td> 0.117708</td>\n",
       "      <td> 0.096362</td>\n",
       "      <td> 0.036111</td>\n",
       "      <td> 0.099480</td>\n",
       "      <td> 0.026560</td>\n",
       "      <td> 0.019566</td>\n",
       "      <td> 0.049931</td>\n",
       "      <td> 0.037210</td>\n",
       "      <td> 0.059312</td>\n",
       "    </tr>\n",
       "    <tr>\n",
       "      <th>2</th>\n",
       "      <td> 0</td>\n",
       "      <td> 1</td>\n",
       "      <td> 0</td>\n",
       "      <td> 0</td>\n",
       "      <td> 0</td>\n",
       "      <td> 0</td>\n",
       "      <td> 0</td>\n",
       "      <td> 1</td>\n",
       "      <td> 0</td>\n",
       "      <td> 0</td>\n",
       "      <td>...</td>\n",
       "      <td> 0.003329</td>\n",
       "      <td> 0.184204</td>\n",
       "      <td> 0.137946</td>\n",
       "      <td> 0.062242</td>\n",
       "      <td> 0.141970</td>\n",
       "      <td> 0.029201</td>\n",
       "      <td> 0.019374</td>\n",
       "      <td> 0.069265</td>\n",
       "      <td> 0.051429</td>\n",
       "      <td> 0.072300</td>\n",
       "    </tr>\n",
       "    <tr>\n",
       "      <th>3</th>\n",
       "      <td> 0</td>\n",
       "      <td> 1</td>\n",
       "      <td> 0</td>\n",
       "      <td> 0</td>\n",
       "      <td> 0</td>\n",
       "      <td> 0</td>\n",
       "      <td> 0</td>\n",
       "      <td> 1</td>\n",
       "      <td> 0</td>\n",
       "      <td> 0</td>\n",
       "      <td>...</td>\n",
       "      <td> 0.006572</td>\n",
       "      <td> 0.235881</td>\n",
       "      <td> 0.171257</td>\n",
       "      <td> 0.096779</td>\n",
       "      <td> 0.177964</td>\n",
       "      <td> 0.030844</td>\n",
       "      <td> 0.019614</td>\n",
       "      <td> 0.090160</td>\n",
       "      <td> 0.065216</td>\n",
       "      <td> 0.081954</td>\n",
       "    </tr>\n",
       "    <tr>\n",
       "      <th>4</th>\n",
       "      <td> 0</td>\n",
       "      <td> 1</td>\n",
       "      <td> 0</td>\n",
       "      <td> 0</td>\n",
       "      <td> 0</td>\n",
       "      <td> 0</td>\n",
       "      <td> 0</td>\n",
       "      <td> 1</td>\n",
       "      <td> 0</td>\n",
       "      <td> 0</td>\n",
       "      <td>...</td>\n",
       "      <td> 0.009929</td>\n",
       "      <td> 0.276918</td>\n",
       "      <td> 0.198862</td>\n",
       "      <td> 0.127817</td>\n",
       "      <td> 0.207104</td>\n",
       "      <td> 0.031483</td>\n",
       "      <td> 0.019878</td>\n",
       "      <td> 0.110610</td>\n",
       "      <td> 0.076988</td>\n",
       "      <td> 0.088154</td>\n",
       "    </tr>\n",
       "  </tbody>\n",
       "</table>\n",
       "<p>5 rows × 71 columns</p>\n",
       "</div>"
      ],
      "text/plain": [
       "   ethoCameraLevel  ethoCameraHolding  ethoCameraZoomingIn  \\\n",
       "0                0                  1                    0   \n",
       "1                0                  1                    0   \n",
       "2                0                  1                    0   \n",
       "3                0                  1                    0   \n",
       "4                0                  1                    0   \n",
       "\n",
       "   ethoCameraZoomingOut  ethoCameraTracking  ethoCameraPanning  \\\n",
       "0                     0                   0                  0   \n",
       "1                     0                   0                  0   \n",
       "2                     0                   0                  0   \n",
       "3                     0                   0                  0   \n",
       "4                     0                   0                  0   \n",
       "\n",
       "   ethoCameraSlewing  ethoCountNone  ethoLeast1  ethoLeast2    ...     \\\n",
       "0                  0              1           0           0    ...      \n",
       "1                  0              1           0           0    ...      \n",
       "2                  0              1           0           0    ...      \n",
       "3                  0              1           0           0    ...      \n",
       "4                  0              1           0           0    ...      \n",
       "\n",
       "         Z0        Z1        Z2        Z3        Z4        Z5        Z6  \\\n",
       "0  0.001029  0.039860  0.034572  0.037617  0.033740  0.015442  0.019248   \n",
       "1  0.000153  0.117708  0.096362  0.036111  0.099480  0.026560  0.019566   \n",
       "2  0.003329  0.184204  0.137946  0.062242  0.141970  0.029201  0.019374   \n",
       "3  0.006572  0.235881  0.171257  0.096779  0.177964  0.030844  0.019614   \n",
       "4  0.009929  0.276918  0.198862  0.127817  0.207104  0.031483  0.019878   \n",
       "\n",
       "         Z7        Z8        Z9  \n",
       "0  0.031667  0.025052  0.027933  \n",
       "1  0.049931  0.037210  0.059312  \n",
       "2  0.069265  0.051429  0.072300  \n",
       "3  0.090160  0.065216  0.081954  \n",
       "4  0.110610  0.076988  0.088154  \n",
       "\n",
       "[5 rows x 71 columns]"
      ]
     },
     "execution_count": 18,
     "metadata": {},
     "output_type": "execute_result"
    }
   ],
   "source": [
    "edf.head()"
   ]
  },
  {
   "cell_type": "markdown",
   "metadata": {},
   "source": [
    "# View results:"
   ]
  },
  {
   "cell_type": "code",
   "execution_count": 19,
   "metadata": {
    "collapsed": false
   },
   "outputs": [
    {
     "data": {
      "image/png": "[encoded data removed]",
      "text/plain": [
       "<matplotlib.figure.Figure at 0x10e720e90>"
      ]
     },
     "metadata": {},
     "output_type": "display_data"
    },
    {
     "data": {
      "image/png": "[encoded data removed]",
      "text/plain": [
       "<matplotlib.figure.Figure at 0x10e72cf50>"
      ]
     },
     "metadata": {},
     "output_type": "display_data"
    }
   ],
   "source": [
    "# plot a section in time; each row is a regressor; bottom rows are inferred categories\n",
    "trng = slice(1500, 2000)\n",
    "matshow(edf.iloc[trng, :-K].values.T, vmin=0, vmax=1);\n",
    "\n",
    "# zoom in on inferred\n",
    "matshow(edf.iloc[trng, -K:].values.T, vmin=0, vmax=1);"
   ]
  },
  {
   "cell_type": "markdown",
   "metadata": {},
   "source": [
    "## Overlap analysis:"
   ]
  },
  {
   "cell_type": "markdown",
   "metadata": {},
   "source": [
    "Define the overlap as the maximum of the match or mismatch percentage. That is, if $x$ and $y$ are binary vectors, \n",
    "$$\n",
    "\\mathrm{overlap} = \\max \\{ \\mathbb{E}[xy + (1-x)(1-y)], \\mathbb{E}[(1-x)y + x(1-y)]\\}\n",
    "$$"
   ]
  },
  {
   "cell_type": "code",
   "execution_count": 20,
   "metadata": {
    "collapsed": false
   },
   "outputs": [],
   "source": [
    "match = (edf.T.dot(edf) + (1 - edf.T).dot(1 - edf)) / T\n",
    "mismatch = (edf.T.dot(1 - edf) + (1 - edf.T).dot(edf)) / T\n",
    "overlap = np.maximum(match, mismatch)"
   ]
  },
  {
   "cell_type": "code",
   "execution_count": 21,
   "metadata": {
    "collapsed": false
   },
   "outputs": [
    {
     "data": {
      "image/png": "[encoded data removed]",
      "text/plain": [
       "<matplotlib.figure.Figure at 0x10e7202d0>"
      ]
     },
     "metadata": {},
     "output_type": "display_data"
    }
   ],
   "source": [
    "row_labels = edf.columns[:]\n",
    "matshow(overlap.values[-K:,:]) #, vmin=0.5, vmax=1)\n",
    "plt.ylabel('inferred factor')\n",
    "plt.xlabel('labeled factor')\n",
    "plt.colorbar();\n",
    "\n",
    "# add column names\n",
    "ax = plt.gca()\n",
    "ax.xaxis.set_label_position('top')\n",
    "plt.tick_params(axis='x', which='both', top='off', bottom='off', \n",
    "                labelbottom='on', labeltop='off', pad=5)\n",
    "plt.xticks(xrange(len(row_labels)), row_labels, rotation='vertical', horizontalalignment='center');"
   ]
  },
  {
   "cell_type": "code",
   "execution_count": 22,
   "metadata": {
    "collapsed": false
   },
   "outputs": [
    {
     "data": {
      "text/html": [
       "<div style=\"max-height:1000px;max-width:1500px;overflow:auto;\">\n",
       "<table border=\"1\" class=\"dataframe\">\n",
       "  <thead>\n",
       "    <tr style=\"text-align: right;\">\n",
       "      <th></th>\n",
       "      <th>ethoCameraLevel</th>\n",
       "      <th>ethoCameraHolding</th>\n",
       "      <th>ethoCameraZoomingIn</th>\n",
       "      <th>ethoCameraZoomingOut</th>\n",
       "      <th>ethoCameraTracking</th>\n",
       "      <th>ethoCameraPanning</th>\n",
       "      <th>ethoCameraSlewing</th>\n",
       "      <th>ethoCountNone</th>\n",
       "      <th>ethoLeast1</th>\n",
       "      <th>ethoLeast2</th>\n",
       "      <th>...</th>\n",
       "      <th>Z0</th>\n",
       "      <th>Z1</th>\n",
       "      <th>Z2</th>\n",
       "      <th>Z3</th>\n",
       "      <th>Z4</th>\n",
       "      <th>Z5</th>\n",
       "      <th>Z6</th>\n",
       "      <th>Z7</th>\n",
       "      <th>Z8</th>\n",
       "      <th>Z9</th>\n",
       "    </tr>\n",
       "  </thead>\n",
       "  <tbody>\n",
       "    <tr>\n",
       "      <th>Z0</th>\n",
       "      <td> 0.542003</td>\n",
       "      <td> 0.549102</td>\n",
       "      <td> 0.583069</td>\n",
       "      <td> 0.591806</td>\n",
       "      <td> 0.580268</td>\n",
       "      <td> 0.591680</td>\n",
       "      <td> 0.583876</td>\n",
       "      <td> 0.581028</td>\n",
       "      <td> 0.581028</td>\n",
       "      <td> 0.520577</td>\n",
       "      <td>...</td>\n",
       "      <td> 0.755225</td>\n",
       "      <td> 0.501746</td>\n",
       "      <td> 0.524937</td>\n",
       "      <td> 0.552942</td>\n",
       "      <td> 0.517531</td>\n",
       "      <td> 0.526160</td>\n",
       "      <td> 0.535098</td>\n",
       "      <td> 0.520215</td>\n",
       "      <td> 0.501511</td>\n",
       "      <td> 0.520782</td>\n",
       "    </tr>\n",
       "    <tr>\n",
       "      <th>Z1</th>\n",
       "      <td> 0.584897</td>\n",
       "      <td> 0.521434</td>\n",
       "      <td> 0.566841</td>\n",
       "      <td> 0.573594</td>\n",
       "      <td> 0.555191</td>\n",
       "      <td> 0.573708</td>\n",
       "      <td> 0.572212</td>\n",
       "      <td> 0.568687</td>\n",
       "      <td> 0.568687</td>\n",
       "      <td> 0.502754</td>\n",
       "      <td>...</td>\n",
       "      <td> 0.501746</td>\n",
       "      <td> 0.815459</td>\n",
       "      <td> 0.514026</td>\n",
       "      <td> 0.539654</td>\n",
       "      <td> 0.519076</td>\n",
       "      <td> 0.510645</td>\n",
       "      <td> 0.537943</td>\n",
       "      <td> 0.518745</td>\n",
       "      <td> 0.502985</td>\n",
       "      <td> 0.523230</td>\n",
       "    </tr>\n",
       "    <tr>\n",
       "      <th>Z2</th>\n",
       "      <td> 0.502861</td>\n",
       "      <td> 0.504340</td>\n",
       "      <td> 0.504188</td>\n",
       "      <td> 0.506027</td>\n",
       "      <td> 0.504806</td>\n",
       "      <td> 0.504678</td>\n",
       "      <td> 0.501016</td>\n",
       "      <td> 0.500128</td>\n",
       "      <td> 0.500128</td>\n",
       "      <td> 0.523049</td>\n",
       "      <td>...</td>\n",
       "      <td> 0.524937</td>\n",
       "      <td> 0.514026</td>\n",
       "      <td> 0.802104</td>\n",
       "      <td> 0.506078</td>\n",
       "      <td> 0.501582</td>\n",
       "      <td> 0.511509</td>\n",
       "      <td> 0.506114</td>\n",
       "      <td> 0.508485</td>\n",
       "      <td> 0.502390</td>\n",
       "      <td> 0.513013</td>\n",
       "    </tr>\n",
       "    <tr>\n",
       "      <th>Z3</th>\n",
       "      <td> 0.682460</td>\n",
       "      <td> 0.613271</td>\n",
       "      <td> 0.727267</td>\n",
       "      <td> 0.746449</td>\n",
       "      <td> 0.707651</td>\n",
       "      <td> 0.741762</td>\n",
       "      <td> 0.727918</td>\n",
       "      <td> 0.718714</td>\n",
       "      <td> 0.718714</td>\n",
       "      <td> 0.570876</td>\n",
       "      <td>...</td>\n",
       "      <td> 0.552942</td>\n",
       "      <td> 0.539654</td>\n",
       "      <td> 0.506078</td>\n",
       "      <td> 0.763844</td>\n",
       "      <td> 0.541116</td>\n",
       "      <td> 0.572481</td>\n",
       "      <td> 0.618657</td>\n",
       "      <td> 0.533306</td>\n",
       "      <td> 0.502270</td>\n",
       "      <td> 0.570284</td>\n",
       "    </tr>\n",
       "    <tr>\n",
       "      <th>Z4</th>\n",
       "      <td> 0.558909</td>\n",
       "      <td> 0.527898</td>\n",
       "      <td> 0.561364</td>\n",
       "      <td> 0.567459</td>\n",
       "      <td> 0.555587</td>\n",
       "      <td> 0.566612</td>\n",
       "      <td> 0.561689</td>\n",
       "      <td> 0.558242</td>\n",
       "      <td> 0.558242</td>\n",
       "      <td> 0.521456</td>\n",
       "      <td>...</td>\n",
       "      <td> 0.517531</td>\n",
       "      <td> 0.519076</td>\n",
       "      <td> 0.501582</td>\n",
       "      <td> 0.541116</td>\n",
       "      <td> 0.766118</td>\n",
       "      <td> 0.528192</td>\n",
       "      <td> 0.545573</td>\n",
       "      <td> 0.500128</td>\n",
       "      <td> 0.510753</td>\n",
       "      <td> 0.523667</td>\n",
       "    </tr>\n",
       "    <tr>\n",
       "      <th>Z5</th>\n",
       "      <td> 0.584528</td>\n",
       "      <td> 0.558060</td>\n",
       "      <td> 0.616110</td>\n",
       "      <td> 0.626381</td>\n",
       "      <td> 0.603664</td>\n",
       "      <td> 0.624322</td>\n",
       "      <td> 0.621185</td>\n",
       "      <td> 0.616650</td>\n",
       "      <td> 0.616650</td>\n",
       "      <td> 0.536831</td>\n",
       "      <td>...</td>\n",
       "      <td> 0.526160</td>\n",
       "      <td> 0.510645</td>\n",
       "      <td> 0.511509</td>\n",
       "      <td> 0.572481</td>\n",
       "      <td> 0.528192</td>\n",
       "      <td> 0.807710</td>\n",
       "      <td> 0.556096</td>\n",
       "      <td> 0.507600</td>\n",
       "      <td> 0.500710</td>\n",
       "      <td> 0.534635</td>\n",
       "    </tr>\n",
       "    <tr>\n",
       "      <th>Z6</th>\n",
       "      <td> 0.623991</td>\n",
       "      <td> 0.602872</td>\n",
       "      <td> 0.690280</td>\n",
       "      <td> 0.706119</td>\n",
       "      <td> 0.677741</td>\n",
       "      <td> 0.702919</td>\n",
       "      <td> 0.692163</td>\n",
       "      <td> 0.685704</td>\n",
       "      <td> 0.685704</td>\n",
       "      <td> 0.558526</td>\n",
       "      <td>...</td>\n",
       "      <td> 0.535098</td>\n",
       "      <td> 0.537943</td>\n",
       "      <td> 0.506114</td>\n",
       "      <td> 0.618657</td>\n",
       "      <td> 0.545573</td>\n",
       "      <td> 0.556096</td>\n",
       "      <td> 0.869263</td>\n",
       "      <td> 0.521005</td>\n",
       "      <td> 0.503596</td>\n",
       "      <td> 0.565555</td>\n",
       "    </tr>\n",
       "    <tr>\n",
       "      <th>Z7</th>\n",
       "      <td> 0.530635</td>\n",
       "      <td> 0.530919</td>\n",
       "      <td> 0.554491</td>\n",
       "      <td> 0.557773</td>\n",
       "      <td> 0.552001</td>\n",
       "      <td> 0.558785</td>\n",
       "      <td> 0.553763</td>\n",
       "      <td> 0.553733</td>\n",
       "      <td> 0.553733</td>\n",
       "      <td> 0.509503</td>\n",
       "      <td>...</td>\n",
       "      <td> 0.520215</td>\n",
       "      <td> 0.518745</td>\n",
       "      <td> 0.508485</td>\n",
       "      <td> 0.533306</td>\n",
       "      <td> 0.500128</td>\n",
       "      <td> 0.507600</td>\n",
       "      <td> 0.521005</td>\n",
       "      <td> 0.800918</td>\n",
       "      <td> 0.514132</td>\n",
       "      <td> 0.514215</td>\n",
       "    </tr>\n",
       "    <tr>\n",
       "      <th>Z8</th>\n",
       "      <td> 0.504775</td>\n",
       "      <td> 0.502284</td>\n",
       "      <td> 0.506855</td>\n",
       "      <td> 0.505403</td>\n",
       "      <td> 0.506965</td>\n",
       "      <td> 0.508318</td>\n",
       "      <td> 0.507864</td>\n",
       "      <td> 0.508520</td>\n",
       "      <td> 0.508520</td>\n",
       "      <td> 0.501159</td>\n",
       "      <td>...</td>\n",
       "      <td> 0.501511</td>\n",
       "      <td> 0.502985</td>\n",
       "      <td> 0.502390</td>\n",
       "      <td> 0.502270</td>\n",
       "      <td> 0.510753</td>\n",
       "      <td> 0.500710</td>\n",
       "      <td> 0.503596</td>\n",
       "      <td> 0.514132</td>\n",
       "      <td> 0.784817</td>\n",
       "      <td> 0.503296</td>\n",
       "    </tr>\n",
       "    <tr>\n",
       "      <th>Z9</th>\n",
       "      <td> 0.614573</td>\n",
       "      <td> 0.555457</td>\n",
       "      <td> 0.617599</td>\n",
       "      <td> 0.626672</td>\n",
       "      <td> 0.609310</td>\n",
       "      <td> 0.622960</td>\n",
       "      <td> 0.612339</td>\n",
       "      <td> 0.607541</td>\n",
       "      <td> 0.607541</td>\n",
       "      <td> 0.541157</td>\n",
       "      <td>...</td>\n",
       "      <td> 0.520782</td>\n",
       "      <td> 0.523230</td>\n",
       "      <td> 0.513013</td>\n",
       "      <td> 0.570284</td>\n",
       "      <td> 0.523667</td>\n",
       "      <td> 0.534635</td>\n",
       "      <td> 0.565555</td>\n",
       "      <td> 0.514215</td>\n",
       "      <td> 0.503296</td>\n",
       "      <td> 0.780221</td>\n",
       "    </tr>\n",
       "  </tbody>\n",
       "</table>\n",
       "<p>10 rows × 71 columns</p>\n",
       "</div>"
      ],
      "text/plain": [
       "    ethoCameraLevel  ethoCameraHolding  ethoCameraZoomingIn  \\\n",
       "Z0         0.542003           0.549102             0.583069   \n",
       "Z1         0.584897           0.521434             0.566841   \n",
       "Z2         0.502861           0.504340             0.504188   \n",
       "Z3         0.682460           0.613271             0.727267   \n",
       "Z4         0.558909           0.527898             0.561364   \n",
       "Z5         0.584528           0.558060             0.616110   \n",
       "Z6         0.623991           0.602872             0.690280   \n",
       "Z7         0.530635           0.530919             0.554491   \n",
       "Z8         0.504775           0.502284             0.506855   \n",
       "Z9         0.614573           0.555457             0.617599   \n",
       "\n",
       "    ethoCameraZoomingOut  ethoCameraTracking  ethoCameraPanning  \\\n",
       "Z0              0.591806            0.580268           0.591680   \n",
       "Z1              0.573594            0.555191           0.573708   \n",
       "Z2              0.506027            0.504806           0.504678   \n",
       "Z3              0.746449            0.707651           0.741762   \n",
       "Z4              0.567459            0.555587           0.566612   \n",
       "Z5              0.626381            0.603664           0.624322   \n",
       "Z6              0.706119            0.677741           0.702919   \n",
       "Z7              0.557773            0.552001           0.558785   \n",
       "Z8              0.505403            0.506965           0.508318   \n",
       "Z9              0.626672            0.609310           0.622960   \n",
       "\n",
       "    ethoCameraSlewing  ethoCountNone  ethoLeast1  ethoLeast2    ...     \\\n",
       "Z0           0.583876       0.581028    0.581028    0.520577    ...      \n",
       "Z1           0.572212       0.568687    0.568687    0.502754    ...      \n",
       "Z2           0.501016       0.500128    0.500128    0.523049    ...      \n",
       "Z3           0.727918       0.718714    0.718714    0.570876    ...      \n",
       "Z4           0.561689       0.558242    0.558242    0.521456    ...      \n",
       "Z5           0.621185       0.616650    0.616650    0.536831    ...      \n",
       "Z6           0.692163       0.685704    0.685704    0.558526    ...      \n",
       "Z7           0.553763       0.553733    0.553733    0.509503    ...      \n",
       "Z8           0.507864       0.508520    0.508520    0.501159    ...      \n",
       "Z9           0.612339       0.607541    0.607541    0.541157    ...      \n",
       "\n",
       "          Z0        Z1        Z2        Z3        Z4        Z5        Z6  \\\n",
       "Z0  0.755225  0.501746  0.524937  0.552942  0.517531  0.526160  0.535098   \n",
       "Z1  0.501746  0.815459  0.514026  0.539654  0.519076  0.510645  0.537943   \n",
       "Z2  0.524937  0.514026  0.802104  0.506078  0.501582  0.511509  0.506114   \n",
       "Z3  0.552942  0.539654  0.506078  0.763844  0.541116  0.572481  0.618657   \n",
       "Z4  0.517531  0.519076  0.501582  0.541116  0.766118  0.528192  0.545573   \n",
       "Z5  0.526160  0.510645  0.511509  0.572481  0.528192  0.807710  0.556096   \n",
       "Z6  0.535098  0.537943  0.506114  0.618657  0.545573  0.556096  0.869263   \n",
       "Z7  0.520215  0.518745  0.508485  0.533306  0.500128  0.507600  0.521005   \n",
       "Z8  0.501511  0.502985  0.502390  0.502270  0.510753  0.500710  0.503596   \n",
       "Z9  0.520782  0.523230  0.513013  0.570284  0.523667  0.534635  0.565555   \n",
       "\n",
       "          Z7        Z8        Z9  \n",
       "Z0  0.520215  0.501511  0.520782  \n",
       "Z1  0.518745  0.502985  0.523230  \n",
       "Z2  0.508485  0.502390  0.513013  \n",
       "Z3  0.533306  0.502270  0.570284  \n",
       "Z4  0.500128  0.510753  0.523667  \n",
       "Z5  0.507600  0.500710  0.534635  \n",
       "Z6  0.521005  0.503596  0.565555  \n",
       "Z7  0.800918  0.514132  0.514215  \n",
       "Z8  0.514132  0.784817  0.503296  \n",
       "Z9  0.514215  0.503296  0.780221  \n",
       "\n",
       "[10 rows x 71 columns]"
      ]
     },
     "execution_count": 22,
     "metadata": {},
     "output_type": "execute_result"
    }
   ],
   "source": [
    "overlap.iloc[-K:, :]"
   ]
  },
  {
   "cell_type": "code",
   "execution_count": null,
   "metadata": {
    "collapsed": true
   },
   "outputs": [],
   "source": []
  }
 ],
 "metadata": {
  "kernelspec": {
   "display_name": "Python 2",
   "language": "python",
   "name": "python2"
  },
  "language_info": {
   "codemirror_mode": {
    "name": "ipython",
    "version": 2
   },
   "file_extension": ".py",
   "mimetype": "text/x-python",
   "name": "python",
   "nbconvert_exporter": "python",
   "pygments_lexer": "ipython2",
   "version": "2.7.9"
  }
 },
 "nbformat": 4,
 "nbformat_minor": 0
}
