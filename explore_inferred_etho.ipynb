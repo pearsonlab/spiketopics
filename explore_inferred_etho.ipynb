{
 "cells": [
  {
   "cell_type": "code",
   "execution_count": 1,
   "metadata": {
    "collapsed": false
   },
   "outputs": [],
   "source": [
    "from __future__ import division\n",
    "import numpy as np\n",
    "import pandas as pd\n",
    "import matplotlib.pyplot as plt\n",
    "import seaborn as sns\n",
    "import matplotlib.cm as cm\n",
    "import cPickle as pickle\n",
    "from helpers import *\n",
    "\n",
    "%matplotlib inline\n",
    "sns.set_style('darkgrid')"
   ]
  },
  {
   "cell_type": "markdown",
   "metadata": {},
   "source": [
    "# Load in data"
   ]
  },
  {
   "cell_type": "code",
   "execution_count": 2,
   "metadata": {
    "collapsed": true
   },
   "outputs": [],
   "source": [
    "infile = 'data/fitted_model_object.pkl'\n",
    "gpm = pickle.load(open(infile, 'rb'))\n",
    "dt = 1 / 30."
   ]
  },
  {
   "cell_type": "code",
   "execution_count": 3,
   "metadata": {
    "collapsed": false
   },
   "outputs": [
    {
     "data": {
      "text/html": [
       "<div style=\"max-height:1000px;max-width:1500px;overflow:auto;\">\n",
       "<table border=\"1\" class=\"dataframe\">\n",
       "  <thead>\n",
       "    <tr style=\"text-align: right;\">\n",
       "      <th></th>\n",
       "      <th>unit</th>\n",
       "      <th>time</th>\n",
       "      <th>count</th>\n",
       "      <th>lam0</th>\n",
       "      <th>lam1</th>\n",
       "    </tr>\n",
       "  </thead>\n",
       "  <tbody>\n",
       "    <tr>\n",
       "      <th>0</th>\n",
       "      <td> 10</td>\n",
       "      <td> 0</td>\n",
       "      <td> 0</td>\n",
       "      <td>-0.076505</td>\n",
       "      <td>-0.101195</td>\n",
       "    </tr>\n",
       "    <tr>\n",
       "      <th>1</th>\n",
       "      <td> 11</td>\n",
       "      <td> 0</td>\n",
       "      <td> 0</td>\n",
       "      <td>-1.222069</td>\n",
       "      <td>-1.161396</td>\n",
       "    </tr>\n",
       "    <tr>\n",
       "      <th>2</th>\n",
       "      <td> 10</td>\n",
       "      <td> 1</td>\n",
       "      <td> 0</td>\n",
       "      <td>-0.069836</td>\n",
       "      <td>-0.092374</td>\n",
       "    </tr>\n",
       "    <tr>\n",
       "      <th>3</th>\n",
       "      <td> 11</td>\n",
       "      <td> 1</td>\n",
       "      <td> 4</td>\n",
       "      <td>-2.067967</td>\n",
       "      <td>-2.169339</td>\n",
       "    </tr>\n",
       "    <tr>\n",
       "      <th>4</th>\n",
       "      <td> 10</td>\n",
       "      <td> 2</td>\n",
       "      <td> 0</td>\n",
       "      <td>-0.063145</td>\n",
       "      <td>-0.083524</td>\n",
       "    </tr>\n",
       "  </tbody>\n",
       "</table>\n",
       "</div>"
      ],
      "text/plain": [
       "   unit  time  count      lam0      lam1\n",
       "0    10     0      0 -0.076505 -0.101195\n",
       "1    11     0      0 -1.222069 -1.161396\n",
       "2    10     1      0 -0.069836 -0.092374\n",
       "3    11     1      4 -2.067967 -2.169339\n",
       "4    10     2      0 -0.063145 -0.083524"
      ]
     },
     "execution_count": 3,
     "metadata": {},
     "output_type": "execute_result"
    }
   ],
   "source": [
    "gpm.Nframe.head()"
   ]
  },
  {
   "cell_type": "code",
   "execution_count": 4,
   "metadata": {
    "collapsed": false
   },
   "outputs": [
    {
     "data": {
      "text/html": [
       "<div style=\"max-height:1000px;max-width:1500px;overflow:auto;\">\n",
       "<table border=\"1\" class=\"dataframe\">\n",
       "  <thead>\n",
       "    <tr style=\"text-align: right;\">\n",
       "      <th></th>\n",
       "      <th>X0</th>\n",
       "      <th>X1</th>\n",
       "      <th>X2</th>\n",
       "    </tr>\n",
       "  </thead>\n",
       "  <tbody>\n",
       "    <tr>\n",
       "      <th>0</th>\n",
       "      <td> 1.749200</td>\n",
       "      <td> 0.083333</td>\n",
       "      <td> 0.000000</td>\n",
       "    </tr>\n",
       "    <tr>\n",
       "      <th>1</th>\n",
       "      <td> 0.716926</td>\n",
       "      <td> 0.092861</td>\n",
       "      <td> 0.000000</td>\n",
       "    </tr>\n",
       "    <tr>\n",
       "      <th>2</th>\n",
       "      <td> 1.386294</td>\n",
       "      <td> 1.395833</td>\n",
       "      <td> 3.461310</td>\n",
       "    </tr>\n",
       "    <tr>\n",
       "      <th>3</th>\n",
       "      <td> 0.750306</td>\n",
       "      <td> 0.349570</td>\n",
       "      <td> 0.720427</td>\n",
       "    </tr>\n",
       "    <tr>\n",
       "      <th>4</th>\n",
       "      <td> 1.609438</td>\n",
       "      <td> 2.033333</td>\n",
       "      <td> 2.786310</td>\n",
       "    </tr>\n",
       "  </tbody>\n",
       "</table>\n",
       "</div>"
      ],
      "text/plain": [
       "         X0        X1        X2\n",
       "0  1.749200  0.083333  0.000000\n",
       "1  0.716926  0.092861  0.000000\n",
       "2  1.386294  1.395833  3.461310\n",
       "3  0.750306  0.349570  0.720427\n",
       "4  1.609438  2.033333  2.786310"
      ]
     },
     "execution_count": 4,
     "metadata": {},
     "output_type": "execute_result"
    }
   ],
   "source": [
    "gpm.Xframe.head()"
   ]
  },
  {
   "cell_type": "markdown",
   "metadata": {},
   "source": [
    "# Plot inferred categories as matrix"
   ]
  },
  {
   "cell_type": "code",
   "execution_count": 47,
   "metadata": {
    "collapsed": false
   },
   "outputs": [
    {
     "name": "stdout",
     "output_type": "stream",
     "text": [
      "(100001, 5)\n"
     ]
    }
   ],
   "source": [
    "xi = gpm.nodes['HMM'].nodes['z'].z[1]\n",
    "T, K = xi.shape\n",
    "print xi.shape"
   ]
  },
  {
   "cell_type": "code",
   "execution_count": 6,
   "metadata": {
    "collapsed": false
   },
   "outputs": [
    {
     "data": {
      "image/png": "[encoded data removed]",
      "text/plain": [
       "<matplotlib.figure.Figure at 0x105db13d0>"
      ]
     },
     "metadata": {},
     "output_type": "display_data"
    }
   ],
   "source": [
    "matshow(xi[:5000].T, vmin=0, vmax=1)"
   ]
  },
  {
   "cell_type": "markdown",
   "metadata": {},
   "source": [
    "Make $\\xi$ dataframe:"
   ]
  },
  {
   "cell_type": "code",
   "execution_count": 30,
   "metadata": {
    "collapsed": false
   },
   "outputs": [],
   "source": [
    "xif = pd.DataFrame(xi)\n",
    "xif.columns = ['Z' + str(k) for k in range(K)]\n",
    "xif.index.name = 'time'\n",
    "xif = xif.reset_index()"
   ]
  },
  {
   "cell_type": "markdown",
   "metadata": {},
   "source": [
    "# Posteriors for effects"
   ]
  },
  {
   "cell_type": "markdown",
   "metadata": {},
   "source": [
    "## Baselines"
   ]
  },
  {
   "cell_type": "code",
   "execution_count": 7,
   "metadata": {
    "collapsed": false
   },
   "outputs": [
    {
     "data": {
      "image/png": "[encoded data removed]",
      "text/plain": [
       "<matplotlib.figure.Figure at 0x11a2ea5d0>"
      ]
     },
     "metadata": {},
     "output_type": "display_data"
    }
   ],
   "source": [
    "plt.figure(figsize=(14, 4))\n",
    "\n",
    "th = gpm.nodes['baseline_mean']\n",
    "cc = gpm.nodes['baseline_shape']\n",
    "th_pars = [th.post_shape, th.post_rate]\n",
    "cc_pars = [cc.post_shape, cc.post_rate]\n",
    "samples = gamma_from_hypers(th_pars, cc_pars, 1e5)\n",
    "\n",
    "plt.subplot(1, 3, 1)\n",
    "xx = np.linspace(0, 20, 500)\n",
    "plt.plot(xx, stats.invgamma.pdf(xx, a=th_pars[0], scale=th_pars[1]/dt))\n",
    "plt.title('Baseline mean parameter posterior');\n",
    "\n",
    "plt.subplot(1, 3, 2)\n",
    "xx = np.linspace(0, 2, 500)\n",
    "plt.plot(xx, stats.invgamma.pdf(xx, a=cc_pars[0], scale=cc_pars[1]))\n",
    "plt.title('Baseline variance parameter posterior');\n",
    "\n",
    "plt.subplot(1, 3, 3)\n",
    "sns.kdeplot(samples / dt, gridsize=1e4, clip=(0, 100))\n",
    "plt.title('baseline posterior distribution')\n",
    "plt.xlabel('Firing rate (Hz)')\n",
    "plt.xlim(0, 100);"
   ]
  },
  {
   "cell_type": "markdown",
   "metadata": {},
   "source": [
    "## Regressors"
   ]
  },
  {
   "cell_type": "code",
   "execution_count": 8,
   "metadata": {
    "collapsed": false
   },
   "outputs": [
    {
     "data": {
      "image/png": "[encoded data removed]",
      "text/plain": [
       "<matplotlib.figure.Figure at 0x11a23a750>"
      ]
     },
     "metadata": {},
     "output_type": "display_data"
    }
   ],
   "source": [
    "plt.figure(figsize=(8, 6))\n",
    "inferred_means = gpm.nodes['fr_regressors'].expected_x()\n",
    "R = inferred_means.shape[1]\n",
    "for r in xrange(R):\n",
    "    plt.hist(inferred_means[:, r], bins=50, normed=True, alpha=0.25, label='X' + str(r))\n",
    "plt.title('Regression effects');\n",
    "plt.legend()\n",
    "plt.ylim(0, 5);\n",
    "plt.xlim(0, 5);"
   ]
  },
  {
   "cell_type": "markdown",
   "metadata": {},
   "source": [
    "## Latent Categories"
   ]
  },
  {
   "cell_type": "code",
   "execution_count": 9,
   "metadata": {
    "collapsed": false
   },
   "outputs": [
    {
     "data": {
      "image/png": "[encoded data removed]",
      "text/plain": [
       "<matplotlib.figure.Figure at 0x11a225c90>"
      ]
     },
     "metadata": {},
     "output_type": "display_data"
    }
   ],
   "source": [
    "plt.figure(figsize=(16, 4))\n",
    "\n",
    "th = gpm.nodes['fr_latents_mean']\n",
    "cc = gpm.nodes['fr_latents_shape']\n",
    "\n",
    "th_pars = np.c_[th.post_shape, th.post_rate].T\n",
    "cc_pars = np.c_[cc.post_shape, cc.post_rate].T\n",
    "\n",
    "plt.subplot(1, 3, 1)\n",
    "xx = np.linspace(0, 2, 500)\n",
    "for kk in xrange(K):\n",
    "    plt.plot(xx, stats.invgamma.pdf(xx, a=th_pars[0, kk], scale=th_pars[1, kk]), label='Z' + str(kk))\n",
    "plt.legend()\n",
    "plt.title('effect mean posterior');\n",
    "\n",
    "plt.subplot(1, 3, 2)\n",
    "xx = np.linspace(0, 5, 500)\n",
    "for kk in xrange(K):\n",
    "    plt.plot(xx, stats.invgamma.pdf(xx, a=cc_pars[0, kk], scale=cc_pars[1, kk]), label='Z' + str(kk))\n",
    "plt.legend()\n",
    "plt.title('effect variance parameter posterior');\n",
    "\n",
    "plt.subplot(1, 3, 3)\n",
    "for kk in xrange(K):\n",
    "    samples = gamma_from_hypers(th_pars[:, kk], cc_pars[:, kk], 1e5)\n",
    "    sns.kdeplot(samples, gridsize=1e4, clip=(0, 10), label='Z' + str(kk))\n",
    "plt.legend()\n",
    "plt.title(r'$\\lambda$ effect posterior distribution')\n",
    "plt.xlabel('Firing rate (Hz)')\n",
    "plt.xlim(0, 2);"
   ]
  },
  {
   "cell_type": "code",
   "execution_count": 13,
   "metadata": {
    "collapsed": false
   },
   "outputs": [
    {
     "data": {
      "image/png": "[encoded data removed]",
      "text/plain": [
       "<matplotlib.figure.Figure at 0x118742d10>"
      ]
     },
     "metadata": {},
     "output_type": "display_data"
    }
   ],
   "source": [
    "plt.figure(figsize=(8, 6))\n",
    "\n",
    "inferred_effects = gpm.nodes['fr_latents'].expected_x()\n",
    "for kk in xrange(K):\n",
    "    plt.hist(inferred_effects[..., kk], bins=50, normed=True, alpha=0.25, label='Z' + str(kk));\n",
    "plt.legend();\n",
    "plt.title('Firing rate effects');\n",
    "plt.ylim(0, 5);"
   ]
  },
  {
   "cell_type": "markdown",
   "metadata": {},
   "source": [
    "## Overdispersion"
   ]
  },
  {
   "cell_type": "code",
   "execution_count": 11,
   "metadata": {
    "collapsed": false
   },
   "outputs": [
    {
     "data": {
      "image/png": "[encoded data removed]",
      "text/plain": [
       "<matplotlib.figure.Figure at 0x118561990>"
      ]
     },
     "metadata": {},
     "output_type": "display_data"
    }
   ],
   "source": [
    "plt.figure(figsize=(8, 6))\n",
    "\n",
    "inferred_means = gpm.nodes['overdispersion'].expected_x().ravel()\n",
    "plt.hist(inferred_means, bins=500, normed=True, alpha=0.25);\n",
    "plt.title('Overdispersion effects');\n",
    "plt.ylim(0, 2);"
   ]
  },
  {
   "cell_type": "markdown",
   "metadata": {},
   "source": [
    "# Load and prepare ethogram:"
   ]
  },
  {
   "cell_type": "markdown",
   "metadata": {},
   "source": [
    "Our goal here is to load the ethogram, join it to the inferred ethogram, and perform some comparisons to see if any of our discovered categories match hand-labeled categories from the ethogram."
   ]
  },
  {
   "cell_type": "code",
   "execution_count": 14,
   "metadata": {
    "collapsed": false
   },
   "outputs": [
    {
     "name": "stderr",
     "output_type": "stream",
     "text": [
      "/Users/jmxp/anaconda/lib/python2.7/site-packages/pandas/io/parsers.py:1159: DtypeWarning: Columns (11) have mixed types. Specify dtype option on import or set low_memory=False.\n",
      "  data = self._reader.read(nrows)\n"
     ]
    }
   ],
   "source": [
    "ethofile = 'sql/etho.csv'\n",
    "etho = pd.read_csv(ethofile)"
   ]
  },
  {
   "cell_type": "code",
   "execution_count": 16,
   "metadata": {
    "collapsed": false
   },
   "outputs": [],
   "source": [
    "# rename some columns\n",
    "etho = etho.rename(columns={'movieId': 'movie', 'frameNumber': 'frame'})\n",
    "etho = frames_to_times(etho)"
   ]
  },
  {
   "cell_type": "code",
   "execution_count": 17,
   "metadata": {
    "collapsed": false
   },
   "outputs": [
    {
     "data": {
      "text/html": [
       "<div style=\"max-height:1000px;max-width:1500px;overflow:auto;\">\n",
       "<table border=\"1\" class=\"dataframe\">\n",
       "  <thead>\n",
       "    <tr style=\"text-align: right;\">\n",
       "      <th></th>\n",
       "      <th>frameTime</th>\n",
       "      <th>ethoCameraLabel</th>\n",
       "      <th>ethoCameraLevel</th>\n",
       "      <th>ethoCameraHolding</th>\n",
       "      <th>ethoCameraZoomingIn</th>\n",
       "      <th>ethoCameraZoomingOut</th>\n",
       "      <th>ethoCameraTracking</th>\n",
       "      <th>ethoCameraPanning</th>\n",
       "      <th>ethoCameraSlewing</th>\n",
       "      <th>ethoRoughCountLabel</th>\n",
       "      <th>...</th>\n",
       "      <th>ethoChase</th>\n",
       "      <th>ethoFlee</th>\n",
       "      <th>ethoThreaten</th>\n",
       "      <th>ethoMountedThreaten</th>\n",
       "      <th>ethoSubmit</th>\n",
       "      <th>ethoDisplace</th>\n",
       "      <th>ethoLeanAway</th>\n",
       "      <th>ethoAvoid</th>\n",
       "      <th>ethoBranchDisplay</th>\n",
       "      <th>time</th>\n",
       "    </tr>\n",
       "  </thead>\n",
       "  <tbody>\n",
       "    <tr>\n",
       "      <th>0</th>\n",
       "      <td> 0.0000</td>\n",
       "      <td> holding</td>\n",
       "      <td> 0</td>\n",
       "      <td> 1</td>\n",
       "      <td> 0</td>\n",
       "      <td> 0</td>\n",
       "      <td> 0</td>\n",
       "      <td> 0</td>\n",
       "      <td> 0</td>\n",
       "      <td> 0</td>\n",
       "      <td>...</td>\n",
       "      <td> 0</td>\n",
       "      <td> 0</td>\n",
       "      <td> 0</td>\n",
       "      <td> 0</td>\n",
       "      <td> 0</td>\n",
       "      <td> 0</td>\n",
       "      <td> 0</td>\n",
       "      <td> 0</td>\n",
       "      <td> 0</td>\n",
       "      <td> 0</td>\n",
       "    </tr>\n",
       "    <tr>\n",
       "      <th>1</th>\n",
       "      <td> 0.0333</td>\n",
       "      <td> holding</td>\n",
       "      <td> 0</td>\n",
       "      <td> 1</td>\n",
       "      <td> 0</td>\n",
       "      <td> 0</td>\n",
       "      <td> 0</td>\n",
       "      <td> 0</td>\n",
       "      <td> 0</td>\n",
       "      <td> 0</td>\n",
       "      <td>...</td>\n",
       "      <td> 0</td>\n",
       "      <td> 0</td>\n",
       "      <td> 0</td>\n",
       "      <td> 0</td>\n",
       "      <td> 0</td>\n",
       "      <td> 0</td>\n",
       "      <td> 0</td>\n",
       "      <td> 0</td>\n",
       "      <td> 0</td>\n",
       "      <td> 1</td>\n",
       "    </tr>\n",
       "    <tr>\n",
       "      <th>2</th>\n",
       "      <td> 0.0667</td>\n",
       "      <td> holding</td>\n",
       "      <td> 0</td>\n",
       "      <td> 1</td>\n",
       "      <td> 0</td>\n",
       "      <td> 0</td>\n",
       "      <td> 0</td>\n",
       "      <td> 0</td>\n",
       "      <td> 0</td>\n",
       "      <td> 0</td>\n",
       "      <td>...</td>\n",
       "      <td> 0</td>\n",
       "      <td> 0</td>\n",
       "      <td> 0</td>\n",
       "      <td> 0</td>\n",
       "      <td> 0</td>\n",
       "      <td> 0</td>\n",
       "      <td> 0</td>\n",
       "      <td> 0</td>\n",
       "      <td> 0</td>\n",
       "      <td> 2</td>\n",
       "    </tr>\n",
       "    <tr>\n",
       "      <th>3</th>\n",
       "      <td> 0.1000</td>\n",
       "      <td> holding</td>\n",
       "      <td> 0</td>\n",
       "      <td> 1</td>\n",
       "      <td> 0</td>\n",
       "      <td> 0</td>\n",
       "      <td> 0</td>\n",
       "      <td> 0</td>\n",
       "      <td> 0</td>\n",
       "      <td> 0</td>\n",
       "      <td>...</td>\n",
       "      <td> 0</td>\n",
       "      <td> 0</td>\n",
       "      <td> 0</td>\n",
       "      <td> 0</td>\n",
       "      <td> 0</td>\n",
       "      <td> 0</td>\n",
       "      <td> 0</td>\n",
       "      <td> 0</td>\n",
       "      <td> 0</td>\n",
       "      <td> 3</td>\n",
       "    </tr>\n",
       "    <tr>\n",
       "      <th>4</th>\n",
       "      <td> 0.1333</td>\n",
       "      <td> holding</td>\n",
       "      <td> 0</td>\n",
       "      <td> 1</td>\n",
       "      <td> 0</td>\n",
       "      <td> 0</td>\n",
       "      <td> 0</td>\n",
       "      <td> 0</td>\n",
       "      <td> 0</td>\n",
       "      <td> 0</td>\n",
       "      <td>...</td>\n",
       "      <td> 0</td>\n",
       "      <td> 0</td>\n",
       "      <td> 0</td>\n",
       "      <td> 0</td>\n",
       "      <td> 0</td>\n",
       "      <td> 0</td>\n",
       "      <td> 0</td>\n",
       "      <td> 0</td>\n",
       "      <td> 0</td>\n",
       "      <td> 4</td>\n",
       "    </tr>\n",
       "  </tbody>\n",
       "</table>\n",
       "<p>5 rows × 74 columns</p>\n",
       "</div>"
      ],
      "text/plain": [
       "   frameTime ethoCameraLabel  ethoCameraLevel  ethoCameraHolding  \\\n",
       "0     0.0000         holding                0                  1   \n",
       "1     0.0333         holding                0                  1   \n",
       "2     0.0667         holding                0                  1   \n",
       "3     0.1000         holding                0                  1   \n",
       "4     0.1333         holding                0                  1   \n",
       "\n",
       "   ethoCameraZoomingIn  ethoCameraZoomingOut  ethoCameraTracking  \\\n",
       "0                    0                     0                   0   \n",
       "1                    0                     0                   0   \n",
       "2                    0                     0                   0   \n",
       "3                    0                     0                   0   \n",
       "4                    0                     0                   0   \n",
       "\n",
       "   ethoCameraPanning  ethoCameraSlewing ethoRoughCountLabel  ...   ethoChase  \\\n",
       "0                  0                  0                   0  ...           0   \n",
       "1                  0                  0                   0  ...           0   \n",
       "2                  0                  0                   0  ...           0   \n",
       "3                  0                  0                   0  ...           0   \n",
       "4                  0                  0                   0  ...           0   \n",
       "\n",
       "   ethoFlee  ethoThreaten  ethoMountedThreaten  ethoSubmit  ethoDisplace  \\\n",
       "0         0             0                    0           0             0   \n",
       "1         0             0                    0           0             0   \n",
       "2         0             0                    0           0             0   \n",
       "3         0             0                    0           0             0   \n",
       "4         0             0                    0           0             0   \n",
       "\n",
       "   ethoLeanAway  ethoAvoid ethoBranchDisplay  time  \n",
       "0             0          0                 0     0  \n",
       "1             0          0                 0     1  \n",
       "2             0          0                 0     2  \n",
       "3             0          0                 0     3  \n",
       "4             0          0                 0     4  \n",
       "\n",
       "[5 rows x 74 columns]"
      ]
     },
     "execution_count": 17,
     "metadata": {},
     "output_type": "execute_result"
    }
   ],
   "source": [
    "etho.head()"
   ]
  },
  {
   "cell_type": "code",
   "execution_count": 32,
   "metadata": {
    "collapsed": false
   },
   "outputs": [
    {
     "data": {
      "text/plain": [
       "Index([u'frameTime', u'ethoCameraLabel', u'ethoCameraLevel', u'ethoCameraHolding', u'ethoCameraZoomingIn', u'ethoCameraZoomingOut', u'ethoCameraTracking', u'ethoCameraPanning', u'ethoCameraSlewing', u'ethoRoughCountLabel', u'ethoRoughCountLevel', u'ethoCountNone', u'ethoLeast1', u'ethoLeast2', u'ethoLeast3', u'ethoLeast6', u'ethoLeast11', u'ethoHumanVisible', u'ethoFaceLabel', u'ethoFaceViewLevel', u'ethoFaceNone', u'ethoFaceVisible', u'ethoFaceProminent', u'ethoFaceDirect', u'ethoFaceEyeContact', u'ethoGenitalsLabel', u'ethoGenitalsViewLevel', u'ethoGenitalsNone', u'ethoGenitalsVisible', u'ethoGenitalsProminent', u'ethoGenitalsMale', u'ethoGenitalsFemale', u'ethoGenitalsBoth', u'ethoForageLabel', u'ethoForageLevel', u'ethoForage', u'ethoMassForage', u'ethoDrink', u'ethoSearch', u'ethoGraspFood', u'ethoHoldFood', u'ethoHoldInMouth', u'ethoManipulateFood', u'ethoIngestFood', u'ethoIngestFromGroom', u'ethoChew', u'ethoRetrieveFromPouch', u'ethoHeave', u'ethoAllogroom', u'ethoSolicitAllogroom', u'ethoScratch', u'ethoAutogroom', u'ethoAggressionLabel', u'ethoAggressionLevel', u'ethoAggressionNone', u'ethoAggressionAny', u'ethoAggressionTwo', u'ethoAggressionJoint', u'ethoAggressionMass', u'ethoStrike', u'ethoGrapple', u'ethoLunge', u'ethoWithdraw', u'ethoCharge', u'ethoChase', u'ethoFlee', u'ethoThreaten', u'ethoMountedThreaten', u'ethoSubmit', u'ethoDisplace', u'ethoLeanAway', u'ethoAvoid', u'ethoBranchDisplay', u'time', u'Z0', u'Z1', u'Z2', u'Z3', u'Z4'], dtype='object')"
      ]
     },
     "execution_count": 32,
     "metadata": {},
     "output_type": "execute_result"
    }
   ],
   "source": [
    "# merge labeled and inferred etho on movie and frame columns\n",
    "edf = pd.merge(etho, xif, how='right')\n",
    "edf.columns"
   ]
  },
  {
   "cell_type": "code",
   "execution_count": 35,
   "metadata": {
    "collapsed": false
   },
   "outputs": [],
   "source": [
    "# get rid of categories that are either identifiers or have non-binary entries\n",
    "edf = edf.drop(['frameTime', 'ethoCameraLabel', 'ethoFaceLabel',\n",
    "                'ethoGenitalsLabel', 'ethoForageLabel', 'ethoAggressionLabel', 'time',\n",
    "                'ethoRoughCountLabel'], axis=1)"
   ]
  },
  {
   "cell_type": "code",
   "execution_count": 36,
   "metadata": {
    "collapsed": false
   },
   "outputs": [
    {
     "data": {
      "text/html": [
       "<div style=\"max-height:1000px;max-width:1500px;overflow:auto;\">\n",
       "<table border=\"1\" class=\"dataframe\">\n",
       "  <thead>\n",
       "    <tr style=\"text-align: right;\">\n",
       "      <th></th>\n",
       "      <th>ethoCameraLevel</th>\n",
       "      <th>ethoCameraHolding</th>\n",
       "      <th>ethoCameraZoomingIn</th>\n",
       "      <th>ethoCameraZoomingOut</th>\n",
       "      <th>ethoCameraTracking</th>\n",
       "      <th>ethoCameraPanning</th>\n",
       "      <th>ethoCameraSlewing</th>\n",
       "      <th>ethoRoughCountLevel</th>\n",
       "      <th>ethoCountNone</th>\n",
       "      <th>ethoLeast1</th>\n",
       "      <th>...</th>\n",
       "      <th>ethoSubmit</th>\n",
       "      <th>ethoDisplace</th>\n",
       "      <th>ethoLeanAway</th>\n",
       "      <th>ethoAvoid</th>\n",
       "      <th>ethoBranchDisplay</th>\n",
       "      <th>Z0</th>\n",
       "      <th>Z1</th>\n",
       "      <th>Z2</th>\n",
       "      <th>Z3</th>\n",
       "      <th>Z4</th>\n",
       "    </tr>\n",
       "  </thead>\n",
       "  <tbody>\n",
       "    <tr>\n",
       "      <th>0</th>\n",
       "      <td> 0</td>\n",
       "      <td> 1</td>\n",
       "      <td> 0</td>\n",
       "      <td> 0</td>\n",
       "      <td> 0</td>\n",
       "      <td> 0</td>\n",
       "      <td> 0</td>\n",
       "      <td> 0</td>\n",
       "      <td> 1</td>\n",
       "      <td> 0</td>\n",
       "      <td>...</td>\n",
       "      <td> 0</td>\n",
       "      <td> 0</td>\n",
       "      <td> 0</td>\n",
       "      <td> 0</td>\n",
       "      <td> 0</td>\n",
       "      <td> 0.042118</td>\n",
       "      <td> 0.001577</td>\n",
       "      <td> 0.037103</td>\n",
       "      <td> 0.037106</td>\n",
       "      <td> 0.036609</td>\n",
       "    </tr>\n",
       "    <tr>\n",
       "      <th>1</th>\n",
       "      <td> 0</td>\n",
       "      <td> 1</td>\n",
       "      <td> 0</td>\n",
       "      <td> 0</td>\n",
       "      <td> 0</td>\n",
       "      <td> 0</td>\n",
       "      <td> 0</td>\n",
       "      <td> 0</td>\n",
       "      <td> 1</td>\n",
       "      <td> 0</td>\n",
       "      <td>...</td>\n",
       "      <td> 0</td>\n",
       "      <td> 0</td>\n",
       "      <td> 0</td>\n",
       "      <td> 0</td>\n",
       "      <td> 0</td>\n",
       "      <td> 0.180349</td>\n",
       "      <td> 0.006201</td>\n",
       "      <td> 0.489395</td>\n",
       "      <td> 0.489143</td>\n",
       "      <td> 0.144736</td>\n",
       "    </tr>\n",
       "    <tr>\n",
       "      <th>2</th>\n",
       "      <td> 0</td>\n",
       "      <td> 1</td>\n",
       "      <td> 0</td>\n",
       "      <td> 0</td>\n",
       "      <td> 0</td>\n",
       "      <td> 0</td>\n",
       "      <td> 0</td>\n",
       "      <td> 0</td>\n",
       "      <td> 1</td>\n",
       "      <td> 0</td>\n",
       "      <td>...</td>\n",
       "      <td> 0</td>\n",
       "      <td> 0</td>\n",
       "      <td> 0</td>\n",
       "      <td> 0</td>\n",
       "      <td> 0</td>\n",
       "      <td> 0.337071</td>\n",
       "      <td> 0.003744</td>\n",
       "      <td> 0.490018</td>\n",
       "      <td> 0.491431</td>\n",
       "      <td> 0.247972</td>\n",
       "    </tr>\n",
       "    <tr>\n",
       "      <th>3</th>\n",
       "      <td> 0</td>\n",
       "      <td> 1</td>\n",
       "      <td> 0</td>\n",
       "      <td> 0</td>\n",
       "      <td> 0</td>\n",
       "      <td> 0</td>\n",
       "      <td> 0</td>\n",
       "      <td> 0</td>\n",
       "      <td> 1</td>\n",
       "      <td> 0</td>\n",
       "      <td>...</td>\n",
       "      <td> 0</td>\n",
       "      <td> 0</td>\n",
       "      <td> 0</td>\n",
       "      <td> 0</td>\n",
       "      <td> 0</td>\n",
       "      <td> 0.448608</td>\n",
       "      <td> 0.003092</td>\n",
       "      <td> 0.490014</td>\n",
       "      <td> 0.491436</td>\n",
       "      <td> 0.334127</td>\n",
       "    </tr>\n",
       "    <tr>\n",
       "      <th>4</th>\n",
       "      <td> 0</td>\n",
       "      <td> 1</td>\n",
       "      <td> 0</td>\n",
       "      <td> 0</td>\n",
       "      <td> 0</td>\n",
       "      <td> 0</td>\n",
       "      <td> 0</td>\n",
       "      <td> 0</td>\n",
       "      <td> 1</td>\n",
       "      <td> 0</td>\n",
       "      <td>...</td>\n",
       "      <td> 0</td>\n",
       "      <td> 0</td>\n",
       "      <td> 0</td>\n",
       "      <td> 0</td>\n",
       "      <td> 0</td>\n",
       "      <td> 0.528980</td>\n",
       "      <td> 0.002837</td>\n",
       "      <td> 0.490008</td>\n",
       "      <td> 0.491421</td>\n",
       "      <td> 0.406865</td>\n",
       "    </tr>\n",
       "  </tbody>\n",
       "</table>\n",
       "<p>5 rows × 71 columns</p>\n",
       "</div>"
      ],
      "text/plain": [
       "   ethoCameraLevel  ethoCameraHolding  ethoCameraZoomingIn  \\\n",
       "0                0                  1                    0   \n",
       "1                0                  1                    0   \n",
       "2                0                  1                    0   \n",
       "3                0                  1                    0   \n",
       "4                0                  1                    0   \n",
       "\n",
       "   ethoCameraZoomingOut  ethoCameraTracking  ethoCameraPanning  \\\n",
       "0                     0                   0                  0   \n",
       "1                     0                   0                  0   \n",
       "2                     0                   0                  0   \n",
       "3                     0                   0                  0   \n",
       "4                     0                   0                  0   \n",
       "\n",
       "   ethoCameraSlewing  ethoRoughCountLevel  ethoCountNone  ethoLeast1  \\\n",
       "0                  0                    0              1           0   \n",
       "1                  0                    0              1           0   \n",
       "2                  0                    0              1           0   \n",
       "3                  0                    0              1           0   \n",
       "4                  0                    0              1           0   \n",
       "\n",
       "     ...     ethoSubmit  ethoDisplace  ethoLeanAway  ethoAvoid  \\\n",
       "0    ...              0             0             0          0   \n",
       "1    ...              0             0             0          0   \n",
       "2    ...              0             0             0          0   \n",
       "3    ...              0             0             0          0   \n",
       "4    ...              0             0             0          0   \n",
       "\n",
       "   ethoBranchDisplay        Z0        Z1        Z2        Z3        Z4  \n",
       "0                  0  0.042118  0.001577  0.037103  0.037106  0.036609  \n",
       "1                  0  0.180349  0.006201  0.489395  0.489143  0.144736  \n",
       "2                  0  0.337071  0.003744  0.490018  0.491431  0.247972  \n",
       "3                  0  0.448608  0.003092  0.490014  0.491436  0.334127  \n",
       "4                  0  0.528980  0.002837  0.490008  0.491421  0.406865  \n",
       "\n",
       "[5 rows x 71 columns]"
      ]
     },
     "execution_count": 36,
     "metadata": {},
     "output_type": "execute_result"
    }
   ],
   "source": [
    "edf.head()"
   ]
  },
  {
   "cell_type": "markdown",
   "metadata": {},
   "source": [
    "# View results:"
   ]
  },
  {
   "cell_type": "code",
   "execution_count": 37,
   "metadata": {
    "collapsed": false
   },
   "outputs": [
    {
     "data": {
      "image/png": "[encoded data removed]",
      "text/plain": [
       "<matplotlib.figure.Figure at 0x119baadd0>"
      ]
     },
     "metadata": {},
     "output_type": "display_data"
    }
   ],
   "source": [
    "# plot a section in time; each row is a regressor; bottom rows are inferred categories\n",
    "matshow(edf.iloc[500:1000, :].values.T, vmin=0, vmax=1)"
   ]
  },
  {
   "cell_type": "markdown",
   "metadata": {},
   "source": [
    "## Overlap analysis:"
   ]
  },
  {
   "cell_type": "markdown",
   "metadata": {},
   "source": [
    "Define the overlap as the maximum of the match or mismatch percentage. That is, if $x$ and $y$ are binary vectors, \n",
    "$$\n",
    "\\mathrm{overlap} = \\max \\{ \\mathbb{E}[xy + (1-x)(1-y)], \\mathbb{E}[(1-x)y + x(1-y)]\\}\n",
    "$$"
   ]
  },
  {
   "cell_type": "code",
   "execution_count": 50,
   "metadata": {
    "collapsed": false
   },
   "outputs": [],
   "source": [
    "match = (edf.T.dot(edf) + (1 - edf.T).dot(1 - edf)) / T\n",
    "mismatch = (edf.T.dot(1 - edf) + (1 - edf.T).dot(edf)) / T\n",
    "overlap = np.maximum(match, mismatch)"
   ]
  },
  {
   "cell_type": "code",
   "execution_count": 102,
   "metadata": {
    "collapsed": false
   },
   "outputs": [
    {
     "data": {
      "image/png": "[encoded data removed]",
      "text/plain": [
       "<matplotlib.figure.Figure at 0x118869c90>"
      ]
     },
     "metadata": {},
     "output_type": "display_data"
    }
   ],
   "source": [
    "row_labels = edf.columns[:-K]\n",
    "matshow(overlap.values[-K:,:-K], vmin=0.5, vmax=1)\n",
    "plt.ylabel('inferred factor')\n",
    "plt.xlabel('labeled factor')\n",
    "plt.colorbar();\n",
    "\n",
    "# add column names\n",
    "ax = plt.gca()\n",
    "ax.xaxis.set_label_position('top')\n",
    "#ax.set_xticklabels(row_labels)\n",
    "plt.tick_params(axis='x', which='both', top='off', bottom='off', \n",
    "                labelbottom='on', labeltop='off', pad=5)\n",
    "plt.xticks(xrange(len(row_labels)), row_labels, rotation='vertical', horizontalalignment='center');"
   ]
  },
  {
   "cell_type": "code",
   "execution_count": 104,
   "metadata": {
    "collapsed": false
   },
   "outputs": [
    {
     "data": {
      "text/html": [
       "<div style=\"max-height:1000px;max-width:1500px;overflow:auto;\">\n",
       "<table border=\"1\" class=\"dataframe\">\n",
       "  <thead>\n",
       "    <tr style=\"text-align: right;\">\n",
       "      <th></th>\n",
       "      <th>ethoCameraLevel</th>\n",
       "      <th>ethoCameraHolding</th>\n",
       "      <th>ethoCameraZoomingIn</th>\n",
       "      <th>ethoCameraZoomingOut</th>\n",
       "      <th>ethoCameraTracking</th>\n",
       "      <th>ethoCameraPanning</th>\n",
       "      <th>ethoCameraSlewing</th>\n",
       "      <th>ethoRoughCountLevel</th>\n",
       "      <th>ethoCountNone</th>\n",
       "      <th>ethoLeast1</th>\n",
       "      <th>...</th>\n",
       "      <th>ethoCharge</th>\n",
       "      <th>ethoChase</th>\n",
       "      <th>ethoFlee</th>\n",
       "      <th>ethoThreaten</th>\n",
       "      <th>ethoMountedThreaten</th>\n",
       "      <th>ethoSubmit</th>\n",
       "      <th>ethoDisplace</th>\n",
       "      <th>ethoLeanAway</th>\n",
       "      <th>ethoAvoid</th>\n",
       "      <th>ethoBranchDisplay</th>\n",
       "    </tr>\n",
       "  </thead>\n",
       "  <tbody>\n",
       "    <tr>\n",
       "      <th>Z0</th>\n",
       "      <td> 0.874412</td>\n",
       "      <td> 0.553879</td>\n",
       "      <td> 0.705018</td>\n",
       "      <td> 0.725561</td>\n",
       "      <td> 0.679015</td>\n",
       "      <td> 0.721243</td>\n",
       "      <td> 0.677856</td>\n",
       "      <td> 0.890266</td>\n",
       "      <td> 0.664676</td>\n",
       "      <td> 0.664676</td>\n",
       "      <td>...</td>\n",
       "      <td> 0.738125</td>\n",
       "      <td> 0.738009</td>\n",
       "      <td> 0.738089</td>\n",
       "      <td> 0.732708</td>\n",
       "      <td> 0.738302</td>\n",
       "      <td> 0.735370</td>\n",
       "      <td> 0.737733</td>\n",
       "      <td> 0.738412</td>\n",
       "      <td> 0.738703</td>\n",
       "      <td> 0.737970</td>\n",
       "    </tr>\n",
       "    <tr>\n",
       "      <th>Z1</th>\n",
       "      <td> 0.528314</td>\n",
       "      <td> 0.505758</td>\n",
       "      <td> 0.522942</td>\n",
       "      <td> 0.528589</td>\n",
       "      <td> 0.524354</td>\n",
       "      <td> 0.529380</td>\n",
       "      <td> 0.532839</td>\n",
       "      <td> 0.599243</td>\n",
       "      <td> 0.533531</td>\n",
       "      <td> 0.533531</td>\n",
       "      <td>...</td>\n",
       "      <td> 0.532534</td>\n",
       "      <td> 0.533739</td>\n",
       "      <td> 0.533188</td>\n",
       "      <td> 0.525909</td>\n",
       "      <td> 0.531989</td>\n",
       "      <td> 0.531609</td>\n",
       "      <td> 0.533264</td>\n",
       "      <td> 0.532899</td>\n",
       "      <td> 0.533087</td>\n",
       "      <td> 0.533201</td>\n",
       "    </tr>\n",
       "    <tr>\n",
       "      <th>Z2</th>\n",
       "      <td> 0.515243</td>\n",
       "      <td> 0.502482</td>\n",
       "      <td> 0.508749</td>\n",
       "      <td> 0.509483</td>\n",
       "      <td> 0.507588</td>\n",
       "      <td> 0.509230</td>\n",
       "      <td> 0.507564</td>\n",
       "      <td> 0.515880</td>\n",
       "      <td> 0.506836</td>\n",
       "      <td> 0.506836</td>\n",
       "      <td>...</td>\n",
       "      <td> 0.510009</td>\n",
       "      <td> 0.510008</td>\n",
       "      <td> 0.510016</td>\n",
       "      <td> 0.509786</td>\n",
       "      <td> 0.510008</td>\n",
       "      <td> 0.509931</td>\n",
       "      <td> 0.510004</td>\n",
       "      <td> 0.510027</td>\n",
       "      <td> 0.510033</td>\n",
       "      <td> 0.510014</td>\n",
       "    </tr>\n",
       "    <tr>\n",
       "      <th>Z3</th>\n",
       "      <td> 0.513081</td>\n",
       "      <td> 0.502135</td>\n",
       "      <td> 0.507515</td>\n",
       "      <td> 0.508146</td>\n",
       "      <td> 0.506519</td>\n",
       "      <td> 0.507929</td>\n",
       "      <td> 0.506499</td>\n",
       "      <td> 0.513638</td>\n",
       "      <td> 0.505872</td>\n",
       "      <td> 0.505872</td>\n",
       "      <td>...</td>\n",
       "      <td> 0.508597</td>\n",
       "      <td> 0.508596</td>\n",
       "      <td> 0.508604</td>\n",
       "      <td> 0.508406</td>\n",
       "      <td> 0.508596</td>\n",
       "      <td> 0.508530</td>\n",
       "      <td> 0.508593</td>\n",
       "      <td> 0.508613</td>\n",
       "      <td> 0.508618</td>\n",
       "      <td> 0.508602</td>\n",
       "    </tr>\n",
       "    <tr>\n",
       "      <th>Z4</th>\n",
       "      <td> 0.796362</td>\n",
       "      <td> 0.552333</td>\n",
       "      <td> 0.671979</td>\n",
       "      <td> 0.684879</td>\n",
       "      <td> 0.653115</td>\n",
       "      <td> 0.676095</td>\n",
       "      <td> 0.644165</td>\n",
       "      <td> 0.811533</td>\n",
       "      <td> 0.631862</td>\n",
       "      <td> 0.631862</td>\n",
       "      <td>...</td>\n",
       "      <td> 0.694946</td>\n",
       "      <td> 0.694011</td>\n",
       "      <td> 0.694235</td>\n",
       "      <td> 0.689306</td>\n",
       "      <td> 0.694078</td>\n",
       "      <td> 0.693482</td>\n",
       "      <td> 0.694238</td>\n",
       "      <td> 0.694330</td>\n",
       "      <td> 0.694475</td>\n",
       "      <td> 0.694154</td>\n",
       "    </tr>\n",
       "  </tbody>\n",
       "</table>\n",
       "<p>5 rows × 66 columns</p>\n",
       "</div>"
      ],
      "text/plain": [
       "    ethoCameraLevel  ethoCameraHolding  ethoCameraZoomingIn  \\\n",
       "Z0         0.874412           0.553879             0.705018   \n",
       "Z1         0.528314           0.505758             0.522942   \n",
       "Z2         0.515243           0.502482             0.508749   \n",
       "Z3         0.513081           0.502135             0.507515   \n",
       "Z4         0.796362           0.552333             0.671979   \n",
       "\n",
       "    ethoCameraZoomingOut  ethoCameraTracking  ethoCameraPanning  \\\n",
       "Z0              0.725561            0.679015           0.721243   \n",
       "Z1              0.528589            0.524354           0.529380   \n",
       "Z2              0.509483            0.507588           0.509230   \n",
       "Z3              0.508146            0.506519           0.507929   \n",
       "Z4              0.684879            0.653115           0.676095   \n",
       "\n",
       "    ethoCameraSlewing  ethoRoughCountLevel  ethoCountNone  ethoLeast1  \\\n",
       "Z0           0.677856             0.890266       0.664676    0.664676   \n",
       "Z1           0.532839             0.599243       0.533531    0.533531   \n",
       "Z2           0.507564             0.515880       0.506836    0.506836   \n",
       "Z3           0.506499             0.513638       0.505872    0.505872   \n",
       "Z4           0.644165             0.811533       0.631862    0.631862   \n",
       "\n",
       "          ...          ethoCharge  ethoChase  ethoFlee  ethoThreaten  \\\n",
       "Z0        ...            0.738125   0.738009  0.738089      0.732708   \n",
       "Z1        ...            0.532534   0.533739  0.533188      0.525909   \n",
       "Z2        ...            0.510009   0.510008  0.510016      0.509786   \n",
       "Z3        ...            0.508597   0.508596  0.508604      0.508406   \n",
       "Z4        ...            0.694946   0.694011  0.694235      0.689306   \n",
       "\n",
       "    ethoMountedThreaten  ethoSubmit  ethoDisplace  ethoLeanAway  ethoAvoid  \\\n",
       "Z0             0.738302    0.735370      0.737733      0.738412   0.738703   \n",
       "Z1             0.531989    0.531609      0.533264      0.532899   0.533087   \n",
       "Z2             0.510008    0.509931      0.510004      0.510027   0.510033   \n",
       "Z3             0.508596    0.508530      0.508593      0.508613   0.508618   \n",
       "Z4             0.694078    0.693482      0.694238      0.694330   0.694475   \n",
       "\n",
       "    ethoBranchDisplay  \n",
       "Z0           0.737970  \n",
       "Z1           0.533201  \n",
       "Z2           0.510014  \n",
       "Z3           0.508602  \n",
       "Z4           0.694154  \n",
       "\n",
       "[5 rows x 66 columns]"
      ]
     },
     "execution_count": 104,
     "metadata": {},
     "output_type": "execute_result"
    }
   ],
   "source": [
    "overlap.iloc[-K:, :-K]"
   ]
  },
  {
   "cell_type": "code",
   "execution_count": 19,
   "metadata": {
    "collapsed": false
   },
   "outputs": [],
   "source": []
  }
 ],
 "metadata": {
  "kernelspec": {
   "display_name": "Python 2",
   "language": "python",
   "name": "python2"
  },
  "language_info": {
   "codemirror_mode": {
    "name": "ipython",
    "version": 2
   },
   "file_extension": ".py",
   "mimetype": "text/x-python",
   "name": "python",
   "nbconvert_exporter": "python",
   "pygments_lexer": "ipython2",
   "version": "2.7.9"
  }
 },
 "nbformat": 4,
 "nbformat_minor": 0
}
