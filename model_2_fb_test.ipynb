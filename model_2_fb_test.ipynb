{
 "metadata": {
  "name": "",
  "signature": "sha256:efeef99c8aee8b6805e0a2f7cfbf29e032df1b16cc9ce339c052735f5f1662bb"
 },
 "nbformat": 3,
 "nbformat_minor": 0,
 "worksheets": [
  {
   "cells": [
    {
     "cell_type": "heading",
     "level": 1,
     "metadata": {},
     "source": [
      "Test of simple Forward-Backward implementation for Model 2"
     ]
    },
    {
     "cell_type": "markdown",
     "metadata": {},
     "source": [
      "Here, we test the simplest version of the model using the forward-backward algorithm for inference. Assume $\\lambda$ and $\\lambda_0$ are known, as is the Markov matrix for the state transitions."
     ]
    },
    {
     "cell_type": "code",
     "collapsed": false,
     "input": [
      "from __future__ import division\n",
      "import numpy as np\n",
      "import scipy.stats as stats\n",
      "import matplotlib.pyplot as plt\n",
      "import matplotlib.cm as cm\n",
      "%matplotlib inline"
     ],
     "language": "python",
     "metadata": {},
     "outputs": [],
     "prompt_number": 285
    },
    {
     "cell_type": "heading",
     "level": 2,
     "metadata": {},
     "source": [
      "Let's make some fake data"
     ]
    },
    {
     "cell_type": "code",
     "collapsed": false,
     "input": [
      "U = 1  # units\n",
      "T = 5000  # time points/frames\n",
      "K = 1  # categories\n",
      "dt = 1 / 30  # frames per second"
     ],
     "language": "python",
     "metadata": {},
     "outputs": [],
     "prompt_number": 286
    },
    {
     "cell_type": "code",
     "collapsed": false,
     "input": [
      "# 0 -> 1 transition should be small\n",
      "v0_a = 1\n",
      "v0_b = 100\n",
      "xx = np.linspace(0, 1, 1000)\n",
      "plt.plot(xx, stats.beta.pdf(xx, v0_a, v0_b));\n",
      "\n",
      "# 1 -> 1 transition should be large\n",
      "v1_a = 100\n",
      "v1_b = 1\n",
      "xx = np.linspace(0, 1, 1000)\n",
      "plt.plot(xx, stats.beta.pdf(xx, v1_a, v1_b));"
     ],
     "language": "python",
     "metadata": {},
     "outputs": [
      {
       "metadata": {},
       "output_type": "display_data",
       "png": "[encoded data removed]",
       "text": [
        "<matplotlib.figure.Figure at 0x109cd5190>"
       ]
      }
     ],
     "prompt_number": 287
    },
    {
     "cell_type": "code",
     "collapsed": false,
     "input": [
      "# make matrix of transition probabilities\n",
      "# each row is a category, each column the transition\n",
      "# probability from that state to state 1\n",
      "# (this is easy to do without matrices since we have\n",
      "# only two states)\n",
      "v0 = stats.beta.rvs(v0_a, v0_b, size=K)\n",
      "v1 = stats.beta.rvs(v1_a, v1_b, size=K)\n",
      "v = np.vstack([v0, v1]).T "
     ],
     "language": "python",
     "metadata": {},
     "outputs": [],
     "prompt_number": 288
    },
    {
     "cell_type": "code",
     "collapsed": false,
     "input": [
      "# pick initial states for each category (for purposes of data generation)\n",
      "z0_probs = stats.beta.rvs(50, 50, size=K)\n",
      "z0 = stats.bernoulli.rvs(z0_probs)\n",
      "\n",
      "# prior on initial state\n",
      "zeta = np.array([0.5, 0.5])"
     ],
     "language": "python",
     "metadata": {},
     "outputs": [],
     "prompt_number": 289
    },
    {
     "cell_type": "code",
     "collapsed": false,
     "input": [
      "# make the chain by evolving each category through time\n",
      "chain = np.empty((K, T), dtype='int')\n",
      "\n",
      "# initialize\n",
      "chain[:, 0] = z0\n",
      "\n",
      "for t in xrange(1, T):\n",
      "    p_trans_to_1 = v[range(K), chain[:, t - 1]]\n",
      "    chain[:, t] = stats.bernoulli.rvs(p_trans_to_1)"
     ],
     "language": "python",
     "metadata": {},
     "outputs": [],
     "prompt_number": 290
    },
    {
     "cell_type": "code",
     "collapsed": false,
     "input": [
      "# plot the categories through time\n",
      "Trng = (0, 5000)\n",
      "plt.matshow(chain[:, slice(*Trng)], aspect='auto', cmap=cm.gray);"
     ],
     "language": "python",
     "metadata": {},
     "outputs": [
      {
       "metadata": {},
       "output_type": "display_data",
       "png": "[encoded data removed]",
       "text": [
        "<matplotlib.figure.Figure at 0x10ae48410>"
       ]
      }
     ],
     "prompt_number": 302
    },
    {
     "cell_type": "code",
     "collapsed": false,
     "input": [
      "# set up firing rates for each category, unit\n",
      "lam = stats.gamma.rvs(a=10 / 3, scale=3, size=(K, U))\n",
      "lam0 = stats.gamma.rvs(a=10 / 3, scale=3, size=(K, U))"
     ],
     "language": "python",
     "metadata": {},
     "outputs": [],
     "prompt_number": 292
    },
    {
     "cell_type": "code",
     "collapsed": false,
     "input": [
      "# calculate rate for each time\n",
      "fr = chain.T.dot(lam) * dt\n",
      "fr = fr + 1e-5  # in case we get exactly 0\n",
      "\n",
      "# draw from Poisson\n",
      "N = stats.poisson.rvs(fr)"
     ],
     "language": "python",
     "metadata": {},
     "outputs": [],
     "prompt_number": 293
    },
    {
     "cell_type": "heading",
     "level": 2,
     "metadata": {},
     "source": [
      "Inference"
     ]
    },
    {
     "cell_type": "code",
     "collapsed": false,
     "input": [
      "zmat = np.empty((T, K))\n",
      "alpha = np.empty((T, 2))\n",
      "beta = np.empty((T, 2))\n",
      "psi = np.empty((T, 2))\n",
      "gamma = np.empty((T, 2))\n",
      "logZ = np.empty(T)"
     ],
     "language": "python",
     "metadata": {},
     "outputs": [],
     "prompt_number": 294
    },
    {
     "cell_type": "code",
     "collapsed": false,
     "input": [
      "# assemble the pieces\n",
      "A = np.vstack([1 - v, v])\n",
      "\n",
      "psi[:, 0] = stats.poisson.pmf(N.ravel(), mu=lam0 * dt)\n",
      "psi[:, 1] = stats.poisson.pmf(N.ravel(), mu=(lam0 + lam) * dt)"
     ],
     "language": "python",
     "metadata": {},
     "outputs": [],
     "prompt_number": 295
    },
    {
     "cell_type": "code",
     "collapsed": false,
     "input": [
      "# initialize\n",
      "alpha[0, :] = zeta\n",
      "beta[-1, :] = 1\n",
      "logZ[0] = 0"
     ],
     "language": "python",
     "metadata": {},
     "outputs": [],
     "prompt_number": 296
    },
    {
     "cell_type": "code",
     "collapsed": false,
     "input": [
      "# forwards\n",
      "for t in xrange(1, T):\n",
      "    a = psi[t, :] * (A.dot(alpha[t - 1, :]))\n",
      "    logZ[t] = np.sum(a)\n",
      "    alpha[t, :] = a / np.sum(a)"
     ],
     "language": "python",
     "metadata": {},
     "outputs": [],
     "prompt_number": 297
    },
    {
     "cell_type": "code",
     "collapsed": false,
     "input": [
      "# backwards\n",
      "for t in xrange(T - 1, 0, -1):\n",
      "    b = A.T.dot(beta[t, :] * psi[t, :])\n",
      "    beta[t - 1, :] = b / np.sum(b)"
     ],
     "language": "python",
     "metadata": {},
     "outputs": [],
     "prompt_number": 298
    },
    {
     "cell_type": "code",
     "collapsed": false,
     "input": [
      "# posterior\n",
      "gamma = alpha * beta\n",
      "gamma = gamma / np.sum(gamma, 1, keepdims=True)"
     ],
     "language": "python",
     "metadata": {},
     "outputs": [],
     "prompt_number": 299
    },
    {
     "cell_type": "code",
     "collapsed": false,
     "input": [
      "# plot results\n",
      "Trng = (0, 5000)\n",
      "plt.matshow(chain[:, slice(*Trng)], aspect='auto', cmap=cm.gray);\n",
      "plt.matshow(gamma[slice(*Trng), [1]].T, aspect='auto', cmap=cm.gray, vmin=0, vmax=1);"
     ],
     "language": "python",
     "metadata": {},
     "outputs": [
      {
       "metadata": {},
       "output_type": "display_data",
       "png": "[encoded data removed]",
       "text": [
        "<matplotlib.figure.Figure at 0x109dd1d10>"
       ]
      },
      {
       "metadata": {},
       "output_type": "display_data",
       "png": "[encoded data removed]",
       "text": [
        "<matplotlib.figure.Figure at 0x109dd1990>"
       ]
      }
     ],
     "prompt_number": 301
    },
    {
     "cell_type": "code",
     "collapsed": false,
     "input": [],
     "language": "python",
     "metadata": {},
     "outputs": [],
     "prompt_number": 300
    }
   ],
   "metadata": {}
  }
 ]
}