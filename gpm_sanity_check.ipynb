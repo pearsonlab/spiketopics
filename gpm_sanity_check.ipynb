{
 "metadata": {
  "name": "",
  "signature": "sha256:883421293f14cff62311550eadcdcec7dfef022c52732eb3a498b737dccf46ce"
 },
 "nbformat": 3,
 "nbformat_minor": 0,
 "worksheets": [
  {
   "cells": [
    {
     "cell_type": "heading",
     "level": 1,
     "metadata": {},
     "source": [
      "Gamma-Poisson sanity check:"
     ]
    },
    {
     "cell_type": "markdown",
     "metadata": {},
     "source": [
      "Try Gamma Poisson Model inference on data generated from that model. Should recover synthetic data."
     ]
    },
    {
     "cell_type": "heading",
     "level": 1,
     "metadata": {},
     "source": [
      "Generate Test Data"
     ]
    },
    {
     "cell_type": "code",
     "collapsed": false,
     "input": [
      "from __future__ import division\n",
      "import numpy as np\n",
      "import pandas as pd\n",
      "import scipy.stats as stats\n",
      "import matplotlib.pyplot as plt\n",
      "import gamma_poisson as gp\n",
      "%matplotlib inline\n",
      "\n",
      "np.random.seed(11734)"
     ],
     "language": "python",
     "metadata": {},
     "outputs": [],
     "prompt_number": 1
    },
    {
     "cell_type": "code",
     "collapsed": false,
     "input": [
      "def matshow(X, **kwargs):\n",
      "    plt.matshow(X, aspect='auto', cmap='gray', **kwargs);"
     ],
     "language": "python",
     "metadata": {},
     "outputs": [],
     "prompt_number": 2
    },
    {
     "cell_type": "code",
     "collapsed": false,
     "input": [
      "U = 50  # units\n",
      "T = 5000  # time points/frames\n",
      "Kdata = 4  # number of latent states\n",
      "dt = 1/30  # seconds per frame"
     ],
     "language": "python",
     "metadata": {},
     "outputs": [],
     "prompt_number": 3
    },
    {
     "cell_type": "code",
     "collapsed": false,
     "input": [
      "# make transition matrix\n",
      "A = np.array([[0.98, 0.05], [0.02, 0.95]])"
     ],
     "language": "python",
     "metadata": {},
     "outputs": [],
     "prompt_number": 4
    },
    {
     "cell_type": "code",
     "collapsed": false,
     "input": [
      "chain = np.empty((T, Kdata))\n",
      "chain[:, 0] = 1  # baseline always on\n",
      "\n",
      "chain[0, :] = 0  # start second category off\n",
      "for t in xrange(1, T):\n",
      "    for k in xrange(1, Kdata):\n",
      "        chain[t, k] = stats.bernoulli.rvs(A[1, chain[t - 1, k]])"
     ],
     "language": "python",
     "metadata": {},
     "outputs": [],
     "prompt_number": 5
    },
    {
     "cell_type": "code",
     "collapsed": false,
     "input": [
      "matshow(chain.T);"
     ],
     "language": "python",
     "metadata": {},
     "outputs": [
      {
       "metadata": {},
       "output_type": "display_data",
       "png": "[encoded data removed]",
       "text": [
        "<matplotlib.figure.Figure at 0x10b325fd0>"
       ]
      }
     ],
     "prompt_number": 6
    },
    {
     "cell_type": "code",
     "collapsed": false,
     "input": [
      "# firing rates\n",
      "fr_shape = 4, 1\n",
      "fr_scale = 2, 1\n",
      "lam = stats.gamma.rvs(a=fr_shape[1], scale=fr_scale[1], size=(Kdata, U))\n",
      "\n",
      "# baselines should follow a different distribution\n",
      "lam[0, :] = stats.gamma.rvs(a=fr_shape[0], scale=fr_scale[0], size=U) "
     ],
     "language": "python",
     "metadata": {},
     "outputs": [],
     "prompt_number": 7
    },
    {
     "cell_type": "code",
     "collapsed": false,
     "input": [
      "plt.subplot(1, 2, 1)\n",
      "xx = np.linspace(0, 50, 1000)\n",
      "plt.plot(xx, stats.gamma.pdf(xx, a=fr_shape[0], scale=fr_shape[0]))\n",
      "plt.title('Baseline firing distribution');\n",
      "\n",
      "plt.subplot(1, 2, 2)\n",
      "xx = np.linspace(0, 5, 1000)\n",
      "plt.plot(xx, stats.gamma.pdf(xx, a=fr_shape[1], scale=fr_shape[1]))\n",
      "plt.title('Category effect firing distribution');"
     ],
     "language": "python",
     "metadata": {},
     "outputs": [
      {
       "metadata": {},
       "output_type": "display_data",
       "png": "[encoded data removed]",
       "text": [
        "<matplotlib.figure.Figure at 0x10b3e4910>"
       ]
      }
     ],
     "prompt_number": 8
    },
    {
     "cell_type": "code",
     "collapsed": false,
     "input": [
      "# calculate rate for each time\n",
      "fr = np.exp(chain.dot(np.log(lam))) * dt\n",
      "fr += 1e-5  # in case we get exactly 0\n",
      "\n",
      "# add overdispersion\n",
      "theta = stats.gamma.rvs(a=10, scale=1./10, size=fr.shape)\n",
      "#fr *= theta"
     ],
     "language": "python",
     "metadata": {},
     "outputs": [],
     "prompt_number": 9
    },
    {
     "cell_type": "code",
     "collapsed": false,
     "input": [
      "xx = np.linspace(0, 5, 300)\n",
      "plt.plot(xx, stats.gamma.pdf(xx, a=10, scale=1./10))\n",
      "plt.title('Overdispersion Effect');"
     ],
     "language": "python",
     "metadata": {},
     "outputs": [
      {
       "metadata": {},
       "output_type": "display_data",
       "png": "[encoded data removed]",
       "text": [
        "<matplotlib.figure.Figure at 0x10b48ee10>"
       ]
      }
     ],
     "prompt_number": 10
    },
    {
     "cell_type": "code",
     "collapsed": false,
     "input": [
      "matshow(fr.T);"
     ],
     "language": "python",
     "metadata": {},
     "outputs": [
      {
       "metadata": {},
       "output_type": "display_data",
       "png": "[encoded data removed]",
       "text": [
        "<matplotlib.figure.Figure at 0x10b41bf50>"
       ]
      }
     ],
     "prompt_number": 11
    },
    {
     "cell_type": "code",
     "collapsed": false,
     "input": [
      "# draw from Poisson\n",
      "N = stats.poisson.rvs(fr)\n",
      "matshow(N.T);"
     ],
     "language": "python",
     "metadata": {},
     "outputs": [
      {
       "metadata": {},
       "output_type": "display_data",
       "png": "[encoded data removed]",
       "text": [
        "<matplotlib.figure.Figure at 0x10d5ff710>"
       ]
      }
     ],
     "prompt_number": 12
    },
    {
     "cell_type": "code",
     "collapsed": false,
     "input": [
      "# make count frame\n",
      "df = pd.DataFrame(N)\n",
      "df.index.name = 'frame'\n",
      "df = df.reset_index()\n",
      "df = pd.melt(df, id_vars='frame')\n",
      "df.columns = ['frame', 'unit', 'count']\n",
      "df['movie'] = 1"
     ],
     "language": "python",
     "metadata": {},
     "outputs": [],
     "prompt_number": 13
    },
    {
     "cell_type": "heading",
     "level": 1,
     "metadata": {},
     "source": [
      "Set up Priors"
     ]
    },
    {
     "cell_type": "heading",
     "level": 2,
     "metadata": {},
     "source": [
      "Priors on $\\lambda$"
     ]
    },
    {
     "cell_type": "code",
     "collapsed": false,
     "input": [
      "# set number of categories to fit\n",
      "K = 6"
     ],
     "language": "python",
     "metadata": {},
     "outputs": [],
     "prompt_number": 14
    },
    {
     "cell_type": "code",
     "collapsed": false,
     "input": [
      "# multipliers shouldn't be much bigger than ~4\n",
      "cmat = 2 * np.ones((K, U))\n",
      "dmat = 2 * np.ones((K, U))\n",
      "\n",
      "# baselines can be a lot bigger\n",
      "cmat[0, :] = 3\n",
      "dmat[0, :] = 1/6 / dt  # only baseline needs to compensate for dt"
     ],
     "language": "python",
     "metadata": {},
     "outputs": [],
     "prompt_number": 15
    },
    {
     "cell_type": "code",
     "collapsed": false,
     "input": [
      "plt.figure(figsize=(12, 4))\n",
      "plt.subplot(1, 3, 1)\n",
      "xx = np.linspace(0, 3, 50)\n",
      "plt.plot(xx, stats.gamma.pdf(xx, a=cmat[1, 1], scale=1./dmat[1, 1]))\n",
      "plt.title('Category effect prior');\n",
      "\n",
      "plt.subplot(1, 3, 2)\n",
      "xx = np.linspace(0, 50, 1000)\n",
      "plt.plot(xx, stats.gamma.pdf(xx, a=cmat[0, 0], scale=1/(dmat[0, 0] * dt)))\n",
      "plt.title('Baseline firing rate prior');\n",
      "\n",
      "plt.subplot(1, 3, 3)\n",
      "xx = np.linspace(0, 3, 1000)\n",
      "plt.plot(xx, stats.gamma.pdf(xx, a=cmat[0, 0], scale=1/dmat[0, 0]))\n",
      "plt.title(r'Prior on $\\lambda dt$');"
     ],
     "language": "python",
     "metadata": {},
     "outputs": [
      {
       "metadata": {},
       "output_type": "display_data",
       "png": "[encoded data removed]",
       "text": [
        "<matplotlib.figure.Figure at 0x10d4fd590>"
       ]
      }
     ],
     "prompt_number": 16
    },
    {
     "cell_type": "heading",
     "level": 2,
     "metadata": {},
     "source": [
      "Priors on $A$, $\\pi$"
     ]
    },
    {
     "cell_type": "code",
     "collapsed": false,
     "input": [
      "###### A ###############\n",
      "nu1_mat = np.r_[np.ones((1, K)), 1 * np.ones((1, K))]\n",
      "nu2_mat = np.r_[1 * np.ones((1, K)), np.ones((1, K))]\n",
      "\n",
      "###### A ###############\n",
      "rho1_mat = np.ones((K,))\n",
      "rho2_mat = np.ones((K,))"
     ],
     "language": "python",
     "metadata": {},
     "outputs": [],
     "prompt_number": 17
    },
    {
     "cell_type": "heading",
     "level": 2,
     "metadata": {},
     "source": [
      "Priors on $\\theta$ (overdispersion)"
     ]
    },
    {
     "cell_type": "code",
     "collapsed": false,
     "input": [
      "th_scale = 1.5\n",
      "ss = th_scale * np.ones((U,))  # shape\n",
      "rr = th_scale * np.ones((U,))  # rate"
     ],
     "language": "python",
     "metadata": {},
     "outputs": [],
     "prompt_number": 18
    },
    {
     "cell_type": "code",
     "collapsed": false,
     "input": [
      "xx = np.linspace(0, 2, 100)\n",
      "plt.plot(xx, stats.gamma.pdf(xx, a=ss[0], scale=1./rr[0]))\n",
      "plt.title('Overdispersion effect distribution');"
     ],
     "language": "python",
     "metadata": {},
     "outputs": [
      {
       "metadata": {},
       "output_type": "display_data",
       "png": "[encoded data removed]",
       "text": [
        "<matplotlib.figure.Figure at 0x10ec87190>"
       ]
      }
     ],
     "prompt_number": 19
    },
    {
     "cell_type": "heading",
     "level": 1,
     "metadata": {},
     "source": [
      "Initial guesses for posterior parameters"
     ]
    },
    {
     "cell_type": "code",
     "collapsed": false,
     "input": [
      "# this is just the inference update\n",
      "alpha_mat = np.sum(N, axis = 0) + cmat\n",
      "\n",
      "# start by assuming beta very large\n",
      "beta_mat = dmat + 100000\n",
      "\n",
      "# set parameters for A, pi equal to priors\n",
      "gamma1_mat = nu1_mat\n",
      "gamma2_mat = nu2_mat\n",
      "\n",
      "delta1_mat = rho1_mat\n",
      "delta2_mat = rho2_mat\n",
      "\n",
      "# overdispersion\n",
      "omega_mat = np.ones((df.shape[0],))\n",
      "zeta_mat = np.ones((df.shape[0],))\n",
      "\n",
      "# initialize pretty much at random (10% 1's)\n",
      "rand_frac = 0.1\n",
      "xi_mat = (rand_frac >= np.random.rand(T, K))\n",
      "xi_mat = xi_mat.astype('float')\n",
      "xi_mat[:, 0] = 1  # assume a baseline (category 0) always present"
     ],
     "language": "python",
     "metadata": {},
     "outputs": [],
     "prompt_number": 20
    },
    {
     "cell_type": "heading",
     "level": 1,
     "metadata": {},
     "source": [
      "Set up model"
     ]
    },
    {
     "cell_type": "code",
     "collapsed": false,
     "input": [
      "gpm = gp.GPModel(df, K, dt)"
     ],
     "language": "python",
     "metadata": {},
     "outputs": [],
     "prompt_number": 21
    },
    {
     "cell_type": "code",
     "collapsed": false,
     "input": [
      "# priors and initial values\n",
      "priors = {'cc': cmat, 'dd': dmat, 'nu1': nu1_mat, 'nu2': nu2_mat,\n",
      "          'rho1': rho1_mat, 'rho2': rho2_mat, 'ss':ss, 'rr': rr}\n",
      "\n",
      "inits = {'alpha': alpha_mat, 'beta': beta_mat, \n",
      "         'gamma1': gamma1_mat, 'gamma2': gamma2_mat,\n",
      "         'delta1': delta1_mat, 'delta2': delta2_mat,\n",
      "         'omega': omega_mat, 'zeta': zeta_mat,\n",
      "         'xi': xi_mat}"
     ],
     "language": "python",
     "metadata": {},
     "outputs": [],
     "prompt_number": 22
    },
    {
     "cell_type": "code",
     "collapsed": false,
     "input": [
      "gpm.set_priors(**priors).set_inits(**inits);"
     ],
     "language": "python",
     "metadata": {},
     "outputs": [],
     "prompt_number": 23
    },
    {
     "cell_type": "code",
     "collapsed": false,
     "input": [
      "print gpm.L()"
     ],
     "language": "python",
     "metadata": {},
     "outputs": [
      {
       "output_type": "stream",
       "stream": "stdout",
       "text": [
        "-483312.856278\n"
       ]
      }
     ],
     "prompt_number": 24
    },
    {
     "cell_type": "code",
     "collapsed": false,
     "input": [
      "gpm.do_inference(tol=1e-4, silent=False)"
     ],
     "language": "python",
     "metadata": {},
     "outputs": [
      {
       "output_type": "stream",
       "stream": "stdout",
       "text": [
        "Iteration 0: L = -483312.856278\n",
        "delta = 1\n",
        "chain 0: updated lambda: L = -291172.033777"
       ]
      },
      {
       "output_type": "stream",
       "stream": "stdout",
       "text": [
        "\n",
        "chain 0: updated A: L = -289645.449396\n",
        "chain 0: updated pi: L = -289645.142543\n",
        "chain 1: updated lambda: L = -266585.844219"
       ]
      },
      {
       "output_type": "stream",
       "stream": "stdout",
       "text": [
        "\n",
        "chain 1: updated A: L = -265059.259838\n",
        "chain 1: updated pi: L = -265058.952985\n",
        "chain 2: updated lambda: L = -243600.622627"
       ]
      },
      {
       "output_type": "stream",
       "stream": "stdout",
       "text": [
        "\n",
        "chain 2: updated A: L = -242074.038246\n",
        "chain 2: updated pi: L = -242073.731393\n",
        "chain 3: updated lambda: L = -221979.140286"
       ]
      },
      {
       "output_type": "stream",
       "stream": "stdout",
       "text": [
        "\n",
        "chain 3: updated A: L = -220452.555905\n",
        "chain 3: updated pi: L = -220452.249052\n",
        "chain 4: updated lambda: L = -199869.382333"
       ]
      },
      {
       "output_type": "stream",
       "stream": "stdout",
       "text": [
        "\n",
        "chain 4: updated A: L = -198342.797952\n",
        "chain 4: updated pi: L = -198342.491099\n",
        "chain 5: updated lambda: L = -177810.181213"
       ]
      },
      {
       "output_type": "stream",
       "stream": "stdout",
       "text": [
        "\n",
        "chain 5: updated A: L = -176283.596832\n",
        "chain 5: updated pi: L = -176283.289979\n",
        "chain 0: updated z: L = -176105.826557"
       ]
      },
      {
       "output_type": "stream",
       "stream": "stdout",
       "text": [
        "\n",
        "chain 1: updated z: L = -170122.071995"
       ]
      },
      {
       "output_type": "stream",
       "stream": "stdout",
       "text": [
        "\n",
        "chain 2: updated z: L = -163093.462459"
       ]
      },
      {
       "output_type": "stream",
       "stream": "stdout",
       "text": [
        "\n",
        "chain 3: updated z: L = -158458.87282"
       ]
      },
      {
       "output_type": "stream",
       "stream": "stdout",
       "text": [
        "\n",
        "chain 4: updated z: L = -155163.614205"
       ]
      },
      {
       "output_type": "stream",
       "stream": "stdout",
       "text": [
        "\n",
        "chain 5: updated z: L = -153313.231625"
       ]
      },
      {
       "output_type": "stream",
       "stream": "stdout",
       "text": [
        "\n",
        "Iteration 1: L = -153313.231625\n",
        "delta = 2.1524536477\n",
        "chain 0: updated lambda: L = -152953.320432"
       ]
      },
      {
       "output_type": "stream",
       "stream": "stdout",
       "text": [
        "\n",
        "chain 0: updated A: L = -149858.02513\n",
        "chain 0: updated pi: L = -149858.02513\n",
        "chain 1: updated lambda: L = -149628.125498"
       ]
      },
      {
       "output_type": "stream",
       "stream": "stdout",
       "text": [
        "\n",
        "chain 1: updated A: L = -149331.087889\n",
        "chain 1: updated pi: L = -149330.279467\n",
        "chain 2: updated lambda: L = -149060.315241"
       ]
      },
      {
       "output_type": "stream",
       "stream": "stdout",
       "text": [
        "\n",
        "chain 2: updated A: L = -148716.881879\n",
        "chain 2: updated pi: L = -148715.91355\n",
        "chain 3: updated lambda: L = -148614.931655"
       ]
      },
      {
       "output_type": "stream",
       "stream": "stdout",
       "text": [
        "\n",
        "chain 3: updated A: L = -148567.046138\n",
        "chain 3: updated pi: L = -148566.154234\n",
        "chain 4: updated lambda: L = -148355.495737"
       ]
      },
      {
       "output_type": "stream",
       "stream": "stdout",
       "text": [
        "\n",
        "chain 4: updated A: L = -148280.62085\n",
        "chain 4: updated pi: L = -148279.732053\n",
        "chain 5: updated lambda: L = -148114.697109"
       ]
      },
      {
       "output_type": "stream",
       "stream": "stdout",
       "text": [
        "\n",
        "chain 5: updated A: L = -147619.072238\n",
        "chain 5: updated pi: L = -147618.293915\n",
        "chain 0: updated z: L = -147434.473648"
       ]
      },
      {
       "output_type": "stream",
       "stream": "stdout",
       "text": [
        "\n",
        "chain 1: updated z: L = -147135.908416"
       ]
      },
      {
       "output_type": "stream",
       "stream": "stdout",
       "text": [
        "\n",
        "chain 2: updated z: L = -146569.721381"
       ]
      },
      {
       "output_type": "stream",
       "stream": "stdout",
       "text": [
        "\n",
        "chain 3: updated z: L = -146336.306269"
       ]
      },
      {
       "output_type": "stream",
       "stream": "stdout",
       "text": [
        "\n",
        "chain 4: updated z: L = -146003.112422"
       ]
      },
      {
       "output_type": "stream",
       "stream": "stdout",
       "text": [
        "\n",
        "chain 5: updated z: L = -145492.812259"
       ]
      },
      {
       "output_type": "stream",
       "stream": "stdout",
       "text": [
        "\n",
        "Iteration 2: L = -145492.812259\n",
        "delta = 0.0537512420351\n",
        "chain 0: updated lambda: L = -145056.939089"
       ]
      },
      {
       "output_type": "stream",
       "stream": "stdout",
       "text": [
        "\n",
        "chain 0: updated A: L = -145033.251683\n",
        "chain 0: updated pi: L = -145033.251683\n",
        "chain 1: updated lambda: L = -144765.374627"
       ]
      },
      {
       "output_type": "stream",
       "stream": "stdout",
       "text": [
        "\n",
        "chain 1: updated A: L = -144724.399857\n",
        "chain 1: updated pi: L = -144724.399304\n",
        "chain 2: updated lambda: L = -144277.499456"
       ]
      },
      {
       "output_type": "stream",
       "stream": "stdout",
       "text": [
        "\n",
        "chain 2: updated A: L = -144185.198207\n",
        "chain 2: updated pi: L = -144185.197264"
       ]
      },
      {
       "output_type": "stream",
       "stream": "stdout",
       "text": [
        "\n",
        "chain 3: updated lambda: L = -143855.29445\n",
        "chain 3: updated A: L = -143812.475617"
       ]
      },
      {
       "output_type": "stream",
       "stream": "stdout",
       "text": [
        "\n",
        "chain 3: updated pi: L = -143812.475482\n",
        "chain 4: updated lambda: L = -143333.001909"
       ]
      },
      {
       "output_type": "stream",
       "stream": "stdout",
       "text": [
        "\n",
        "chain 4: updated A: L = -143232.407648\n",
        "chain 4: updated pi: L = -143232.406385\n",
        "chain 5: updated lambda: L = -142149.030866"
       ]
      },
      {
       "output_type": "stream",
       "stream": "stdout",
       "text": [
        "\n",
        "chain 5: updated A: L = -142084.428395\n",
        "chain 5: updated pi: L = -142084.417961\n",
        "chain 0: updated z: L = -142052.783412"
       ]
      },
      {
       "output_type": "stream",
       "stream": "stdout",
       "text": [
        "\n",
        "chain 1: updated z: L = -141684.63789"
       ]
      },
      {
       "output_type": "stream",
       "stream": "stdout",
       "text": [
        "\n",
        "chain 2: updated z: L = -141352.774654"
       ]
      },
      {
       "output_type": "stream",
       "stream": "stdout",
       "text": [
        "\n",
        "chain 3: updated z: L = -140988.650675"
       ]
      },
      {
       "output_type": "stream",
       "stream": "stdout",
       "text": [
        "\n",
        "chain 4: updated z: L = -140525.280886"
       ]
      },
      {
       "output_type": "stream",
       "stream": "stdout",
       "text": [
        "\n",
        "chain 5: updated z: L = -139071.687208"
       ]
      },
      {
       "output_type": "stream",
       "stream": "stdout",
       "text": [
        "\n",
        "Iteration 3: L = -139071.687208\n",
        "delta = 0.0461713320657\n",
        "chain 0: updated lambda: L = -138876.208391"
       ]
      },
      {
       "output_type": "stream",
       "stream": "stdout",
       "text": [
        "\n",
        "chain 0: updated A: L = -138871.831351\n",
        "chain 0: updated pi: L = -138871.831351\n",
        "chain 1: updated lambda: L = -138285.383242"
       ]
      },
      {
       "output_type": "stream",
       "stream": "stdout",
       "text": [
        "\n",
        "chain 1: updated A: L = -138096.014629\n",
        "chain 1: updated pi: L = -138096.013166\n",
        "chain 2: updated lambda: L = -137824.83283"
       ]
      },
      {
       "output_type": "stream",
       "stream": "stdout",
       "text": [
        "\n",
        "chain 2: updated A: L = -137654.864698\n",
        "chain 2: updated pi: L = -137654.864666\n",
        "chain 3: updated lambda: L = -137358.439446"
       ]
      },
      {
       "output_type": "stream",
       "stream": "stdout",
       "text": [
        "\n",
        "chain 3: updated A: L = -137327.278971\n",
        "chain 3: updated pi: L = -137327.27758\n",
        "chain 4: updated lambda: L = -137135.602475"
       ]
      },
      {
       "output_type": "stream",
       "stream": "stdout",
       "text": [
        "\n",
        "chain 4: updated A: L = -136957.288903\n",
        "chain 4: updated pi: L = -136957.288669\n",
        "chain 5: updated lambda: L = -136305.139535"
       ]
      },
      {
       "output_type": "stream",
       "stream": "stdout",
       "text": [
        "\n",
        "chain 5: updated A: L = -135776.464301\n",
        "chain 5: updated pi: L = -135776.4643\n",
        "chain 0: updated z: L = -135762.831446"
       ]
      },
      {
       "output_type": "stream",
       "stream": "stdout",
       "text": [
        "\n",
        "chain 1: updated z: L = -135330.965016"
       ]
      },
      {
       "output_type": "stream",
       "stream": "stdout",
       "text": [
        "\n",
        "chain 2: updated z: L = -135095.320246"
       ]
      },
      {
       "output_type": "stream",
       "stream": "stdout",
       "text": [
        "\n",
        "chain 3: updated z: L = -134991.369069"
       ]
      },
      {
       "output_type": "stream",
       "stream": "stdout",
       "text": [
        "\n",
        "chain 4: updated z: L = -134770.57853"
       ]
      },
      {
       "output_type": "stream",
       "stream": "stdout",
       "text": [
        "\n",
        "chain 5: updated z: L = -134073.334173"
       ]
      },
      {
       "output_type": "stream",
       "stream": "stdout",
       "text": [
        "\n",
        "Iteration 4: L = -134073.334173\n",
        "delta = 0.0372807394214\n",
        "chain 0: updated lambda: L = -133899.210578"
       ]
      },
      {
       "output_type": "stream",
       "stream": "stdout",
       "text": [
        "\n",
        "chain 0: updated A: L = -133897.181506\n",
        "chain 0: updated pi: L = -133897.181505\n",
        "chain 1: updated lambda: L = -133487.189882"
       ]
      },
      {
       "output_type": "stream",
       "stream": "stdout",
       "text": [
        "\n",
        "chain 1: updated A: L = -133259.791612\n",
        "chain 1: updated pi: L = -133259.786627\n",
        "chain 2: updated lambda: L = -133046.394846"
       ]
      },
      {
       "output_type": "stream",
       "stream": "stdout",
       "text": [
        "\n",
        "chain 2: updated A: L = -132976.679484\n",
        "chain 2: updated pi: L = -132976.676982\n",
        "chain 3: updated lambda: L = -132926.943591"
       ]
      },
      {
       "output_type": "stream",
       "stream": "stdout",
       "text": [
        "\n",
        "chain 3: updated A: L = -132916.062774\n",
        "chain 3: updated pi: L = -132916.045456\n",
        "chain 4: updated lambda: L = -132781.808357"
       ]
      },
      {
       "output_type": "stream",
       "stream": "stdout",
       "text": [
        "\n",
        "chain 4: updated A: L = -132688.568784\n",
        "chain 4: updated pi: L = -132688.56878\n",
        "chain 5: updated lambda: L = -132328.531852"
       ]
      },
      {
       "output_type": "stream",
       "stream": "stdout",
       "text": [
        "\n",
        "chain 5: updated A: L = -132031.133699\n",
        "chain 5: updated pi: L = -132031.133573\n",
        "chain 0: updated z: L = -132016.738676"
       ]
      },
      {
       "output_type": "stream",
       "stream": "stdout",
       "text": [
        "\n",
        "chain 1: updated z: L = -131825.229061"
       ]
      },
      {
       "output_type": "stream",
       "stream": "stdout",
       "text": [
        "\n",
        "chain 2: updated z: L = -131657.062054"
       ]
      },
      {
       "output_type": "stream",
       "stream": "stdout",
       "text": [
        "\n",
        "chain 3: updated z: L = -131562.263963"
       ]
      },
      {
       "output_type": "stream",
       "stream": "stdout",
       "text": [
        "\n",
        "chain 4: updated z: L = -131336.77831"
       ]
      },
      {
       "output_type": "stream",
       "stream": "stdout",
       "text": [
        "\n",
        "chain 5: updated z: L = -131192.444804"
       ]
      },
      {
       "output_type": "stream",
       "stream": "stdout",
       "text": [
        "\n",
        "Iteration 5: L = -131192.444804\n",
        "delta = 0.021959262776\n",
        "chain 0: updated lambda: L = -130957.651121"
       ]
      },
      {
       "output_type": "stream",
       "stream": "stdout",
       "text": [
        "\n",
        "chain 0: updated A: L = -130956.289662\n",
        "chain 0: updated pi: L = -130956.289662\n",
        "chain 1: updated lambda: L = -130793.776509"
       ]
      },
      {
       "output_type": "stream",
       "stream": "stdout",
       "text": [
        "\n",
        "chain 1: updated A: L = -130709.226701\n",
        "chain 1: updated pi: L = -130709.22637\n",
        "chain 2: updated lambda: L = -130595.588647"
       ]
      },
      {
       "output_type": "stream",
       "stream": "stdout",
       "text": [
        "\n",
        "chain 2: updated A: L = -130554.600466\n",
        "chain 2: updated pi: L = -130554.576229\n",
        "chain 3: updated lambda: L = -130527.394143"
       ]
      },
      {
       "output_type": "stream",
       "stream": "stdout",
       "text": [
        "\n",
        "chain 3: updated A: L = -130520.569512\n",
        "chain 3: updated pi: L = -130520.5419\n",
        "chain 4: updated lambda: L = -130339.122355"
       ]
      },
      {
       "output_type": "stream",
       "stream": "stdout",
       "text": [
        "\n",
        "chain 4: updated A: L = -130280.445833\n",
        "chain 4: updated pi: L = -130280.445833\n",
        "chain 5: updated lambda: L = -130140.211591"
       ]
      },
      {
       "output_type": "stream",
       "stream": "stdout",
       "text": [
        "\n",
        "chain 5: updated A: L = -130116.917084\n",
        "chain 5: updated pi: L = -130116.914696\n",
        "chain 0: updated z: L = -130108.734176"
       ]
      },
      {
       "output_type": "stream",
       "stream": "stdout",
       "text": [
        "\n",
        "chain 1: updated z: L = -130007.843754"
       ]
      },
      {
       "output_type": "stream",
       "stream": "stdout",
       "text": [
        "\n",
        "chain 2: updated z: L = -129858.839945"
       ]
      },
      {
       "output_type": "stream",
       "stream": "stdout",
       "text": [
        "\n",
        "chain 3: updated z: L = -129826.159562"
       ]
      },
      {
       "output_type": "stream",
       "stream": "stdout",
       "text": [
        "\n",
        "chain 4: updated z: L = -129677.391266"
       ]
      },
      {
       "output_type": "stream",
       "stream": "stdout",
       "text": [
        "\n",
        "chain 5: updated z: L = -129668.751361"
       ]
      },
      {
       "output_type": "stream",
       "stream": "stdout",
       "text": [
        "\n",
        "Iteration 6: L = -129668.751361\n",
        "delta = 0.0117506602489\n",
        "chain 0: updated lambda: L = -129455.46184"
       ]
      },
      {
       "output_type": "stream",
       "stream": "stdout",
       "text": [
        "\n",
        "chain 0: updated A: L = -129454.814279\n",
        "chain 0: updated pi: L = -129454.814279\n",
        "chain 1: updated lambda: L = -129375.084933"
       ]
      },
      {
       "output_type": "stream",
       "stream": "stdout",
       "text": [
        "\n",
        "chain 1: updated A: L = -129354.075461\n",
        "chain 1: updated pi: L = -129354.075457\n",
        "chain 2: updated lambda: L = -129288.857417"
       ]
      },
      {
       "output_type": "stream",
       "stream": "stdout",
       "text": [
        "\n",
        "chain 2: updated A: L = -129266.569599\n",
        "chain 2: updated pi: L = -129266.517619\n",
        "chain 3: updated lambda: L = -129240.234562"
       ]
      },
      {
       "output_type": "stream",
       "stream": "stdout",
       "text": [
        "\n",
        "chain 3: updated A: L = -129238.040545\n",
        "chain 3: updated pi: L = -129238.032585\n",
        "chain 4: updated lambda: L = -129068.911216"
       ]
      },
      {
       "output_type": "stream",
       "stream": "stdout",
       "text": [
        "\n",
        "chain 4: updated A: L = -129045.644486\n",
        "chain 4: updated pi: L = -129045.644486\n",
        "chain 5: updated lambda: L = -128943.10763"
       ]
      },
      {
       "output_type": "stream",
       "stream": "stdout",
       "text": [
        "\n",
        "chain 5: updated A: L = -128942.836184\n",
        "chain 5: updated pi: L = -128942.828974\n",
        "chain 0: updated z: L = -128942.808805"
       ]
      },
      {
       "output_type": "stream",
       "stream": "stdout",
       "text": [
        "\n",
        "chain 1: updated z: L = -128899.959508"
       ]
      },
      {
       "output_type": "stream",
       "stream": "stdout",
       "text": [
        "\n",
        "chain 2: updated z: L = -128840.368098"
       ]
      },
      {
       "output_type": "stream",
       "stream": "stdout",
       "text": [
        "\n",
        "chain 3: updated z: L = -128821.126395"
       ]
      },
      {
       "output_type": "stream",
       "stream": "stdout",
       "text": [
        "\n",
        "chain 4: updated z: L = -128714.152934"
       ]
      },
      {
       "output_type": "stream",
       "stream": "stdout",
       "text": [
        "\n",
        "chain 5: updated z: L = -128713.59534"
       ]
      },
      {
       "output_type": "stream",
       "stream": "stdout",
       "text": [
        "\n",
        "Iteration 7: L = -128713.59534\n",
        "delta = 0.00742078580817\n",
        "chain 0: updated lambda: L = -128542.182137"
       ]
      },
      {
       "output_type": "stream",
       "stream": "stdout",
       "text": [
        "\n",
        "chain 0: updated A: L = -128542.181807\n",
        "chain 0: updated pi: L = -128542.181807\n",
        "chain 1: updated lambda: L = -128487.542565"
       ]
      },
      {
       "output_type": "stream",
       "stream": "stdout",
       "text": [
        "\n",
        "chain 1: updated A: L = -128483.620276\n",
        "chain 1: updated pi: L = -128483.620276\n",
        "chain 2: updated lambda: L = -128442.473912"
       ]
      },
      {
       "output_type": "stream",
       "stream": "stdout",
       "text": [
        "\n",
        "chain 2: updated A: L = -128437.96751\n",
        "chain 2: updated pi: L = -128437.904996\n",
        "chain 3: updated lambda: L = -128417.585048"
       ]
      },
      {
       "output_type": "stream",
       "stream": "stdout",
       "text": [
        "\n",
        "chain 3: updated A: L = -128417.305465\n",
        "chain 3: updated pi: L = -128417.305383\n",
        "chain 4: updated lambda: L = -128301.241588"
       ]
      },
      {
       "output_type": "stream",
       "stream": "stdout",
       "text": [
        "\n",
        "chain 4: updated A: L = -128293.495653\n",
        "chain 4: updated pi: L = -128293.495653\n",
        "chain 5: updated lambda: L = -128196.660547"
       ]
      },
      {
       "output_type": "stream",
       "stream": "stdout",
       "text": [
        "\n",
        "chain 5: updated A: L = -128196.66024\n",
        "chain 5: updated pi: L = -128196.639355\n",
        "chain 0: updated z: L = -128196.63855"
       ]
      },
      {
       "output_type": "stream",
       "stream": "stdout",
       "text": [
        "\n",
        "chain 1: updated z: L = -128188.565235"
       ]
      },
      {
       "output_type": "stream",
       "stream": "stdout",
       "text": [
        "\n",
        "chain 2: updated z: L = -128156.230988"
       ]
      },
      {
       "output_type": "stream",
       "stream": "stdout",
       "text": [
        "\n",
        "chain 3: updated z: L = -128142.737935"
       ]
      },
      {
       "output_type": "stream",
       "stream": "stdout",
       "text": [
        "\n",
        "chain 4: updated z: L = -128048.824652"
       ]
      },
      {
       "output_type": "stream",
       "stream": "stdout",
       "text": [
        "\n",
        "chain 5: updated z: L = -128048.209913"
       ]
      },
      {
       "output_type": "stream",
       "stream": "stdout",
       "text": [
        "\n",
        "Iteration 8: L = -128048.209913\n",
        "delta = 0.00519636648944\n",
        "chain 0: updated lambda: L = -127908.404871"
       ]
      },
      {
       "output_type": "stream",
       "stream": "stdout",
       "text": [
        "\n",
        "chain 0: updated A: L = -127908.404868\n",
        "chain 0: updated pi: L = -127908.404868\n",
        "chain 1: updated lambda: L = -127868.658208"
       ]
      },
      {
       "output_type": "stream",
       "stream": "stdout",
       "text": [
        "\n",
        "chain 1: updated A: L = -127868.424802\n",
        "chain 1: updated pi: L = -127868.424802\n",
        "chain 2: updated lambda: L = -127838.753011"
       ]
      },
      {
       "output_type": "stream",
       "stream": "stdout",
       "text": [
        "\n",
        "chain 2: updated A: L = -127838.408838\n",
        "chain 2: updated pi: L = -127838.384691\n",
        "chain 3: updated lambda: L = -127828.402571"
       ]
      },
      {
       "output_type": "stream",
       "stream": "stdout",
       "text": [
        "\n",
        "chain 3: updated A: L = -127828.378097\n",
        "chain 3: updated pi: L = -127828.372607\n",
        "chain 4: updated lambda: L = -127761.155997"
       ]
      },
      {
       "output_type": "stream",
       "stream": "stdout",
       "text": [
        "\n",
        "chain 4: updated A: L = -127756.821682\n",
        "chain 4: updated pi: L = -127756.82167\n",
        "chain 5: updated lambda: L = -127663.831459"
       ]
      },
      {
       "output_type": "stream",
       "stream": "stdout",
       "text": [
        "\n",
        "chain 5: updated A: L = -127663.830935\n",
        "chain 5: updated pi: L = -127663.756023\n",
        "chain 0: updated z: L = -127663.755587"
       ]
      },
      {
       "output_type": "stream",
       "stream": "stdout",
       "text": [
        "\n",
        "chain 1: updated z: L = -127660.823778"
       ]
      },
      {
       "output_type": "stream",
       "stream": "stdout",
       "text": [
        "\n",
        "chain 2: updated z: L = -127635.993242"
       ]
      },
      {
       "output_type": "stream",
       "stream": "stdout",
       "text": [
        "\n",
        "chain 3: updated z: L = -127627.892775"
       ]
      },
      {
       "output_type": "stream",
       "stream": "stdout",
       "text": [
        "\n",
        "chain 4: updated z: L = -127555.623345"
       ]
      },
      {
       "output_type": "stream",
       "stream": "stdout",
       "text": [
        "\n",
        "chain 5: updated z: L = -127554.786374"
       ]
      },
      {
       "output_type": "stream",
       "stream": "stdout",
       "text": [
        "\n",
        "Iteration 9: L = -127554.786374\n",
        "delta = 0.00386832633372\n",
        "chain 0: updated lambda: L = -127450.057893"
       ]
      },
      {
       "output_type": "stream",
       "stream": "stdout",
       "text": [
        "\n",
        "chain 0: updated A: L = -127450.057892\n",
        "chain 0: updated pi: L = -127450.057892\n",
        "chain 1: updated lambda: L = -127422.13397"
       ]
      },
      {
       "output_type": "stream",
       "stream": "stdout",
       "text": [
        "\n",
        "chain 1: updated A: L = -127422.123403\n",
        "chain 1: updated pi: L = -127422.123403\n",
        "chain 2: updated lambda: L = -127387.314462"
       ]
      },
      {
       "output_type": "stream",
       "stream": "stdout",
       "text": [
        "\n",
        "chain 2: updated A: L = -127387.270427\n",
        "chain 2: updated pi: L = -127387.265928\n",
        "chain 3: updated lambda: L = -127380.73598"
       ]
      },
      {
       "output_type": "stream",
       "stream": "stdout",
       "text": [
        "\n",
        "chain 3: updated A: L = -127380.7354\n",
        "chain 3: updated pi: L = -127380.707642\n",
        "chain 4: updated lambda: L = -127333.04169"
       ]
      },
      {
       "output_type": "stream",
       "stream": "stdout",
       "text": [
        "\n",
        "chain 4: updated A: L = -127328.296993\n",
        "chain 4: updated pi: L = -127328.296917\n",
        "chain 5: updated lambda: L = -127247.207625"
       ]
      },
      {
       "output_type": "stream",
       "stream": "stdout",
       "text": [
        "\n",
        "chain 5: updated A: L = -127247.206477\n",
        "chain 5: updated pi: L = -127247.133274\n",
        "chain 0: updated z: L = -127247.133039"
       ]
      },
      {
       "output_type": "stream",
       "stream": "stdout",
       "text": [
        "\n",
        "chain 1: updated z: L = -127245.522725"
       ]
      },
      {
       "output_type": "stream",
       "stream": "stdout",
       "text": [
        "\n",
        "chain 2: updated z: L = -127210.551263"
       ]
      },
      {
       "output_type": "stream",
       "stream": "stdout",
       "text": [
        "\n",
        "chain 3: updated z: L = -127205.925854"
       ]
      },
      {
       "output_type": "stream",
       "stream": "stdout",
       "text": [
        "\n",
        "chain 4: updated z: L = -127119.416177"
       ]
      },
      {
       "output_type": "stream",
       "stream": "stdout",
       "text": [
        "\n",
        "chain 5: updated z: L = -127118.603494"
       ]
      },
      {
       "output_type": "stream",
       "stream": "stdout",
       "text": [
        "\n",
        "Iteration 10: L = -127118.603494\n",
        "delta = 0.00343130641416\n",
        "chain 0: updated lambda: L = -127048.628705"
       ]
      },
      {
       "output_type": "stream",
       "stream": "stdout",
       "text": [
        "\n",
        "chain 0: updated A: L = -127048.628704\n",
        "chain 0: updated pi: L = -127048.628704\n",
        "chain 1: updated lambda: L = -127029.164759"
       ]
      },
      {
       "output_type": "stream",
       "stream": "stdout",
       "text": [
        "\n",
        "chain 1: updated A: L = -127029.164214\n",
        "chain 1: updated pi: L = -127029.164214\n",
        "chain 2: updated lambda: L = -126986.451424"
       ]
      },
      {
       "output_type": "stream",
       "stream": "stdout",
       "text": [
        "\n",
        "chain 2: updated A: L = -126985.943495\n",
        "chain 2: updated pi: L = -126985.942873\n",
        "chain 3: updated lambda: L = -126979.193698"
       ]
      },
      {
       "output_type": "stream",
       "stream": "stdout",
       "text": [
        "\n",
        "chain 3: updated A: L = -126979.165498\n",
        "chain 3: updated pi: L = -126979.149098\n",
        "chain 4: updated lambda: L = -126929.198309"
       ]
      },
      {
       "output_type": "stream",
       "stream": "stdout",
       "text": [
        "\n",
        "chain 4: updated A: L = -126924.168279\n",
        "chain 4: updated pi: L = -126924.167768\n",
        "chain 5: updated lambda: L = -126860.799597"
       ]
      },
      {
       "output_type": "stream",
       "stream": "stdout",
       "text": [
        "\n",
        "chain 5: updated A: L = -126860.797916\n",
        "chain 5: updated pi: L = -126860.788976\n",
        "chain 0: updated z: L = -126860.788913"
       ]
      },
      {
       "output_type": "stream",
       "stream": "stdout",
       "text": [
        "\n",
        "chain 1: updated z: L = -126859.853337"
       ]
      },
      {
       "output_type": "stream",
       "stream": "stdout",
       "text": [
        "\n",
        "chain 2: updated z: L = -126814.337081"
       ]
      },
      {
       "output_type": "stream",
       "stream": "stdout",
       "text": [
        "\n",
        "chain 3: updated z: L = -126809.378717"
       ]
      },
      {
       "output_type": "stream",
       "stream": "stdout",
       "text": [
        "\n",
        "chain 4: updated z: L = -126766.086293"
       ]
      },
      {
       "output_type": "stream",
       "stream": "stdout",
       "text": [
        "\n",
        "chain 5: updated z: L = -126765.73166"
       ]
      },
      {
       "output_type": "stream",
       "stream": "stdout",
       "text": [
        "\n",
        "Iteration 11: L = -126765.73166\n",
        "delta = 0.0027836531984\n",
        "chain 0: updated lambda: L = -126733.891799"
       ]
      },
      {
       "output_type": "stream",
       "stream": "stdout",
       "text": [
        "\n",
        "chain 0: updated A: L = -126733.891799\n",
        "chain 0: updated pi: L = -126733.891799\n",
        "chain 1: updated lambda: L = -126722.257196"
       ]
      },
      {
       "output_type": "stream",
       "stream": "stdout",
       "text": [
        "\n",
        "chain 1: updated A: L = -126722.256102\n",
        "chain 1: updated pi: L = -126722.256102\n",
        "chain 2: updated lambda: L = -126688.861593"
       ]
      },
      {
       "output_type": "stream",
       "stream": "stdout",
       "text": [
        "\n",
        "chain 2: updated A: L = -126687.873166\n",
        "chain 2: updated pi: L = -126687.873121\n",
        "chain 3: updated lambda: L = -126680.968458"
       ]
      },
      {
       "output_type": "stream",
       "stream": "stdout",
       "text": [
        "\n",
        "chain 3: updated A: L = -126680.903904\n",
        "chain 3: updated pi: L = -126680.902686\n",
        "chain 4: updated lambda: L = -126653.165447"
       ]
      },
      {
       "output_type": "stream",
       "stream": "stdout",
       "text": [
        "\n",
        "chain 4: updated A: L = -126651.20973\n",
        "chain 4: updated pi: L = -126651.208113\n",
        "chain 5: updated lambda: L = -126616.202261"
       ]
      },
      {
       "output_type": "stream",
       "stream": "stdout",
       "text": [
        "\n",
        "chain 5: updated A: L = -126616.201949\n",
        "chain 5: updated pi: L = -126616.201649\n",
        "chain 0: updated z: L = -126616.201622"
       ]
      },
      {
       "output_type": "stream",
       "stream": "stdout",
       "text": [
        "\n",
        "chain 1: updated z: L = -126615.523177"
       ]
      },
      {
       "output_type": "stream",
       "stream": "stdout",
       "text": [
        "\n",
        "chain 2: updated z: L = -126584.278877"
       ]
      },
      {
       "output_type": "stream",
       "stream": "stdout",
       "text": [
        "\n",
        "chain 3: updated z: L = -126580.56836"
       ]
      },
      {
       "output_type": "stream",
       "stream": "stdout",
       "text": [
        "\n",
        "chain 4: updated z: L = -126567.82104"
       ]
      },
      {
       "output_type": "stream",
       "stream": "stdout",
       "text": [
        "\n",
        "chain 5: updated z: L = -126567.713218"
       ]
      },
      {
       "output_type": "stream",
       "stream": "stdout",
       "text": [
        "\n",
        "Iteration 12: L = -126567.713218\n",
        "delta = 0.00156452571141\n",
        "chain 0: updated lambda: L = -126552.508203"
       ]
      },
      {
       "output_type": "stream",
       "stream": "stdout",
       "text": [
        "\n",
        "chain 0: updated A: L = -126552.508203\n",
        "chain 0: updated pi: L = -126552.508203\n",
        "chain 1: updated lambda: L = -126545.268934"
       ]
      },
      {
       "output_type": "stream",
       "stream": "stdout",
       "text": [
        "\n",
        "chain 1: updated A: L = -126545.268804\n",
        "chain 1: updated pi: L = -126545.268804\n",
        "chain 2: updated lambda: L = -126525.762322"
       ]
      },
      {
       "output_type": "stream",
       "stream": "stdout",
       "text": [
        "\n",
        "chain 2: updated A: L = -126524.616005\n",
        "chain 2: updated pi: L = -126524.616005\n",
        "chain 3: updated lambda: L = -126519.206558"
       ]
      },
      {
       "output_type": "stream",
       "stream": "stdout",
       "text": [
        "\n",
        "chain 3: updated A: L = -126519.075858\n",
        "chain 3: updated pi: L = -126519.075843\n",
        "chain 4: updated lambda: L = -126502.653231"
       ]
      },
      {
       "output_type": "stream",
       "stream": "stdout",
       "text": [
        "\n",
        "chain 4: updated A: L = -126502.351075\n",
        "chain 4: updated pi: L = -126502.348573\n",
        "chain 5: updated lambda: L = -126484.742023"
       ]
      },
      {
       "output_type": "stream",
       "stream": "stdout",
       "text": [
        "\n",
        "chain 5: updated A: L = -126484.741499\n",
        "chain 5: updated pi: L = -126484.741492\n",
        "chain 0: updated z: L = -126484.741468"
       ]
      },
      {
       "output_type": "stream",
       "stream": "stdout",
       "text": [
        "\n",
        "chain 1: updated z: L = -126484.380607"
       ]
      },
      {
       "output_type": "stream",
       "stream": "stdout",
       "text": [
        "\n",
        "chain 2: updated z: L = -126468.866189"
       ]
      },
      {
       "output_type": "stream",
       "stream": "stdout",
       "text": [
        "\n",
        "chain 3: updated z: L = -126466.260864"
       ]
      },
      {
       "output_type": "stream",
       "stream": "stdout",
       "text": [
        "\n",
        "chain 4: updated z: L = -126465.418673"
       ]
      },
      {
       "output_type": "stream",
       "stream": "stdout",
       "text": [
        "\n",
        "chain 5: updated z: L = -126465.320638"
       ]
      },
      {
       "output_type": "stream",
       "stream": "stdout",
       "text": [
        "\n",
        "Iteration 13: L = -126465.320638\n",
        "delta = 0.000809649473751\n",
        "chain 0: updated lambda: L = -126455.811153"
       ]
      },
      {
       "output_type": "stream",
       "stream": "stdout",
       "text": [
        "\n",
        "chain 0: updated A: L = -126455.811153\n",
        "chain 0: updated pi: L = -126455.811153\n",
        "chain 1: updated lambda: L = -126450.854535"
       ]
      },
      {
       "output_type": "stream",
       "stream": "stdout",
       "text": [
        "\n",
        "chain 1: updated A: L = -126450.854314\n",
        "chain 1: updated pi: L = -126450.854314\n",
        "chain 2: updated lambda: L = -126439.519978"
       ]
      },
      {
       "output_type": "stream",
       "stream": "stdout",
       "text": [
        "\n",
        "chain 2: updated A: L = -126438.571677\n",
        "chain 2: updated pi: L = -126438.571674\n",
        "chain 3: updated lambda: L = -126434.15654"
       ]
      },
      {
       "output_type": "stream",
       "stream": "stdout",
       "text": [
        "\n",
        "chain 3: updated A: L = -126434.009509\n",
        "chain 3: updated pi: L = -126434.009505\n",
        "chain 4: updated lambda: L = -126423.134256"
       ]
      },
      {
       "output_type": "stream",
       "stream": "stdout",
       "text": [
        "\n",
        "chain 4: updated A: L = -126423.126585\n",
        "chain 4: updated pi: L = -126423.124398\n",
        "chain 5: updated lambda: L = -126414.607935"
       ]
      },
      {
       "output_type": "stream",
       "stream": "stdout",
       "text": [
        "\n",
        "chain 5: updated A: L = -126414.606618\n",
        "chain 5: updated pi: L = -126414.606618\n",
        "chain 0: updated z: L = -126414.60661"
       ]
      },
      {
       "output_type": "stream",
       "stream": "stdout",
       "text": [
        "\n",
        "chain 1: updated z: L = -126414.482845"
       ]
      },
      {
       "output_type": "stream",
       "stream": "stdout",
       "text": [
        "\n",
        "chain 2: updated z: L = -126406.544393"
       ]
      },
      {
       "output_type": "stream",
       "stream": "stdout",
       "text": [
        "\n",
        "chain 3: updated z: L = -126404.502519"
       ]
      },
      {
       "output_type": "stream",
       "stream": "stdout",
       "text": [
        "\n",
        "chain 4: updated z: L = -126404.259375"
       ]
      },
      {
       "output_type": "stream",
       "stream": "stdout",
       "text": [
        "\n",
        "chain 5: updated z: L = -126404.143943"
       ]
      },
      {
       "output_type": "stream",
       "stream": "stdout",
       "text": [
        "\n",
        "Iteration 14: L = -126404.143943\n",
        "delta = 0.000483976973135\n",
        "chain 0: updated lambda: L = -126397.434097"
       ]
      },
      {
       "output_type": "stream",
       "stream": "stdout",
       "text": [
        "\n",
        "chain 0: updated A: L = -126397.434097\n",
        "chain 0: updated pi: L = -126397.434097\n",
        "chain 1: updated lambda: L = -126393.499318"
       ]
      },
      {
       "output_type": "stream",
       "stream": "stdout",
       "text": [
        "\n",
        "chain 1: updated A: L = -126393.499116\n",
        "chain 1: updated pi: L = -126393.499116\n",
        "chain 2: updated lambda: L = -126386.451024"
       ]
      },
      {
       "output_type": "stream",
       "stream": "stdout",
       "text": [
        "\n",
        "chain 2: updated A: L = -126385.622723\n",
        "chain 2: updated pi: L = -126385.622718\n",
        "chain 3: updated lambda: L = -126381.808371"
       ]
      },
      {
       "output_type": "stream",
       "stream": "stdout",
       "text": [
        "\n",
        "chain 3: updated A: L = -126381.670703\n",
        "chain 3: updated pi: L = -126381.670696\n",
        "chain 4: updated lambda: L = -126374.692956"
       ]
      },
      {
       "output_type": "stream",
       "stream": "stdout",
       "text": [
        "\n",
        "chain 4: updated A: L = -126374.692927\n",
        "chain 4: updated pi: L = -126374.691554\n",
        "chain 5: updated lambda: L = -126370.656379"
       ]
      },
      {
       "output_type": "stream",
       "stream": "stdout",
       "text": [
        "\n",
        "chain 5: updated A: L = -126370.654301\n",
        "chain 5: updated pi: L = -126370.654301\n",
        "chain 0: updated z: L = -126370.654295"
       ]
      },
      {
       "output_type": "stream",
       "stream": "stdout",
       "text": [
        "\n",
        "chain 1: updated z: L = -126370.589376"
       ]
      },
      {
       "output_type": "stream",
       "stream": "stdout",
       "text": [
        "\n",
        "chain 2: updated z: L = -126364.825002"
       ]
      },
      {
       "output_type": "stream",
       "stream": "stdout",
       "text": [
        "\n",
        "chain 3: updated z: L = -126363.062724"
       ]
      },
      {
       "output_type": "stream",
       "stream": "stdout",
       "text": [
        "\n",
        "chain 4: updated z: L = -126362.912069"
       ]
      },
      {
       "output_type": "stream",
       "stream": "stdout",
       "text": [
        "\n",
        "chain 5: updated z: L = -126362.778821"
       ]
      },
      {
       "output_type": "stream",
       "stream": "stdout",
       "text": [
        "\n",
        "Iteration 15: L = -126362.778821\n",
        "delta = 0.000327352109483\n",
        "chain 0: updated lambda: L = -126357.871486"
       ]
      },
      {
       "output_type": "stream",
       "stream": "stdout",
       "text": [
        "\n",
        "chain 0: updated A: L = -126357.871486\n",
        "chain 0: updated pi: L = -126357.871486\n",
        "chain 1: updated lambda: L = -126354.305363"
       ]
      },
      {
       "output_type": "stream",
       "stream": "stdout",
       "text": [
        "\n",
        "chain 1: updated A: L = -126354.305258\n",
        "chain 1: updated pi: L = -126354.305258\n",
        "chain 2: updated lambda: L = -126349.827144"
       ]
      },
      {
       "output_type": "stream",
       "stream": "stdout",
       "text": [
        "\n",
        "chain 2: updated A: L = -126348.972218\n",
        "chain 2: updated pi: L = -126348.972213"
       ]
      },
      {
       "output_type": "stream",
       "stream": "stdout",
       "text": [
        "\n",
        "chain 3: updated lambda: L = -126345.705638\n",
        "chain 3: updated A: L = -126345.582977"
       ]
      },
      {
       "output_type": "stream",
       "stream": "stdout",
       "text": [
        "\n",
        "chain 3: updated pi: L = -126345.582971\n",
        "chain 4: updated lambda: L = -126341.210143"
       ]
      },
      {
       "output_type": "stream",
       "stream": "stdout",
       "text": [
        "\n",
        "chain 4: updated A: L = -126341.209845\n",
        "chain 4: updated pi: L = -126341.208996"
       ]
      },
      {
       "output_type": "stream",
       "stream": "stdout",
       "text": [
        "\n",
        "chain 5: updated lambda: L = -126339.267879"
       ]
      },
      {
       "output_type": "stream",
       "stream": "stdout",
       "text": [
        "\n",
        "chain 5: updated A: L = -126339.265489\n",
        "chain 5: updated pi: L = -126339.265489"
       ]
      },
      {
       "output_type": "stream",
       "stream": "stdout",
       "text": [
        "\n",
        "chain 0: updated z: L = -126339.265484"
       ]
      },
      {
       "output_type": "stream",
       "stream": "stdout",
       "text": [
        "\n",
        "chain 1: updated z: L = -126339.214626"
       ]
      },
      {
       "output_type": "stream",
       "stream": "stdout",
       "text": [
        "\n",
        "chain 2: updated z: L = -126334.474785"
       ]
      },
      {
       "output_type": "stream",
       "stream": "stdout",
       "text": [
        "\n",
        "chain 3: updated z: L = -126332.934844"
       ]
      },
      {
       "output_type": "stream",
       "stream": "stdout",
       "text": [
        "\n",
        "chain 4: updated z: L = -126332.846744"
       ]
      },
      {
       "output_type": "stream",
       "stream": "stdout",
       "text": [
        "\n",
        "chain 5: updated z: L = -126332.705845"
       ]
      },
      {
       "output_type": "stream",
       "stream": "stdout",
       "text": [
        "\n",
        "Iteration 16: L = -126332.705845\n",
        "delta = 0.000238045846446\n",
        "chain 0: updated lambda: L = -126329.024778"
       ]
      },
      {
       "output_type": "stream",
       "stream": "stdout",
       "text": [
        "\n",
        "chain 0: updated A: L = -126329.024778\n",
        "chain 0: updated pi: L = -126329.024778\n",
        "chain 1: updated lambda: L = -126325.617854"
       ]
      },
      {
       "output_type": "stream",
       "stream": "stdout",
       "text": [
        "\n",
        "chain 1: updated A: L = -126325.617798\n",
        "chain 1: updated pi: L = -126325.617798\n",
        "chain 2: updated lambda: L = -126322.683282"
       ]
      },
      {
       "output_type": "stream",
       "stream": "stdout",
       "text": [
        "\n",
        "chain 2: updated A: L = -126321.705932\n",
        "chain 2: updated pi: L = -126321.705928\n",
        "chain 3: updated lambda: L = -126318.945693"
       ]
      },
      {
       "output_type": "stream",
       "stream": "stdout",
       "text": [
        "\n",
        "chain 3: updated A: L = -126318.839416\n",
        "chain 3: updated pi: L = -126318.839411\n",
        "chain 4: updated lambda: L = -126316.190565"
       ]
      },
      {
       "output_type": "stream",
       "stream": "stdout",
       "text": [
        "\n",
        "chain 4: updated A: L = -126316.190341\n",
        "chain 4: updated pi: L = -126316.189863\n",
        "chain 5: updated lambda: L = -126315.206568"
       ]
      },
      {
       "output_type": "stream",
       "stream": "stdout",
       "text": [
        "\n",
        "chain 5: updated A: L = -126315.204589\n",
        "chain 5: updated pi: L = -126315.204589\n",
        "chain 0: updated z: L = -126315.204586"
       ]
      },
      {
       "output_type": "stream",
       "stream": "stdout",
       "text": [
        "\n",
        "chain 1: updated z: L = -126315.15249"
       ]
      },
      {
       "output_type": "stream",
       "stream": "stdout",
       "text": [
        "\n",
        "chain 2: updated z: L = -126310.836193"
       ]
      },
      {
       "output_type": "stream",
       "stream": "stdout",
       "text": [
        "\n",
        "chain 3: updated z: L = -126309.521093"
       ]
      },
      {
       "output_type": "stream",
       "stream": "stdout",
       "text": [
        "\n",
        "chain 4: updated z: L = -126309.469269"
       ]
      },
      {
       "output_type": "stream",
       "stream": "stdout",
       "text": [
        "\n",
        "chain 5: updated z: L = -126309.372316"
       ]
      },
      {
       "output_type": "stream",
       "stream": "stdout",
       "text": [
        "\n",
        "Iteration 17: L = -126309.372316\n",
        "delta = 0.000184733155005\n",
        "chain 0: updated lambda: L = -126306.539864"
       ]
      },
      {
       "output_type": "stream",
       "stream": "stdout",
       "text": [
        "\n",
        "chain 0: updated A: L = -126306.539864\n",
        "chain 0: updated pi: L = -126306.539864\n",
        "chain 1: updated lambda: L = -126303.271707"
       ]
      },
      {
       "output_type": "stream",
       "stream": "stdout",
       "text": [
        "\n",
        "chain 1: updated A: L = -126303.271678\n",
        "chain 1: updated pi: L = -126303.271678\n",
        "chain 2: updated lambda: L = -126301.291181"
       ]
      },
      {
       "output_type": "stream",
       "stream": "stdout",
       "text": [
        "\n",
        "chain 2: updated A: L = -126300.126716\n",
        "chain 2: updated pi: L = -126300.126713\n",
        "chain 3: updated lambda: L = -126297.830118"
       ]
      },
      {
       "output_type": "stream",
       "stream": "stdout",
       "text": [
        "\n",
        "chain 3: updated A: L = -126297.740973\n",
        "chain 3: updated pi: L = -126297.740969\n",
        "chain 4: updated lambda: L = -126296.210276"
       ]
      },
      {
       "output_type": "stream",
       "stream": "stdout",
       "text": [
        "\n",
        "chain 4: updated A: L = -126296.210142\n",
        "chain 4: updated pi: L = -126296.209923\n",
        "chain 5: updated lambda: L = -126295.660604"
       ]
      },
      {
       "output_type": "stream",
       "stream": "stdout",
       "text": [
        "\n",
        "chain 5: updated A: L = -126295.659583\n",
        "chain 5: updated pi: L = -126295.659583\n",
        "chain 0: updated z: L = -126295.659581"
       ]
      },
      {
       "output_type": "stream",
       "stream": "stdout",
       "text": [
        "\n",
        "chain 1: updated z: L = -126295.596457"
       ]
      },
      {
       "output_type": "stream",
       "stream": "stdout",
       "text": [
        "\n",
        "chain 2: updated z: L = -126291.413136"
       ]
      },
      {
       "output_type": "stream",
       "stream": "stdout",
       "text": [
        "\n",
        "chain 3: updated z: L = -126290.349475"
       ]
      },
      {
       "output_type": "stream",
       "stream": "stdout",
       "text": [
        "\n",
        "chain 4: updated z: L = -126290.315875"
       ]
      },
      {
       "output_type": "stream",
       "stream": "stdout",
       "text": [
        "\n",
        "chain 5: updated z: L = -126290.26641"
       ]
      },
      {
       "output_type": "stream",
       "stream": "stdout",
       "text": [
        "\n",
        "Iteration 18: L = -126290.26641\n",
        "delta = 0.000151285661471\n",
        "chain 0: updated lambda: L = -126288.0238"
       ]
      },
      {
       "output_type": "stream",
       "stream": "stdout",
       "text": [
        "\n",
        "chain 0: updated A: L = -126288.0238\n",
        "chain 0: updated pi: L = -126288.0238\n",
        "chain 1: updated lambda: L = -126284.925773"
       ]
      },
      {
       "output_type": "stream",
       "stream": "stdout",
       "text": [
        "\n",
        "chain 1: updated A: L = -126284.925764\n",
        "chain 1: updated pi: L = -126284.925764\n",
        "chain 2: updated lambda: L = -126283.543596"
       ]
      },
      {
       "output_type": "stream",
       "stream": "stdout",
       "text": [
        "\n",
        "chain 2: updated A: L = -126282.169896\n",
        "chain 2: updated pi: L = -126282.169894\n",
        "chain 3: updated lambda: L = -126280.284886"
       ]
      },
      {
       "output_type": "stream",
       "stream": "stdout",
       "text": [
        "\n",
        "chain 3: updated A: L = -126280.211433\n",
        "chain 3: updated pi: L = -126280.211429\n",
        "chain 4: updated lambda: L = -126279.377138"
       ]
      },
      {
       "output_type": "stream",
       "stream": "stdout",
       "text": [
        "\n",
        "chain 4: updated A: L = -126279.377048\n",
        "chain 4: updated pi: L = -126279.376982\n",
        "chain 5: updated lambda: L = -126279.000993"
       ]
      },
      {
       "output_type": "stream",
       "stream": "stdout",
       "text": [
        "\n",
        "chain 5: updated A: L = -126279.000594\n",
        "chain 5: updated pi: L = -126279.000594\n",
        "chain 0: updated z: L = -126279.000592"
       ]
      },
      {
       "output_type": "stream",
       "stream": "stdout",
       "text": [
        "\n",
        "chain 1: updated z: L = -126278.929766"
       ]
      },
      {
       "output_type": "stream",
       "stream": "stdout",
       "text": [
        "\n",
        "chain 2: updated z: L = -126274.785012"
       ]
      },
      {
       "output_type": "stream",
       "stream": "stdout",
       "text": [
        "\n",
        "chain 3: updated z: L = -126273.930485"
       ]
      },
      {
       "output_type": "stream",
       "stream": "stdout",
       "text": [
        "\n",
        "chain 4: updated z: L = -126273.906123"
       ]
      },
      {
       "output_type": "stream",
       "stream": "stdout",
       "text": [
        "\n",
        "chain 5: updated z: L = -126273.876681"
       ]
      },
      {
       "output_type": "stream",
       "stream": "stdout",
       "text": [
        "\n",
        "Iteration 19: L = -126273.876681\n",
        "delta = 0.000129795083712\n",
        "chain 0: updated lambda: L = -126272.043339"
       ]
      },
      {
       "output_type": "stream",
       "stream": "stdout",
       "text": [
        "\n",
        "chain 0: updated A: L = -126272.043339\n",
        "chain 0: updated pi: L = -126272.043339\n",
        "chain 1: updated lambda: L = -126269.152727"
       ]
      },
      {
       "output_type": "stream",
       "stream": "stdout",
       "text": [
        "\n",
        "chain 1: updated A: L = -126269.152726\n",
        "chain 1: updated pi: L = -126269.152726\n",
        "chain 2: updated lambda: L = -126268.137337"
       ]
      },
      {
       "output_type": "stream",
       "stream": "stdout",
       "text": [
        "\n",
        "chain 2: updated A: L = -126266.569332\n",
        "chain 2: updated pi: L = -126266.569331\n",
        "chain 3: updated lambda: L = -126265.036263"
       ]
      },
      {
       "output_type": "stream",
       "stream": "stdout",
       "text": [
        "\n",
        "chain 3: updated A: L = -126264.975719\n",
        "chain 3: updated pi: L = -126264.975714\n",
        "chain 4: updated lambda: L = -126264.549044"
       ]
      },
      {
       "output_type": "stream",
       "stream": "stdout",
       "text": [
        "\n",
        "chain 4: updated A: L = -126264.548975\n",
        "chain 4: updated pi: L = -126264.54897\n",
        "chain 5: updated lambda: L = -126264.202974"
       ]
      },
      {
       "output_type": "stream",
       "stream": "stdout",
       "text": [
        "\n",
        "chain 5: updated A: L = -126264.202811\n",
        "chain 5: updated pi: L = -126264.202811\n",
        "chain 0: updated z: L = -126264.202809"
       ]
      },
      {
       "output_type": "stream",
       "stream": "stdout",
       "text": [
        "\n",
        "chain 1: updated z: L = -126264.14559"
       ]
      },
      {
       "output_type": "stream",
       "stream": "stdout",
       "text": [
        "\n",
        "chain 2: updated z: L = -126260.050759"
       ]
      },
      {
       "output_type": "stream",
       "stream": "stdout",
       "text": [
        "\n",
        "chain 3: updated z: L = -126259.364609"
       ]
      },
      {
       "output_type": "stream",
       "stream": "stdout",
       "text": [
        "\n",
        "chain 4: updated z: L = -126259.345478"
       ]
      },
      {
       "output_type": "stream",
       "stream": "stdout",
       "text": [
        "\n",
        "chain 5: updated z: L = -126259.329774"
       ]
      },
      {
       "output_type": "stream",
       "stream": "stdout",
       "text": [
        "\n",
        "Iteration 20: L = -126259.329774\n",
        "delta = 0.000115214514098\n",
        "chain 0: updated lambda: L = -126257.780446"
       ]
      },
      {
       "output_type": "stream",
       "stream": "stdout",
       "text": [
        "\n",
        "chain 0: updated A: L = -126257.780446\n",
        "chain 0: updated pi: L = -126257.780446\n",
        "chain 1: updated lambda: L = -126255.127705"
       ]
      },
      {
       "output_type": "stream",
       "stream": "stdout",
       "text": [
        "\n",
        "chain 1: updated A: L = -126255.127684\n",
        "chain 1: updated pi: L = -126255.127684\n",
        "chain 2: updated lambda: L = -126254.319373"
       ]
      },
      {
       "output_type": "stream",
       "stream": "stdout",
       "text": [
        "\n",
        "chain 2: updated A: L = -126252.600012\n",
        "chain 2: updated pi: L = -126252.600012\n",
        "chain 3: updated lambda: L = -126251.352426"
       ]
      },
      {
       "output_type": "stream",
       "stream": "stdout",
       "text": [
        "\n",
        "chain 3: updated A: L = -126251.302571\n",
        "chain 3: updated pi: L = -126251.302566"
       ]
      },
      {
       "output_type": "stream",
       "stream": "stdout",
       "text": [
        "\n",
        "chain 4: updated lambda: L = -126251.097116"
       ]
      },
      {
       "output_type": "stream",
       "stream": "stdout",
       "text": [
        "\n",
        "chain 4: updated A: L = -126251.097062\n",
        "chain 4: updated pi: L = -126251.097056\n",
        "chain 5: updated lambda: L = -126250.704148"
       ]
      },
      {
       "output_type": "stream",
       "stream": "stdout",
       "text": [
        "\n",
        "chain 5: updated A: L = -126250.704076\n",
        "chain 5: updated pi: L = -126250.704076"
       ]
      },
      {
       "output_type": "stream",
       "stream": "stdout",
       "text": [
        "\n",
        "chain 0: updated z: L = -126250.704074"
       ]
      },
      {
       "output_type": "stream",
       "stream": "stdout",
       "text": [
        "\n",
        "chain 1: updated z: L = -126250.670256"
       ]
      },
      {
       "output_type": "stream",
       "stream": "stdout",
       "text": [
        "\n",
        "chain 2: updated z: L = -126246.714263"
       ]
      },
      {
       "output_type": "stream",
       "stream": "stdout",
       "text": [
        "\n",
        "chain 3: updated z: L = -126246.166395"
       ]
      },
      {
       "output_type": "stream",
       "stream": "stdout",
       "text": [
        "\n",
        "chain 4: updated z: L = -126246.149923"
       ]
      },
      {
       "output_type": "stream",
       "stream": "stdout",
       "text": [
        "\n",
        "chain 5: updated z: L = -126246.141648"
       ]
      },
      {
       "output_type": "stream",
       "stream": "stdout",
       "text": [
        "\n",
        "Iteration 21: L = -126246.141648\n",
        "delta = 0.000104463595324\n",
        "chain 0: updated lambda: L = -126244.785515"
       ]
      },
      {
       "output_type": "stream",
       "stream": "stdout",
       "text": [
        "\n",
        "chain 0: updated A: L = -126244.785515\n",
        "chain 0: updated pi: L = -126244.785515\n",
        "chain 1: updated lambda: L = -126242.391326"
       ]
      },
      {
       "output_type": "stream",
       "stream": "stdout",
       "text": [
        "\n",
        "chain 1: updated A: L = -126242.391271\n",
        "chain 1: updated pi: L = -126242.391271\n",
        "chain 2: updated lambda: L = -126241.680104"
       ]
      },
      {
       "output_type": "stream",
       "stream": "stdout",
       "text": [
        "\n",
        "chain 2: updated A: L = -126239.88661\n",
        "chain 2: updated pi: L = -126239.88661\n",
        "chain 3: updated lambda: L = -126238.857761"
       ]
      },
      {
       "output_type": "stream",
       "stream": "stdout",
       "text": [
        "\n",
        "chain 3: updated A: L = -126238.817049\n",
        "chain 3: updated pi: L = -126238.817043\n",
        "chain 4: updated lambda: L = -126238.722321"
       ]
      },
      {
       "output_type": "stream",
       "stream": "stdout",
       "text": [
        "\n",
        "chain 4: updated A: L = -126238.722278\n",
        "chain 4: updated pi: L = -126238.722247"
       ]
      },
      {
       "output_type": "stream",
       "stream": "stdout",
       "text": [
        "\n",
        "chain 5: updated lambda: L = -126238.264119\n",
        "chain 5: updated A: L = -126238.264086"
       ]
      },
      {
       "output_type": "stream",
       "stream": "stdout",
       "text": [
        "\n",
        "chain 5: updated pi: L = -126238.264086\n",
        "chain 0: updated z: L = -126238.264084"
       ]
      },
      {
       "output_type": "stream",
       "stream": "stdout",
       "text": [
        "\n",
        "chain 1: updated z: L = -126238.243068"
       ]
      },
      {
       "output_type": "stream",
       "stream": "stdout",
       "text": [
        "\n",
        "chain 2: updated z: L = -126234.600099"
       ]
      },
      {
       "output_type": "stream",
       "stream": "stdout",
       "text": [
        "\n",
        "chain 3: updated z: L = -126234.158367"
       ]
      },
      {
       "output_type": "stream",
       "stream": "stdout",
       "text": [
        "\n",
        "chain 4: updated z: L = -126234.143073"
       ]
      },
      {
       "output_type": "stream",
       "stream": "stdout",
       "text": [
        "\n",
        "chain 5: updated z: L = -126234.137551"
       ]
      },
      {
       "output_type": "stream",
       "stream": "stdout",
       "text": [
        "\n",
        "Iteration 22: L = -126234.137551\n",
        "delta = 9.50939037086e-05\n",
        "chain 0: updated lambda: L = -126232.908398"
       ]
      },
      {
       "output_type": "stream",
       "stream": "stdout",
       "text": [
        "\n",
        "chain 0: updated A: L = -126232.908398\n",
        "chain 0: updated pi: L = -126232.908398\n",
        "chain 1: updated lambda: L = -126230.780606"
       ]
      },
      {
       "output_type": "stream",
       "stream": "stdout",
       "text": [
        "\n",
        "chain 1: updated A: L = -126230.780522\n",
        "chain 1: updated pi: L = -126230.780522\n",
        "chain 2: updated lambda: L = -126230.097656"
       ]
      },
      {
       "output_type": "stream",
       "stream": "stdout",
       "text": [
        "\n",
        "chain 2: updated A: L = -126228.343218\n",
        "chain 2: updated pi: L = -126228.343218"
       ]
      },
      {
       "output_type": "stream",
       "stream": "stdout",
       "text": [
        "\n",
        "chain 3: updated lambda: L = -126227.473111"
       ]
      },
      {
       "output_type": "stream",
       "stream": "stdout",
       "text": [
        "\n",
        "chain 3: updated A: L = -126227.440383\n",
        "chain 3: updated pi: L = -126227.440375\n",
        "chain 4: updated lambda: L = -126227.396572"
       ]
      },
      {
       "output_type": "stream",
       "stream": "stdout",
       "text": [
        "\n",
        "chain 4: updated A: L = -126227.396542\n",
        "chain 4: updated pi: L = -126227.396484\n",
        "chain 5: updated lambda: L = -126226.909422"
       ]
      },
      {
       "output_type": "stream",
       "stream": "stdout",
       "text": [
        "\n",
        "chain 5: updated A: L = -126226.909406\n",
        "chain 5: updated pi: L = -126226.909405\n",
        "chain 0: updated z: L = -126226.909404"
       ]
      },
      {
       "output_type": "stream",
       "stream": "stdout",
       "text": [
        "\n",
        "chain 1: updated z: L = -126226.893322"
       ]
      },
      {
       "output_type": "stream",
       "stream": "stdout",
       "text": [
        "\n",
        "chain 2: updated z: L = -126223.753515"
       ]
      },
      {
       "output_type": "stream",
       "stream": "stdout",
       "text": [
        "\n",
        "chain 3: updated z: L = -126223.388555"
       ]
      },
      {
       "output_type": "stream",
       "stream": "stdout",
       "text": [
        "\n",
        "chain 4: updated z: L = -126223.37508"
       ]
      },
      {
       "output_type": "stream",
       "stream": "stdout",
       "text": [
        "\n",
        "chain 5: updated z: L = -126223.370853"
       ]
      },
      {
       "output_type": "stream",
       "stream": "stdout",
       "text": [
        "\n",
        "Iteration 23: L = -126223.370853\n",
        "delta = 8.52987701685e-05\n",
        "chain 0: updated lambda: L = -126222.230073"
       ]
      },
      {
       "output_type": "stream",
       "stream": "stdout",
       "text": [
        "\n",
        "chain 0: updated A: L = -126222.230073\n",
        "chain 0: updated pi: L = -126222.230073\n",
        "chain 1: updated lambda: L = -126220.36355"
       ]
      },
      {
       "output_type": "stream",
       "stream": "stdout",
       "text": [
        "\n",
        "chain 1: updated A: L = -126220.363441\n",
        "chain 1: updated pi: L = -126220.363441\n",
        "chain 2: updated lambda: L = -126219.673248"
       ]
      },
      {
       "output_type": "stream",
       "stream": "stdout",
       "text": [
        "\n",
        "chain 2: updated A: L = -126218.077934\n",
        "chain 2: updated pi: L = -126218.077934\n",
        "chain 3: updated lambda: L = -126217.317351"
       ]
      },
      {
       "output_type": "stream",
       "stream": "stdout",
       "text": [
        "\n",
        "chain 3: updated A: L = -126217.29199\n",
        "chain 3: updated pi: L = -126217.29198\n",
        "chain 4: updated lambda: L = -126217.269551"
       ]
      },
      {
       "output_type": "stream",
       "stream": "stdout",
       "text": [
        "\n",
        "chain 4: updated A: L = -126217.269528\n",
        "chain 4: updated pi: L = -126217.269456\n",
        "chain 5: updated lambda: L = -126216.813883"
       ]
      },
      {
       "output_type": "stream",
       "stream": "stdout",
       "text": [
        "\n",
        "chain 5: updated A: L = -126216.813874\n",
        "chain 5: updated pi: L = -126216.813873\n",
        "chain 0: updated z: L = -126216.813872"
       ]
      },
      {
       "output_type": "stream",
       "stream": "stdout",
       "text": [
        "\n",
        "chain 1: updated z: L = -126216.800401"
       ]
      },
      {
       "output_type": "stream",
       "stream": "stdout",
       "text": [
        "\n",
        "chain 2: updated z: L = -126214.26918"
       ]
      },
      {
       "output_type": "stream",
       "stream": "stdout",
       "text": [
        "\n",
        "chain 3: updated z: L = -126213.958169"
       ]
      },
      {
       "output_type": "stream",
       "stream": "stdout",
       "text": [
        "\n",
        "chain 4: updated z: L = -126213.947775"
       ]
      },
      {
       "output_type": "stream",
       "stream": "stdout",
       "text": [
        "\n",
        "chain 5: updated z: L = -126213.944594"
       ]
      },
      {
       "output_type": "stream",
       "stream": "stdout",
       "text": [
        "\n",
        "Iteration 24: L = -126213.944594\n",
        "delta = 7.46847621685e-05\n",
        "chain 0: updated lambda: L = -126212.882539"
       ]
      },
      {
       "output_type": "stream",
       "stream": "stdout",
       "text": [
        "\n",
        "chain 0: updated A: L = -126212.882539\n",
        "chain 0: updated pi: L = -126212.882539\n",
        "chain 1: updated lambda: L = -126211.261294"
       ]
      },
      {
       "output_type": "stream",
       "stream": "stdout",
       "text": [
        "\n",
        "chain 1: updated A: L = -126211.26117\n",
        "chain 1: updated pi: L = -126211.26117\n",
        "chain 2: updated lambda: L = -126210.552704"
       ]
      },
      {
       "output_type": "stream",
       "stream": "stdout",
       "text": [
        "\n",
        "chain 2: updated A: L = -126209.202302\n",
        "chain 2: updated pi: L = -126209.202302"
       ]
      },
      {
       "output_type": "stream",
       "stream": "stdout",
       "text": [
        "\n",
        "chain 3: updated lambda: L = -126208.516076\n",
        "chain 3: updated A: L = -126208.497729"
       ]
      },
      {
       "output_type": "stream",
       "stream": "stdout",
       "text": [
        "\n",
        "chain 3: updated pi: L = -126208.497718\n",
        "chain 4: updated lambda: L = -126208.483729"
       ]
      },
      {
       "output_type": "stream",
       "stream": "stdout",
       "text": [
        "\n",
        "chain 4: updated A: L = -126208.483708\n",
        "chain 4: updated pi: L = -126208.483634\n",
        "chain 5: updated lambda: L = -126208.106048"
       ]
      },
      {
       "output_type": "stream",
       "stream": "stdout",
       "text": [
        "\n",
        "chain 5: updated A: L = -126208.106042\n",
        "chain 5: updated pi: L = -126208.106041\n",
        "chain 0: updated z: L = -126208.10604"
       ]
      },
      {
       "output_type": "stream",
       "stream": "stdout",
       "text": [
        "\n",
        "chain 1: updated z: L = -126208.094627"
       ]
      },
      {
       "output_type": "stream",
       "stream": "stdout",
       "text": [
        "\n",
        "chain 2: updated z: L = -126206.167561"
       ]
      },
      {
       "output_type": "stream",
       "stream": "stdout",
       "text": [
        "\n",
        "chain 3: updated z: L = -126205.895096"
       ]
      },
      {
       "output_type": "stream",
       "stream": "stdout",
       "text": [
        "\n",
        "chain 4: updated z: L = -126205.887638"
       ]
      },
      {
       "output_type": "stream",
       "stream": "stdout",
       "text": [
        "\n",
        "chain 5: updated z: L = -126205.885402"
       ]
      },
      {
       "output_type": "stream",
       "stream": "stdout",
       "text": [
        "\n",
        "Iteration 25: L = -126205.885402\n",
        "delta = 6.38575025071e-05\n",
        "chain 0: updated lambda: L = -126204.910382"
       ]
      },
      {
       "output_type": "stream",
       "stream": "stdout",
       "text": [
        "\n",
        "chain 0: updated A: L = -126204.910382\n",
        "chain 0: updated pi: L = -126204.910382\n",
        "chain 1: updated lambda: L = -126203.511363"
       ]
      },
      {
       "output_type": "stream",
       "stream": "stdout",
       "text": [
        "\n",
        "chain 1: updated A: L = -126203.51123\n",
        "chain 1: updated pi: L = -126203.51123"
       ]
      },
      {
       "output_type": "stream",
       "stream": "stdout",
       "text": [
        "\n",
        "chain 2: updated lambda: L = -126202.790351\n",
        "chain 2: updated A: L = -126201.717787"
       ]
      },
      {
       "output_type": "stream",
       "stream": "stdout",
       "text": [
        "\n",
        "chain 2: updated pi: L = -126201.717787\n",
        "chain 3: updated lambda: L = -126201.08592"
       ]
      },
      {
       "output_type": "stream",
       "stream": "stdout",
       "text": [
        "\n",
        "chain 3: updated A: L = -126201.073828\n",
        "chain 3: updated pi: L = -126201.073816\n",
        "chain 4: updated lambda: L = -126201.063442"
       ]
      },
      {
       "output_type": "stream",
       "stream": "stdout",
       "text": [
        "\n",
        "chain 4: updated A: L = -126201.063422\n",
        "chain 4: updated pi: L = -126201.063353\n",
        "chain 5: updated lambda: L = -126200.781252"
       ]
      },
      {
       "output_type": "stream",
       "stream": "stdout",
       "text": [
        "\n",
        "chain 5: updated A: L = -126200.781248\n",
        "chain 5: updated pi: L = -126200.781247\n",
        "chain 0: updated z: L = -126200.781246"
       ]
      },
      {
       "output_type": "stream",
       "stream": "stdout",
       "text": [
        "\n",
        "chain 1: updated z: L = -126200.771688"
       ]
      },
      {
       "output_type": "stream",
       "stream": "stdout",
       "text": [
        "\n",
        "chain 2: updated z: L = -126199.367558"
       ]
      },
      {
       "output_type": "stream",
       "stream": "stdout",
       "text": [
        "\n",
        "chain 3: updated z: L = -126199.123573"
       ]
      },
      {
       "output_type": "stream",
       "stream": "stdout",
       "text": [
        "\n",
        "chain 4: updated z: L = -126199.118415"
       ]
      },
      {
       "output_type": "stream",
       "stream": "stdout",
       "text": [
        "\n",
        "chain 5: updated z: L = -126199.116949"
       ]
      },
      {
       "output_type": "stream",
       "stream": "stdout",
       "text": [
        "\n",
        "Iteration 26: L = -126199.116949\n",
        "delta = 5.36331222638e-05\n",
        "chain 0: updated lambda: L = -126198.241291"
       ]
      },
      {
       "output_type": "stream",
       "stream": "stdout",
       "text": [
        "\n",
        "chain 0: updated A: L = -126198.241291\n",
        "chain 0: updated pi: L = -126198.241291"
       ]
      },
      {
       "output_type": "stream",
       "stream": "stdout",
       "text": [
        "\n",
        "chain 1: updated lambda: L = -126197.038381"
       ]
      },
      {
       "output_type": "stream",
       "stream": "stdout",
       "text": [
        "\n",
        "chain 1: updated A: L = -126197.038249\n",
        "chain 1: updated pi: L = -126197.038249"
       ]
      },
      {
       "output_type": "stream",
       "stream": "stdout",
       "text": [
        "\n",
        "chain 2: updated lambda: L = -126196.319424"
       ]
      },
      {
       "output_type": "stream",
       "stream": "stdout",
       "text": [
        "\n",
        "chain 2: updated A: L = -126195.509816\n",
        "chain 2: updated pi: L = -126195.509816"
       ]
      },
      {
       "output_type": "stream",
       "stream": "stdout",
       "text": [
        "\n",
        "chain 3: updated lambda: L = -126194.924103\n",
        "chain 3: updated A: L = -126194.916833"
       ]
      },
      {
       "output_type": "stream",
       "stream": "stdout",
       "text": [
        "\n",
        "chain 3: updated pi: L = -126194.91682\n",
        "chain 4: updated lambda: L = -126194.908562"
       ]
      },
      {
       "output_type": "stream",
       "stream": "stdout",
       "text": [
        "\n",
        "chain 4: updated A: L = -126194.908545\n",
        "chain 4: updated pi: L = -126194.908482\n",
        "chain 5: updated lambda: L = -126194.714819"
       ]
      },
      {
       "output_type": "stream",
       "stream": "stdout",
       "text": [
        "\n",
        "chain 5: updated A: L = -126194.714815\n",
        "chain 5: updated pi: L = -126194.714814\n",
        "chain 0: updated z: L = -126194.714814"
       ]
      },
      {
       "output_type": "stream",
       "stream": "stdout",
       "text": [
        "\n",
        "chain 1: updated z: L = -126194.706958"
       ]
      },
      {
       "output_type": "stream",
       "stream": "stdout",
       "text": [
        "\n",
        "chain 2: updated z: L = -126193.710239"
       ]
      },
      {
       "output_type": "stream",
       "stream": "stdout",
       "text": [
        "\n",
        "chain 3: updated z: L = -126193.488136"
       ]
      },
      {
       "output_type": "stream",
       "stream": "stdout",
       "text": [
        "\n",
        "chain 4: updated z: L = -126193.48477"
       ]
      },
      {
       "output_type": "stream",
       "stream": "stdout",
       "text": [
        "\n",
        "chain 5: updated z: L = -126193.483857"
       ]
      },
      {
       "output_type": "stream",
       "stream": "stdout",
       "text": [
        "\n",
        "Iteration 27: L = -126193.483857\n",
        "delta = 4.46385352089e-05\n",
        "chain 0: updated lambda: L = -126192.71419"
       ]
      },
      {
       "output_type": "stream",
       "stream": "stdout",
       "text": [
        "\n",
        "chain 0: updated A: L = -126192.71419\n",
        "chain 0: updated pi: L = -126192.71419\n",
        "chain 1: updated lambda: L = -126191.681227"
       ]
      },
      {
       "output_type": "stream",
       "stream": "stdout",
       "text": [
        "\n",
        "chain 1: updated A: L = -126191.681104\n",
        "chain 1: updated pi: L = -126191.681104\n",
        "chain 2: updated lambda: L = -126190.979883"
       ]
      },
      {
       "output_type": "stream",
       "stream": "stdout",
       "text": [
        "\n",
        "chain 2: updated A: L = -126190.388089\n",
        "chain 2: updated pi: L = -126190.388088\n",
        "chain 3: updated lambda: L = -126189.84645"
       ]
      },
      {
       "output_type": "stream",
       "stream": "stdout",
       "text": [
        "\n",
        "chain 3: updated A: L = -126189.842116\n",
        "chain 3: updated pi: L = -126189.842103\n",
        "chain 4: updated lambda: L = -126189.835553"
       ]
      },
      {
       "output_type": "stream",
       "stream": "stdout",
       "text": [
        "\n",
        "chain 4: updated A: L = -126189.83554\n",
        "chain 4: updated pi: L = -126189.835484\n",
        "chain 5: updated lambda: L = -126189.710317"
       ]
      },
      {
       "output_type": "stream",
       "stream": "stdout",
       "text": [
        "\n",
        "chain 5: updated A: L = -126189.710314\n",
        "chain 5: updated pi: L = -126189.710313\n",
        "chain 0: updated z: L = -126189.710313"
       ]
      },
      {
       "output_type": "stream",
       "stream": "stdout",
       "text": [
        "\n",
        "chain 1: updated z: L = -126189.703982"
       ]
      },
      {
       "output_type": "stream",
       "stream": "stdout",
       "text": [
        "\n",
        "chain 2: updated z: L = -126189.000361"
       ]
      },
      {
       "output_type": "stream",
       "stream": "stdout",
       "text": [
        "\n",
        "chain 3: updated z: L = -126188.795943"
       ]
      },
      {
       "output_type": "stream",
       "stream": "stdout",
       "text": [
        "\n",
        "chain 4: updated z: L = -126188.793837"
       ]
      },
      {
       "output_type": "stream",
       "stream": "stdout",
       "text": [
        "\n",
        "chain 5: updated z: L = -126188.793279"
       ]
      },
      {
       "output_type": "stream",
       "stream": "stdout",
       "text": [
        "\n",
        "Iteration 28: L = -126188.793279\n",
        "delta = 3.71711138615e-05\n",
        "chain 0: updated lambda: L = -126188.126322"
       ]
      },
      {
       "output_type": "stream",
       "stream": "stdout",
       "text": [
        "\n",
        "chain 0: updated A: L = -126188.126322\n",
        "chain 0: updated pi: L = -126188.126322\n",
        "chain 1: updated lambda: L = -126187.239037"
       ]
      },
      {
       "output_type": "stream",
       "stream": "stdout",
       "text": [
        "\n",
        "chain 1: updated A: L = -126187.23893\n",
        "chain 1: updated pi: L = -126187.23893\n",
        "chain 2: updated lambda: L = -126186.567539"
       ]
      },
      {
       "output_type": "stream",
       "stream": "stdout",
       "text": [
        "\n",
        "chain 2: updated A: L = -126186.139044\n",
        "chain 2: updated pi: L = -126186.139044\n",
        "chain 3: updated lambda: L = -126185.641034"
       ]
      },
      {
       "output_type": "stream",
       "stream": "stdout",
       "text": [
        "\n",
        "chain 3: updated A: L = -126185.6377\n",
        "chain 3: updated pi: L = -126185.637687\n",
        "chain 4: updated lambda: L = -126185.632654"
       ]
      },
      {
       "output_type": "stream",
       "stream": "stdout",
       "text": [
        "\n",
        "chain 4: updated A: L = -126185.632645\n",
        "chain 4: updated pi: L = -126185.632594\n",
        "chain 5: updated lambda: L = -126185.554325"
       ]
      },
      {
       "output_type": "stream",
       "stream": "stdout",
       "text": [
        "\n",
        "chain 5: updated A: L = -126185.554322\n",
        "chain 5: updated pi: L = -126185.55432\n",
        "chain 0: updated z: L = -126185.55432"
       ]
      },
      {
       "output_type": "stream",
       "stream": "stdout",
       "text": [
        "\n",
        "chain 1: updated z: L = -126185.549293"
       ]
      },
      {
       "output_type": "stream",
       "stream": "stdout",
       "text": [
        "\n",
        "chain 2: updated z: L = -126185.045873"
       ]
      },
      {
       "output_type": "stream",
       "stream": "stdout",
       "text": [
        "\n",
        "chain 3: updated z: L = -126184.85637"
       ]
      },
      {
       "output_type": "stream",
       "stream": "stdout",
       "text": [
        "\n",
        "chain 4: updated z: L = -126184.855055"
       ]
      },
      {
       "output_type": "stream",
       "stream": "stdout",
       "text": [
        "\n",
        "chain 5: updated z: L = -126184.854706"
       ]
      },
      {
       "output_type": "stream",
       "stream": "stdout",
       "text": [
        "\n",
        "Iteration 29: L = -126184.854706\n",
        "delta = 3.12127233303e-05\n",
        "chain 0: updated lambda: L = -126184.279147"
       ]
      },
      {
       "output_type": "stream",
       "stream": "stdout",
       "text": [
        "\n",
        "chain 0: updated A: L = -126184.279147\n",
        "chain 0: updated pi: L = -126184.279147\n",
        "chain 1: updated lambda: L = -126183.516108"
       ]
      },
      {
       "output_type": "stream",
       "stream": "stdout",
       "text": [
        "\n",
        "chain 1: updated A: L = -126183.516018\n",
        "chain 1: updated pi: L = -126183.516018\n",
        "chain 2: updated lambda: L = -126182.882142"
       ]
      },
      {
       "output_type": "stream",
       "stream": "stdout",
       "text": [
        "\n",
        "chain 2: updated A: L = -126182.568045\n",
        "chain 2: updated pi: L = -126182.568045\n",
        "chain 3: updated lambda: L = -126182.112677"
       ]
      },
      {
       "output_type": "stream",
       "stream": "stdout",
       "text": [
        "\n",
        "chain 3: updated A: L = -126182.108711\n",
        "chain 3: updated pi: L = -126182.108699\n",
        "chain 4: updated lambda: L = -126182.104953"
       ]
      },
      {
       "output_type": "stream",
       "stream": "stdout",
       "text": [
        "\n",
        "chain 4: updated A: L = -126182.104948\n",
        "chain 4: updated pi: L = -126182.104901"
       ]
      },
      {
       "output_type": "stream",
       "stream": "stdout",
       "text": [
        "\n",
        "chain 5: updated lambda: L = -126182.056328"
       ]
      },
      {
       "output_type": "stream",
       "stream": "stdout",
       "text": [
        "\n",
        "chain 5: updated A: L = -126182.056326\n",
        "chain 5: updated pi: L = -126182.056324\n",
        "chain 0: updated z: L = -126182.056324"
       ]
      },
      {
       "output_type": "stream",
       "stream": "stdout",
       "text": [
        "\n",
        "chain 1: updated z: L = -126182.052352"
       ]
      },
      {
       "output_type": "stream",
       "stream": "stdout",
       "text": [
        "\n",
        "chain 2: updated z: L = -126181.682073"
       ]
      },
      {
       "output_type": "stream",
       "stream": "stdout",
       "text": [
        "\n",
        "chain 3: updated z: L = -126181.505455"
       ]
      },
      {
       "output_type": "stream",
       "stream": "stdout",
       "text": [
        "\n",
        "chain 4: updated z: L = -126181.504606"
       ]
      },
      {
       "output_type": "stream",
       "stream": "stdout",
       "text": [
        "\n",
        "chain 5: updated z: L = -126181.504375"
       ]
      },
      {
       "output_type": "stream",
       "stream": "stdout",
       "text": [
        "\n",
        "Iteration 30: L = -126181.504375\n",
        "delta = 2.6551676356e-05\n",
        "chain 0: updated lambda: L = -126181.005516"
       ]
      },
      {
       "output_type": "stream",
       "stream": "stdout",
       "text": [
        "\n",
        "chain 0: updated A: L = -126181.005516\n",
        "chain 0: updated pi: L = -126181.005516\n",
        "chain 1: updated lambda: L = -126180.348307"
       ]
      },
      {
       "output_type": "stream",
       "stream": "stdout",
       "text": [
        "\n",
        "chain 1: updated A: L = -126180.348234\n",
        "chain 1: updated pi: L = -126180.348234\n",
        "chain 2: updated lambda: L = -126179.755543"
       ]
      },
      {
       "output_type": "stream",
       "stream": "stdout",
       "text": [
        "\n",
        "chain 2: updated A: L = -126179.518456\n",
        "chain 2: updated pi: L = -126179.518455\n",
        "chain 3: updated lambda: L = -126179.103713"
       ]
      },
      {
       "output_type": "stream",
       "stream": "stdout",
       "text": [
        "\n",
        "chain 3: updated A: L = -126179.097946\n",
        "chain 3: updated pi: L = -126179.097934\n",
        "chain 4: updated lambda: L = -126179.095208"
       ]
      },
      {
       "output_type": "stream",
       "stream": "stdout",
       "text": [
        "\n",
        "chain 4: updated A: L = -126179.095204\n",
        "chain 4: updated pi: L = -126179.095161\n",
        "chain 5: updated lambda: L = -126179.064622"
       ]
      },
      {
       "output_type": "stream",
       "stream": "stdout",
       "text": [
        "\n",
        "chain 5: updated A: L = -126179.06462\n",
        "chain 5: updated pi: L = -126179.064618\n",
        "chain 0: updated z: L = -126179.064618"
       ]
      },
      {
       "output_type": "stream",
       "stream": "stdout",
       "text": [
        "\n",
        "chain 1: updated z: L = -126179.061468"
       ]
      },
      {
       "output_type": "stream",
       "stream": "stdout",
       "text": [
        "\n",
        "chain 2: updated z: L = -126178.779071"
       ]
      },
      {
       "output_type": "stream",
       "stream": "stdout",
       "text": [
        "\n",
        "chain 3: updated z: L = -126178.613695"
       ]
      },
      {
       "output_type": "stream",
       "stream": "stdout",
       "text": [
        "\n",
        "chain 4: updated z: L = -126178.613117"
       ]
      },
      {
       "output_type": "stream",
       "stream": "stdout",
       "text": [
        "\n",
        "chain 5: updated z: L = -126178.612954"
       ]
      },
      {
       "output_type": "stream",
       "stream": "stdout",
       "text": [
        "\n",
        "Iteration 31: L = -126178.612954\n",
        "delta = 2.29153035569e-05\n",
        "chain 0: updated lambda: L = -126178.176385"
       ]
      },
      {
       "output_type": "stream",
       "stream": "stdout",
       "text": [
        "\n",
        "chain 0: updated A: L = -126178.176385\n",
        "chain 0: updated pi: L = -126178.176385"
       ]
      },
      {
       "output_type": "stream",
       "stream": "stdout",
       "text": [
        "\n",
        "chain 1: updated lambda: L = -126177.609377\n",
        "chain 1: updated A: L = -126177.609318"
       ]
      },
      {
       "output_type": "stream",
       "stream": "stdout",
       "text": [
        "\n",
        "chain 1: updated pi: L = -126177.609318\n",
        "chain 2: updated lambda: L = -126177.058541"
       ]
      },
      {
       "output_type": "stream",
       "stream": "stdout",
       "text": [
        "\n",
        "chain 2: updated A: L = -126176.872405\n",
        "chain 2: updated pi: L = -126176.872404\n",
        "chain 3: updated lambda: L = -126176.495479"
       ]
      },
      {
       "output_type": "stream",
       "stream": "stdout",
       "text": [
        "\n",
        "chain 3: updated A: L = -126176.487191\n",
        "chain 3: updated pi: L = -126176.487179"
       ]
      },
      {
       "output_type": "stream",
       "stream": "stdout",
       "text": [
        "\n",
        "chain 4: updated lambda: L = -126176.485214"
       ]
      },
      {
       "output_type": "stream",
       "stream": "stdout",
       "text": [
        "\n",
        "chain 4: updated A: L = -126176.485212\n",
        "chain 4: updated pi: L = -126176.485171"
       ]
      },
      {
       "output_type": "stream",
       "stream": "stdout",
       "text": [
        "\n",
        "chain 5: updated lambda: L = -126176.465421\n",
        "chain 5: updated A: L = -126176.46542"
       ]
      },
      {
       "output_type": "stream",
       "stream": "stdout",
       "text": [
        "\n",
        "chain 5: updated pi: L = -126176.465417\n",
        "chain 0: updated z: L = -126176.465417"
       ]
      },
      {
       "output_type": "stream",
       "stream": "stdout",
       "text": [
        "\n",
        "chain 1: updated z: L = -126176.462894"
       ]
      },
      {
       "output_type": "stream",
       "stream": "stdout",
       "text": [
        "\n",
        "chain 2: updated z: L = -126176.238904"
       ]
      },
      {
       "output_type": "stream",
       "stream": "stdout",
       "text": [
        "\n",
        "chain 3: updated z: L = -126176.08337"
       ]
      },
      {
       "output_type": "stream",
       "stream": "stdout",
       "text": [
        "\n",
        "chain 4: updated z: L = -126176.082954"
       ]
      },
      {
       "output_type": "stream",
       "stream": "stdout",
       "text": [
        "\n",
        "chain 5: updated z: L = -126176.08283"
       ]
      },
      {
       "output_type": "stream",
       "stream": "stdout",
       "text": [
        "\n",
        "Iteration 32: L = -126176.08283\n",
        "delta = 2.00523253454e-05\n",
        "chain 0: updated lambda: L = -126175.696145"
       ]
      },
      {
       "output_type": "stream",
       "stream": "stdout",
       "text": [
        "\n",
        "chain 0: updated A: L = -126175.696145\n",
        "chain 0: updated pi: L = -126175.696145\n",
        "chain 1: updated lambda: L = -126175.206124"
       ]
      },
      {
       "output_type": "stream",
       "stream": "stdout",
       "text": [
        "\n",
        "chain 1: updated A: L = -126175.206076\n",
        "chain 1: updated pi: L = -126175.206076"
       ]
      },
      {
       "output_type": "stream",
       "stream": "stdout",
       "text": [
        "\n",
        "chain 2: updated lambda: L = -126174.696019"
       ]
      },
      {
       "output_type": "stream",
       "stream": "stdout",
       "text": [
        "\n",
        "chain 2: updated A: L = -126174.543641\n",
        "chain 2: updated pi: L = -126174.54364"
       ]
      },
      {
       "output_type": "stream",
       "stream": "stdout",
       "text": [
        "\n",
        "chain 3: updated lambda: L = -126174.201316\n",
        "chain 3: updated A: L = -126174.190144"
       ]
      },
      {
       "output_type": "stream",
       "stream": "stdout",
       "text": [
        "\n",
        "chain 3: updated pi: L = -126174.190133\n",
        "chain 4: updated lambda: L = -126174.188715"
       ]
      },
      {
       "output_type": "stream",
       "stream": "stdout",
       "text": [
        "\n",
        "chain 4: updated A: L = -126174.188713\n",
        "chain 4: updated pi: L = -126174.188675\n",
        "chain 5: updated lambda: L = -126174.175407"
       ]
      },
      {
       "output_type": "stream",
       "stream": "stdout",
       "text": [
        "\n",
        "chain 5: updated A: L = -126174.175406\n",
        "chain 5: updated pi: L = -126174.175404\n",
        "chain 0: updated z: L = -126174.175404"
       ]
      },
      {
       "output_type": "stream",
       "stream": "stdout",
       "text": [
        "\n",
        "chain 1: updated z: L = -126174.173357"
       ]
      },
      {
       "output_type": "stream",
       "stream": "stdout",
       "text": [
        "\n",
        "chain 2: updated z: L = -126173.988922"
       ]
      },
      {
       "output_type": "stream",
       "stream": "stdout",
       "text": [
        "\n",
        "chain 3: updated z: L = -126173.842015"
       ]
      },
      {
       "output_type": "stream",
       "stream": "stdout",
       "text": [
        "\n",
        "chain 4: updated z: L = -126173.8417"
       ]
      },
      {
       "output_type": "stream",
       "stream": "stdout",
       "text": [
        "\n",
        "chain 5: updated z: L = -126173.841599"
       ]
      },
      {
       "output_type": "stream",
       "stream": "stdout",
       "text": [
        "\n",
        "Iteration 33: L = -126173.841599\n",
        "delta = 1.77630399714e-05\n",
        "chain 0: updated lambda: L = -126173.494752"
       ]
      },
      {
       "output_type": "stream",
       "stream": "stdout",
       "text": [
        "\n",
        "chain 0: updated A: L = -126173.494752\n",
        "chain 0: updated pi: L = -126173.494752\n",
        "chain 1: updated lambda: L = -126173.070548"
       ]
      },
      {
       "output_type": "stream",
       "stream": "stdout",
       "text": [
        "\n",
        "chain 1: updated A: L = -126173.07051\n",
        "chain 1: updated pi: L = -126173.07051\n",
        "chain 2: updated lambda: L = -126172.598843"
       ]
      },
      {
       "output_type": "stream",
       "stream": "stdout",
       "text": [
        "\n",
        "chain 2: updated A: L = -126172.469268\n",
        "chain 2: updated pi: L = -126172.469267\n",
        "chain 3: updated lambda: L = -126172.158235"
       ]
      },
      {
       "output_type": "stream",
       "stream": "stdout",
       "text": [
        "\n",
        "chain 3: updated A: L = -126172.144065\n",
        "chain 3: updated pi: L = -126172.144055\n",
        "chain 4: updated lambda: L = -126172.14302"
       ]
      },
      {
       "output_type": "stream",
       "stream": "stdout",
       "text": [
        "\n",
        "chain 4: updated A: L = -126172.143018\n",
        "chain 4: updated pi: L = -126172.142984\n",
        "chain 5: updated lambda: L = -126172.133681"
       ]
      },
      {
       "output_type": "stream",
       "stream": "stdout",
       "text": [
        "\n",
        "chain 5: updated A: L = -126172.13368\n",
        "chain 5: updated pi: L = -126172.133678\n",
        "chain 0: updated z: L = -126172.133678"
       ]
      },
      {
       "output_type": "stream",
       "stream": "stdout",
       "text": [
        "\n",
        "chain 1: updated z: L = -126172.131996"
       ]
      },
      {
       "output_type": "stream",
       "stream": "stdout",
       "text": [
        "\n",
        "chain 2: updated z: L = -126171.97517"
       ]
      },
      {
       "output_type": "stream",
       "stream": "stdout",
       "text": [
        "\n",
        "chain 3: updated z: L = -126171.835835"
       ]
      },
      {
       "output_type": "stream",
       "stream": "stdout",
       "text": [
        "\n",
        "chain 4: updated z: L = -126171.835584"
       ]
      },
      {
       "output_type": "stream",
       "stream": "stdout",
       "text": [
        "\n",
        "chain 5: updated z: L = -126171.835499"
       ]
      },
      {
       "output_type": "stream",
       "stream": "stdout",
       "text": [
        "\n",
        "Iteration 34: L = -126171.835499\n",
        "delta = 1.58997437256e-05\n",
        "chain 0: updated lambda: L = -126171.520558"
       ]
      },
      {
       "output_type": "stream",
       "stream": "stdout",
       "text": [
        "\n",
        "chain 0: updated A: L = -126171.520558\n",
        "chain 0: updated pi: L = -126171.520558\n",
        "chain 1: updated lambda: L = -126171.15272"
       ]
      },
      {
       "output_type": "stream",
       "stream": "stdout",
       "text": [
        "\n",
        "chain 1: updated A: L = -126171.152689\n",
        "chain 1: updated pi: L = -126171.152689\n",
        "chain 2: updated lambda: L = -126170.716499"
       ]
      },
      {
       "output_type": "stream",
       "stream": "stdout",
       "text": [
        "\n",
        "chain 2: updated A: L = -126170.602923\n",
        "chain 2: updated pi: L = -126170.602922\n",
        "chain 3: updated lambda: L = -126170.319977"
       ]
      },
      {
       "output_type": "stream",
       "stream": "stdout",
       "text": [
        "\n",
        "chain 3: updated A: L = -126170.30286\n",
        "chain 3: updated pi: L = -126170.30285\n",
        "chain 4: updated lambda: L = -126170.30208"
       ]
      },
      {
       "output_type": "stream",
       "stream": "stdout",
       "text": [
        "\n",
        "chain 4: updated A: L = -126170.302078\n",
        "chain 4: updated pi: L = -126170.302047\n",
        "chain 5: updated lambda: L = -126170.295239"
       ]
      },
      {
       "output_type": "stream",
       "stream": "stdout",
       "text": [
        "\n",
        "chain 5: updated A: L = -126170.295238\n",
        "chain 5: updated pi: L = -126170.295235\n",
        "chain 0: updated z: L = -126170.295235"
       ]
      },
      {
       "output_type": "stream",
       "stream": "stdout",
       "text": [
        "\n",
        "chain 1: updated z: L = -126170.293838"
       ]
      },
      {
       "output_type": "stream",
       "stream": "stdout",
       "text": [
        "\n",
        "chain 2: updated z: L = -126170.157092"
       ]
      },
      {
       "output_type": "stream",
       "stream": "stdout",
       "text": [
        "\n",
        "chain 3: updated z: L = -126170.024413"
       ]
      },
      {
       "output_type": "stream",
       "stream": "stdout",
       "text": [
        "\n",
        "chain 4: updated z: L = -126170.024208"
       ]
      },
      {
       "output_type": "stream",
       "stream": "stdout",
       "text": [
        "\n",
        "chain 5: updated z: L = -126170.024134"
       ]
      },
      {
       "output_type": "stream",
       "stream": "stdout",
       "text": [
        "\n",
        "Iteration 35: L = -126170.024134\n",
        "delta = 1.43565450767e-05\n",
        "chain 0: updated lambda: L = -126169.734868"
       ]
      },
      {
       "output_type": "stream",
       "stream": "stdout",
       "text": [
        "\n",
        "chain 0: updated A: L = -126169.734868\n",
        "chain 0: updated pi: L = -126169.734868"
       ]
      },
      {
       "output_type": "stream",
       "stream": "stdout",
       "text": [
        "\n",
        "chain 1: updated lambda: L = -126169.415386\n",
        "chain 1: updated A: L = -126169.415361"
       ]
      },
      {
       "output_type": "stream",
       "stream": "stdout",
       "text": [
        "\n",
        "chain 1: updated pi: L = -126169.415361\n",
        "chain 2: updated lambda: L = -126169.011516"
       ]
      },
      {
       "output_type": "stream",
       "stream": "stdout",
       "text": [
        "\n",
        "chain 2: updated A: L = -126168.909807\n",
        "chain 2: updated pi: L = -126168.909806\n",
        "chain 3: updated lambda: L = -126168.65196"
       ]
      },
      {
       "output_type": "stream",
       "stream": "stdout",
       "text": [
        "\n",
        "chain 3: updated A: L = -126168.632043\n",
        "chain 3: updated pi: L = -126168.632034\n",
        "chain 4: updated lambda: L = -126168.631446"
       ]
      },
      {
       "output_type": "stream",
       "stream": "stdout",
       "text": [
        "\n",
        "chain 4: updated A: L = -126168.631445\n",
        "chain 4: updated pi: L = -126168.631418\n",
        "chain 5: updated lambda: L = -126168.626233"
       ]
      },
      {
       "output_type": "stream",
       "stream": "stdout",
       "text": [
        "\n",
        "chain 5: updated A: L = -126168.626232\n",
        "chain 5: updated pi: L = -126168.626229\n",
        "chain 0: updated z: L = -126168.626229"
       ]
      },
      {
       "output_type": "stream",
       "stream": "stdout",
       "text": [
        "\n",
        "chain 1: updated z: L = -126168.625056"
       ]
      },
      {
       "output_type": "stream",
       "stream": "stdout",
       "text": [
        "\n",
        "chain 2: updated z: L = -126168.503659"
       ]
      },
      {
       "output_type": "stream",
       "stream": "stdout",
       "text": [
        "\n",
        "chain 3: updated z: L = -126168.376848"
       ]
      },
      {
       "output_type": "stream",
       "stream": "stdout",
       "text": [
        "\n",
        "chain 4: updated z: L = -126168.376676"
       ]
      },
      {
       "output_type": "stream",
       "stream": "stdout",
       "text": [
        "\n",
        "chain 5: updated z: L = -126168.37661"
       ]
      },
      {
       "output_type": "stream",
       "stream": "stdout",
       "text": [
        "\n",
        "Iteration 36: L = -126168.37661\n",
        "delta = 1.30581372703e-05\n",
        "chain 0: updated lambda: L = -126168.108107"
       ]
      },
      {
       "output_type": "stream",
       "stream": "stdout",
       "text": [
        "\n",
        "chain 0: updated A: L = -126168.108107\n",
        "chain 0: updated pi: L = -126168.108107\n",
        "chain 1: updated lambda: L = -126167.830182"
       ]
      },
      {
       "output_type": "stream",
       "stream": "stdout",
       "text": [
        "\n",
        "chain 1: updated A: L = -126167.830161\n",
        "chain 1: updated pi: L = -126167.830161\n",
        "chain 2: updated lambda: L = -126167.455539"
       ]
      },
      {
       "output_type": "stream",
       "stream": "stdout",
       "text": [
        "\n",
        "chain 2: updated A: L = -126167.363241\n",
        "chain 2: updated pi: L = -126167.363239\n",
        "chain 3: updated lambda: L = -126167.127768"
       ]
      },
      {
       "output_type": "stream",
       "stream": "stdout",
       "text": [
        "\n",
        "chain 3: updated A: L = -126167.105256\n",
        "chain 3: updated pi: L = -126167.105248\n",
        "chain 4: updated lambda: L = -126167.104787"
       ]
      },
      {
       "output_type": "stream",
       "stream": "stdout",
       "text": [
        "\n",
        "chain 4: updated A: L = -126167.104787\n",
        "chain 4: updated pi: L = -126167.104762\n",
        "chain 5: updated lambda: L = -126167.100676"
       ]
      },
      {
       "output_type": "stream",
       "stream": "stdout",
       "text": [
        "\n",
        "chain 5: updated A: L = -126167.100676\n",
        "chain 5: updated pi: L = -126167.100673\n",
        "chain 0: updated z: L = -126167.100673"
       ]
      },
      {
       "output_type": "stream",
       "stream": "stdout",
       "text": [
        "\n",
        "chain 1: updated z: L = -126167.099678"
       ]
      },
      {
       "output_type": "stream",
       "stream": "stdout",
       "text": [
        "\n",
        "chain 2: updated z: L = -126166.990654"
       ]
      },
      {
       "output_type": "stream",
       "stream": "stdout",
       "text": [
        "\n",
        "chain 3: updated z: L = -126166.869036"
       ]
      },
      {
       "output_type": "stream",
       "stream": "stdout",
       "text": [
        "\n",
        "chain 4: updated z: L = -126166.868889"
       ]
      },
      {
       "output_type": "stream",
       "stream": "stdout",
       "text": [
        "\n",
        "chain 5: updated z: L = -126166.868829"
       ]
      },
      {
       "output_type": "stream",
       "stream": "stdout",
       "text": [
        "\n",
        "Iteration 37: L = -126166.868829\n",
        "delta = 1.19506876356e-05\n",
        "chain 0: updated lambda: L = -126166.617179"
       ]
      },
      {
       "output_type": "stream",
       "stream": "stdout",
       "text": [
        "\n",
        "chain 0: updated A: L = -126166.617179\n",
        "chain 0: updated pi: L = -126166.617179\n",
        "chain 1: updated lambda: L = -126166.375032"
       ]
      },
      {
       "output_type": "stream",
       "stream": "stdout",
       "text": [
        "\n",
        "chain 1: updated A: L = -126166.375014\n",
        "chain 1: updated pi: L = -126166.375014\n",
        "chain 2: updated lambda: L = -126166.026644"
       ]
      },
      {
       "output_type": "stream",
       "stream": "stdout",
       "text": [
        "\n",
        "chain 2: updated A: L = -126165.942322\n",
        "chain 2: updated pi: L = -126165.942321\n",
        "chain 3: updated lambda: L = -126165.726779"
       ]
      },
      {
       "output_type": "stream",
       "stream": "stdout",
       "text": [
        "\n",
        "chain 3: updated A: L = -126165.701902\n",
        "chain 3: updated pi: L = -126165.701894\n",
        "chain 4: updated lambda: L = -126165.701523"
       ]
      },
      {
       "output_type": "stream",
       "stream": "stdout",
       "text": [
        "\n",
        "chain 4: updated A: L = -126165.701522\n",
        "chain 4: updated pi: L = -126165.701501\n",
        "chain 5: updated lambda: L = -126165.69819"
       ]
      },
      {
       "output_type": "stream",
       "stream": "stdout",
       "text": [
        "\n",
        "chain 5: updated A: L = -126165.69819\n",
        "chain 5: updated pi: L = -126165.698187\n",
        "chain 0: updated z: L = -126165.698187"
       ]
      },
      {
       "output_type": "stream",
       "stream": "stdout",
       "text": [
        "\n",
        "chain 1: updated z: L = -126165.697337"
       ]
      },
      {
       "output_type": "stream",
       "stream": "stdout",
       "text": [
        "\n",
        "chain 2: updated z: L = -126165.598798"
       ]
      },
      {
       "output_type": "stream",
       "stream": "stdout",
       "text": [
        "\n",
        "chain 3: updated z: L = -126165.481793"
       ]
      },
      {
       "output_type": "stream",
       "stream": "stdout",
       "text": [
        "\n",
        "chain 4: updated z: L = -126165.481667"
       ]
      },
      {
       "output_type": "stream",
       "stream": "stdout",
       "text": [
        "\n",
        "chain 5: updated z: L = -126165.481611"
       ]
      },
      {
       "output_type": "stream",
       "stream": "stdout",
       "text": [
        "\n",
        "Iteration 38: L = -126165.481611\n",
        "delta = 1.09952222579e-05\n",
        "chain 0: updated lambda: L = -126165.243675"
       ]
      },
      {
       "output_type": "stream",
       "stream": "stdout",
       "text": [
        "\n",
        "chain 0: updated A: L = -126165.243675\n",
        "chain 0: updated pi: L = -126165.243675\n",
        "chain 1: updated lambda: L = -126165.032383"
       ]
      },
      {
       "output_type": "stream",
       "stream": "stdout",
       "text": [
        "\n",
        "chain 1: updated A: L = -126165.032369\n",
        "chain 1: updated pi: L = -126165.032369\n",
        "chain 2: updated lambda: L = -126164.707507"
       ]
      },
      {
       "output_type": "stream",
       "stream": "stdout",
       "text": [
        "\n",
        "chain 2: updated A: L = -126164.630331\n",
        "chain 2: updated pi: L = -126164.63033\n",
        "chain 3: updated lambda: L = -126164.432539"
       ]
      },
      {
       "output_type": "stream",
       "stream": "stdout",
       "text": [
        "\n",
        "chain 3: updated A: L = -126164.405536\n",
        "chain 3: updated pi: L = -126164.405529\n",
        "chain 4: updated lambda: L = -126164.405222"
       ]
      },
      {
       "output_type": "stream",
       "stream": "stdout",
       "text": [
        "\n",
        "chain 4: updated A: L = -126164.405221\n",
        "chain 4: updated pi: L = -126164.405202\n",
        "chain 5: updated lambda: L = -126164.402461"
       ]
      },
      {
       "output_type": "stream",
       "stream": "stdout",
       "text": [
        "\n",
        "chain 5: updated A: L = -126164.402461\n",
        "chain 5: updated pi: L = -126164.402458\n",
        "chain 0: updated z: L = -126164.402458"
       ]
      },
      {
       "output_type": "stream",
       "stream": "stdout",
       "text": [
        "\n",
        "chain 1: updated z: L = -126164.401727"
       ]
      },
      {
       "output_type": "stream",
       "stream": "stdout",
       "text": [
        "\n",
        "chain 2: updated z: L = -126164.312448"
       ]
      },
      {
       "output_type": "stream",
       "stream": "stdout",
       "text": [
        "\n",
        "chain 3: updated z: L = -126164.199561"
       ]
      },
      {
       "output_type": "stream",
       "stream": "stdout",
       "text": [
        "\n",
        "chain 4: updated z: L = -126164.199451"
       ]
      },
      {
       "output_type": "stream",
       "stream": "stdout",
       "text": [
        "\n",
        "chain 5: updated z: L = -126164.199399"
       ]
      },
      {
       "output_type": "stream",
       "stream": "stdout",
       "text": [
        "\n",
        "Iteration 39: L = -126164.199399\n",
        "delta = 1.01630442782e-05\n",
        "chain 0: updated lambda: L = -126163.972635"
       ]
      },
      {
       "output_type": "stream",
       "stream": "stdout",
       "text": [
        "\n",
        "chain 0: updated A: L = -126163.972635\n",
        "chain 0: updated pi: L = -126163.972635"
       ]
      },
      {
       "output_type": "stream",
       "stream": "stdout",
       "text": [
        "\n",
        "chain 1: updated lambda: L = -126163.788003"
       ]
      },
      {
       "output_type": "stream",
       "stream": "stdout",
       "text": [
        "\n",
        "chain 1: updated A: L = -126163.787991"
       ]
      },
      {
       "output_type": "stream",
       "stream": "stdout",
       "text": [
        "\n",
        "chain 1: updated pi: L = -126163.787991\n",
        "chain 2: updated lambda: L = -126163.484153"
       ]
      },
      {
       "output_type": "stream",
       "stream": "stdout",
       "text": [
        "\n",
        "chain 2: updated A: L = -126163.413632\n",
        "chain 2: updated pi: L = -126163.413631\n",
        "chain 3: updated lambda: L = -126163.231664"
       ]
      },
      {
       "output_type": "stream",
       "stream": "stdout",
       "text": [
        "\n",
        "chain 3: updated A: L = -126163.202769\n",
        "chain 3: updated pi: L = -126163.202761\n",
        "chain 4: updated lambda: L = -126163.202502"
       ]
      },
      {
       "output_type": "stream",
       "stream": "stdout",
       "text": [
        "\n",
        "chain 4: updated A: L = -126163.202501\n",
        "chain 4: updated pi: L = -126163.202485"
       ]
      },
      {
       "output_type": "stream",
       "stream": "stdout",
       "text": [
        "\n",
        "chain 5: updated lambda: L = -126163.200179"
       ]
      },
      {
       "output_type": "stream",
       "stream": "stdout",
       "text": [
        "\n",
        "chain 5: updated A: L = -126163.200178\n",
        "chain 5: updated pi: L = -126163.200176\n",
        "chain 0: updated z: L = -126163.200176"
       ]
      },
      {
       "output_type": "stream",
       "stream": "stdout",
       "text": [
        "\n",
        "chain 1: updated z: L = -126163.199544"
       ]
      },
      {
       "output_type": "stream",
       "stream": "stdout",
       "text": [
        "\n",
        "chain 2: updated z: L = -126163.118692"
       ]
      },
      {
       "output_type": "stream",
       "stream": "stdout",
       "text": [
        "\n",
        "chain 3: updated z: L = -126163.009496"
       ]
      },
      {
       "output_type": "stream",
       "stream": "stdout",
       "text": [
        "\n",
        "chain 4: updated z: L = -126163.009399"
       ]
      },
      {
       "output_type": "stream",
       "stream": "stdout",
       "text": [
        "\n",
        "chain 5: updated z: L = -126163.009351"
       ]
      },
      {
       "output_type": "stream",
       "stream": "stdout",
       "text": [
        "\n"
       ]
      }
     ],
     "prompt_number": 25
    },
    {
     "cell_type": "code",
     "collapsed": false,
     "input": [],
     "language": "python",
     "metadata": {},
     "outputs": [],
     "prompt_number": 25
    },
    {
     "cell_type": "heading",
     "level": 1,
     "metadata": {},
     "source": [
      "Check results"
     ]
    },
    {
     "cell_type": "heading",
     "level": 2,
     "metadata": {},
     "source": [
      "Do we correctly recover $z$?"
     ]
    },
    {
     "cell_type": "markdown",
     "metadata": {},
     "source": [
      "Zoom in on a small part of the time series:"
     ]
    },
    {
     "cell_type": "code",
     "collapsed": false,
     "input": [
      "Trng = (500, 1000)\n",
      "matshow(chain.T[:, slice(*Trng)], vmin=0, vmax=1);\n",
      "matshow(gpm.xi.T[:, slice(*Trng)], vmin=0, vmax=1);"
     ],
     "language": "python",
     "metadata": {},
     "outputs": [
      {
       "metadata": {},
       "output_type": "display_data",
       "png": "[encoded data removed]",
       "text": [
        "<matplotlib.figure.Figure at 0x10d5f5c50>"
       ]
      },
      {
       "metadata": {},
       "output_type": "display_data",
       "png": "[encoded data removed]",
       "text": [
        "<matplotlib.figure.Figure at 0x10d5f54d0>"
       ]
      }
     ],
     "prompt_number": 26
    },
    {
     "cell_type": "markdown",
     "metadata": {},
     "source": [
      "What about the whole time series?"
     ]
    },
    {
     "cell_type": "code",
     "collapsed": false,
     "input": [
      "matshow(chain.T, vmin=0, vmax=1);\n",
      "matshow(gpm.xi.T, vmin=0, vmax=1);"
     ],
     "language": "python",
     "metadata": {},
     "outputs": [
      {
       "metadata": {},
       "output_type": "display_data",
       "png": "[encoded data removed]",
       "text": [
        "<matplotlib.figure.Figure at 0x10d5ffc90>"
       ]
      },
      {
       "metadata": {},
       "output_type": "display_data",
       "png": "[encoded data removed]",
       "text": [
        "<matplotlib.figure.Figure at 0x10d5ffa50>"
       ]
      }
     ],
     "prompt_number": 27
    },
    {
     "cell_type": "code",
     "collapsed": false,
     "input": [
      "matshow(chain.T);\n",
      "plt.title('Actual states')\n",
      "matshow(gpm.xi.T, vmin=0, vmax=1);\n",
      "plt.title('Inferred states')\n",
      "matshow(fr.T);\n",
      "plt.title('Actual firing rate')\n",
      "matshow(np.exp(gpm.xi.dot(np.log(gpm.alpha / gpm.beta))).T)\n",
      "plt.title('Inferred firing rate')\n",
      "matshow(N.T, vmin=0, vmax=np.max(N));\n",
      "plt.title('Spike rastergram');"
     ],
     "language": "python",
     "metadata": {},
     "outputs": [
      {
       "metadata": {},
       "output_type": "display_data",
       "png": "[encoded data removed]",
       "text": [
        "<matplotlib.figure.Figure at 0x10faec190>"
       ]
      },
      {
       "metadata": {},
       "output_type": "display_data",
       "png": "[encoded data removed]",
       "text": [
        "<matplotlib.figure.Figure at 0x10fb13f10>"
       ]
      },
      {
       "metadata": {},
       "output_type": "display_data",
       "png": "[encoded data removed]",
       "text": [
        "<matplotlib.figure.Figure at 0x10fbb1190>"
       ]
      },
      {
       "metadata": {},
       "output_type": "display_data",
       "png": "[encoded data removed]",
       "text": [
        "<matplotlib.figure.Figure at 0x10fb4f790>"
       ]
      },
      {
       "metadata": {},
       "output_type": "display_data",
       "png": "[encoded data removed]",
       "text": [
        "<matplotlib.figure.Figure at 0x10d5aec50>"
       ]
      }
     ],
     "prompt_number": 28
    },
    {
     "cell_type": "code",
     "collapsed": false,
     "input": [],
     "language": "python",
     "metadata": {},
     "outputs": [],
     "prompt_number": 28
    }
   ],
   "metadata": {}
  }
 ]
}