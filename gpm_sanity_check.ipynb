{
 "metadata": {
  "name": "",
  "signature": "sha256:724c3885fcf079aa317d79eceec9671e07d644200ea5e22172897984b669cc8b"
 },
 "nbformat": 3,
 "nbformat_minor": 0,
 "worksheets": [
  {
   "cells": [
    {
     "cell_type": "code",
     "collapsed": false,
     "input": [
      "from __future__ import division\n",
      "import numpy as np\n",
      "import scipy.stats as stats\n",
      "import matplotlib.pyplot as plt\n",
      "import matplotlib.cm as cm\n",
      "import gamma_poisson as gp\n",
      "%matplotlib inline\n",
      "\n",
      "np.random.seed(11734)"
     ],
     "language": "python",
     "metadata": {},
     "outputs": [],
     "prompt_number": 1
    },
    {
     "cell_type": "code",
     "collapsed": false,
     "input": [
      "def matshow(X, **kwargs):\n",
      "    plt.matshow(X, aspect='auto', cmap=cm.gray, **kwargs);"
     ],
     "language": "python",
     "metadata": {},
     "outputs": [],
     "prompt_number": 2
    },
    {
     "cell_type": "code",
     "collapsed": false,
     "input": [
      "U = 5  # units\n",
      "T = 5000  # time points/frames\n",
      "M = 2  # number of latent states\n",
      "Kdata = 3  # categories\n",
      "dt = 1  # frames per second"
     ],
     "language": "python",
     "metadata": {},
     "outputs": [],
     "prompt_number": 3
    },
    {
     "cell_type": "code",
     "collapsed": false,
     "input": [
      "# make transition matrix\n",
      "A = np.array([[0.98, 0.05], [0.02, 0.95]])"
     ],
     "language": "python",
     "metadata": {},
     "outputs": [],
     "prompt_number": 4
    },
    {
     "cell_type": "code",
     "collapsed": false,
     "input": [
      "chain = np.empty((T, Kdata))\n",
      "chain[:, 0] = 1  # baseline always on\n",
      "\n",
      "chain[0, :] = 0  # start second category off\n",
      "for t in xrange(1, T):\n",
      "    for k in xrange(1, Kdata):\n",
      "        chain[t, k] = stats.bernoulli.rvs(A[1, chain[t - 1, k]])"
     ],
     "language": "python",
     "metadata": {},
     "outputs": [],
     "prompt_number": 5
    },
    {
     "cell_type": "code",
     "collapsed": false,
     "input": [
      "matshow(chain.T);"
     ],
     "language": "python",
     "metadata": {},
     "outputs": [
      {
       "metadata": {},
       "output_type": "display_data",
       "png": "[encoded data removed]",
       "text": [
        "<matplotlib.figure.Figure at 0x10684ec10>"
       ]
      }
     ],
     "prompt_number": 6
    },
    {
     "cell_type": "code",
     "collapsed": false,
     "input": [
      "# firing rates\n",
      "lam = np.empty((Kdata, U))\n",
      "lam[0, :] = [1, 5, 10, 7, 12]\n",
      "lam[1, :] = [10, 0.5, 0.1, 2, 0.1]\n",
      "lam[2, :] = [3, 2, 0.7, 1.5, 0.5]\n",
      "\n",
      "fr = np.exp(chain.dot(np.log(lam))) * dt"
     ],
     "language": "python",
     "metadata": {},
     "outputs": [],
     "prompt_number": 7
    },
    {
     "cell_type": "code",
     "collapsed": false,
     "input": [
      "matshow(fr.T);"
     ],
     "language": "python",
     "metadata": {},
     "outputs": [
      {
       "metadata": {},
       "output_type": "display_data",
       "png": "[encoded data removed]",
       "text": [
        "<matplotlib.figure.Figure at 0x109c45510>"
       ]
      }
     ],
     "prompt_number": 8
    },
    {
     "cell_type": "code",
     "collapsed": false,
     "input": [
      "# draw from Poisson\n",
      "N = stats.poisson.rvs(fr)\n",
      "matshow(N.T);"
     ],
     "language": "python",
     "metadata": {},
     "outputs": [
      {
       "metadata": {},
       "output_type": "display_data",
       "png": "[encoded data removed]",
       "text": [
        "<matplotlib.figure.Figure at 0x109d4e9d0>"
       ]
      }
     ],
     "prompt_number": 9
    },
    {
     "cell_type": "code",
     "collapsed": false,
     "input": [
      "# set up priors\n",
      "K = 3\n",
      "\n",
      "# multipliers shouldn't be much bigger than ~4\n",
      "cmat = 2 * np.ones((K, U))\n",
      "dmat = 2 * np.ones((K, U))\n",
      "\n",
      "# baselines can be a lot bigger\n",
      "cmat[0, :] = 3\n",
      "dmat[0, :] = 1/6 / dt  # only baseline needs to compensate for dt\n",
      "\n",
      "nu1_mat = np.r_[np.ones((1, K)), 1 * np.ones((1, K))]\n",
      "nu2_mat = np.r_[1 * np.ones((1, K)), np.ones((1, K))]\n",
      "\n",
      "rho1_mat = np.ones((K,))\n",
      "rho2_mat = np.ones((K,))"
     ],
     "language": "python",
     "metadata": {},
     "outputs": [],
     "prompt_number": 10
    },
    {
     "cell_type": "code",
     "collapsed": false,
     "input": [
      "alpha_mat = np.sum(N, axis = 0) + 1 + cmat\n",
      "\n",
      "# start by assuming beta very large\n",
      "beta_mat = dmat + 100000\n",
      "\n",
      "gamma1_mat = nu1_mat\n",
      "gamma2_mat = nu2_mat\n",
      "\n",
      "delta1_mat = rho1_mat\n",
      "delta2_mat = rho2_mat\n",
      "\n",
      "xi_mat = (0.1 >= np.random.rand(T, K))\n",
      "xi_mat = xi_mat.astype('float')\n",
      "#xi_mat = np.zeros((T, K))\n",
      "xi_mat[:, 0] = 1  # baseline"
     ],
     "language": "python",
     "metadata": {},
     "outputs": [],
     "prompt_number": 11
    },
    {
     "cell_type": "code",
     "collapsed": false,
     "input": [
      "gpm = gp.GPModel(T, K, U, dt)"
     ],
     "language": "python",
     "metadata": {},
     "outputs": [],
     "prompt_number": 12
    },
    {
     "cell_type": "code",
     "collapsed": false,
     "input": [
      "# priors and initial values\n",
      "priors = {'cc': cmat, 'dd': dmat, 'nu1': nu1_mat, 'nu2': nu2_mat,\n",
      "          'rho1': rho1_mat, 'rho2': rho2_mat}\n",
      "\n",
      "inits = {'alpha': alpha_mat, 'beta': beta_mat, \n",
      "         'gamma1': gamma1_mat, 'gamma2': gamma2_mat,\n",
      "         'delta1': delta1_mat, 'delta2': delta2_mat,\n",
      "         'xi': xi_mat}"
     ],
     "language": "python",
     "metadata": {},
     "outputs": [],
     "prompt_number": 13
    },
    {
     "cell_type": "code",
     "collapsed": false,
     "input": [
      "gpm.set_priors(**priors).set_inits(**inits).set_data(N);"
     ],
     "language": "python",
     "metadata": {},
     "outputs": [],
     "prompt_number": 14
    },
    {
     "cell_type": "code",
     "collapsed": false,
     "input": [
      "print gpm.L()"
     ],
     "language": "python",
     "metadata": {},
     "outputs": [
      {
       "output_type": "stream",
       "stream": "stdout",
       "text": [
        "-145755.011003\n"
       ]
      }
     ],
     "prompt_number": 15
    },
    {
     "cell_type": "code",
     "collapsed": false,
     "input": [
      "gpm.do_inference()"
     ],
     "language": "python",
     "metadata": {},
     "outputs": [
      {
       "output_type": "stream",
       "stream": "stdout",
       "text": [
        "Iteration 0: L = -145755.011003\n",
        "delta = 1\n",
        "chain 0: updated chain rates: L = -338370.697187\n",
        "chain 0: updated chain pars: L = -338385.502436\n",
        "chain 1: updated chain rates: L = -343710.230201\n",
        "chain 1: updated chain pars: L = -343715.570199\n",
        "chain 2: updated chain rates: L = -348947.889363\n",
        "chain 2: updated chain pars: L = -348953.229362\n",
        "chain 0: updated chain states: L = -447209.473812"
       ]
      },
      {
       "output_type": "stream",
       "stream": "stdout",
       "text": [
        "\n",
        "chain 1: updated chain states: L = -544778.999613"
       ]
      },
      {
       "output_type": "stream",
       "stream": "stdout",
       "text": [
        "\n",
        "chain 2: updated chain states: L = -641923.40183"
       ]
      },
      {
       "output_type": "stream",
       "stream": "stdout",
       "text": [
        "\n",
        "L = -641923.40183\n",
        "Iteration 1: L = -641923.40183\n",
        "delta = 0.772940181668\n",
        "chain 0: updated chain rates: L = -648589.905129\n",
        "chain 0: updated chain pars: L = -648589.905129\n",
        "chain 1: updated chain rates: L = -654744.305228\n",
        "chain 1: updated chain pars: L = -654744.080695\n",
        "chain 2: updated chain rates: L = -655776.406466\n",
        "chain 2: updated chain pars: L = -655776.315221\n",
        "chain 0: updated chain states: L = -648707.20381"
       ]
      },
      {
       "output_type": "stream",
       "stream": "stdout",
       "text": [
        "\n",
        "chain 1: updated chain states: L = -638844.773808"
       ]
      },
      {
       "output_type": "stream",
       "stream": "stdout",
       "text": [
        "\n",
        "chain 2: updated chain states: L = -633571.125786"
       ]
      },
      {
       "output_type": "stream",
       "stream": "stdout",
       "text": [
        "\n",
        "L = -633571.125786\n",
        "Iteration 2: L = -633571.125786\n",
        "delta = -0.0131828546224\n",
        "chain 0: updated chain rates: L = -647509.891448\n",
        "chain 0: updated chain pars: L = -647509.891448\n",
        "chain 1: updated chain rates: L = -676130.833982\n",
        "chain 1: updated chain pars: L = -676134.489719\n",
        "chain 2: updated chain rates: L = -688475.874769\n",
        "chain 2: updated chain pars: L = -688475.862258\n",
        "chain 0: updated chain states: L = -661020.335082"
       ]
      },
      {
       "output_type": "stream",
       "stream": "stdout",
       "text": [
        "\n",
        "chain 1: updated chain states: L = -638250.944711"
       ]
      },
      {
       "output_type": "stream",
       "stream": "stdout",
       "text": [
        "\n",
        "chain 2: updated chain states: L = -610964.995193"
       ]
      },
      {
       "output_type": "stream",
       "stream": "stdout",
       "text": [
        "\n",
        "L = -610964.995193\n",
        "Iteration 3: L = -610964.995193\n",
        "delta = -0.0370006968832\n",
        "chain 0: updated chain rates: L = -614145.93434\n",
        "chain 0: updated chain pars: L = -614145.93434\n",
        "chain 1: updated chain rates: L = -617028.796547\n",
        "chain 1: updated chain pars: L = -617037.179223\n",
        "chain 2: updated chain rates: L = -619261.587617\n",
        "chain 2: updated chain pars: L = -619263.117544"
       ]
      },
      {
       "output_type": "stream",
       "stream": "stdout",
       "text": [
        "\n",
        "chain 0: updated chain states: L = -614942.970787\n",
        "chain 1: updated chain states: L = -610311.605491"
       ]
      },
      {
       "output_type": "stream",
       "stream": "stdout",
       "text": [
        "\n",
        "chain 2: updated chain states: L = -607522.195123"
       ]
      },
      {
       "output_type": "stream",
       "stream": "stdout",
       "text": [
        "\n",
        "L = -607522.195123\n",
        "Iteration 4: L = -607522.195123\n",
        "delta = -0.00566695356496\n",
        "chain 0: updated chain rates: L = -608217.329146\n",
        "chain 0: updated chain pars: L = -608217.329146\n",
        "chain 1: updated chain rates: L = -609506.313626\n",
        "chain 1: updated chain pars: L = -609509.492028\n",
        "chain 2: updated chain rates: L = -610748.156222\n",
        "chain 2: updated chain pars: L = -610748.929103\n",
        "chain 0: updated chain states: L = -609149.363029"
       ]
      },
      {
       "output_type": "stream",
       "stream": "stdout",
       "text": [
        "\n",
        "chain 1: updated chain states: L = -607626.684416"
       ]
      },
      {
       "output_type": "stream",
       "stream": "stdout",
       "text": [
        "\n",
        "chain 2: updated chain states: L = -605837.136092"
       ]
      },
      {
       "output_type": "stream",
       "stream": "stdout",
       "text": [
        "\n",
        "L = -605837.136092\n",
        "Iteration 5: L = -605837.136092\n",
        "delta = -0.00278137296498\n",
        "chain 0: updated chain rates: L = -605433.220505\n",
        "chain 0: updated chain pars: L = -605433.220505\n",
        "chain 1: updated chain rates: L = -606762.574576\n",
        "chain 1: updated chain pars: L = -606766.134487\n",
        "chain 2: updated chain rates: L = -607678.282933\n",
        "chain 2: updated chain pars: L = -607680.055098"
       ]
      },
      {
       "output_type": "stream",
       "stream": "stdout",
       "text": [
        "\n",
        "chain 0: updated chain states: L = -606753.282204\n",
        "chain 1: updated chain states: L = -605995.70281"
       ]
      },
      {
       "output_type": "stream",
       "stream": "stdout",
       "text": [
        "\n",
        "chain 2: updated chain states: L = -604518.403302"
       ]
      },
      {
       "output_type": "stream",
       "stream": "stdout",
       "text": [
        "\n",
        "L = -604518.403302\n",
        "Iteration 6: L = -604518.403302\n",
        "delta = -0.00218146012191\n",
        "chain 0: updated chain rates: L = -604884.373519\n",
        "chain 0: updated chain pars: L = -604884.373519\n",
        "chain 1: updated chain rates: L = -605588.446211\n",
        "chain 1: updated chain pars: L = -605588.303699\n",
        "chain 2: updated chain rates: L = -606041.276498\n",
        "chain 2: updated chain pars: L = -606043.088268"
       ]
      },
      {
       "output_type": "stream",
       "stream": "stdout",
       "text": [
        "\n",
        "chain 0: updated chain states: L = -605269.915819\n",
        "chain 1: updated chain states: L = -604490.192109"
       ]
      },
      {
       "output_type": "stream",
       "stream": "stdout",
       "text": [
        "\n",
        "chain 2: updated chain states: L = -603458.55721"
       ]
      },
      {
       "output_type": "stream",
       "stream": "stdout",
       "text": [
        "\n",
        "L = -603458.55721\n",
        "Iteration 7: L = -603458.55721\n",
        "delta = -0.00175628645879\n",
        "chain 0: updated chain rates: L = -604115.529834\n",
        "chain 0: updated chain pars: L = -604115.529834\n",
        "chain 1: updated chain rates: L = -604463.095442\n",
        "chain 1: updated chain pars: L = -604463.210182\n",
        "chain 2: updated chain rates: L = -604692.616904\n",
        "chain 2: updated chain pars: L = -604693.636411"
       ]
      },
      {
       "output_type": "stream",
       "stream": "stdout",
       "text": [
        "\n",
        "chain 0: updated chain states: L = -604063.483798\n",
        "chain 1: updated chain states: L = -603437.940371"
       ]
      },
      {
       "output_type": "stream",
       "stream": "stdout",
       "text": [
        "\n",
        "chain 2: updated chain states: L = -602800.367791"
       ]
      },
      {
       "output_type": "stream",
       "stream": "stdout",
       "text": [
        "\n",
        "L = -602800.367791\n",
        "Iteration 8: L = -602800.367791\n",
        "delta = -0.00109188622677\n",
        "chain 0: updated chain rates: L = -603181.740257\n",
        "chain 0: updated chain pars: L = -603181.740257\n",
        "chain 1: updated chain rates: L = -603358.103734\n",
        "chain 1: updated chain pars: L = -603358.149973\n",
        "chain 2: updated chain rates: L = -603477.754019\n",
        "chain 2: updated chain pars: L = -603478.068968"
       ]
      },
      {
       "output_type": "stream",
       "stream": "stdout",
       "text": [
        "\n",
        "chain 0: updated chain states: L = -603125.826585\n",
        "chain 1: updated chain states: L = -602774.757389"
       ]
      },
      {
       "output_type": "stream",
       "stream": "stdout",
       "text": [
        "\n",
        "chain 2: updated chain states: L = -602447.598428"
       ]
      },
      {
       "output_type": "stream",
       "stream": "stdout",
       "text": [
        "\n",
        "L = -602447.598428\n"
       ]
      }
     ],
     "prompt_number": 16
    },
    {
     "cell_type": "code",
     "collapsed": false,
     "input": [
      "Trng = (500, 1000)\n",
      "matshow(chain.T[:, slice(*Trng)], vmin=0, vmax=1);\n",
      "matshow(gpm.xi.T[:, slice(*Trng)], vmin=0, vmax=1);"
     ],
     "language": "python",
     "metadata": {},
     "outputs": [
      {
       "metadata": {},
       "output_type": "display_data",
       "png": "[encoded data removed]",
       "text": [
        "<matplotlib.figure.Figure at 0x10b2ea890>"
       ]
      },
      {
       "metadata": {},
       "output_type": "display_data",
       "png": "[encoded data removed]",
       "text": [
        "<matplotlib.figure.Figure at 0x10b26a710>"
       ]
      }
     ],
     "prompt_number": 17
    },
    {
     "cell_type": "code",
     "collapsed": false,
     "input": [
      "matshow(chain.T, vmin=0, vmax=1);\n",
      "matshow(gpm.xi.T, vmin=0, vmax=1);"
     ],
     "language": "python",
     "metadata": {},
     "outputs": [
      {
       "metadata": {},
       "output_type": "display_data",
       "png": "[encoded data removed]",
       "text": [
        "<matplotlib.figure.Figure at 0x10b2ea290>"
       ]
      },
      {
       "metadata": {},
       "output_type": "display_data",
       "png": "[encoded data removed]",
       "text": [
        "<matplotlib.figure.Figure at 0x109c759d0>"
       ]
      }
     ],
     "prompt_number": 18
    },
    {
     "cell_type": "code",
     "collapsed": false,
     "input": [
      "matshow(chain.T);\n",
      "matshow(gpm.xi.T, vmin=0, vmax=1);\n",
      "matshow(fr.T);\n",
      "matshow(np.exp(gpm.xi.dot(np.log(gpm.alpha / gpm.beta))).T)\n",
      "matshow(N.T, vmin=0, vmax=np.max(N));"
     ],
     "language": "python",
     "metadata": {},
     "outputs": [
      {
       "metadata": {},
       "output_type": "display_data",
       "png": "[encoded data removed]",
       "text": [
        "<matplotlib.figure.Figure at 0x109b2ded0>"
       ]
      },
      {
       "metadata": {},
       "output_type": "display_data",
       "png": "[encoded data removed]",
       "text": [
        "<matplotlib.figure.Figure at 0x1092e4410>"
       ]
      },
      {
       "metadata": {},
       "output_type": "display_data",
       "png": "[encoded data removed]",
       "text": [
        "<matplotlib.figure.Figure at 0x1092e4550>"
       ]
      },
      {
       "metadata": {},
       "output_type": "display_data",
       "png": "[encoded data removed]",
       "text": [
        "<matplotlib.figure.Figure at 0x10ba65d50>"
       ]
      },
      {
       "metadata": {},
       "output_type": "display_data",
       "png": "[encoded data removed]",
       "text": [
        "<matplotlib.figure.Figure at 0x10bbd5910>"
       ]
      }
     ],
     "prompt_number": 19
    },
    {
     "cell_type": "code",
     "collapsed": false,
     "input": [],
     "language": "python",
     "metadata": {},
     "outputs": [],
     "prompt_number": 19
    }
   ],
   "metadata": {}
  }
 ]
}