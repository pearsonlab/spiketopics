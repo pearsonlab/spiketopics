{
 "metadata": {
  "name": "",
  "signature": "sha256:7506733a6d489123d0fe6e34479efff74c13e672c14cda2f29939c5d9a672dde"
 },
 "nbformat": 3,
 "nbformat_minor": 0,
 "worksheets": [
  {
   "cells": [
    {
     "cell_type": "code",
     "collapsed": false,
     "input": [
      "from __future__ import division\n",
      "import numpy as np\n",
      "import scipy.stats as stats\n",
      "import matplotlib.pyplot as plt\n",
      "import matplotlib.cm as cm\n",
      "import gamma_poisson as gp\n",
      "%matplotlib inline\n",
      "\n",
      "np.random.seed(11734)"
     ],
     "language": "python",
     "metadata": {},
     "outputs": [],
     "prompt_number": 2
    },
    {
     "cell_type": "code",
     "collapsed": false,
     "input": [
      "U = 5  # units\n",
      "T = 5000  # time points/frames\n",
      "M = 2  # number of latent states\n",
      "Kdata = 2  # categories\n",
      "dt = 1  # frames per second"
     ],
     "language": "python",
     "metadata": {},
     "outputs": [],
     "prompt_number": 24
    },
    {
     "cell_type": "code",
     "collapsed": false,
     "input": [
      "# make transition matrix\n",
      "A = np.array([[0.98, 0.05], [0.02, 0.95]])"
     ],
     "language": "python",
     "metadata": {},
     "outputs": [],
     "prompt_number": 25
    },
    {
     "cell_type": "code",
     "collapsed": false,
     "input": [
      "chain = np.empty((T, Kdata))\n",
      "chain[:, 0] = 1  # baseline always on\n",
      "\n",
      "chain[0, 1] = 0  # start second category off\n",
      "for t in xrange(1, T):\n",
      "    chain[t, 1] = stats.bernoulli.rvs(A[1, chain[t - 1, 1]])"
     ],
     "language": "python",
     "metadata": {},
     "outputs": [],
     "prompt_number": 26
    },
    {
     "cell_type": "code",
     "collapsed": false,
     "input": [
      "plt.matshow(chain.T, aspect='auto', cmap=cm.gray);"
     ],
     "language": "python",
     "metadata": {},
     "outputs": [
      {
       "metadata": {},
       "output_type": "display_data",
       "png": "[encoded data removed]",
       "text": [
        "<matplotlib.figure.Figure at 0x10a1da690>"
       ]
      }
     ],
     "prompt_number": 27
    },
    {
     "cell_type": "code",
     "collapsed": false,
     "input": [
      "# firing rates\n",
      "lam = np.empty((Kdata, U))\n",
      "lam[0, :] = [1, 5, 10, 7, 12]\n",
      "lam[1, :] = [5, 0.5, 0.25, 1.1, 0.7]\n",
      "\n",
      "fr = np.exp(chain.dot(np.log(lam))) * dt"
     ],
     "language": "python",
     "metadata": {},
     "outputs": [],
     "prompt_number": 28
    },
    {
     "cell_type": "code",
     "collapsed": false,
     "input": [
      "plt.matshow(fr.T, aspect='auto', cmap=cm.gray);"
     ],
     "language": "python",
     "metadata": {},
     "outputs": [
      {
       "metadata": {},
       "output_type": "display_data",
       "png": "[encoded data removed]",
       "text": [
        "<matplotlib.figure.Figure at 0x10a1b3290>"
       ]
      }
     ],
     "prompt_number": 29
    },
    {
     "cell_type": "code",
     "collapsed": false,
     "input": [
      "# draw from Poisson\n",
      "N = stats.poisson.rvs(fr)\n",
      "plt.matshow(N.T, aspect='auto', cmap=cm.gray);"
     ],
     "language": "python",
     "metadata": {},
     "outputs": [
      {
       "metadata": {},
       "output_type": "display_data",
       "png": "[encoded data removed]",
       "text": [
        "<matplotlib.figure.Figure at 0x10a1a73d0>"
       ]
      }
     ],
     "prompt_number": 30
    },
    {
     "cell_type": "code",
     "collapsed": false,
     "input": [
      "# set up priors\n",
      "K = 2\n",
      "\n",
      "# multipliers shouldn't be much bigger than ~4\n",
      "cmat = 2 * np.ones((K, U))\n",
      "dmat = 2 * np.ones((K, U))\n",
      "\n",
      "# baselines can be a lot bigger\n",
      "cmat[0, :] = 3\n",
      "dmat[0, :] = 1/6 / dt  # only baseline needs to compensate for dt\n",
      "\n",
      "nu1_mat = np.r_[np.ones((1, K)), 10 * np.ones((1, K))]\n",
      "nu2_mat = np.r_[10 * np.ones((1, K)), np.ones((1, K))]\n",
      "\n",
      "rho1_mat = np.ones((K,))\n",
      "rho2_mat = np.ones((K,))"
     ],
     "language": "python",
     "metadata": {},
     "outputs": [],
     "prompt_number": 31
    },
    {
     "cell_type": "code",
     "collapsed": false,
     "input": [
      "alpha_mat = np.sum(N, axis = 0) + 1 + cmat\n",
      "\n",
      "# start by assuming beta very large\n",
      "beta_mat = dmat + 100000\n",
      "\n",
      "gamma1_mat = nu1_mat\n",
      "gamma2_mat = nu2_mat\n",
      "\n",
      "delta1_mat = rho1_mat\n",
      "delta2_mat = rho2_mat\n",
      "\n",
      "#xi_mat = np.round(0.1 * np.random.rand(T, K))\n",
      "xi_mat = np.zeros((T, K))\n",
      "xi_mat[:, 0] = 1  # baseline"
     ],
     "language": "python",
     "metadata": {},
     "outputs": [],
     "prompt_number": 34
    },
    {
     "cell_type": "code",
     "collapsed": false,
     "input": [
      "gpm = gp.GPModel(T, K, U, dt)"
     ],
     "language": "python",
     "metadata": {},
     "outputs": [],
     "prompt_number": 33
    },
    {
     "cell_type": "code",
     "collapsed": false,
     "input": [
      "# priors and initial values\n",
      "priors = {'cc': cmat, 'dd': dmat, 'nu1': nu1_mat, 'nu2': nu2_mat,\n",
      "          'rho1': rho1_mat, 'rho2': rho2_mat}\n",
      "\n",
      "inits = {'alpha': alpha_mat, 'beta': beta_mat, \n",
      "         'gamma1': gamma1_mat, 'gamma2': gamma2_mat,\n",
      "         'delta1': delta1_mat, 'delta2': delta2_mat,\n",
      "         'xi': xi_mat}"
     ],
     "language": "python",
     "metadata": {},
     "outputs": [],
     "prompt_number": 35
    },
    {
     "cell_type": "code",
     "collapsed": false,
     "input": [
      "gpm.set_priors(**priors).set_inits(**inits).set_data(N);"
     ],
     "language": "python",
     "metadata": {},
     "outputs": [],
     "prompt_number": 36
    },
    {
     "cell_type": "code",
     "collapsed": false,
     "input": [
      "gpm.do_inference()"
     ],
     "language": "python",
     "metadata": {},
     "outputs": [
      {
       "output_type": "stream",
       "stream": "stdout",
       "text": [
        "Iteration 0: L = -393047.254899\n",
        "delta = 1\n",
        "chain 0: updated chain states: L = -393047.254899\n",
        "chain 1: updated chain states: L = -523753.046035"
       ]
      },
      {
       "output_type": "stream",
       "stream": "stdout",
       "text": [
        "\n",
        "chain 0: updated chain rates: L = 239335.879339\n",
        "chain 0: updated chain pars: L = 239335.879339\n",
        "chain 1: updated chain rates: L = 293467.932984\n",
        "chain 1: updated chain pars: L = 293467.932984\n",
        "Iteration 1: L = 293467.932984\n",
        "delta = 2.33931926021\n",
        "chain 0: updated chain states: L = 293467.932984\n",
        "chain 1: updated chain states: L = 271411.15254"
       ]
      },
      {
       "output_type": "stream",
       "stream": "stdout",
       "text": [
        "\n",
        "chain 0: updated chain rates: L = 271834.190588\n",
        "chain 0: updated chain pars: L = 271834.190588\n",
        "chain 1: updated chain rates: L = 272149.601951\n",
        "chain 1: updated chain pars: L = 272149.601951\n",
        "Iteration 2: L = 272149.601951\n",
        "delta = -0.0783331332461\n",
        "chain 0: updated chain states: L = 272149.601951\n",
        "chain 1: updated chain states: L = 270407.291088"
       ]
      },
      {
       "output_type": "stream",
       "stream": "stdout",
       "text": [
        "\n",
        "chain 0: updated chain rates: L = 270756.654399\n",
        "chain 0: updated chain pars: L = 270756.654399\n",
        "chain 1: updated chain rates: L = 270924.62698\n",
        "chain 1: updated chain pars: L = 270924.62698\n",
        "Iteration 3: L = 270924.62698\n",
        "delta = -0.00452146039782\n",
        "chain 0: updated chain states: L = 270924.62698\n",
        "chain 1: updated chain states: L = 270772.459105"
       ]
      },
      {
       "output_type": "stream",
       "stream": "stdout",
       "text": [
        "\n",
        "chain 0: updated chain rates: L = 270890.581196\n",
        "chain 0: updated chain pars: L = 270890.581196\n",
        "chain 1: updated chain rates: L = 270961.925865\n",
        "chain 1: updated chain pars: L = 270961.925865\n"
       ]
      }
     ],
     "prompt_number": 37
    },
    {
     "cell_type": "code",
     "collapsed": false,
     "input": [
      "Trng = (500, 1000)\n",
      "plt.matshow(chain.T[:, slice(*Trng)], aspect='auto', cmap=cm.gray, vmin=0, vmax=1);\n",
      "plt.matshow(gpm.xi.T[:, slice(*Trng)], aspect='auto', cmap=cm.gray, vmin=0, vmax=1);"
     ],
     "language": "python",
     "metadata": {},
     "outputs": [
      {
       "metadata": {},
       "output_type": "display_data",
       "png": "[encoded data removed]",
       "text": [
        "<matplotlib.figure.Figure at 0x10bf57a10>"
       ]
      },
      {
       "metadata": {},
       "output_type": "display_data",
       "png": "[encoded data removed]",
       "text": [
        "<matplotlib.figure.Figure at 0x10bf4fbd0>"
       ]
      }
     ],
     "prompt_number": 39
    },
    {
     "cell_type": "code",
     "collapsed": false,
     "input": [
      "plt.matshow(chain.T, aspect='auto', cmap=cm.gray, vmin=0, vmax=1);\n",
      "plt.matshow(gpm.xi.T, aspect='auto', cmap=cm.gray, vmin=0, vmax=1);"
     ],
     "language": "python",
     "metadata": {},
     "outputs": [
      {
       "metadata": {},
       "output_type": "display_data",
       "png": "[encoded data removed]",
       "text": [
        "<matplotlib.figure.Figure at 0x10b613810>"
       ]
      },
      {
       "metadata": {},
       "output_type": "display_data",
       "png": "[encoded data removed]",
       "text": [
        "<matplotlib.figure.Figure at 0x10b6f6e90>"
       ]
      }
     ],
     "prompt_number": 41
    },
    {
     "cell_type": "code",
     "collapsed": false,
     "input": [
      "plt.matshow(chain.T, aspect='auto', cmap=cm.gray);\n",
      "plt.matshow(gpm.xi.T, aspect='auto', cmap=cm.gray, vmin=0, vmax=1);\n",
      "plt.matshow(fr.T, aspect='auto', cmap=cm.gray);\n",
      "plt.matshow(np.exp(gpm.xi.dot(np.log(gpm.alpha / gpm.beta))).T, aspect='auto', cmap=cm.gray)\n",
      "plt.matshow(N.T, aspect='auto', cmap=cm.gray, vmin=0, vmax=np.max(N));"
     ],
     "language": "python",
     "metadata": {},
     "outputs": [
      {
       "metadata": {},
       "output_type": "display_data",
       "png": "[encoded data removed]",
       "text": [
        "<matplotlib.figure.Figure at 0x1024ddf50>"
       ]
      },
      {
       "metadata": {},
       "output_type": "display_data",
       "png": "[encoded data removed]",
       "text": [
        "<matplotlib.figure.Figure at 0x10b675310>"
       ]
      },
      {
       "metadata": {},
       "output_type": "display_data",
       "png": "[encoded data removed]",
       "text": [
        "<matplotlib.figure.Figure at 0x1024a77d0>"
       ]
      },
      {
       "metadata": {},
       "output_type": "display_data",
       "png": "[encoded data removed]",
       "text": [
        "<matplotlib.figure.Figure at 0x10bcd4910>"
       ]
      },
      {
       "metadata": {},
       "output_type": "display_data",
       "png": "[encoded data removed]",
       "text": [
        "<matplotlib.figure.Figure at 0x10bca5290>"
       ]
      }
     ],
     "prompt_number": 48
    },
    {
     "cell_type": "code",
     "collapsed": false,
     "input": [],
     "language": "python",
     "metadata": {},
     "outputs": []
    }
   ],
   "metadata": {}
  }
 ]
}