{
 "metadata": {
  "name": "",
  "signature": "sha256:a65daa6d0408d5abb92e09ab657b2dbbea73c4ee69a33991d390fdbec836b64e"
 },
 "nbformat": 3,
 "nbformat_minor": 0,
 "worksheets": [
  {
   "cells": [
    {
     "cell_type": "code",
     "collapsed": false,
     "input": [
      "from __future__ import division\n",
      "import numpy as np\n",
      "import scipy.stats as stats\n",
      "import matplotlib.pyplot as plt\n",
      "import matplotlib.cm as cm\n",
      "import gamma_poisson as gp\n",
      "%matplotlib inline\n",
      "\n",
      "np.random.seed(11734)"
     ],
     "language": "python",
     "metadata": {},
     "outputs": [],
     "prompt_number": 1
    },
    {
     "cell_type": "code",
     "collapsed": false,
     "input": [
      "def matshow(X, **kwargs):\n",
      "    plt.matshow(X, aspect='auto', cmap=cm.gray, **kwargs);"
     ],
     "language": "python",
     "metadata": {},
     "outputs": [],
     "prompt_number": 2
    },
    {
     "cell_type": "code",
     "collapsed": false,
     "input": [
      "U = 5  # units\n",
      "T = 5000  # time points/frames\n",
      "M = 2  # number of latent states\n",
      "Kdata = 2  # categories\n",
      "dt = 1  # frames per second"
     ],
     "language": "python",
     "metadata": {},
     "outputs": [],
     "prompt_number": 3
    },
    {
     "cell_type": "code",
     "collapsed": false,
     "input": [
      "# make transition matrix\n",
      "A = np.array([[0.98, 0.05], [0.02, 0.95]])"
     ],
     "language": "python",
     "metadata": {},
     "outputs": [],
     "prompt_number": 4
    },
    {
     "cell_type": "code",
     "collapsed": false,
     "input": [
      "chain = np.empty((T, Kdata))\n",
      "chain[:, 0] = 1  # baseline always on\n",
      "\n",
      "chain[0, 1] = 0  # start second category off\n",
      "for t in xrange(1, T):\n",
      "    chain[t, 1] = stats.bernoulli.rvs(A[1, chain[t - 1, 1]])"
     ],
     "language": "python",
     "metadata": {},
     "outputs": [],
     "prompt_number": 5
    },
    {
     "cell_type": "code",
     "collapsed": false,
     "input": [
      "matshow(chain.T);"
     ],
     "language": "python",
     "metadata": {},
     "outputs": [
      {
       "metadata": {},
       "output_type": "display_data",
       "png": "[encoded data removed]",
       "text": [
        "<matplotlib.figure.Figure at 0x105650d10>"
       ]
      }
     ],
     "prompt_number": 6
    },
    {
     "cell_type": "code",
     "collapsed": false,
     "input": [
      "# firing rates\n",
      "lam = np.empty((Kdata, U))\n",
      "lam[0, :] = [1, 5, 10, 7, 12]\n",
      "lam[1, :] = [10, 0.5, 0.1, 2, 0.1]\n",
      "\n",
      "fr = np.exp(chain.dot(np.log(lam))) * dt"
     ],
     "language": "python",
     "metadata": {},
     "outputs": [],
     "prompt_number": 7
    },
    {
     "cell_type": "code",
     "collapsed": false,
     "input": [
      "matshow(fr.T);"
     ],
     "language": "python",
     "metadata": {},
     "outputs": [
      {
       "metadata": {},
       "output_type": "display_data",
       "png": "[encoded data removed]",
       "text": [
        "<matplotlib.figure.Figure at 0x109858650>"
       ]
      }
     ],
     "prompt_number": 8
    },
    {
     "cell_type": "code",
     "collapsed": false,
     "input": [
      "# draw from Poisson\n",
      "N = stats.poisson.rvs(fr)\n",
      "matshow(N.T);"
     ],
     "language": "python",
     "metadata": {},
     "outputs": [
      {
       "metadata": {},
       "output_type": "display_data",
       "png": "[encoded data removed]",
       "text": [
        "<matplotlib.figure.Figure at 0x109b0f710>"
       ]
      }
     ],
     "prompt_number": 9
    },
    {
     "cell_type": "code",
     "collapsed": false,
     "input": [
      "# set up priors\n",
      "K = 2\n",
      "\n",
      "# multipliers shouldn't be much bigger than ~4\n",
      "cmat = 2 * np.ones((K, U))\n",
      "dmat = 2 * np.ones((K, U))\n",
      "\n",
      "# baselines can be a lot bigger\n",
      "cmat[0, :] = 3\n",
      "dmat[0, :] = 1/6 / dt  # only baseline needs to compensate for dt\n",
      "\n",
      "nu1_mat = np.r_[np.ones((1, K)), 1 * np.ones((1, K))]\n",
      "nu2_mat = np.r_[1 * np.ones((1, K)), np.ones((1, K))]\n",
      "\n",
      "rho1_mat = np.ones((K,))\n",
      "rho2_mat = np.ones((K,))"
     ],
     "language": "python",
     "metadata": {},
     "outputs": [],
     "prompt_number": 10
    },
    {
     "cell_type": "code",
     "collapsed": false,
     "input": [
      "alpha_mat = np.sum(N, axis = 0) + 1 + cmat\n",
      "\n",
      "# start by assuming beta very large\n",
      "beta_mat = dmat + 100000\n",
      "\n",
      "gamma1_mat = nu1_mat\n",
      "gamma2_mat = nu2_mat\n",
      "\n",
      "delta1_mat = rho1_mat\n",
      "delta2_mat = rho2_mat\n",
      "\n",
      "xi_mat = (0.1 >= np.random.rand(T, K))\n",
      "xi_mat = xi_mat.astype('float')\n",
      "#xi_mat = np.zeros((T, K))\n",
      "xi_mat[:, 0] = 1  # baseline"
     ],
     "language": "python",
     "metadata": {},
     "outputs": [],
     "prompt_number": 11
    },
    {
     "cell_type": "code",
     "collapsed": false,
     "input": [
      "gpm = gp.GPModel(T, K, U, dt)"
     ],
     "language": "python",
     "metadata": {},
     "outputs": [],
     "prompt_number": 12
    },
    {
     "cell_type": "code",
     "collapsed": false,
     "input": [
      "# priors and initial values\n",
      "priors = {'cc': cmat, 'dd': dmat, 'nu1': nu1_mat, 'nu2': nu2_mat,\n",
      "          'rho1': rho1_mat, 'rho2': rho2_mat}\n",
      "\n",
      "inits = {'alpha': alpha_mat, 'beta': beta_mat, \n",
      "         'gamma1': gamma1_mat, 'gamma2': gamma2_mat,\n",
      "         'delta1': delta1_mat, 'delta2': delta2_mat,\n",
      "         'xi': xi_mat}"
     ],
     "language": "python",
     "metadata": {},
     "outputs": [],
     "prompt_number": 13
    },
    {
     "cell_type": "code",
     "collapsed": false,
     "input": [
      "gpm.set_priors(**priors).set_inits(**inits).set_data(N);"
     ],
     "language": "python",
     "metadata": {},
     "outputs": [],
     "prompt_number": 14
    },
    {
     "cell_type": "code",
     "collapsed": false,
     "input": [
      "print gpm.L()"
     ],
     "language": "python",
     "metadata": {},
     "outputs": [
      {
       "output_type": "stream",
       "stream": "stdout",
       "text": [
        "0.0\n",
        "-148309.722177\n"
       ]
      }
     ],
     "prompt_number": 15
    },
    {
     "cell_type": "code",
     "collapsed": false,
     "input": [
      "gpm.iterate()\n",
      "print gpm.L()"
     ],
     "language": "python",
     "metadata": {},
     "outputs": [
      {
       "output_type": "stream",
       "stream": "stdout",
       "text": [
        "4832.0881337\n",
        "chain 0: updated chain rates: L = -182385.333912\n",
        "4832.0881337\n",
        "chain 0: updated chain pars: L = -182385.333912\n",
        "4832.0881337\n",
        "chain 0: updated chain states: L = -182385.333912\n",
        "4832.0881337\n",
        "chain 1: updated chain rates: L = -182403.943771\n",
        "4832.0881337\n",
        "chain 1: updated chain pars: L = -182403.943771\n",
        "4832.1459044"
       ]
      },
      {
       "output_type": "stream",
       "stream": "stdout",
       "text": [
        "\n",
        "chain 1: updated chain states: L = -182403.886001\n",
        "4832.1459044\n",
        "-182403.886001\n"
       ]
      }
     ],
     "prompt_number": 39
    },
    {
     "cell_type": "code",
     "collapsed": false,
     "input": [
      "Trng = (500, 1000)\n",
      "matshow(chain.T[:, slice(*Trng)], vmin=0, vmax=1);\n",
      "matshow(gpm.xi.T[:, slice(*Trng)], vmin=0, vmax=1);"
     ],
     "language": "python",
     "metadata": {},
     "outputs": [
      {
       "metadata": {},
       "output_type": "display_data",
       "png": "[encoded data removed]",
       "text": [
        "<matplotlib.figure.Figure at 0x10b1c1210>"
       ]
      },
      {
       "metadata": {},
       "output_type": "display_data",
       "png": "[encoded data removed]",
       "text": [
        "<matplotlib.figure.Figure at 0x10b27dc90>"
       ]
      }
     ],
     "prompt_number": 40
    },
    {
     "cell_type": "code",
     "collapsed": false,
     "input": [
      "matshow(chain.T, vmin=0, vmax=1);\n",
      "matshow(gpm.xi.T, vmin=0, vmax=1);"
     ],
     "language": "python",
     "metadata": {},
     "outputs": [
      {
       "metadata": {},
       "output_type": "display_data",
       "png": "[encoded data removed]",
       "text": [
        "<matplotlib.figure.Figure at 0x10b1e7b90>"
       ]
      },
      {
       "metadata": {},
       "output_type": "display_data",
       "png": "[encoded data removed]",
       "text": [
        "<matplotlib.figure.Figure at 0x10993ee90>"
       ]
      }
     ],
     "prompt_number": 44
    },
    {
     "cell_type": "code",
     "collapsed": false,
     "input": [
      "matshow(chain.T);\n",
      "matshow(gpm.xi.T, vmin=0, vmax=1);\n",
      "matshow(fr.T);\n",
      "matshow(np.exp(gpm.xi.dot(np.log(gpm.alpha / gpm.beta))).T)\n",
      "matshow(N.T, vmin=0, vmax=np.max(N));"
     ],
     "language": "python",
     "metadata": {},
     "outputs": [
      {
       "metadata": {},
       "output_type": "display_data",
       "png": "[encoded data removed]",
       "text": [
        "<matplotlib.figure.Figure at 0x10b1a3290>"
       ]
      },
      {
       "metadata": {},
       "output_type": "display_data",
       "png": "[encoded data removed]",
       "text": [
        "<matplotlib.figure.Figure at 0x10b8bcf90>"
       ]
      },
      {
       "metadata": {},
       "output_type": "display_data",
       "png": "[encoded data removed]",
       "text": [
        "<matplotlib.figure.Figure at 0x10b8c6910>"
       ]
      },
      {
       "metadata": {},
       "output_type": "display_data",
       "png": "[encoded data removed]",
       "text": [
        "<matplotlib.figure.Figure at 0x109c2f250>"
       ]
      },
      {
       "metadata": {},
       "output_type": "display_data",
       "png": "[encoded data removed]",
       "text": [
        "<matplotlib.figure.Figure at 0x10b8bc2d0>"
       ]
      }
     ],
     "prompt_number": 45
    },
    {
     "cell_type": "code",
     "collapsed": false,
     "input": [],
     "language": "python",
     "metadata": {},
     "outputs": []
    }
   ],
   "metadata": {}
  }
 ]
}