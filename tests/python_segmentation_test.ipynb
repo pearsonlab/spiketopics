{
 "cells": [
  {
   "cell_type": "markdown",
   "metadata": {},
   "source": [
    "# Python segmentation integration test\n",
    "\n",
    "Make some test data for segmentation and test algorithm implementation."
   ]
  },
  {
   "cell_type": "code",
   "execution_count": 1,
   "metadata": {
    "collapsed": true
   },
   "outputs": [],
   "source": [
    "import numpy as np\n",
    "import matplotlib.pyplot as plt\n",
    "import scipy.stats as stats\n",
    "%matplotlib inline\n",
    "\n",
    "np.random.seed(12348)"
   ]
  },
  {
   "cell_type": "markdown",
   "metadata": {},
   "source": [
    "# Set up constants"
   ]
  },
  {
   "cell_type": "code",
   "execution_count": 2,
   "metadata": {
    "collapsed": false
   },
   "outputs": [],
   "source": [
    "# duration stuff\n",
    "\n",
    "T = 5  # total duration (in s)\n",
    "dt = 0.05  # bin size (in s)\n",
    "Nt = int(np.ceil(T / dt))\n",
    "\n",
    "mu = 0.5  # mean state duration (in s)\n",
    "sig = 0.05  # standard deviation of state duration (in s)"
   ]
  },
  {
   "cell_type": "code",
   "execution_count": 3,
   "metadata": {
    "collapsed": true
   },
   "outputs": [],
   "source": [
    "# rates\n",
    "lam = 1.  # baseline rate (Hz)\n",
    "nu = 1000.  # rate multiplier (Hz)"
   ]
  },
  {
   "cell_type": "markdown",
   "metadata": {},
   "source": [
    "# Make some intervals"
   ]
  },
  {
   "cell_type": "code",
   "execution_count": 4,
   "metadata": {
    "collapsed": false
   },
   "outputs": [],
   "source": [
    "durations = mu + sig * np.random.randn(Nt)\n",
    "changepoints = np.cumsum(durations)\n",
    "maxind = np.argwhere(changepoints > T)[0, 0]\n",
    "changepoints = changepoints[:maxind]"
   ]
  },
  {
   "cell_type": "code",
   "execution_count": 5,
   "metadata": {
    "collapsed": false
   },
   "outputs": [
    {
     "data": {
      "text/plain": [
       "array([ 11.3095624 ,  19.66190965,  29.58543266,  38.02284812,\n",
       "        49.67895912,  57.83183378,  67.24225904,  78.0745227 ,\n",
       "        87.89415731,  98.893017  ])"
      ]
     },
     "execution_count": 5,
     "metadata": {},
     "output_type": "execute_result"
    }
   ],
   "source": [
    "changepoints / dt"
   ]
  },
  {
   "cell_type": "code",
   "execution_count": 6,
   "metadata": {
    "collapsed": false
   },
   "outputs": [],
   "source": [
    "taxis = np.arange(0, T, dt)\n",
    "states = np.zeros(Nt)\n",
    "rates = lam * np.ones(Nt)"
   ]
  },
  {
   "cell_type": "code",
   "execution_count": 7,
   "metadata": {
    "collapsed": false
   },
   "outputs": [],
   "source": [
    "for idx in xrange(0, len(changepoints), 2):\n",
    "    if idx == len(changepoints) - 1:\n",
    "        upper = T\n",
    "    else:\n",
    "        upper = changepoints[idx + 1]\n",
    "    in_state_1 = (changepoints[idx] < taxis) & (taxis < upper)\n",
    "    states[in_state_1] = 1\n",
    "    rates[in_state_1] = nu * lam"
   ]
  },
  {
   "cell_type": "code",
   "execution_count": 8,
   "metadata": {
    "collapsed": false
   },
   "outputs": [
    {
     "data": {
      "image/png": "[encoded data removed]",
      "text/plain": [
       "<matplotlib.figure.Figure at 0x7f8ab01ce090>"
      ]
     },
     "metadata": {},
     "output_type": "display_data"
    }
   ],
   "source": [
    "plt.matshow(states[np.newaxis, :], cmap=\"gray\", aspect=\"auto\");"
   ]
  },
  {
   "cell_type": "markdown",
   "metadata": {},
   "source": [
    "# Make counts"
   ]
  },
  {
   "cell_type": "code",
   "execution_count": 9,
   "metadata": {
    "collapsed": false
   },
   "outputs": [
    {
     "name": "stdout",
     "output_type": "stream",
     "text": [
      "[ 0  0  0  0  0  0  0  0  0  0  0  0 44 48 58 53 38 47 50 47  0  0  1  0  0\n",
      "  0  0  0  0  1 62 48 54 46 61 51 48 56 58  0  0  0  0  0  0  0  0  0  0  0\n",
      " 52 54 53 41 49 36 61 50  0  0  0  0  0  0  0  0  0  0 45 58 45 47 45 55 62\n",
      " 45 58 43 64  0  0  0  0  0  0  0  0  0 60 47 45 47 46 58 53 45 45 57 53  0]\n"
     ]
    },
    {
     "data": {
      "image/png": "[encoded data removed]",
      "text/plain": [
       "<matplotlib.figure.Figure at 0x7f8a88fbc0d0>"
      ]
     },
     "metadata": {},
     "output_type": "display_data"
    }
   ],
   "source": [
    "counts = stats.poisson.rvs(rates * dt)\n",
    "\n",
    "plt.matshow(counts[np.newaxis, :], cmap=\"gray\", aspect=\"auto\")\n",
    "\n",
    "print counts"
   ]
  },
  {
   "cell_type": "markdown",
   "metadata": {},
   "source": [
    "# Run inference"
   ]
  },
  {
   "cell_type": "code",
   "execution_count": 10,
   "metadata": {
    "collapsed": false
   },
   "outputs": [],
   "source": [
    "import pelt\n",
    "\n",
    "cplist = pelt.find_changepoints(counts, lam, nu, dt, 2.)\n",
    "\n",
    "inferred = pelt.calc_state_probs(counts, cplist, lam, nu, dt)"
   ]
  },
  {
   "cell_type": "code",
   "execution_count": 11,
   "metadata": {
    "collapsed": false
   },
   "outputs": [
    {
     "data": {
      "text/plain": [
       "(array([ 11.3095624 ,  19.66190965,  29.58543266,  38.02284812,\n",
       "         49.67895912,  57.83183378,  67.24225904,  78.0745227 ,\n",
       "         87.89415731,  98.893017  ]),\n",
       " array([ 0, 11, 19, 29, 38, 49, 57, 67, 78, 87, 98]))"
      ]
     },
     "execution_count": 11,
     "metadata": {},
     "output_type": "execute_result"
    }
   ],
   "source": [
    "changepoints / dt , np.array(cplist)"
   ]
  },
  {
   "cell_type": "code",
   "execution_count": 12,
   "metadata": {
    "collapsed": false
   },
   "outputs": [
    {
     "data": {
      "image/png": "[encoded data removed]",
      "text/plain": [
       "<matplotlib.figure.Figure at 0x7f8a88e8c090>"
      ]
     },
     "metadata": {},
     "output_type": "display_data"
    },
    {
     "data": {
      "image/png": "[encoded data removed]",
      "text/plain": [
       "<matplotlib.figure.Figure at 0x7f8a88f49510>"
      ]
     },
     "metadata": {},
     "output_type": "display_data"
    },
    {
     "data": {
      "image/png": "[encoded data removed]",
      "text/plain": [
       "<matplotlib.figure.Figure at 0x7f8a88e14ed0>"
      ]
     },
     "metadata": {},
     "output_type": "display_data"
    }
   ],
   "source": [
    "plt.matshow(states[np.newaxis, :], cmap=\"gray\", aspect=\"auto\", clim=(0, 1))\n",
    "plt.matshow(counts[np.newaxis, :], cmap=\"gray\", aspect=\"auto\")\n",
    "plt.matshow(inferred[np.newaxis, :], cmap=\"gray\", aspect=\"auto\", clim=(0, 1));"
   ]
  },
  {
   "cell_type": "code",
   "execution_count": null,
   "metadata": {
    "collapsed": true
   },
   "outputs": [],
   "source": []
  },
  {
   "cell_type": "code",
   "execution_count": null,
   "metadata": {
    "collapsed": true
   },
   "outputs": [],
   "source": []
  }
 ],
 "metadata": {
  "kernelspec": {
   "display_name": "Python 2",
   "language": "python",
   "name": "python2"
  },
  "language_info": {
   "codemirror_mode": {
    "name": "ipython",
    "version": 2
   },
   "file_extension": ".py",
   "mimetype": "text/x-python",
   "name": "python",
   "nbconvert_exporter": "python",
   "pygments_lexer": "ipython2",
   "version": "2.7.10"
  }
 },
 "nbformat": 4,
 "nbformat_minor": 0
}
