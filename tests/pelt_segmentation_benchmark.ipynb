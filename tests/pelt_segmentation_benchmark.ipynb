{
 "cells": [
  {
   "cell_type": "markdown",
   "metadata": {},
   "source": [
    "# Python segmentation benchmark\n",
    "\n",
    "Make some test data for segmentation and test algorithm performance."
   ]
  },
  {
   "cell_type": "code",
   "execution_count": 1,
   "metadata": {
    "collapsed": true
   },
   "outputs": [],
   "source": [
    "import numpy as np\n",
    "import matplotlib.pyplot as plt\n",
    "import scipy.stats as stats\n",
    "%matplotlib inline\n",
    "\n",
    "np.random.seed(12348)"
   ]
  },
  {
   "cell_type": "markdown",
   "metadata": {},
   "source": [
    "# Set up constants"
   ]
  },
  {
   "cell_type": "code",
   "execution_count": 2,
   "metadata": {
    "collapsed": false
   },
   "outputs": [],
   "source": [
    "# duration stuff\n",
    "\n",
    "T = 500  # total duration (in s)\n",
    "dt = 0.05  # bin size (in s)\n",
    "Nt = int(np.ceil(T / dt))\n",
    "\n",
    "mu = 0.5  # mean state duration (in s)\n",
    "sig = 0.05  # standard deviation of state duration (in s)"
   ]
  },
  {
   "cell_type": "code",
   "execution_count": 3,
   "metadata": {
    "collapsed": true
   },
   "outputs": [],
   "source": [
    "# rates\n",
    "lam = 1.  # baseline rate (Hz)\n",
    "nu = 500.  # rate multiplier (Hz)"
   ]
  },
  {
   "cell_type": "markdown",
   "metadata": {},
   "source": [
    "# Make some intervals"
   ]
  },
  {
   "cell_type": "code",
   "execution_count": 4,
   "metadata": {
    "collapsed": false
   },
   "outputs": [],
   "source": [
    "durations = mu + sig * np.random.randn(Nt)\n",
    "changepoints = np.cumsum(durations)\n",
    "maxind = np.argwhere(changepoints > T)[0, 0]\n",
    "changepoints = changepoints[:maxind]"
   ]
  },
  {
   "cell_type": "code",
   "execution_count": 5,
   "metadata": {
    "collapsed": false
   },
   "outputs": [
    {
     "data": {
      "text/plain": [
       "array([   11.3095624 ,    19.66190965,    29.58543266, ...,  9972.56112388,\n",
       "        9983.99454471,  9993.95774758])"
      ]
     },
     "execution_count": 5,
     "metadata": {},
     "output_type": "execute_result"
    }
   ],
   "source": [
    "changepoints / dt"
   ]
  },
  {
   "cell_type": "code",
   "execution_count": 6,
   "metadata": {
    "collapsed": false
   },
   "outputs": [],
   "source": [
    "taxis = np.arange(0, T, dt)\n",
    "states = np.zeros(Nt)\n",
    "rates = lam * np.ones(Nt)"
   ]
  },
  {
   "cell_type": "code",
   "execution_count": 7,
   "metadata": {
    "collapsed": false
   },
   "outputs": [],
   "source": [
    "for idx in xrange(0, len(changepoints), 2):\n",
    "    if idx == len(changepoints) - 1:\n",
    "        upper = T\n",
    "    else:\n",
    "        upper = changepoints[idx + 1]\n",
    "    in_state_1 = (changepoints[idx] < taxis) & (taxis < upper)\n",
    "    states[in_state_1] = 1\n",
    "    rates[in_state_1] = nu * lam"
   ]
  },
  {
   "cell_type": "markdown",
   "metadata": {},
   "source": [
    "# Make counts"
   ]
  },
  {
   "cell_type": "code",
   "execution_count": 8,
   "metadata": {
    "collapsed": false
   },
   "outputs": [],
   "source": [
    "counts = stats.poisson.rvs(rates * dt)"
   ]
  },
  {
   "cell_type": "markdown",
   "metadata": {},
   "source": [
    "# Calculate log likelihoods"
   ]
  },
  {
   "cell_type": "code",
   "execution_count": 9,
   "metadata": {
    "collapsed": false
   },
   "outputs": [],
   "source": [
    "psi = np.empty((len(counts), 2))\n",
    "psi[:, 0] = stats.poisson.logpmf(counts, lam * dt)\n",
    "psi[:, 1] = stats.poisson.logpmf(counts, nu * lam * dt)"
   ]
  },
  {
   "cell_type": "markdown",
   "metadata": {},
   "source": [
    "# Run inference"
   ]
  },
  {
   "cell_type": "code",
   "execution_count": 10,
   "metadata": {
    "collapsed": false
   },
   "outputs": [],
   "source": [
    "from spiketopics import pelt"
   ]
  },
  {
   "cell_type": "code",
   "execution_count": 11,
   "metadata": {
    "collapsed": false
   },
   "outputs": [
    {
     "name": "stdout",
     "output_type": "stream",
     "text": [
      "CPU times: user 63.5 ms, sys: 0 ns, total: 63.5 ms\n",
      "Wall time: 63.5 ms\n"
     ]
    }
   ],
   "source": [
    "# prior parameters:\n",
    "theta = 0.5  # unbiased z prior\n",
    "alpha = 1  # exp(-m) prior on changepoint number\n",
    "\n",
    "cplist = pelt.find_changepoints(psi, theta, alpha)\n",
    "\n",
    "# now time without jit overhead\n",
    "%time cplist = pelt.find_changepoints(psi, theta, alpha)\n",
    "\n",
    "#%prun cplist = pelt.find_changepoints(psi, theta, alpha)"
   ]
  },
  {
   "cell_type": "code",
   "execution_count": 12,
   "metadata": {
    "collapsed": false
   },
   "outputs": [],
   "source": [
    "inferred = pelt.calc_state_probs(psi, theta, cplist)"
   ]
  },
  {
   "cell_type": "code",
   "execution_count": 13,
   "metadata": {
    "collapsed": false
   },
   "outputs": [
    {
     "data": {
      "text/plain": [
       "(array([   11.3095624 ,    19.66190965,    29.58543266, ...,  9972.56112388,\n",
       "         9983.99454471,  9993.95774758]),\n",
       " array([   0,   11,   19, ..., 9972, 9983, 9993]))"
      ]
     },
     "execution_count": 13,
     "metadata": {},
     "output_type": "execute_result"
    }
   ],
   "source": [
    "changepoints / dt , np.array(cplist)"
   ]
  },
  {
   "cell_type": "code",
   "execution_count": null,
   "metadata": {
    "collapsed": true
   },
   "outputs": [],
   "source": []
  }
 ],
 "metadata": {
  "kernelspec": {
   "display_name": "Python 2",
   "language": "python",
   "name": "python2"
  },
  "language_info": {
   "codemirror_mode": {
    "name": "ipython",
    "version": 2
   },
   "file_extension": ".py",
   "mimetype": "text/x-python",
   "name": "python",
   "nbconvert_exporter": "python",
   "pygments_lexer": "ipython2",
   "version": "2.7.10"
  }
 },
 "nbformat": 4,
 "nbformat_minor": 0
}
