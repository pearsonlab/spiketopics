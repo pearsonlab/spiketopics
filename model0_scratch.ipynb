{
 "metadata": {
  "name": "",
  "signature": "sha256:8096a05c6872d8b58e0ff91dcd754bed06a5edca63ef6c583fd04750770d7d8d"
 },
 "nbformat": 3,
 "nbformat_minor": 0,
 "worksheets": [
  {
   "cells": [
    {
     "cell_type": "heading",
     "level": 1,
     "metadata": {},
     "source": [
      "Model 0: Variational Inference Scratch"
     ]
    },
    {
     "cell_type": "markdown",
     "metadata": {},
     "source": [
      "Here, we'd like to test out variational inference for [Model 0'](http://localhost:8888/notebooks/LDA_for_spikes.ipynb#Model-0'). To do so, we'll start simple, with a single unit exposed to a number of stimuli with varying category weights."
     ]
    },
    {
     "cell_type": "code",
     "collapsed": false,
     "input": [
      "from __future__ import division\n",
      "import numpy as np\n",
      "import scipy.stats as stats\n",
      "import matplotlib.pyplot as plt\n",
      "%matplotlib inline"
     ],
     "language": "python",
     "metadata": {},
     "outputs": [],
     "prompt_number": 15
    },
    {
     "cell_type": "code",
     "collapsed": false,
     "input": [
      "# pick some reasonable numbers to make fake data\n",
      "U = 1  # number of units\n",
      "T = 50000  # number of times\n",
      "K = 3  # number of categories"
     ],
     "language": "python",
     "metadata": {},
     "outputs": [],
     "prompt_number": 16
    },
    {
     "cell_type": "code",
     "collapsed": false,
     "input": [
      "# set up firing rate distribution\n",
      "xx = np.linspace(0, 50, 1000)\n",
      "mu = 10\n",
      "tau = 3\n",
      "plt.plot(xx, stats.gamma(a=mu / tau, scale=tau).pdf(xx))\n",
      "print \"(a, b) = \", mu / tau, 1./tau"
     ],
     "language": "python",
     "metadata": {},
     "outputs": [
      {
       "output_type": "stream",
       "stream": "stdout",
       "text": [
        "(a, b) =  3.33333333333 0.333333333333\n"
       ]
      },
      {
       "metadata": {},
       "output_type": "display_data",
       "png": "[encoded data removed]",
       "text": [
        "<matplotlib.figure.Figure at 0x107d30210>"
       ]
      }
     ],
     "prompt_number": 17
    },
    {
     "cell_type": "code",
     "collapsed": false,
     "input": [
      "# set up a firing rate for each category\n",
      "lam = np.array([10, 0, 20])\n",
      "\n",
      "# draw T category loadings\n",
      "alpha = np.array((10, 5, 3))\n",
      "theta = np.random.dirichlet(alpha, T)\n",
      "\n",
      "# generate Poisson counts\n",
      "rate = theta.dot(lam)\n",
      "dt = 1./30  # 30 frames per second\n",
      "N = stats.poisson.rvs(rate * dt, size=rate.size).reshape((T, U))"
     ],
     "language": "python",
     "metadata": {},
     "outputs": [],
     "prompt_number": 18
    },
    {
     "cell_type": "code",
     "collapsed": false,
     "input": [
      "# choose priors:\n",
      "\n",
      "# simple exponential on theta\n",
      "alpha = 1\n",
      "beta = 1\n",
      "\n",
      "# prior on lambda\n",
      "a = 1\n",
      "b = 0.25\n",
      "xx = np.linspace(0, 10, 1000)\n",
      "plt.plot(xx, stats.gamma(a=a, scale=1/b).pdf(xx));"
     ],
     "language": "python",
     "metadata": {},
     "outputs": [
      {
       "metadata": {},
       "output_type": "display_data",
       "png": "[encoded data removed]",
       "text": [
        "<matplotlib.figure.Figure at 0x102ac5f10>"
       ]
      }
     ],
     "prompt_number": 19
    },
    {
     "cell_type": "code",
     "collapsed": false,
     "input": [
      "# set up parameter matrices for model\n",
      "c = a * np.ones((K, U))\n",
      "d = b * np.ones((K, U))\n",
      "gamma = alpha * np.ones((T, K))\n",
      "delta = beta * np.ones((T, K))\n",
      "pimat = np.random.rand(K, T, U)\n",
      "pimat = pimat / np.sum(pimat, axis=0)"
     ],
     "language": "python",
     "metadata": {},
     "outputs": [],
     "prompt_number": 20
    },
    {
     "cell_type": "code",
     "collapsed": false,
     "input": [
      "from scipy.special import psi\n",
      "def update(c, d, gamma, delta, pimat):\n",
      "    c = np.sum(pimat * N, axis=1) + a * np.ones_like(c)\n",
      "    d = np.sum(gamma / delta, axis=0).reshape((K, 1)) + b * np.ones_like(d)\n",
      "    gamma = np.sum(pimat * N, axis=2).T + alpha * np.ones_like(gamma)\n",
      "    delta = np.expand_dims(np.sum(c / d, axis=1), 0) + beta * np.ones_like(delta)\n",
      "    C = (gamma / delta).dot(c / d)\n",
      "    logpi = ( np.expand_dims(psi(gamma.T) - np.log(delta.T), 2) + \n",
      "             np.expand_dims(psi(c) - np.log(d), 1) \n",
      "             - np.expand_dims(np.log(C), 0) )\n",
      "    pimat = np.exp(logpi)\n",
      "    return c, d, gamma, delta, pimat"
     ],
     "language": "python",
     "metadata": {},
     "outputs": [],
     "prompt_number": 21
    },
    {
     "cell_type": "code",
     "collapsed": false,
     "input": [
      "aa = update(c, d, gamma, delta, pimat)"
     ],
     "language": "python",
     "metadata": {},
     "outputs": [],
     "prompt_number": 22
    },
    {
     "cell_type": "code",
     "collapsed": false,
     "input": [
      "for ind in xrange(500):\n",
      "    aa = update(*aa)"
     ],
     "language": "python",
     "metadata": {},
     "outputs": [],
     "prompt_number": 23
    },
    {
     "cell_type": "code",
     "collapsed": false,
     "input": [],
     "language": "python",
     "metadata": {},
     "outputs": [],
     "prompt_number": 23
    }
   ],
   "metadata": {}
  }
 ]
}