{
 "metadata": {
  "name": "",
  "signature": "sha256:0a0fd34455e427563c1c5ebbc1b6ba319ea3e482e584dfee8128f98e42542fa3"
 },
 "nbformat": 3,
 "nbformat_minor": 0,
 "worksheets": [
  {
   "cells": [
    {
     "cell_type": "heading",
     "level": 1,
     "metadata": {},
     "source": [
      "Model 2"
     ]
    },
    {
     "cell_type": "markdown",
     "metadata": {},
     "source": [
      "In this model, we construct a structured variational ansatz that is a product over Markov chains that we solve exactly using forwards-backwards."
     ]
    },
    {
     "cell_type": "heading",
     "level": 2,
     "metadata": {},
     "source": [
      "Model definition"
     ]
    },
    {
     "cell_type": "markdown",
     "metadata": {},
     "source": [
      "For $T$ times, $U$ units, and $K$ topics, let\n",
      "$$\n",
      "\\lambda_{ku} \\sim \\text{Ga}(a_{ku}, b_{ku}) \\quad \\text{firing rate for each (topic, unit)} \\\\\n",
      "p(z_{tk}|z_{(t-1)k}) = A^{(k)}_{z_{t}, z_{t-1}} \\quad \\text{a column-stochastic Markov matrix} \\\\\n",
      "z_{0k} \\sim \\text{Bern}(\\zeta_{k}) \\quad \\text{the prior on initial state for each topic} \\\\ \n",
      "A^{(k)}_{1i} \\sim \\text{Be}(\\alpha_{ik}, \\beta_{ik}) \\quad \\text{state transition probabilities for each topic} \\\\\n",
      "N_{tu} \\sim \\text{Pois}\\left(\\sum_k z_{tk}\\lambda_{ku} \\right) \\quad \\text{spike count at time $t$ for unit $u$}\n",
      "$$"
     ]
    },
    {
     "cell_type": "markdown",
     "metadata": {},
     "source": [
      "Here, we have written $A$ as a column-stochastic matrix\n",
      "$$\n",
      "A = \n",
      "\\begin{pmatrix}\n",
      "\\nu_{0 \\rightarrow 0} & \\nu_{1 \\rightarrow 0} \\\\\n",
      "\\nu_{0 \\rightarrow 1} & \\nu_{1 \\rightarrow 1}\n",
      "\\end{pmatrix}\n",
      "$$\n",
      "such that the evolution of an initial distribution $p(z_0) = \\pi_0$ evolves in time via\n",
      "$$\n",
      "p(z_t) = A^t\\pi_0\n",
      "$$\n",
      "\n",
      "In what follows, we will write $\\nu^{(k)}_{0 \\rightarrow 1} = \\nu_{0k}$ and $\\nu^{(k)}_{1 \\rightarrow 1} = \\nu_{1k}$, so that the within-state transitions have priors\n",
      "$$\n",
      "\\nu_{ik} \\sim \\text{Be}(\\alpha_{ik}, \\beta_{ik})\n",
      "$$"
     ]
    },
    {
     "cell_type": "heading",
     "level": 2,
     "metadata": {},
     "source": [
      "Joint distribution"
     ]
    },
    {
     "cell_type": "markdown",
     "metadata": {},
     "source": [
      "We want to find \n",
      "$$\n",
      "p(N, z, \\lambda) = p(N|z, \\lambda)p(z)p(\\lambda)\n",
      "$$\n",
      "\n",
      "As above, we can easily write the first factor:\n",
      "$$\n",
      "p(N|z, \\lambda) \\propto \\prod_{tu} \\left(\\sum_k z_{tk}\\lambda_{ku} \\right)^{N_{tu}} e^{-\\sum_k z_{tk}\\lambda_{ku}}\n",
      "$$\n",
      "\n",
      "However, as before, this will not take the exponential form unless we introduce the auxiliary variables $n_{ktu}$ with $\\sum_k n_{ktu} = N_{tu}$. With this, we can expand the first factor in the above via the multinomial theorem to write\n",
      "$$\n",
      "p(n|z, \\lambda) \\propto \\prod_{kt} \\left( \\prod_u \\frac{\\lambda_{ku}^{n_{ktu}}}{n_{ktu}!} e^{-\\lambda_{ku}} \\right)^{z_{tk}}\n",
      "$$\n",
      "with $n_{ktu} = 0$ for $z_{tk} = 0$.\n",
      "\n",
      "That is, we have decoupled the total spike count into the results of separate Poisson processes for each latent factor, coupled through the constraint $\\sum_k n_{ktu} = N_{tu}$."
     ]
    },
    {
     "cell_type": "heading",
     "level": 2,
     "metadata": {},
     "source": [
      "Variational ansatz"
     ]
    },
    {
     "cell_type": "markdown",
     "metadata": {},
     "source": [
      "Here, we choose a partially factorized ansatz for the posterior:\n",
      "$$\n",
      "q(n, z, \\lambda, \\nu) = q(n)q(z)q(\\lambda)q(\\nu) = \n",
      "\\left(\\prod_{uk} q(n_{k \\bullet u}, z_{\\bullet k}) \\right) \\left(\\prod_{ku} q(\\lambda_{ku}) \\right) \n",
      " \\left(\\prod_{ik} q(\\nu_{ik}) \\right)\\\\\n",
      "\\lambda_{ku} \\sim \\text{Ga}(c_{ku}, d_{ku}) \\\\\n",
      "\\nu_{ik} \\sim \\text{Be}(\\gamma_{ik}, \\delta_{ik})\n",
      "$$"
     ]
    },
    {
     "cell_type": "code",
     "collapsed": false,
     "input": [],
     "language": "python",
     "metadata": {},
     "outputs": []
    }
   ],
   "metadata": {}
  }
 ]
}