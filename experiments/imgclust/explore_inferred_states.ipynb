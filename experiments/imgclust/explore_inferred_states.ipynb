{
 "cells": [
  {
   "cell_type": "code",
   "execution_count": 1,
   "metadata": {
    "collapsed": false
   },
   "outputs": [
    {
     "name": "stderr",
     "output_type": "stream",
     "text": [
      "/Users/jmxp/anaconda/lib/python2.7/site-packages/matplotlib/font_manager.py:273: UserWarning: Matplotlib is building the font cache using fc-list. This may take a moment.\n",
      "  warnings.warn('Matplotlib is building the font cache using fc-list. This may take a moment.')\n",
      "/Users/jmxp/anaconda/lib/python2.7/site-packages/matplotlib/__init__.py:872: UserWarning: axes.color_cycle is deprecated and replaced with axes.prop_cycle; please use the latter.\n",
      "  warnings.warn(self.msg_depr % (key, alt_key))\n"
     ]
    }
   ],
   "source": [
    "from __future__ import division\n",
    "import numpy as np\n",
    "import pandas as pd\n",
    "import matplotlib.pyplot as plt\n",
    "import seaborn as sns\n",
    "import matplotlib.cm as cm\n",
    "import cPickle as pickle\n",
    "from spiketopics.helpers import *\n",
    "\n",
    "%matplotlib inline\n",
    "sns.set_style('darkgrid')\n",
    "savefigs = False"
   ]
  },
  {
   "cell_type": "markdown",
   "metadata": {},
   "source": [
    "# Load in data"
   ]
  },
  {
   "cell_type": "code",
   "execution_count": 2,
   "metadata": {
    "collapsed": false
   },
   "outputs": [],
   "source": [
    "infile = 'data/fitted_model_object.pkl'\n",
    "gpm = pickle.load(open(infile, 'rb'))\n",
    "dt = 0.30"
   ]
  },
  {
   "cell_type": "code",
   "execution_count": 3,
   "metadata": {
    "collapsed": false
   },
   "outputs": [
    {
     "data": {
      "text/html": [
       "<div>\n",
       "<table border=\"1\" class=\"dataframe\">\n",
       "  <thead>\n",
       "    <tr style=\"text-align: right;\">\n",
       "      <th></th>\n",
       "      <th>trial</th>\n",
       "      <th>unit</th>\n",
       "      <th>count</th>\n",
       "      <th>category</th>\n",
       "      <th>time</th>\n",
       "    </tr>\n",
       "  </thead>\n",
       "  <tbody>\n",
       "    <tr>\n",
       "      <th>0</th>\n",
       "      <td>69</td>\n",
       "      <td>0</td>\n",
       "      <td>2</td>\n",
       "      <td>Baseline</td>\n",
       "      <td>0</td>\n",
       "    </tr>\n",
       "    <tr>\n",
       "      <th>1</th>\n",
       "      <td>69</td>\n",
       "      <td>1</td>\n",
       "      <td>1</td>\n",
       "      <td>Baseline</td>\n",
       "      <td>0</td>\n",
       "    </tr>\n",
       "    <tr>\n",
       "      <th>2</th>\n",
       "      <td>69</td>\n",
       "      <td>2</td>\n",
       "      <td>2</td>\n",
       "      <td>Baseline</td>\n",
       "      <td>0</td>\n",
       "    </tr>\n",
       "    <tr>\n",
       "      <th>3</th>\n",
       "      <td>69</td>\n",
       "      <td>3</td>\n",
       "      <td>0</td>\n",
       "      <td>Baseline</td>\n",
       "      <td>0</td>\n",
       "    </tr>\n",
       "    <tr>\n",
       "      <th>4</th>\n",
       "      <td>69</td>\n",
       "      <td>4</td>\n",
       "      <td>3</td>\n",
       "      <td>Baseline</td>\n",
       "      <td>0</td>\n",
       "    </tr>\n",
       "  </tbody>\n",
       "</table>\n",
       "</div>"
      ],
      "text/plain": [
       "   trial  unit  count  category  time\n",
       "0     69     0      2  Baseline     0\n",
       "1     69     1      1  Baseline     0\n",
       "2     69     2      2  Baseline     0\n",
       "3     69     3      0  Baseline     0\n",
       "4     69     4      3  Baseline     0"
      ]
     },
     "execution_count": 3,
     "metadata": {},
     "output_type": "execute_result"
    }
   ],
   "source": [
    "df = pd.read_csv('data/prepped_data.csv')\n",
    "df.head()"
   ]
  },
  {
   "cell_type": "code",
   "execution_count": 4,
   "metadata": {
    "collapsed": false
   },
   "outputs": [],
   "source": [
    "dfm = df.groupby(['time', 'unit']).mean()['count'].unstack(level=0)"
   ]
  },
  {
   "cell_type": "code",
   "execution_count": 5,
   "metadata": {
    "collapsed": false
   },
   "outputs": [
    {
     "data": {
      "image/png": "[encoded data removed]",
      "text/plain": [
       "<matplotlib.figure.Figure at 0x11301c6d0>"
      ]
     },
     "metadata": {},
     "output_type": "display_data"
    }
   ],
   "source": [
    "plt.matshow(dfm.values[:, 1::3] / dfm.values[:, ::3], \n",
    "            aspect='auto', vmin=1, vmax=3)\n",
    "plt.colorbar();"
   ]
  },
  {
   "cell_type": "code",
   "execution_count": 6,
   "metadata": {
    "collapsed": false
   },
   "outputs": [],
   "source": [
    "dfmm = df.groupby('time').mean()['count']"
   ]
  },
  {
   "cell_type": "code",
   "execution_count": 7,
   "metadata": {
    "collapsed": false
   },
   "outputs": [
    {
     "data": {
      "text/plain": [
       "<Container object of 3 artists>"
      ]
     },
     "execution_count": 7,
     "metadata": {},
     "output_type": "execute_result"
    },
    {
     "data": {
      "image/png": "[encoded data removed]",
      "text/plain": [
       "<matplotlib.figure.Figure at 0x11301c050>"
      ]
     },
     "metadata": {},
     "output_type": "display_data"
    }
   ],
   "source": [
    "dfrel = (dfmm.values[1::3] - dfmm.values[::3])/dfmm.values[1::3]\n",
    "plt.stem(range(len(dfrel)), dfrel)"
   ]
  },
  {
   "cell_type": "code",
   "execution_count": 8,
   "metadata": {
    "collapsed": false
   },
   "outputs": [
    {
     "data": {
      "text/html": [
       "<div>\n",
       "<table border=\"1\" class=\"dataframe\">\n",
       "  <thead>\n",
       "    <tr style=\"text-align: right;\">\n",
       "      <th></th>\n",
       "      <th>unit</th>\n",
       "      <th>time</th>\n",
       "      <th>count</th>\n",
       "      <th>lam0</th>\n",
       "      <th>lam1</th>\n",
       "    </tr>\n",
       "  </thead>\n",
       "  <tbody>\n",
       "    <tr>\n",
       "      <th>0</th>\n",
       "      <td>0</td>\n",
       "      <td>0</td>\n",
       "      <td>2</td>\n",
       "      <td>-1.650349</td>\n",
       "      <td>-1.645527</td>\n",
       "    </tr>\n",
       "    <tr>\n",
       "      <th>1</th>\n",
       "      <td>1</td>\n",
       "      <td>0</td>\n",
       "      <td>1</td>\n",
       "      <td>-1.821116</td>\n",
       "      <td>-2.104892</td>\n",
       "    </tr>\n",
       "    <tr>\n",
       "      <th>2</th>\n",
       "      <td>2</td>\n",
       "      <td>0</td>\n",
       "      <td>2</td>\n",
       "      <td>-0.591888</td>\n",
       "      <td>-0.574412</td>\n",
       "    </tr>\n",
       "    <tr>\n",
       "      <th>3</th>\n",
       "      <td>3</td>\n",
       "      <td>0</td>\n",
       "      <td>0</td>\n",
       "      <td>-0.276489</td>\n",
       "      <td>-0.287878</td>\n",
       "    </tr>\n",
       "    <tr>\n",
       "      <th>4</th>\n",
       "      <td>4</td>\n",
       "      <td>0</td>\n",
       "      <td>3</td>\n",
       "      <td>-0.749785</td>\n",
       "      <td>-0.801012</td>\n",
       "    </tr>\n",
       "  </tbody>\n",
       "</table>\n",
       "</div>"
      ],
      "text/plain": [
       "   unit  time  count      lam0      lam1\n",
       "0     0     0      2 -1.650349 -1.645527\n",
       "1     1     0      1 -1.821116 -2.104892\n",
       "2     2     0      2 -0.591888 -0.574412\n",
       "3     3     0      0 -0.276489 -0.287878\n",
       "4     4     0      3 -0.749785 -0.801012"
      ]
     },
     "execution_count": 8,
     "metadata": {},
     "output_type": "execute_result"
    }
   ],
   "source": [
    "gpm.Nframe.head()"
   ]
  },
  {
   "cell_type": "code",
   "execution_count": 9,
   "metadata": {
    "collapsed": false
   },
   "outputs": [],
   "source": [
    "if gpm.regressors:\n",
    "    gpm.Xframe.head()"
   ]
  },
  {
   "cell_type": "markdown",
   "metadata": {},
   "source": [
    "# Plot inferred categories as matrix"
   ]
  },
  {
   "cell_type": "code",
   "execution_count": 10,
   "metadata": {
    "collapsed": false
   },
   "outputs": [
    {
     "name": "stdout",
     "output_type": "stream",
     "text": [
      "(288, 10)\n"
     ]
    }
   ],
   "source": [
    "xi = gpm.nodes['HMM'].nodes['z'].z[1].copy()\n",
    "T, K = xi.shape\n",
    "print xi.shape"
   ]
  },
  {
   "cell_type": "code",
   "execution_count": 11,
   "metadata": {
    "collapsed": false
   },
   "outputs": [
    {
     "data": {
      "image/png": "[encoded data removed]",
      "text/plain": [
       "<matplotlib.figure.Figure at 0x1136a2b10>"
      ]
     },
     "metadata": {},
     "output_type": "display_data"
    }
   ],
   "source": [
    "matshow(xi[:500].T, vmin=0, vmax=1);\n",
    "plt.colorbar();"
   ]
  },
  {
   "cell_type": "markdown",
   "metadata": {},
   "source": [
    "Every third timestep is a different stimulus. Each stimulus has\n",
    "1. pre-trial baseline\n",
    "1. stimulus presentation\n",
    "1. post-stimulus period\n",
    "\n",
    "So let's plot these individually:"
   ]
  },
  {
   "cell_type": "code",
   "execution_count": 12,
   "metadata": {
    "collapsed": false
   },
   "outputs": [
    {
     "data": {
      "text/plain": [
       "<matplotlib.text.Text at 0x111b38450>"
      ]
     },
     "execution_count": 12,
     "metadata": {},
     "output_type": "execute_result"
    },
    {
     "data": {
      "image/png": "[encoded data removed]",
      "text/plain": [
       "<matplotlib.figure.Figure at 0x111f2fd10>"
      ]
     },
     "metadata": {},
     "output_type": "display_data"
    }
   ],
   "source": [
    "matshow(xi[::3].T, vmin=0, vmax=1)\n",
    "plt.title('Baseline (pre-trial)')"
   ]
  },
  {
   "cell_type": "code",
   "execution_count": 13,
   "metadata": {
    "collapsed": false
   },
   "outputs": [
    {
     "data": {
      "text/plain": [
       "<matplotlib.text.Text at 0x11346b190>"
      ]
     },
     "execution_count": 13,
     "metadata": {},
     "output_type": "execute_result"
    },
    {
     "data": {
      "image/png": "[encoded data removed]",
      "text/plain": [
       "<matplotlib.figure.Figure at 0x111af07d0>"
      ]
     },
     "metadata": {},
     "output_type": "display_data"
    }
   ],
   "source": [
    "matshow(xi[1::3].T, vmin=0, vmax=1)\n",
    "plt.title('Stimulus')"
   ]
  },
  {
   "cell_type": "code",
   "execution_count": 14,
   "metadata": {
    "collapsed": false
   },
   "outputs": [
    {
     "data": {
      "text/plain": [
       "<matplotlib.text.Text at 0x112f96410>"
      ]
     },
     "execution_count": 14,
     "metadata": {},
     "output_type": "execute_result"
    },
    {
     "data": {
      "image/png": "[encoded data removed]",
      "text/plain": [
       "<matplotlib.figure.Figure at 0x111eafdd0>"
      ]
     },
     "metadata": {},
     "output_type": "display_data"
    }
   ],
   "source": [
    "matshow(xi[2::3].T, vmin=0, vmax=1)\n",
    "plt.title('Post-stim')"
   ]
  },
  {
   "cell_type": "code",
   "execution_count": 15,
   "metadata": {
    "collapsed": false
   },
   "outputs": [
    {
     "data": {
      "image/png": "[encoded data removed]",
      "text/plain": [
       "<matplotlib.figure.Figure at 0x113382750>"
      ]
     },
     "metadata": {},
     "output_type": "display_data"
    }
   ],
   "source": [
    "matshow(xi[1::3].T - xi[::3].T, vmin=-1, vmax=1)\n",
    "plt.title('Stim - Baseline')\n",
    "for ind in range(0, xi.shape[0]//3, 12):\n",
    "    plt.axvline(ind - 0.5, 0, xi.shape[-1], color='black')"
   ]
  },
  {
   "cell_type": "code",
   "execution_count": 16,
   "metadata": {
    "collapsed": false
   },
   "outputs": [
    {
     "data": {
      "image/png": "[encoded data removed]",
      "text/plain": [
       "<matplotlib.figure.Figure at 0x111b58850>"
      ]
     },
     "metadata": {},
     "output_type": "display_data"
    }
   ],
   "source": [
    "matshow(xi[2::3].T - xi[1::3].T, vmin=-1, vmax=1)\n",
    "plt.title('Post - Stim')\n",
    "for ind in range(0, xi.shape[0]//3, 12):\n",
    "    plt.axvline(ind - 0.5, 0, xi.shape[-1], color='black')"
   ]
  },
  {
   "cell_type": "code",
   "execution_count": 17,
   "metadata": {
    "collapsed": false
   },
   "outputs": [
    {
     "data": {
      "image/png": "[encoded data removed]",
      "text/plain": [
       "<matplotlib.figure.Figure at 0x111f64bd0>"
      ]
     },
     "metadata": {},
     "output_type": "display_data"
    }
   ],
   "source": [
    "matshow(xi[2::3].T - xi[::3].T, vmin=-1, vmax=1)\n",
    "plt.title('Post - Baseline')\n",
    "for ind in range(0, xi.shape[0]//3, 12):\n",
    "    plt.axvline(ind - 0.5, 0, xi.shape[-1], color='black')"
   ]
  },
  {
   "cell_type": "markdown",
   "metadata": {},
   "source": [
    "## Weight categories by effect sizes\n",
    "\n",
    "First, get mean effect size for each firing rate effect:"
   ]
  },
  {
   "cell_type": "code",
   "execution_count": 18,
   "metadata": {
    "collapsed": true
   },
   "outputs": [],
   "source": [
    "th = gpm.nodes['fr_latents_mean']\n",
    "cc = gpm.nodes['fr_latents_shape']\n",
    "\n",
    "th_pars = np.c_[th.post_shape, th.post_rate].T\n",
    "cc_pars = np.c_[cc.post_shape, cc.post_rate].T\n",
    "\n",
    "effsize = th_pars[0] / th_pars[1]  # mean of posterior for mean effect size"
   ]
  },
  {
   "cell_type": "code",
   "execution_count": 19,
   "metadata": {
    "collapsed": false
   },
   "outputs": [
    {
     "data": {
      "text/plain": [
       "array([ 0.8008021 ,  1.06565492,  1.09332366,  1.07279522,  0.96695422,\n",
       "        0.86495709,  0.93686912,  1.02519379,  1.02479371,  0.93117782])"
      ]
     },
     "execution_count": 19,
     "metadata": {},
     "output_type": "execute_result"
    }
   ],
   "source": [
    "effsize"
   ]
  },
  {
   "cell_type": "code",
   "execution_count": 20,
   "metadata": {
    "collapsed": true
   },
   "outputs": [],
   "source": [
    "# make a normalizer so we can set the colormap midpoint\n",
    "from matplotlib.colors import Normalize\n",
    "\n",
    "class MidpointNormalize(Normalize):\n",
    "    def __init__(self, vmin=None, vmax=None, midpoint=None, clip=False):\n",
    "        self.midpoint = midpoint\n",
    "        Normalize.__init__(self, vmin, vmax, clip)\n",
    "\n",
    "    def __call__(self, value, clip=None):\n",
    "        # I'm ignoring masked values and all kinds of edge cases to make a\n",
    "        # simple example...\n",
    "        x, y = [self.vmin, self.midpoint, self.vmax], [0, 0.5, 1]\n",
    "        return np.ma.masked_invalid(np.interp(value, x, y))\n",
    "\n",
    "norm = MidpointNormalize(midpoint=1., vmin=0.8, vmax=1.2)\n",
    "cmap = plt.cm.RdBu_r\n",
    "cmap.set_bad(color='k', alpha=1.0)"
   ]
  },
  {
   "cell_type": "code",
   "execution_count": 21,
   "metadata": {
    "collapsed": false
   },
   "outputs": [
    {
     "data": {
      "text/plain": [
       "<matplotlib.figure.Figure at 0x112866110>"
      ]
     },
     "metadata": {},
     "output_type": "display_data"
    },
    {
     "data": {
      "image/png": "[encoded data removed]",
      "text/plain": [
       "<matplotlib.figure.Figure at 0x113012150>"
      ]
     },
     "metadata": {},
     "output_type": "display_data"
    }
   ],
   "source": [
    "X = (xi[1::3] * effsize).T\n",
    "X[np.abs(X) < 1e-4] = np.nan\n",
    "\n",
    "with sns.axes_style(\"white\"):\n",
    "    plt.figure(figsize=(20, 8))\n",
    "    ax = plt.matshow(X, aspect='auto', cmap=cmap, norm=norm);\n",
    "\n",
    "plt.title('Stimulus')\n",
    "for ind in range(0, xi.shape[0]//3, 12):\n",
    "    plt.axvline(ind - 0.5, 0, xi.shape[-1], color='white')\n",
    "plt.colorbar();"
   ]
  },
  {
   "cell_type": "markdown",
   "metadata": {},
   "source": [
    "## Make $\\xi$ dataframe:"
   ]
  },
  {
   "cell_type": "code",
   "execution_count": 22,
   "metadata": {
    "collapsed": false
   },
   "outputs": [],
   "source": [
    "xif = pd.DataFrame(xi)\n",
    "xif.columns = ['Z' + str(k) for k in range(K)]\n",
    "xif.index.name = 'time'\n",
    "xif = xif.reset_index()"
   ]
  },
  {
   "cell_type": "markdown",
   "metadata": {},
   "source": [
    "# Posteriors for effects"
   ]
  },
  {
   "cell_type": "markdown",
   "metadata": {},
   "source": [
    "## Baselines"
   ]
  },
  {
   "cell_type": "code",
   "execution_count": 23,
   "metadata": {
    "collapsed": true
   },
   "outputs": [],
   "source": [
    "bl = gpm.nodes['baseline']\n",
    "unit_baseline_means = bl.expected_x() / dt"
   ]
  },
  {
   "cell_type": "code",
   "execution_count": 24,
   "metadata": {
    "collapsed": false
   },
   "outputs": [
    {
     "data": {
      "image/png": "[encoded data removed]",
      "text/plain": [
       "<matplotlib.figure.Figure at 0x11286e150>"
      ]
     },
     "metadata": {},
     "output_type": "display_data"
    }
   ],
   "source": [
    "plt.figure(figsize=(14, 4))\n",
    "\n",
    "th = gpm.nodes['baseline_mean']\n",
    "cc = gpm.nodes['baseline_shape']\n",
    "th_pars = [th.post_shape, th.post_rate]\n",
    "cc_pars = [cc.post_shape, cc.post_rate]\n",
    "samples = gamma_from_hypers(th_pars, cc_pars, 1e5)\n",
    "\n",
    "plt.subplot(1, 3, 1)\n",
    "xx = np.linspace(0, 5000, 500)\n",
    "plt.plot(xx, stats.invgamma.pdf(xx, a=th_pars[0], scale=th_pars[1]/dt))\n",
    "plt.title('Baseline mean parameter posterior');\n",
    "\n",
    "plt.subplot(1, 3, 2)\n",
    "xx = np.linspace(0, 20, 500)\n",
    "plt.plot(xx, stats.invgamma.pdf(xx, a=cc_pars[0], scale=cc_pars[1]))\n",
    "plt.title('Baseline variance parameter posterior');\n",
    "\n",
    "plt.subplot(1, 3, 3)\n",
    "sns.kdeplot(samples / dt, gridsize=1e4, clip=(0, 100))\n",
    "plt.title('baseline posterior distribution')\n",
    "plt.xlabel('Firing rate (Hz)')\n",
    "plt.xlim(0, 100);"
   ]
  },
  {
   "cell_type": "markdown",
   "metadata": {},
   "source": [
    "## Regressors"
   ]
  },
  {
   "cell_type": "code",
   "execution_count": 25,
   "metadata": {
    "collapsed": false
   },
   "outputs": [],
   "source": [
    "if gpm.regressors:\n",
    "    plt.figure(figsize=(8, 6));\n",
    "    inferred_means = gpm.nodes['fr_regressors'].expected_x()\n",
    "    R = inferred_means.shape[1]\n",
    "    for r in xrange(R):\n",
    "        plt.hist(inferred_means[:, r], bins=50, normed=True, alpha=0.25, label='X' + str(r))\n",
    "    plt.title('Regression effects');\n",
    "    plt.legend()\n",
    "    plt.ylim(0, 5);\n",
    "    plt.xlim(0, 5);"
   ]
  },
  {
   "cell_type": "markdown",
   "metadata": {},
   "source": [
    "## Latent Categories"
   ]
  },
  {
   "cell_type": "code",
   "execution_count": 26,
   "metadata": {
    "collapsed": true
   },
   "outputs": [],
   "source": [
    "frn = gpm.nodes['fr_latents']\n",
    "fr_mean_effect = frn.expected_x()"
   ]
  },
  {
   "cell_type": "code",
   "execution_count": 27,
   "metadata": {
    "collapsed": false
   },
   "outputs": [
    {
     "data": {
      "image/png": "[encoded data removed]",
      "text/plain": [
       "<matplotlib.figure.Figure at 0x11305da90>"
      ]
     },
     "metadata": {},
     "output_type": "display_data"
    }
   ],
   "source": [
    "plt.figure(figsize=(16, 4))\n",
    "\n",
    "th = gpm.nodes['fr_latents_mean']\n",
    "cc = gpm.nodes['fr_latents_shape']\n",
    "\n",
    "th_pars = np.c_[th.post_shape, th.post_rate].T\n",
    "cc_pars = np.c_[cc.post_shape, cc.post_rate].T\n",
    "\n",
    "plt.subplot(1, 3, 1)\n",
    "xx = np.linspace(0, 2, 500)\n",
    "for kk in xrange(K):\n",
    "    plt.plot(xx, stats.invgamma.pdf(xx, a=th_pars[0, kk], scale=th_pars[1, kk]), label='Z' + str(kk))\n",
    "plt.legend()\n",
    "plt.title('effect mean posterior');\n",
    "\n",
    "plt.subplot(1, 3, 2)\n",
    "xx = np.linspace(0, 5, 500)\n",
    "for kk in xrange(K):\n",
    "    plt.plot(xx, stats.invgamma.pdf(xx, a=cc_pars[0, kk], scale=cc_pars[1, kk]), label='Z' + str(kk))\n",
    "plt.legend()\n",
    "plt.title('effect variance parameter posterior');\n",
    "\n",
    "plt.subplot(1, 3, 3)\n",
    "for kk in xrange(K):\n",
    "    samples = gamma_from_hypers(th_pars[:, kk], cc_pars[:, kk], 1e5)\n",
    "    sns.kdeplot(samples, gridsize=1e4, clip=(0, 10), label='Z' + str(kk))\n",
    "plt.legend()\n",
    "plt.title(r'$\\lambda$ effect posterior distribution')\n",
    "plt.xlim(0, 2);\n",
    "plt.ylim(0, 5);"
   ]
  },
  {
   "cell_type": "code",
   "execution_count": 28,
   "metadata": {
    "collapsed": false
   },
   "outputs": [
    {
     "data": {
      "image/png": "[encoded data removed]",
      "text/plain": [
       "<matplotlib.figure.Figure at 0x113627e90>"
      ]
     },
     "metadata": {},
     "output_type": "display_data"
    }
   ],
   "source": [
    "plt.figure(figsize=(8, 6))\n",
    "\n",
    "inferred_effects = gpm.nodes['fr_latents'].expected_x()\n",
    "for kk in xrange(K):\n",
    "    plt.hist(inferred_effects[..., kk], bins=50, normed=True, alpha=0.25, label='Z' + str(kk));\n",
    "plt.legend();\n",
    "plt.title('Firing rate effects');\n",
    "plt.ylim(0, 5);"
   ]
  },
  {
   "cell_type": "markdown",
   "metadata": {},
   "source": [
    "## Sparsity"
   ]
  },
  {
   "cell_type": "code",
   "execution_count": 31,
   "metadata": {
    "collapsed": false
   },
   "outputs": [],
   "source": [
    "if 'fr_latents_feature' in gpm.nodes:\n",
    "    matshow(gpm.nodes['fr_latents_feature'].expected_x().T)\n",
    "\n",
    "    gpm.nodes['fr_latents_sparsity'].expected_x()[0]"
   ]
  },
  {
   "cell_type": "markdown",
   "metadata": {},
   "source": [
    "## Overdispersion"
   ]
  },
  {
   "cell_type": "code",
   "execution_count": 32,
   "metadata": {
    "collapsed": false
   },
   "outputs": [
    {
     "data": {
      "image/png": "[encoded data removed]",
      "text/plain": [
       "<matplotlib.figure.Figure at 0x1161ddcd0>"
      ]
     },
     "metadata": {},
     "output_type": "display_data"
    }
   ],
   "source": [
    "if gpm.overdispersion:\n",
    "    plt.figure(figsize=(8, 6))\n",
    "\n",
    "    inferred_means = gpm.nodes['overdispersion'].expected_x().ravel()\n",
    "    plt.hist(inferred_means, bins=500, normed=True, alpha=0.25);\n",
    "    plt.title('Overdispersion effects');\n",
    "    plt.ylim(0, 2);"
   ]
  },
  {
   "cell_type": "markdown",
   "metadata": {},
   "source": [
    "# Load and prepare coded features:"
   ]
  },
  {
   "cell_type": "code",
   "execution_count": 33,
   "metadata": {
    "collapsed": false
   },
   "outputs": [
    {
     "data": {
      "text/html": [
       "<div>\n",
       "<table border=\"1\" class=\"dataframe\">\n",
       "  <thead>\n",
       "    <tr style=\"text-align: right;\">\n",
       "      <th></th>\n",
       "      <th>trial</th>\n",
       "      <th>unit</th>\n",
       "      <th>count</th>\n",
       "      <th>category</th>\n",
       "      <th>time</th>\n",
       "    </tr>\n",
       "  </thead>\n",
       "  <tbody>\n",
       "    <tr>\n",
       "      <th>0</th>\n",
       "      <td>69</td>\n",
       "      <td>0</td>\n",
       "      <td>2</td>\n",
       "      <td>Baseline</td>\n",
       "      <td>0</td>\n",
       "    </tr>\n",
       "    <tr>\n",
       "      <th>1</th>\n",
       "      <td>69</td>\n",
       "      <td>1</td>\n",
       "      <td>1</td>\n",
       "      <td>Baseline</td>\n",
       "      <td>0</td>\n",
       "    </tr>\n",
       "    <tr>\n",
       "      <th>2</th>\n",
       "      <td>69</td>\n",
       "      <td>2</td>\n",
       "      <td>2</td>\n",
       "      <td>Baseline</td>\n",
       "      <td>0</td>\n",
       "    </tr>\n",
       "    <tr>\n",
       "      <th>3</th>\n",
       "      <td>69</td>\n",
       "      <td>3</td>\n",
       "      <td>0</td>\n",
       "      <td>Baseline</td>\n",
       "      <td>0</td>\n",
       "    </tr>\n",
       "    <tr>\n",
       "      <th>4</th>\n",
       "      <td>69</td>\n",
       "      <td>4</td>\n",
       "      <td>3</td>\n",
       "      <td>Baseline</td>\n",
       "      <td>0</td>\n",
       "    </tr>\n",
       "  </tbody>\n",
       "</table>\n",
       "</div>"
      ],
      "text/plain": [
       "   trial  unit  count  category  time\n",
       "0     69     0      2  Baseline     0\n",
       "1     69     1      1  Baseline     0\n",
       "2     69     2      2  Baseline     0\n",
       "3     69     3      0  Baseline     0\n",
       "4     69     4      3  Baseline     0"
      ]
     },
     "execution_count": 33,
     "metadata": {},
     "output_type": "execute_result"
    }
   ],
   "source": [
    "df.head()"
   ]
  },
  {
   "cell_type": "code",
   "execution_count": 34,
   "metadata": {
    "collapsed": false
   },
   "outputs": [
    {
     "data": {
      "text/html": [
       "<div>\n",
       "<table border=\"1\" class=\"dataframe\">\n",
       "  <thead>\n",
       "    <tr style=\"text-align: right;\">\n",
       "      <th></th>\n",
       "      <th>time</th>\n",
       "      <th>Animals</th>\n",
       "      <th>Baseline</th>\n",
       "      <th>Bodies</th>\n",
       "      <th>Faces</th>\n",
       "      <th>Fruit</th>\n",
       "      <th>Manmade</th>\n",
       "      <th>Natural</th>\n",
       "      <th>Pattern</th>\n",
       "      <th>Scene</th>\n",
       "    </tr>\n",
       "  </thead>\n",
       "  <tbody>\n",
       "    <tr>\n",
       "      <th>0</th>\n",
       "      <td>0</td>\n",
       "      <td>0</td>\n",
       "      <td>1</td>\n",
       "      <td>0</td>\n",
       "      <td>0</td>\n",
       "      <td>0</td>\n",
       "      <td>0</td>\n",
       "      <td>0</td>\n",
       "      <td>0</td>\n",
       "      <td>0</td>\n",
       "    </tr>\n",
       "    <tr>\n",
       "      <th>1</th>\n",
       "      <td>1</td>\n",
       "      <td>0</td>\n",
       "      <td>0</td>\n",
       "      <td>0</td>\n",
       "      <td>1</td>\n",
       "      <td>0</td>\n",
       "      <td>0</td>\n",
       "      <td>0</td>\n",
       "      <td>0</td>\n",
       "      <td>0</td>\n",
       "    </tr>\n",
       "    <tr>\n",
       "      <th>2</th>\n",
       "      <td>2</td>\n",
       "      <td>0</td>\n",
       "      <td>0</td>\n",
       "      <td>0</td>\n",
       "      <td>1</td>\n",
       "      <td>0</td>\n",
       "      <td>0</td>\n",
       "      <td>0</td>\n",
       "      <td>0</td>\n",
       "      <td>0</td>\n",
       "    </tr>\n",
       "    <tr>\n",
       "      <th>3</th>\n",
       "      <td>3</td>\n",
       "      <td>0</td>\n",
       "      <td>1</td>\n",
       "      <td>0</td>\n",
       "      <td>0</td>\n",
       "      <td>0</td>\n",
       "      <td>0</td>\n",
       "      <td>0</td>\n",
       "      <td>0</td>\n",
       "      <td>0</td>\n",
       "    </tr>\n",
       "    <tr>\n",
       "      <th>4</th>\n",
       "      <td>4</td>\n",
       "      <td>0</td>\n",
       "      <td>0</td>\n",
       "      <td>0</td>\n",
       "      <td>1</td>\n",
       "      <td>0</td>\n",
       "      <td>0</td>\n",
       "      <td>0</td>\n",
       "      <td>0</td>\n",
       "      <td>0</td>\n",
       "    </tr>\n",
       "  </tbody>\n",
       "</table>\n",
       "</div>"
      ],
      "text/plain": [
       "   time  Animals  Baseline  Bodies  Faces  Fruit  Manmade  Natural  Pattern  \\\n",
       "0     0        0         1       0      0      0        0        0        0   \n",
       "1     1        0         0       0      1      0        0        0        0   \n",
       "2     2        0         0       0      1      0        0        0        0   \n",
       "3     3        0         1       0      0      0        0        0        0   \n",
       "4     4        0         0       0      1      0        0        0        0   \n",
       "\n",
       "   Scene  \n",
       "0      0  \n",
       "1      0  \n",
       "2      0  \n",
       "3      0  \n",
       "4      0  "
      ]
     },
     "execution_count": 34,
     "metadata": {},
     "output_type": "execute_result"
    }
   ],
   "source": [
    "df2 = df.copy()\n",
    "df2['value'] = 1\n",
    "df2 = df2.drop(['trial', 'unit'], axis=1).drop_duplicates()\n",
    "catdf = pd.pivot_table(df2, values='value', index=['time'], columns=['category']).reset_index().fillna(0)\n",
    "catdf.columns.name = ''\n",
    "catdf.head()"
   ]
  },
  {
   "cell_type": "code",
   "execution_count": 35,
   "metadata": {
    "collapsed": false
   },
   "outputs": [
    {
     "data": {
      "text/html": [
       "<div>\n",
       "<table border=\"1\" class=\"dataframe\">\n",
       "  <thead>\n",
       "    <tr style=\"text-align: right;\">\n",
       "      <th></th>\n",
       "      <th>Animals</th>\n",
       "      <th>Bodies</th>\n",
       "      <th>Faces</th>\n",
       "      <th>Fruit</th>\n",
       "      <th>Manmade</th>\n",
       "      <th>Natural</th>\n",
       "      <th>Pattern</th>\n",
       "      <th>Scene</th>\n",
       "      <th>Z0</th>\n",
       "      <th>Z1</th>\n",
       "      <th>Z2</th>\n",
       "      <th>Z3</th>\n",
       "      <th>Z4</th>\n",
       "      <th>Z5</th>\n",
       "      <th>Z6</th>\n",
       "      <th>Z7</th>\n",
       "      <th>Z8</th>\n",
       "      <th>Z9</th>\n",
       "    </tr>\n",
       "  </thead>\n",
       "  <tbody>\n",
       "    <tr>\n",
       "      <th>0</th>\n",
       "      <td>0</td>\n",
       "      <td>0</td>\n",
       "      <td>0</td>\n",
       "      <td>0</td>\n",
       "      <td>0</td>\n",
       "      <td>0</td>\n",
       "      <td>0</td>\n",
       "      <td>0</td>\n",
       "      <td>2.986989e-46</td>\n",
       "      <td>2.424718e-25</td>\n",
       "      <td>8.170855e-10</td>\n",
       "      <td>2.625160e-30</td>\n",
       "      <td>1.163234e-15</td>\n",
       "      <td>5.983813e-31</td>\n",
       "      <td>4.007601e-08</td>\n",
       "      <td>1.520915e-13</td>\n",
       "      <td>3.596513e-20</td>\n",
       "      <td>7.102290e-18</td>\n",
       "    </tr>\n",
       "    <tr>\n",
       "      <th>1</th>\n",
       "      <td>0</td>\n",
       "      <td>0</td>\n",
       "      <td>1</td>\n",
       "      <td>0</td>\n",
       "      <td>0</td>\n",
       "      <td>0</td>\n",
       "      <td>0</td>\n",
       "      <td>0</td>\n",
       "      <td>1.000000e+00</td>\n",
       "      <td>1.138974e-52</td>\n",
       "      <td>2.234766e-18</td>\n",
       "      <td>8.137399e-69</td>\n",
       "      <td>5.751562e-21</td>\n",
       "      <td>1.000000e+00</td>\n",
       "      <td>4.727657e-24</td>\n",
       "      <td>1.493384e-43</td>\n",
       "      <td>3.085998e-31</td>\n",
       "      <td>1.000000e+00</td>\n",
       "    </tr>\n",
       "    <tr>\n",
       "      <th>2</th>\n",
       "      <td>0</td>\n",
       "      <td>0</td>\n",
       "      <td>1</td>\n",
       "      <td>0</td>\n",
       "      <td>0</td>\n",
       "      <td>0</td>\n",
       "      <td>0</td>\n",
       "      <td>0</td>\n",
       "      <td>1.000000e+00</td>\n",
       "      <td>2.977762e-45</td>\n",
       "      <td>1.000000e+00</td>\n",
       "      <td>9.923200e-33</td>\n",
       "      <td>1.340683e-08</td>\n",
       "      <td>1.000000e+00</td>\n",
       "      <td>5.885256e-15</td>\n",
       "      <td>1.948705e-20</td>\n",
       "      <td>1.000000e+00</td>\n",
       "      <td>1.000000e+00</td>\n",
       "    </tr>\n",
       "    <tr>\n",
       "      <th>3</th>\n",
       "      <td>0</td>\n",
       "      <td>0</td>\n",
       "      <td>0</td>\n",
       "      <td>0</td>\n",
       "      <td>0</td>\n",
       "      <td>0</td>\n",
       "      <td>0</td>\n",
       "      <td>0</td>\n",
       "      <td>2.033064e-42</td>\n",
       "      <td>1.472555e-34</td>\n",
       "      <td>4.455542e-13</td>\n",
       "      <td>1.383357e-36</td>\n",
       "      <td>1.061817e-14</td>\n",
       "      <td>3.782079e-23</td>\n",
       "      <td>9.999985e-01</td>\n",
       "      <td>5.553282e-11</td>\n",
       "      <td>6.046483e-11</td>\n",
       "      <td>1.711612e-22</td>\n",
       "    </tr>\n",
       "    <tr>\n",
       "      <th>4</th>\n",
       "      <td>0</td>\n",
       "      <td>0</td>\n",
       "      <td>1</td>\n",
       "      <td>0</td>\n",
       "      <td>0</td>\n",
       "      <td>0</td>\n",
       "      <td>0</td>\n",
       "      <td>0</td>\n",
       "      <td>1.000000e+00</td>\n",
       "      <td>7.602831e-101</td>\n",
       "      <td>2.566694e-43</td>\n",
       "      <td>1.470624e-106</td>\n",
       "      <td>1.000000e+00</td>\n",
       "      <td>1.000000e+00</td>\n",
       "      <td>3.562457e-10</td>\n",
       "      <td>6.787817e-23</td>\n",
       "      <td>1.000000e+00</td>\n",
       "      <td>1.000000e+00</td>\n",
       "    </tr>\n",
       "  </tbody>\n",
       "</table>\n",
       "</div>"
      ],
      "text/plain": [
       "   Animals  Bodies  Faces  Fruit  Manmade  Natural  Pattern  Scene  \\\n",
       "0        0       0      0      0        0        0        0      0   \n",
       "1        0       0      1      0        0        0        0      0   \n",
       "2        0       0      1      0        0        0        0      0   \n",
       "3        0       0      0      0        0        0        0      0   \n",
       "4        0       0      1      0        0        0        0      0   \n",
       "\n",
       "             Z0             Z1            Z2             Z3            Z4  \\\n",
       "0  2.986989e-46   2.424718e-25  8.170855e-10   2.625160e-30  1.163234e-15   \n",
       "1  1.000000e+00   1.138974e-52  2.234766e-18   8.137399e-69  5.751562e-21   \n",
       "2  1.000000e+00   2.977762e-45  1.000000e+00   9.923200e-33  1.340683e-08   \n",
       "3  2.033064e-42   1.472555e-34  4.455542e-13   1.383357e-36  1.061817e-14   \n",
       "4  1.000000e+00  7.602831e-101  2.566694e-43  1.470624e-106  1.000000e+00   \n",
       "\n",
       "             Z5            Z6            Z7            Z8            Z9  \n",
       "0  5.983813e-31  4.007601e-08  1.520915e-13  3.596513e-20  7.102290e-18  \n",
       "1  1.000000e+00  4.727657e-24  1.493384e-43  3.085998e-31  1.000000e+00  \n",
       "2  1.000000e+00  5.885256e-15  1.948705e-20  1.000000e+00  1.000000e+00  \n",
       "3  3.782079e-23  9.999985e-01  5.553282e-11  6.046483e-11  1.711612e-22  \n",
       "4  1.000000e+00  3.562457e-10  6.787817e-23  1.000000e+00  1.000000e+00  "
      ]
     },
     "execution_count": 35,
     "metadata": {},
     "output_type": "execute_result"
    }
   ],
   "source": [
    "edf = pd.merge(catdf, xif).sort_values(by='time').drop(['time', 'Baseline'], axis=1)\n",
    "edf.head()"
   ]
  },
  {
   "cell_type": "markdown",
   "metadata": {},
   "source": [
    "# View results:"
   ]
  },
  {
   "cell_type": "code",
   "execution_count": 36,
   "metadata": {
    "collapsed": false
   },
   "outputs": [
    {
     "data": {
      "image/png": "[encoded data removed]",
      "text/plain": [
       "<matplotlib.figure.Figure at 0x115184850>"
      ]
     },
     "metadata": {},
     "output_type": "display_data"
    }
   ],
   "source": [
    "if savefigs:\n",
    "    sns.set_context('poster', font_scale=1)\n",
    "\n",
    "# plot a section in time; each row is a regressor; bottom rows are inferred categories\n",
    "trng = slice(None)\n",
    "matshow(edf.iloc[trng].values.T, vmin=0, vmax=1);\n",
    "col_labels = edf.columns\n",
    "plt.yticks(xrange(len(col_labels)), col_labels);\n",
    "plt.gcf().set_size_inches([20, 5])\n",
    "\n",
    "if savefigs:\n",
    "    plt.savefig('roitman_recovery.svg')\n",
    "    sns.set()"
   ]
  },
  {
   "cell_type": "markdown",
   "metadata": {},
   "source": [
    "## Overlap analysis:"
   ]
  },
  {
   "cell_type": "markdown",
   "metadata": {},
   "source": [
    "Define the overlap as the maximum of the match or mismatch percentage. That is, if $x$ and $y$ are binary vectors, \n",
    "$$\n",
    "\\mathrm{overlap} = \\max \\{ \\mathbb{E}[xy + (1-x)(1-y)], \\mathbb{E}[(1-x)y + x(1-y)]\\}\n",
    "$$"
   ]
  },
  {
   "cell_type": "code",
   "execution_count": 37,
   "metadata": {
    "collapsed": false
   },
   "outputs": [],
   "source": [
    "match = (edf.T.dot(edf) + (1 - edf.T).dot(1 - edf)) / T\n",
    "mismatch = (edf.T.dot(1 - edf) + (1 - edf.T).dot(edf)) / T\n",
    "overlap = np.maximum(match, mismatch)"
   ]
  },
  {
   "cell_type": "code",
   "execution_count": 38,
   "metadata": {
    "collapsed": false
   },
   "outputs": [
    {
     "data": {
      "image/png": "[encoded data removed]",
      "text/plain": [
       "<matplotlib.figure.Figure at 0x112537790>"
      ]
     },
     "metadata": {},
     "output_type": "display_data"
    }
   ],
   "source": [
    "row_labels = edf.columns[:-K]\n",
    "matshow(overlap.values[-K:,:-K]) #, vmin=0.5, vmax=1)\n",
    "plt.ylabel('inferred factor')\n",
    "plt.xlabel('labeled factor')\n",
    "plt.colorbar();\n",
    "\n",
    "# add column names\n",
    "ax = plt.gca()\n",
    "ax.xaxis.set_label_position('top')\n",
    "plt.tick_params(axis='x', which='both', top='off', bottom='off', \n",
    "                labelbottom='on', labeltop='off', pad=5)\n",
    "plt.xticks(xrange(len(row_labels)), row_labels, rotation='vertical', horizontalalignment='center');"
   ]
  },
  {
   "cell_type": "code",
   "execution_count": 39,
   "metadata": {
    "collapsed": false
   },
   "outputs": [
    {
     "data": {
      "text/html": [
       "<div>\n",
       "<table border=\"1\" class=\"dataframe\">\n",
       "  <thead>\n",
       "    <tr style=\"text-align: right;\">\n",
       "      <th></th>\n",
       "      <th>Animals</th>\n",
       "      <th>Bodies</th>\n",
       "      <th>Faces</th>\n",
       "      <th>Fruit</th>\n",
       "      <th>Manmade</th>\n",
       "      <th>Natural</th>\n",
       "      <th>Pattern</th>\n",
       "      <th>Scene</th>\n",
       "      <th>Z0</th>\n",
       "      <th>Z1</th>\n",
       "      <th>Z2</th>\n",
       "      <th>Z3</th>\n",
       "      <th>Z4</th>\n",
       "      <th>Z5</th>\n",
       "      <th>Z6</th>\n",
       "      <th>Z7</th>\n",
       "      <th>Z8</th>\n",
       "      <th>Z9</th>\n",
       "    </tr>\n",
       "    <tr>\n",
       "      <th></th>\n",
       "      <th></th>\n",
       "      <th></th>\n",
       "      <th></th>\n",
       "      <th></th>\n",
       "      <th></th>\n",
       "      <th></th>\n",
       "      <th></th>\n",
       "      <th></th>\n",
       "      <th></th>\n",
       "      <th></th>\n",
       "      <th></th>\n",
       "      <th></th>\n",
       "      <th></th>\n",
       "      <th></th>\n",
       "      <th></th>\n",
       "      <th></th>\n",
       "      <th></th>\n",
       "      <th></th>\n",
       "    </tr>\n",
       "  </thead>\n",
       "  <tbody>\n",
       "    <tr>\n",
       "      <th>Z0</th>\n",
       "      <td>0.850694</td>\n",
       "      <td>0.802083</td>\n",
       "      <td>0.961806</td>\n",
       "      <td>0.795139</td>\n",
       "      <td>0.795139</td>\n",
       "      <td>0.795139</td>\n",
       "      <td>0.795139</td>\n",
       "      <td>0.795139</td>\n",
       "      <td>1.000000</td>\n",
       "      <td>0.690972</td>\n",
       "      <td>0.599954</td>\n",
       "      <td>0.802083</td>\n",
       "      <td>0.746794</td>\n",
       "      <td>0.902776</td>\n",
       "      <td>0.547200</td>\n",
       "      <td>0.596015</td>\n",
       "      <td>0.765000</td>\n",
       "      <td>0.788724</td>\n",
       "    </tr>\n",
       "    <tr>\n",
       "      <th>Z1</th>\n",
       "      <td>0.833333</td>\n",
       "      <td>0.812500</td>\n",
       "      <td>0.666667</td>\n",
       "      <td>0.750000</td>\n",
       "      <td>0.722222</td>\n",
       "      <td>0.708333</td>\n",
       "      <td>0.666667</td>\n",
       "      <td>0.673611</td>\n",
       "      <td>0.690972</td>\n",
       "      <td>1.000000</td>\n",
       "      <td>0.624141</td>\n",
       "      <td>0.861111</td>\n",
       "      <td>0.715270</td>\n",
       "      <td>0.781249</td>\n",
       "      <td>0.509038</td>\n",
       "      <td>0.550915</td>\n",
       "      <td>0.713153</td>\n",
       "      <td>0.742395</td>\n",
       "    </tr>\n",
       "    <tr>\n",
       "      <th>Z2</th>\n",
       "      <td>0.638146</td>\n",
       "      <td>0.575635</td>\n",
       "      <td>0.610383</td>\n",
       "      <td>0.652029</td>\n",
       "      <td>0.658982</td>\n",
       "      <td>0.688353</td>\n",
       "      <td>0.631136</td>\n",
       "      <td>0.665762</td>\n",
       "      <td>0.599954</td>\n",
       "      <td>0.624141</td>\n",
       "      <td>0.997846</td>\n",
       "      <td>0.596458</td>\n",
       "      <td>0.665811</td>\n",
       "      <td>0.586064</td>\n",
       "      <td>0.644293</td>\n",
       "      <td>0.674189</td>\n",
       "      <td>0.675040</td>\n",
       "      <td>0.623491</td>\n",
       "    </tr>\n",
       "    <tr>\n",
       "      <th>Z3</th>\n",
       "      <td>0.944444</td>\n",
       "      <td>0.875000</td>\n",
       "      <td>0.777778</td>\n",
       "      <td>0.777778</td>\n",
       "      <td>0.784722</td>\n",
       "      <td>0.777778</td>\n",
       "      <td>0.777778</td>\n",
       "      <td>0.777778</td>\n",
       "      <td>0.802083</td>\n",
       "      <td>0.861111</td>\n",
       "      <td>0.596458</td>\n",
       "      <td>1.000000</td>\n",
       "      <td>0.736503</td>\n",
       "      <td>0.878471</td>\n",
       "      <td>0.529870</td>\n",
       "      <td>0.578654</td>\n",
       "      <td>0.692148</td>\n",
       "      <td>0.750584</td>\n",
       "    </tr>\n",
       "    <tr>\n",
       "      <th>Z4</th>\n",
       "      <td>0.743324</td>\n",
       "      <td>0.770876</td>\n",
       "      <td>0.764155</td>\n",
       "      <td>0.694763</td>\n",
       "      <td>0.736392</td>\n",
       "      <td>0.729160</td>\n",
       "      <td>0.757235</td>\n",
       "      <td>0.722488</td>\n",
       "      <td>0.746794</td>\n",
       "      <td>0.715270</td>\n",
       "      <td>0.665811</td>\n",
       "      <td>0.736503</td>\n",
       "      <td>0.999028</td>\n",
       "      <td>0.753857</td>\n",
       "      <td>0.545935</td>\n",
       "      <td>0.675939</td>\n",
       "      <td>0.692567</td>\n",
       "      <td>0.772072</td>\n",
       "    </tr>\n",
       "    <tr>\n",
       "      <th>Z5</th>\n",
       "      <td>0.892360</td>\n",
       "      <td>0.788193</td>\n",
       "      <td>0.885415</td>\n",
       "      <td>0.732638</td>\n",
       "      <td>0.732638</td>\n",
       "      <td>0.732638</td>\n",
       "      <td>0.732640</td>\n",
       "      <td>0.732638</td>\n",
       "      <td>0.902776</td>\n",
       "      <td>0.781249</td>\n",
       "      <td>0.586064</td>\n",
       "      <td>0.878471</td>\n",
       "      <td>0.753857</td>\n",
       "      <td>0.999997</td>\n",
       "      <td>0.588864</td>\n",
       "      <td>0.540461</td>\n",
       "      <td>0.730284</td>\n",
       "      <td>0.781784</td>\n",
       "    </tr>\n",
       "    <tr>\n",
       "      <th>Z6</th>\n",
       "      <td>0.516035</td>\n",
       "      <td>0.525689</td>\n",
       "      <td>0.543727</td>\n",
       "      <td>0.532628</td>\n",
       "      <td>0.601407</td>\n",
       "      <td>0.601044</td>\n",
       "      <td>0.615788</td>\n",
       "      <td>0.615908</td>\n",
       "      <td>0.547200</td>\n",
       "      <td>0.509038</td>\n",
       "      <td>0.644293</td>\n",
       "      <td>0.529870</td>\n",
       "      <td>0.545935</td>\n",
       "      <td>0.588864</td>\n",
       "      <td>0.997066</td>\n",
       "      <td>0.699787</td>\n",
       "      <td>0.517771</td>\n",
       "      <td>0.502403</td>\n",
       "    </tr>\n",
       "    <tr>\n",
       "      <th>Z7</th>\n",
       "      <td>0.599487</td>\n",
       "      <td>0.634210</td>\n",
       "      <td>0.627265</td>\n",
       "      <td>0.644384</td>\n",
       "      <td>0.731784</td>\n",
       "      <td>0.661933</td>\n",
       "      <td>0.765359</td>\n",
       "      <td>0.758870</td>\n",
       "      <td>0.596015</td>\n",
       "      <td>0.550915</td>\n",
       "      <td>0.674189</td>\n",
       "      <td>0.578654</td>\n",
       "      <td>0.675939</td>\n",
       "      <td>0.540461</td>\n",
       "      <td>0.699787</td>\n",
       "      <td>0.996487</td>\n",
       "      <td>0.669867</td>\n",
       "      <td>0.619816</td>\n",
       "    </tr>\n",
       "    <tr>\n",
       "      <th>Z8</th>\n",
       "      <td>0.740691</td>\n",
       "      <td>0.692139</td>\n",
       "      <td>0.789303</td>\n",
       "      <td>0.759291</td>\n",
       "      <td>0.761414</td>\n",
       "      <td>0.747604</td>\n",
       "      <td>0.692185</td>\n",
       "      <td>0.754520</td>\n",
       "      <td>0.765000</td>\n",
       "      <td>0.713153</td>\n",
       "      <td>0.675040</td>\n",
       "      <td>0.692148</td>\n",
       "      <td>0.692567</td>\n",
       "      <td>0.730284</td>\n",
       "      <td>0.517771</td>\n",
       "      <td>0.669867</td>\n",
       "      <td>0.996581</td>\n",
       "      <td>0.740228</td>\n",
       "    </tr>\n",
       "    <tr>\n",
       "      <th>Z9</th>\n",
       "      <td>0.785306</td>\n",
       "      <td>0.743634</td>\n",
       "      <td>0.806085</td>\n",
       "      <td>0.763219</td>\n",
       "      <td>0.736405</td>\n",
       "      <td>0.736787</td>\n",
       "      <td>0.743955</td>\n",
       "      <td>0.729746</td>\n",
       "      <td>0.788724</td>\n",
       "      <td>0.742395</td>\n",
       "      <td>0.623491</td>\n",
       "      <td>0.750584</td>\n",
       "      <td>0.772072</td>\n",
       "      <td>0.781784</td>\n",
       "      <td>0.502403</td>\n",
       "      <td>0.619816</td>\n",
       "      <td>0.740228</td>\n",
       "      <td>0.998075</td>\n",
       "    </tr>\n",
       "  </tbody>\n",
       "</table>\n",
       "</div>"
      ],
      "text/plain": [
       "     Animals    Bodies     Faces     Fruit   Manmade   Natural   Pattern  \\\n",
       "                                                                           \n",
       "Z0  0.850694  0.802083  0.961806  0.795139  0.795139  0.795139  0.795139   \n",
       "Z1  0.833333  0.812500  0.666667  0.750000  0.722222  0.708333  0.666667   \n",
       "Z2  0.638146  0.575635  0.610383  0.652029  0.658982  0.688353  0.631136   \n",
       "Z3  0.944444  0.875000  0.777778  0.777778  0.784722  0.777778  0.777778   \n",
       "Z4  0.743324  0.770876  0.764155  0.694763  0.736392  0.729160  0.757235   \n",
       "Z5  0.892360  0.788193  0.885415  0.732638  0.732638  0.732638  0.732640   \n",
       "Z6  0.516035  0.525689  0.543727  0.532628  0.601407  0.601044  0.615788   \n",
       "Z7  0.599487  0.634210  0.627265  0.644384  0.731784  0.661933  0.765359   \n",
       "Z8  0.740691  0.692139  0.789303  0.759291  0.761414  0.747604  0.692185   \n",
       "Z9  0.785306  0.743634  0.806085  0.763219  0.736405  0.736787  0.743955   \n",
       "\n",
       "       Scene        Z0        Z1        Z2        Z3        Z4        Z5  \\\n",
       "                                                                           \n",
       "Z0  0.795139  1.000000  0.690972  0.599954  0.802083  0.746794  0.902776   \n",
       "Z1  0.673611  0.690972  1.000000  0.624141  0.861111  0.715270  0.781249   \n",
       "Z2  0.665762  0.599954  0.624141  0.997846  0.596458  0.665811  0.586064   \n",
       "Z3  0.777778  0.802083  0.861111  0.596458  1.000000  0.736503  0.878471   \n",
       "Z4  0.722488  0.746794  0.715270  0.665811  0.736503  0.999028  0.753857   \n",
       "Z5  0.732638  0.902776  0.781249  0.586064  0.878471  0.753857  0.999997   \n",
       "Z6  0.615908  0.547200  0.509038  0.644293  0.529870  0.545935  0.588864   \n",
       "Z7  0.758870  0.596015  0.550915  0.674189  0.578654  0.675939  0.540461   \n",
       "Z8  0.754520  0.765000  0.713153  0.675040  0.692148  0.692567  0.730284   \n",
       "Z9  0.729746  0.788724  0.742395  0.623491  0.750584  0.772072  0.781784   \n",
       "\n",
       "          Z6        Z7        Z8        Z9  \n",
       "                                            \n",
       "Z0  0.547200  0.596015  0.765000  0.788724  \n",
       "Z1  0.509038  0.550915  0.713153  0.742395  \n",
       "Z2  0.644293  0.674189  0.675040  0.623491  \n",
       "Z3  0.529870  0.578654  0.692148  0.750584  \n",
       "Z4  0.545935  0.675939  0.692567  0.772072  \n",
       "Z5  0.588864  0.540461  0.730284  0.781784  \n",
       "Z6  0.997066  0.699787  0.517771  0.502403  \n",
       "Z7  0.699787  0.996487  0.669867  0.619816  \n",
       "Z8  0.517771  0.669867  0.996581  0.740228  \n",
       "Z9  0.502403  0.619816  0.740228  0.998075  "
      ]
     },
     "execution_count": 39,
     "metadata": {},
     "output_type": "execute_result"
    }
   ],
   "source": [
    "overlap.iloc[-K:, :]"
   ]
  },
  {
   "cell_type": "markdown",
   "metadata": {},
   "source": [
    "## Mutual Information"
   ]
  },
  {
   "cell_type": "code",
   "execution_count": 40,
   "metadata": {
    "collapsed": false
   },
   "outputs": [],
   "source": [
    "mi_mat = mutual_information_matrix(edf.iloc[:, :-K].values, edf.iloc[:, -K:].values)"
   ]
  },
  {
   "cell_type": "code",
   "execution_count": 41,
   "metadata": {
    "collapsed": false
   },
   "outputs": [
    {
     "data": {
      "image/png": "[encoded data removed]",
      "text/plain": [
       "<matplotlib.figure.Figure at 0x11653b1d0>"
      ]
     },
     "metadata": {},
     "output_type": "display_data"
    }
   ],
   "source": [
    "row_labels = edf.columns[:-K]\n",
    "matshow(mi_mat.T, vmin=0, vmax=0.55)\n",
    "plt.ylabel('inferred factor')\n",
    "plt.xlabel('labeled factor')\n",
    "plt.colorbar();\n",
    "\n",
    "# add column names\n",
    "ax = plt.gca()\n",
    "ax.xaxis.set_label_position('top')\n",
    "plt.tick_params(axis='x', which='both', top='off', bottom='off', \n",
    "                labelbottom='on', labeltop='off', pad=5)\n",
    "plt.xticks(xrange(len(row_labels)), row_labels, rotation='vertical', horizontalalignment='center');"
   ]
  },
  {
   "cell_type": "code",
   "execution_count": 42,
   "metadata": {
    "collapsed": false
   },
   "outputs": [
    {
     "data": {
      "text/html": [
       "<div>\n",
       "<table border=\"1\" class=\"dataframe\">\n",
       "  <thead>\n",
       "    <tr style=\"text-align: right;\">\n",
       "      <th></th>\n",
       "      <th>Animals</th>\n",
       "      <th>Bodies</th>\n",
       "      <th>Faces</th>\n",
       "      <th>Fruit</th>\n",
       "      <th>Manmade</th>\n",
       "      <th>Natural</th>\n",
       "      <th>Pattern</th>\n",
       "      <th>Scene</th>\n",
       "    </tr>\n",
       "  </thead>\n",
       "  <tbody>\n",
       "    <tr>\n",
       "      <th>0</th>\n",
       "      <td>0.044116</td>\n",
       "      <td>0.010605</td>\n",
       "      <td>0.648296</td>\n",
       "      <td>0.034715</td>\n",
       "      <td>0.034715</td>\n",
       "      <td>3.471464e-02</td>\n",
       "      <td>0.034715</td>\n",
       "      <td>0.034715</td>\n",
       "    </tr>\n",
       "    <tr>\n",
       "      <th>1</th>\n",
       "      <td>0.317981</td>\n",
       "      <td>0.201769</td>\n",
       "      <td>0.062776</td>\n",
       "      <td>0.033057</td>\n",
       "      <td>0.003956</td>\n",
       "      <td>1.105747e-15</td>\n",
       "      <td>0.062776</td>\n",
       "      <td>0.035399</td>\n",
       "    </tr>\n",
       "    <tr>\n",
       "      <th>2</th>\n",
       "      <td>0.008354</td>\n",
       "      <td>0.029715</td>\n",
       "      <td>0.000373</td>\n",
       "      <td>0.021265</td>\n",
       "      <td>0.029986</td>\n",
       "      <td>8.531907e-02</td>\n",
       "      <td>0.004073</td>\n",
       "      <td>0.039997</td>\n",
       "    </tr>\n",
       "    <tr>\n",
       "      <th>3</th>\n",
       "      <td>0.568766</td>\n",
       "      <td>0.151228</td>\n",
       "      <td>0.038407</td>\n",
       "      <td>0.038407</td>\n",
       "      <td>0.013697</td>\n",
       "      <td>3.840684e-02</td>\n",
       "      <td>0.038407</td>\n",
       "      <td>0.038407</td>\n",
       "    </tr>\n",
       "    <tr>\n",
       "      <th>4</th>\n",
       "      <td>0.011189</td>\n",
       "      <td>0.050150</td>\n",
       "      <td>0.038219</td>\n",
       "      <td>0.018030</td>\n",
       "      <td>0.005631</td>\n",
       "      <td>1.784472e-03</td>\n",
       "      <td>0.027563</td>\n",
       "      <td>0.000124</td>\n",
       "    </tr>\n",
       "    <tr>\n",
       "      <th>5</th>\n",
       "      <td>0.374162</td>\n",
       "      <td>0.015802</td>\n",
       "      <td>0.329474</td>\n",
       "      <td>0.048054</td>\n",
       "      <td>0.048054</td>\n",
       "      <td>4.805406e-02</td>\n",
       "      <td>0.048015</td>\n",
       "      <td>0.048054</td>\n",
       "    </tr>\n",
       "    <tr>\n",
       "      <th>6</th>\n",
       "      <td>0.039087</td>\n",
       "      <td>0.000781</td>\n",
       "      <td>0.122005</td>\n",
       "      <td>0.000001</td>\n",
       "      <td>0.075349</td>\n",
       "      <td>7.444763e-02</td>\n",
       "      <td>0.119651</td>\n",
       "      <td>0.120123</td>\n",
       "    </tr>\n",
       "    <tr>\n",
       "      <th>7</th>\n",
       "      <td>0.079200</td>\n",
       "      <td>0.006299</td>\n",
       "      <td>0.012495</td>\n",
       "      <td>0.001164</td>\n",
       "      <td>0.104380</td>\n",
       "      <td>1.596617e-03</td>\n",
       "      <td>0.239136</td>\n",
       "      <td>0.201617</td>\n",
       "    </tr>\n",
       "    <tr>\n",
       "      <th>8</th>\n",
       "      <td>0.006226</td>\n",
       "      <td>0.031385</td>\n",
       "      <td>0.083085</td>\n",
       "      <td>0.025802</td>\n",
       "      <td>0.028821</td>\n",
       "      <td>1.203424e-02</td>\n",
       "      <td>0.031267</td>\n",
       "      <td>0.019596</td>\n",
       "    </tr>\n",
       "    <tr>\n",
       "      <th>9</th>\n",
       "      <td>0.047386</td>\n",
       "      <td>0.000841</td>\n",
       "      <td>0.094401</td>\n",
       "      <td>0.014469</td>\n",
       "      <td>0.000046</td>\n",
       "      <td>2.345403e-05</td>\n",
       "      <td>0.000934</td>\n",
       "      <td>0.001701</td>\n",
       "    </tr>\n",
       "  </tbody>\n",
       "</table>\n",
       "</div>"
      ],
      "text/plain": [
       "    Animals    Bodies     Faces     Fruit   Manmade       Natural   Pattern  \\\n",
       "0  0.044116  0.010605  0.648296  0.034715  0.034715  3.471464e-02  0.034715   \n",
       "1  0.317981  0.201769  0.062776  0.033057  0.003956  1.105747e-15  0.062776   \n",
       "2  0.008354  0.029715  0.000373  0.021265  0.029986  8.531907e-02  0.004073   \n",
       "3  0.568766  0.151228  0.038407  0.038407  0.013697  3.840684e-02  0.038407   \n",
       "4  0.011189  0.050150  0.038219  0.018030  0.005631  1.784472e-03  0.027563   \n",
       "5  0.374162  0.015802  0.329474  0.048054  0.048054  4.805406e-02  0.048015   \n",
       "6  0.039087  0.000781  0.122005  0.000001  0.075349  7.444763e-02  0.119651   \n",
       "7  0.079200  0.006299  0.012495  0.001164  0.104380  1.596617e-03  0.239136   \n",
       "8  0.006226  0.031385  0.083085  0.025802  0.028821  1.203424e-02  0.031267   \n",
       "9  0.047386  0.000841  0.094401  0.014469  0.000046  2.345403e-05  0.000934   \n",
       "\n",
       "      Scene  \n",
       "0  0.034715  \n",
       "1  0.035399  \n",
       "2  0.039997  \n",
       "3  0.038407  \n",
       "4  0.000124  \n",
       "5  0.048054  \n",
       "6  0.120123  \n",
       "7  0.201617  \n",
       "8  0.019596  \n",
       "9  0.001701  "
      ]
     },
     "execution_count": 42,
     "metadata": {},
     "output_type": "execute_result"
    }
   ],
   "source": [
    "pd.DataFrame(mi_mat.T, columns=row_labels)"
   ]
  },
  {
   "cell_type": "code",
   "execution_count": null,
   "metadata": {
    "collapsed": true
   },
   "outputs": [],
   "source": []
  },
  {
   "cell_type": "code",
   "execution_count": null,
   "metadata": {
    "collapsed": true
   },
   "outputs": [],
   "source": []
  }
 ],
 "metadata": {
  "kernelspec": {
   "display_name": "Python 2",
   "language": "python",
   "name": "python2"
  },
  "language_info": {
   "codemirror_mode": {
    "name": "ipython",
    "version": 2
   },
   "file_extension": ".py",
   "mimetype": "text/x-python",
   "name": "python",
   "nbconvert_exporter": "python",
   "pygments_lexer": "ipython2",
   "version": "2.7.11"
  }
 },
 "nbformat": 4,
 "nbformat_minor": 0
}
