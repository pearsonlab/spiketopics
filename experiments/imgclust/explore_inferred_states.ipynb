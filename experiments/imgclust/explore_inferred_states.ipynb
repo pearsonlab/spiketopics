{
 "cells": [
  {
   "cell_type": "code",
   "execution_count": 1,
   "metadata": {
    "collapsed": false
   },
   "outputs": [
    {
     "name": "stderr",
     "output_type": "stream",
     "text": [
      "/Users/jmxp/anaconda/lib/python2.7/site-packages/matplotlib/font_manager.py:273: UserWarning: Matplotlib is building the font cache using fc-list. This may take a moment.\n",
      "  warnings.warn('Matplotlib is building the font cache using fc-list. This may take a moment.')\n",
      "/Users/jmxp/anaconda/lib/python2.7/site-packages/matplotlib/__init__.py:872: UserWarning: axes.color_cycle is deprecated and replaced with axes.prop_cycle; please use the latter.\n",
      "  warnings.warn(self.msg_depr % (key, alt_key))\n"
     ]
    }
   ],
   "source": [
    "from __future__ import division\n",
    "import numpy as np\n",
    "import pandas as pd\n",
    "import matplotlib.pyplot as plt\n",
    "import seaborn as sns\n",
    "import matplotlib.cm as cm\n",
    "import cPickle as pickle\n",
    "from spiketopics.helpers import *\n",
    "\n",
    "%matplotlib inline\n",
    "sns.set_style('darkgrid')\n",
    "savefigs = False"
   ]
  },
  {
   "cell_type": "markdown",
   "metadata": {},
   "source": [
    "# Load in data"
   ]
  },
  {
   "cell_type": "code",
   "execution_count": 2,
   "metadata": {
    "collapsed": false
   },
   "outputs": [],
   "source": [
    "infile = 'data/fitted_model_object.pkl'\n",
    "gpm = pickle.load(open(infile, 'rb'))\n",
    "dt = 0.30"
   ]
  },
  {
   "cell_type": "code",
   "execution_count": 3,
   "metadata": {
    "collapsed": false
   },
   "outputs": [
    {
     "data": {
      "text/html": [
       "<div>\n",
       "<table border=\"1\" class=\"dataframe\">\n",
       "  <thead>\n",
       "    <tr style=\"text-align: right;\">\n",
       "      <th></th>\n",
       "      <th>trial</th>\n",
       "      <th>unit</th>\n",
       "      <th>count</th>\n",
       "      <th>category</th>\n",
       "      <th>time</th>\n",
       "    </tr>\n",
       "  </thead>\n",
       "  <tbody>\n",
       "    <tr>\n",
       "      <th>0</th>\n",
       "      <td>69</td>\n",
       "      <td>0</td>\n",
       "      <td>2</td>\n",
       "      <td>Baseline</td>\n",
       "      <td>0</td>\n",
       "    </tr>\n",
       "    <tr>\n",
       "      <th>1</th>\n",
       "      <td>69</td>\n",
       "      <td>1</td>\n",
       "      <td>1</td>\n",
       "      <td>Baseline</td>\n",
       "      <td>0</td>\n",
       "    </tr>\n",
       "    <tr>\n",
       "      <th>2</th>\n",
       "      <td>69</td>\n",
       "      <td>2</td>\n",
       "      <td>2</td>\n",
       "      <td>Baseline</td>\n",
       "      <td>0</td>\n",
       "    </tr>\n",
       "    <tr>\n",
       "      <th>3</th>\n",
       "      <td>69</td>\n",
       "      <td>3</td>\n",
       "      <td>0</td>\n",
       "      <td>Baseline</td>\n",
       "      <td>0</td>\n",
       "    </tr>\n",
       "    <tr>\n",
       "      <th>4</th>\n",
       "      <td>69</td>\n",
       "      <td>4</td>\n",
       "      <td>3</td>\n",
       "      <td>Baseline</td>\n",
       "      <td>0</td>\n",
       "    </tr>\n",
       "  </tbody>\n",
       "</table>\n",
       "</div>"
      ],
      "text/plain": [
       "   trial  unit  count  category  time\n",
       "0     69     0      2  Baseline     0\n",
       "1     69     1      1  Baseline     0\n",
       "2     69     2      2  Baseline     0\n",
       "3     69     3      0  Baseline     0\n",
       "4     69     4      3  Baseline     0"
      ]
     },
     "execution_count": 3,
     "metadata": {},
     "output_type": "execute_result"
    }
   ],
   "source": [
    "df = pd.read_csv('data/prepped_data.csv')\n",
    "df.head()"
   ]
  },
  {
   "cell_type": "code",
   "execution_count": 4,
   "metadata": {
    "collapsed": false
   },
   "outputs": [],
   "source": [
    "dfm = df.groupby(['time', 'unit']).mean()['count'].unstack(level=0)"
   ]
  },
  {
   "cell_type": "code",
   "execution_count": 5,
   "metadata": {
    "collapsed": false
   },
   "outputs": [
    {
     "data": {
      "image/png": "[encoded data removed]",
      "text/plain": [
       "<matplotlib.figure.Figure at 0x113274890>"
      ]
     },
     "metadata": {},
     "output_type": "display_data"
    }
   ],
   "source": [
    "plt.matshow(dfm.values[:, 1::3] / dfm.values[:, ::3], \n",
    "            aspect='auto', vmin=1, vmax=3)\n",
    "plt.colorbar();"
   ]
  },
  {
   "cell_type": "code",
   "execution_count": 6,
   "metadata": {
    "collapsed": false
   },
   "outputs": [],
   "source": [
    "dfmm = df.groupby('time').mean()['count']"
   ]
  },
  {
   "cell_type": "code",
   "execution_count": 7,
   "metadata": {
    "collapsed": false
   },
   "outputs": [
    {
     "data": {
      "text/plain": [
       "<Container object of 3 artists>"
      ]
     },
     "execution_count": 7,
     "metadata": {},
     "output_type": "execute_result"
    },
    {
     "data": {
      "image/png": "[encoded data removed]",
      "text/plain": [
       "<matplotlib.figure.Figure at 0x105b23d50>"
      ]
     },
     "metadata": {},
     "output_type": "display_data"
    }
   ],
   "source": [
    "dfrel = (dfmm.values[1::3] - dfmm.values[::3])/dfmm.values[1::3]\n",
    "plt.stem(range(len(dfrel)), dfrel)"
   ]
  },
  {
   "cell_type": "code",
   "execution_count": 8,
   "metadata": {
    "collapsed": false
   },
   "outputs": [
    {
     "data": {
      "text/html": [
       "<div>\n",
       "<table border=\"1\" class=\"dataframe\">\n",
       "  <thead>\n",
       "    <tr style=\"text-align: right;\">\n",
       "      <th></th>\n",
       "      <th>unit</th>\n",
       "      <th>time</th>\n",
       "      <th>count</th>\n",
       "      <th>lam0</th>\n",
       "      <th>lam1</th>\n",
       "    </tr>\n",
       "  </thead>\n",
       "  <tbody>\n",
       "    <tr>\n",
       "      <th>0</th>\n",
       "      <td>0</td>\n",
       "      <td>0</td>\n",
       "      <td>2</td>\n",
       "      <td>-1.659158</td>\n",
       "      <td>-1.826799</td>\n",
       "    </tr>\n",
       "    <tr>\n",
       "      <th>1</th>\n",
       "      <td>1</td>\n",
       "      <td>0</td>\n",
       "      <td>1</td>\n",
       "      <td>-1.849769</td>\n",
       "      <td>-1.679158</td>\n",
       "    </tr>\n",
       "    <tr>\n",
       "      <th>2</th>\n",
       "      <td>2</td>\n",
       "      <td>0</td>\n",
       "      <td>2</td>\n",
       "      <td>-0.578987</td>\n",
       "      <td>-1.016018</td>\n",
       "    </tr>\n",
       "    <tr>\n",
       "      <th>3</th>\n",
       "      <td>3</td>\n",
       "      <td>0</td>\n",
       "      <td>0</td>\n",
       "      <td>-0.271700</td>\n",
       "      <td>-0.203939</td>\n",
       "    </tr>\n",
       "    <tr>\n",
       "      <th>4</th>\n",
       "      <td>4</td>\n",
       "      <td>0</td>\n",
       "      <td>3</td>\n",
       "      <td>-0.743339</td>\n",
       "      <td>-1.430097</td>\n",
       "    </tr>\n",
       "  </tbody>\n",
       "</table>\n",
       "</div>"
      ],
      "text/plain": [
       "   unit  time  count      lam0      lam1\n",
       "0     0     0      2 -1.659158 -1.826799\n",
       "1     1     0      1 -1.849769 -1.679158\n",
       "2     2     0      2 -0.578987 -1.016018\n",
       "3     3     0      0 -0.271700 -0.203939\n",
       "4     4     0      3 -0.743339 -1.430097"
      ]
     },
     "execution_count": 8,
     "metadata": {},
     "output_type": "execute_result"
    }
   ],
   "source": [
    "gpm.Nframe.head()"
   ]
  },
  {
   "cell_type": "code",
   "execution_count": 9,
   "metadata": {
    "collapsed": false
   },
   "outputs": [],
   "source": [
    "if gpm.regressors:\n",
    "    gpm.Xframe.head()"
   ]
  },
  {
   "cell_type": "markdown",
   "metadata": {},
   "source": [
    "# Plot inferred categories as matrix"
   ]
  },
  {
   "cell_type": "code",
   "execution_count": 10,
   "metadata": {
    "collapsed": false
   },
   "outputs": [
    {
     "name": "stdout",
     "output_type": "stream",
     "text": [
      "(288, 10)\n"
     ]
    }
   ],
   "source": [
    "xi = gpm.nodes['HMM'].nodes['z'].z[1].copy()\n",
    "T, K = xi.shape\n",
    "print xi.shape"
   ]
  },
  {
   "cell_type": "code",
   "execution_count": 11,
   "metadata": {
    "collapsed": false
   },
   "outputs": [
    {
     "data": {
      "image/png": "[encoded data removed]",
      "text/plain": [
       "<matplotlib.figure.Figure at 0x1138d3dd0>"
      ]
     },
     "metadata": {},
     "output_type": "display_data"
    }
   ],
   "source": [
    "matshow(xi[:500].T, vmin=0, vmax=1);\n",
    "plt.colorbar();"
   ]
  },
  {
   "cell_type": "markdown",
   "metadata": {},
   "source": [
    "Every third timestep is a different stimulus. Each stimulus has\n",
    "1. pre-trial baseline\n",
    "1. stimulus presentation\n",
    "1. post-stimulus period\n",
    "\n",
    "So let's plot these individually:"
   ]
  },
  {
   "cell_type": "code",
   "execution_count": 12,
   "metadata": {
    "collapsed": false
   },
   "outputs": [
    {
     "data": {
      "text/plain": [
       "<matplotlib.text.Text at 0x111ba5d50>"
      ]
     },
     "execution_count": 12,
     "metadata": {},
     "output_type": "execute_result"
    },
    {
     "data": {
      "image/png": "[encoded data removed]",
      "text/plain": [
       "<matplotlib.figure.Figure at 0x111a93f50>"
      ]
     },
     "metadata": {},
     "output_type": "display_data"
    }
   ],
   "source": [
    "matshow(xi[::3].T, vmin=0, vmax=1)\n",
    "plt.title('Baseline (pre-trial)')"
   ]
  },
  {
   "cell_type": "code",
   "execution_count": 13,
   "metadata": {
    "collapsed": false
   },
   "outputs": [
    {
     "data": {
      "text/plain": [
       "<matplotlib.text.Text at 0x1131d5ad0>"
      ]
     },
     "execution_count": 13,
     "metadata": {},
     "output_type": "execute_result"
    },
    {
     "data": {
      "image/png": "[encoded data removed]",
      "text/plain": [
       "<matplotlib.figure.Figure at 0x111f03b50>"
      ]
     },
     "metadata": {},
     "output_type": "display_data"
    }
   ],
   "source": [
    "matshow(xi[1::3].T, vmin=0, vmax=1)\n",
    "plt.title('Stimulus')"
   ]
  },
  {
   "cell_type": "code",
   "execution_count": 14,
   "metadata": {
    "collapsed": false
   },
   "outputs": [
    {
     "data": {
      "text/plain": [
       "<matplotlib.text.Text at 0x1136e0e50>"
      ]
     },
     "execution_count": 14,
     "metadata": {},
     "output_type": "execute_result"
    },
    {
     "data": {
      "image/png": "[encoded data removed]",
      "text/plain": [
       "<matplotlib.figure.Figure at 0x112bb9e10>"
      ]
     },
     "metadata": {},
     "output_type": "display_data"
    }
   ],
   "source": [
    "matshow(xi[2::3].T, vmin=0, vmax=1)\n",
    "plt.title('Post-stim')"
   ]
  },
  {
   "cell_type": "code",
   "execution_count": 15,
   "metadata": {
    "collapsed": false
   },
   "outputs": [
    {
     "data": {
      "image/png": "[encoded data removed]",
      "text/plain": [
       "<matplotlib.figure.Figure at 0x1131e1350>"
      ]
     },
     "metadata": {},
     "output_type": "display_data"
    }
   ],
   "source": [
    "matshow(xi[1::3].T - xi[::3].T, vmin=-1, vmax=1)\n",
    "plt.title('Stim - Baseline')\n",
    "for ind in range(0, xi.shape[0]//3, 12):\n",
    "    plt.axvline(ind - 0.5, 0, xi.shape[-1], color='black')"
   ]
  },
  {
   "cell_type": "code",
   "execution_count": 16,
   "metadata": {
    "collapsed": false
   },
   "outputs": [
    {
     "data": {
      "image/png": "[encoded data removed]",
      "text/plain": [
       "<matplotlib.figure.Figure at 0x112f06790>"
      ]
     },
     "metadata": {},
     "output_type": "display_data"
    }
   ],
   "source": [
    "matshow(xi[2::3].T - xi[1::3].T, vmin=-1, vmax=1)\n",
    "plt.title('Post - Stim')\n",
    "for ind in range(0, xi.shape[0]//3, 12):\n",
    "    plt.axvline(ind - 0.5, 0, xi.shape[-1], color='black')"
   ]
  },
  {
   "cell_type": "code",
   "execution_count": 17,
   "metadata": {
    "collapsed": false
   },
   "outputs": [
    {
     "data": {
      "image/png": "[encoded data removed]",
      "text/plain": [
       "<matplotlib.figure.Figure at 0x112307e10>"
      ]
     },
     "metadata": {},
     "output_type": "display_data"
    }
   ],
   "source": [
    "matshow(xi[2::3].T - xi[::3].T, vmin=-1, vmax=1)\n",
    "plt.title('Post - Baseline')\n",
    "for ind in range(0, xi.shape[0]//3, 12):\n",
    "    plt.axvline(ind - 0.5, 0, xi.shape[-1], color='black')"
   ]
  },
  {
   "cell_type": "markdown",
   "metadata": {},
   "source": [
    "## Weight categories by effect sizes\n",
    "\n",
    "First, get mean effect size for each firing rate effect:"
   ]
  },
  {
   "cell_type": "code",
   "execution_count": 18,
   "metadata": {
    "collapsed": true
   },
   "outputs": [],
   "source": [
    "th = gpm.nodes['fr_latents_mean']\n",
    "cc = gpm.nodes['fr_latents_shape']\n",
    "\n",
    "th_pars = np.c_[th.post_shape, th.post_rate].T\n",
    "cc_pars = np.c_[cc.post_shape, cc.post_rate].T\n",
    "\n",
    "effsize = th_pars[0] / th_pars[1]  # mean of posterior for mean effect size"
   ]
  },
  {
   "cell_type": "code",
   "execution_count": 19,
   "metadata": {
    "collapsed": false
   },
   "outputs": [
    {
     "data": {
      "text/plain": [
       "array([ 0.95965097,  0.88440285,  1.0098406 ,  0.77798307,  1.22389374,\n",
       "        0.87332988,  1.06287643,  0.93351161,  1.0915169 ,  1.32906375])"
      ]
     },
     "execution_count": 19,
     "metadata": {},
     "output_type": "execute_result"
    }
   ],
   "source": [
    "effsize"
   ]
  },
  {
   "cell_type": "code",
   "execution_count": 20,
   "metadata": {
    "collapsed": true
   },
   "outputs": [],
   "source": [
    "# make a normalizer so we can set the colormap midpoint\n",
    "from matplotlib.colors import Normalize\n",
    "\n",
    "class MidpointNormalize(Normalize):\n",
    "    def __init__(self, vmin=None, vmax=None, midpoint=None, clip=False):\n",
    "        self.midpoint = midpoint\n",
    "        Normalize.__init__(self, vmin, vmax, clip)\n",
    "\n",
    "    def __call__(self, value, clip=None):\n",
    "        # I'm ignoring masked values and all kinds of edge cases to make a\n",
    "        # simple example...\n",
    "        x, y = [self.vmin, self.midpoint, self.vmax], [0, 0.5, 1]\n",
    "        return np.ma.masked_invalid(np.interp(value, x, y))\n",
    "\n",
    "norm = MidpointNormalize(midpoint=1., vmin=0.8, vmax=1.2)\n",
    "cmap = plt.cm.RdBu_r\n",
    "cmap.set_bad(color='k', alpha=1.0)"
   ]
  },
  {
   "cell_type": "code",
   "execution_count": 21,
   "metadata": {
    "collapsed": false
   },
   "outputs": [
    {
     "data": {
      "text/plain": [
       "<matplotlib.figure.Figure at 0x112a5b050>"
      ]
     },
     "metadata": {},
     "output_type": "display_data"
    },
    {
     "data": {
      "image/png": "[encoded data removed]",
      "text/plain": [
       "<matplotlib.figure.Figure at 0x11287e190>"
      ]
     },
     "metadata": {},
     "output_type": "display_data"
    }
   ],
   "source": [
    "X = (xi[1::3] * effsize).T\n",
    "X[np.abs(X) < 1e-4] = np.nan\n",
    "\n",
    "with sns.axes_style(\"white\"):\n",
    "    plt.figure(figsize=(20, 8))\n",
    "    ax = plt.matshow(X, aspect='auto', cmap=cmap, norm=norm);\n",
    "\n",
    "plt.title('Stimulus')\n",
    "for ind in range(0, xi.shape[0]//3, 12):\n",
    "    plt.axvline(ind - 0.5, 0, xi.shape[-1], color='white')\n",
    "plt.colorbar();"
   ]
  },
  {
   "cell_type": "markdown",
   "metadata": {},
   "source": [
    "## Make $\\xi$ dataframe:"
   ]
  },
  {
   "cell_type": "code",
   "execution_count": 22,
   "metadata": {
    "collapsed": false
   },
   "outputs": [],
   "source": [
    "xif = pd.DataFrame(xi)\n",
    "xif.columns = ['Z' + str(k) for k in range(K)]\n",
    "xif.index.name = 'time'\n",
    "xif = xif.reset_index()"
   ]
  },
  {
   "cell_type": "markdown",
   "metadata": {},
   "source": [
    "# Posteriors for effects"
   ]
  },
  {
   "cell_type": "markdown",
   "metadata": {},
   "source": [
    "## Baselines"
   ]
  },
  {
   "cell_type": "code",
   "execution_count": 23,
   "metadata": {
    "collapsed": true
   },
   "outputs": [],
   "source": [
    "bl = gpm.nodes['baseline']\n",
    "unit_baseline_means = bl.expected_x() / dt"
   ]
  },
  {
   "cell_type": "code",
   "execution_count": 24,
   "metadata": {
    "collapsed": false
   },
   "outputs": [
    {
     "data": {
      "image/png": "[encoded data removed]",
      "text/plain": [
       "<matplotlib.figure.Figure at 0x111b24ad0>"
      ]
     },
     "metadata": {},
     "output_type": "display_data"
    }
   ],
   "source": [
    "plt.figure(figsize=(14, 4))\n",
    "\n",
    "th = gpm.nodes['baseline_mean']\n",
    "cc = gpm.nodes['baseline_shape']\n",
    "th_pars = [th.post_shape, th.post_rate]\n",
    "cc_pars = [cc.post_shape, cc.post_rate]\n",
    "samples = gamma_from_hypers(th_pars, cc_pars, 1e5)\n",
    "\n",
    "plt.subplot(1, 3, 1)\n",
    "xx = np.linspace(0, 5000, 500)\n",
    "plt.plot(xx, stats.invgamma.pdf(xx, a=th_pars[0], scale=th_pars[1]/dt))\n",
    "plt.title('Baseline mean parameter posterior');\n",
    "\n",
    "plt.subplot(1, 3, 2)\n",
    "xx = np.linspace(0, 20, 500)\n",
    "plt.plot(xx, stats.invgamma.pdf(xx, a=cc_pars[0], scale=cc_pars[1]))\n",
    "plt.title('Baseline variance parameter posterior');\n",
    "\n",
    "plt.subplot(1, 3, 3)\n",
    "sns.kdeplot(samples / dt, gridsize=1e4, clip=(0, 100))\n",
    "plt.title('baseline posterior distribution')\n",
    "plt.xlabel('Firing rate (Hz)')\n",
    "plt.xlim(0, 100);"
   ]
  },
  {
   "cell_type": "markdown",
   "metadata": {},
   "source": [
    "## Regressors"
   ]
  },
  {
   "cell_type": "code",
   "execution_count": 25,
   "metadata": {
    "collapsed": false
   },
   "outputs": [],
   "source": [
    "if gpm.regressors:\n",
    "    plt.figure(figsize=(8, 6));\n",
    "    inferred_means = gpm.nodes['fr_regressors'].expected_x()\n",
    "    R = inferred_means.shape[1]\n",
    "    for r in xrange(R):\n",
    "        plt.hist(inferred_means[:, r], bins=50, normed=True, alpha=0.25, label='X' + str(r))\n",
    "    plt.title('Regression effects');\n",
    "    plt.legend()\n",
    "    plt.ylim(0, 5);\n",
    "    plt.xlim(0, 5);"
   ]
  },
  {
   "cell_type": "markdown",
   "metadata": {},
   "source": [
    "## Latent Categories"
   ]
  },
  {
   "cell_type": "code",
   "execution_count": 26,
   "metadata": {
    "collapsed": true
   },
   "outputs": [],
   "source": [
    "frn = gpm.nodes['fr_latents']\n",
    "fr_mean_effect = frn.expected_x()"
   ]
  },
  {
   "cell_type": "code",
   "execution_count": 27,
   "metadata": {
    "collapsed": false
   },
   "outputs": [
    {
     "data": {
      "image/png": "[encoded data removed]",
      "text/plain": [
       "<matplotlib.figure.Figure at 0x113a12310>"
      ]
     },
     "metadata": {},
     "output_type": "display_data"
    }
   ],
   "source": [
    "plt.figure(figsize=(16, 4))\n",
    "\n",
    "th = gpm.nodes['fr_latents_mean']\n",
    "cc = gpm.nodes['fr_latents_shape']\n",
    "\n",
    "th_pars = np.c_[th.post_shape, th.post_rate].T\n",
    "cc_pars = np.c_[cc.post_shape, cc.post_rate].T\n",
    "\n",
    "plt.subplot(1, 3, 1)\n",
    "xx = np.linspace(0, 2, 500)\n",
    "for kk in xrange(K):\n",
    "    plt.plot(xx, stats.invgamma.pdf(xx, a=th_pars[0, kk], scale=th_pars[1, kk]), label='Z' + str(kk))\n",
    "plt.legend()\n",
    "plt.title('effect mean posterior');\n",
    "\n",
    "plt.subplot(1, 3, 2)\n",
    "xx = np.linspace(0, 5, 500)\n",
    "for kk in xrange(K):\n",
    "    plt.plot(xx, stats.invgamma.pdf(xx, a=cc_pars[0, kk], scale=cc_pars[1, kk]), label='Z' + str(kk))\n",
    "plt.legend()\n",
    "plt.title('effect variance parameter posterior');\n",
    "\n",
    "plt.subplot(1, 3, 3)\n",
    "for kk in xrange(K):\n",
    "    samples = gamma_from_hypers(th_pars[:, kk], cc_pars[:, kk], 1e5)\n",
    "    sns.kdeplot(samples, gridsize=1e4, clip=(0, 10), label='Z' + str(kk))\n",
    "plt.legend()\n",
    "plt.title(r'$\\lambda$ effect posterior distribution')\n",
    "plt.xlim(0, 2);\n",
    "plt.ylim(0, 5);"
   ]
  },
  {
   "cell_type": "code",
   "execution_count": 28,
   "metadata": {
    "collapsed": false
   },
   "outputs": [
    {
     "data": {
      "image/png": "[encoded data removed]",
      "text/plain": [
       "<matplotlib.figure.Figure at 0x11281b950>"
      ]
     },
     "metadata": {},
     "output_type": "display_data"
    }
   ],
   "source": [
    "plt.figure(figsize=(8, 6))\n",
    "\n",
    "inferred_effects = gpm.nodes['fr_latents'].expected_x()\n",
    "for kk in xrange(K):\n",
    "    plt.hist(inferred_effects[..., kk], bins=50, normed=True, alpha=0.25, label='Z' + str(kk));\n",
    "plt.legend();\n",
    "plt.title('Firing rate effects');\n",
    "plt.ylim(0, 5);"
   ]
  },
  {
   "cell_type": "markdown",
   "metadata": {},
   "source": [
    "## Overdispersion"
   ]
  },
  {
   "cell_type": "code",
   "execution_count": 29,
   "metadata": {
    "collapsed": false
   },
   "outputs": [
    {
     "data": {
      "image/png": "[encoded data removed]",
      "text/plain": [
       "<matplotlib.figure.Figure at 0x112307990>"
      ]
     },
     "metadata": {},
     "output_type": "display_data"
    }
   ],
   "source": [
    "if gpm.overdispersion:\n",
    "    plt.figure(figsize=(8, 6))\n",
    "\n",
    "    inferred_means = gpm.nodes['overdispersion'].expected_x().ravel()\n",
    "    plt.hist(inferred_means, bins=500, normed=True, alpha=0.25);\n",
    "    plt.title('Overdispersion effects');\n",
    "    plt.ylim(0, 2);"
   ]
  },
  {
   "cell_type": "markdown",
   "metadata": {},
   "source": [
    "# Load and prepare coded features:"
   ]
  },
  {
   "cell_type": "code",
   "execution_count": 30,
   "metadata": {
    "collapsed": false
   },
   "outputs": [
    {
     "data": {
      "text/html": [
       "<div>\n",
       "<table border=\"1\" class=\"dataframe\">\n",
       "  <thead>\n",
       "    <tr style=\"text-align: right;\">\n",
       "      <th></th>\n",
       "      <th>trial</th>\n",
       "      <th>unit</th>\n",
       "      <th>count</th>\n",
       "      <th>category</th>\n",
       "      <th>time</th>\n",
       "    </tr>\n",
       "  </thead>\n",
       "  <tbody>\n",
       "    <tr>\n",
       "      <th>0</th>\n",
       "      <td>69</td>\n",
       "      <td>0</td>\n",
       "      <td>2</td>\n",
       "      <td>Baseline</td>\n",
       "      <td>0</td>\n",
       "    </tr>\n",
       "    <tr>\n",
       "      <th>1</th>\n",
       "      <td>69</td>\n",
       "      <td>1</td>\n",
       "      <td>1</td>\n",
       "      <td>Baseline</td>\n",
       "      <td>0</td>\n",
       "    </tr>\n",
       "    <tr>\n",
       "      <th>2</th>\n",
       "      <td>69</td>\n",
       "      <td>2</td>\n",
       "      <td>2</td>\n",
       "      <td>Baseline</td>\n",
       "      <td>0</td>\n",
       "    </tr>\n",
       "    <tr>\n",
       "      <th>3</th>\n",
       "      <td>69</td>\n",
       "      <td>3</td>\n",
       "      <td>0</td>\n",
       "      <td>Baseline</td>\n",
       "      <td>0</td>\n",
       "    </tr>\n",
       "    <tr>\n",
       "      <th>4</th>\n",
       "      <td>69</td>\n",
       "      <td>4</td>\n",
       "      <td>3</td>\n",
       "      <td>Baseline</td>\n",
       "      <td>0</td>\n",
       "    </tr>\n",
       "  </tbody>\n",
       "</table>\n",
       "</div>"
      ],
      "text/plain": [
       "   trial  unit  count  category  time\n",
       "0     69     0      2  Baseline     0\n",
       "1     69     1      1  Baseline     0\n",
       "2     69     2      2  Baseline     0\n",
       "3     69     3      0  Baseline     0\n",
       "4     69     4      3  Baseline     0"
      ]
     },
     "execution_count": 30,
     "metadata": {},
     "output_type": "execute_result"
    }
   ],
   "source": [
    "df.head()"
   ]
  },
  {
   "cell_type": "code",
   "execution_count": 31,
   "metadata": {
    "collapsed": false
   },
   "outputs": [
    {
     "data": {
      "text/html": [
       "<div>\n",
       "<table border=\"1\" class=\"dataframe\">\n",
       "  <thead>\n",
       "    <tr style=\"text-align: right;\">\n",
       "      <th></th>\n",
       "      <th>time</th>\n",
       "      <th>Animals</th>\n",
       "      <th>Baseline</th>\n",
       "      <th>Bodies</th>\n",
       "      <th>Faces</th>\n",
       "      <th>Fruit</th>\n",
       "      <th>Manmade</th>\n",
       "      <th>Natural</th>\n",
       "      <th>Pattern</th>\n",
       "      <th>Scene</th>\n",
       "    </tr>\n",
       "  </thead>\n",
       "  <tbody>\n",
       "    <tr>\n",
       "      <th>0</th>\n",
       "      <td>0</td>\n",
       "      <td>0</td>\n",
       "      <td>1</td>\n",
       "      <td>0</td>\n",
       "      <td>0</td>\n",
       "      <td>0</td>\n",
       "      <td>0</td>\n",
       "      <td>0</td>\n",
       "      <td>0</td>\n",
       "      <td>0</td>\n",
       "    </tr>\n",
       "    <tr>\n",
       "      <th>1</th>\n",
       "      <td>1</td>\n",
       "      <td>0</td>\n",
       "      <td>0</td>\n",
       "      <td>0</td>\n",
       "      <td>1</td>\n",
       "      <td>0</td>\n",
       "      <td>0</td>\n",
       "      <td>0</td>\n",
       "      <td>0</td>\n",
       "      <td>0</td>\n",
       "    </tr>\n",
       "    <tr>\n",
       "      <th>2</th>\n",
       "      <td>2</td>\n",
       "      <td>0</td>\n",
       "      <td>0</td>\n",
       "      <td>0</td>\n",
       "      <td>1</td>\n",
       "      <td>0</td>\n",
       "      <td>0</td>\n",
       "      <td>0</td>\n",
       "      <td>0</td>\n",
       "      <td>0</td>\n",
       "    </tr>\n",
       "    <tr>\n",
       "      <th>3</th>\n",
       "      <td>3</td>\n",
       "      <td>0</td>\n",
       "      <td>1</td>\n",
       "      <td>0</td>\n",
       "      <td>0</td>\n",
       "      <td>0</td>\n",
       "      <td>0</td>\n",
       "      <td>0</td>\n",
       "      <td>0</td>\n",
       "      <td>0</td>\n",
       "    </tr>\n",
       "    <tr>\n",
       "      <th>4</th>\n",
       "      <td>4</td>\n",
       "      <td>0</td>\n",
       "      <td>0</td>\n",
       "      <td>0</td>\n",
       "      <td>1</td>\n",
       "      <td>0</td>\n",
       "      <td>0</td>\n",
       "      <td>0</td>\n",
       "      <td>0</td>\n",
       "      <td>0</td>\n",
       "    </tr>\n",
       "  </tbody>\n",
       "</table>\n",
       "</div>"
      ],
      "text/plain": [
       "   time  Animals  Baseline  Bodies  Faces  Fruit  Manmade  Natural  Pattern  \\\n",
       "0     0        0         1       0      0      0        0        0        0   \n",
       "1     1        0         0       0      1      0        0        0        0   \n",
       "2     2        0         0       0      1      0        0        0        0   \n",
       "3     3        0         1       0      0      0        0        0        0   \n",
       "4     4        0         0       0      1      0        0        0        0   \n",
       "\n",
       "   Scene  \n",
       "0      0  \n",
       "1      0  \n",
       "2      0  \n",
       "3      0  \n",
       "4      0  "
      ]
     },
     "execution_count": 31,
     "metadata": {},
     "output_type": "execute_result"
    }
   ],
   "source": [
    "df2 = df.copy()\n",
    "df2['value'] = 1\n",
    "df2 = df2.drop(['trial', 'unit'], axis=1).drop_duplicates()\n",
    "catdf = pd.pivot_table(df2, values='value', index=['time'], columns=['category']).reset_index().fillna(0)\n",
    "catdf.columns.name = ''\n",
    "catdf.head()"
   ]
  },
  {
   "cell_type": "code",
   "execution_count": 46,
   "metadata": {
    "collapsed": false
   },
   "outputs": [
    {
     "data": {
      "text/html": [
       "<div>\n",
       "<table border=\"1\" class=\"dataframe\">\n",
       "  <thead>\n",
       "    <tr style=\"text-align: right;\">\n",
       "      <th></th>\n",
       "      <th>Animals</th>\n",
       "      <th>Bodies</th>\n",
       "      <th>Faces</th>\n",
       "      <th>Fruit</th>\n",
       "      <th>Manmade</th>\n",
       "      <th>Natural</th>\n",
       "      <th>Pattern</th>\n",
       "      <th>Scene</th>\n",
       "      <th>Z0</th>\n",
       "      <th>Z1</th>\n",
       "      <th>Z2</th>\n",
       "      <th>Z3</th>\n",
       "      <th>Z4</th>\n",
       "      <th>Z5</th>\n",
       "      <th>Z6</th>\n",
       "      <th>Z7</th>\n",
       "      <th>Z8</th>\n",
       "      <th>Z9</th>\n",
       "    </tr>\n",
       "  </thead>\n",
       "  <tbody>\n",
       "    <tr>\n",
       "      <th>0</th>\n",
       "      <td>0</td>\n",
       "      <td>0</td>\n",
       "      <td>0</td>\n",
       "      <td>0</td>\n",
       "      <td>0</td>\n",
       "      <td>0</td>\n",
       "      <td>0</td>\n",
       "      <td>0</td>\n",
       "      <td>4.852948e-14</td>\n",
       "      <td>8.561162e-64</td>\n",
       "      <td>2.327285e-20</td>\n",
       "      <td>3.982953e-34</td>\n",
       "      <td>1.313929e-22</td>\n",
       "      <td>1.634828e-15</td>\n",
       "      <td>9.947864e-11</td>\n",
       "      <td>3.076047e-16</td>\n",
       "      <td>1.273612e-11</td>\n",
       "      <td>5.746971e-29</td>\n",
       "    </tr>\n",
       "    <tr>\n",
       "      <th>1</th>\n",
       "      <td>0</td>\n",
       "      <td>0</td>\n",
       "      <td>1</td>\n",
       "      <td>0</td>\n",
       "      <td>0</td>\n",
       "      <td>0</td>\n",
       "      <td>0</td>\n",
       "      <td>0</td>\n",
       "      <td>8.878051e-08</td>\n",
       "      <td>1.000000e+00</td>\n",
       "      <td>2.414077e-52</td>\n",
       "      <td>1.000000e+00</td>\n",
       "      <td>6.352249e-38</td>\n",
       "      <td>1.000000e+00</td>\n",
       "      <td>2.432463e-47</td>\n",
       "      <td>1.383467e-37</td>\n",
       "      <td>5.837018e-15</td>\n",
       "      <td>5.250327e-54</td>\n",
       "    </tr>\n",
       "    <tr>\n",
       "      <th>2</th>\n",
       "      <td>0</td>\n",
       "      <td>0</td>\n",
       "      <td>1</td>\n",
       "      <td>0</td>\n",
       "      <td>0</td>\n",
       "      <td>0</td>\n",
       "      <td>0</td>\n",
       "      <td>0</td>\n",
       "      <td>5.884222e-22</td>\n",
       "      <td>1.000000e+00</td>\n",
       "      <td>9.892105e-42</td>\n",
       "      <td>1.000000e+00</td>\n",
       "      <td>4.022749e-31</td>\n",
       "      <td>4.591772e-16</td>\n",
       "      <td>1.000000e+00</td>\n",
       "      <td>4.515040e-17</td>\n",
       "      <td>1.000000e+00</td>\n",
       "      <td>1.496608e-38</td>\n",
       "    </tr>\n",
       "    <tr>\n",
       "      <th>3</th>\n",
       "      <td>0</td>\n",
       "      <td>0</td>\n",
       "      <td>0</td>\n",
       "      <td>0</td>\n",
       "      <td>0</td>\n",
       "      <td>0</td>\n",
       "      <td>0</td>\n",
       "      <td>0</td>\n",
       "      <td>3.185010e-12</td>\n",
       "      <td>3.809676e-54</td>\n",
       "      <td>6.639567e-29</td>\n",
       "      <td>3.784418e-25</td>\n",
       "      <td>1.909925e-34</td>\n",
       "      <td>1.755885e-11</td>\n",
       "      <td>8.281477e-01</td>\n",
       "      <td>1.560637e-10</td>\n",
       "      <td>2.002826e-17</td>\n",
       "      <td>1.331814e-37</td>\n",
       "    </tr>\n",
       "    <tr>\n",
       "      <th>4</th>\n",
       "      <td>0</td>\n",
       "      <td>0</td>\n",
       "      <td>1</td>\n",
       "      <td>0</td>\n",
       "      <td>0</td>\n",
       "      <td>0</td>\n",
       "      <td>0</td>\n",
       "      <td>0</td>\n",
       "      <td>1.059464e-47</td>\n",
       "      <td>1.000000e+00</td>\n",
       "      <td>5.790991e-91</td>\n",
       "      <td>1.000000e+00</td>\n",
       "      <td>2.483735e-69</td>\n",
       "      <td>1.000000e+00</td>\n",
       "      <td>3.677512e-13</td>\n",
       "      <td>1.000000e+00</td>\n",
       "      <td>1.765863e-33</td>\n",
       "      <td>2.945037e-68</td>\n",
       "    </tr>\n",
       "  </tbody>\n",
       "</table>\n",
       "</div>"
      ],
      "text/plain": [
       "   Animals  Bodies  Faces  Fruit  Manmade  Natural  Pattern  Scene  \\\n",
       "0        0       0      0      0        0        0        0      0   \n",
       "1        0       0      1      0        0        0        0      0   \n",
       "2        0       0      1      0        0        0        0      0   \n",
       "3        0       0      0      0        0        0        0      0   \n",
       "4        0       0      1      0        0        0        0      0   \n",
       "\n",
       "             Z0            Z1            Z2            Z3            Z4  \\\n",
       "0  4.852948e-14  8.561162e-64  2.327285e-20  3.982953e-34  1.313929e-22   \n",
       "1  8.878051e-08  1.000000e+00  2.414077e-52  1.000000e+00  6.352249e-38   \n",
       "2  5.884222e-22  1.000000e+00  9.892105e-42  1.000000e+00  4.022749e-31   \n",
       "3  3.185010e-12  3.809676e-54  6.639567e-29  3.784418e-25  1.909925e-34   \n",
       "4  1.059464e-47  1.000000e+00  5.790991e-91  1.000000e+00  2.483735e-69   \n",
       "\n",
       "             Z5            Z6            Z7            Z8            Z9  \n",
       "0  1.634828e-15  9.947864e-11  3.076047e-16  1.273612e-11  5.746971e-29  \n",
       "1  1.000000e+00  2.432463e-47  1.383467e-37  5.837018e-15  5.250327e-54  \n",
       "2  4.591772e-16  1.000000e+00  4.515040e-17  1.000000e+00  1.496608e-38  \n",
       "3  1.755885e-11  8.281477e-01  1.560637e-10  2.002826e-17  1.331814e-37  \n",
       "4  1.000000e+00  3.677512e-13  1.000000e+00  1.765863e-33  2.945037e-68  "
      ]
     },
     "execution_count": 46,
     "metadata": {},
     "output_type": "execute_result"
    }
   ],
   "source": [
    "edf = pd.merge(catdf, xif).sort_values(by='time').drop(['time', 'Baseline'], axis=1)\n",
    "edf.head()"
   ]
  },
  {
   "cell_type": "markdown",
   "metadata": {},
   "source": [
    "# View results:"
   ]
  },
  {
   "cell_type": "code",
   "execution_count": 47,
   "metadata": {
    "collapsed": false
   },
   "outputs": [
    {
     "data": {
      "image/png": "[encoded data removed]",
      "text/plain": [
       "<matplotlib.figure.Figure at 0x111bd4cd0>"
      ]
     },
     "metadata": {},
     "output_type": "display_data"
    }
   ],
   "source": [
    "if savefigs:\n",
    "    sns.set_context('poster', font_scale=1)\n",
    "\n",
    "# plot a section in time; each row is a regressor; bottom rows are inferred categories\n",
    "trng = slice(None)\n",
    "matshow(edf.iloc[trng].values.T, vmin=0, vmax=1);\n",
    "col_labels = edf.columns\n",
    "plt.yticks(xrange(len(col_labels)), col_labels);\n",
    "plt.gcf().set_size_inches([20, 5])\n",
    "\n",
    "if savefigs:\n",
    "    plt.savefig('roitman_recovery.svg')\n",
    "    sns.set()"
   ]
  },
  {
   "cell_type": "markdown",
   "metadata": {},
   "source": [
    "## Overlap analysis:"
   ]
  },
  {
   "cell_type": "markdown",
   "metadata": {},
   "source": [
    "Define the overlap as the maximum of the match or mismatch percentage. That is, if $x$ and $y$ are binary vectors, \n",
    "$$\n",
    "\\mathrm{overlap} = \\max \\{ \\mathbb{E}[xy + (1-x)(1-y)], \\mathbb{E}[(1-x)y + x(1-y)]\\}\n",
    "$$"
   ]
  },
  {
   "cell_type": "code",
   "execution_count": 48,
   "metadata": {
    "collapsed": false
   },
   "outputs": [],
   "source": [
    "match = (edf.T.dot(edf) + (1 - edf.T).dot(1 - edf)) / T\n",
    "mismatch = (edf.T.dot(1 - edf) + (1 - edf.T).dot(edf)) / T\n",
    "overlap = np.maximum(match, mismatch)"
   ]
  },
  {
   "cell_type": "code",
   "execution_count": 49,
   "metadata": {
    "collapsed": false
   },
   "outputs": [
    {
     "data": {
      "image/png": "[encoded data removed]",
      "text/plain": [
       "<matplotlib.figure.Figure at 0x111bfc590>"
      ]
     },
     "metadata": {},
     "output_type": "display_data"
    }
   ],
   "source": [
    "row_labels = edf.columns[:-K]\n",
    "matshow(overlap.values[-K:,:-K]) #, vmin=0.5, vmax=1)\n",
    "plt.ylabel('inferred factor')\n",
    "plt.xlabel('labeled factor')\n",
    "plt.colorbar();\n",
    "\n",
    "# add column names\n",
    "ax = plt.gca()\n",
    "ax.xaxis.set_label_position('top')\n",
    "plt.tick_params(axis='x', which='both', top='off', bottom='off', \n",
    "                labelbottom='on', labeltop='off', pad=5)\n",
    "plt.xticks(xrange(len(row_labels)), row_labels, rotation='vertical', horizontalalignment='center');"
   ]
  },
  {
   "cell_type": "code",
   "execution_count": 50,
   "metadata": {
    "collapsed": false
   },
   "outputs": [
    {
     "data": {
      "text/html": [
       "<div>\n",
       "<table border=\"1\" class=\"dataframe\">\n",
       "  <thead>\n",
       "    <tr style=\"text-align: right;\">\n",
       "      <th></th>\n",
       "      <th>Animals</th>\n",
       "      <th>Bodies</th>\n",
       "      <th>Faces</th>\n",
       "      <th>Fruit</th>\n",
       "      <th>Manmade</th>\n",
       "      <th>Natural</th>\n",
       "      <th>Pattern</th>\n",
       "      <th>Scene</th>\n",
       "      <th>Z0</th>\n",
       "      <th>Z1</th>\n",
       "      <th>Z2</th>\n",
       "      <th>Z3</th>\n",
       "      <th>Z4</th>\n",
       "      <th>Z5</th>\n",
       "      <th>Z6</th>\n",
       "      <th>Z7</th>\n",
       "      <th>Z8</th>\n",
       "      <th>Z9</th>\n",
       "    </tr>\n",
       "    <tr>\n",
       "      <th></th>\n",
       "      <th></th>\n",
       "      <th></th>\n",
       "      <th></th>\n",
       "      <th></th>\n",
       "      <th></th>\n",
       "      <th></th>\n",
       "      <th></th>\n",
       "      <th></th>\n",
       "      <th></th>\n",
       "      <th></th>\n",
       "      <th></th>\n",
       "      <th></th>\n",
       "      <th></th>\n",
       "      <th></th>\n",
       "      <th></th>\n",
       "      <th></th>\n",
       "      <th></th>\n",
       "      <th></th>\n",
       "    </tr>\n",
       "  </thead>\n",
       "  <tbody>\n",
       "    <tr>\n",
       "      <th>Z0</th>\n",
       "      <td>0.558994</td>\n",
       "      <td>0.572899</td>\n",
       "      <td>0.510275</td>\n",
       "      <td>0.593608</td>\n",
       "      <td>0.628332</td>\n",
       "      <td>0.642244</td>\n",
       "      <td>0.635323</td>\n",
       "      <td>0.635275</td>\n",
       "      <td>0.999661</td>\n",
       "      <td>0.513918</td>\n",
       "      <td>0.558994</td>\n",
       "      <td>0.513747</td>\n",
       "      <td>0.572915</td>\n",
       "      <td>0.537968</td>\n",
       "      <td>0.692400</td>\n",
       "      <td>0.711475</td>\n",
       "      <td>0.610793</td>\n",
       "      <td>0.579720</td>\n",
       "    </tr>\n",
       "    <tr>\n",
       "      <th>Z1</th>\n",
       "      <td>0.899306</td>\n",
       "      <td>0.753472</td>\n",
       "      <td>0.899306</td>\n",
       "      <td>0.739583</td>\n",
       "      <td>0.732639</td>\n",
       "      <td>0.732639</td>\n",
       "      <td>0.732639</td>\n",
       "      <td>0.732639</td>\n",
       "      <td>0.513918</td>\n",
       "      <td>1.000000</td>\n",
       "      <td>0.836806</td>\n",
       "      <td>0.916667</td>\n",
       "      <td>0.767361</td>\n",
       "      <td>0.823083</td>\n",
       "      <td>0.577801</td>\n",
       "      <td>0.552350</td>\n",
       "      <td>0.721491</td>\n",
       "      <td>0.815972</td>\n",
       "    </tr>\n",
       "    <tr>\n",
       "      <th>Z2</th>\n",
       "      <td>0.916667</td>\n",
       "      <td>0.868056</td>\n",
       "      <td>0.750000</td>\n",
       "      <td>0.750000</td>\n",
       "      <td>0.756945</td>\n",
       "      <td>0.750000</td>\n",
       "      <td>0.750000</td>\n",
       "      <td>0.777778</td>\n",
       "      <td>0.558994</td>\n",
       "      <td>0.836806</td>\n",
       "      <td>0.999999</td>\n",
       "      <td>0.788195</td>\n",
       "      <td>0.812500</td>\n",
       "      <td>0.840445</td>\n",
       "      <td>0.539569</td>\n",
       "      <td>0.528044</td>\n",
       "      <td>0.773285</td>\n",
       "      <td>0.833334</td>\n",
       "    </tr>\n",
       "    <tr>\n",
       "      <th>Z3</th>\n",
       "      <td>0.871528</td>\n",
       "      <td>0.815972</td>\n",
       "      <td>0.961806</td>\n",
       "      <td>0.815972</td>\n",
       "      <td>0.815972</td>\n",
       "      <td>0.815972</td>\n",
       "      <td>0.815972</td>\n",
       "      <td>0.815972</td>\n",
       "      <td>0.513747</td>\n",
       "      <td>0.916667</td>\n",
       "      <td>0.788195</td>\n",
       "      <td>1.000000</td>\n",
       "      <td>0.760417</td>\n",
       "      <td>0.816139</td>\n",
       "      <td>0.591689</td>\n",
       "      <td>0.600961</td>\n",
       "      <td>0.680992</td>\n",
       "      <td>0.899306</td>\n",
       "    </tr>\n",
       "    <tr>\n",
       "      <th>Z4</th>\n",
       "      <td>0.854167</td>\n",
       "      <td>0.798611</td>\n",
       "      <td>0.736111</td>\n",
       "      <td>0.812500</td>\n",
       "      <td>0.784722</td>\n",
       "      <td>0.777778</td>\n",
       "      <td>0.743056</td>\n",
       "      <td>0.743056</td>\n",
       "      <td>0.572915</td>\n",
       "      <td>0.767361</td>\n",
       "      <td>0.812500</td>\n",
       "      <td>0.760417</td>\n",
       "      <td>1.000000</td>\n",
       "      <td>0.756774</td>\n",
       "      <td>0.546546</td>\n",
       "      <td>0.576503</td>\n",
       "      <td>0.705758</td>\n",
       "      <td>0.819444</td>\n",
       "    </tr>\n",
       "    <tr>\n",
       "      <th>Z5</th>\n",
       "      <td>0.819611</td>\n",
       "      <td>0.840485</td>\n",
       "      <td>0.784889</td>\n",
       "      <td>0.721947</td>\n",
       "      <td>0.701621</td>\n",
       "      <td>0.722389</td>\n",
       "      <td>0.708501</td>\n",
       "      <td>0.694612</td>\n",
       "      <td>0.537968</td>\n",
       "      <td>0.823083</td>\n",
       "      <td>0.840445</td>\n",
       "      <td>0.816139</td>\n",
       "      <td>0.756774</td>\n",
       "      <td>0.999470</td>\n",
       "      <td>0.553283</td>\n",
       "      <td>0.534827</td>\n",
       "      <td>0.767692</td>\n",
       "      <td>0.777945</td>\n",
       "    </tr>\n",
       "    <tr>\n",
       "      <th>Z6</th>\n",
       "      <td>0.567383</td>\n",
       "      <td>0.539606</td>\n",
       "      <td>0.595161</td>\n",
       "      <td>0.549131</td>\n",
       "      <td>0.636558</td>\n",
       "      <td>0.608150</td>\n",
       "      <td>0.650378</td>\n",
       "      <td>0.650834</td>\n",
       "      <td>0.692400</td>\n",
       "      <td>0.577801</td>\n",
       "      <td>0.539569</td>\n",
       "      <td>0.591689</td>\n",
       "      <td>0.546546</td>\n",
       "      <td>0.553283</td>\n",
       "      <td>0.989824</td>\n",
       "      <td>0.748721</td>\n",
       "      <td>0.577646</td>\n",
       "      <td>0.588217</td>\n",
       "    </tr>\n",
       "    <tr>\n",
       "      <th>Z7</th>\n",
       "      <td>0.562767</td>\n",
       "      <td>0.562810</td>\n",
       "      <td>0.625267</td>\n",
       "      <td>0.590507</td>\n",
       "      <td>0.673709</td>\n",
       "      <td>0.653020</td>\n",
       "      <td>0.701360</td>\n",
       "      <td>0.666886</td>\n",
       "      <td>0.711475</td>\n",
       "      <td>0.552350</td>\n",
       "      <td>0.528044</td>\n",
       "      <td>0.600961</td>\n",
       "      <td>0.576503</td>\n",
       "      <td>0.534827</td>\n",
       "      <td>0.748721</td>\n",
       "      <td>0.999362</td>\n",
       "      <td>0.587466</td>\n",
       "      <td>0.625267</td>\n",
       "    </tr>\n",
       "    <tr>\n",
       "      <th>Z8</th>\n",
       "      <td>0.753895</td>\n",
       "      <td>0.752622</td>\n",
       "      <td>0.656847</td>\n",
       "      <td>0.671047</td>\n",
       "      <td>0.705458</td>\n",
       "      <td>0.712398</td>\n",
       "      <td>0.649885</td>\n",
       "      <td>0.615335</td>\n",
       "      <td>0.610793</td>\n",
       "      <td>0.721491</td>\n",
       "      <td>0.773285</td>\n",
       "      <td>0.680992</td>\n",
       "      <td>0.705758</td>\n",
       "      <td>0.767692</td>\n",
       "      <td>0.577646</td>\n",
       "      <td>0.587466</td>\n",
       "      <td>0.998077</td>\n",
       "      <td>0.698512</td>\n",
       "    </tr>\n",
       "    <tr>\n",
       "      <th>Z9</th>\n",
       "      <td>0.916667</td>\n",
       "      <td>0.916667</td>\n",
       "      <td>0.916667</td>\n",
       "      <td>0.916667</td>\n",
       "      <td>0.916667</td>\n",
       "      <td>0.916667</td>\n",
       "      <td>0.916667</td>\n",
       "      <td>0.916667</td>\n",
       "      <td>0.579720</td>\n",
       "      <td>0.815972</td>\n",
       "      <td>0.833334</td>\n",
       "      <td>0.899306</td>\n",
       "      <td>0.819444</td>\n",
       "      <td>0.777945</td>\n",
       "      <td>0.588217</td>\n",
       "      <td>0.625267</td>\n",
       "      <td>0.698512</td>\n",
       "      <td>1.000000</td>\n",
       "    </tr>\n",
       "  </tbody>\n",
       "</table>\n",
       "</div>"
      ],
      "text/plain": [
       "     Animals    Bodies     Faces     Fruit   Manmade   Natural   Pattern  \\\n",
       "                                                                           \n",
       "Z0  0.558994  0.572899  0.510275  0.593608  0.628332  0.642244  0.635323   \n",
       "Z1  0.899306  0.753472  0.899306  0.739583  0.732639  0.732639  0.732639   \n",
       "Z2  0.916667  0.868056  0.750000  0.750000  0.756945  0.750000  0.750000   \n",
       "Z3  0.871528  0.815972  0.961806  0.815972  0.815972  0.815972  0.815972   \n",
       "Z4  0.854167  0.798611  0.736111  0.812500  0.784722  0.777778  0.743056   \n",
       "Z5  0.819611  0.840485  0.784889  0.721947  0.701621  0.722389  0.708501   \n",
       "Z6  0.567383  0.539606  0.595161  0.549131  0.636558  0.608150  0.650378   \n",
       "Z7  0.562767  0.562810  0.625267  0.590507  0.673709  0.653020  0.701360   \n",
       "Z8  0.753895  0.752622  0.656847  0.671047  0.705458  0.712398  0.649885   \n",
       "Z9  0.916667  0.916667  0.916667  0.916667  0.916667  0.916667  0.916667   \n",
       "\n",
       "       Scene        Z0        Z1        Z2        Z3        Z4        Z5  \\\n",
       "                                                                           \n",
       "Z0  0.635275  0.999661  0.513918  0.558994  0.513747  0.572915  0.537968   \n",
       "Z1  0.732639  0.513918  1.000000  0.836806  0.916667  0.767361  0.823083   \n",
       "Z2  0.777778  0.558994  0.836806  0.999999  0.788195  0.812500  0.840445   \n",
       "Z3  0.815972  0.513747  0.916667  0.788195  1.000000  0.760417  0.816139   \n",
       "Z4  0.743056  0.572915  0.767361  0.812500  0.760417  1.000000  0.756774   \n",
       "Z5  0.694612  0.537968  0.823083  0.840445  0.816139  0.756774  0.999470   \n",
       "Z6  0.650834  0.692400  0.577801  0.539569  0.591689  0.546546  0.553283   \n",
       "Z7  0.666886  0.711475  0.552350  0.528044  0.600961  0.576503  0.534827   \n",
       "Z8  0.615335  0.610793  0.721491  0.773285  0.680992  0.705758  0.767692   \n",
       "Z9  0.916667  0.579720  0.815972  0.833334  0.899306  0.819444  0.777945   \n",
       "\n",
       "          Z6        Z7        Z8        Z9  \n",
       "                                            \n",
       "Z0  0.692400  0.711475  0.610793  0.579720  \n",
       "Z1  0.577801  0.552350  0.721491  0.815972  \n",
       "Z2  0.539569  0.528044  0.773285  0.833334  \n",
       "Z3  0.591689  0.600961  0.680992  0.899306  \n",
       "Z4  0.546546  0.576503  0.705758  0.819444  \n",
       "Z5  0.553283  0.534827  0.767692  0.777945  \n",
       "Z6  0.989824  0.748721  0.577646  0.588217  \n",
       "Z7  0.748721  0.999362  0.587466  0.625267  \n",
       "Z8  0.577646  0.587466  0.998077  0.698512  \n",
       "Z9  0.588217  0.625267  0.698512  1.000000  "
      ]
     },
     "execution_count": 50,
     "metadata": {},
     "output_type": "execute_result"
    }
   ],
   "source": [
    "overlap.iloc[-K:, :]"
   ]
  },
  {
   "cell_type": "markdown",
   "metadata": {},
   "source": [
    "## Mutual Information"
   ]
  },
  {
   "cell_type": "code",
   "execution_count": 51,
   "metadata": {
    "collapsed": false
   },
   "outputs": [],
   "source": [
    "mi_mat = mutual_information_matrix(edf.iloc[:, :-K].values, edf.iloc[:, -K:].values)"
   ]
  },
  {
   "cell_type": "code",
   "execution_count": 52,
   "metadata": {
    "collapsed": false
   },
   "outputs": [
    {
     "data": {
      "image/png": "[encoded data removed]",
      "text/plain": [
       "<matplotlib.figure.Figure at 0x112195290>"
      ]
     },
     "metadata": {},
     "output_type": "display_data"
    }
   ],
   "source": [
    "row_labels = edf.columns[:-K]\n",
    "matshow(mi_mat.T, vmin=0, vmax=0.55)\n",
    "plt.ylabel('inferred factor')\n",
    "plt.xlabel('labeled factor')\n",
    "plt.colorbar();\n",
    "\n",
    "# add column names\n",
    "ax = plt.gca()\n",
    "ax.xaxis.set_label_position('top')\n",
    "plt.tick_params(axis='x', which='both', top='off', bottom='off', \n",
    "                labelbottom='on', labeltop='off', pad=5)\n",
    "plt.xticks(xrange(len(row_labels)), row_labels, rotation='vertical', horizontalalignment='center');"
   ]
  },
  {
   "cell_type": "code",
   "execution_count": 39,
   "metadata": {
    "collapsed": false
   },
   "outputs": [
    {
     "data": {
      "text/html": [
       "<div>\n",
       "<table border=\"1\" class=\"dataframe\">\n",
       "  <thead>\n",
       "    <tr style=\"text-align: right;\">\n",
       "      <th></th>\n",
       "      <th>Animals</th>\n",
       "      <th>Baseline</th>\n",
       "      <th>Bodies</th>\n",
       "      <th>Faces</th>\n",
       "      <th>Fruit</th>\n",
       "      <th>Manmade</th>\n",
       "      <th>Natural</th>\n",
       "      <th>Pattern</th>\n",
       "      <th>Scene</th>\n",
       "    </tr>\n",
       "  </thead>\n",
       "  <tbody>\n",
       "    <tr>\n",
       "      <th>0</th>\n",
       "      <td>0.000850</td>\n",
       "      <td>0.250355</td>\n",
       "      <td>6.313859e-04</td>\n",
       "      <td>5.776618e-02</td>\n",
       "      <td>1.105541e-02</td>\n",
       "      <td>0.059241</td>\n",
       "      <td>9.227906e-02</td>\n",
       "      <td>7.458543e-02</td>\n",
       "      <td>7.447250e-02</td>\n",
       "    </tr>\n",
       "    <tr>\n",
       "      <th>1</th>\n",
       "      <td>0.432620</td>\n",
       "      <td>0.124717</td>\n",
       "      <td>3.110570e-03</td>\n",
       "      <td>4.326196e-01</td>\n",
       "      <td>2.212468e-02</td>\n",
       "      <td>0.048054</td>\n",
       "      <td>4.805380e-02</td>\n",
       "      <td>4.805380e-02</td>\n",
       "      <td>4.805380e-02</td>\n",
       "    </tr>\n",
       "    <tr>\n",
       "      <th>2</th>\n",
       "      <td>0.476533</td>\n",
       "      <td>0.092881</td>\n",
       "      <td>1.909443e-01</td>\n",
       "      <td>4.432176e-02</td>\n",
       "      <td>4.432176e-02</td>\n",
       "      <td>0.018823</td>\n",
       "      <td>4.432176e-02</td>\n",
       "      <td>4.432176e-02</td>\n",
       "      <td>8.097317e-12</td>\n",
       "    </tr>\n",
       "    <tr>\n",
       "      <th>3</th>\n",
       "      <td>0.062219</td>\n",
       "      <td>0.095621</td>\n",
       "      <td>3.024604e-02</td>\n",
       "      <td>5.578057e-01</td>\n",
       "      <td>3.024604e-02</td>\n",
       "      <td>0.030246</td>\n",
       "      <td>3.024604e-02</td>\n",
       "      <td>3.024604e-02</td>\n",
       "      <td>3.024604e-02</td>\n",
       "    </tr>\n",
       "    <tr>\n",
       "      <th>4</th>\n",
       "      <td>0.171944</td>\n",
       "      <td>0.151105</td>\n",
       "      <td>2.642673e-02</td>\n",
       "      <td>4.730417e-02</td>\n",
       "      <td>5.148070e-02</td>\n",
       "      <td>0.009173</td>\n",
       "      <td>3.721473e-03</td>\n",
       "      <td>2.145832e-02</td>\n",
       "      <td>2.145831e-02</td>\n",
       "    </tr>\n",
       "    <tr>\n",
       "      <th>5</th>\n",
       "      <td>0.151113</td>\n",
       "      <td>0.152295</td>\n",
       "      <td>2.336730e-01</td>\n",
       "      <td>5.737408e-02</td>\n",
       "      <td>2.425757e-03</td>\n",
       "      <td>0.029462</td>\n",
       "      <td>2.201665e-03</td>\n",
       "      <td>1.576610e-02</td>\n",
       "      <td>5.640997e-02</td>\n",
       "    </tr>\n",
       "    <tr>\n",
       "      <th>6</th>\n",
       "      <td>0.000581</td>\n",
       "      <td>0.174666</td>\n",
       "      <td>1.908164e-02</td>\n",
       "      <td>7.055122e-03</td>\n",
       "      <td>9.568741e-03</td>\n",
       "      <td>0.061550</td>\n",
       "      <td>1.805202e-02</td>\n",
       "      <td>9.482639e-02</td>\n",
       "      <td>9.610641e-02</td>\n",
       "    </tr>\n",
       "    <tr>\n",
       "      <th>7</th>\n",
       "      <td>0.032296</td>\n",
       "      <td>0.174418</td>\n",
       "      <td>3.222031e-02</td>\n",
       "      <td>6.785852e-03</td>\n",
       "      <td>3.192844e-03</td>\n",
       "      <td>0.075635</td>\n",
       "      <td>3.651885e-02</td>\n",
       "      <td>1.621760e-01</td>\n",
       "      <td>6.091533e-02</td>\n",
       "    </tr>\n",
       "    <tr>\n",
       "      <th>8</th>\n",
       "      <td>0.133003</td>\n",
       "      <td>0.215513</td>\n",
       "      <td>1.289699e-01</td>\n",
       "      <td>1.410301e-03</td>\n",
       "      <td>5.751960e-04</td>\n",
       "      <td>0.027225</td>\n",
       "      <td>3.722087e-02</td>\n",
       "      <td>4.777662e-03</td>\n",
       "      <td>7.384504e-02</td>\n",
       "    </tr>\n",
       "    <tr>\n",
       "      <th>9</th>\n",
       "      <td>0.000002</td>\n",
       "      <td>0.000003</td>\n",
       "      <td>1.581607e-07</td>\n",
       "      <td>9.127404e-07</td>\n",
       "      <td>8.979944e-07</td>\n",
       "      <td>0.000010</td>\n",
       "      <td>9.041616e-07</td>\n",
       "      <td>9.127404e-07</td>\n",
       "      <td>9.127386e-07</td>\n",
       "    </tr>\n",
       "  </tbody>\n",
       "</table>\n",
       "</div>"
      ],
      "text/plain": [
       "    Animals  Baseline        Bodies         Faces         Fruit   Manmade  \\\n",
       "0  0.000850  0.250355  6.313859e-04  5.776618e-02  1.105541e-02  0.059241   \n",
       "1  0.432620  0.124717  3.110570e-03  4.326196e-01  2.212468e-02  0.048054   \n",
       "2  0.476533  0.092881  1.909443e-01  4.432176e-02  4.432176e-02  0.018823   \n",
       "3  0.062219  0.095621  3.024604e-02  5.578057e-01  3.024604e-02  0.030246   \n",
       "4  0.171944  0.151105  2.642673e-02  4.730417e-02  5.148070e-02  0.009173   \n",
       "5  0.151113  0.152295  2.336730e-01  5.737408e-02  2.425757e-03  0.029462   \n",
       "6  0.000581  0.174666  1.908164e-02  7.055122e-03  9.568741e-03  0.061550   \n",
       "7  0.032296  0.174418  3.222031e-02  6.785852e-03  3.192844e-03  0.075635   \n",
       "8  0.133003  0.215513  1.289699e-01  1.410301e-03  5.751960e-04  0.027225   \n",
       "9  0.000002  0.000003  1.581607e-07  9.127404e-07  8.979944e-07  0.000010   \n",
       "\n",
       "        Natural       Pattern         Scene  \n",
       "0  9.227906e-02  7.458543e-02  7.447250e-02  \n",
       "1  4.805380e-02  4.805380e-02  4.805380e-02  \n",
       "2  4.432176e-02  4.432176e-02  8.097317e-12  \n",
       "3  3.024604e-02  3.024604e-02  3.024604e-02  \n",
       "4  3.721473e-03  2.145832e-02  2.145831e-02  \n",
       "5  2.201665e-03  1.576610e-02  5.640997e-02  \n",
       "6  1.805202e-02  9.482639e-02  9.610641e-02  \n",
       "7  3.651885e-02  1.621760e-01  6.091533e-02  \n",
       "8  3.722087e-02  4.777662e-03  7.384504e-02  \n",
       "9  9.041616e-07  9.127404e-07  9.127386e-07  "
      ]
     },
     "execution_count": 39,
     "metadata": {},
     "output_type": "execute_result"
    }
   ],
   "source": [
    "pd.DataFrame(mi_mat.T, columns=row_labels)"
   ]
  },
  {
   "cell_type": "code",
   "execution_count": null,
   "metadata": {
    "collapsed": true
   },
   "outputs": [],
   "source": []
  }
 ],
 "metadata": {
  "kernelspec": {
   "display_name": "Python 2",
   "language": "python",
   "name": "python2"
  },
  "language_info": {
   "codemirror_mode": {
    "name": "ipython",
    "version": 2
   },
   "file_extension": ".py",
   "mimetype": "text/x-python",
   "name": "python",
   "nbconvert_exporter": "python",
   "pygments_lexer": "ipython2",
   "version": "2.7.11"
  }
 },
 "nbformat": 4,
 "nbformat_minor": 0
}
