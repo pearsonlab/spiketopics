{
 "cells": [
  {
   "cell_type": "code",
   "execution_count": 1,
   "metadata": {
    "collapsed": false
   },
   "outputs": [],
   "source": [
    "from __future__ import division\n",
    "import numpy as np\n",
    "import pandas as pd\n",
    "import matplotlib.pyplot as plt\n",
    "import seaborn as sns\n",
    "import matplotlib.cm as cm\n",
    "import cPickle as pickle\n",
    "from spiketopics.helpers import *\n",
    "\n",
    "%matplotlib inline\n",
    "sns.set_style('darkgrid')"
   ]
  },
  {
   "cell_type": "markdown",
   "metadata": {},
   "source": [
    "# Load in data"
   ]
  },
  {
   "cell_type": "code",
   "execution_count": 2,
   "metadata": {
    "collapsed": false
   },
   "outputs": [],
   "source": [
    "infile = 'data/fitted_model_object.pkl'\n",
    "gpm = pickle.load(open(infile, 'rb'))\n",
    "dt = 0.020"
   ]
  },
  {
   "cell_type": "code",
   "execution_count": 3,
   "metadata": {
    "collapsed": false
   },
   "outputs": [
    {
     "data": {
      "text/html": [
       "<div style=\"max-height:1000px;max-width:1500px;overflow:auto;\">\n",
       "<table border=\"1\" class=\"dataframe\">\n",
       "  <thead>\n",
       "    <tr style=\"text-align: right;\">\n",
       "      <th></th>\n",
       "      <th>unit</th>\n",
       "      <th>time</th>\n",
       "      <th>count</th>\n",
       "      <th>lam0</th>\n",
       "      <th>lam1</th>\n",
       "    </tr>\n",
       "  </thead>\n",
       "  <tbody>\n",
       "    <tr>\n",
       "      <th>0</th>\n",
       "      <td> 0</td>\n",
       "      <td> 896</td>\n",
       "      <td> 0</td>\n",
       "      <td>-0.006174</td>\n",
       "      <td>-0.00624</td>\n",
       "    </tr>\n",
       "    <tr>\n",
       "      <th>1</th>\n",
       "      <td> 0</td>\n",
       "      <td> 896</td>\n",
       "      <td> 0</td>\n",
       "      <td>-0.006174</td>\n",
       "      <td>-0.00624</td>\n",
       "    </tr>\n",
       "    <tr>\n",
       "      <th>2</th>\n",
       "      <td> 0</td>\n",
       "      <td> 896</td>\n",
       "      <td> 0</td>\n",
       "      <td>-0.006174</td>\n",
       "      <td>-0.00624</td>\n",
       "    </tr>\n",
       "    <tr>\n",
       "      <th>3</th>\n",
       "      <td> 0</td>\n",
       "      <td> 896</td>\n",
       "      <td> 0</td>\n",
       "      <td>-0.006174</td>\n",
       "      <td>-0.00624</td>\n",
       "    </tr>\n",
       "    <tr>\n",
       "      <th>4</th>\n",
       "      <td> 0</td>\n",
       "      <td> 896</td>\n",
       "      <td> 0</td>\n",
       "      <td>-0.006174</td>\n",
       "      <td>-0.00624</td>\n",
       "    </tr>\n",
       "  </tbody>\n",
       "</table>\n",
       "</div>"
      ],
      "text/plain": [
       "   unit  time  count      lam0     lam1\n",
       "0     0   896      0 -0.006174 -0.00624\n",
       "1     0   896      0 -0.006174 -0.00624\n",
       "2     0   896      0 -0.006174 -0.00624\n",
       "3     0   896      0 -0.006174 -0.00624\n",
       "4     0   896      0 -0.006174 -0.00624"
      ]
     },
     "execution_count": 3,
     "metadata": {},
     "output_type": "execute_result"
    }
   ],
   "source": [
    "gpm.Nframe.head()"
   ]
  },
  {
   "cell_type": "code",
   "execution_count": 4,
   "metadata": {
    "collapsed": false
   },
   "outputs": [],
   "source": [
    "if gpm.regressors:\n",
    "    gpm.Xframe.head()"
   ]
  },
  {
   "cell_type": "markdown",
   "metadata": {},
   "source": [
    "# Plot inferred categories as matrix"
   ]
  },
  {
   "cell_type": "code",
   "execution_count": 5,
   "metadata": {
    "collapsed": false
   },
   "outputs": [
    {
     "name": "stdout",
     "output_type": "stream",
     "text": [
      "(1344, 10)\n"
     ]
    }
   ],
   "source": [
    "xi = gpm.nodes['HMM'].nodes['z'].z[1].copy()\n",
    "T, K = xi.shape\n",
    "print xi.shape"
   ]
  },
  {
   "cell_type": "code",
   "execution_count": 6,
   "metadata": {
    "collapsed": false
   },
   "outputs": [],
   "source": [
    "# flip regressors so they are mostly 0\n",
    "for col in xrange(xi.shape[1]):\n",
    "    if np.mean(xi[:, col]) > 0.5:\n",
    "        xi[:, col] = 1 - xi[:, col]"
   ]
  },
  {
   "cell_type": "code",
   "execution_count": 7,
   "metadata": {
    "collapsed": false
   },
   "outputs": [
    {
     "data": {
      "image/png": "[encoded data removed]",
      "text/plain": [
       "<matplotlib.figure.Figure at 0x10ec8e410>"
      ]
     },
     "metadata": {},
     "output_type": "display_data"
    }
   ],
   "source": [
    "matshow(xi[:500].T, vmin=0, vmax=1);\n",
    "plt.colorbar();"
   ]
  },
  {
   "cell_type": "markdown",
   "metadata": {},
   "source": [
    "## Make $\\xi$ dataframe:"
   ]
  },
  {
   "cell_type": "code",
   "execution_count": 8,
   "metadata": {
    "collapsed": false
   },
   "outputs": [],
   "source": [
    "xif = pd.DataFrame(xi)\n",
    "xif.columns = ['Z' + str(k) for k in range(K)]\n",
    "xif.index.name = 'time'\n",
    "xif = xif.reset_index()"
   ]
  },
  {
   "cell_type": "markdown",
   "metadata": {},
   "source": [
    "# Posteriors for effects"
   ]
  },
  {
   "cell_type": "markdown",
   "metadata": {},
   "source": [
    "## Baselines"
   ]
  },
  {
   "cell_type": "code",
   "execution_count": 9,
   "metadata": {
    "collapsed": false
   },
   "outputs": [
    {
     "data": {
      "image/png": "[encoded data removed]",
      "text/plain": [
       "<matplotlib.figure.Figure at 0x10f847790>"
      ]
     },
     "metadata": {},
     "output_type": "display_data"
    }
   ],
   "source": [
    "plt.figure(figsize=(14, 4))\n",
    "\n",
    "th = gpm.nodes['baseline_mean']\n",
    "cc = gpm.nodes['baseline_shape']\n",
    "th_pars = [th.post_shape, th.post_rate]\n",
    "cc_pars = [cc.post_shape, cc.post_rate]\n",
    "samples = gamma_from_hypers(th_pars, cc_pars, 1e5)\n",
    "\n",
    "plt.subplot(1, 3, 1)\n",
    "xx = np.linspace(0, 5000, 500)\n",
    "plt.plot(xx, stats.invgamma.pdf(xx, a=th_pars[0], scale=th_pars[1]/dt))\n",
    "plt.title('Baseline mean parameter posterior');\n",
    "\n",
    "plt.subplot(1, 3, 2)\n",
    "xx = np.linspace(0, 20, 500)\n",
    "plt.plot(xx, stats.invgamma.pdf(xx, a=cc_pars[0], scale=cc_pars[1]))\n",
    "plt.title('Baseline variance parameter posterior');\n",
    "\n",
    "plt.subplot(1, 3, 3)\n",
    "sns.kdeplot(samples / dt, gridsize=1e4, clip=(0, 100))\n",
    "plt.title('baseline posterior distribution')\n",
    "plt.xlabel('Firing rate (Hz)')\n",
    "plt.xlim(0, 100);"
   ]
  },
  {
   "cell_type": "markdown",
   "metadata": {},
   "source": [
    "## Regressors"
   ]
  },
  {
   "cell_type": "code",
   "execution_count": 10,
   "metadata": {
    "collapsed": false
   },
   "outputs": [],
   "source": [
    "if gpm.regressors:\n",
    "    plt.figure(figsize=(8, 6));\n",
    "    inferred_means = gpm.nodes['fr_regressors'].expected_x()\n",
    "    R = inferred_means.shape[1]\n",
    "    for r in xrange(R):\n",
    "        plt.hist(inferred_means[:, r], bins=50, normed=True, alpha=0.25, label='X' + str(r))\n",
    "    plt.title('Regression effects');\n",
    "    plt.legend()\n",
    "    plt.ylim(0, 5);\n",
    "    plt.xlim(0, 5);"
   ]
  },
  {
   "cell_type": "markdown",
   "metadata": {},
   "source": [
    "## Latent Categories"
   ]
  },
  {
   "cell_type": "code",
   "execution_count": 11,
   "metadata": {
    "collapsed": false
   },
   "outputs": [
    {
     "data": {
      "image/png": "[encoded data removed]",
      "text/plain": [
       "<matplotlib.figure.Figure at 0x10f88e610>"
      ]
     },
     "metadata": {},
     "output_type": "display_data"
    }
   ],
   "source": [
    "plt.figure(figsize=(16, 4))\n",
    "\n",
    "th = gpm.nodes['fr_latents_mean']\n",
    "cc = gpm.nodes['fr_latents_shape']\n",
    "\n",
    "th_pars = np.c_[th.post_shape, th.post_rate].T\n",
    "cc_pars = np.c_[cc.post_shape, cc.post_rate].T\n",
    "\n",
    "plt.subplot(1, 3, 1)\n",
    "xx = np.linspace(0, 2, 500)\n",
    "for kk in xrange(K):\n",
    "    plt.plot(xx, stats.invgamma.pdf(xx, a=th_pars[0, kk], scale=th_pars[1, kk]), label='Z' + str(kk))\n",
    "plt.legend()\n",
    "plt.title('effect mean posterior');\n",
    "\n",
    "plt.subplot(1, 3, 2)\n",
    "xx = np.linspace(0, 5, 500)\n",
    "for kk in xrange(K):\n",
    "    plt.plot(xx, stats.invgamma.pdf(xx, a=cc_pars[0, kk], scale=cc_pars[1, kk]), label='Z' + str(kk))\n",
    "plt.legend()\n",
    "plt.title('effect variance parameter posterior');\n",
    "\n",
    "plt.subplot(1, 3, 3)\n",
    "for kk in xrange(K):\n",
    "    samples = gamma_from_hypers(th_pars[:, kk], cc_pars[:, kk], 1e5)\n",
    "    sns.kdeplot(samples, gridsize=1e4, clip=(0, 10), label='Z' + str(kk))\n",
    "plt.legend()\n",
    "plt.title(r'$\\lambda$ effect posterior distribution')\n",
    "plt.xlim(0, 2);\n",
    "plt.ylim(0, 5);"
   ]
  },
  {
   "cell_type": "code",
   "execution_count": 12,
   "metadata": {
    "collapsed": false
   },
   "outputs": [
    {
     "data": {
      "image/png": "[encoded data removed]",
      "text/plain": [
       "<matplotlib.figure.Figure at 0x114316210>"
      ]
     },
     "metadata": {},
     "output_type": "display_data"
    }
   ],
   "source": [
    "plt.figure(figsize=(8, 6))\n",
    "\n",
    "inferred_effects = gpm.nodes['fr_latents'].expected_x()\n",
    "for kk in xrange(K):\n",
    "    plt.hist(inferred_effects[..., kk], bins=50, normed=True, alpha=0.25, label='Z' + str(kk));\n",
    "plt.legend();\n",
    "plt.title('Firing rate effects');\n",
    "plt.ylim(0, 5);"
   ]
  },
  {
   "cell_type": "markdown",
   "metadata": {},
   "source": [
    "## Overdispersion"
   ]
  },
  {
   "cell_type": "code",
   "execution_count": 13,
   "metadata": {
    "collapsed": false
   },
   "outputs": [
    {
     "data": {
      "image/png": "[encoded data removed]",
      "text/plain": [
       "<matplotlib.figure.Figure at 0x10de4e850>"
      ]
     },
     "metadata": {},
     "output_type": "display_data"
    }
   ],
   "source": [
    "if gpm.overdispersion:\n",
    "    plt.figure(figsize=(8, 6))\n",
    "\n",
    "    inferred_means = gpm.nodes['overdispersion'].expected_x().ravel()\n",
    "    plt.hist(inferred_means, bins=500, normed=True, alpha=0.25);\n",
    "    plt.title('Overdispersion effects');\n",
    "    plt.ylim(0, 2);"
   ]
  },
  {
   "cell_type": "markdown",
   "metadata": {},
   "source": [
    "# Load and prepare coded features:"
   ]
  },
  {
   "cell_type": "markdown",
   "metadata": {},
   "source": [
    "Our goal here is to load the ethogram, join it to the inferred ethogram, and perform some comparisons to see if any of our discovered categories match hand-labeled categories from the ethogram."
   ]
  },
  {
   "cell_type": "code",
   "execution_count": 14,
   "metadata": {
    "collapsed": false
   },
   "outputs": [],
   "source": [
    "codefile = 'data/roitman_fd_data.csv'\n",
    "code = pd.read_csv(codefile).groupby('utime').max().reset_index()"
   ]
  },
  {
   "cell_type": "code",
   "execution_count": 15,
   "metadata": {
    "collapsed": false
   },
   "outputs": [
    {
     "data": {
      "text/html": [
       "<div style=\"max-height:1000px;max-width:1500px;overflow:auto;\">\n",
       "<table border=\"1\" class=\"dataframe\">\n",
       "  <thead>\n",
       "    <tr style=\"text-align: right;\">\n",
       "      <th></th>\n",
       "      <th>utime</th>\n",
       "      <th>count</th>\n",
       "      <th>trial</th>\n",
       "      <th>coherence</th>\n",
       "      <th>fixation_on</th>\n",
       "      <th>fixation</th>\n",
       "      <th>target_on</th>\n",
       "      <th>stim_on</th>\n",
       "      <th>stim_off</th>\n",
       "      <th>fixation_off</th>\n",
       "      <th>...</th>\n",
       "      <th>Xpre</th>\n",
       "      <th>Xpost</th>\n",
       "      <th>Xcoh64</th>\n",
       "      <th>Xcoh0</th>\n",
       "      <th>Xcoh512</th>\n",
       "      <th>Xcoh128</th>\n",
       "      <th>Xcoh32</th>\n",
       "      <th>Xcoh256</th>\n",
       "      <th>Xinto</th>\n",
       "      <th>Xout</th>\n",
       "    </tr>\n",
       "  </thead>\n",
       "  <tbody>\n",
       "    <tr>\n",
       "      <th>0</th>\n",
       "      <td> 0</td>\n",
       "      <td> 1</td>\n",
       "      <td> 69</td>\n",
       "      <td> 0</td>\n",
       "      <td> 0</td>\n",
       "      <td> 320</td>\n",
       "      <td> 877</td>\n",
       "      <td> 1147</td>\n",
       "      <td> 2181</td>\n",
       "      <td> 3654</td>\n",
       "      <td>...</td>\n",
       "      <td> False</td>\n",
       "      <td> False</td>\n",
       "      <td> False</td>\n",
       "      <td> False</td>\n",
       "      <td> False</td>\n",
       "      <td> False</td>\n",
       "      <td> False</td>\n",
       "      <td> False</td>\n",
       "      <td> False</td>\n",
       "      <td> False</td>\n",
       "    </tr>\n",
       "    <tr>\n",
       "      <th>1</th>\n",
       "      <td> 1</td>\n",
       "      <td> 3</td>\n",
       "      <td> 69</td>\n",
       "      <td> 0</td>\n",
       "      <td> 0</td>\n",
       "      <td> 320</td>\n",
       "      <td> 877</td>\n",
       "      <td> 1147</td>\n",
       "      <td> 2181</td>\n",
       "      <td> 3654</td>\n",
       "      <td>...</td>\n",
       "      <td>  True</td>\n",
       "      <td> False</td>\n",
       "      <td> False</td>\n",
       "      <td> False</td>\n",
       "      <td> False</td>\n",
       "      <td> False</td>\n",
       "      <td> False</td>\n",
       "      <td> False</td>\n",
       "      <td> False</td>\n",
       "      <td> False</td>\n",
       "    </tr>\n",
       "    <tr>\n",
       "      <th>2</th>\n",
       "      <td> 2</td>\n",
       "      <td> 2</td>\n",
       "      <td> 69</td>\n",
       "      <td> 0</td>\n",
       "      <td> 0</td>\n",
       "      <td> 320</td>\n",
       "      <td> 877</td>\n",
       "      <td> 1147</td>\n",
       "      <td> 2181</td>\n",
       "      <td> 3654</td>\n",
       "      <td>...</td>\n",
       "      <td>  True</td>\n",
       "      <td> False</td>\n",
       "      <td> False</td>\n",
       "      <td> False</td>\n",
       "      <td> False</td>\n",
       "      <td> False</td>\n",
       "      <td> False</td>\n",
       "      <td> False</td>\n",
       "      <td> False</td>\n",
       "      <td> False</td>\n",
       "    </tr>\n",
       "    <tr>\n",
       "      <th>3</th>\n",
       "      <td> 3</td>\n",
       "      <td> 2</td>\n",
       "      <td> 69</td>\n",
       "      <td> 0</td>\n",
       "      <td> 0</td>\n",
       "      <td> 320</td>\n",
       "      <td> 877</td>\n",
       "      <td> 1147</td>\n",
       "      <td> 2181</td>\n",
       "      <td> 3654</td>\n",
       "      <td>...</td>\n",
       "      <td>  True</td>\n",
       "      <td> False</td>\n",
       "      <td> False</td>\n",
       "      <td> False</td>\n",
       "      <td> False</td>\n",
       "      <td> False</td>\n",
       "      <td> False</td>\n",
       "      <td> False</td>\n",
       "      <td> False</td>\n",
       "      <td> False</td>\n",
       "    </tr>\n",
       "    <tr>\n",
       "      <th>4</th>\n",
       "      <td> 4</td>\n",
       "      <td> 3</td>\n",
       "      <td> 69</td>\n",
       "      <td> 0</td>\n",
       "      <td> 0</td>\n",
       "      <td> 320</td>\n",
       "      <td> 877</td>\n",
       "      <td> 1147</td>\n",
       "      <td> 2181</td>\n",
       "      <td> 3654</td>\n",
       "      <td>...</td>\n",
       "      <td>  True</td>\n",
       "      <td> False</td>\n",
       "      <td> False</td>\n",
       "      <td> False</td>\n",
       "      <td> False</td>\n",
       "      <td> False</td>\n",
       "      <td> False</td>\n",
       "      <td> False</td>\n",
       "      <td> False</td>\n",
       "      <td> False</td>\n",
       "    </tr>\n",
       "  </tbody>\n",
       "</table>\n",
       "<p>5 rows × 26 columns</p>\n",
       "</div>"
      ],
      "text/plain": [
       "   utime  count  trial  coherence  fixation_on  fixation  target_on  stim_on  \\\n",
       "0      0      1     69          0            0       320        877     1147   \n",
       "1      1      3     69          0            0       320        877     1147   \n",
       "2      2      2     69          0            0       320        877     1147   \n",
       "3      3      2     69          0            0       320        877     1147   \n",
       "4      4      3     69          0            0       320        877     1147   \n",
       "\n",
       "   stim_off  fixation_off  ...     Xpre  Xpost  Xcoh64  Xcoh0  Xcoh512  \\\n",
       "0      2181          3654  ...    False  False   False  False    False   \n",
       "1      2181          3654  ...     True  False   False  False    False   \n",
       "2      2181          3654  ...     True  False   False  False    False   \n",
       "3      2181          3654  ...     True  False   False  False    False   \n",
       "4      2181          3654  ...     True  False   False  False    False   \n",
       "\n",
       "  Xcoh128 Xcoh32 Xcoh256  Xinto   Xout  \n",
       "0   False  False   False  False  False  \n",
       "1   False  False   False  False  False  \n",
       "2   False  False   False  False  False  \n",
       "3   False  False   False  False  False  \n",
       "4   False  False   False  False  False  \n",
       "\n",
       "[5 rows x 26 columns]"
      ]
     },
     "execution_count": 15,
     "metadata": {},
     "output_type": "execute_result"
    }
   ],
   "source": [
    "code.head()"
   ]
  },
  {
   "cell_type": "code",
   "execution_count": 16,
   "metadata": {
    "collapsed": true
   },
   "outputs": [],
   "source": [
    "# convert bools to floats\n",
    "for col in code:\n",
    "    code[col] = code[col].astype('float')"
   ]
  },
  {
   "cell_type": "code",
   "execution_count": 17,
   "metadata": {
    "collapsed": false
   },
   "outputs": [
    {
     "data": {
      "text/plain": [
       "Index([u'utime', u'count', u'trial', u'coherence', u'fixation_on', u'fixation', u'target_on', u'stim_on', u'stim_off', u'fixation_off', u'saccade', u'reward', u'choice', u'correct', u'unit', u'Xstim', u'Xpre', u'Xpost', u'Xcoh64', u'Xcoh0', u'Xcoh512', u'Xcoh128', u'Xcoh32', u'Xcoh256', u'Xinto', u'Xout', u'time', u'Z0', u'Z1', u'Z2', u'Z3', u'Z4', u'Z5', u'Z6', u'Z7', u'Z8', u'Z9'], dtype='object')"
      ]
     },
     "execution_count": 17,
     "metadata": {},
     "output_type": "execute_result"
    }
   ],
   "source": [
    "# merge labeled and inferred etho on movie and frame columns\n",
    "edf = pd.merge(code, xif, how='right', left_on='utime', right_on='time')\n",
    "edf.columns"
   ]
  },
  {
   "cell_type": "code",
   "execution_count": 18,
   "metadata": {
    "collapsed": false
   },
   "outputs": [],
   "source": [
    "# get rid of categories that are either identifiers or have non-binary entries\n",
    "to_drop = [col for col in edf.columns if not ('Z' in col or 'X' in col)]\n",
    "edf = edf.drop(to_drop, axis=1)"
   ]
  },
  {
   "cell_type": "code",
   "execution_count": 19,
   "metadata": {
    "collapsed": false
   },
   "outputs": [
    {
     "data": {
      "text/html": [
       "<div style=\"max-height:1000px;max-width:1500px;overflow:auto;\">\n",
       "<table border=\"1\" class=\"dataframe\">\n",
       "  <thead>\n",
       "    <tr style=\"text-align: right;\">\n",
       "      <th></th>\n",
       "      <th>Xstim</th>\n",
       "      <th>Xpre</th>\n",
       "      <th>Xpost</th>\n",
       "      <th>Xcoh64</th>\n",
       "      <th>Xcoh0</th>\n",
       "      <th>Xcoh512</th>\n",
       "      <th>Xcoh128</th>\n",
       "      <th>Xcoh32</th>\n",
       "      <th>Xcoh256</th>\n",
       "      <th>Xinto</th>\n",
       "      <th>...</th>\n",
       "      <th>Z0</th>\n",
       "      <th>Z1</th>\n",
       "      <th>Z2</th>\n",
       "      <th>Z3</th>\n",
       "      <th>Z4</th>\n",
       "      <th>Z5</th>\n",
       "      <th>Z6</th>\n",
       "      <th>Z7</th>\n",
       "      <th>Z8</th>\n",
       "      <th>Z9</th>\n",
       "    </tr>\n",
       "  </thead>\n",
       "  <tbody>\n",
       "    <tr>\n",
       "      <th>0</th>\n",
       "      <td> 0</td>\n",
       "      <td> 0</td>\n",
       "      <td> 0</td>\n",
       "      <td> 0</td>\n",
       "      <td> 0</td>\n",
       "      <td> 0</td>\n",
       "      <td> 0</td>\n",
       "      <td> 0</td>\n",
       "      <td> 0</td>\n",
       "      <td> 0</td>\n",
       "      <td>...</td>\n",
       "      <td> 0.011307</td>\n",
       "      <td> 0.998106</td>\n",
       "      <td> 0.999855</td>\n",
       "      <td> 0.031060</td>\n",
       "      <td> 0.092250</td>\n",
       "      <td> 0.216896</td>\n",
       "      <td> 0.010730</td>\n",
       "      <td> 0.989115</td>\n",
       "      <td> 0.999910</td>\n",
       "      <td> 0.034117</td>\n",
       "    </tr>\n",
       "    <tr>\n",
       "      <th>1</th>\n",
       "      <td> 0</td>\n",
       "      <td> 1</td>\n",
       "      <td> 0</td>\n",
       "      <td> 0</td>\n",
       "      <td> 0</td>\n",
       "      <td> 0</td>\n",
       "      <td> 0</td>\n",
       "      <td> 0</td>\n",
       "      <td> 0</td>\n",
       "      <td> 0</td>\n",
       "      <td>...</td>\n",
       "      <td> 0.021491</td>\n",
       "      <td> 0.998869</td>\n",
       "      <td> 0.998722</td>\n",
       "      <td> 0.257578</td>\n",
       "      <td> 0.107722</td>\n",
       "      <td> 0.143728</td>\n",
       "      <td> 0.040613</td>\n",
       "      <td> 0.995236</td>\n",
       "      <td> 0.999902</td>\n",
       "      <td> 0.434933</td>\n",
       "    </tr>\n",
       "    <tr>\n",
       "      <th>2</th>\n",
       "      <td> 0</td>\n",
       "      <td> 1</td>\n",
       "      <td> 0</td>\n",
       "      <td> 0</td>\n",
       "      <td> 0</td>\n",
       "      <td> 0</td>\n",
       "      <td> 0</td>\n",
       "      <td> 0</td>\n",
       "      <td> 0</td>\n",
       "      <td> 0</td>\n",
       "      <td>...</td>\n",
       "      <td> 0.024472</td>\n",
       "      <td> 0.999868</td>\n",
       "      <td> 0.996172</td>\n",
       "      <td> 0.301331</td>\n",
       "      <td> 0.109361</td>\n",
       "      <td> 0.066256</td>\n",
       "      <td> 0.040311</td>\n",
       "      <td> 0.998148</td>\n",
       "      <td> 0.999987</td>\n",
       "      <td> 0.447151</td>\n",
       "    </tr>\n",
       "    <tr>\n",
       "      <th>3</th>\n",
       "      <td> 0</td>\n",
       "      <td> 1</td>\n",
       "      <td> 0</td>\n",
       "      <td> 0</td>\n",
       "      <td> 0</td>\n",
       "      <td> 0</td>\n",
       "      <td> 0</td>\n",
       "      <td> 0</td>\n",
       "      <td> 0</td>\n",
       "      <td> 0</td>\n",
       "      <td>...</td>\n",
       "      <td> 0.030441</td>\n",
       "      <td> 0.999834</td>\n",
       "      <td> 0.992397</td>\n",
       "      <td> 0.302739</td>\n",
       "      <td> 0.116424</td>\n",
       "      <td> 0.017167</td>\n",
       "      <td> 0.044229</td>\n",
       "      <td> 0.997581</td>\n",
       "      <td> 0.999999</td>\n",
       "      <td> 0.442426</td>\n",
       "    </tr>\n",
       "    <tr>\n",
       "      <th>4</th>\n",
       "      <td> 0</td>\n",
       "      <td> 1</td>\n",
       "      <td> 0</td>\n",
       "      <td> 0</td>\n",
       "      <td> 0</td>\n",
       "      <td> 0</td>\n",
       "      <td> 0</td>\n",
       "      <td> 0</td>\n",
       "      <td> 0</td>\n",
       "      <td> 0</td>\n",
       "      <td>...</td>\n",
       "      <td> 0.032433</td>\n",
       "      <td> 0.999882</td>\n",
       "      <td> 0.977540</td>\n",
       "      <td> 0.297038</td>\n",
       "      <td> 0.111007</td>\n",
       "      <td> 0.004729</td>\n",
       "      <td> 0.072418</td>\n",
       "      <td> 0.990698</td>\n",
       "      <td> 1.000000</td>\n",
       "      <td> 0.437193</td>\n",
       "    </tr>\n",
       "  </tbody>\n",
       "</table>\n",
       "<p>5 rows × 21 columns</p>\n",
       "</div>"
      ],
      "text/plain": [
       "   Xstim  Xpre  Xpost  Xcoh64  Xcoh0  Xcoh512  Xcoh128  Xcoh32  Xcoh256  \\\n",
       "0      0     0      0       0      0        0        0       0        0   \n",
       "1      0     1      0       0      0        0        0       0        0   \n",
       "2      0     1      0       0      0        0        0       0        0   \n",
       "3      0     1      0       0      0        0        0       0        0   \n",
       "4      0     1      0       0      0        0        0       0        0   \n",
       "\n",
       "   Xinto    ...           Z0        Z1        Z2        Z3        Z4  \\\n",
       "0      0    ...     0.011307  0.998106  0.999855  0.031060  0.092250   \n",
       "1      0    ...     0.021491  0.998869  0.998722  0.257578  0.107722   \n",
       "2      0    ...     0.024472  0.999868  0.996172  0.301331  0.109361   \n",
       "3      0    ...     0.030441  0.999834  0.992397  0.302739  0.116424   \n",
       "4      0    ...     0.032433  0.999882  0.977540  0.297038  0.111007   \n",
       "\n",
       "         Z5        Z6        Z7        Z8        Z9  \n",
       "0  0.216896  0.010730  0.989115  0.999910  0.034117  \n",
       "1  0.143728  0.040613  0.995236  0.999902  0.434933  \n",
       "2  0.066256  0.040311  0.998148  0.999987  0.447151  \n",
       "3  0.017167  0.044229  0.997581  0.999999  0.442426  \n",
       "4  0.004729  0.072418  0.990698  1.000000  0.437193  \n",
       "\n",
       "[5 rows x 21 columns]"
      ]
     },
     "execution_count": 19,
     "metadata": {},
     "output_type": "execute_result"
    }
   ],
   "source": [
    "edf.head()"
   ]
  },
  {
   "cell_type": "markdown",
   "metadata": {},
   "source": [
    "# View results:"
   ]
  },
  {
   "cell_type": "code",
   "execution_count": 20,
   "metadata": {
    "collapsed": false
   },
   "outputs": [
    {
     "data": {
      "image/png": "[encoded data removed]",
      "text/plain": [
       "<matplotlib.figure.Figure at 0x11490f350>"
      ]
     },
     "metadata": {},
     "output_type": "display_data"
    }
   ],
   "source": [
    "# plot a section in time; each row is a regressor; bottom rows are inferred categories\n",
    "trng = slice(None)\n",
    "matshow(edf.iloc[trng].values.T, vmin=0, vmax=1);\n",
    "col_labels = edf.columns\n",
    "plt.yticks(xrange(len(col_labels)), col_labels);\n",
    "plt.gcf().set_size_inches([20, 5])"
   ]
  },
  {
   "cell_type": "markdown",
   "metadata": {},
   "source": [
    "## Overlap analysis:"
   ]
  },
  {
   "cell_type": "markdown",
   "metadata": {},
   "source": [
    "Define the overlap as the maximum of the match or mismatch percentage. That is, if $x$ and $y$ are binary vectors, \n",
    "$$\n",
    "\\mathrm{overlap} = \\max \\{ \\mathbb{E}[xy + (1-x)(1-y)], \\mathbb{E}[(1-x)y + x(1-y)]\\}\n",
    "$$"
   ]
  },
  {
   "cell_type": "code",
   "execution_count": 21,
   "metadata": {
    "collapsed": false
   },
   "outputs": [],
   "source": [
    "match = (edf.T.dot(edf) + (1 - edf.T).dot(1 - edf)) / T\n",
    "mismatch = (edf.T.dot(1 - edf) + (1 - edf.T).dot(edf)) / T\n",
    "overlap = np.maximum(match, mismatch)"
   ]
  },
  {
   "cell_type": "code",
   "execution_count": 22,
   "metadata": {
    "collapsed": false
   },
   "outputs": [
    {
     "data": {
      "image/png": "[encoded data removed]",
      "text/plain": [
       "<matplotlib.figure.Figure at 0x10eea2d90>"
      ]
     },
     "metadata": {},
     "output_type": "display_data"
    }
   ],
   "source": [
    "row_labels = edf.columns[:]\n",
    "matshow(overlap.values[-K:,:]) #, vmin=0.5, vmax=1)\n",
    "plt.ylabel('inferred factor')\n",
    "plt.xlabel('labeled factor')\n",
    "plt.colorbar();\n",
    "\n",
    "# add column names\n",
    "ax = plt.gca()\n",
    "ax.xaxis.set_label_position('top')\n",
    "plt.tick_params(axis='x', which='both', top='off', bottom='off', \n",
    "                labelbottom='on', labeltop='off', pad=5)\n",
    "plt.xticks(xrange(len(row_labels)), row_labels, rotation='vertical', horizontalalignment='center');"
   ]
  },
  {
   "cell_type": "code",
   "execution_count": 23,
   "metadata": {
    "collapsed": false
   },
   "outputs": [
    {
     "data": {
      "text/html": [
       "<div style=\"max-height:1000px;max-width:1500px;overflow:auto;\">\n",
       "<table border=\"1\" class=\"dataframe\">\n",
       "  <thead>\n",
       "    <tr style=\"text-align: right;\">\n",
       "      <th></th>\n",
       "      <th>Xstim</th>\n",
       "      <th>Xpre</th>\n",
       "      <th>Xpost</th>\n",
       "      <th>Xcoh64</th>\n",
       "      <th>Xcoh0</th>\n",
       "      <th>Xcoh512</th>\n",
       "      <th>Xcoh128</th>\n",
       "      <th>Xcoh32</th>\n",
       "      <th>Xcoh256</th>\n",
       "      <th>Xinto</th>\n",
       "      <th>...</th>\n",
       "      <th>Z0</th>\n",
       "      <th>Z1</th>\n",
       "      <th>Z2</th>\n",
       "      <th>Z3</th>\n",
       "      <th>Z4</th>\n",
       "      <th>Z5</th>\n",
       "      <th>Z6</th>\n",
       "      <th>Z7</th>\n",
       "      <th>Z8</th>\n",
       "      <th>Z9</th>\n",
       "    </tr>\n",
       "  </thead>\n",
       "  <tbody>\n",
       "    <tr>\n",
       "      <th>Z0</th>\n",
       "      <td> 0.532456</td>\n",
       "      <td> 0.541328</td>\n",
       "      <td> 0.632533</td>\n",
       "      <td> 0.609458</td>\n",
       "      <td> 0.590522</td>\n",
       "      <td> 0.611792</td>\n",
       "      <td> 0.608886</td>\n",
       "      <td> 0.606729</td>\n",
       "      <td> 0.619228</td>\n",
       "      <td> 0.684445</td>\n",
       "      <td>...</td>\n",
       "      <td> 0.938396</td>\n",
       "      <td> 0.503922</td>\n",
       "      <td> 0.618280</td>\n",
       "      <td> 0.543506</td>\n",
       "      <td> 0.544677</td>\n",
       "      <td> 0.548142</td>\n",
       "      <td> 0.539639</td>\n",
       "      <td> 0.567109</td>\n",
       "      <td> 0.591549</td>\n",
       "      <td> 0.512711</td>\n",
       "    </tr>\n",
       "    <tr>\n",
       "      <th>Z1</th>\n",
       "      <td> 0.738794</td>\n",
       "      <td> 0.944660</td>\n",
       "      <td> 0.502540</td>\n",
       "      <td> 0.647454</td>\n",
       "      <td> 0.647513</td>\n",
       "      <td> 0.647455</td>\n",
       "      <td> 0.648048</td>\n",
       "      <td> 0.647454</td>\n",
       "      <td> 0.647454</td>\n",
       "      <td> 0.507250</td>\n",
       "      <td>...</td>\n",
       "      <td> 0.503922</td>\n",
       "      <td> 0.996361</td>\n",
       "      <td> 0.546428</td>\n",
       "      <td> 0.576221</td>\n",
       "      <td> 0.580724</td>\n",
       "      <td> 0.530028</td>\n",
       "      <td> 0.602685</td>\n",
       "      <td> 0.749476</td>\n",
       "      <td> 0.831069</td>\n",
       "      <td> 0.521582</td>\n",
       "    </tr>\n",
       "    <tr>\n",
       "      <th>Z2</th>\n",
       "      <td> 0.597037</td>\n",
       "      <td> 0.541204</td>\n",
       "      <td> 0.531753</td>\n",
       "      <td> 0.507638</td>\n",
       "      <td> 0.587248</td>\n",
       "      <td> 0.514734</td>\n",
       "      <td> 0.539569</td>\n",
       "      <td> 0.562917</td>\n",
       "      <td> 0.517997</td>\n",
       "      <td> 0.572104</td>\n",
       "      <td>...</td>\n",
       "      <td> 0.618280</td>\n",
       "      <td> 0.546428</td>\n",
       "      <td> 0.971401</td>\n",
       "      <td> 0.506608</td>\n",
       "      <td> 0.546245</td>\n",
       "      <td> 0.508001</td>\n",
       "      <td> 0.504944</td>\n",
       "      <td> 0.534398</td>\n",
       "      <td> 0.504823</td>\n",
       "      <td> 0.501407</td>\n",
       "    </tr>\n",
       "    <tr>\n",
       "      <th>Z3</th>\n",
       "      <td> 0.509118</td>\n",
       "      <td> 0.563895</td>\n",
       "      <td> 0.598376</td>\n",
       "      <td> 0.642305</td>\n",
       "      <td> 0.644273</td>\n",
       "      <td> 0.644168</td>\n",
       "      <td> 0.644131</td>\n",
       "      <td> 0.643859</td>\n",
       "      <td> 0.642619</td>\n",
       "      <td> 0.590717</td>\n",
       "      <td>...</td>\n",
       "      <td> 0.543506</td>\n",
       "      <td> 0.576221</td>\n",
       "      <td> 0.506608</td>\n",
       "      <td> 0.560838</td>\n",
       "      <td> 0.558358</td>\n",
       "      <td> 0.505453</td>\n",
       "      <td> 0.546097</td>\n",
       "      <td> 0.609518</td>\n",
       "      <td> 0.630833</td>\n",
       "      <td> 0.518215</td>\n",
       "    </tr>\n",
       "    <tr>\n",
       "      <th>Z4</th>\n",
       "      <td> 0.551613</td>\n",
       "      <td> 0.544639</td>\n",
       "      <td> 0.594481</td>\n",
       "      <td> 0.611687</td>\n",
       "      <td> 0.637226</td>\n",
       "      <td> 0.698258</td>\n",
       "      <td> 0.681562</td>\n",
       "      <td> 0.672279</td>\n",
       "      <td> 0.676461</td>\n",
       "      <td> 0.584231</td>\n",
       "      <td>...</td>\n",
       "      <td> 0.544677</td>\n",
       "      <td> 0.580724</td>\n",
       "      <td> 0.546245</td>\n",
       "      <td> 0.558358</td>\n",
       "      <td> 0.898950</td>\n",
       "      <td> 0.515069</td>\n",
       "      <td> 0.532850</td>\n",
       "      <td> 0.639060</td>\n",
       "      <td> 0.638938</td>\n",
       "      <td> 0.516643</td>\n",
       "    </tr>\n",
       "    <tr>\n",
       "      <th>Z5</th>\n",
       "      <td> 0.609457</td>\n",
       "      <td> 0.536335</td>\n",
       "      <td> 0.578443</td>\n",
       "      <td> 0.574711</td>\n",
       "      <td> 0.516242</td>\n",
       "      <td> 0.502437</td>\n",
       "      <td> 0.541546</td>\n",
       "      <td> 0.557932</td>\n",
       "      <td> 0.552562</td>\n",
       "      <td> 0.507004</td>\n",
       "      <td>...</td>\n",
       "      <td> 0.548142</td>\n",
       "      <td> 0.530028</td>\n",
       "      <td> 0.508001</td>\n",
       "      <td> 0.505453</td>\n",
       "      <td> 0.515069</td>\n",
       "      <td> 0.950546</td>\n",
       "      <td> 0.510249</td>\n",
       "      <td> 0.545123</td>\n",
       "      <td> 0.503943</td>\n",
       "      <td> 0.502103</td>\n",
       "    </tr>\n",
       "    <tr>\n",
       "      <th>Z6</th>\n",
       "      <td> 0.685328</td>\n",
       "      <td> 0.605463</td>\n",
       "      <td> 0.697153</td>\n",
       "      <td> 0.568822</td>\n",
       "      <td> 0.557203</td>\n",
       "      <td> 0.566693</td>\n",
       "      <td> 0.549980</td>\n",
       "      <td> 0.546003</td>\n",
       "      <td> 0.606897</td>\n",
       "      <td> 0.570596</td>\n",
       "      <td>...</td>\n",
       "      <td> 0.539639</td>\n",
       "      <td> 0.602685</td>\n",
       "      <td> 0.504944</td>\n",
       "      <td> 0.546097</td>\n",
       "      <td> 0.532850</td>\n",
       "      <td> 0.510249</td>\n",
       "      <td> 0.873519</td>\n",
       "      <td> 0.582291</td>\n",
       "      <td> 0.609077</td>\n",
       "      <td> 0.513607</td>\n",
       "    </tr>\n",
       "    <tr>\n",
       "      <th>Z7</th>\n",
       "      <td> 0.542634</td>\n",
       "      <td> 0.739358</td>\n",
       "      <td> 0.614511</td>\n",
       "      <td> 0.748562</td>\n",
       "      <td> 0.748587</td>\n",
       "      <td> 0.768946</td>\n",
       "      <td> 0.748625</td>\n",
       "      <td> 0.796611</td>\n",
       "      <td> 0.774498</td>\n",
       "      <td> 0.608703</td>\n",
       "      <td>...</td>\n",
       "      <td> 0.567109</td>\n",
       "      <td> 0.749476</td>\n",
       "      <td> 0.534398</td>\n",
       "      <td> 0.609518</td>\n",
       "      <td> 0.639060</td>\n",
       "      <td> 0.545123</td>\n",
       "      <td> 0.582291</td>\n",
       "      <td> 0.977354</td>\n",
       "      <td> 0.842754</td>\n",
       "      <td> 0.531084</td>\n",
       "    </tr>\n",
       "    <tr>\n",
       "      <th>Z8</th>\n",
       "      <td> 0.579140</td>\n",
       "      <td> 0.783371</td>\n",
       "      <td> 0.663128</td>\n",
       "      <td> 0.807762</td>\n",
       "      <td> 0.807764</td>\n",
       "      <td> 0.807762</td>\n",
       "      <td> 0.807762</td>\n",
       "      <td> 0.807763</td>\n",
       "      <td> 0.807762</td>\n",
       "      <td> 0.653000</td>\n",
       "      <td>...</td>\n",
       "      <td> 0.591549</td>\n",
       "      <td> 0.831069</td>\n",
       "      <td> 0.504823</td>\n",
       "      <td> 0.630833</td>\n",
       "      <td> 0.638938</td>\n",
       "      <td> 0.503943</td>\n",
       "      <td> 0.609077</td>\n",
       "      <td> 0.842754</td>\n",
       "      <td> 0.997928</td>\n",
       "      <td> 0.537390</td>\n",
       "    </tr>\n",
       "    <tr>\n",
       "      <th>Z9</th>\n",
       "      <td> 0.503013</td>\n",
       "      <td> 0.518573</td>\n",
       "      <td> 0.528636</td>\n",
       "      <td> 0.541063</td>\n",
       "      <td> 0.541860</td>\n",
       "      <td> 0.541891</td>\n",
       "      <td> 0.541852</td>\n",
       "      <td> 0.541682</td>\n",
       "      <td> 0.541183</td>\n",
       "      <td> 0.526606</td>\n",
       "      <td>...</td>\n",
       "      <td> 0.512711</td>\n",
       "      <td> 0.521582</td>\n",
       "      <td> 0.501407</td>\n",
       "      <td> 0.518215</td>\n",
       "      <td> 0.516643</td>\n",
       "      <td> 0.502103</td>\n",
       "      <td> 0.513607</td>\n",
       "      <td> 0.531084</td>\n",
       "      <td> 0.537390</td>\n",
       "      <td> 0.505756</td>\n",
       "    </tr>\n",
       "  </tbody>\n",
       "</table>\n",
       "<p>10 rows × 21 columns</p>\n",
       "</div>"
      ],
      "text/plain": [
       "       Xstim      Xpre     Xpost    Xcoh64     Xcoh0   Xcoh512   Xcoh128  \\\n",
       "Z0  0.532456  0.541328  0.632533  0.609458  0.590522  0.611792  0.608886   \n",
       "Z1  0.738794  0.944660  0.502540  0.647454  0.647513  0.647455  0.648048   \n",
       "Z2  0.597037  0.541204  0.531753  0.507638  0.587248  0.514734  0.539569   \n",
       "Z3  0.509118  0.563895  0.598376  0.642305  0.644273  0.644168  0.644131   \n",
       "Z4  0.551613  0.544639  0.594481  0.611687  0.637226  0.698258  0.681562   \n",
       "Z5  0.609457  0.536335  0.578443  0.574711  0.516242  0.502437  0.541546   \n",
       "Z6  0.685328  0.605463  0.697153  0.568822  0.557203  0.566693  0.549980   \n",
       "Z7  0.542634  0.739358  0.614511  0.748562  0.748587  0.768946  0.748625   \n",
       "Z8  0.579140  0.783371  0.663128  0.807762  0.807764  0.807762  0.807762   \n",
       "Z9  0.503013  0.518573  0.528636  0.541063  0.541860  0.541891  0.541852   \n",
       "\n",
       "      Xcoh32   Xcoh256     Xinto    ...           Z0        Z1        Z2  \\\n",
       "Z0  0.606729  0.619228  0.684445    ...     0.938396  0.503922  0.618280   \n",
       "Z1  0.647454  0.647454  0.507250    ...     0.503922  0.996361  0.546428   \n",
       "Z2  0.562917  0.517997  0.572104    ...     0.618280  0.546428  0.971401   \n",
       "Z3  0.643859  0.642619  0.590717    ...     0.543506  0.576221  0.506608   \n",
       "Z4  0.672279  0.676461  0.584231    ...     0.544677  0.580724  0.546245   \n",
       "Z5  0.557932  0.552562  0.507004    ...     0.548142  0.530028  0.508001   \n",
       "Z6  0.546003  0.606897  0.570596    ...     0.539639  0.602685  0.504944   \n",
       "Z7  0.796611  0.774498  0.608703    ...     0.567109  0.749476  0.534398   \n",
       "Z8  0.807763  0.807762  0.653000    ...     0.591549  0.831069  0.504823   \n",
       "Z9  0.541682  0.541183  0.526606    ...     0.512711  0.521582  0.501407   \n",
       "\n",
       "          Z3        Z4        Z5        Z6        Z7        Z8        Z9  \n",
       "Z0  0.543506  0.544677  0.548142  0.539639  0.567109  0.591549  0.512711  \n",
       "Z1  0.576221  0.580724  0.530028  0.602685  0.749476  0.831069  0.521582  \n",
       "Z2  0.506608  0.546245  0.508001  0.504944  0.534398  0.504823  0.501407  \n",
       "Z3  0.560838  0.558358  0.505453  0.546097  0.609518  0.630833  0.518215  \n",
       "Z4  0.558358  0.898950  0.515069  0.532850  0.639060  0.638938  0.516643  \n",
       "Z5  0.505453  0.515069  0.950546  0.510249  0.545123  0.503943  0.502103  \n",
       "Z6  0.546097  0.532850  0.510249  0.873519  0.582291  0.609077  0.513607  \n",
       "Z7  0.609518  0.639060  0.545123  0.582291  0.977354  0.842754  0.531084  \n",
       "Z8  0.630833  0.638938  0.503943  0.609077  0.842754  0.997928  0.537390  \n",
       "Z9  0.518215  0.516643  0.502103  0.513607  0.531084  0.537390  0.505756  \n",
       "\n",
       "[10 rows x 21 columns]"
      ]
     },
     "execution_count": 23,
     "metadata": {},
     "output_type": "execute_result"
    }
   ],
   "source": [
    "overlap.iloc[-K:, :]"
   ]
  },
  {
   "cell_type": "markdown",
   "metadata": {
    "collapsed": true
   },
   "source": [
    "Try using the MPM (maximizer of posterior marginals) rather than the posterior:"
   ]
  },
  {
   "cell_type": "code",
   "execution_count": 24,
   "metadata": {
    "collapsed": true
   },
   "outputs": [],
   "source": [
    "# round to 0 or 1 elementwise\n",
    "medf = np.around(edf)"
   ]
  },
  {
   "cell_type": "code",
   "execution_count": 25,
   "metadata": {
    "collapsed": false
   },
   "outputs": [
    {
     "data": {
      "image/png": "[encoded data removed]",
      "text/plain": [
       "<matplotlib.figure.Figure at 0x114826a90>"
      ]
     },
     "metadata": {},
     "output_type": "display_data"
    },
    {
     "data": {
      "image/png": "[encoded data removed]",
      "text/plain": [
       "<matplotlib.figure.Figure at 0x10e037fd0>"
      ]
     },
     "metadata": {},
     "output_type": "display_data"
    },
    {
     "data": {
      "image/png": "[encoded data removed]",
      "text/plain": [
       "<matplotlib.figure.Figure at 0x1145f0990>"
      ]
     },
     "metadata": {},
     "output_type": "display_data"
    }
   ],
   "source": [
    "# plot a section in time; each row is a regressor; bottom rows are inferred categories\n",
    "trng = slice(None)\n",
    "matshow(edf.iloc[trng, :-K].values.T, vmin=0, vmax=1);\n",
    "\n",
    "# zoom in on inferred\n",
    "matshow(edf.iloc[trng, -K:].values.T, vmin=0, vmax=1);\n",
    "\n",
    "# use MPM\n",
    "matshow(medf.iloc[trng, -K:].values.T, vmin=0, vmax=1);"
   ]
  },
  {
   "cell_type": "code",
   "execution_count": 26,
   "metadata": {
    "collapsed": true
   },
   "outputs": [],
   "source": [
    "mmatch = (medf.T.dot(medf) + (1 - medf.T).dot(1 - medf)) / T\n",
    "mmismatch = (medf.T.dot(1 - medf) + (1 - medf.T).dot(medf)) / T\n",
    "moverlap = np.maximum(mmatch, mmismatch)"
   ]
  },
  {
   "cell_type": "code",
   "execution_count": 27,
   "metadata": {
    "collapsed": false
   },
   "outputs": [
    {
     "data": {
      "image/png": "[encoded data removed]",
      "text/plain": [
       "<matplotlib.figure.Figure at 0x1104e5c50>"
      ]
     },
     "metadata": {},
     "output_type": "display_data"
    }
   ],
   "source": [
    "row_labels = medf.columns[:]\n",
    "matshow(moverlap.values[-K:,:]) #, vmin=0.5, vmax=1)\n",
    "plt.ylabel('inferred factor')\n",
    "plt.xlabel('labeled factor')\n",
    "plt.colorbar();\n",
    "\n",
    "# add column names\n",
    "ax = plt.gca()\n",
    "ax.xaxis.set_label_position('top')\n",
    "plt.tick_params(axis='x', which='both', top='off', bottom='off', \n",
    "                labelbottom='on', labeltop='off', pad=5)\n",
    "plt.xticks(xrange(len(row_labels)), row_labels, rotation='vertical', horizontalalignment='center');\n",
    "plt.gcf().set_size_inches([20, 5])"
   ]
  },
  {
   "cell_type": "code",
   "execution_count": 28,
   "metadata": {
    "collapsed": false
   },
   "outputs": [
    {
     "data": {
      "text/html": [
       "<div style=\"max-height:1000px;max-width:1500px;overflow:auto;\">\n",
       "<table border=\"1\" class=\"dataframe\">\n",
       "  <thead>\n",
       "    <tr style=\"text-align: right;\">\n",
       "      <th></th>\n",
       "      <th>Xstim</th>\n",
       "      <th>Xpre</th>\n",
       "      <th>Xpost</th>\n",
       "      <th>Xcoh64</th>\n",
       "      <th>Xcoh0</th>\n",
       "      <th>Xcoh512</th>\n",
       "      <th>Xcoh128</th>\n",
       "      <th>Xcoh32</th>\n",
       "      <th>Xcoh256</th>\n",
       "      <th>Xinto</th>\n",
       "      <th>...</th>\n",
       "      <th>Z0</th>\n",
       "      <th>Z1</th>\n",
       "      <th>Z2</th>\n",
       "      <th>Z3</th>\n",
       "      <th>Z4</th>\n",
       "      <th>Z5</th>\n",
       "      <th>Z6</th>\n",
       "      <th>Z7</th>\n",
       "      <th>Z8</th>\n",
       "      <th>Z9</th>\n",
       "    </tr>\n",
       "  </thead>\n",
       "  <tbody>\n",
       "    <tr>\n",
       "      <th>Z0</th>\n",
       "      <td> 0.534226</td>\n",
       "      <td> 0.543155</td>\n",
       "      <td> 0.633929</td>\n",
       "      <td> 0.611607</td>\n",
       "      <td> 0.590774</td>\n",
       "      <td> 0.614583</td>\n",
       "      <td> 0.613095</td>\n",
       "      <td> 0.607143</td>\n",
       "      <td> 0.622024</td>\n",
       "      <td> 0.688988</td>\n",
       "      <td>...</td>\n",
       "      <td> 1.000000</td>\n",
       "      <td> 0.503720</td>\n",
       "      <td> 0.623512</td>\n",
       "      <td> 0.627976</td>\n",
       "      <td> 0.550595</td>\n",
       "      <td> 0.549851</td>\n",
       "      <td> 0.542411</td>\n",
       "      <td> 0.570685</td>\n",
       "      <td> 0.595982</td>\n",
       "      <td> 0.634673</td>\n",
       "    </tr>\n",
       "    <tr>\n",
       "      <th>Z1</th>\n",
       "      <td> 0.740327</td>\n",
       "      <td> 0.945685</td>\n",
       "      <td> 0.502232</td>\n",
       "      <td> 0.646577</td>\n",
       "      <td> 0.646577</td>\n",
       "      <td> 0.646577</td>\n",
       "      <td> 0.646577</td>\n",
       "      <td> 0.646577</td>\n",
       "      <td> 0.646577</td>\n",
       "      <td> 0.508185</td>\n",
       "      <td>...</td>\n",
       "      <td> 0.503720</td>\n",
       "      <td> 1.000000</td>\n",
       "      <td> 0.546875</td>\n",
       "      <td> 0.720982</td>\n",
       "      <td> 0.590030</td>\n",
       "      <td> 0.529762</td>\n",
       "      <td> 0.601190</td>\n",
       "      <td> 0.752976</td>\n",
       "      <td> 0.833333</td>\n",
       "      <td> 0.714286</td>\n",
       "    </tr>\n",
       "    <tr>\n",
       "      <th>Z2</th>\n",
       "      <td> 0.598214</td>\n",
       "      <td> 0.541667</td>\n",
       "      <td> 0.534226</td>\n",
       "      <td> 0.507440</td>\n",
       "      <td> 0.586310</td>\n",
       "      <td> 0.513393</td>\n",
       "      <td> 0.538690</td>\n",
       "      <td> 0.562500</td>\n",
       "      <td> 0.516369</td>\n",
       "      <td> 0.572917</td>\n",
       "      <td>...</td>\n",
       "      <td> 0.623512</td>\n",
       "      <td> 0.546875</td>\n",
       "      <td> 1.000000</td>\n",
       "      <td> 0.522321</td>\n",
       "      <td> 0.540179</td>\n",
       "      <td> 0.511161</td>\n",
       "      <td> 0.503720</td>\n",
       "      <td> 0.531994</td>\n",
       "      <td> 0.503720</td>\n",
       "      <td> 0.517113</td>\n",
       "    </tr>\n",
       "    <tr>\n",
       "      <th>Z3</th>\n",
       "      <td> 0.532738</td>\n",
       "      <td> 0.684524</td>\n",
       "      <td> 0.779762</td>\n",
       "      <td> 0.919643</td>\n",
       "      <td> 0.919643</td>\n",
       "      <td> 0.919643</td>\n",
       "      <td> 0.919643</td>\n",
       "      <td> 0.919643</td>\n",
       "      <td> 0.919643</td>\n",
       "      <td> 0.764881</td>\n",
       "      <td>...</td>\n",
       "      <td> 0.627976</td>\n",
       "      <td> 0.720982</td>\n",
       "      <td> 0.522321</td>\n",
       "      <td> 1.000000</td>\n",
       "      <td> 0.690476</td>\n",
       "      <td> 0.505208</td>\n",
       "      <td> 0.621280</td>\n",
       "      <td> 0.825149</td>\n",
       "      <td> 0.881696</td>\n",
       "      <td> 0.993304</td>\n",
       "    </tr>\n",
       "    <tr>\n",
       "      <th>Z4</th>\n",
       "      <td> 0.549107</td>\n",
       "      <td> 0.552083</td>\n",
       "      <td> 0.596726</td>\n",
       "      <td> 0.616071</td>\n",
       "      <td> 0.639881</td>\n",
       "      <td> 0.705357</td>\n",
       "      <td> 0.693452</td>\n",
       "      <td> 0.677083</td>\n",
       "      <td> 0.684524</td>\n",
       "      <td> 0.595238</td>\n",
       "      <td>...</td>\n",
       "      <td> 0.550595</td>\n",
       "      <td> 0.590030</td>\n",
       "      <td> 0.540179</td>\n",
       "      <td> 0.690476</td>\n",
       "      <td> 1.000000</td>\n",
       "      <td> 0.527530</td>\n",
       "      <td> 0.530506</td>\n",
       "      <td> 0.643601</td>\n",
       "      <td> 0.640625</td>\n",
       "      <td> 0.683780</td>\n",
       "    </tr>\n",
       "    <tr>\n",
       "      <th>Z5</th>\n",
       "      <td> 0.612351</td>\n",
       "      <td> 0.534970</td>\n",
       "      <td> 0.584077</td>\n",
       "      <td> 0.575149</td>\n",
       "      <td> 0.515625</td>\n",
       "      <td> 0.503720</td>\n",
       "      <td> 0.542411</td>\n",
       "      <td> 0.557292</td>\n",
       "      <td> 0.552827</td>\n",
       "      <td> 0.509673</td>\n",
       "      <td>...</td>\n",
       "      <td> 0.549851</td>\n",
       "      <td> 0.529762</td>\n",
       "      <td> 0.511161</td>\n",
       "      <td> 0.505208</td>\n",
       "      <td> 0.527530</td>\n",
       "      <td> 1.000000</td>\n",
       "      <td> 0.517857</td>\n",
       "      <td> 0.544643</td>\n",
       "      <td> 0.502976</td>\n",
       "      <td> 0.510417</td>\n",
       "    </tr>\n",
       "    <tr>\n",
       "      <th>Z6</th>\n",
       "      <td> 0.692708</td>\n",
       "      <td> 0.604911</td>\n",
       "      <td> 0.707589</td>\n",
       "      <td> 0.575149</td>\n",
       "      <td> 0.551339</td>\n",
       "      <td> 0.567708</td>\n",
       "      <td> 0.552827</td>\n",
       "      <td> 0.540923</td>\n",
       "      <td> 0.610863</td>\n",
       "      <td> 0.570685</td>\n",
       "      <td>...</td>\n",
       "      <td> 0.542411</td>\n",
       "      <td> 0.601190</td>\n",
       "      <td> 0.503720</td>\n",
       "      <td> 0.621280</td>\n",
       "      <td> 0.530506</td>\n",
       "      <td> 0.517857</td>\n",
       "      <td> 1.000000</td>\n",
       "      <td> 0.571429</td>\n",
       "      <td> 0.610119</td>\n",
       "      <td> 0.626488</td>\n",
       "    </tr>\n",
       "    <tr>\n",
       "      <th>Z7</th>\n",
       "      <td> 0.542411</td>\n",
       "      <td> 0.743304</td>\n",
       "      <td> 0.612351</td>\n",
       "      <td> 0.750744</td>\n",
       "      <td> 0.750744</td>\n",
       "      <td> 0.771577</td>\n",
       "      <td> 0.750744</td>\n",
       "      <td> 0.798363</td>\n",
       "      <td> 0.776042</td>\n",
       "      <td> 0.610863</td>\n",
       "      <td>...</td>\n",
       "      <td> 0.570685</td>\n",
       "      <td> 0.752976</td>\n",
       "      <td> 0.531994</td>\n",
       "      <td> 0.825149</td>\n",
       "      <td> 0.643601</td>\n",
       "      <td> 0.544643</td>\n",
       "      <td> 0.571429</td>\n",
       "      <td> 1.000000</td>\n",
       "      <td> 0.845238</td>\n",
       "      <td> 0.818452</td>\n",
       "    </tr>\n",
       "    <tr>\n",
       "      <th>Z8</th>\n",
       "      <td> 0.579613</td>\n",
       "      <td> 0.783482</td>\n",
       "      <td> 0.662946</td>\n",
       "      <td> 0.807292</td>\n",
       "      <td> 0.807292</td>\n",
       "      <td> 0.807292</td>\n",
       "      <td> 0.807292</td>\n",
       "      <td> 0.807292</td>\n",
       "      <td> 0.807292</td>\n",
       "      <td> 0.652530</td>\n",
       "      <td>...</td>\n",
       "      <td> 0.595982</td>\n",
       "      <td> 0.833333</td>\n",
       "      <td> 0.503720</td>\n",
       "      <td> 0.881696</td>\n",
       "      <td> 0.640625</td>\n",
       "      <td> 0.502976</td>\n",
       "      <td> 0.610119</td>\n",
       "      <td> 0.845238</td>\n",
       "      <td> 1.000000</td>\n",
       "      <td> 0.875000</td>\n",
       "    </tr>\n",
       "    <tr>\n",
       "      <th>Z9</th>\n",
       "      <td> 0.527530</td>\n",
       "      <td> 0.677827</td>\n",
       "      <td> 0.784970</td>\n",
       "      <td> 0.912946</td>\n",
       "      <td> 0.912946</td>\n",
       "      <td> 0.912946</td>\n",
       "      <td> 0.912946</td>\n",
       "      <td> 0.914435</td>\n",
       "      <td> 0.912946</td>\n",
       "      <td> 0.759673</td>\n",
       "      <td>...</td>\n",
       "      <td> 0.634673</td>\n",
       "      <td> 0.714286</td>\n",
       "      <td> 0.517113</td>\n",
       "      <td> 0.993304</td>\n",
       "      <td> 0.683780</td>\n",
       "      <td> 0.510417</td>\n",
       "      <td> 0.626488</td>\n",
       "      <td> 0.818452</td>\n",
       "      <td> 0.875000</td>\n",
       "      <td> 1.000000</td>\n",
       "    </tr>\n",
       "  </tbody>\n",
       "</table>\n",
       "<p>10 rows × 21 columns</p>\n",
       "</div>"
      ],
      "text/plain": [
       "       Xstim      Xpre     Xpost    Xcoh64     Xcoh0   Xcoh512   Xcoh128  \\\n",
       "Z0  0.534226  0.543155  0.633929  0.611607  0.590774  0.614583  0.613095   \n",
       "Z1  0.740327  0.945685  0.502232  0.646577  0.646577  0.646577  0.646577   \n",
       "Z2  0.598214  0.541667  0.534226  0.507440  0.586310  0.513393  0.538690   \n",
       "Z3  0.532738  0.684524  0.779762  0.919643  0.919643  0.919643  0.919643   \n",
       "Z4  0.549107  0.552083  0.596726  0.616071  0.639881  0.705357  0.693452   \n",
       "Z5  0.612351  0.534970  0.584077  0.575149  0.515625  0.503720  0.542411   \n",
       "Z6  0.692708  0.604911  0.707589  0.575149  0.551339  0.567708  0.552827   \n",
       "Z7  0.542411  0.743304  0.612351  0.750744  0.750744  0.771577  0.750744   \n",
       "Z8  0.579613  0.783482  0.662946  0.807292  0.807292  0.807292  0.807292   \n",
       "Z9  0.527530  0.677827  0.784970  0.912946  0.912946  0.912946  0.912946   \n",
       "\n",
       "      Xcoh32   Xcoh256     Xinto    ...           Z0        Z1        Z2  \\\n",
       "Z0  0.607143  0.622024  0.688988    ...     1.000000  0.503720  0.623512   \n",
       "Z1  0.646577  0.646577  0.508185    ...     0.503720  1.000000  0.546875   \n",
       "Z2  0.562500  0.516369  0.572917    ...     0.623512  0.546875  1.000000   \n",
       "Z3  0.919643  0.919643  0.764881    ...     0.627976  0.720982  0.522321   \n",
       "Z4  0.677083  0.684524  0.595238    ...     0.550595  0.590030  0.540179   \n",
       "Z5  0.557292  0.552827  0.509673    ...     0.549851  0.529762  0.511161   \n",
       "Z6  0.540923  0.610863  0.570685    ...     0.542411  0.601190  0.503720   \n",
       "Z7  0.798363  0.776042  0.610863    ...     0.570685  0.752976  0.531994   \n",
       "Z8  0.807292  0.807292  0.652530    ...     0.595982  0.833333  0.503720   \n",
       "Z9  0.914435  0.912946  0.759673    ...     0.634673  0.714286  0.517113   \n",
       "\n",
       "          Z3        Z4        Z5        Z6        Z7        Z8        Z9  \n",
       "Z0  0.627976  0.550595  0.549851  0.542411  0.570685  0.595982  0.634673  \n",
       "Z1  0.720982  0.590030  0.529762  0.601190  0.752976  0.833333  0.714286  \n",
       "Z2  0.522321  0.540179  0.511161  0.503720  0.531994  0.503720  0.517113  \n",
       "Z3  1.000000  0.690476  0.505208  0.621280  0.825149  0.881696  0.993304  \n",
       "Z4  0.690476  1.000000  0.527530  0.530506  0.643601  0.640625  0.683780  \n",
       "Z5  0.505208  0.527530  1.000000  0.517857  0.544643  0.502976  0.510417  \n",
       "Z6  0.621280  0.530506  0.517857  1.000000  0.571429  0.610119  0.626488  \n",
       "Z7  0.825149  0.643601  0.544643  0.571429  1.000000  0.845238  0.818452  \n",
       "Z8  0.881696  0.640625  0.502976  0.610119  0.845238  1.000000  0.875000  \n",
       "Z9  0.993304  0.683780  0.510417  0.626488  0.818452  0.875000  1.000000  \n",
       "\n",
       "[10 rows x 21 columns]"
      ]
     },
     "execution_count": 28,
     "metadata": {},
     "output_type": "execute_result"
    }
   ],
   "source": [
    "moverlap.iloc[-K:, :]"
   ]
  },
  {
   "cell_type": "code",
   "execution_count": 29,
   "metadata": {
    "collapsed": false
   },
   "outputs": [
    {
     "data": {
      "text/plain": [
       "Xstim      0.740327\n",
       "Xpre       0.945685\n",
       "Xpost      0.784970\n",
       "Xcoh64     0.919643\n",
       "Xcoh0      0.919643\n",
       "Xcoh512    0.919643\n",
       "Xcoh128    0.919643\n",
       "Xcoh32     0.919643\n",
       "Xcoh256    0.919643\n",
       "Xinto      0.764881\n",
       "Xout       0.764881\n",
       "dtype: float64"
      ]
     },
     "execution_count": 29,
     "metadata": {},
     "output_type": "execute_result"
    }
   ],
   "source": [
    "moverlap.iloc[-K:, :-K].max()"
   ]
  },
  {
   "cell_type": "markdown",
   "metadata": {},
   "source": [
    "### What is chance overlap?"
   ]
  },
  {
   "cell_type": "markdown",
   "metadata": {},
   "source": [
    "How much overlap should we expect by chance, simply based on raw statistics? Let's generate some sequences from the fitted model and look at their overlap."
   ]
  },
  {
   "cell_type": "code",
   "execution_count": null,
   "metadata": {
    "collapsed": false
   },
   "outputs": [],
   "source": [
    "A = gpm.nodes['HMM'].nodes['A']\n",
    "pi = gpm.nodes['HMM'].nodes['pi']\n",
    "dnode = gpm.nodes['HMM'].nodes['d']"
   ]
  },
  {
   "cell_type": "code",
   "execution_count": null,
   "metadata": {
    "collapsed": true
   },
   "outputs": [],
   "source": [
    "def get_duration(mu, lam, shape, rate):\n",
    "    \"\"\"\n",
    "    Given tuple of normal-gamma parameters, draw a duration (max = D) from\n",
    "    the appropriate lognormal distribution.\n",
    "    \"\"\"\n",
    "    while True:\n",
    "        d = lognormal_from_hypers(mu, lam, shape, rate, 1)\n",
    "        if (d >= 1) and (d <= gpm.D):\n",
    "            break\n",
    "    \n",
    "    return d"
   ]
  },
  {
   "cell_type": "code",
   "execution_count": null,
   "metadata": {
    "collapsed": false
   },
   "outputs": [],
   "source": [
    "def make_chain(A, pi, mu, lam, shape, rate):\n",
    "    \"\"\"\n",
    "    Generate a latent state sequence. A and pi are Markov parameters. Other\n",
    "    arguments specify normal-gamma hyperparameters to a lognormal duration \n",
    "    distribution.\n",
    "    \"\"\"\n",
    "\n",
    "    chain = np.empty((T,))\n",
    "\n",
    "    # initialize\n",
    "    t = 0\n",
    "    while t < T:\n",
    "        if t == 0:\n",
    "            pp = pi[1]\n",
    "        else:\n",
    "            pp = A[1, chain[t - 1]]\n",
    "\n",
    "        # pick a new state\n",
    "        z = stats.bernoulli.rvs(pp, size=1)\n",
    "\n",
    "        # pick a duration\n",
    "        d = get_duration(mu[z], lam[z], shape[z], rate[z]).astype('int')\n",
    "        d = np.min([d, gpm.T - d])\n",
    "\n",
    "        # fill in the next d steps of the chain\n",
    "        chain[t:(t+d)] = z\n",
    "        t += d\n",
    "            \n",
    "    return chain"
   ]
  },
  {
   "cell_type": "code",
   "execution_count": null,
   "metadata": {
    "collapsed": false
   },
   "outputs": [],
   "source": [
    "def generate_fake_chains(nfake):\n",
    "    fakechains = np.empty((T, K * nfake))\n",
    "\n",
    "    for kk in xrange(K):\n",
    "\n",
    "        # draw nfake transition matrices from posterior\n",
    "        fakeA = np.empty(A.post.shape[:2] + (nfake,))\n",
    "        for idx in xrange(fakeA.shape[1]):\n",
    "            fakeA[:, idx, :] = stats.dirichlet.rvs(A.post[:, idx, kk], size=nfake).T\n",
    "\n",
    "        # same for pi\n",
    "        fakepi = np.empty(pi.post.shape[:1] + (nfake,))\n",
    "        fakepi = stats.dirichlet.rvs(pi.post[..., kk], size=nfake).T\n",
    "\n",
    "        # get poster parameters for duration distribution\n",
    "        mu = dnode.parent.post_mean[:, kk]\n",
    "        lam = dnode.parent.post_scaling[:, kk]\n",
    "        alpha = dnode.parent.post_shape[:, kk]\n",
    "        beta = dnode.parent.post_rate[:, kk]\n",
    "\n",
    "        for idx in xrange(nfake):\n",
    "            fakechains[:, kk * nfake + idx] = make_chain(fakeA[..., idx], fakepi[..., idx], mu, lam, alpha, beta)\n",
    "\n",
    "    return fakechains"
   ]
  },
  {
   "cell_type": "code",
   "execution_count": null,
   "metadata": {
    "collapsed": false
   },
   "outputs": [],
   "source": [
    "%%time\n",
    "nfake = 100  # number of fake sequences for each chain\n",
    "fchains = generate_fake_chains(nfake)"
   ]
  },
  {
   "cell_type": "code",
   "execution_count": null,
   "metadata": {
    "collapsed": false
   },
   "outputs": [],
   "source": [
    "trng = slice(1500, 2000)\n",
    "matshow(edf.iloc[trng, :-K].values.T, vmin=0, vmax=1);\n",
    "\n",
    "# zoom in on inferred\n",
    "matshow(edf.iloc[trng, -K:].values.T, vmin=0, vmax=1);\n",
    "\n",
    "# use MPM\n",
    "matshow(medf.iloc[trng, -K:].values.T, vmin=0, vmax=1);\n",
    "\n",
    "# use fake chains\n",
    "matshow(fchains[trng].T, vmin=0, vmax=1);\n",
    "plt.gcf().set_size_inches([18, 4])"
   ]
  },
  {
   "cell_type": "markdown",
   "metadata": {},
   "source": [
    "Calculate overlap with actual ethogram:"
   ]
  },
  {
   "cell_type": "code",
   "execution_count": null,
   "metadata": {
    "collapsed": false
   },
   "outputs": [],
   "source": [
    "fmatch = (edf.T.dot(fchains) + (1 - edf.T).dot(1 - fchains)) / T\n",
    "fmismatch = (edf.T.dot(1 - fchains) + (1 - edf.T).dot(fchains)) / T\n",
    "foverlap = np.maximum(fmatch, fmismatch)"
   ]
  },
  {
   "cell_type": "code",
   "execution_count": null,
   "metadata": {
    "collapsed": false
   },
   "outputs": [],
   "source": [
    "row_labels = edf.columns[:]\n",
    "matshow(foverlap.values.T, vmin=0.5, vmax=1)\n",
    "plt.ylabel('inferred factor')\n",
    "plt.xlabel('labeled factor')\n",
    "plt.colorbar();\n",
    "\n",
    "# add column names\n",
    "ax = plt.gca()\n",
    "ax.xaxis.set_label_position('top')\n",
    "plt.tick_params(axis='x', which='both', top='off', bottom='off', \n",
    "                labelbottom='on', labeltop='off', pad=5);\n",
    "plt.xticks(xrange(len(row_labels)), row_labels, rotation='vertical', horizontalalignment='center');\n",
    "\n",
    "plt.gcf().set_size_inches([20, 8])"
   ]
  },
  {
   "cell_type": "code",
   "execution_count": null,
   "metadata": {
    "collapsed": false
   },
   "outputs": [],
   "source": [
    "foverlap.max(axis=1)"
   ]
  },
  {
   "cell_type": "code",
   "execution_count": null,
   "metadata": {
    "collapsed": false
   },
   "outputs": [],
   "source": [
    "foverlap.mean(axis=1)"
   ]
  },
  {
   "cell_type": "code",
   "execution_count": null,
   "metadata": {
    "collapsed": false
   },
   "outputs": [],
   "source": [
    "fov = foverlap.T.iloc[:, :-K] * 100\n",
    "mov = moverlap.iloc[-K:, :-K] * 100\n",
    "with sns.axes_style('whitegrid'):\n",
    "    # plot data from the null distribution\n",
    "    sns.boxplot(fov, vert=False, whis=1000, color='gray', label='Null\\nDistribution')\n",
    "    \n",
    "    colors = sns.color_palette(name='Set2', n_colors=K)\n",
    "    # plot data from fitted categories\n",
    "    for idx in range(mov.shape[0]):\n",
    "        dat = mov.iloc[idx].values\n",
    "        label = 'Feature {}'.format(idx)\n",
    "        plt.scatter(dat, np.arange(dat.size) + 1, color=colors[idx], label=label)\n",
    "        \n",
    "    plt.xlim(50, 100)\n",
    "    plt.title('Data-derived features match expert labels better than random features')\n",
    "    plt.xlabel('(Unsigned) Percent Overlap with Expert Label')\n",
    "    plt.ylabel('Expert Label')\n",
    "    plt.gcf().set_size_inches([8, 20])\n",
    "    plt.legend(bbox_to_anchor=(1.25, 1.0))\n",
    "    plt.gcf().tight_layout()\n",
    "    plt.savefig(\"output/figs/overlap.svg\")"
   ]
  },
  {
   "cell_type": "code",
   "execution_count": null,
   "metadata": {
    "collapsed": true
   },
   "outputs": [],
   "source": []
  }
 ],
 "metadata": {
  "kernelspec": {
   "display_name": "Python 2",
   "language": "python",
   "name": "python2"
  },
  "language_info": {
   "codemirror_mode": {
    "name": "ipython",
    "version": 2
   },
   "file_extension": ".py",
   "mimetype": "text/x-python",
   "name": "python",
   "nbconvert_exporter": "python",
   "pygments_lexer": "ipython2",
   "version": "2.7.9"
  }
 },
 "nbformat": 4,
 "nbformat_minor": 0
}
