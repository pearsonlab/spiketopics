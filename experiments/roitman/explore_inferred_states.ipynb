{
 "cells": [
  {
   "cell_type": "code",
   "execution_count": 1,
   "metadata": {
    "collapsed": false
   },
   "outputs": [],
   "source": [
    "from __future__ import division\n",
    "import numpy as np\n",
    "import pandas as pd\n",
    "import matplotlib.pyplot as plt\n",
    "import seaborn as sns\n",
    "import matplotlib.cm as cm\n",
    "import cPickle as pickle\n",
    "from spiketopics.helpers import *\n",
    "\n",
    "%matplotlib inline\n",
    "sns.set_style('darkgrid')"
   ]
  },
  {
   "cell_type": "markdown",
   "metadata": {},
   "source": [
    "# Load in data"
   ]
  },
  {
   "cell_type": "code",
   "execution_count": 2,
   "metadata": {
    "collapsed": false
   },
   "outputs": [],
   "source": [
    "infile = 'data/fitted_model_object.pkl'\n",
    "gpm = pickle.load(open(infile, 'rb'))\n",
    "dt = 0.020"
   ]
  },
  {
   "cell_type": "code",
   "execution_count": 3,
   "metadata": {
    "collapsed": false
   },
   "outputs": [
    {
     "data": {
      "text/html": [
       "<div style=\"max-height:1000px;max-width:1500px;overflow:auto;\">\n",
       "<table border=\"1\" class=\"dataframe\">\n",
       "  <thead>\n",
       "    <tr style=\"text-align: right;\">\n",
       "      <th></th>\n",
       "      <th>unit</th>\n",
       "      <th>time</th>\n",
       "      <th>count</th>\n",
       "      <th>lam0</th>\n",
       "      <th>lam1</th>\n",
       "    </tr>\n",
       "  </thead>\n",
       "  <tbody>\n",
       "    <tr>\n",
       "      <th>0</th>\n",
       "      <td> 0</td>\n",
       "      <td> 0</td>\n",
       "      <td> 0</td>\n",
       "      <td>-0.330602</td>\n",
       "      <td>-0.309942</td>\n",
       "    </tr>\n",
       "    <tr>\n",
       "      <th>1</th>\n",
       "      <td> 0</td>\n",
       "      <td> 0</td>\n",
       "      <td> 0</td>\n",
       "      <td>-0.330602</td>\n",
       "      <td>-0.309942</td>\n",
       "    </tr>\n",
       "    <tr>\n",
       "      <th>2</th>\n",
       "      <td> 0</td>\n",
       "      <td> 0</td>\n",
       "      <td> 1</td>\n",
       "      <td>-0.385702</td>\n",
       "      <td>-0.427034</td>\n",
       "    </tr>\n",
       "    <tr>\n",
       "      <th>3</th>\n",
       "      <td> 0</td>\n",
       "      <td> 0</td>\n",
       "      <td> 0</td>\n",
       "      <td>-0.330602</td>\n",
       "      <td>-0.309942</td>\n",
       "    </tr>\n",
       "    <tr>\n",
       "      <th>4</th>\n",
       "      <td> 0</td>\n",
       "      <td> 0</td>\n",
       "      <td> 1</td>\n",
       "      <td>-0.385702</td>\n",
       "      <td>-0.427034</td>\n",
       "    </tr>\n",
       "  </tbody>\n",
       "</table>\n",
       "</div>"
      ],
      "text/plain": [
       "   unit  time  count      lam0      lam1\n",
       "0     0     0      0 -0.330602 -0.309942\n",
       "1     0     0      0 -0.330602 -0.309942\n",
       "2     0     0      1 -0.385702 -0.427034\n",
       "3     0     0      0 -0.330602 -0.309942\n",
       "4     0     0      1 -0.385702 -0.427034"
      ]
     },
     "execution_count": 3,
     "metadata": {},
     "output_type": "execute_result"
    }
   ],
   "source": [
    "gpm.Nframe.head()"
   ]
  },
  {
   "cell_type": "code",
   "execution_count": 4,
   "metadata": {
    "collapsed": false
   },
   "outputs": [],
   "source": [
    "if gpm.regressors:\n",
    "    gpm.Xframe.head()"
   ]
  },
  {
   "cell_type": "markdown",
   "metadata": {},
   "source": [
    "# Plot inferred categories as matrix"
   ]
  },
  {
   "cell_type": "code",
   "execution_count": 5,
   "metadata": {
    "collapsed": false
   },
   "outputs": [
    {
     "name": "stdout",
     "output_type": "stream",
     "text": [
      "(624, 10)\n"
     ]
    }
   ],
   "source": [
    "xi = gpm.nodes['HMM'].nodes['z'].z[1].copy()\n",
    "T, K = xi.shape\n",
    "print xi.shape"
   ]
  },
  {
   "cell_type": "code",
   "execution_count": 6,
   "metadata": {
    "collapsed": false
   },
   "outputs": [],
   "source": [
    "# flip regressors so they are mostly 0\n",
    "#for col in xrange(xi.shape[1]):\n",
    "#    if np.mean(xi[:, col]) > 0.5:\n",
    "#        xi[:, col] = 1 - xi[:, col]"
   ]
  },
  {
   "cell_type": "code",
   "execution_count": 7,
   "metadata": {
    "collapsed": false
   },
   "outputs": [
    {
     "data": {
      "image/png": "[encoded data removed]",
      "text/plain": [
       "<matplotlib.figure.Figure at 0x106800dd0>"
      ]
     },
     "metadata": {},
     "output_type": "display_data"
    }
   ],
   "source": [
    "matshow(xi[:500].T, vmin=0, vmax=1);\n",
    "plt.colorbar();"
   ]
  },
  {
   "cell_type": "markdown",
   "metadata": {},
   "source": [
    "## Make $\\xi$ dataframe:"
   ]
  },
  {
   "cell_type": "code",
   "execution_count": 8,
   "metadata": {
    "collapsed": false
   },
   "outputs": [],
   "source": [
    "xif = pd.DataFrame(xi)\n",
    "xif.columns = ['Z' + str(k) for k in range(K)]\n",
    "xif.index.name = 'time'\n",
    "xif = xif.reset_index()"
   ]
  },
  {
   "cell_type": "markdown",
   "metadata": {},
   "source": [
    "# Posteriors for effects"
   ]
  },
  {
   "cell_type": "markdown",
   "metadata": {},
   "source": [
    "## Baselines"
   ]
  },
  {
   "cell_type": "code",
   "execution_count": 9,
   "metadata": {
    "collapsed": false
   },
   "outputs": [
    {
     "data": {
      "image/png": "[encoded data removed]",
      "text/plain": [
       "<matplotlib.figure.Figure at 0x118166790>"
      ]
     },
     "metadata": {},
     "output_type": "display_data"
    }
   ],
   "source": [
    "plt.figure(figsize=(14, 4))\n",
    "\n",
    "th = gpm.nodes['baseline_mean']\n",
    "cc = gpm.nodes['baseline_shape']\n",
    "th_pars = [th.post_shape, th.post_rate]\n",
    "cc_pars = [cc.post_shape, cc.post_rate]\n",
    "samples = gamma_from_hypers(th_pars, cc_pars, 1e5)\n",
    "\n",
    "plt.subplot(1, 3, 1)\n",
    "xx = np.linspace(0, 5000, 500)\n",
    "plt.plot(xx, stats.invgamma.pdf(xx, a=th_pars[0], scale=th_pars[1]/dt))\n",
    "plt.title('Baseline mean parameter posterior');\n",
    "\n",
    "plt.subplot(1, 3, 2)\n",
    "xx = np.linspace(0, 20, 500)\n",
    "plt.plot(xx, stats.invgamma.pdf(xx, a=cc_pars[0], scale=cc_pars[1]))\n",
    "plt.title('Baseline variance parameter posterior');\n",
    "\n",
    "plt.subplot(1, 3, 3)\n",
    "sns.kdeplot(samples / dt, gridsize=1e4, clip=(0, 100))\n",
    "plt.title('baseline posterior distribution')\n",
    "plt.xlabel('Firing rate (Hz)')\n",
    "plt.xlim(0, 100);"
   ]
  },
  {
   "cell_type": "markdown",
   "metadata": {},
   "source": [
    "## Regressors"
   ]
  },
  {
   "cell_type": "code",
   "execution_count": 10,
   "metadata": {
    "collapsed": false
   },
   "outputs": [],
   "source": [
    "if gpm.regressors:\n",
    "    plt.figure(figsize=(8, 6));\n",
    "    inferred_means = gpm.nodes['fr_regressors'].expected_x()\n",
    "    R = inferred_means.shape[1]\n",
    "    for r in xrange(R):\n",
    "        plt.hist(inferred_means[:, r], bins=50, normed=True, alpha=0.25, label='X' + str(r))\n",
    "    plt.title('Regression effects');\n",
    "    plt.legend()\n",
    "    plt.ylim(0, 5);\n",
    "    plt.xlim(0, 5);"
   ]
  },
  {
   "cell_type": "markdown",
   "metadata": {},
   "source": [
    "## Latent Categories"
   ]
  },
  {
   "cell_type": "code",
   "execution_count": 11,
   "metadata": {
    "collapsed": false
   },
   "outputs": [
    {
     "data": {
      "image/png": "[encoded data removed]",
      "text/plain": [
       "<matplotlib.figure.Figure at 0x111bf3d90>"
      ]
     },
     "metadata": {},
     "output_type": "display_data"
    }
   ],
   "source": [
    "plt.figure(figsize=(16, 4))\n",
    "\n",
    "th = gpm.nodes['fr_latents_mean']\n",
    "cc = gpm.nodes['fr_latents_shape']\n",
    "\n",
    "th_pars = np.c_[th.post_shape, th.post_rate].T\n",
    "cc_pars = np.c_[cc.post_shape, cc.post_rate].T\n",
    "\n",
    "plt.subplot(1, 3, 1)\n",
    "xx = np.linspace(0, 2, 500)\n",
    "for kk in xrange(K):\n",
    "    plt.plot(xx, stats.invgamma.pdf(xx, a=th_pars[0, kk], scale=th_pars[1, kk]), label='Z' + str(kk))\n",
    "plt.legend()\n",
    "plt.title('effect mean posterior');\n",
    "\n",
    "plt.subplot(1, 3, 2)\n",
    "xx = np.linspace(0, 5, 500)\n",
    "for kk in xrange(K):\n",
    "    plt.plot(xx, stats.invgamma.pdf(xx, a=cc_pars[0, kk], scale=cc_pars[1, kk]), label='Z' + str(kk))\n",
    "plt.legend()\n",
    "plt.title('effect variance parameter posterior');\n",
    "\n",
    "plt.subplot(1, 3, 3)\n",
    "for kk in xrange(K):\n",
    "    samples = gamma_from_hypers(th_pars[:, kk], cc_pars[:, kk], 1e5)\n",
    "    sns.kdeplot(samples, gridsize=1e4, clip=(0, 10), label='Z' + str(kk))\n",
    "plt.legend()\n",
    "plt.title(r'$\\lambda$ effect posterior distribution')\n",
    "plt.xlim(0, 2);\n",
    "plt.ylim(0, 5);"
   ]
  },
  {
   "cell_type": "code",
   "execution_count": 12,
   "metadata": {
    "collapsed": false
   },
   "outputs": [
    {
     "data": {
      "image/png": "[encoded data removed]",
      "text/plain": [
       "<matplotlib.figure.Figure at 0x10ef5f990>"
      ]
     },
     "metadata": {},
     "output_type": "display_data"
    }
   ],
   "source": [
    "plt.figure(figsize=(8, 6))\n",
    "\n",
    "inferred_effects = gpm.nodes['fr_latents'].expected_x()\n",
    "for kk in xrange(K):\n",
    "    plt.hist(inferred_effects[..., kk], bins=50, normed=True, alpha=0.25, label='Z' + str(kk));\n",
    "plt.legend();\n",
    "plt.title('Firing rate effects');\n",
    "plt.ylim(0, 5);"
   ]
  },
  {
   "cell_type": "markdown",
   "metadata": {},
   "source": [
    "## Overdispersion"
   ]
  },
  {
   "cell_type": "code",
   "execution_count": 13,
   "metadata": {
    "collapsed": false
   },
   "outputs": [
    {
     "data": {
      "image/png": "[encoded data removed]",
      "text/plain": [
       "<matplotlib.figure.Figure at 0x111b13bd0>"
      ]
     },
     "metadata": {},
     "output_type": "display_data"
    }
   ],
   "source": [
    "if gpm.overdispersion:\n",
    "    plt.figure(figsize=(8, 6))\n",
    "\n",
    "    inferred_means = gpm.nodes['overdispersion'].expected_x().ravel()\n",
    "    plt.hist(inferred_means, bins=500, normed=True, alpha=0.25);\n",
    "    plt.title('Overdispersion effects');\n",
    "    plt.ylim(0, 2);"
   ]
  },
  {
   "cell_type": "markdown",
   "metadata": {},
   "source": [
    "# Load and prepare coded features:"
   ]
  },
  {
   "cell_type": "markdown",
   "metadata": {},
   "source": [
    "Our goal here is to load the ethogram, join it to the inferred ethogram, and perform some comparisons to see if any of our discovered categories match hand-labeled categories from the ethogram."
   ]
  },
  {
   "cell_type": "code",
   "execution_count": 14,
   "metadata": {
    "collapsed": false
   },
   "outputs": [],
   "source": [
    "codefile = 'data/roitman_fd_data.csv'\n",
    "code = pd.read_csv(codefile).groupby('utime').max().reset_index()"
   ]
  },
  {
   "cell_type": "code",
   "execution_count": 15,
   "metadata": {
    "collapsed": false
   },
   "outputs": [
    {
     "data": {
      "text/html": [
       "<div style=\"max-height:1000px;max-width:1500px;overflow:auto;\">\n",
       "<table border=\"1\" class=\"dataframe\">\n",
       "  <thead>\n",
       "    <tr style=\"text-align: right;\">\n",
       "      <th></th>\n",
       "      <th>utime</th>\n",
       "      <th>count</th>\n",
       "      <th>trial</th>\n",
       "      <th>coherence</th>\n",
       "      <th>fixation_on</th>\n",
       "      <th>fixation</th>\n",
       "      <th>target_on</th>\n",
       "      <th>stim_on</th>\n",
       "      <th>stim_off</th>\n",
       "      <th>fixation_off</th>\n",
       "      <th>...</th>\n",
       "      <th>unit</th>\n",
       "      <th>Xstim</th>\n",
       "      <th>Xcoh0</th>\n",
       "      <th>Xcoh32</th>\n",
       "      <th>Xcoh64</th>\n",
       "      <th>Xcoh128</th>\n",
       "      <th>Xcoh256</th>\n",
       "      <th>Xcoh512</th>\n",
       "      <th>Xinto</th>\n",
       "      <th>Xout</th>\n",
       "    </tr>\n",
       "  </thead>\n",
       "  <tbody>\n",
       "    <tr>\n",
       "      <th>0</th>\n",
       "      <td> 0</td>\n",
       "      <td> 3</td>\n",
       "      <td> 69</td>\n",
       "      <td> 0</td>\n",
       "      <td> 0</td>\n",
       "      <td> 467</td>\n",
       "      <td> 1026</td>\n",
       "      <td> 1234</td>\n",
       "      <td> 2282</td>\n",
       "      <td> 3654</td>\n",
       "      <td>...</td>\n",
       "      <td> 626</td>\n",
       "      <td> False</td>\n",
       "      <td> False</td>\n",
       "      <td> False</td>\n",
       "      <td> False</td>\n",
       "      <td> False</td>\n",
       "      <td> False</td>\n",
       "      <td> False</td>\n",
       "      <td> False</td>\n",
       "      <td> False</td>\n",
       "    </tr>\n",
       "    <tr>\n",
       "      <th>1</th>\n",
       "      <td> 1</td>\n",
       "      <td> 4</td>\n",
       "      <td> 69</td>\n",
       "      <td> 0</td>\n",
       "      <td> 0</td>\n",
       "      <td> 467</td>\n",
       "      <td> 1026</td>\n",
       "      <td> 1234</td>\n",
       "      <td> 2282</td>\n",
       "      <td> 3654</td>\n",
       "      <td>...</td>\n",
       "      <td> 626</td>\n",
       "      <td>  True</td>\n",
       "      <td>  True</td>\n",
       "      <td> False</td>\n",
       "      <td> False</td>\n",
       "      <td> False</td>\n",
       "      <td> False</td>\n",
       "      <td> False</td>\n",
       "      <td>  True</td>\n",
       "      <td> False</td>\n",
       "    </tr>\n",
       "    <tr>\n",
       "      <th>2</th>\n",
       "      <td> 2</td>\n",
       "      <td> 5</td>\n",
       "      <td> 69</td>\n",
       "      <td> 0</td>\n",
       "      <td> 0</td>\n",
       "      <td> 467</td>\n",
       "      <td> 1026</td>\n",
       "      <td> 1234</td>\n",
       "      <td> 2282</td>\n",
       "      <td> 3654</td>\n",
       "      <td>...</td>\n",
       "      <td> 626</td>\n",
       "      <td>  True</td>\n",
       "      <td>  True</td>\n",
       "      <td> False</td>\n",
       "      <td> False</td>\n",
       "      <td> False</td>\n",
       "      <td> False</td>\n",
       "      <td> False</td>\n",
       "      <td>  True</td>\n",
       "      <td> False</td>\n",
       "    </tr>\n",
       "    <tr>\n",
       "      <th>3</th>\n",
       "      <td> 3</td>\n",
       "      <td> 4</td>\n",
       "      <td> 69</td>\n",
       "      <td> 0</td>\n",
       "      <td> 0</td>\n",
       "      <td> 467</td>\n",
       "      <td> 1026</td>\n",
       "      <td> 1234</td>\n",
       "      <td> 2282</td>\n",
       "      <td> 3654</td>\n",
       "      <td>...</td>\n",
       "      <td> 626</td>\n",
       "      <td>  True</td>\n",
       "      <td>  True</td>\n",
       "      <td> False</td>\n",
       "      <td> False</td>\n",
       "      <td> False</td>\n",
       "      <td> False</td>\n",
       "      <td> False</td>\n",
       "      <td>  True</td>\n",
       "      <td> False</td>\n",
       "    </tr>\n",
       "    <tr>\n",
       "      <th>4</th>\n",
       "      <td> 4</td>\n",
       "      <td> 4</td>\n",
       "      <td> 69</td>\n",
       "      <td> 0</td>\n",
       "      <td> 0</td>\n",
       "      <td> 467</td>\n",
       "      <td> 1026</td>\n",
       "      <td> 1234</td>\n",
       "      <td> 2282</td>\n",
       "      <td> 3654</td>\n",
       "      <td>...</td>\n",
       "      <td> 626</td>\n",
       "      <td>  True</td>\n",
       "      <td>  True</td>\n",
       "      <td> False</td>\n",
       "      <td> False</td>\n",
       "      <td> False</td>\n",
       "      <td> False</td>\n",
       "      <td> False</td>\n",
       "      <td>  True</td>\n",
       "      <td> False</td>\n",
       "    </tr>\n",
       "  </tbody>\n",
       "</table>\n",
       "<p>5 rows × 24 columns</p>\n",
       "</div>"
      ],
      "text/plain": [
       "   utime  count  trial  coherence  fixation_on  fixation  target_on  stim_on  \\\n",
       "0      0      3     69          0            0       467       1026     1234   \n",
       "1      1      4     69          0            0       467       1026     1234   \n",
       "2      2      5     69          0            0       467       1026     1234   \n",
       "3      3      4     69          0            0       467       1026     1234   \n",
       "4      4      4     69          0            0       467       1026     1234   \n",
       "\n",
       "   stim_off  fixation_off  ...    unit  Xstim  Xcoh0  Xcoh32  Xcoh64 Xcoh128  \\\n",
       "0      2282          3654  ...     626  False  False   False   False   False   \n",
       "1      2282          3654  ...     626   True   True   False   False   False   \n",
       "2      2282          3654  ...     626   True   True   False   False   False   \n",
       "3      2282          3654  ...     626   True   True   False   False   False   \n",
       "4      2282          3654  ...     626   True   True   False   False   False   \n",
       "\n",
       "  Xcoh256 Xcoh512  Xinto   Xout  \n",
       "0   False   False  False  False  \n",
       "1   False   False   True  False  \n",
       "2   False   False   True  False  \n",
       "3   False   False   True  False  \n",
       "4   False   False   True  False  \n",
       "\n",
       "[5 rows x 24 columns]"
      ]
     },
     "execution_count": 15,
     "metadata": {},
     "output_type": "execute_result"
    }
   ],
   "source": [
    "code.head()"
   ]
  },
  {
   "cell_type": "code",
   "execution_count": 16,
   "metadata": {
    "collapsed": true
   },
   "outputs": [],
   "source": [
    "# convert bools to floats\n",
    "for col in code:\n",
    "    code[col] = code[col].astype('float')"
   ]
  },
  {
   "cell_type": "code",
   "execution_count": 17,
   "metadata": {
    "collapsed": false
   },
   "outputs": [
    {
     "data": {
      "text/plain": [
       "Index([u'utime', u'count', u'trial', u'coherence', u'fixation_on', u'fixation', u'target_on', u'stim_on', u'stim_off', u'fixation_off', u'saccade', u'reward', u'choice', u'correct', u'unit', u'Xstim', u'Xcoh0', u'Xcoh32', u'Xcoh64', u'Xcoh128', u'Xcoh256', u'Xcoh512', u'Xinto', u'Xout', u'time', u'Z0', u'Z1', u'Z2', u'Z3', u'Z4', u'Z5', u'Z6', u'Z7', u'Z8', u'Z9'], dtype='object')"
      ]
     },
     "execution_count": 17,
     "metadata": {},
     "output_type": "execute_result"
    }
   ],
   "source": [
    "# merge labeled and inferred etho on movie and frame columns\n",
    "edf = pd.merge(code, xif, how='right', left_on='utime', right_on='time')\n",
    "edf.columns"
   ]
  },
  {
   "cell_type": "code",
   "execution_count": 18,
   "metadata": {
    "collapsed": false
   },
   "outputs": [],
   "source": [
    "# get rid of categories that are either identifiers or have non-binary entries\n",
    "to_drop = [col for col in edf.columns if not ('Z' in col or 'X' in col)]\n",
    "edf = edf.drop(to_drop, axis=1)"
   ]
  },
  {
   "cell_type": "code",
   "execution_count": 19,
   "metadata": {
    "collapsed": false
   },
   "outputs": [
    {
     "data": {
      "text/html": [
       "<div style=\"max-height:1000px;max-width:1500px;overflow:auto;\">\n",
       "<table border=\"1\" class=\"dataframe\">\n",
       "  <thead>\n",
       "    <tr style=\"text-align: right;\">\n",
       "      <th></th>\n",
       "      <th>Xstim</th>\n",
       "      <th>Xcoh0</th>\n",
       "      <th>Xcoh32</th>\n",
       "      <th>Xcoh64</th>\n",
       "      <th>Xcoh128</th>\n",
       "      <th>Xcoh256</th>\n",
       "      <th>Xcoh512</th>\n",
       "      <th>Xinto</th>\n",
       "      <th>Xout</th>\n",
       "      <th>Z0</th>\n",
       "      <th>Z1</th>\n",
       "      <th>Z2</th>\n",
       "      <th>Z3</th>\n",
       "      <th>Z4</th>\n",
       "      <th>Z5</th>\n",
       "      <th>Z6</th>\n",
       "      <th>Z7</th>\n",
       "      <th>Z8</th>\n",
       "      <th>Z9</th>\n",
       "    </tr>\n",
       "  </thead>\n",
       "  <tbody>\n",
       "    <tr>\n",
       "      <th>0</th>\n",
       "      <td> 0</td>\n",
       "      <td> 0</td>\n",
       "      <td> 0</td>\n",
       "      <td> 0</td>\n",
       "      <td> 0</td>\n",
       "      <td> 0</td>\n",
       "      <td> 0</td>\n",
       "      <td> 0</td>\n",
       "      <td> 0</td>\n",
       "      <td> 0.000317</td>\n",
       "      <td> 0.008500</td>\n",
       "      <td> 0.916539</td>\n",
       "      <td> 2.127640e-04</td>\n",
       "      <td> 0.000043</td>\n",
       "      <td> 0.043482</td>\n",
       "      <td> 0.043514</td>\n",
       "      <td> 0.041877</td>\n",
       "      <td> 0.039544</td>\n",
       "      <td> 0.005357</td>\n",
       "    </tr>\n",
       "    <tr>\n",
       "      <th>1</th>\n",
       "      <td> 1</td>\n",
       "      <td> 1</td>\n",
       "      <td> 0</td>\n",
       "      <td> 0</td>\n",
       "      <td> 0</td>\n",
       "      <td> 0</td>\n",
       "      <td> 0</td>\n",
       "      <td> 1</td>\n",
       "      <td> 0</td>\n",
       "      <td> 0.000043</td>\n",
       "      <td> 0.015053</td>\n",
       "      <td> 0.992676</td>\n",
       "      <td> 2.591838e-06</td>\n",
       "      <td> 0.000042</td>\n",
       "      <td> 0.224006</td>\n",
       "      <td> 0.132962</td>\n",
       "      <td> 0.344569</td>\n",
       "      <td> 0.349573</td>\n",
       "      <td> 0.002221</td>\n",
       "    </tr>\n",
       "    <tr>\n",
       "      <th>2</th>\n",
       "      <td> 1</td>\n",
       "      <td> 1</td>\n",
       "      <td> 0</td>\n",
       "      <td> 0</td>\n",
       "      <td> 0</td>\n",
       "      <td> 0</td>\n",
       "      <td> 0</td>\n",
       "      <td> 1</td>\n",
       "      <td> 0</td>\n",
       "      <td> 0.000250</td>\n",
       "      <td> 0.020277</td>\n",
       "      <td> 0.998010</td>\n",
       "      <td> 1.418449e-05</td>\n",
       "      <td> 0.000005</td>\n",
       "      <td> 0.354225</td>\n",
       "      <td> 0.222341</td>\n",
       "      <td> 0.501415</td>\n",
       "      <td> 0.537119</td>\n",
       "      <td> 0.001951</td>\n",
       "    </tr>\n",
       "    <tr>\n",
       "      <th>3</th>\n",
       "      <td> 1</td>\n",
       "      <td> 1</td>\n",
       "      <td> 0</td>\n",
       "      <td> 0</td>\n",
       "      <td> 0</td>\n",
       "      <td> 0</td>\n",
       "      <td> 0</td>\n",
       "      <td> 1</td>\n",
       "      <td> 0</td>\n",
       "      <td> 0.000005</td>\n",
       "      <td> 0.038064</td>\n",
       "      <td> 0.999969</td>\n",
       "      <td> 4.567693e-08</td>\n",
       "      <td> 0.000018</td>\n",
       "      <td> 0.358846</td>\n",
       "      <td> 0.221673</td>\n",
       "      <td> 0.522339</td>\n",
       "      <td> 0.621438</td>\n",
       "      <td> 0.001659</td>\n",
       "    </tr>\n",
       "    <tr>\n",
       "      <th>4</th>\n",
       "      <td> 1</td>\n",
       "      <td> 1</td>\n",
       "      <td> 0</td>\n",
       "      <td> 0</td>\n",
       "      <td> 0</td>\n",
       "      <td> 0</td>\n",
       "      <td> 0</td>\n",
       "      <td> 1</td>\n",
       "      <td> 0</td>\n",
       "      <td> 0.000125</td>\n",
       "      <td> 0.077397</td>\n",
       "      <td> 0.999640</td>\n",
       "      <td> 1.585686e-06</td>\n",
       "      <td> 0.000006</td>\n",
       "      <td> 0.412957</td>\n",
       "      <td> 0.267347</td>\n",
       "      <td> 0.568470</td>\n",
       "      <td> 0.680596</td>\n",
       "      <td> 0.002030</td>\n",
       "    </tr>\n",
       "  </tbody>\n",
       "</table>\n",
       "</div>"
      ],
      "text/plain": [
       "   Xstim  Xcoh0  Xcoh32  Xcoh64  Xcoh128  Xcoh256  Xcoh512  Xinto  Xout  \\\n",
       "0      0      0       0       0        0        0        0      0     0   \n",
       "1      1      1       0       0        0        0        0      1     0   \n",
       "2      1      1       0       0        0        0        0      1     0   \n",
       "3      1      1       0       0        0        0        0      1     0   \n",
       "4      1      1       0       0        0        0        0      1     0   \n",
       "\n",
       "         Z0        Z1        Z2            Z3        Z4        Z5        Z6  \\\n",
       "0  0.000317  0.008500  0.916539  2.127640e-04  0.000043  0.043482  0.043514   \n",
       "1  0.000043  0.015053  0.992676  2.591838e-06  0.000042  0.224006  0.132962   \n",
       "2  0.000250  0.020277  0.998010  1.418449e-05  0.000005  0.354225  0.222341   \n",
       "3  0.000005  0.038064  0.999969  4.567693e-08  0.000018  0.358846  0.221673   \n",
       "4  0.000125  0.077397  0.999640  1.585686e-06  0.000006  0.412957  0.267347   \n",
       "\n",
       "         Z7        Z8        Z9  \n",
       "0  0.041877  0.039544  0.005357  \n",
       "1  0.344569  0.349573  0.002221  \n",
       "2  0.501415  0.537119  0.001951  \n",
       "3  0.522339  0.621438  0.001659  \n",
       "4  0.568470  0.680596  0.002030  "
      ]
     },
     "execution_count": 19,
     "metadata": {},
     "output_type": "execute_result"
    }
   ],
   "source": [
    "edf.head()"
   ]
  },
  {
   "cell_type": "markdown",
   "metadata": {},
   "source": [
    "# View results:"
   ]
  },
  {
   "cell_type": "code",
   "execution_count": 20,
   "metadata": {
    "collapsed": false
   },
   "outputs": [
    {
     "data": {
      "image/png": "[encoded data removed]",
      "text/plain": [
       "<matplotlib.figure.Figure at 0x10ee253d0>"
      ]
     },
     "metadata": {},
     "output_type": "display_data"
    }
   ],
   "source": [
    "# plot a section in time; each row is a regressor; bottom rows are inferred categories\n",
    "trng = slice(None)\n",
    "matshow(edf.iloc[trng].values.T, vmin=0, vmax=1);\n",
    "col_labels = edf.columns\n",
    "plt.yticks(xrange(len(col_labels)), col_labels);\n",
    "plt.gcf().set_size_inches([20, 5])"
   ]
  },
  {
   "cell_type": "markdown",
   "metadata": {},
   "source": [
    "## Overlap analysis:"
   ]
  },
  {
   "cell_type": "markdown",
   "metadata": {},
   "source": [
    "Define the overlap as the maximum of the match or mismatch percentage. That is, if $x$ and $y$ are binary vectors, \n",
    "$$\n",
    "\\mathrm{overlap} = \\max \\{ \\mathbb{E}[xy + (1-x)(1-y)], \\mathbb{E}[(1-x)y + x(1-y)]\\}\n",
    "$$"
   ]
  },
  {
   "cell_type": "code",
   "execution_count": 21,
   "metadata": {
    "collapsed": false
   },
   "outputs": [],
   "source": [
    "match = (edf.T.dot(edf) + (1 - edf.T).dot(1 - edf)) / T\n",
    "mismatch = (edf.T.dot(1 - edf) + (1 - edf.T).dot(edf)) / T\n",
    "overlap = np.maximum(match, mismatch)"
   ]
  },
  {
   "cell_type": "code",
   "execution_count": 22,
   "metadata": {
    "collapsed": false
   },
   "outputs": [
    {
     "data": {
      "image/png": "[encoded data removed]",
      "text/plain": [
       "<matplotlib.figure.Figure at 0x10eebb1d0>"
      ]
     },
     "metadata": {},
     "output_type": "display_data"
    }
   ],
   "source": [
    "row_labels = edf.columns[:-K]\n",
    "matshow(overlap.values[-K:,:-K]) #, vmin=0.5, vmax=1)\n",
    "plt.ylabel('inferred factor')\n",
    "plt.xlabel('labeled factor')\n",
    "plt.colorbar();\n",
    "\n",
    "# add column names\n",
    "ax = plt.gca()\n",
    "ax.xaxis.set_label_position('top')\n",
    "plt.tick_params(axis='x', which='both', top='off', bottom='off', \n",
    "                labelbottom='on', labeltop='off', pad=5)\n",
    "plt.xticks(xrange(len(row_labels)), row_labels, rotation='vertical', horizontalalignment='center');"
   ]
  },
  {
   "cell_type": "code",
   "execution_count": 23,
   "metadata": {
    "collapsed": false
   },
   "outputs": [
    {
     "data": {
      "text/html": [
       "<div style=\"max-height:1000px;max-width:1500px;overflow:auto;\">\n",
       "<table border=\"1\" class=\"dataframe\">\n",
       "  <thead>\n",
       "    <tr style=\"text-align: right;\">\n",
       "      <th></th>\n",
       "      <th>Xstim</th>\n",
       "      <th>Xcoh0</th>\n",
       "      <th>Xcoh32</th>\n",
       "      <th>Xcoh64</th>\n",
       "      <th>Xcoh128</th>\n",
       "      <th>Xcoh256</th>\n",
       "      <th>Xcoh512</th>\n",
       "      <th>Xinto</th>\n",
       "      <th>Xout</th>\n",
       "      <th>Z0</th>\n",
       "      <th>Z1</th>\n",
       "      <th>Z2</th>\n",
       "      <th>Z3</th>\n",
       "      <th>Z4</th>\n",
       "      <th>Z5</th>\n",
       "      <th>Z6</th>\n",
       "      <th>Z7</th>\n",
       "      <th>Z8</th>\n",
       "      <th>Z9</th>\n",
       "    </tr>\n",
       "  </thead>\n",
       "  <tbody>\n",
       "    <tr>\n",
       "      <th>Z0</th>\n",
       "      <td> 0.635100</td>\n",
       "      <td> 0.636123</td>\n",
       "      <td> 0.591476</td>\n",
       "      <td> 0.596095</td>\n",
       "      <td> 0.605826</td>\n",
       "      <td> 0.598869</td>\n",
       "      <td> 0.606660</td>\n",
       "      <td> 0.796146</td>\n",
       "      <td> 0.815076</td>\n",
       "      <td> 0.980066</td>\n",
       "      <td> 0.802897</td>\n",
       "      <td> 0.555522</td>\n",
       "      <td> 0.747658</td>\n",
       "      <td> 0.587474</td>\n",
       "      <td> 0.532247</td>\n",
       "      <td> 0.574283</td>\n",
       "      <td> 0.516908</td>\n",
       "      <td> 0.568532</td>\n",
       "      <td> 0.646372</td>\n",
       "    </tr>\n",
       "    <tr>\n",
       "      <th>Z1</th>\n",
       "      <td> 0.502285</td>\n",
       "      <td> 0.501551</td>\n",
       "      <td> 0.502730</td>\n",
       "      <td> 0.502722</td>\n",
       "      <td> 0.502140</td>\n",
       "      <td> 0.502760</td>\n",
       "      <td> 0.502631</td>\n",
       "      <td> 0.970197</td>\n",
       "      <td> 0.969739</td>\n",
       "      <td> 0.802897</td>\n",
       "      <td> 0.984861</td>\n",
       "      <td> 0.503706</td>\n",
       "      <td> 0.594065</td>\n",
       "      <td> 0.568710</td>\n",
       "      <td> 0.502718</td>\n",
       "      <td> 0.503778</td>\n",
       "      <td> 0.501819</td>\n",
       "      <td> 0.501418</td>\n",
       "      <td> 0.509543</td>\n",
       "    </tr>\n",
       "    <tr>\n",
       "      <th>Z2</th>\n",
       "      <td> 0.669581</td>\n",
       "      <td> 0.631630</td>\n",
       "      <td> 0.547206</td>\n",
       "      <td> 0.535154</td>\n",
       "      <td> 0.648905</td>\n",
       "      <td> 0.619186</td>\n",
       "      <td> 0.636812</td>\n",
       "      <td> 0.501856</td>\n",
       "      <td> 0.510030</td>\n",
       "      <td> 0.555522</td>\n",
       "      <td> 0.503706</td>\n",
       "      <td> 0.960201</td>\n",
       "      <td> 0.598302</td>\n",
       "      <td> 0.608954</td>\n",
       "      <td> 0.528323</td>\n",
       "      <td> 0.572193</td>\n",
       "      <td> 0.521725</td>\n",
       "      <td> 0.577156</td>\n",
       "      <td> 0.601466</td>\n",
       "    </tr>\n",
       "    <tr>\n",
       "      <th>Z3</th>\n",
       "      <td> 0.883917</td>\n",
       "      <td> 0.739696</td>\n",
       "      <td> 0.739699</td>\n",
       "      <td> 0.739687</td>\n",
       "      <td> 0.739691</td>\n",
       "      <td> 0.834139</td>\n",
       "      <td> 0.838903</td>\n",
       "      <td> 0.587229</td>\n",
       "      <td> 0.606459</td>\n",
       "      <td> 0.747658</td>\n",
       "      <td> 0.594065</td>\n",
       "      <td> 0.598302</td>\n",
       "      <td> 0.998110</td>\n",
       "      <td> 0.836436</td>\n",
       "      <td> 0.569759</td>\n",
       "      <td> 0.679250</td>\n",
       "      <td> 0.554276</td>\n",
       "      <td> 0.687822</td>\n",
       "      <td> 0.819298</td>\n",
       "    </tr>\n",
       "    <tr>\n",
       "      <th>Z4</th>\n",
       "      <td> 0.915736</td>\n",
       "      <td> 0.770798</td>\n",
       "      <td> 0.769812</td>\n",
       "      <td> 0.769804</td>\n",
       "      <td> 0.769836</td>\n",
       "      <td> 0.769821</td>\n",
       "      <td> 0.900481</td>\n",
       "      <td> 0.573565</td>\n",
       "      <td> 0.556043</td>\n",
       "      <td> 0.587474</td>\n",
       "      <td> 0.568710</td>\n",
       "      <td> 0.608954</td>\n",
       "      <td> 0.836436</td>\n",
       "      <td> 0.996036</td>\n",
       "      <td> 0.573255</td>\n",
       "      <td> 0.690944</td>\n",
       "      <td> 0.559349</td>\n",
       "      <td> 0.702637</td>\n",
       "      <td> 0.846567</td>\n",
       "    </tr>\n",
       "    <tr>\n",
       "      <th>Z5</th>\n",
       "      <td> 0.579601</td>\n",
       "      <td> 0.553493</td>\n",
       "      <td> 0.562272</td>\n",
       "      <td> 0.558366</td>\n",
       "      <td> 0.559740</td>\n",
       "      <td> 0.545063</td>\n",
       "      <td> 0.564186</td>\n",
       "      <td> 0.502246</td>\n",
       "      <td> 0.502697</td>\n",
       "      <td> 0.532247</td>\n",
       "      <td> 0.502718</td>\n",
       "      <td> 0.528323</td>\n",
       "      <td> 0.569759</td>\n",
       "      <td> 0.573255</td>\n",
       "      <td> 0.523797</td>\n",
       "      <td> 0.547424</td>\n",
       "      <td> 0.505132</td>\n",
       "      <td> 0.535304</td>\n",
       "      <td> 0.574261</td>\n",
       "    </tr>\n",
       "    <tr>\n",
       "      <th>Z6</th>\n",
       "      <td> 0.710267</td>\n",
       "      <td> 0.643698</td>\n",
       "      <td> 0.654545</td>\n",
       "      <td> 0.648692</td>\n",
       "      <td> 0.651644</td>\n",
       "      <td> 0.634620</td>\n",
       "      <td> 0.656692</td>\n",
       "      <td> 0.505313</td>\n",
       "      <td> 0.504452</td>\n",
       "      <td> 0.574283</td>\n",
       "      <td> 0.503778</td>\n",
       "      <td> 0.572193</td>\n",
       "      <td> 0.679250</td>\n",
       "      <td> 0.690944</td>\n",
       "      <td> 0.547424</td>\n",
       "      <td> 0.608084</td>\n",
       "      <td> 0.523464</td>\n",
       "      <td> 0.598731</td>\n",
       "      <td> 0.686943</td>\n",
       "    </tr>\n",
       "    <tr>\n",
       "      <th>Z7</th>\n",
       "      <td> 0.567950</td>\n",
       "      <td> 0.548504</td>\n",
       "      <td> 0.542715</td>\n",
       "      <td> 0.544755</td>\n",
       "      <td> 0.544391</td>\n",
       "      <td> 0.553303</td>\n",
       "      <td> 0.541442</td>\n",
       "      <td> 0.500657</td>\n",
       "      <td> 0.500005</td>\n",
       "      <td> 0.516908</td>\n",
       "      <td> 0.501819</td>\n",
       "      <td> 0.521725</td>\n",
       "      <td> 0.554276</td>\n",
       "      <td> 0.559349</td>\n",
       "      <td> 0.505132</td>\n",
       "      <td> 0.523464</td>\n",
       "      <td> 0.514133</td>\n",
       "      <td> 0.535626</td>\n",
       "      <td> 0.553798</td>\n",
       "    </tr>\n",
       "    <tr>\n",
       "      <th>Z8</th>\n",
       "      <td> 0.727250</td>\n",
       "      <td> 0.660405</td>\n",
       "      <td> 0.655345</td>\n",
       "      <td> 0.655343</td>\n",
       "      <td> 0.655943</td>\n",
       "      <td> 0.661363</td>\n",
       "      <td> 0.654378</td>\n",
       "      <td> 0.504571</td>\n",
       "      <td> 0.502185</td>\n",
       "      <td> 0.568532</td>\n",
       "      <td> 0.501418</td>\n",
       "      <td> 0.577156</td>\n",
       "      <td> 0.687822</td>\n",
       "      <td> 0.702637</td>\n",
       "      <td> 0.535304</td>\n",
       "      <td> 0.598731</td>\n",
       "      <td> 0.535626</td>\n",
       "      <td> 0.612969</td>\n",
       "      <td> 0.691803</td>\n",
       "    </tr>\n",
       "    <tr>\n",
       "      <th>Z9</th>\n",
       "      <td> 0.893983</td>\n",
       "      <td> 0.750437</td>\n",
       "      <td> 0.842874</td>\n",
       "      <td> 0.749868</td>\n",
       "      <td> 0.824094</td>\n",
       "      <td> 0.750028</td>\n",
       "      <td> 0.753726</td>\n",
       "      <td> 0.516286</td>\n",
       "      <td> 0.502733</td>\n",
       "      <td> 0.646372</td>\n",
       "      <td> 0.509543</td>\n",
       "      <td> 0.601466</td>\n",
       "      <td> 0.819298</td>\n",
       "      <td> 0.846567</td>\n",
       "      <td> 0.574261</td>\n",
       "      <td> 0.686943</td>\n",
       "      <td> 0.553798</td>\n",
       "      <td> 0.691803</td>\n",
       "      <td> 0.963966</td>\n",
       "    </tr>\n",
       "  </tbody>\n",
       "</table>\n",
       "</div>"
      ],
      "text/plain": [
       "       Xstim     Xcoh0    Xcoh32    Xcoh64   Xcoh128   Xcoh256   Xcoh512  \\\n",
       "Z0  0.635100  0.636123  0.591476  0.596095  0.605826  0.598869  0.606660   \n",
       "Z1  0.502285  0.501551  0.502730  0.502722  0.502140  0.502760  0.502631   \n",
       "Z2  0.669581  0.631630  0.547206  0.535154  0.648905  0.619186  0.636812   \n",
       "Z3  0.883917  0.739696  0.739699  0.739687  0.739691  0.834139  0.838903   \n",
       "Z4  0.915736  0.770798  0.769812  0.769804  0.769836  0.769821  0.900481   \n",
       "Z5  0.579601  0.553493  0.562272  0.558366  0.559740  0.545063  0.564186   \n",
       "Z6  0.710267  0.643698  0.654545  0.648692  0.651644  0.634620  0.656692   \n",
       "Z7  0.567950  0.548504  0.542715  0.544755  0.544391  0.553303  0.541442   \n",
       "Z8  0.727250  0.660405  0.655345  0.655343  0.655943  0.661363  0.654378   \n",
       "Z9  0.893983  0.750437  0.842874  0.749868  0.824094  0.750028  0.753726   \n",
       "\n",
       "       Xinto      Xout        Z0        Z1        Z2        Z3        Z4  \\\n",
       "Z0  0.796146  0.815076  0.980066  0.802897  0.555522  0.747658  0.587474   \n",
       "Z1  0.970197  0.969739  0.802897  0.984861  0.503706  0.594065  0.568710   \n",
       "Z2  0.501856  0.510030  0.555522  0.503706  0.960201  0.598302  0.608954   \n",
       "Z3  0.587229  0.606459  0.747658  0.594065  0.598302  0.998110  0.836436   \n",
       "Z4  0.573565  0.556043  0.587474  0.568710  0.608954  0.836436  0.996036   \n",
       "Z5  0.502246  0.502697  0.532247  0.502718  0.528323  0.569759  0.573255   \n",
       "Z6  0.505313  0.504452  0.574283  0.503778  0.572193  0.679250  0.690944   \n",
       "Z7  0.500657  0.500005  0.516908  0.501819  0.521725  0.554276  0.559349   \n",
       "Z8  0.504571  0.502185  0.568532  0.501418  0.577156  0.687822  0.702637   \n",
       "Z9  0.516286  0.502733  0.646372  0.509543  0.601466  0.819298  0.846567   \n",
       "\n",
       "          Z5        Z6        Z7        Z8        Z9  \n",
       "Z0  0.532247  0.574283  0.516908  0.568532  0.646372  \n",
       "Z1  0.502718  0.503778  0.501819  0.501418  0.509543  \n",
       "Z2  0.528323  0.572193  0.521725  0.577156  0.601466  \n",
       "Z3  0.569759  0.679250  0.554276  0.687822  0.819298  \n",
       "Z4  0.573255  0.690944  0.559349  0.702637  0.846567  \n",
       "Z5  0.523797  0.547424  0.505132  0.535304  0.574261  \n",
       "Z6  0.547424  0.608084  0.523464  0.598731  0.686943  \n",
       "Z7  0.505132  0.523464  0.514133  0.535626  0.553798  \n",
       "Z8  0.535304  0.598731  0.535626  0.612969  0.691803  \n",
       "Z9  0.574261  0.686943  0.553798  0.691803  0.963966  "
      ]
     },
     "execution_count": 23,
     "metadata": {},
     "output_type": "execute_result"
    }
   ],
   "source": [
    "overlap.iloc[-K:, :]"
   ]
  },
  {
   "cell_type": "markdown",
   "metadata": {
    "collapsed": true
   },
   "source": [
    "Try using the MPM (maximizer of posterior marginals) rather than the posterior:"
   ]
  },
  {
   "cell_type": "code",
   "execution_count": 24,
   "metadata": {
    "collapsed": true
   },
   "outputs": [],
   "source": [
    "# round to 0 or 1 elementwise\n",
    "medf = np.around(edf)"
   ]
  },
  {
   "cell_type": "code",
   "execution_count": 25,
   "metadata": {
    "collapsed": false
   },
   "outputs": [
    {
     "data": {
      "image/png": "[encoded data removed]",
      "text/plain": [
       "<matplotlib.figure.Figure at 0x10fcd8a10>"
      ]
     },
     "metadata": {},
     "output_type": "display_data"
    },
    {
     "data": {
      "image/png": "[encoded data removed]",
      "text/plain": [
       "<matplotlib.figure.Figure at 0x10e77b450>"
      ]
     },
     "metadata": {},
     "output_type": "display_data"
    },
    {
     "data": {
      "image/png": "[encoded data removed]",
      "text/plain": [
       "<matplotlib.figure.Figure at 0x10e68f710>"
      ]
     },
     "metadata": {},
     "output_type": "display_data"
    }
   ],
   "source": [
    "# plot a section in time; each row is a regressor; bottom rows are inferred categories\n",
    "trng = slice(None)\n",
    "matshow(edf.iloc[trng, :-K].values.T, vmin=0, vmax=1);\n",
    "\n",
    "# zoom in on inferred\n",
    "matshow(edf.iloc[trng, -K:].values.T, vmin=0, vmax=1);\n",
    "\n",
    "# use MPM\n",
    "matshow(medf.iloc[trng, -K:].values.T, vmin=0, vmax=1);"
   ]
  },
  {
   "cell_type": "code",
   "execution_count": 26,
   "metadata": {
    "collapsed": true
   },
   "outputs": [],
   "source": [
    "mmatch = (medf.T.dot(medf) + (1 - medf.T).dot(1 - medf)) / T\n",
    "mmismatch = (medf.T.dot(1 - medf) + (1 - medf.T).dot(medf)) / T\n",
    "moverlap = np.maximum(mmatch, mmismatch)"
   ]
  },
  {
   "cell_type": "code",
   "execution_count": 27,
   "metadata": {
    "collapsed": false
   },
   "outputs": [
    {
     "data": {
      "image/png": "[encoded data removed]",
      "text/plain": [
       "<matplotlib.figure.Figure at 0x10ee96390>"
      ]
     },
     "metadata": {},
     "output_type": "display_data"
    }
   ],
   "source": [
    "row_labels = medf.columns[:]\n",
    "matshow(moverlap.values[-K:,:]) #, vmin=0.5, vmax=1)\n",
    "plt.ylabel('inferred factor')\n",
    "plt.xlabel('labeled factor')\n",
    "plt.colorbar();\n",
    "\n",
    "# add column names\n",
    "ax = plt.gca()\n",
    "ax.xaxis.set_label_position('top')\n",
    "plt.tick_params(axis='x', which='both', top='off', bottom='off', \n",
    "                labelbottom='on', labeltop='off', pad=5)\n",
    "plt.xticks(xrange(len(row_labels)), row_labels, rotation='vertical', horizontalalignment='center');\n",
    "plt.gcf().set_size_inches([20, 5])"
   ]
  },
  {
   "cell_type": "code",
   "execution_count": 28,
   "metadata": {
    "collapsed": false
   },
   "outputs": [
    {
     "data": {
      "text/html": [
       "<div style=\"max-height:1000px;max-width:1500px;overflow:auto;\">\n",
       "<table border=\"1\" class=\"dataframe\">\n",
       "  <thead>\n",
       "    <tr style=\"text-align: right;\">\n",
       "      <th></th>\n",
       "      <th>Xstim</th>\n",
       "      <th>Xcoh0</th>\n",
       "      <th>Xcoh32</th>\n",
       "      <th>Xcoh64</th>\n",
       "      <th>Xcoh128</th>\n",
       "      <th>Xcoh256</th>\n",
       "      <th>Xcoh512</th>\n",
       "      <th>Xinto</th>\n",
       "      <th>Xout</th>\n",
       "      <th>Z0</th>\n",
       "      <th>Z1</th>\n",
       "      <th>Z2</th>\n",
       "      <th>Z3</th>\n",
       "      <th>Z4</th>\n",
       "      <th>Z5</th>\n",
       "      <th>Z6</th>\n",
       "      <th>Z7</th>\n",
       "      <th>Z8</th>\n",
       "      <th>Z9</th>\n",
       "    </tr>\n",
       "  </thead>\n",
       "  <tbody>\n",
       "    <tr>\n",
       "      <th>Z0</th>\n",
       "      <td> 0.633013</td>\n",
       "      <td> 0.636218</td>\n",
       "      <td> 0.588141</td>\n",
       "      <td> 0.597756</td>\n",
       "      <td> 0.604167</td>\n",
       "      <td> 0.597756</td>\n",
       "      <td> 0.604167</td>\n",
       "      <td> 0.799679</td>\n",
       "      <td> 0.818910</td>\n",
       "      <td> 1.000000</td>\n",
       "      <td> 0.809295</td>\n",
       "      <td> 0.560897</td>\n",
       "      <td> 0.746795</td>\n",
       "      <td> 0.584936</td>\n",
       "      <td> 0.602564</td>\n",
       "      <td> 0.647436</td>\n",
       "      <td> 0.608974</td>\n",
       "      <td> 0.649038</td>\n",
       "      <td> 0.642628</td>\n",
       "    </tr>\n",
       "    <tr>\n",
       "      <th>Z1</th>\n",
       "      <td> 0.500000</td>\n",
       "      <td> 0.500000</td>\n",
       "      <td> 0.500000</td>\n",
       "      <td> 0.500000</td>\n",
       "      <td> 0.500000</td>\n",
       "      <td> 0.500000</td>\n",
       "      <td> 0.500000</td>\n",
       "      <td> 0.971154</td>\n",
       "      <td> 0.971154</td>\n",
       "      <td> 0.809295</td>\n",
       "      <td> 1.000000</td>\n",
       "      <td> 0.511218</td>\n",
       "      <td> 0.597756</td>\n",
       "      <td> 0.567308</td>\n",
       "      <td> 0.543269</td>\n",
       "      <td> 0.504808</td>\n",
       "      <td> 0.511218</td>\n",
       "      <td> 0.503205</td>\n",
       "      <td> 0.509615</td>\n",
       "    </tr>\n",
       "    <tr>\n",
       "      <th>Z2</th>\n",
       "      <td> 0.671474</td>\n",
       "      <td> 0.636218</td>\n",
       "      <td> 0.546474</td>\n",
       "      <td> 0.536859</td>\n",
       "      <td> 0.645833</td>\n",
       "      <td> 0.620192</td>\n",
       "      <td> 0.636218</td>\n",
       "      <td> 0.501603</td>\n",
       "      <td> 0.514423</td>\n",
       "      <td> 0.560897</td>\n",
       "      <td> 0.511218</td>\n",
       "      <td> 1.000000</td>\n",
       "      <td> 0.599359</td>\n",
       "      <td> 0.610577</td>\n",
       "      <td> 0.660256</td>\n",
       "      <td> 0.663462</td>\n",
       "      <td> 0.634615</td>\n",
       "      <td> 0.661859</td>\n",
       "      <td> 0.594551</td>\n",
       "    </tr>\n",
       "    <tr>\n",
       "      <th>Z3</th>\n",
       "      <td> 0.883013</td>\n",
       "      <td> 0.738782</td>\n",
       "      <td> 0.738782</td>\n",
       "      <td> 0.738782</td>\n",
       "      <td> 0.738782</td>\n",
       "      <td> 0.834936</td>\n",
       "      <td> 0.838141</td>\n",
       "      <td> 0.588141</td>\n",
       "      <td> 0.607372</td>\n",
       "      <td> 0.746795</td>\n",
       "      <td> 0.597756</td>\n",
       "      <td> 0.599359</td>\n",
       "      <td> 1.000000</td>\n",
       "      <td> 0.834936</td>\n",
       "      <td> 0.823718</td>\n",
       "      <td> 0.897436</td>\n",
       "      <td> 0.849359</td>\n",
       "      <td> 0.899038</td>\n",
       "      <td> 0.818910</td>\n",
       "    </tr>\n",
       "    <tr>\n",
       "      <th>Z4</th>\n",
       "      <td> 0.916667</td>\n",
       "      <td> 0.769231</td>\n",
       "      <td> 0.769231</td>\n",
       "      <td> 0.769231</td>\n",
       "      <td> 0.769231</td>\n",
       "      <td> 0.769231</td>\n",
       "      <td> 0.900641</td>\n",
       "      <td> 0.573718</td>\n",
       "      <td> 0.557692</td>\n",
       "      <td> 0.584936</td>\n",
       "      <td> 0.567308</td>\n",
       "      <td> 0.610577</td>\n",
       "      <td> 0.834936</td>\n",
       "      <td> 1.000000</td>\n",
       "      <td> 0.860577</td>\n",
       "      <td> 0.927885</td>\n",
       "      <td> 0.889423</td>\n",
       "      <td> 0.929487</td>\n",
       "      <td> 0.849359</td>\n",
       "    </tr>\n",
       "    <tr>\n",
       "      <th>Z5</th>\n",
       "      <td> 0.883013</td>\n",
       "      <td> 0.735577</td>\n",
       "      <td> 0.770833</td>\n",
       "      <td> 0.754808</td>\n",
       "      <td> 0.790064</td>\n",
       "      <td> 0.754808</td>\n",
       "      <td> 0.806090</td>\n",
       "      <td> 0.549679</td>\n",
       "      <td> 0.533654</td>\n",
       "      <td> 0.602564</td>\n",
       "      <td> 0.543269</td>\n",
       "      <td> 0.660256</td>\n",
       "      <td> 0.823718</td>\n",
       "      <td> 0.860577</td>\n",
       "      <td> 1.000000</td>\n",
       "      <td> 0.903846</td>\n",
       "      <td> 0.833333</td>\n",
       "      <td> 0.895833</td>\n",
       "      <td> 0.841346</td>\n",
       "    </tr>\n",
       "    <tr>\n",
       "      <th>Z6</th>\n",
       "      <td> 0.975962</td>\n",
       "      <td> 0.831731</td>\n",
       "      <td> 0.831731</td>\n",
       "      <td> 0.831731</td>\n",
       "      <td> 0.841346</td>\n",
       "      <td> 0.831731</td>\n",
       "      <td> 0.831731</td>\n",
       "      <td> 0.514423</td>\n",
       "      <td> 0.504808</td>\n",
       "      <td> 0.647436</td>\n",
       "      <td> 0.504808</td>\n",
       "      <td> 0.663462</td>\n",
       "      <td> 0.897436</td>\n",
       "      <td> 0.927885</td>\n",
       "      <td> 0.903846</td>\n",
       "      <td> 1.000000</td>\n",
       "      <td> 0.929487</td>\n",
       "      <td> 0.991987</td>\n",
       "      <td> 0.911859</td>\n",
       "    </tr>\n",
       "    <tr>\n",
       "      <th>Z7</th>\n",
       "      <td> 0.924679</td>\n",
       "      <td> 0.774038</td>\n",
       "      <td> 0.780449</td>\n",
       "      <td> 0.770833</td>\n",
       "      <td> 0.799679</td>\n",
       "      <td> 0.825321</td>\n",
       "      <td> 0.796474</td>\n",
       "      <td> 0.524038</td>\n",
       "      <td> 0.514423</td>\n",
       "      <td> 0.608974</td>\n",
       "      <td> 0.511218</td>\n",
       "      <td> 0.634615</td>\n",
       "      <td> 0.849359</td>\n",
       "      <td> 0.889423</td>\n",
       "      <td> 0.833333</td>\n",
       "      <td> 0.929487</td>\n",
       "      <td> 1.000000</td>\n",
       "      <td> 0.937500</td>\n",
       "      <td> 0.854167</td>\n",
       "    </tr>\n",
       "    <tr>\n",
       "      <th>Z8</th>\n",
       "      <td> 0.980769</td>\n",
       "      <td> 0.836538</td>\n",
       "      <td> 0.833333</td>\n",
       "      <td> 0.833333</td>\n",
       "      <td> 0.833333</td>\n",
       "      <td> 0.833333</td>\n",
       "      <td> 0.833333</td>\n",
       "      <td> 0.509615</td>\n",
       "      <td> 0.506410</td>\n",
       "      <td> 0.649038</td>\n",
       "      <td> 0.503205</td>\n",
       "      <td> 0.661859</td>\n",
       "      <td> 0.899038</td>\n",
       "      <td> 0.929487</td>\n",
       "      <td> 0.895833</td>\n",
       "      <td> 0.991987</td>\n",
       "      <td> 0.937500</td>\n",
       "      <td> 1.000000</td>\n",
       "      <td> 0.913462</td>\n",
       "    </tr>\n",
       "    <tr>\n",
       "      <th>Z9</th>\n",
       "      <td> 0.897436</td>\n",
       "      <td> 0.753205</td>\n",
       "      <td> 0.846154</td>\n",
       "      <td> 0.753205</td>\n",
       "      <td> 0.826923</td>\n",
       "      <td> 0.753205</td>\n",
       "      <td> 0.753205</td>\n",
       "      <td> 0.519231</td>\n",
       "      <td> 0.500000</td>\n",
       "      <td> 0.642628</td>\n",
       "      <td> 0.509615</td>\n",
       "      <td> 0.594551</td>\n",
       "      <td> 0.818910</td>\n",
       "      <td> 0.849359</td>\n",
       "      <td> 0.841346</td>\n",
       "      <td> 0.911859</td>\n",
       "      <td> 0.854167</td>\n",
       "      <td> 0.913462</td>\n",
       "      <td> 1.000000</td>\n",
       "    </tr>\n",
       "  </tbody>\n",
       "</table>\n",
       "</div>"
      ],
      "text/plain": [
       "       Xstim     Xcoh0    Xcoh32    Xcoh64   Xcoh128   Xcoh256   Xcoh512  \\\n",
       "Z0  0.633013  0.636218  0.588141  0.597756  0.604167  0.597756  0.604167   \n",
       "Z1  0.500000  0.500000  0.500000  0.500000  0.500000  0.500000  0.500000   \n",
       "Z2  0.671474  0.636218  0.546474  0.536859  0.645833  0.620192  0.636218   \n",
       "Z3  0.883013  0.738782  0.738782  0.738782  0.738782  0.834936  0.838141   \n",
       "Z4  0.916667  0.769231  0.769231  0.769231  0.769231  0.769231  0.900641   \n",
       "Z5  0.883013  0.735577  0.770833  0.754808  0.790064  0.754808  0.806090   \n",
       "Z6  0.975962  0.831731  0.831731  0.831731  0.841346  0.831731  0.831731   \n",
       "Z7  0.924679  0.774038  0.780449  0.770833  0.799679  0.825321  0.796474   \n",
       "Z8  0.980769  0.836538  0.833333  0.833333  0.833333  0.833333  0.833333   \n",
       "Z9  0.897436  0.753205  0.846154  0.753205  0.826923  0.753205  0.753205   \n",
       "\n",
       "       Xinto      Xout        Z0        Z1        Z2        Z3        Z4  \\\n",
       "Z0  0.799679  0.818910  1.000000  0.809295  0.560897  0.746795  0.584936   \n",
       "Z1  0.971154  0.971154  0.809295  1.000000  0.511218  0.597756  0.567308   \n",
       "Z2  0.501603  0.514423  0.560897  0.511218  1.000000  0.599359  0.610577   \n",
       "Z3  0.588141  0.607372  0.746795  0.597756  0.599359  1.000000  0.834936   \n",
       "Z4  0.573718  0.557692  0.584936  0.567308  0.610577  0.834936  1.000000   \n",
       "Z5  0.549679  0.533654  0.602564  0.543269  0.660256  0.823718  0.860577   \n",
       "Z6  0.514423  0.504808  0.647436  0.504808  0.663462  0.897436  0.927885   \n",
       "Z7  0.524038  0.514423  0.608974  0.511218  0.634615  0.849359  0.889423   \n",
       "Z8  0.509615  0.506410  0.649038  0.503205  0.661859  0.899038  0.929487   \n",
       "Z9  0.519231  0.500000  0.642628  0.509615  0.594551  0.818910  0.849359   \n",
       "\n",
       "          Z5        Z6        Z7        Z8        Z9  \n",
       "Z0  0.602564  0.647436  0.608974  0.649038  0.642628  \n",
       "Z1  0.543269  0.504808  0.511218  0.503205  0.509615  \n",
       "Z2  0.660256  0.663462  0.634615  0.661859  0.594551  \n",
       "Z3  0.823718  0.897436  0.849359  0.899038  0.818910  \n",
       "Z4  0.860577  0.927885  0.889423  0.929487  0.849359  \n",
       "Z5  1.000000  0.903846  0.833333  0.895833  0.841346  \n",
       "Z6  0.903846  1.000000  0.929487  0.991987  0.911859  \n",
       "Z7  0.833333  0.929487  1.000000  0.937500  0.854167  \n",
       "Z8  0.895833  0.991987  0.937500  1.000000  0.913462  \n",
       "Z9  0.841346  0.911859  0.854167  0.913462  1.000000  "
      ]
     },
     "execution_count": 28,
     "metadata": {},
     "output_type": "execute_result"
    }
   ],
   "source": [
    "moverlap.iloc[-K:, :]"
   ]
  },
  {
   "cell_type": "code",
   "execution_count": 29,
   "metadata": {
    "collapsed": false
   },
   "outputs": [
    {
     "data": {
      "text/plain": [
       "Xstim      0.980769\n",
       "Xcoh0      0.836538\n",
       "Xcoh32     0.846154\n",
       "Xcoh64     0.833333\n",
       "Xcoh128    0.841346\n",
       "Xcoh256    0.834936\n",
       "Xcoh512    0.900641\n",
       "Xinto      0.971154\n",
       "Xout       0.971154\n",
       "dtype: float64"
      ]
     },
     "execution_count": 29,
     "metadata": {},
     "output_type": "execute_result"
    }
   ],
   "source": [
    "moverlap.iloc[-K:, :-K].max()"
   ]
  }
 ],
 "metadata": {
  "kernelspec": {
   "display_name": "Python 2",
   "language": "python",
   "name": "python2"
  },
  "language_info": {
   "codemirror_mode": {
    "name": "ipython",
    "version": 2
   },
   "file_extension": ".py",
   "mimetype": "text/x-python",
   "name": "python",
   "nbconvert_exporter": "python",
   "pygments_lexer": "ipython2",
   "version": "2.7.9"
  }
 },
 "nbformat": 4,
 "nbformat_minor": 0
}
