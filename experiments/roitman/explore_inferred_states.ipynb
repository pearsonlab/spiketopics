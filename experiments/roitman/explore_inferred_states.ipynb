{
 "cells": [
  {
   "cell_type": "code",
   "execution_count": 44,
   "metadata": {
    "collapsed": false
   },
   "outputs": [],
   "source": [
    "from __future__ import division\n",
    "import numpy as np\n",
    "import pandas as pd\n",
    "import matplotlib.pyplot as plt\n",
    "import seaborn as sns\n",
    "import matplotlib.cm as cm\n",
    "import cPickle as pickle\n",
    "from spiketopics.helpers import *\n",
    "\n",
    "%matplotlib inline\n",
    "sns.set_style('darkgrid')\n",
    "savefigs = False"
   ]
  },
  {
   "cell_type": "markdown",
   "metadata": {},
   "source": [
    "# Load in data"
   ]
  },
  {
   "cell_type": "code",
   "execution_count": 45,
   "metadata": {
    "collapsed": false
   },
   "outputs": [],
   "source": [
    "infile = 'data/fitted_model_object.pkl'\n",
    "gpm = pickle.load(open(infile, 'rb'))\n",
    "dt = 0.020"
   ]
  },
  {
   "cell_type": "code",
   "execution_count": 46,
   "metadata": {
    "collapsed": false
   },
   "outputs": [
    {
     "data": {
      "text/html": [
       "<div style=\"max-height:1000px;max-width:1500px;overflow:auto;\">\n",
       "<table border=\"1\" class=\"dataframe\">\n",
       "  <thead>\n",
       "    <tr style=\"text-align: right;\">\n",
       "      <th></th>\n",
       "      <th>unit</th>\n",
       "      <th>time</th>\n",
       "      <th>count</th>\n",
       "      <th>lam0</th>\n",
       "      <th>lam1</th>\n",
       "    </tr>\n",
       "  </thead>\n",
       "  <tbody>\n",
       "    <tr>\n",
       "      <th>0</th>\n",
       "      <td>2</td>\n",
       "      <td>364</td>\n",
       "      <td>1</td>\n",
       "      <td>-0.965725</td>\n",
       "      <td>-0.965649</td>\n",
       "    </tr>\n",
       "    <tr>\n",
       "      <th>1</th>\n",
       "      <td>8</td>\n",
       "      <td>364</td>\n",
       "      <td>1</td>\n",
       "      <td>-0.875764</td>\n",
       "      <td>-0.887432</td>\n",
       "    </tr>\n",
       "    <tr>\n",
       "      <th>2</th>\n",
       "      <td>0</td>\n",
       "      <td>364</td>\n",
       "      <td>0</td>\n",
       "      <td>-0.451104</td>\n",
       "      <td>-0.428505</td>\n",
       "    </tr>\n",
       "    <tr>\n",
       "      <th>3</th>\n",
       "      <td>0</td>\n",
       "      <td>364</td>\n",
       "      <td>1</td>\n",
       "      <td>-0.526288</td>\n",
       "      <td>-0.552219</td>\n",
       "    </tr>\n",
       "    <tr>\n",
       "      <th>4</th>\n",
       "      <td>0</td>\n",
       "      <td>364</td>\n",
       "      <td>0</td>\n",
       "      <td>-0.451104</td>\n",
       "      <td>-0.428505</td>\n",
       "    </tr>\n",
       "  </tbody>\n",
       "</table>\n",
       "</div>"
      ],
      "text/plain": [
       "   unit  time  count      lam0      lam1\n",
       "0     2   364      1 -0.965725 -0.965649\n",
       "1     8   364      1 -0.875764 -0.887432\n",
       "2     0   364      0 -0.451104 -0.428505\n",
       "3     0   364      1 -0.526288 -0.552219\n",
       "4     0   364      0 -0.451104 -0.428505"
      ]
     },
     "execution_count": 46,
     "metadata": {},
     "output_type": "execute_result"
    }
   ],
   "source": [
    "gpm.Nframe.head()"
   ]
  },
  {
   "cell_type": "code",
   "execution_count": 47,
   "metadata": {
    "collapsed": false
   },
   "outputs": [],
   "source": [
    "if gpm.regressors:\n",
    "    gpm.Xframe.head()"
   ]
  },
  {
   "cell_type": "markdown",
   "metadata": {},
   "source": [
    "# Plot inferred categories as matrix"
   ]
  },
  {
   "cell_type": "code",
   "execution_count": 48,
   "metadata": {
    "collapsed": false
   },
   "outputs": [
    {
     "name": "stdout",
     "output_type": "stream",
     "text": [
      "(624, 10)\n"
     ]
    }
   ],
   "source": [
    "xi = gpm.nodes['HMM'].nodes['z'].z[1].copy()\n",
    "T, K = xi.shape\n",
    "print xi.shape"
   ]
  },
  {
   "cell_type": "code",
   "execution_count": 49,
   "metadata": {
    "collapsed": false
   },
   "outputs": [
    {
     "data": {
      "image/png": "[encoded data removed]",
      "text/plain": [
       "<matplotlib.figure.Figure at 0x7f0f9a0799d0>"
      ]
     },
     "metadata": {},
     "output_type": "display_data"
    }
   ],
   "source": [
    "matshow(xi[:500].T, vmin=0, vmax=1);\n",
    "plt.colorbar();"
   ]
  },
  {
   "cell_type": "markdown",
   "metadata": {},
   "source": [
    "## Make $\\xi$ dataframe:"
   ]
  },
  {
   "cell_type": "code",
   "execution_count": 50,
   "metadata": {
    "collapsed": false
   },
   "outputs": [],
   "source": [
    "xif = pd.DataFrame(xi)\n",
    "xif.columns = ['Z' + str(k) for k in range(K)]\n",
    "xif.index.name = 'time'\n",
    "xif = xif.reset_index()"
   ]
  },
  {
   "cell_type": "markdown",
   "metadata": {},
   "source": [
    "# Posteriors for effects"
   ]
  },
  {
   "cell_type": "markdown",
   "metadata": {},
   "source": [
    "## Baselines"
   ]
  },
  {
   "cell_type": "code",
   "execution_count": 51,
   "metadata": {
    "collapsed": true
   },
   "outputs": [],
   "source": [
    "bl = gpm.nodes['baseline']\n",
    "unit_baseline_means = bl.expected_x() / dt"
   ]
  },
  {
   "cell_type": "code",
   "execution_count": 52,
   "metadata": {
    "collapsed": false
   },
   "outputs": [
    {
     "data": {
      "image/png": "[encoded data removed]",
      "text/plain": [
       "<matplotlib.figure.Figure at 0x7f0f99874b50>"
      ]
     },
     "metadata": {},
     "output_type": "display_data"
    }
   ],
   "source": [
    "plt.figure(figsize=(14, 4))\n",
    "\n",
    "th = gpm.nodes['baseline_mean']\n",
    "cc = gpm.nodes['baseline_shape']\n",
    "th_pars = [th.post_shape, th.post_rate]\n",
    "cc_pars = [cc.post_shape, cc.post_rate]\n",
    "samples = gamma_from_hypers(th_pars, cc_pars, 1e5)\n",
    "\n",
    "plt.subplot(1, 3, 1)\n",
    "xx = np.linspace(0, 5000, 500)\n",
    "plt.plot(xx, stats.invgamma.pdf(xx, a=th_pars[0], scale=th_pars[1]/dt))\n",
    "plt.title('Baseline mean parameter posterior');\n",
    "\n",
    "plt.subplot(1, 3, 2)\n",
    "xx = np.linspace(0, 20, 500)\n",
    "plt.plot(xx, stats.invgamma.pdf(xx, a=cc_pars[0], scale=cc_pars[1]))\n",
    "plt.title('Baseline variance parameter posterior');\n",
    "\n",
    "plt.subplot(1, 3, 3)\n",
    "sns.kdeplot(samples / dt, gridsize=1e4, clip=(0, 100))\n",
    "plt.title('baseline posterior distribution')\n",
    "plt.xlabel('Firing rate (Hz)')\n",
    "plt.xlim(0, 100);"
   ]
  },
  {
   "cell_type": "markdown",
   "metadata": {},
   "source": [
    "## Regressors"
   ]
  },
  {
   "cell_type": "code",
   "execution_count": 53,
   "metadata": {
    "collapsed": false
   },
   "outputs": [],
   "source": [
    "if gpm.regressors:\n",
    "    plt.figure(figsize=(8, 6));\n",
    "    inferred_means = gpm.nodes['fr_regressors'].expected_x()\n",
    "    R = inferred_means.shape[1]\n",
    "    for r in xrange(R):\n",
    "        plt.hist(inferred_means[:, r], bins=50, normed=True, alpha=0.25, label='X' + str(r))\n",
    "    plt.title('Regression effects');\n",
    "    plt.legend()\n",
    "    plt.ylim(0, 5);\n",
    "    plt.xlim(0, 5);"
   ]
  },
  {
   "cell_type": "markdown",
   "metadata": {},
   "source": [
    "## Latent Categories"
   ]
  },
  {
   "cell_type": "code",
   "execution_count": 54,
   "metadata": {
    "collapsed": true
   },
   "outputs": [],
   "source": [
    "frn = gpm.nodes['fr_latents']\n",
    "fr_mean_effect = frn.expected_x()"
   ]
  },
  {
   "cell_type": "code",
   "execution_count": 55,
   "metadata": {
    "collapsed": false
   },
   "outputs": [
    {
     "data": {
      "image/png": "[encoded data removed]",
      "text/plain": [
       "<matplotlib.figure.Figure at 0x7f0f99a8bc90>"
      ]
     },
     "metadata": {},
     "output_type": "display_data"
    }
   ],
   "source": [
    "plt.figure(figsize=(16, 4))\n",
    "\n",
    "th = gpm.nodes['fr_latents_mean']\n",
    "cc = gpm.nodes['fr_latents_shape']\n",
    "\n",
    "th_pars = np.c_[th.post_shape, th.post_rate].T\n",
    "cc_pars = np.c_[cc.post_shape, cc.post_rate].T\n",
    "\n",
    "plt.subplot(1, 3, 1)\n",
    "xx = np.linspace(0, 2, 500)\n",
    "for kk in xrange(K):\n",
    "    plt.plot(xx, stats.invgamma.pdf(xx, a=th_pars[0, kk], scale=th_pars[1, kk]), label='Z' + str(kk))\n",
    "plt.legend()\n",
    "plt.title('effect mean posterior');\n",
    "\n",
    "plt.subplot(1, 3, 2)\n",
    "xx = np.linspace(0, 5, 500)\n",
    "for kk in xrange(K):\n",
    "    plt.plot(xx, stats.invgamma.pdf(xx, a=cc_pars[0, kk], scale=cc_pars[1, kk]), label='Z' + str(kk))\n",
    "plt.legend()\n",
    "plt.title('effect variance parameter posterior');\n",
    "\n",
    "plt.subplot(1, 3, 3)\n",
    "for kk in xrange(K):\n",
    "    samples = gamma_from_hypers(th_pars[:, kk], cc_pars[:, kk], 1e5)\n",
    "    sns.kdeplot(samples, gridsize=1e4, clip=(0, 10), label='Z' + str(kk))\n",
    "plt.legend()\n",
    "plt.title(r'$\\lambda$ effect posterior distribution')\n",
    "plt.xlim(0, 2);\n",
    "plt.ylim(0, 5);"
   ]
  },
  {
   "cell_type": "code",
   "execution_count": 56,
   "metadata": {
    "collapsed": false
   },
   "outputs": [
    {
     "data": {
      "image/png": "[encoded data removed]",
      "text/plain": [
       "<matplotlib.figure.Figure at 0x7f0f9a079750>"
      ]
     },
     "metadata": {},
     "output_type": "display_data"
    }
   ],
   "source": [
    "plt.figure(figsize=(8, 6))\n",
    "\n",
    "inferred_effects = gpm.nodes['fr_latents'].expected_x()\n",
    "for kk in xrange(K):\n",
    "    plt.hist(inferred_effects[..., kk], bins=50, normed=True, alpha=0.25, label='Z' + str(kk));\n",
    "plt.legend();\n",
    "plt.title('Firing rate effects');\n",
    "plt.ylim(0, 5);"
   ]
  },
  {
   "cell_type": "markdown",
   "metadata": {},
   "source": [
    "## Overdispersion"
   ]
  },
  {
   "cell_type": "code",
   "execution_count": 57,
   "metadata": {
    "collapsed": false
   },
   "outputs": [
    {
     "data": {
      "image/png": "[encoded data removed]",
      "text/plain": [
       "<matplotlib.figure.Figure at 0x7f0f99ef3d50>"
      ]
     },
     "metadata": {},
     "output_type": "display_data"
    }
   ],
   "source": [
    "if gpm.overdispersion:\n",
    "    plt.figure(figsize=(8, 6))\n",
    "\n",
    "    inferred_means = gpm.nodes['overdispersion'].expected_x().ravel()\n",
    "    plt.hist(inferred_means, bins=500, normed=True, alpha=0.25);\n",
    "    plt.title('Overdispersion effects');\n",
    "    plt.ylim(0, 2);"
   ]
  },
  {
   "cell_type": "markdown",
   "metadata": {},
   "source": [
    "# Load and prepare coded features:"
   ]
  },
  {
   "cell_type": "markdown",
   "metadata": {},
   "source": [
    "Our goal here is to load the ethogram, join it to the inferred ethogram, and perform some comparisons to see if any of our discovered categories match hand-labeled categories from the ethogram."
   ]
  },
  {
   "cell_type": "code",
   "execution_count": 58,
   "metadata": {
    "collapsed": false
   },
   "outputs": [],
   "source": [
    "codefile = 'data/roitman_fd_data.csv'\n",
    "code = pd.read_csv(codefile).groupby('utime').mean().reset_index()"
   ]
  },
  {
   "cell_type": "code",
   "execution_count": 59,
   "metadata": {
    "collapsed": false
   },
   "outputs": [
    {
     "data": {
      "text/html": [
       "<div style=\"max-height:1000px;max-width:1500px;overflow:auto;\">\n",
       "<table border=\"1\" class=\"dataframe\">\n",
       "  <thead>\n",
       "    <tr style=\"text-align: right;\">\n",
       "      <th></th>\n",
       "      <th>utime</th>\n",
       "      <th>count</th>\n",
       "      <th>time</th>\n",
       "      <th>trial</th>\n",
       "      <th>stimulus</th>\n",
       "      <th>coherence</th>\n",
       "      <th>fixation_on</th>\n",
       "      <th>fixation</th>\n",
       "      <th>target_on</th>\n",
       "      <th>stim_on</th>\n",
       "      <th>...</th>\n",
       "      <th>Xstim</th>\n",
       "      <th>Xcoh0</th>\n",
       "      <th>Xcoh32</th>\n",
       "      <th>Xcoh64</th>\n",
       "      <th>Xcoh128</th>\n",
       "      <th>Xcoh256</th>\n",
       "      <th>Xcoh512</th>\n",
       "      <th>Xin</th>\n",
       "      <th>Xout</th>\n",
       "      <th>into_RF</th>\n",
       "    </tr>\n",
       "  </thead>\n",
       "  <tbody>\n",
       "    <tr>\n",
       "      <th>0</th>\n",
       "      <td>0</td>\n",
       "      <td>0.595890</td>\n",
       "      <td>0</td>\n",
       "      <td>32.89726</td>\n",
       "      <td>71</td>\n",
       "      <td>0</td>\n",
       "      <td>0</td>\n",
       "      <td>52.547945</td>\n",
       "      <td>460.438356</td>\n",
       "      <td>903.780822</td>\n",
       "      <td>...</td>\n",
       "      <td>0</td>\n",
       "      <td>0</td>\n",
       "      <td>0</td>\n",
       "      <td>0</td>\n",
       "      <td>0</td>\n",
       "      <td>0</td>\n",
       "      <td>0</td>\n",
       "      <td>0</td>\n",
       "      <td>0</td>\n",
       "      <td>1</td>\n",
       "    </tr>\n",
       "    <tr>\n",
       "      <th>1</th>\n",
       "      <td>1</td>\n",
       "      <td>0.780822</td>\n",
       "      <td>20</td>\n",
       "      <td>32.89726</td>\n",
       "      <td>71</td>\n",
       "      <td>0</td>\n",
       "      <td>0</td>\n",
       "      <td>52.547945</td>\n",
       "      <td>460.438356</td>\n",
       "      <td>903.780822</td>\n",
       "      <td>...</td>\n",
       "      <td>1</td>\n",
       "      <td>1</td>\n",
       "      <td>0</td>\n",
       "      <td>0</td>\n",
       "      <td>0</td>\n",
       "      <td>0</td>\n",
       "      <td>0</td>\n",
       "      <td>1</td>\n",
       "      <td>0</td>\n",
       "      <td>1</td>\n",
       "    </tr>\n",
       "    <tr>\n",
       "      <th>2</th>\n",
       "      <td>2</td>\n",
       "      <td>0.636986</td>\n",
       "      <td>40</td>\n",
       "      <td>32.89726</td>\n",
       "      <td>71</td>\n",
       "      <td>0</td>\n",
       "      <td>0</td>\n",
       "      <td>52.547945</td>\n",
       "      <td>460.438356</td>\n",
       "      <td>903.780822</td>\n",
       "      <td>...</td>\n",
       "      <td>1</td>\n",
       "      <td>1</td>\n",
       "      <td>0</td>\n",
       "      <td>0</td>\n",
       "      <td>0</td>\n",
       "      <td>0</td>\n",
       "      <td>0</td>\n",
       "      <td>1</td>\n",
       "      <td>0</td>\n",
       "      <td>1</td>\n",
       "    </tr>\n",
       "    <tr>\n",
       "      <th>3</th>\n",
       "      <td>3</td>\n",
       "      <td>0.746575</td>\n",
       "      <td>60</td>\n",
       "      <td>32.89726</td>\n",
       "      <td>71</td>\n",
       "      <td>0</td>\n",
       "      <td>0</td>\n",
       "      <td>52.547945</td>\n",
       "      <td>460.438356</td>\n",
       "      <td>903.780822</td>\n",
       "      <td>...</td>\n",
       "      <td>1</td>\n",
       "      <td>1</td>\n",
       "      <td>0</td>\n",
       "      <td>0</td>\n",
       "      <td>0</td>\n",
       "      <td>0</td>\n",
       "      <td>0</td>\n",
       "      <td>1</td>\n",
       "      <td>0</td>\n",
       "      <td>1</td>\n",
       "    </tr>\n",
       "    <tr>\n",
       "      <th>4</th>\n",
       "      <td>4</td>\n",
       "      <td>0.623288</td>\n",
       "      <td>80</td>\n",
       "      <td>32.89726</td>\n",
       "      <td>71</td>\n",
       "      <td>0</td>\n",
       "      <td>0</td>\n",
       "      <td>52.547945</td>\n",
       "      <td>460.438356</td>\n",
       "      <td>903.780822</td>\n",
       "      <td>...</td>\n",
       "      <td>1</td>\n",
       "      <td>1</td>\n",
       "      <td>0</td>\n",
       "      <td>0</td>\n",
       "      <td>0</td>\n",
       "      <td>0</td>\n",
       "      <td>0</td>\n",
       "      <td>1</td>\n",
       "      <td>0</td>\n",
       "      <td>1</td>\n",
       "    </tr>\n",
       "  </tbody>\n",
       "</table>\n",
       "<p>5 rows × 27 columns</p>\n",
       "</div>"
      ],
      "text/plain": [
       "   utime     count  time     trial  stimulus  coherence  fixation_on  \\\n",
       "0      0  0.595890     0  32.89726        71          0            0   \n",
       "1      1  0.780822    20  32.89726        71          0            0   \n",
       "2      2  0.636986    40  32.89726        71          0            0   \n",
       "3      3  0.746575    60  32.89726        71          0            0   \n",
       "4      4  0.623288    80  32.89726        71          0            0   \n",
       "\n",
       "    fixation   target_on     stim_on   ...     Xstim  Xcoh0  Xcoh32  Xcoh64  \\\n",
       "0  52.547945  460.438356  903.780822   ...         0      0       0       0   \n",
       "1  52.547945  460.438356  903.780822   ...         1      1       0       0   \n",
       "2  52.547945  460.438356  903.780822   ...         1      1       0       0   \n",
       "3  52.547945  460.438356  903.780822   ...         1      1       0       0   \n",
       "4  52.547945  460.438356  903.780822   ...         1      1       0       0   \n",
       "\n",
       "   Xcoh128  Xcoh256  Xcoh512  Xin  Xout  into_RF  \n",
       "0        0        0        0    0     0        1  \n",
       "1        0        0        0    1     0        1  \n",
       "2        0        0        0    1     0        1  \n",
       "3        0        0        0    1     0        1  \n",
       "4        0        0        0    1     0        1  \n",
       "\n",
       "[5 rows x 27 columns]"
      ]
     },
     "execution_count": 59,
     "metadata": {},
     "output_type": "execute_result"
    }
   ],
   "source": [
    "code.head()"
   ]
  },
  {
   "cell_type": "code",
   "execution_count": 60,
   "metadata": {
    "collapsed": true
   },
   "outputs": [],
   "source": [
    "# convert bools to floats\n",
    "for col in code:\n",
    "    code[col] = code[col].astype('float')"
   ]
  },
  {
   "cell_type": "code",
   "execution_count": 61,
   "metadata": {
    "collapsed": false
   },
   "outputs": [
    {
     "data": {
      "text/plain": [
       "Index([u'utime', u'count', u'time_x', u'trial', u'stimulus', u'coherence', u'fixation_on', u'fixation', u'target_on', u'stim_on', u'stim_off', u'fixation_off', u'saccade', u'reward', u'choice', u'correct', u'unit', u'Xstim', u'Xcoh0', u'Xcoh32', u'Xcoh64', u'Xcoh128', u'Xcoh256', u'Xcoh512', u'Xin', u'Xout', u'into_RF', u'time_y', u'Z0', u'Z1', u'Z2', u'Z3', u'Z4', u'Z5', u'Z6', u'Z7', u'Z8', u'Z9'], dtype='object')"
      ]
     },
     "execution_count": 61,
     "metadata": {},
     "output_type": "execute_result"
    }
   ],
   "source": [
    "# merge labeled and inferred etho on movie and frame columns\n",
    "edf = pd.merge(code, xif, how='right', left_on='utime', right_on='time')\n",
    "edf.columns"
   ]
  },
  {
   "cell_type": "code",
   "execution_count": 62,
   "metadata": {
    "collapsed": false
   },
   "outputs": [],
   "source": [
    "# get rid of categories that are either identifiers or have non-binary entries\n",
    "to_drop = [col for col in edf.columns if not ('Z' in col or 'X' in col)]\n",
    "edf = edf.drop(to_drop, axis=1)"
   ]
  },
  {
   "cell_type": "code",
   "execution_count": 63,
   "metadata": {
    "collapsed": false
   },
   "outputs": [
    {
     "data": {
      "text/html": [
       "<div style=\"max-height:1000px;max-width:1500px;overflow:auto;\">\n",
       "<table border=\"1\" class=\"dataframe\">\n",
       "  <thead>\n",
       "    <tr style=\"text-align: right;\">\n",
       "      <th></th>\n",
       "      <th>Xstim</th>\n",
       "      <th>Xcoh0</th>\n",
       "      <th>Xcoh32</th>\n",
       "      <th>Xcoh64</th>\n",
       "      <th>Xcoh128</th>\n",
       "      <th>Xcoh256</th>\n",
       "      <th>Xcoh512</th>\n",
       "      <th>Xin</th>\n",
       "      <th>Xout</th>\n",
       "      <th>Z0</th>\n",
       "      <th>Z1</th>\n",
       "      <th>Z2</th>\n",
       "      <th>Z3</th>\n",
       "      <th>Z4</th>\n",
       "      <th>Z5</th>\n",
       "      <th>Z6</th>\n",
       "      <th>Z7</th>\n",
       "      <th>Z8</th>\n",
       "      <th>Z9</th>\n",
       "    </tr>\n",
       "  </thead>\n",
       "  <tbody>\n",
       "    <tr>\n",
       "      <th>0</th>\n",
       "      <td>0</td>\n",
       "      <td>0</td>\n",
       "      <td>0</td>\n",
       "      <td>0</td>\n",
       "      <td>0</td>\n",
       "      <td>0</td>\n",
       "      <td>0</td>\n",
       "      <td>0</td>\n",
       "      <td>0</td>\n",
       "      <td>0.000321</td>\n",
       "      <td>0.005294</td>\n",
       "      <td>0.898357</td>\n",
       "      <td>2.216577e-04</td>\n",
       "      <td>0.000025</td>\n",
       "      <td>0.044452</td>\n",
       "      <td>0.044899</td>\n",
       "      <td>0.042627</td>\n",
       "      <td>0.040423</td>\n",
       "      <td>0.004727</td>\n",
       "    </tr>\n",
       "    <tr>\n",
       "      <th>1</th>\n",
       "      <td>1</td>\n",
       "      <td>1</td>\n",
       "      <td>0</td>\n",
       "      <td>0</td>\n",
       "      <td>0</td>\n",
       "      <td>0</td>\n",
       "      <td>0</td>\n",
       "      <td>1</td>\n",
       "      <td>0</td>\n",
       "      <td>0.000042</td>\n",
       "      <td>0.010022</td>\n",
       "      <td>0.989109</td>\n",
       "      <td>2.758467e-06</td>\n",
       "      <td>0.000034</td>\n",
       "      <td>0.237831</td>\n",
       "      <td>0.142847</td>\n",
       "      <td>0.359761</td>\n",
       "      <td>0.368477</td>\n",
       "      <td>0.001844</td>\n",
       "    </tr>\n",
       "    <tr>\n",
       "      <th>2</th>\n",
       "      <td>1</td>\n",
       "      <td>1</td>\n",
       "      <td>0</td>\n",
       "      <td>0</td>\n",
       "      <td>0</td>\n",
       "      <td>0</td>\n",
       "      <td>0</td>\n",
       "      <td>1</td>\n",
       "      <td>0</td>\n",
       "      <td>0.000245</td>\n",
       "      <td>0.013803</td>\n",
       "      <td>0.996827</td>\n",
       "      <td>1.455081e-05</td>\n",
       "      <td>0.000003</td>\n",
       "      <td>0.371807</td>\n",
       "      <td>0.236694</td>\n",
       "      <td>0.519177</td>\n",
       "      <td>0.565290</td>\n",
       "      <td>0.001821</td>\n",
       "    </tr>\n",
       "    <tr>\n",
       "      <th>3</th>\n",
       "      <td>1</td>\n",
       "      <td>1</td>\n",
       "      <td>0</td>\n",
       "      <td>0</td>\n",
       "      <td>0</td>\n",
       "      <td>0</td>\n",
       "      <td>0</td>\n",
       "      <td>1</td>\n",
       "      <td>0</td>\n",
       "      <td>0.000005</td>\n",
       "      <td>0.027780</td>\n",
       "      <td>0.999943</td>\n",
       "      <td>4.378792e-08</td>\n",
       "      <td>0.000015</td>\n",
       "      <td>0.370202</td>\n",
       "      <td>0.231253</td>\n",
       "      <td>0.533235</td>\n",
       "      <td>0.646563</td>\n",
       "      <td>0.001509</td>\n",
       "    </tr>\n",
       "    <tr>\n",
       "      <th>4</th>\n",
       "      <td>1</td>\n",
       "      <td>1</td>\n",
       "      <td>0</td>\n",
       "      <td>0</td>\n",
       "      <td>0</td>\n",
       "      <td>0</td>\n",
       "      <td>0</td>\n",
       "      <td>1</td>\n",
       "      <td>0</td>\n",
       "      <td>0.000121</td>\n",
       "      <td>0.058748</td>\n",
       "      <td>0.999523</td>\n",
       "      <td>1.601518e-06</td>\n",
       "      <td>0.000003</td>\n",
       "      <td>0.425541</td>\n",
       "      <td>0.278344</td>\n",
       "      <td>0.580638</td>\n",
       "      <td>0.706122</td>\n",
       "      <td>0.002282</td>\n",
       "    </tr>\n",
       "  </tbody>\n",
       "</table>\n",
       "</div>"
      ],
      "text/plain": [
       "   Xstim  Xcoh0  Xcoh32  Xcoh64  Xcoh128  Xcoh256  Xcoh512  Xin  Xout  \\\n",
       "0      0      0       0       0        0        0        0    0     0   \n",
       "1      1      1       0       0        0        0        0    1     0   \n",
       "2      1      1       0       0        0        0        0    1     0   \n",
       "3      1      1       0       0        0        0        0    1     0   \n",
       "4      1      1       0       0        0        0        0    1     0   \n",
       "\n",
       "         Z0        Z1        Z2            Z3        Z4        Z5        Z6  \\\n",
       "0  0.000321  0.005294  0.898357  2.216577e-04  0.000025  0.044452  0.044899   \n",
       "1  0.000042  0.010022  0.989109  2.758467e-06  0.000034  0.237831  0.142847   \n",
       "2  0.000245  0.013803  0.996827  1.455081e-05  0.000003  0.371807  0.236694   \n",
       "3  0.000005  0.027780  0.999943  4.378792e-08  0.000015  0.370202  0.231253   \n",
       "4  0.000121  0.058748  0.999523  1.601518e-06  0.000003  0.425541  0.278344   \n",
       "\n",
       "         Z7        Z8        Z9  \n",
       "0  0.042627  0.040423  0.004727  \n",
       "1  0.359761  0.368477  0.001844  \n",
       "2  0.519177  0.565290  0.001821  \n",
       "3  0.533235  0.646563  0.001509  \n",
       "4  0.580638  0.706122  0.002282  "
      ]
     },
     "execution_count": 63,
     "metadata": {},
     "output_type": "execute_result"
    }
   ],
   "source": [
    "edf.head()"
   ]
  },
  {
   "cell_type": "markdown",
   "metadata": {},
   "source": [
    "# Compare actual and predicted firing"
   ]
  },
  {
   "cell_type": "code",
   "execution_count": 64,
   "metadata": {
    "collapsed": false
   },
   "outputs": [],
   "source": [
    "# make dataframe of firing rates\n",
    "meancnt = code.groupby(['time', 'stimulus']).mean()['count'].unstack(level=1)\n",
    "fr = pd.rolling_mean(meancnt, 9, min_periods=1, center=True) / dt"
   ]
  },
  {
   "cell_type": "code",
   "execution_count": 65,
   "metadata": {
    "collapsed": false
   },
   "outputs": [],
   "source": [
    "# calculate predicted firing rate\n",
    "pred_mat = unit_baseline_means[np.newaxis, :] * np.exp(xi.dot(np.log(fr_mean_effect.T)))\n",
    "preds = np.mean(pred_mat, axis=1)  # mean across units\n",
    "code['pred_fr'] = preds * np.mean(gpm.nodes['overdispersion'].expected_x())"
   ]
  },
  {
   "cell_type": "code",
   "execution_count": 66,
   "metadata": {
    "collapsed": false
   },
   "outputs": [
    {
     "data": {
      "image/png": "[encoded data removed]",
      "text/plain": [
       "<matplotlib.figure.Figure at 0x7f0f99c380d0>"
      ]
     },
     "metadata": {},
     "output_type": "display_data"
    }
   ],
   "source": [
    "if savefigs:\n",
    "    sns.set_context('talk', font_scale=1)\n",
    "    sns.set_style('white')\n",
    "\n",
    "plt.figure(figsize=(12, 4))\n",
    "\n",
    "##### first, do actual\n",
    "ax = plt.subplot(1, 2, 1)\n",
    "\n",
    "# label cols according to coherence, RF\n",
    "coh_tbl = code[['stimulus', 'coherence', 'into_RF']].drop_duplicates()\n",
    "colnames = []\n",
    "for idx, row in coh_tbl.iterrows():\n",
    "    coh_str = str(row['coherence'] / 10)\n",
    "    colnames.append(coh_str)\n",
    "\n",
    "fr.columns = colnames\n",
    "midpt = int(fr.shape[1] / 2)\n",
    "fr.iloc[:, :midpt].plot(ax=ax, legend=False)\n",
    "fr.iloc[:, midpt:].plot(ax=ax, legend=False, linestyle='--')\n",
    "plt.xlabel('Time (ms)')\n",
    "plt.ylabel('Firing Rate (spks/s)')\n",
    "plt.title('Stimulus period activity (actual)')\n",
    "yl = plt.ylim()\n",
    "\n",
    "##### now do predicted\n",
    "ax = plt.subplot(1, 2, 2)\n",
    "\n",
    "# data frame of predicted firing for each stimulus\n",
    "pred_df = code.groupby(['time', 'stimulus']).mean()['pred_fr'].unstack(level=1)\n",
    "\n",
    "# plot\n",
    "midpt = int(pred_df.shape[1] / 2)\n",
    "pred_df.iloc[:, :midpt].plot(ax=ax, legend=False)\n",
    "pred_df.iloc[:, midpt:].plot(ax=ax, legend=False, linestyle='--')\n",
    "plt.ylim(yl)\n",
    "ax.legend(colnames[:midpt], bbox_to_anchor=(1.3, 1.00), title='Coherence');\n",
    "plt.xlabel('Time (ms)')\n",
    "plt.ylabel('Firing Rate (spks/s)')\n",
    "plt.title('Stimulus period activity (predicted)');\n",
    "\n",
    "if savefigs:\n",
    "    plt.savefig('roitman_fr.svg')\n",
    "    sns.set()\n",
    "    sns.set_style('darkgrid')"
   ]
  },
  {
   "cell_type": "markdown",
   "metadata": {},
   "source": [
    "# View results:"
   ]
  },
  {
   "cell_type": "code",
   "execution_count": 67,
   "metadata": {
    "collapsed": false
   },
   "outputs": [
    {
     "data": {
      "image/png": "[encoded data removed]",
      "text/plain": [
       "<matplotlib.figure.Figure at 0x7f0f99604510>"
      ]
     },
     "metadata": {},
     "output_type": "display_data"
    }
   ],
   "source": [
    "if savefigs:\n",
    "    sns.set_context('poster', font_scale=1)\n",
    "\n",
    "# plot a section in time; each row is a regressor; bottom rows are inferred categories\n",
    "trng = slice(None)\n",
    "matshow(edf.iloc[trng].values.T, vmin=0, vmax=1);\n",
    "col_labels = [c.replace('X', '').capitalize() for c in edf.columns]\n",
    "plt.yticks(xrange(len(col_labels)), col_labels);\n",
    "plt.gcf().set_size_inches([20, 5])\n",
    "\n",
    "if savefigs:\n",
    "    plt.savefig('roitman_recovery.svg')\n",
    "    sns.set()"
   ]
  },
  {
   "cell_type": "markdown",
   "metadata": {},
   "source": [
    "## Overlap analysis:"
   ]
  },
  {
   "cell_type": "markdown",
   "metadata": {},
   "source": [
    "Define the overlap as the maximum of the match or mismatch percentage. That is, if $x$ and $y$ are binary vectors, \n",
    "$$\n",
    "\\mathrm{overlap} = \\max \\{ \\mathbb{E}[xy + (1-x)(1-y)], \\mathbb{E}[(1-x)y + x(1-y)]\\}\n",
    "$$"
   ]
  },
  {
   "cell_type": "code",
   "execution_count": 68,
   "metadata": {
    "collapsed": false
   },
   "outputs": [],
   "source": [
    "match = (edf.T.dot(edf) + (1 - edf.T).dot(1 - edf)) / T\n",
    "mismatch = (edf.T.dot(1 - edf) + (1 - edf.T).dot(edf)) / T\n",
    "overlap = np.maximum(match, mismatch)"
   ]
  },
  {
   "cell_type": "code",
   "execution_count": 69,
   "metadata": {
    "collapsed": false
   },
   "outputs": [
    {
     "data": {
      "image/png": "[encoded data removed]",
      "text/plain": [
       "<matplotlib.figure.Figure at 0x7f0f9a445e50>"
      ]
     },
     "metadata": {},
     "output_type": "display_data"
    }
   ],
   "source": [
    "row_labels = edf.columns[:-K]\n",
    "matshow(overlap.values[-K:,:-K]) #, vmin=0.5, vmax=1)\n",
    "plt.ylabel('inferred factor')\n",
    "plt.xlabel('labeled factor')\n",
    "plt.colorbar();\n",
    "\n",
    "# add column names\n",
    "ax = plt.gca()\n",
    "ax.xaxis.set_label_position('top')\n",
    "plt.tick_params(axis='x', which='both', top='off', bottom='off', \n",
    "                labelbottom='on', labeltop='off', pad=5)\n",
    "plt.xticks(xrange(len(row_labels)), row_labels, rotation='vertical', horizontalalignment='center');"
   ]
  },
  {
   "cell_type": "code",
   "execution_count": 70,
   "metadata": {
    "collapsed": false
   },
   "outputs": [
    {
     "data": {
      "text/html": [
       "<div style=\"max-height:1000px;max-width:1500px;overflow:auto;\">\n",
       "<table border=\"1\" class=\"dataframe\">\n",
       "  <thead>\n",
       "    <tr style=\"text-align: right;\">\n",
       "      <th></th>\n",
       "      <th>Xstim</th>\n",
       "      <th>Xcoh0</th>\n",
       "      <th>Xcoh32</th>\n",
       "      <th>Xcoh64</th>\n",
       "      <th>Xcoh128</th>\n",
       "      <th>Xcoh256</th>\n",
       "      <th>Xcoh512</th>\n",
       "      <th>Xin</th>\n",
       "      <th>Xout</th>\n",
       "      <th>Z0</th>\n",
       "      <th>Z1</th>\n",
       "      <th>Z2</th>\n",
       "      <th>Z3</th>\n",
       "      <th>Z4</th>\n",
       "      <th>Z5</th>\n",
       "      <th>Z6</th>\n",
       "      <th>Z7</th>\n",
       "      <th>Z8</th>\n",
       "      <th>Z9</th>\n",
       "    </tr>\n",
       "  </thead>\n",
       "  <tbody>\n",
       "    <tr>\n",
       "      <th>Z0</th>\n",
       "      <td>0.635682</td>\n",
       "      <td>0.637069</td>\n",
       "      <td>0.591879</td>\n",
       "      <td>0.596464</td>\n",
       "      <td>0.605853</td>\n",
       "      <td>0.599271</td>\n",
       "      <td>0.606850</td>\n",
       "      <td>0.794691</td>\n",
       "      <td>0.813899</td>\n",
       "      <td>0.979902</td>\n",
       "      <td>0.801871</td>\n",
       "      <td>0.551941</td>\n",
       "      <td>0.748123</td>\n",
       "      <td>0.592068</td>\n",
       "      <td>0.530095</td>\n",
       "      <td>0.573807</td>\n",
       "      <td>0.519647</td>\n",
       "      <td>0.573736</td>\n",
       "      <td>0.611872</td>\n",
       "    </tr>\n",
       "    <tr>\n",
       "      <th>Z1</th>\n",
       "      <td>0.502458</td>\n",
       "      <td>0.501357</td>\n",
       "      <td>0.502740</td>\n",
       "      <td>0.502722</td>\n",
       "      <td>0.501735</td>\n",
       "      <td>0.502766</td>\n",
       "      <td>0.502693</td>\n",
       "      <td>0.967821</td>\n",
       "      <td>0.967482</td>\n",
       "      <td>0.801871</td>\n",
       "      <td>0.984869</td>\n",
       "      <td>0.502138</td>\n",
       "      <td>0.594105</td>\n",
       "      <td>0.565020</td>\n",
       "      <td>0.502370</td>\n",
       "      <td>0.502777</td>\n",
       "      <td>0.501805</td>\n",
       "      <td>0.501734</td>\n",
       "      <td>0.541679</td>\n",
       "    </tr>\n",
       "    <tr>\n",
       "      <th>Z2</th>\n",
       "      <td>0.674481</td>\n",
       "      <td>0.634926</td>\n",
       "      <td>0.552342</td>\n",
       "      <td>0.535136</td>\n",
       "      <td>0.650747</td>\n",
       "      <td>0.623993</td>\n",
       "      <td>0.642342</td>\n",
       "      <td>0.502968</td>\n",
       "      <td>0.508034</td>\n",
       "      <td>0.551941</td>\n",
       "      <td>0.502138</td>\n",
       "      <td>0.955709</td>\n",
       "      <td>0.603709</td>\n",
       "      <td>0.610393</td>\n",
       "      <td>0.525808</td>\n",
       "      <td>0.572594</td>\n",
       "      <td>0.525857</td>\n",
       "      <td>0.585456</td>\n",
       "      <td>0.593037</td>\n",
       "    </tr>\n",
       "    <tr>\n",
       "      <th>Z3</th>\n",
       "      <td>0.883870</td>\n",
       "      <td>0.739649</td>\n",
       "      <td>0.739652</td>\n",
       "      <td>0.739640</td>\n",
       "      <td>0.739645</td>\n",
       "      <td>0.834211</td>\n",
       "      <td>0.838831</td>\n",
       "      <td>0.586867</td>\n",
       "      <td>0.606961</td>\n",
       "      <td>0.748123</td>\n",
       "      <td>0.594105</td>\n",
       "      <td>0.603709</td>\n",
       "      <td>0.998095</td>\n",
       "      <td>0.840479</td>\n",
       "      <td>0.563638</td>\n",
       "      <td>0.676471</td>\n",
       "      <td>0.561435</td>\n",
       "      <td>0.700591</td>\n",
       "      <td>0.783575</td>\n",
       "    </tr>\n",
       "    <tr>\n",
       "      <th>Z4</th>\n",
       "      <td>0.919429</td>\n",
       "      <td>0.774501</td>\n",
       "      <td>0.773909</td>\n",
       "      <td>0.773902</td>\n",
       "      <td>0.773919</td>\n",
       "      <td>0.773912</td>\n",
       "      <td>0.897216</td>\n",
       "      <td>0.570707</td>\n",
       "      <td>0.551914</td>\n",
       "      <td>0.592068</td>\n",
       "      <td>0.565020</td>\n",
       "      <td>0.610393</td>\n",
       "      <td>0.840479</td>\n",
       "      <td>0.996495</td>\n",
       "      <td>0.566695</td>\n",
       "      <td>0.687896</td>\n",
       "      <td>0.567737</td>\n",
       "      <td>0.718232</td>\n",
       "      <td>0.843741</td>\n",
       "    </tr>\n",
       "    <tr>\n",
       "      <th>Z5</th>\n",
       "      <td>0.572701</td>\n",
       "      <td>0.549394</td>\n",
       "      <td>0.553710</td>\n",
       "      <td>0.554520</td>\n",
       "      <td>0.556829</td>\n",
       "      <td>0.542170</td>\n",
       "      <td>0.557205</td>\n",
       "      <td>0.501800</td>\n",
       "      <td>0.502924</td>\n",
       "      <td>0.530095</td>\n",
       "      <td>0.502370</td>\n",
       "      <td>0.525808</td>\n",
       "      <td>0.563638</td>\n",
       "      <td>0.566695</td>\n",
       "      <td>0.520304</td>\n",
       "      <td>0.542288</td>\n",
       "      <td>0.505973</td>\n",
       "      <td>0.534506</td>\n",
       "      <td>0.561600</td>\n",
       "    </tr>\n",
       "    <tr>\n",
       "      <th>Z6</th>\n",
       "      <td>0.707462</td>\n",
       "      <td>0.642912</td>\n",
       "      <td>0.648098</td>\n",
       "      <td>0.648207</td>\n",
       "      <td>0.652139</td>\n",
       "      <td>0.635220</td>\n",
       "      <td>0.650840</td>\n",
       "      <td>0.504383</td>\n",
       "      <td>0.505493</td>\n",
       "      <td>0.573807</td>\n",
       "      <td>0.502777</td>\n",
       "      <td>0.572594</td>\n",
       "      <td>0.676471</td>\n",
       "      <td>0.687896</td>\n",
       "      <td>0.542288</td>\n",
       "      <td>0.603527</td>\n",
       "      <td>0.527497</td>\n",
       "      <td>0.604377</td>\n",
       "      <td>0.664890</td>\n",
       "    </tr>\n",
       "    <tr>\n",
       "      <th>Z7</th>\n",
       "      <td>0.576319</td>\n",
       "      <td>0.554018</td>\n",
       "      <td>0.550882</td>\n",
       "      <td>0.550017</td>\n",
       "      <td>0.549021</td>\n",
       "      <td>0.558241</td>\n",
       "      <td>0.548035</td>\n",
       "      <td>0.500897</td>\n",
       "      <td>0.500235</td>\n",
       "      <td>0.519647</td>\n",
       "      <td>0.501805</td>\n",
       "      <td>0.525857</td>\n",
       "      <td>0.561435</td>\n",
       "      <td>0.567737</td>\n",
       "      <td>0.505973</td>\n",
       "      <td>0.527497</td>\n",
       "      <td>0.516523</td>\n",
       "      <td>0.542117</td>\n",
       "      <td>0.553785</td>\n",
       "    </tr>\n",
       "    <tr>\n",
       "      <th>Z8</th>\n",
       "      <td>0.742356</td>\n",
       "      <td>0.670776</td>\n",
       "      <td>0.667358</td>\n",
       "      <td>0.665210</td>\n",
       "      <td>0.665539</td>\n",
       "      <td>0.671434</td>\n",
       "      <td>0.665489</td>\n",
       "      <td>0.504609</td>\n",
       "      <td>0.503114</td>\n",
       "      <td>0.573736</td>\n",
       "      <td>0.501734</td>\n",
       "      <td>0.585456</td>\n",
       "      <td>0.700591</td>\n",
       "      <td>0.718232</td>\n",
       "      <td>0.534506</td>\n",
       "      <td>0.604377</td>\n",
       "      <td>0.542117</td>\n",
       "      <td>0.628220</td>\n",
       "      <td>0.682158</td>\n",
       "    </tr>\n",
       "    <tr>\n",
       "      <th>Z9</th>\n",
       "      <td>0.851334</td>\n",
       "      <td>0.709630</td>\n",
       "      <td>0.839262</td>\n",
       "      <td>0.706150</td>\n",
       "      <td>0.772067</td>\n",
       "      <td>0.706656</td>\n",
       "      <td>0.759260</td>\n",
       "      <td>0.546245</td>\n",
       "      <td>0.527846</td>\n",
       "      <td>0.611872</td>\n",
       "      <td>0.541679</td>\n",
       "      <td>0.593037</td>\n",
       "      <td>0.783575</td>\n",
       "      <td>0.843741</td>\n",
       "      <td>0.561600</td>\n",
       "      <td>0.664890</td>\n",
       "      <td>0.553785</td>\n",
       "      <td>0.682158</td>\n",
       "      <td>0.939490</td>\n",
       "    </tr>\n",
       "  </tbody>\n",
       "</table>\n",
       "</div>"
      ],
      "text/plain": [
       "       Xstim     Xcoh0    Xcoh32    Xcoh64   Xcoh128   Xcoh256   Xcoh512  \\\n",
       "Z0  0.635682  0.637069  0.591879  0.596464  0.605853  0.599271  0.606850   \n",
       "Z1  0.502458  0.501357  0.502740  0.502722  0.501735  0.502766  0.502693   \n",
       "Z2  0.674481  0.634926  0.552342  0.535136  0.650747  0.623993  0.642342   \n",
       "Z3  0.883870  0.739649  0.739652  0.739640  0.739645  0.834211  0.838831   \n",
       "Z4  0.919429  0.774501  0.773909  0.773902  0.773919  0.773912  0.897216   \n",
       "Z5  0.572701  0.549394  0.553710  0.554520  0.556829  0.542170  0.557205   \n",
       "Z6  0.707462  0.642912  0.648098  0.648207  0.652139  0.635220  0.650840   \n",
       "Z7  0.576319  0.554018  0.550882  0.550017  0.549021  0.558241  0.548035   \n",
       "Z8  0.742356  0.670776  0.667358  0.665210  0.665539  0.671434  0.665489   \n",
       "Z9  0.851334  0.709630  0.839262  0.706150  0.772067  0.706656  0.759260   \n",
       "\n",
       "         Xin      Xout        Z0        Z1        Z2        Z3        Z4  \\\n",
       "Z0  0.794691  0.813899  0.979902  0.801871  0.551941  0.748123  0.592068   \n",
       "Z1  0.967821  0.967482  0.801871  0.984869  0.502138  0.594105  0.565020   \n",
       "Z2  0.502968  0.508034  0.551941  0.502138  0.955709  0.603709  0.610393   \n",
       "Z3  0.586867  0.606961  0.748123  0.594105  0.603709  0.998095  0.840479   \n",
       "Z4  0.570707  0.551914  0.592068  0.565020  0.610393  0.840479  0.996495   \n",
       "Z5  0.501800  0.502924  0.530095  0.502370  0.525808  0.563638  0.566695   \n",
       "Z6  0.504383  0.505493  0.573807  0.502777  0.572594  0.676471  0.687896   \n",
       "Z7  0.500897  0.500235  0.519647  0.501805  0.525857  0.561435  0.567737   \n",
       "Z8  0.504609  0.503114  0.573736  0.501734  0.585456  0.700591  0.718232   \n",
       "Z9  0.546245  0.527846  0.611872  0.541679  0.593037  0.783575  0.843741   \n",
       "\n",
       "          Z5        Z6        Z7        Z8        Z9  \n",
       "Z0  0.530095  0.573807  0.519647  0.573736  0.611872  \n",
       "Z1  0.502370  0.502777  0.501805  0.501734  0.541679  \n",
       "Z2  0.525808  0.572594  0.525857  0.585456  0.593037  \n",
       "Z3  0.563638  0.676471  0.561435  0.700591  0.783575  \n",
       "Z4  0.566695  0.687896  0.567737  0.718232  0.843741  \n",
       "Z5  0.520304  0.542288  0.505973  0.534506  0.561600  \n",
       "Z6  0.542288  0.603527  0.527497  0.604377  0.664890  \n",
       "Z7  0.505973  0.527497  0.516523  0.542117  0.553785  \n",
       "Z8  0.534506  0.604377  0.542117  0.628220  0.682158  \n",
       "Z9  0.561600  0.664890  0.553785  0.682158  0.939490  "
      ]
     },
     "execution_count": 70,
     "metadata": {},
     "output_type": "execute_result"
    }
   ],
   "source": [
    "overlap.iloc[-K:, :]"
   ]
  },
  {
   "cell_type": "markdown",
   "metadata": {},
   "source": [
    "## Mutual Information"
   ]
  },
  {
   "cell_type": "code",
   "execution_count": 71,
   "metadata": {
    "collapsed": false
   },
   "outputs": [],
   "source": [
    "mi_mat = mutual_information_matrix(edf.iloc[:, :-K].values, edf.iloc[:, -K:].values)"
   ]
  },
  {
   "cell_type": "code",
   "execution_count": 72,
   "metadata": {
    "collapsed": false
   },
   "outputs": [
    {
     "data": {
      "image/png": "[encoded data removed]",
      "text/plain": [
       "<matplotlib.figure.Figure at 0x7f0f98dd0890>"
      ]
     },
     "metadata": {},
     "output_type": "display_data"
    }
   ],
   "source": [
    "row_labels = edf.columns[:-K]\n",
    "matshow(mi_mat.T, vmin=0, vmax=1)\n",
    "plt.ylabel('inferred factor')\n",
    "plt.xlabel('labeled factor')\n",
    "plt.colorbar();\n",
    "\n",
    "# add column names\n",
    "ax = plt.gca()\n",
    "ax.xaxis.set_label_position('top')\n",
    "plt.tick_params(axis='x', which='both', top='off', bottom='off', \n",
    "                labelbottom='on', labeltop='off', pad=5)\n",
    "plt.xticks(xrange(len(row_labels)), row_labels, rotation='vertical', horizontalalignment='center');"
   ]
  },
  {
   "cell_type": "code",
   "execution_count": 73,
   "metadata": {
    "collapsed": false
   },
   "outputs": [
    {
     "data": {
      "text/html": [
       "<div style=\"max-height:1000px;max-width:1500px;overflow:auto;\">\n",
       "<table border=\"1\" class=\"dataframe\">\n",
       "  <thead>\n",
       "    <tr style=\"text-align: right;\">\n",
       "      <th></th>\n",
       "      <th>Xstim</th>\n",
       "      <th>Xcoh0</th>\n",
       "      <th>Xcoh32</th>\n",
       "      <th>Xcoh64</th>\n",
       "      <th>Xcoh128</th>\n",
       "      <th>Xcoh256</th>\n",
       "      <th>Xcoh512</th>\n",
       "      <th>Xin</th>\n",
       "      <th>Xout</th>\n",
       "    </tr>\n",
       "  </thead>\n",
       "  <tbody>\n",
       "    <tr>\n",
       "      <th>0</th>\n",
       "      <td>0.030157</td>\n",
       "      <td>0.007980</td>\n",
       "      <td>0.001138</td>\n",
       "      <td>0.000440</td>\n",
       "      <td>2.401910e-05</td>\n",
       "      <td>0.000175</td>\n",
       "      <td>0.000058</td>\n",
       "      <td>0.320299</td>\n",
       "      <td>0.368765</td>\n",
       "    </tr>\n",
       "    <tr>\n",
       "      <th>1</th>\n",
       "      <td>0.000004</td>\n",
       "      <td>0.000068</td>\n",
       "      <td>0.000005</td>\n",
       "      <td>0.000005</td>\n",
       "      <td>8.923881e-08</td>\n",
       "      <td>0.000005</td>\n",
       "      <td>0.000005</td>\n",
       "      <td>0.785438</td>\n",
       "      <td>0.788225</td>\n",
       "    </tr>\n",
       "    <tr>\n",
       "      <th>2</th>\n",
       "      <td>0.036608</td>\n",
       "      <td>0.004803</td>\n",
       "      <td>0.027832</td>\n",
       "      <td>0.049636</td>\n",
       "      <td>1.252085e-02</td>\n",
       "      <td>0.001569</td>\n",
       "      <td>0.007977</td>\n",
       "      <td>-0.011625</td>\n",
       "      <td>-0.026313</td>\n",
       "    </tr>\n",
       "    <tr>\n",
       "      <th>3</th>\n",
       "      <td>0.011362</td>\n",
       "      <td>0.048426</td>\n",
       "      <td>0.048401</td>\n",
       "      <td>0.048539</td>\n",
       "      <td>4.847791e-02</td>\n",
       "      <td>0.084002</td>\n",
       "      <td>0.095808</td>\n",
       "      <td>0.149221</td>\n",
       "      <td>0.107206</td>\n",
       "    </tr>\n",
       "    <tr>\n",
       "      <th>4</th>\n",
       "      <td>0.001100</td>\n",
       "      <td>0.031393</td>\n",
       "      <td>0.035695</td>\n",
       "      <td>0.035776</td>\n",
       "      <td>3.557963e-02</td>\n",
       "      <td>0.035652</td>\n",
       "      <td>0.366139</td>\n",
       "      <td>0.048885</td>\n",
       "      <td>0.103118</td>\n",
       "    </tr>\n",
       "    <tr>\n",
       "      <th>5</th>\n",
       "      <td>0.000287</td>\n",
       "      <td>0.000047</td>\n",
       "      <td>0.000019</td>\n",
       "      <td>0.000042</td>\n",
       "      <td>1.560679e-04</td>\n",
       "      <td>0.000665</td>\n",
       "      <td>0.000182</td>\n",
       "      <td>0.000577</td>\n",
       "      <td>0.000100</td>\n",
       "    </tr>\n",
       "    <tr>\n",
       "      <th>6</th>\n",
       "      <td>0.000192</td>\n",
       "      <td>0.000086</td>\n",
       "      <td>0.000037</td>\n",
       "      <td>0.000041</td>\n",
       "      <td>3.218775e-04</td>\n",
       "      <td>0.001045</td>\n",
       "      <td>0.000200</td>\n",
       "      <td>0.001791</td>\n",
       "      <td>0.000135</td>\n",
       "    </tr>\n",
       "    <tr>\n",
       "      <th>7</th>\n",
       "      <td>0.000417</td>\n",
       "      <td>0.000027</td>\n",
       "      <td>0.000009</td>\n",
       "      <td>0.000028</td>\n",
       "      <td>6.181647e-05</td>\n",
       "      <td>0.000261</td>\n",
       "      <td>0.000109</td>\n",
       "      <td>-0.000423</td>\n",
       "      <td>-0.000071</td>\n",
       "    </tr>\n",
       "    <tr>\n",
       "      <th>8</th>\n",
       "      <td>0.000787</td>\n",
       "      <td>0.000073</td>\n",
       "      <td>0.000004</td>\n",
       "      <td>0.000077</td>\n",
       "      <td>6.028073e-05</td>\n",
       "      <td>0.000112</td>\n",
       "      <td>0.000063</td>\n",
       "      <td>-0.002067</td>\n",
       "      <td>-0.000494</td>\n",
       "    </tr>\n",
       "    <tr>\n",
       "      <th>9</th>\n",
       "      <td>0.004399</td>\n",
       "      <td>0.042216</td>\n",
       "      <td>0.123624</td>\n",
       "      <td>0.055932</td>\n",
       "      <td>9.847322e-03</td>\n",
       "      <td>0.053426</td>\n",
       "      <td>0.002206</td>\n",
       "      <td>-0.032523</td>\n",
       "      <td>-0.026502</td>\n",
       "    </tr>\n",
       "  </tbody>\n",
       "</table>\n",
       "</div>"
      ],
      "text/plain": [
       "      Xstim     Xcoh0    Xcoh32    Xcoh64       Xcoh128   Xcoh256   Xcoh512  \\\n",
       "0  0.030157  0.007980  0.001138  0.000440  2.401910e-05  0.000175  0.000058   \n",
       "1  0.000004  0.000068  0.000005  0.000005  8.923881e-08  0.000005  0.000005   \n",
       "2  0.036608  0.004803  0.027832  0.049636  1.252085e-02  0.001569  0.007977   \n",
       "3  0.011362  0.048426  0.048401  0.048539  4.847791e-02  0.084002  0.095808   \n",
       "4  0.001100  0.031393  0.035695  0.035776  3.557963e-02  0.035652  0.366139   \n",
       "5  0.000287  0.000047  0.000019  0.000042  1.560679e-04  0.000665  0.000182   \n",
       "6  0.000192  0.000086  0.000037  0.000041  3.218775e-04  0.001045  0.000200   \n",
       "7  0.000417  0.000027  0.000009  0.000028  6.181647e-05  0.000261  0.000109   \n",
       "8  0.000787  0.000073  0.000004  0.000077  6.028073e-05  0.000112  0.000063   \n",
       "9  0.004399  0.042216  0.123624  0.055932  9.847322e-03  0.053426  0.002206   \n",
       "\n",
       "        Xin      Xout  \n",
       "0  0.320299  0.368765  \n",
       "1  0.785438  0.788225  \n",
       "2 -0.011625 -0.026313  \n",
       "3  0.149221  0.107206  \n",
       "4  0.048885  0.103118  \n",
       "5  0.000577  0.000100  \n",
       "6  0.001791  0.000135  \n",
       "7 -0.000423 -0.000071  \n",
       "8 -0.002067 -0.000494  \n",
       "9 -0.032523 -0.026502  "
      ]
     },
     "execution_count": 73,
     "metadata": {},
     "output_type": "execute_result"
    }
   ],
   "source": [
    "pd.DataFrame(mi_mat.T, columns=row_labels)"
   ]
  },
  {
   "cell_type": "code",
   "execution_count": null,
   "metadata": {
    "collapsed": true
   },
   "outputs": [],
   "source": []
  }
 ],
 "metadata": {
  "kernelspec": {
   "display_name": "Python 2",
   "language": "python",
   "name": "python2"
  },
  "language_info": {
   "codemirror_mode": {
    "name": "ipython",
    "version": 2
   },
   "file_extension": ".py",
   "mimetype": "text/x-python",
   "name": "python",
   "nbconvert_exporter": "python",
   "pygments_lexer": "ipython2",
   "version": "2.7.9"
  }
 },
 "nbformat": 4,
 "nbformat_minor": 0
}
