{
 "cells": [
  {
   "cell_type": "code",
   "execution_count": 31,
   "metadata": {
    "collapsed": false
   },
   "outputs": [],
   "source": [
    "from __future__ import division\n",
    "import numpy as np\n",
    "import pandas as pd\n",
    "import matplotlib.pyplot as plt\n",
    "import seaborn as sns\n",
    "import matplotlib.cm as cm\n",
    "import cPickle as pickle\n",
    "from spiketopics.helpers import *\n",
    "\n",
    "%matplotlib inline\n",
    "sns.set_style('darkgrid')\n",
    "savefigs = False"
   ]
  },
  {
   "cell_type": "markdown",
   "metadata": {},
   "source": [
    "# Load in data"
   ]
  },
  {
   "cell_type": "code",
   "execution_count": 32,
   "metadata": {
    "collapsed": false
   },
   "outputs": [],
   "source": [
    "infile = 'data/fitted_model_object.pkl'\n",
    "gpm = pickle.load(open(infile, 'rb'))\n",
    "dt = 0.020"
   ]
  },
  {
   "cell_type": "code",
   "execution_count": 33,
   "metadata": {
    "collapsed": false
   },
   "outputs": [
    {
     "data": {
      "text/html": [
       "<div style=\"max-height:1000px;max-width:1500px;overflow:auto;\">\n",
       "<table border=\"1\" class=\"dataframe\">\n",
       "  <thead>\n",
       "    <tr style=\"text-align: right;\">\n",
       "      <th></th>\n",
       "      <th>unit</th>\n",
       "      <th>time</th>\n",
       "      <th>count</th>\n",
       "      <th>lam0</th>\n",
       "      <th>lam1</th>\n",
       "    </tr>\n",
       "  </thead>\n",
       "  <tbody>\n",
       "    <tr>\n",
       "      <th>0</th>\n",
       "      <td>2</td>\n",
       "      <td>364</td>\n",
       "      <td>1</td>\n",
       "      <td>-0.916307</td>\n",
       "      <td>-0.925421</td>\n",
       "    </tr>\n",
       "    <tr>\n",
       "      <th>1</th>\n",
       "      <td>8</td>\n",
       "      <td>364</td>\n",
       "      <td>1</td>\n",
       "      <td>-1.034085</td>\n",
       "      <td>-1.052426</td>\n",
       "    </tr>\n",
       "    <tr>\n",
       "      <th>2</th>\n",
       "      <td>0</td>\n",
       "      <td>364</td>\n",
       "      <td>0</td>\n",
       "      <td>-0.387339</td>\n",
       "      <td>-0.305787</td>\n",
       "    </tr>\n",
       "    <tr>\n",
       "      <th>3</th>\n",
       "      <td>0</td>\n",
       "      <td>364</td>\n",
       "      <td>1</td>\n",
       "      <td>-0.451895</td>\n",
       "      <td>-0.594661</td>\n",
       "    </tr>\n",
       "    <tr>\n",
       "      <th>4</th>\n",
       "      <td>0</td>\n",
       "      <td>364</td>\n",
       "      <td>0</td>\n",
       "      <td>-0.387339</td>\n",
       "      <td>-0.305787</td>\n",
       "    </tr>\n",
       "  </tbody>\n",
       "</table>\n",
       "</div>"
      ],
      "text/plain": [
       "   unit  time  count      lam0      lam1\n",
       "0     2   364      1 -0.916307 -0.925421\n",
       "1     8   364      1 -1.034085 -1.052426\n",
       "2     0   364      0 -0.387339 -0.305787\n",
       "3     0   364      1 -0.451895 -0.594661\n",
       "4     0   364      0 -0.387339 -0.305787"
      ]
     },
     "execution_count": 33,
     "metadata": {},
     "output_type": "execute_result"
    }
   ],
   "source": [
    "gpm.Nframe.head()"
   ]
  },
  {
   "cell_type": "code",
   "execution_count": 34,
   "metadata": {
    "collapsed": false
   },
   "outputs": [],
   "source": [
    "if gpm.regressors:\n",
    "    gpm.Xframe.head()"
   ]
  },
  {
   "cell_type": "markdown",
   "metadata": {},
   "source": [
    "# Plot inferred categories as matrix"
   ]
  },
  {
   "cell_type": "code",
   "execution_count": 35,
   "metadata": {
    "collapsed": false
   },
   "outputs": [
    {
     "name": "stdout",
     "output_type": "stream",
     "text": [
      "(624, 10)\n"
     ]
    }
   ],
   "source": [
    "xi = gpm.nodes['HMM'].nodes['z'].z[1].copy()\n",
    "T, K = xi.shape\n",
    "print xi.shape"
   ]
  },
  {
   "cell_type": "code",
   "execution_count": 36,
   "metadata": {
    "collapsed": false
   },
   "outputs": [
    {
     "data": {
      "image/png": "[encoded data removed]",
      "text/plain": [
       "<matplotlib.figure.Figure at 0x7fb18872df90>"
      ]
     },
     "metadata": {},
     "output_type": "display_data"
    }
   ],
   "source": [
    "matshow(xi[:500].T, vmin=0, vmax=1);\n",
    "plt.colorbar();"
   ]
  },
  {
   "cell_type": "markdown",
   "metadata": {},
   "source": [
    "## Make $\\xi$ dataframe:"
   ]
  },
  {
   "cell_type": "code",
   "execution_count": 37,
   "metadata": {
    "collapsed": false
   },
   "outputs": [],
   "source": [
    "xif = pd.DataFrame(xi)\n",
    "xif.columns = ['Z' + str(k) for k in range(K)]\n",
    "xif.index.name = 'time'\n",
    "xif = xif.reset_index()"
   ]
  },
  {
   "cell_type": "markdown",
   "metadata": {},
   "source": [
    "# Posteriors for effects"
   ]
  },
  {
   "cell_type": "markdown",
   "metadata": {},
   "source": [
    "## Baselines"
   ]
  },
  {
   "cell_type": "code",
   "execution_count": 38,
   "metadata": {
    "collapsed": true
   },
   "outputs": [],
   "source": [
    "bl = gpm.nodes['baseline']\n",
    "unit_baseline_means = bl.expected_x() / dt"
   ]
  },
  {
   "cell_type": "code",
   "execution_count": 39,
   "metadata": {
    "collapsed": false
   },
   "outputs": [
    {
     "data": {
      "image/png": "[encoded data removed]",
      "text/plain": [
       "<matplotlib.figure.Figure at 0x7fb18848ba10>"
      ]
     },
     "metadata": {},
     "output_type": "display_data"
    }
   ],
   "source": [
    "plt.figure(figsize=(14, 4))\n",
    "\n",
    "th = gpm.nodes['baseline_mean']\n",
    "cc = gpm.nodes['baseline_shape']\n",
    "th_pars = [th.post_shape, th.post_rate]\n",
    "cc_pars = [cc.post_shape, cc.post_rate]\n",
    "samples = gamma_from_hypers(th_pars, cc_pars, 1e5)\n",
    "\n",
    "plt.subplot(1, 3, 1)\n",
    "xx = np.linspace(0, 5000, 500)\n",
    "plt.plot(xx, stats.invgamma.pdf(xx, a=th_pars[0], scale=th_pars[1]/dt))\n",
    "plt.title('Baseline mean parameter posterior');\n",
    "\n",
    "plt.subplot(1, 3, 2)\n",
    "xx = np.linspace(0, 20, 500)\n",
    "plt.plot(xx, stats.invgamma.pdf(xx, a=cc_pars[0], scale=cc_pars[1]))\n",
    "plt.title('Baseline variance parameter posterior');\n",
    "\n",
    "plt.subplot(1, 3, 3)\n",
    "sns.kdeplot(samples / dt, gridsize=1e4, clip=(0, 100))\n",
    "plt.title('baseline posterior distribution')\n",
    "plt.xlabel('Firing rate (Hz)')\n",
    "plt.xlim(0, 100);"
   ]
  },
  {
   "cell_type": "markdown",
   "metadata": {},
   "source": [
    "## Regressors"
   ]
  },
  {
   "cell_type": "code",
   "execution_count": 40,
   "metadata": {
    "collapsed": false
   },
   "outputs": [],
   "source": [
    "if gpm.regressors:\n",
    "    plt.figure(figsize=(8, 6));\n",
    "    inferred_means = gpm.nodes['fr_regressors'].expected_x()\n",
    "    R = inferred_means.shape[1]\n",
    "    for r in xrange(R):\n",
    "        plt.hist(inferred_means[:, r], bins=50, normed=True, alpha=0.25, label='X' + str(r))\n",
    "    plt.title('Regression effects');\n",
    "    plt.legend()\n",
    "    plt.ylim(0, 5);\n",
    "    plt.xlim(0, 5);"
   ]
  },
  {
   "cell_type": "markdown",
   "metadata": {},
   "source": [
    "## Latent Categories"
   ]
  },
  {
   "cell_type": "code",
   "execution_count": 41,
   "metadata": {
    "collapsed": true
   },
   "outputs": [],
   "source": [
    "frn = gpm.nodes['fr_latents']\n",
    "fr_mean_effect = frn.expected_x()"
   ]
  },
  {
   "cell_type": "code",
   "execution_count": 42,
   "metadata": {
    "collapsed": false
   },
   "outputs": [
    {
     "data": {
      "image/png": "[encoded data removed]",
      "text/plain": [
       "<matplotlib.figure.Figure at 0x7fb188342610>"
      ]
     },
     "metadata": {},
     "output_type": "display_data"
    }
   ],
   "source": [
    "plt.figure(figsize=(16, 4))\n",
    "\n",
    "th = gpm.nodes['fr_latents_mean']\n",
    "cc = gpm.nodes['fr_latents_shape']\n",
    "\n",
    "th_pars = np.c_[th.post_shape, th.post_rate].T\n",
    "cc_pars = np.c_[cc.post_shape, cc.post_rate].T\n",
    "\n",
    "plt.subplot(1, 3, 1)\n",
    "xx = np.linspace(0, 2, 500)\n",
    "for kk in xrange(K):\n",
    "    plt.plot(xx, stats.invgamma.pdf(xx, a=th_pars[0, kk], scale=th_pars[1, kk]), label='Z' + str(kk))\n",
    "plt.legend()\n",
    "plt.title('effect mean posterior');\n",
    "\n",
    "plt.subplot(1, 3, 2)\n",
    "xx = np.linspace(0, 5, 500)\n",
    "for kk in xrange(K):\n",
    "    plt.plot(xx, stats.invgamma.pdf(xx, a=cc_pars[0, kk], scale=cc_pars[1, kk]), label='Z' + str(kk))\n",
    "plt.legend()\n",
    "plt.title('effect variance parameter posterior');\n",
    "\n",
    "plt.subplot(1, 3, 3)\n",
    "for kk in xrange(K):\n",
    "    samples = gamma_from_hypers(th_pars[:, kk], cc_pars[:, kk], 1e5)\n",
    "    sns.kdeplot(samples, gridsize=1e4, clip=(0, 10), label='Z' + str(kk))\n",
    "plt.legend()\n",
    "plt.title(r'$\\lambda$ effect posterior distribution')\n",
    "plt.xlim(0, 2);\n",
    "plt.ylim(0, 5);"
   ]
  },
  {
   "cell_type": "code",
   "execution_count": 43,
   "metadata": {
    "collapsed": false
   },
   "outputs": [
    {
     "data": {
      "image/png": "[encoded data removed]",
      "text/plain": [
       "<matplotlib.figure.Figure at 0x7fb18874b190>"
      ]
     },
     "metadata": {},
     "output_type": "display_data"
    }
   ],
   "source": [
    "plt.figure(figsize=(8, 6))\n",
    "\n",
    "inferred_effects = gpm.nodes['fr_latents'].expected_x()\n",
    "for kk in xrange(K):\n",
    "    plt.hist(inferred_effects[..., kk], bins=50, normed=True, alpha=0.25, label='Z' + str(kk));\n",
    "plt.legend();\n",
    "plt.title('Firing rate effects');\n",
    "plt.ylim(0, 5);"
   ]
  },
  {
   "cell_type": "markdown",
   "metadata": {},
   "source": [
    "## Overdispersion"
   ]
  },
  {
   "cell_type": "code",
   "execution_count": 44,
   "metadata": {
    "collapsed": false
   },
   "outputs": [
    {
     "data": {
      "image/png": "[encoded data removed]",
      "text/plain": [
       "<matplotlib.figure.Figure at 0x7fb187f05690>"
      ]
     },
     "metadata": {},
     "output_type": "display_data"
    }
   ],
   "source": [
    "if gpm.overdispersion:\n",
    "    plt.figure(figsize=(8, 6))\n",
    "\n",
    "    inferred_means = gpm.nodes['overdispersion'].expected_x().ravel()\n",
    "    plt.hist(inferred_means, bins=500, normed=True, alpha=0.25);\n",
    "    plt.title('Overdispersion effects');\n",
    "    plt.ylim(0, 2);"
   ]
  },
  {
   "cell_type": "markdown",
   "metadata": {},
   "source": [
    "# Load and prepare coded features:"
   ]
  },
  {
   "cell_type": "markdown",
   "metadata": {},
   "source": [
    "Our goal here is to load the ethogram, join it to the inferred ethogram, and perform some comparisons to see if any of our discovered categories match hand-labeled categories from the ethogram."
   ]
  },
  {
   "cell_type": "code",
   "execution_count": 45,
   "metadata": {
    "collapsed": false
   },
   "outputs": [],
   "source": [
    "codefile = 'data/roitman_fd_data.csv'\n",
    "code = pd.read_csv(codefile).groupby('utime').mean().reset_index()"
   ]
  },
  {
   "cell_type": "code",
   "execution_count": 46,
   "metadata": {
    "collapsed": false
   },
   "outputs": [
    {
     "data": {
      "text/html": [
       "<div style=\"max-height:1000px;max-width:1500px;overflow:auto;\">\n",
       "<table border=\"1\" class=\"dataframe\">\n",
       "  <thead>\n",
       "    <tr style=\"text-align: right;\">\n",
       "      <th></th>\n",
       "      <th>utime</th>\n",
       "      <th>count</th>\n",
       "      <th>time</th>\n",
       "      <th>trial</th>\n",
       "      <th>stimulus</th>\n",
       "      <th>coherence</th>\n",
       "      <th>fixation_on</th>\n",
       "      <th>fixation</th>\n",
       "      <th>target_on</th>\n",
       "      <th>stim_on</th>\n",
       "      <th>...</th>\n",
       "      <th>Xstim</th>\n",
       "      <th>Xcoh0</th>\n",
       "      <th>Xcoh32</th>\n",
       "      <th>Xcoh64</th>\n",
       "      <th>Xcoh128</th>\n",
       "      <th>Xcoh256</th>\n",
       "      <th>Xcoh512</th>\n",
       "      <th>Xin</th>\n",
       "      <th>Xout</th>\n",
       "      <th>into_RF</th>\n",
       "    </tr>\n",
       "  </thead>\n",
       "  <tbody>\n",
       "    <tr>\n",
       "      <th>0</th>\n",
       "      <td>0</td>\n",
       "      <td>0.595890</td>\n",
       "      <td>0</td>\n",
       "      <td>32.89726</td>\n",
       "      <td>71</td>\n",
       "      <td>0</td>\n",
       "      <td>0</td>\n",
       "      <td>52.547945</td>\n",
       "      <td>460.438356</td>\n",
       "      <td>903.780822</td>\n",
       "      <td>...</td>\n",
       "      <td>0</td>\n",
       "      <td>0</td>\n",
       "      <td>0</td>\n",
       "      <td>0</td>\n",
       "      <td>0</td>\n",
       "      <td>0</td>\n",
       "      <td>0</td>\n",
       "      <td>0</td>\n",
       "      <td>0</td>\n",
       "      <td>1</td>\n",
       "    </tr>\n",
       "    <tr>\n",
       "      <th>1</th>\n",
       "      <td>1</td>\n",
       "      <td>0.780822</td>\n",
       "      <td>20</td>\n",
       "      <td>32.89726</td>\n",
       "      <td>71</td>\n",
       "      <td>0</td>\n",
       "      <td>0</td>\n",
       "      <td>52.547945</td>\n",
       "      <td>460.438356</td>\n",
       "      <td>903.780822</td>\n",
       "      <td>...</td>\n",
       "      <td>1</td>\n",
       "      <td>1</td>\n",
       "      <td>0</td>\n",
       "      <td>0</td>\n",
       "      <td>0</td>\n",
       "      <td>0</td>\n",
       "      <td>0</td>\n",
       "      <td>1</td>\n",
       "      <td>0</td>\n",
       "      <td>1</td>\n",
       "    </tr>\n",
       "    <tr>\n",
       "      <th>2</th>\n",
       "      <td>2</td>\n",
       "      <td>0.636986</td>\n",
       "      <td>40</td>\n",
       "      <td>32.89726</td>\n",
       "      <td>71</td>\n",
       "      <td>0</td>\n",
       "      <td>0</td>\n",
       "      <td>52.547945</td>\n",
       "      <td>460.438356</td>\n",
       "      <td>903.780822</td>\n",
       "      <td>...</td>\n",
       "      <td>1</td>\n",
       "      <td>1</td>\n",
       "      <td>0</td>\n",
       "      <td>0</td>\n",
       "      <td>0</td>\n",
       "      <td>0</td>\n",
       "      <td>0</td>\n",
       "      <td>1</td>\n",
       "      <td>0</td>\n",
       "      <td>1</td>\n",
       "    </tr>\n",
       "    <tr>\n",
       "      <th>3</th>\n",
       "      <td>3</td>\n",
       "      <td>0.746575</td>\n",
       "      <td>60</td>\n",
       "      <td>32.89726</td>\n",
       "      <td>71</td>\n",
       "      <td>0</td>\n",
       "      <td>0</td>\n",
       "      <td>52.547945</td>\n",
       "      <td>460.438356</td>\n",
       "      <td>903.780822</td>\n",
       "      <td>...</td>\n",
       "      <td>1</td>\n",
       "      <td>1</td>\n",
       "      <td>0</td>\n",
       "      <td>0</td>\n",
       "      <td>0</td>\n",
       "      <td>0</td>\n",
       "      <td>0</td>\n",
       "      <td>1</td>\n",
       "      <td>0</td>\n",
       "      <td>1</td>\n",
       "    </tr>\n",
       "    <tr>\n",
       "      <th>4</th>\n",
       "      <td>4</td>\n",
       "      <td>0.623288</td>\n",
       "      <td>80</td>\n",
       "      <td>32.89726</td>\n",
       "      <td>71</td>\n",
       "      <td>0</td>\n",
       "      <td>0</td>\n",
       "      <td>52.547945</td>\n",
       "      <td>460.438356</td>\n",
       "      <td>903.780822</td>\n",
       "      <td>...</td>\n",
       "      <td>1</td>\n",
       "      <td>1</td>\n",
       "      <td>0</td>\n",
       "      <td>0</td>\n",
       "      <td>0</td>\n",
       "      <td>0</td>\n",
       "      <td>0</td>\n",
       "      <td>1</td>\n",
       "      <td>0</td>\n",
       "      <td>1</td>\n",
       "    </tr>\n",
       "  </tbody>\n",
       "</table>\n",
       "<p>5 rows × 27 columns</p>\n",
       "</div>"
      ],
      "text/plain": [
       "   utime     count  time     trial  stimulus  coherence  fixation_on  \\\n",
       "0      0  0.595890     0  32.89726        71          0            0   \n",
       "1      1  0.780822    20  32.89726        71          0            0   \n",
       "2      2  0.636986    40  32.89726        71          0            0   \n",
       "3      3  0.746575    60  32.89726        71          0            0   \n",
       "4      4  0.623288    80  32.89726        71          0            0   \n",
       "\n",
       "    fixation   target_on     stim_on   ...     Xstim  Xcoh0  Xcoh32  Xcoh64  \\\n",
       "0  52.547945  460.438356  903.780822   ...         0      0       0       0   \n",
       "1  52.547945  460.438356  903.780822   ...         1      1       0       0   \n",
       "2  52.547945  460.438356  903.780822   ...         1      1       0       0   \n",
       "3  52.547945  460.438356  903.780822   ...         1      1       0       0   \n",
       "4  52.547945  460.438356  903.780822   ...         1      1       0       0   \n",
       "\n",
       "   Xcoh128  Xcoh256  Xcoh512  Xin  Xout  into_RF  \n",
       "0        0        0        0    0     0        1  \n",
       "1        0        0        0    1     0        1  \n",
       "2        0        0        0    1     0        1  \n",
       "3        0        0        0    1     0        1  \n",
       "4        0        0        0    1     0        1  \n",
       "\n",
       "[5 rows x 27 columns]"
      ]
     },
     "execution_count": 46,
     "metadata": {},
     "output_type": "execute_result"
    }
   ],
   "source": [
    "code.head()"
   ]
  },
  {
   "cell_type": "code",
   "execution_count": 47,
   "metadata": {
    "collapsed": true
   },
   "outputs": [],
   "source": [
    "# convert bools to floats\n",
    "for col in code:\n",
    "    code[col] = code[col].astype('float')"
   ]
  },
  {
   "cell_type": "code",
   "execution_count": 48,
   "metadata": {
    "collapsed": false
   },
   "outputs": [
    {
     "data": {
      "text/plain": [
       "Index([u'utime', u'count', u'time_x', u'trial', u'stimulus', u'coherence', u'fixation_on', u'fixation', u'target_on', u'stim_on', u'stim_off', u'fixation_off', u'saccade', u'reward', u'choice', u'correct', u'unit', u'Xstim', u'Xcoh0', u'Xcoh32', u'Xcoh64', u'Xcoh128', u'Xcoh256', u'Xcoh512', u'Xin', u'Xout', u'into_RF', u'time_y', u'Z0', u'Z1', u'Z2', u'Z3', u'Z4', u'Z5', u'Z6', u'Z7', u'Z8', u'Z9'], dtype='object')"
      ]
     },
     "execution_count": 48,
     "metadata": {},
     "output_type": "execute_result"
    }
   ],
   "source": [
    "# merge labeled and inferred etho on movie and frame columns\n",
    "edf = pd.merge(code, xif, how='right', left_on='utime', right_on='time')\n",
    "edf.columns"
   ]
  },
  {
   "cell_type": "code",
   "execution_count": 49,
   "metadata": {
    "collapsed": false
   },
   "outputs": [],
   "source": [
    "# get rid of categories that are either identifiers or have non-binary entries\n",
    "to_drop = [col for col in edf.columns if not ('Z' in col or 'X' in col)]\n",
    "edf = edf.drop(to_drop, axis=1)"
   ]
  },
  {
   "cell_type": "code",
   "execution_count": 50,
   "metadata": {
    "collapsed": false
   },
   "outputs": [
    {
     "data": {
      "text/html": [
       "<div style=\"max-height:1000px;max-width:1500px;overflow:auto;\">\n",
       "<table border=\"1\" class=\"dataframe\">\n",
       "  <thead>\n",
       "    <tr style=\"text-align: right;\">\n",
       "      <th></th>\n",
       "      <th>Xstim</th>\n",
       "      <th>Xcoh0</th>\n",
       "      <th>Xcoh32</th>\n",
       "      <th>Xcoh64</th>\n",
       "      <th>Xcoh128</th>\n",
       "      <th>Xcoh256</th>\n",
       "      <th>Xcoh512</th>\n",
       "      <th>Xin</th>\n",
       "      <th>Xout</th>\n",
       "      <th>Z0</th>\n",
       "      <th>Z1</th>\n",
       "      <th>Z2</th>\n",
       "      <th>Z3</th>\n",
       "      <th>Z4</th>\n",
       "      <th>Z5</th>\n",
       "      <th>Z6</th>\n",
       "      <th>Z7</th>\n",
       "      <th>Z8</th>\n",
       "      <th>Z9</th>\n",
       "    </tr>\n",
       "  </thead>\n",
       "  <tbody>\n",
       "    <tr>\n",
       "      <th>0</th>\n",
       "      <td>0</td>\n",
       "      <td>0</td>\n",
       "      <td>0</td>\n",
       "      <td>0</td>\n",
       "      <td>0</td>\n",
       "      <td>0</td>\n",
       "      <td>0</td>\n",
       "      <td>0</td>\n",
       "      <td>0</td>\n",
       "      <td>0.036040</td>\n",
       "      <td>0.000732</td>\n",
       "      <td>0.029142</td>\n",
       "      <td>0.962952</td>\n",
       "      <td>0.000196</td>\n",
       "      <td>0.039785</td>\n",
       "      <td>0.028880</td>\n",
       "      <td>0.000014</td>\n",
       "      <td>0.027503</td>\n",
       "      <td>0.036326</td>\n",
       "    </tr>\n",
       "    <tr>\n",
       "      <th>1</th>\n",
       "      <td>1</td>\n",
       "      <td>1</td>\n",
       "      <td>0</td>\n",
       "      <td>0</td>\n",
       "      <td>0</td>\n",
       "      <td>0</td>\n",
       "      <td>0</td>\n",
       "      <td>1</td>\n",
       "      <td>0</td>\n",
       "      <td>0.370518</td>\n",
       "      <td>0.000006</td>\n",
       "      <td>0.263811</td>\n",
       "      <td>0.996810</td>\n",
       "      <td>0.000019</td>\n",
       "      <td>0.340622</td>\n",
       "      <td>0.358498</td>\n",
       "      <td>0.000010</td>\n",
       "      <td>0.208163</td>\n",
       "      <td>0.360883</td>\n",
       "    </tr>\n",
       "    <tr>\n",
       "      <th>2</th>\n",
       "      <td>1</td>\n",
       "      <td>1</td>\n",
       "      <td>0</td>\n",
       "      <td>0</td>\n",
       "      <td>0</td>\n",
       "      <td>0</td>\n",
       "      <td>0</td>\n",
       "      <td>1</td>\n",
       "      <td>0</td>\n",
       "      <td>0.520177</td>\n",
       "      <td>0.000062</td>\n",
       "      <td>0.322977</td>\n",
       "      <td>0.999520</td>\n",
       "      <td>0.000216</td>\n",
       "      <td>0.520051</td>\n",
       "      <td>0.435894</td>\n",
       "      <td>0.000001</td>\n",
       "      <td>0.273015</td>\n",
       "      <td>0.496841</td>\n",
       "    </tr>\n",
       "    <tr>\n",
       "      <th>3</th>\n",
       "      <td>1</td>\n",
       "      <td>1</td>\n",
       "      <td>0</td>\n",
       "      <td>0</td>\n",
       "      <td>0</td>\n",
       "      <td>0</td>\n",
       "      <td>0</td>\n",
       "      <td>1</td>\n",
       "      <td>0</td>\n",
       "      <td>0.588826</td>\n",
       "      <td>0.000000</td>\n",
       "      <td>0.380312</td>\n",
       "      <td>0.999991</td>\n",
       "      <td>0.000008</td>\n",
       "      <td>0.597171</td>\n",
       "      <td>0.506714</td>\n",
       "      <td>0.000004</td>\n",
       "      <td>0.339161</td>\n",
       "      <td>0.555564</td>\n",
       "    </tr>\n",
       "    <tr>\n",
       "      <th>4</th>\n",
       "      <td>1</td>\n",
       "      <td>1</td>\n",
       "      <td>0</td>\n",
       "      <td>0</td>\n",
       "      <td>0</td>\n",
       "      <td>0</td>\n",
       "      <td>0</td>\n",
       "      <td>1</td>\n",
       "      <td>0</td>\n",
       "      <td>0.619607</td>\n",
       "      <td>0.000016</td>\n",
       "      <td>0.376092</td>\n",
       "      <td>0.999849</td>\n",
       "      <td>0.000134</td>\n",
       "      <td>0.649948</td>\n",
       "      <td>0.498190</td>\n",
       "      <td>0.000001</td>\n",
       "      <td>0.354928</td>\n",
       "      <td>0.579804</td>\n",
       "    </tr>\n",
       "  </tbody>\n",
       "</table>\n",
       "</div>"
      ],
      "text/plain": [
       "   Xstim  Xcoh0  Xcoh32  Xcoh64  Xcoh128  Xcoh256  Xcoh512  Xin  Xout  \\\n",
       "0      0      0       0       0        0        0        0    0     0   \n",
       "1      1      1       0       0        0        0        0    1     0   \n",
       "2      1      1       0       0        0        0        0    1     0   \n",
       "3      1      1       0       0        0        0        0    1     0   \n",
       "4      1      1       0       0        0        0        0    1     0   \n",
       "\n",
       "         Z0        Z1        Z2        Z3        Z4        Z5        Z6  \\\n",
       "0  0.036040  0.000732  0.029142  0.962952  0.000196  0.039785  0.028880   \n",
       "1  0.370518  0.000006  0.263811  0.996810  0.000019  0.340622  0.358498   \n",
       "2  0.520177  0.000062  0.322977  0.999520  0.000216  0.520051  0.435894   \n",
       "3  0.588826  0.000000  0.380312  0.999991  0.000008  0.597171  0.506714   \n",
       "4  0.619607  0.000016  0.376092  0.999849  0.000134  0.649948  0.498190   \n",
       "\n",
       "         Z7        Z8        Z9  \n",
       "0  0.000014  0.027503  0.036326  \n",
       "1  0.000010  0.208163  0.360883  \n",
       "2  0.000001  0.273015  0.496841  \n",
       "3  0.000004  0.339161  0.555564  \n",
       "4  0.000001  0.354928  0.579804  "
      ]
     },
     "execution_count": 50,
     "metadata": {},
     "output_type": "execute_result"
    }
   ],
   "source": [
    "edf.head()"
   ]
  },
  {
   "cell_type": "markdown",
   "metadata": {},
   "source": [
    "# Compare actual and predicted firing"
   ]
  },
  {
   "cell_type": "code",
   "execution_count": 51,
   "metadata": {
    "collapsed": false
   },
   "outputs": [],
   "source": [
    "# make dataframe of firing rates\n",
    "meancnt = code.groupby(['time', 'stimulus']).mean()['count'].unstack(level=1)\n",
    "fr = pd.rolling_mean(meancnt, 9, min_periods=1, center=True) / dt"
   ]
  },
  {
   "cell_type": "code",
   "execution_count": 52,
   "metadata": {
    "collapsed": false
   },
   "outputs": [],
   "source": [
    "# calculate predicted firing rate\n",
    "pred_mat = unit_baseline_means[np.newaxis, :] * np.exp(xi.dot(np.log(fr_mean_effect.T)))\n",
    "preds = np.mean(pred_mat, axis=1)  # mean across units\n",
    "code['pred_fr'] = preds * np.mean(gpm.nodes['overdispersion'].expected_x())"
   ]
  },
  {
   "cell_type": "code",
   "execution_count": 53,
   "metadata": {
    "collapsed": false
   },
   "outputs": [
    {
     "data": {
      "image/png": "[encoded data removed]",
      "text/plain": [
       "<matplotlib.figure.Figure at 0x7fb18835a090>"
      ]
     },
     "metadata": {},
     "output_type": "display_data"
    }
   ],
   "source": [
    "if savefigs:\n",
    "    sns.set_context('talk', font_scale=1)\n",
    "    sns.set_style('white')\n",
    "\n",
    "plt.figure(figsize=(12, 4))\n",
    "\n",
    "##### first, do actual\n",
    "ax = plt.subplot(1, 2, 1)\n",
    "\n",
    "# label cols according to coherence, RF\n",
    "coh_tbl = code[['stimulus', 'coherence', 'into_RF']].drop_duplicates()\n",
    "colnames = []\n",
    "for idx, row in coh_tbl.iterrows():\n",
    "    coh_str = str(row['coherence'] / 10)\n",
    "    colnames.append(coh_str)\n",
    "\n",
    "fr.columns = colnames\n",
    "midpt = int(fr.shape[1] / 2)\n",
    "fr.iloc[:, :midpt].plot(ax=ax, legend=False)\n",
    "fr.iloc[:, midpt:].plot(ax=ax, legend=False, linestyle='--')\n",
    "plt.xlabel('Time (ms)')\n",
    "plt.ylabel('Firing Rate (spks/s)')\n",
    "plt.title('Stimulus period activity (actual)')\n",
    "yl = plt.ylim()\n",
    "\n",
    "##### now do predicted\n",
    "ax = plt.subplot(1, 2, 2)\n",
    "\n",
    "# data frame of predicted firing for each stimulus\n",
    "pred_df = code.groupby(['time', 'stimulus']).mean()['pred_fr'].unstack(level=1)\n",
    "\n",
    "# plot\n",
    "midpt = int(pred_df.shape[1] / 2)\n",
    "pred_df.iloc[:, :midpt].plot(ax=ax, legend=False)\n",
    "pred_df.iloc[:, midpt:].plot(ax=ax, legend=False, linestyle='--')\n",
    "plt.ylim(yl)\n",
    "ax.legend(colnames[:midpt], bbox_to_anchor=(1.3, 1.00), title='Coherence');\n",
    "plt.xlabel('Time (ms)')\n",
    "plt.ylabel('Firing Rate (spks/s)')\n",
    "plt.title('Stimulus period activity (predicted)');\n",
    "\n",
    "if savefigs:\n",
    "    plt.savefig('roitman_fr.svg')\n",
    "    sns.set()\n",
    "    sns.set_style('darkgrid')"
   ]
  },
  {
   "cell_type": "markdown",
   "metadata": {},
   "source": [
    "# View results:"
   ]
  },
  {
   "cell_type": "code",
   "execution_count": 54,
   "metadata": {
    "collapsed": false
   },
   "outputs": [
    {
     "data": {
      "image/png": "[encoded data removed]",
      "text/plain": [
       "<matplotlib.figure.Figure at 0x7fb186240c90>"
      ]
     },
     "metadata": {},
     "output_type": "display_data"
    }
   ],
   "source": [
    "if savefigs:\n",
    "    sns.set_context('poster', font_scale=1)\n",
    "\n",
    "# plot a section in time; each row is a regressor; bottom rows are inferred categories\n",
    "trng = slice(None)\n",
    "matshow(edf.iloc[trng].values.T, vmin=0, vmax=1);\n",
    "col_labels = [c.replace('X', '').capitalize() for c in edf.columns]\n",
    "plt.yticks(xrange(len(col_labels)), col_labels);\n",
    "plt.gcf().set_size_inches([20, 5])\n",
    "\n",
    "if savefigs:\n",
    "    plt.savefig('roitman_recovery.svg')\n",
    "    sns.set()"
   ]
  },
  {
   "cell_type": "markdown",
   "metadata": {},
   "source": [
    "## Overlap analysis:"
   ]
  },
  {
   "cell_type": "markdown",
   "metadata": {},
   "source": [
    "Define the overlap as the maximum of the match or mismatch percentage. That is, if $x$ and $y$ are binary vectors, \n",
    "$$\n",
    "\\mathrm{overlap} = \\max \\{ \\mathbb{E}[xy + (1-x)(1-y)], \\mathbb{E}[(1-x)y + x(1-y)]\\}\n",
    "$$"
   ]
  },
  {
   "cell_type": "code",
   "execution_count": 55,
   "metadata": {
    "collapsed": false
   },
   "outputs": [],
   "source": [
    "match = (edf.T.dot(edf) + (1 - edf.T).dot(1 - edf)) / T\n",
    "mismatch = (edf.T.dot(1 - edf) + (1 - edf.T).dot(edf)) / T\n",
    "overlap = np.maximum(match, mismatch)"
   ]
  },
  {
   "cell_type": "code",
   "execution_count": 56,
   "metadata": {
    "collapsed": false
   },
   "outputs": [
    {
     "data": {
      "image/png": "[encoded data removed]",
      "text/plain": [
       "<matplotlib.figure.Figure at 0x7fb18805a8d0>"
      ]
     },
     "metadata": {},
     "output_type": "display_data"
    }
   ],
   "source": [
    "row_labels = edf.columns[:-K]\n",
    "matshow(overlap.values[-K:,:-K]) #, vmin=0.5, vmax=1)\n",
    "plt.ylabel('inferred factor')\n",
    "plt.xlabel('labeled factor')\n",
    "plt.colorbar();\n",
    "\n",
    "# add column names\n",
    "ax = plt.gca()\n",
    "ax.xaxis.set_label_position('top')\n",
    "plt.tick_params(axis='x', which='both', top='off', bottom='off', \n",
    "                labelbottom='on', labeltop='off', pad=5)\n",
    "plt.xticks(xrange(len(row_labels)), row_labels, rotation='vertical', horizontalalignment='center');"
   ]
  },
  {
   "cell_type": "code",
   "execution_count": 57,
   "metadata": {
    "collapsed": false
   },
   "outputs": [
    {
     "data": {
      "text/html": [
       "<div style=\"max-height:1000px;max-width:1500px;overflow:auto;\">\n",
       "<table border=\"1\" class=\"dataframe\">\n",
       "  <thead>\n",
       "    <tr style=\"text-align: right;\">\n",
       "      <th></th>\n",
       "      <th>Xstim</th>\n",
       "      <th>Xcoh0</th>\n",
       "      <th>Xcoh32</th>\n",
       "      <th>Xcoh64</th>\n",
       "      <th>Xcoh128</th>\n",
       "      <th>Xcoh256</th>\n",
       "      <th>Xcoh512</th>\n",
       "      <th>Xin</th>\n",
       "      <th>Xout</th>\n",
       "      <th>Z0</th>\n",
       "      <th>Z1</th>\n",
       "      <th>Z2</th>\n",
       "      <th>Z3</th>\n",
       "      <th>Z4</th>\n",
       "      <th>Z5</th>\n",
       "      <th>Z6</th>\n",
       "      <th>Z7</th>\n",
       "      <th>Z8</th>\n",
       "      <th>Z9</th>\n",
       "    </tr>\n",
       "  </thead>\n",
       "  <tbody>\n",
       "    <tr>\n",
       "      <th>Z0</th>\n",
       "      <td>0.641100</td>\n",
       "      <td>0.598057</td>\n",
       "      <td>0.596901</td>\n",
       "      <td>0.596319</td>\n",
       "      <td>0.597650</td>\n",
       "      <td>0.596061</td>\n",
       "      <td>0.597713</td>\n",
       "      <td>0.501863</td>\n",
       "      <td>0.502053</td>\n",
       "      <td>0.543450</td>\n",
       "      <td>0.608348</td>\n",
       "      <td>0.520031</td>\n",
       "      <td>0.547296</td>\n",
       "      <td>0.545648</td>\n",
       "      <td>0.553495</td>\n",
       "      <td>0.516187</td>\n",
       "      <td>0.625068</td>\n",
       "      <td>0.517353</td>\n",
       "      <td>0.529681</td>\n",
       "    </tr>\n",
       "    <tr>\n",
       "      <th>Z1</th>\n",
       "      <td>0.855931</td>\n",
       "      <td>0.711741</td>\n",
       "      <td>0.711750</td>\n",
       "      <td>0.711700</td>\n",
       "      <td>0.768939</td>\n",
       "      <td>0.804718</td>\n",
       "      <td>0.811015</td>\n",
       "      <td>0.614779</td>\n",
       "      <td>0.634871</td>\n",
       "      <td>0.608348</td>\n",
       "      <td>0.996962</td>\n",
       "      <td>0.554289</td>\n",
       "      <td>0.565760</td>\n",
       "      <td>0.753650</td>\n",
       "      <td>0.633413</td>\n",
       "      <td>0.539305</td>\n",
       "      <td>0.806810</td>\n",
       "      <td>0.546674</td>\n",
       "      <td>0.573045</td>\n",
       "    </tr>\n",
       "    <tr>\n",
       "      <th>Z2</th>\n",
       "      <td>0.570476</td>\n",
       "      <td>0.549089</td>\n",
       "      <td>0.543765</td>\n",
       "      <td>0.550391</td>\n",
       "      <td>0.546125</td>\n",
       "      <td>0.562712</td>\n",
       "      <td>0.548242</td>\n",
       "      <td>0.516043</td>\n",
       "      <td>0.512230</td>\n",
       "      <td>0.520031</td>\n",
       "      <td>0.554289</td>\n",
       "      <td>0.518703</td>\n",
       "      <td>0.517079</td>\n",
       "      <td>0.520324</td>\n",
       "      <td>0.528720</td>\n",
       "      <td>0.500656</td>\n",
       "      <td>0.563617</td>\n",
       "      <td>0.520752</td>\n",
       "      <td>0.513246</td>\n",
       "    </tr>\n",
       "    <tr>\n",
       "      <th>Z3</th>\n",
       "      <td>0.670438</td>\n",
       "      <td>0.614033</td>\n",
       "      <td>0.576895</td>\n",
       "      <td>0.574007</td>\n",
       "      <td>0.585239</td>\n",
       "      <td>0.613702</td>\n",
       "      <td>0.630984</td>\n",
       "      <td>0.547437</td>\n",
       "      <td>0.530466</td>\n",
       "      <td>0.547296</td>\n",
       "      <td>0.565760</td>\n",
       "      <td>0.517079</td>\n",
       "      <td>0.952902</td>\n",
       "      <td>0.567039</td>\n",
       "      <td>0.556884</td>\n",
       "      <td>0.520717</td>\n",
       "      <td>0.605517</td>\n",
       "      <td>0.512153</td>\n",
       "      <td>0.532380</td>\n",
       "    </tr>\n",
       "    <tr>\n",
       "      <th>Z4</th>\n",
       "      <td>0.642953</td>\n",
       "      <td>0.612183</td>\n",
       "      <td>0.613585</td>\n",
       "      <td>0.606969</td>\n",
       "      <td>0.584987</td>\n",
       "      <td>0.610763</td>\n",
       "      <td>0.636618</td>\n",
       "      <td>0.828081</td>\n",
       "      <td>0.846998</td>\n",
       "      <td>0.545648</td>\n",
       "      <td>0.753650</td>\n",
       "      <td>0.520324</td>\n",
       "      <td>0.567039</td>\n",
       "      <td>0.986528</td>\n",
       "      <td>0.553879</td>\n",
       "      <td>0.519886</td>\n",
       "      <td>0.593409</td>\n",
       "      <td>0.513611</td>\n",
       "      <td>0.530532</td>\n",
       "    </tr>\n",
       "    <tr>\n",
       "      <th>Z5</th>\n",
       "      <td>0.675105</td>\n",
       "      <td>0.621598</td>\n",
       "      <td>0.616437</td>\n",
       "      <td>0.619183</td>\n",
       "      <td>0.619432</td>\n",
       "      <td>0.626318</td>\n",
       "      <td>0.620696</td>\n",
       "      <td>0.510677</td>\n",
       "      <td>0.505708</td>\n",
       "      <td>0.553495</td>\n",
       "      <td>0.633413</td>\n",
       "      <td>0.528720</td>\n",
       "      <td>0.556884</td>\n",
       "      <td>0.553879</td>\n",
       "      <td>0.567865</td>\n",
       "      <td>0.516124</td>\n",
       "      <td>0.655212</td>\n",
       "      <td>0.527149</td>\n",
       "      <td>0.536465</td>\n",
       "    </tr>\n",
       "    <tr>\n",
       "      <th>Z6</th>\n",
       "      <td>0.549192</td>\n",
       "      <td>0.534556</td>\n",
       "      <td>0.539723</td>\n",
       "      <td>0.533034</td>\n",
       "      <td>0.536755</td>\n",
       "      <td>0.521334</td>\n",
       "      <td>0.535196</td>\n",
       "      <td>0.513915</td>\n",
       "      <td>0.514767</td>\n",
       "      <td>0.516187</td>\n",
       "      <td>0.539305</td>\n",
       "      <td>0.500656</td>\n",
       "      <td>0.520717</td>\n",
       "      <td>0.519886</td>\n",
       "      <td>0.516124</td>\n",
       "      <td>0.513519</td>\n",
       "      <td>0.543299</td>\n",
       "      <td>0.504730</td>\n",
       "      <td>0.511270</td>\n",
       "    </tr>\n",
       "    <tr>\n",
       "      <th>Z7</th>\n",
       "      <td>0.914012</td>\n",
       "      <td>0.769015</td>\n",
       "      <td>0.768178</td>\n",
       "      <td>0.768175</td>\n",
       "      <td>0.768176</td>\n",
       "      <td>0.768194</td>\n",
       "      <td>0.902396</td>\n",
       "      <td>0.575800</td>\n",
       "      <td>0.557319</td>\n",
       "      <td>0.625068</td>\n",
       "      <td>0.806810</td>\n",
       "      <td>0.563617</td>\n",
       "      <td>0.605517</td>\n",
       "      <td>0.593409</td>\n",
       "      <td>0.655212</td>\n",
       "      <td>0.543299</td>\n",
       "      <td>0.997882</td>\n",
       "      <td>0.556638</td>\n",
       "      <td>0.584408</td>\n",
       "    </tr>\n",
       "    <tr>\n",
       "      <th>Z8</th>\n",
       "      <td>0.562856</td>\n",
       "      <td>0.542624</td>\n",
       "      <td>0.533682</td>\n",
       "      <td>0.545143</td>\n",
       "      <td>0.537962</td>\n",
       "      <td>0.565466</td>\n",
       "      <td>0.542295</td>\n",
       "      <td>0.525480</td>\n",
       "      <td>0.522215</td>\n",
       "      <td>0.517353</td>\n",
       "      <td>0.546674</td>\n",
       "      <td>0.520752</td>\n",
       "      <td>0.512153</td>\n",
       "      <td>0.513611</td>\n",
       "      <td>0.527149</td>\n",
       "      <td>0.504730</td>\n",
       "      <td>0.556638</td>\n",
       "      <td>0.524887</td>\n",
       "      <td>0.511401</td>\n",
       "    </tr>\n",
       "    <tr>\n",
       "      <th>Z9</th>\n",
       "      <td>0.595715</td>\n",
       "      <td>0.566269</td>\n",
       "      <td>0.565325</td>\n",
       "      <td>0.564910</td>\n",
       "      <td>0.565815</td>\n",
       "      <td>0.564685</td>\n",
       "      <td>0.565875</td>\n",
       "      <td>0.501116</td>\n",
       "      <td>0.501062</td>\n",
       "      <td>0.529681</td>\n",
       "      <td>0.573045</td>\n",
       "      <td>0.513246</td>\n",
       "      <td>0.532380</td>\n",
       "      <td>0.530532</td>\n",
       "      <td>0.536465</td>\n",
       "      <td>0.511270</td>\n",
       "      <td>0.584408</td>\n",
       "      <td>0.511401</td>\n",
       "      <td>0.520356</td>\n",
       "    </tr>\n",
       "  </tbody>\n",
       "</table>\n",
       "</div>"
      ],
      "text/plain": [
       "       Xstim     Xcoh0    Xcoh32    Xcoh64   Xcoh128   Xcoh256   Xcoh512  \\\n",
       "Z0  0.641100  0.598057  0.596901  0.596319  0.597650  0.596061  0.597713   \n",
       "Z1  0.855931  0.711741  0.711750  0.711700  0.768939  0.804718  0.811015   \n",
       "Z2  0.570476  0.549089  0.543765  0.550391  0.546125  0.562712  0.548242   \n",
       "Z3  0.670438  0.614033  0.576895  0.574007  0.585239  0.613702  0.630984   \n",
       "Z4  0.642953  0.612183  0.613585  0.606969  0.584987  0.610763  0.636618   \n",
       "Z5  0.675105  0.621598  0.616437  0.619183  0.619432  0.626318  0.620696   \n",
       "Z6  0.549192  0.534556  0.539723  0.533034  0.536755  0.521334  0.535196   \n",
       "Z7  0.914012  0.769015  0.768178  0.768175  0.768176  0.768194  0.902396   \n",
       "Z8  0.562856  0.542624  0.533682  0.545143  0.537962  0.565466  0.542295   \n",
       "Z9  0.595715  0.566269  0.565325  0.564910  0.565815  0.564685  0.565875   \n",
       "\n",
       "         Xin      Xout        Z0        Z1        Z2        Z3        Z4  \\\n",
       "Z0  0.501863  0.502053  0.543450  0.608348  0.520031  0.547296  0.545648   \n",
       "Z1  0.614779  0.634871  0.608348  0.996962  0.554289  0.565760  0.753650   \n",
       "Z2  0.516043  0.512230  0.520031  0.554289  0.518703  0.517079  0.520324   \n",
       "Z3  0.547437  0.530466  0.547296  0.565760  0.517079  0.952902  0.567039   \n",
       "Z4  0.828081  0.846998  0.545648  0.753650  0.520324  0.567039  0.986528   \n",
       "Z5  0.510677  0.505708  0.553495  0.633413  0.528720  0.556884  0.553879   \n",
       "Z6  0.513915  0.514767  0.516187  0.539305  0.500656  0.520717  0.519886   \n",
       "Z7  0.575800  0.557319  0.625068  0.806810  0.563617  0.605517  0.593409   \n",
       "Z8  0.525480  0.522215  0.517353  0.546674  0.520752  0.512153  0.513611   \n",
       "Z9  0.501116  0.501062  0.529681  0.573045  0.513246  0.532380  0.530532   \n",
       "\n",
       "          Z5        Z6        Z7        Z8        Z9  \n",
       "Z0  0.553495  0.516187  0.625068  0.517353  0.529681  \n",
       "Z1  0.633413  0.539305  0.806810  0.546674  0.573045  \n",
       "Z2  0.528720  0.500656  0.563617  0.520752  0.513246  \n",
       "Z3  0.556884  0.520717  0.605517  0.512153  0.532380  \n",
       "Z4  0.553879  0.519886  0.593409  0.513611  0.530532  \n",
       "Z5  0.567865  0.516124  0.655212  0.527149  0.536465  \n",
       "Z6  0.516124  0.513519  0.543299  0.504730  0.511270  \n",
       "Z7  0.655212  0.543299  0.997882  0.556638  0.584408  \n",
       "Z8  0.527149  0.504730  0.556638  0.524887  0.511401  \n",
       "Z9  0.536465  0.511270  0.584408  0.511401  0.520356  "
      ]
     },
     "execution_count": 57,
     "metadata": {},
     "output_type": "execute_result"
    }
   ],
   "source": [
    "overlap.iloc[-K:, :]"
   ]
  },
  {
   "cell_type": "markdown",
   "metadata": {},
   "source": [
    "## Mutual Information"
   ]
  },
  {
   "cell_type": "code",
   "execution_count": 58,
   "metadata": {
    "collapsed": false
   },
   "outputs": [],
   "source": [
    "mi_mat = mutual_information_matrix(edf.iloc[:, :-K].values, edf.iloc[:, -K:].values)"
   ]
  },
  {
   "cell_type": "code",
   "execution_count": 59,
   "metadata": {
    "collapsed": false
   },
   "outputs": [
    {
     "data": {
      "image/png": "[encoded data removed]",
      "text/plain": [
       "<matplotlib.figure.Figure at 0x7fb186240190>"
      ]
     },
     "metadata": {},
     "output_type": "display_data"
    }
   ],
   "source": [
    "row_labels = edf.columns[:-K]\n",
    "matshow(mi_mat.T, vmin=0, vmax=1)\n",
    "plt.ylabel('inferred factor')\n",
    "plt.xlabel('labeled factor')\n",
    "plt.colorbar();\n",
    "\n",
    "# add column names\n",
    "ax = plt.gca()\n",
    "ax.xaxis.set_label_position('top')\n",
    "plt.tick_params(axis='x', which='both', top='off', bottom='off', \n",
    "                labelbottom='on', labeltop='off', pad=5)\n",
    "plt.xticks(xrange(len(row_labels)), row_labels, rotation='vertical', horizontalalignment='center');"
   ]
  },
  {
   "cell_type": "code",
   "execution_count": 60,
   "metadata": {
    "collapsed": false
   },
   "outputs": [
    {
     "data": {
      "text/html": [
       "<div style=\"max-height:1000px;max-width:1500px;overflow:auto;\">\n",
       "<table border=\"1\" class=\"dataframe\">\n",
       "  <thead>\n",
       "    <tr style=\"text-align: right;\">\n",
       "      <th></th>\n",
       "      <th>Xstim</th>\n",
       "      <th>Xcoh0</th>\n",
       "      <th>Xcoh32</th>\n",
       "      <th>Xcoh64</th>\n",
       "      <th>Xcoh128</th>\n",
       "      <th>Xcoh256</th>\n",
       "      <th>Xcoh512</th>\n",
       "      <th>Xin</th>\n",
       "      <th>Xout</th>\n",
       "    </tr>\n",
       "  </thead>\n",
       "  <tbody>\n",
       "    <tr>\n",
       "      <th>0</th>\n",
       "      <td>0.000416</td>\n",
       "      <td>0.000003</td>\n",
       "      <td>0.000002</td>\n",
       "      <td>0.000009</td>\n",
       "      <td>3.442175e-07</td>\n",
       "      <td>0.000014</td>\n",
       "      <td>5.748840e-07</td>\n",
       "      <td>-0.000406</td>\n",
       "      <td>-0.000004</td>\n",
       "    </tr>\n",
       "    <tr>\n",
       "      <th>1</th>\n",
       "      <td>0.013632</td>\n",
       "      <td>0.058081</td>\n",
       "      <td>0.058001</td>\n",
       "      <td>0.058478</td>\n",
       "      <td>5.093758e-03</td>\n",
       "      <td>0.045883</td>\n",
       "      <td>5.678009e-02</td>\n",
       "      <td>0.180684</td>\n",
       "      <td>0.147256</td>\n",
       "    </tr>\n",
       "    <tr>\n",
       "      <th>2</th>\n",
       "      <td>0.000074</td>\n",
       "      <td>0.000005</td>\n",
       "      <td>0.000257</td>\n",
       "      <td>0.000002</td>\n",
       "      <td>9.765888e-05</td>\n",
       "      <td>0.001105</td>\n",
       "      <td>1.901363e-05</td>\n",
       "      <td>0.000981</td>\n",
       "      <td>0.000104</td>\n",
       "    </tr>\n",
       "    <tr>\n",
       "      <th>3</th>\n",
       "      <td>0.066073</td>\n",
       "      <td>0.000902</td>\n",
       "      <td>0.005317</td>\n",
       "      <td>0.006588</td>\n",
       "      <td>2.432729e-03</td>\n",
       "      <td>0.000849</td>\n",
       "      <td>5.735541e-03</td>\n",
       "      <td>-0.003963</td>\n",
       "      <td>-0.000505</td>\n",
       "    </tr>\n",
       "    <tr>\n",
       "      <th>4</th>\n",
       "      <td>0.027316</td>\n",
       "      <td>0.000088</td>\n",
       "      <td>0.000176</td>\n",
       "      <td>0.000025</td>\n",
       "      <td>4.474191e-03</td>\n",
       "      <td>0.000030</td>\n",
       "      <td>5.768177e-03</td>\n",
       "      <td>0.469719</td>\n",
       "      <td>0.502638</td>\n",
       "    </tr>\n",
       "    <tr>\n",
       "      <th>5</th>\n",
       "      <td>0.000622</td>\n",
       "      <td>0.000003</td>\n",
       "      <td>0.000166</td>\n",
       "      <td>0.000026</td>\n",
       "      <td>1.927868e-05</td>\n",
       "      <td>0.000224</td>\n",
       "      <td>6.794967e-07</td>\n",
       "      <td>-0.000211</td>\n",
       "      <td>-0.000335</td>\n",
       "    </tr>\n",
       "    <tr>\n",
       "      <th>6</th>\n",
       "      <td>0.000139</td>\n",
       "      <td>0.000006</td>\n",
       "      <td>0.000248</td>\n",
       "      <td>0.000002</td>\n",
       "      <td>6.526717e-05</td>\n",
       "      <td>0.001013</td>\n",
       "      <td>1.644855e-05</td>\n",
       "      <td>0.000294</td>\n",
       "      <td>0.000738</td>\n",
       "    </tr>\n",
       "    <tr>\n",
       "      <th>7</th>\n",
       "      <td>0.000800</td>\n",
       "      <td>0.032300</td>\n",
       "      <td>0.037915</td>\n",
       "      <td>0.037954</td>\n",
       "      <td>3.794877e-02</td>\n",
       "      <td>0.037738</td>\n",
       "      <td>3.879739e-01</td>\n",
       "      <td>0.053193</td>\n",
       "      <td>0.107571</td>\n",
       "    </tr>\n",
       "    <tr>\n",
       "      <th>8</th>\n",
       "      <td>0.000040</td>\n",
       "      <td>0.000022</td>\n",
       "      <td>0.000782</td>\n",
       "      <td>0.000003</td>\n",
       "      <td>2.826019e-04</td>\n",
       "      <td>0.002963</td>\n",
       "      <td>3.065723e-05</td>\n",
       "      <td>0.002166</td>\n",
       "      <td>0.000885</td>\n",
       "    </tr>\n",
       "    <tr>\n",
       "      <th>9</th>\n",
       "      <td>0.000332</td>\n",
       "      <td>0.000002</td>\n",
       "      <td>0.000001</td>\n",
       "      <td>0.000005</td>\n",
       "      <td>1.260845e-08</td>\n",
       "      <td>0.000008</td>\n",
       "      <td>7.381198e-08</td>\n",
       "      <td>-0.000190</td>\n",
       "      <td>0.000002</td>\n",
       "    </tr>\n",
       "  </tbody>\n",
       "</table>\n",
       "</div>"
      ],
      "text/plain": [
       "      Xstim     Xcoh0    Xcoh32    Xcoh64       Xcoh128   Xcoh256  \\\n",
       "0  0.000416  0.000003  0.000002  0.000009  3.442175e-07  0.000014   \n",
       "1  0.013632  0.058081  0.058001  0.058478  5.093758e-03  0.045883   \n",
       "2  0.000074  0.000005  0.000257  0.000002  9.765888e-05  0.001105   \n",
       "3  0.066073  0.000902  0.005317  0.006588  2.432729e-03  0.000849   \n",
       "4  0.027316  0.000088  0.000176  0.000025  4.474191e-03  0.000030   \n",
       "5  0.000622  0.000003  0.000166  0.000026  1.927868e-05  0.000224   \n",
       "6  0.000139  0.000006  0.000248  0.000002  6.526717e-05  0.001013   \n",
       "7  0.000800  0.032300  0.037915  0.037954  3.794877e-02  0.037738   \n",
       "8  0.000040  0.000022  0.000782  0.000003  2.826019e-04  0.002963   \n",
       "9  0.000332  0.000002  0.000001  0.000005  1.260845e-08  0.000008   \n",
       "\n",
       "        Xcoh512       Xin      Xout  \n",
       "0  5.748840e-07 -0.000406 -0.000004  \n",
       "1  5.678009e-02  0.180684  0.147256  \n",
       "2  1.901363e-05  0.000981  0.000104  \n",
       "3  5.735541e-03 -0.003963 -0.000505  \n",
       "4  5.768177e-03  0.469719  0.502638  \n",
       "5  6.794967e-07 -0.000211 -0.000335  \n",
       "6  1.644855e-05  0.000294  0.000738  \n",
       "7  3.879739e-01  0.053193  0.107571  \n",
       "8  3.065723e-05  0.002166  0.000885  \n",
       "9  7.381198e-08 -0.000190  0.000002  "
      ]
     },
     "execution_count": 60,
     "metadata": {},
     "output_type": "execute_result"
    }
   ],
   "source": [
    "pd.DataFrame(mi_mat.T, columns=row_labels)"
   ]
  },
  {
   "cell_type": "code",
   "execution_count": null,
   "metadata": {
    "collapsed": true
   },
   "outputs": [],
   "source": []
  }
 ],
 "metadata": {
  "kernelspec": {
   "display_name": "Python 2",
   "language": "python",
   "name": "python2"
  },
  "language_info": {
   "codemirror_mode": {
    "name": "ipython",
    "version": 2
   },
   "file_extension": ".py",
   "mimetype": "text/x-python",
   "name": "python",
   "nbconvert_exporter": "python",
   "pygments_lexer": "ipython2",
   "version": "2.7.9"
  }
 },
 "nbformat": 4,
 "nbformat_minor": 0
}
