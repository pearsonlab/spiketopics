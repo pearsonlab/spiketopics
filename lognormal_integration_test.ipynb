{
 "cells": [
  {
   "cell_type": "markdown",
   "metadata": {},
   "source": [
    "# Log-Normal model integration test"
   ]
  },
  {
   "cell_type": "markdown",
   "metadata": {},
   "source": [
    "Try Log-Normal Model inference on data generated from that model. Should recover synthetic data.\n",
    "\n",
    "This is the version of the model with between-unit covariance."
   ]
  },
  {
   "cell_type": "markdown",
   "metadata": {},
   "source": [
    "## If you want overdispersion in the model:"
   ]
  },
  {
   "cell_type": "markdown",
   "metadata": {},
   "source": [
    "Set the following to `True`:"
   ]
  },
  {
   "cell_type": "code",
   "execution_count": 1,
   "metadata": {
    "collapsed": false
   },
   "outputs": [],
   "source": [
    "overdisp = True"
   ]
  },
  {
   "cell_type": "markdown",
   "metadata": {},
   "source": [
    "# Generate Test Data"
   ]
  },
  {
   "cell_type": "code",
   "execution_count": 2,
   "metadata": {
    "collapsed": false
   },
   "outputs": [
    {
     "name": "stderr",
     "output_type": "stream",
     "text": [
      "/home/pearson/anaconda/lib/python2.7/site-packages/pandas/computation/__init__.py:19: UserWarning: The installed version of numexpr 2.4.4 is not supported in pandas and will be not be used\n",
      "\n",
      "  UserWarning)\n",
      "/home/pearson/anaconda/lib/python2.7/site-packages/IPython/html.py:14: ShimWarning: The `IPython.html` package has been deprecated. You should import from `notebook` instead. `IPython.html.widgets` has moved to `ipywidgets`.\n",
      "  \"`IPython.html.widgets` has moved to `ipywidgets`.\", ShimWarning)\n"
     ]
    }
   ],
   "source": [
    "from __future__ import division\n",
    "import numpy as np\n",
    "import pandas as pd\n",
    "import scipy.stats as stats\n",
    "import matplotlib.pyplot as plt\n",
    "import seaborn as sns\n",
    "import lognormal as ln\n",
    "from fbi import fb_infer\n",
    "from helpers import *\n",
    "from autograd import grad\n",
    "%matplotlib inline\n",
    "sns.set_style('darkgrid')\n",
    "\n",
    "np.random.seed(11739)"
   ]
  },
  {
   "cell_type": "markdown",
   "metadata": {},
   "source": [
    "## Define model parameters"
   ]
  },
  {
   "cell_type": "code",
   "execution_count": 3,
   "metadata": {
    "collapsed": false
   },
   "outputs": [],
   "source": [
    "U = 100  # units\n",
    "T = 1000  # time points/frames\n",
    "Kdata = 3  # number of latent states\n",
    "dt = 1/30  # seconds per frame"
   ]
  },
  {
   "cell_type": "markdown",
   "metadata": {},
   "source": [
    "## Generate Markov chains"
   ]
  },
  {
   "cell_type": "code",
   "execution_count": 4,
   "metadata": {
    "collapsed": false
   },
   "outputs": [],
   "source": [
    "# make transition matrix\n",
    "A = np.array([[0.98, 0.05], [0.02, 0.95]])"
   ]
  },
  {
   "cell_type": "code",
   "execution_count": 5,
   "metadata": {
    "collapsed": false
   },
   "outputs": [
    {
     "name": "stderr",
     "output_type": "stream",
     "text": [
      "/home/pearson/anaconda/lib/python2.7/site-packages/IPython/kernel/__main__.py:6: DeprecationWarning: using a non-integer number instead of an integer will result in an error in the future\n"
     ]
    }
   ],
   "source": [
    "chain = np.empty((T, Kdata))\n",
    "\n",
    "chain[0, :] = 0  # start all categories \"off\"\n",
    "for t in xrange(1, T):\n",
    "    for k in xrange(Kdata):\n",
    "        chain[t, k] = stats.bernoulli.rvs(A[1, chain[t - 1, k]])"
   ]
  },
  {
   "cell_type": "code",
   "execution_count": 6,
   "metadata": {
    "collapsed": false
   },
   "outputs": [
    {
     "data": {
      "image/png": "[encoded data removed]",
      "text/plain": [
       "<matplotlib.figure.Figure at 0x7f00e58c51d0>"
      ]
     },
     "metadata": {},
     "output_type": "display_data"
    }
   ],
   "source": [
    "matshow(chain.T);"
   ]
  },
  {
   "cell_type": "markdown",
   "metadata": {},
   "source": [
    "## Baseline distributions"
   ]
  },
  {
   "cell_type": "markdown",
   "metadata": {},
   "source": [
    "Scipy parameterizes the log-normal as\n",
    "$$\n",
    "\\text{log-}\\mathcal{N}(x) = \\frac{1}{x\\sqrt{2\\pi \\sigma^2}} \\exp\\left({-\\frac{(\\log (x/x_0))^2}{2\\sigma^2}}\\right)\n",
    "$$ \n",
    "from which we can see that $\\log x$ is normally distributed with mean $\\mu = \\log x_0$ and variance $\\sigma^2$.\n",
    "\n",
    "In scipy, $x_0$ is the scale parameter and $\\sigma$ is the shape."
   ]
  },
  {
   "cell_type": "code",
   "execution_count": 7,
   "metadata": {
    "collapsed": false
   },
   "outputs": [
    {
     "data": {
      "image/png": "[encoded data removed]",
      "text/plain": [
       "<matplotlib.figure.Figure at 0x7f00e8db8f90>"
      ]
     },
     "metadata": {},
     "output_type": "display_data"
    }
   ],
   "source": [
    "bl_scale = 10\n",
    "bl_mean = np.log(bl_scale)\n",
    "bl_sig = 0.5\n",
    "# baselines should follow a different distribution\n",
    "bl = stats.norm.rvs(scale=bl_sig, loc=bl_mean, size=U) \n",
    "\n",
    "xx = np.linspace(0, 50, 1000)\n",
    "plt.plot(xx, stats.lognorm.pdf(xx, scale=bl_scale, s=bl_sig))\n",
    "plt.title('Baseline firing distribution');"
   ]
  },
  {
   "cell_type": "markdown",
   "metadata": {},
   "source": [
    "## Firing rate effect distributions"
   ]
  },
  {
   "cell_type": "code",
   "execution_count": 8,
   "metadata": {
    "collapsed": false
   },
   "outputs": [
    {
     "data": {
      "image/png": "[encoded data removed]",
      "text/plain": [
       "<matplotlib.figure.Figure at 0x7f00b2015390>"
      ]
     },
     "metadata": {},
     "output_type": "display_data"
    }
   ],
   "source": [
    "fr_sig = 0.15\n",
    "fr_scale = 1.\n",
    "fr_mean = np.log(fr_scale)\n",
    "lam = stats.norm.rvs(loc=fr_mean, scale=fr_sig, size=(Kdata, U))\n",
    "\n",
    "xx = np.linspace(0, 5, 1000)\n",
    "plt.plot(xx, stats.lognorm.pdf(xx, scale=fr_scale, s=fr_sig))\n",
    "plt.title('Category effect firing distribution');"
   ]
  },
  {
   "cell_type": "markdown",
   "metadata": {},
   "source": [
    "## Overdispersion"
   ]
  },
  {
   "cell_type": "markdown",
   "metadata": {},
   "source": [
    "We want a covariance matrix $\\Sigma_\\varepsilon$ that captures (weak) correlations among units. To do this, we construct a correlation matrix $S_\\varepsilon$ and then scale each coordinate by $\\tau$:\n",
    "\n",
    "$$\n",
    "\\Sigma_\\varepsilon = S \\odot (\\tau * \\tau^\\top)\n",
    "$$"
   ]
  },
  {
   "cell_type": "code",
   "execution_count": 9,
   "metadata": {
    "collapsed": false
   },
   "outputs": [
    {
     "name": "stdout",
     "output_type": "stream",
     "text": [
      "[ 0.05283964  0.11646085  0.04679853  0.13970863  0.07408747  0.03224017\n",
      "  0.05100436  0.02296162  0.13191726  0.0285772   0.12096115  0.0998616\n",
      "  0.14124977  0.08721403  0.12197291  0.07615642  0.01036895  0.08796681\n",
      "  0.00364792  0.10953105  0.06334174  0.1129181   0.03995787  0.09787263\n",
      "  0.11282489  0.07503071  0.13824246  0.09361197  0.05479611  0.1407809\n",
      "  0.0707353   0.02420396  0.01742334  0.01827754  0.02379776  0.07848955\n",
      "  0.12287138  0.03407698  0.02455643  0.02255358  0.06180687  0.03113775\n",
      "  0.11177889  0.08728737  0.10123846  0.07511091  0.11186748  0.00971889\n",
      "  0.0147951   0.12929011  0.05264665  0.01040647  0.14236802  0.09200966\n",
      "  0.11230269  0.14645748  0.10865591  0.07901909  0.05805161  0.1451661\n",
      "  0.03822902  0.14348172  0.01404257  0.11322598  0.13345244  0.09084699\n",
      "  0.00260029  0.09772609  0.0551644   0.07695744  0.06440434  0.14940935\n",
      "  0.10355374  0.08650552  0.0056895   0.04636059  0.08340012  0.0330288\n",
      "  0.11459362  0.02363745  0.00104405  0.01367694  0.01424427  0.10289876\n",
      "  0.10406994  0.01615886  0.06342899  0.13673973  0.12915826  0.05511302\n",
      "  0.08566595  0.02923768  0.12047969  0.09824838  0.05275197  0.06656721\n",
      "  0.12373453  0.09696528  0.01437111  0.03495606]\n",
      "[[  2.79202757e-03   3.07687467e-04   0.00000000e+00 ...,   0.00000000e+00\n",
      "    0.00000000e+00   0.00000000e+00]\n",
      " [  3.07687467e-04   1.35631293e-02   2.72509801e-04 ...,   0.00000000e+00\n",
      "    0.00000000e+00   0.00000000e+00]\n",
      " [  0.00000000e+00   2.72509801e-04   2.19010201e-03 ...,   0.00000000e+00\n",
      "    0.00000000e+00   0.00000000e+00]\n",
      " ..., \n",
      " [  0.00000000e+00   0.00000000e+00   0.00000000e+00 ...,   9.40226576e-03\n",
      "    6.96749314e-05   0.00000000e+00]\n",
      " [  0.00000000e+00   0.00000000e+00   0.00000000e+00 ...,   6.96749314e-05\n",
      "    2.06528774e-04   2.51178698e-05]\n",
      " [  0.00000000e+00   0.00000000e+00   0.00000000e+00 ...,   0.00000000e+00\n",
      "    2.51178698e-05   1.22192636e-03]]\n"
     ]
    },
    {
     "data": {
      "image/png": "[encoded data removed]",
      "text/plain": [
       "<matplotlib.figure.Figure at 0x7f00b2057fd0>"
      ]
     },
     "metadata": {},
     "output_type": "display_data"
    }
   ],
   "source": [
    "def gencov(U, noise_scale):\n",
    "    tau = noise_scale * np.random.rand(U)\n",
    "    S = np.eye(U)\n",
    "    eps = 0.05\n",
    "    S += np.diag(eps * np.ones(U - 1), 1)\n",
    "    S += np.diag(eps * np.ones(U - 1), -1)\n",
    "    Sig = S * np.outer(tau, tau)\n",
    "    return tau, Sig\n",
    "if overdisp:\n",
    "    noise_scale = 0.15\n",
    "    tau, Sig = gencov(U, noise_scale)\n",
    "\n",
    "    print(tau)\n",
    "    print(Sig)\n",
    "    plt.matshow(Sig);"
   ]
  },
  {
   "cell_type": "markdown",
   "metadata": {},
   "source": [
    "## External regressors"
   ]
  },
  {
   "cell_type": "code",
   "execution_count": 10,
   "metadata": {
    "collapsed": false
   },
   "outputs": [],
   "source": [
    "# just as above, make a set of Markov-esque regressors\n",
    "\n",
    "# number of regressors\n",
    "R = 3  \n",
    "\n",
    "# \"transition matrix\" -- want regressors to have some temporal coherence\n",
    "AX = np.array([[0.98, 0.05], [0.02, 0.95]])"
   ]
  },
  {
   "cell_type": "code",
   "execution_count": 11,
   "metadata": {
    "collapsed": false
   },
   "outputs": [
    {
     "name": "stderr",
     "output_type": "stream",
     "text": [
      "/home/pearson/anaconda/lib/python2.7/site-packages/IPython/kernel/__main__.py:6: DeprecationWarning: using a non-integer number instead of an integer will result in an error in the future\n"
     ]
    }
   ],
   "source": [
    "Xchain = np.empty((T, R))\n",
    "\n",
    "Xchain[0, :] = 0  # start second category off\n",
    "for t in xrange(1, T):\n",
    "    for k in xrange(0, R):\n",
    "        Xchain[t, k] = stats.bernoulli.rvs(AX[1, Xchain[t - 1, k]])"
   ]
  },
  {
   "cell_type": "code",
   "execution_count": 12,
   "metadata": {
    "collapsed": false
   },
   "outputs": [
    {
     "data": {
      "text/plain": [
       "<matplotlib.image.AxesImage at 0x7f00b19398d0>"
      ]
     },
     "execution_count": 12,
     "metadata": {},
     "output_type": "execute_result"
    },
    {
     "data": {
      "image/png": "[encoded data removed]",
      "text/plain": [
       "<matplotlib.figure.Figure at 0x7f00b2167790>"
      ]
     },
     "metadata": {},
     "output_type": "display_data"
    }
   ],
   "source": [
    "matshow(Xchain.T)"
   ]
  },
  {
   "cell_type": "code",
   "execution_count": 13,
   "metadata": {
    "collapsed": false
   },
   "outputs": [],
   "source": [
    "Xf = pd.DataFrame(Xchain, columns=map(lambda x: 'X' + str(x), xrange(R)))\n",
    "Xf.index.name = 'frame'\n",
    "Xf = Xf.reset_index()"
   ]
  },
  {
   "cell_type": "code",
   "execution_count": 14,
   "metadata": {
    "collapsed": false
   },
   "outputs": [
    {
     "data": {
      "text/html": [
       "<div>\n",
       "<table border=\"1\" class=\"dataframe\">\n",
       "  <thead>\n",
       "    <tr style=\"text-align: right;\">\n",
       "      <th></th>\n",
       "      <th>frame</th>\n",
       "      <th>X0</th>\n",
       "      <th>X1</th>\n",
       "      <th>X2</th>\n",
       "    </tr>\n",
       "  </thead>\n",
       "  <tbody>\n",
       "    <tr>\n",
       "      <th>0</th>\n",
       "      <td>0</td>\n",
       "      <td>0.0</td>\n",
       "      <td>0.0</td>\n",
       "      <td>0.0</td>\n",
       "    </tr>\n",
       "    <tr>\n",
       "      <th>1</th>\n",
       "      <td>1</td>\n",
       "      <td>0.0</td>\n",
       "      <td>0.0</td>\n",
       "      <td>0.0</td>\n",
       "    </tr>\n",
       "    <tr>\n",
       "      <th>2</th>\n",
       "      <td>2</td>\n",
       "      <td>0.0</td>\n",
       "      <td>0.0</td>\n",
       "      <td>0.0</td>\n",
       "    </tr>\n",
       "    <tr>\n",
       "      <th>3</th>\n",
       "      <td>3</td>\n",
       "      <td>0.0</td>\n",
       "      <td>0.0</td>\n",
       "      <td>0.0</td>\n",
       "    </tr>\n",
       "    <tr>\n",
       "      <th>4</th>\n",
       "      <td>4</td>\n",
       "      <td>0.0</td>\n",
       "      <td>0.0</td>\n",
       "      <td>0.0</td>\n",
       "    </tr>\n",
       "  </tbody>\n",
       "</table>\n",
       "</div>"
      ],
      "text/plain": [
       "   frame   X0   X1   X2\n",
       "0      0  0.0  0.0  0.0\n",
       "1      1  0.0  0.0  0.0\n",
       "2      2  0.0  0.0  0.0\n",
       "3      3  0.0  0.0  0.0\n",
       "4      4  0.0  0.0  0.0"
      ]
     },
     "execution_count": 14,
     "metadata": {},
     "output_type": "execute_result"
    }
   ],
   "source": [
    "Xf.head()"
   ]
  },
  {
   "cell_type": "code",
   "execution_count": 15,
   "metadata": {
    "collapsed": false
   },
   "outputs": [
    {
     "data": {
      "image/png": "[encoded data removed]",
      "text/plain": [
       "<matplotlib.figure.Figure at 0x7f00b195dc90>"
      ]
     },
     "metadata": {},
     "output_type": "display_data"
    }
   ],
   "source": [
    "Xfr_scale = 1\n",
    "Xfr_mean = np.log(Xfr_scale)\n",
    "Xfr_sig = 0.25\n",
    "Xlam = stats.norm.rvs(loc=Xfr_mean, scale=Xfr_sig, size=(R, U))\n",
    "\n",
    "xx = np.linspace(0, 5, 1000)\n",
    "plt.plot(xx, stats.lognorm.pdf(xx, s=Xfr_sig, scale=Xfr_scale))\n",
    "plt.title('Regressor effect firing distribution');"
   ]
  },
  {
   "cell_type": "markdown",
   "metadata": {},
   "source": [
    "## Calculate firing rates"
   ]
  },
  {
   "cell_type": "markdown",
   "metadata": {},
   "source": [
    "Let $\\lambda_0$ be the baseline effect, $b_k$ the firing rate effect for latent category $k$ with binary indicator $z_{tk}$ at time $t$, and $\\beta_r$ the firing rate effect for external regressor $r$ with value $x_{tr}$ at time $t$. Finally, let $\\epsilon_t$ be the overdispersion random effect. Then\n",
    "$$\n",
    "\\eta_{tu} = \\log f_{tu} = \\lambda_{0u} + \\sum_k z_{tk} b_{ku} + \\sum_r x_{tr} \\beta_{ru} + \\epsilon_t \\\\\n",
    "\\mathrm{cov}[\\epsilon_t] = \\Sigma_\\varepsilon\n",
    "$$"
   ]
  },
  {
   "cell_type": "code",
   "execution_count": 16,
   "metadata": {
    "collapsed": false
   },
   "outputs": [],
   "source": [
    "# add overdispersion\n",
    "if overdisp:\n",
    "    eps = stats.multivariate_normal.rvs(mean=None, cov=Sig, size=(T,))\n",
    "else:\n",
    "    eps = 0\n",
    "    \n",
    "# calculate firing rate\n",
    "fr = np.exp(bl + chain.dot(lam) + Xchain.dot(Xlam) + eps) * dt\n"
   ]
  },
  {
   "cell_type": "code",
   "execution_count": 17,
   "metadata": {
    "collapsed": false
   },
   "outputs": [
    {
     "data": {
      "image/png": "[encoded data removed]",
      "text/plain": [
       "<matplotlib.figure.Figure at 0x7f00b1948150>"
      ]
     },
     "metadata": {},
     "output_type": "display_data"
    }
   ],
   "source": [
    "# get a crude sense of population firing\n",
    "plt.hist(fr.ravel() / dt, bins=1000);\n",
    "plt.xlim(0, 50);"
   ]
  },
  {
   "cell_type": "markdown",
   "metadata": {},
   "source": [
    "## Look at generated data"
   ]
  },
  {
   "cell_type": "code",
   "execution_count": 18,
   "metadata": {
    "collapsed": false
   },
   "outputs": [
    {
     "data": {
      "image/png": "[encoded data removed]",
      "text/plain": [
       "<matplotlib.figure.Figure at 0x7f00b035fdd0>"
      ]
     },
     "metadata": {},
     "output_type": "display_data"
    }
   ],
   "source": [
    "matshow(fr.T / dt, vmax=30);\n",
    "plt.colorbar();"
   ]
  },
  {
   "cell_type": "code",
   "execution_count": 19,
   "metadata": {
    "collapsed": false
   },
   "outputs": [
    {
     "data": {
      "image/png": "[encoded data removed]",
      "text/plain": [
       "<matplotlib.figure.Figure at 0x7f008d405990>"
      ]
     },
     "metadata": {},
     "output_type": "display_data"
    }
   ],
   "source": [
    "# draw from Poisson\n",
    "N = stats.poisson.rvs(fr)\n",
    "matshow(N.T, vmax=1);\n",
    "plt.colorbar();"
   ]
  },
  {
   "cell_type": "code",
   "execution_count": 20,
   "metadata": {
    "collapsed": false
   },
   "outputs": [
    {
     "data": {
      "text/html": [
       "<div>\n",
       "<table border=\"1\" class=\"dataframe\">\n",
       "  <thead>\n",
       "    <tr style=\"text-align: right;\">\n",
       "      <th></th>\n",
       "      <th>frame</th>\n",
       "      <th>unit</th>\n",
       "      <th>count</th>\n",
       "      <th>movie</th>\n",
       "      <th>X0</th>\n",
       "      <th>X1</th>\n",
       "      <th>X2</th>\n",
       "    </tr>\n",
       "  </thead>\n",
       "  <tbody>\n",
       "    <tr>\n",
       "      <th>0</th>\n",
       "      <td>0</td>\n",
       "      <td>0</td>\n",
       "      <td>0</td>\n",
       "      <td>1</td>\n",
       "      <td>0.0</td>\n",
       "      <td>0.0</td>\n",
       "      <td>0.0</td>\n",
       "    </tr>\n",
       "    <tr>\n",
       "      <th>1</th>\n",
       "      <td>0</td>\n",
       "      <td>1</td>\n",
       "      <td>0</td>\n",
       "      <td>1</td>\n",
       "      <td>0.0</td>\n",
       "      <td>0.0</td>\n",
       "      <td>0.0</td>\n",
       "    </tr>\n",
       "    <tr>\n",
       "      <th>2</th>\n",
       "      <td>0</td>\n",
       "      <td>2</td>\n",
       "      <td>0</td>\n",
       "      <td>1</td>\n",
       "      <td>0.0</td>\n",
       "      <td>0.0</td>\n",
       "      <td>0.0</td>\n",
       "    </tr>\n",
       "    <tr>\n",
       "      <th>3</th>\n",
       "      <td>0</td>\n",
       "      <td>3</td>\n",
       "      <td>0</td>\n",
       "      <td>1</td>\n",
       "      <td>0.0</td>\n",
       "      <td>0.0</td>\n",
       "      <td>0.0</td>\n",
       "    </tr>\n",
       "    <tr>\n",
       "      <th>4</th>\n",
       "      <td>0</td>\n",
       "      <td>4</td>\n",
       "      <td>0</td>\n",
       "      <td>1</td>\n",
       "      <td>0.0</td>\n",
       "      <td>0.0</td>\n",
       "      <td>0.0</td>\n",
       "    </tr>\n",
       "  </tbody>\n",
       "</table>\n",
       "</div>"
      ],
      "text/plain": [
       "   frame unit  count  movie   X0   X1   X2\n",
       "0      0    0      0      1  0.0  0.0  0.0\n",
       "1      0    1      0      1  0.0  0.0  0.0\n",
       "2      0    2      0      1  0.0  0.0  0.0\n",
       "3      0    3      0      1  0.0  0.0  0.0\n",
       "4      0    4      0      1  0.0  0.0  0.0"
      ]
     },
     "execution_count": 20,
     "metadata": {},
     "output_type": "execute_result"
    }
   ],
   "source": [
    "# make count frame\n",
    "df = pd.DataFrame(N)\n",
    "df.index.name = 'frame'\n",
    "df = df.reset_index()\n",
    "df = pd.melt(df, id_vars='frame')\n",
    "df.columns = ['frame', 'unit', 'count']\n",
    "df['movie'] = 1\n",
    "\n",
    "df = df.merge(Xf)\n",
    "\n",
    "df.head()"
   ]
  },
  {
   "cell_type": "markdown",
   "metadata": {},
   "source": [
    "Finally, convert (frame, movie) pairs to unique times:"
   ]
  },
  {
   "cell_type": "code",
   "execution_count": 21,
   "metadata": {
    "collapsed": false
   },
   "outputs": [
    {
     "data": {
      "text/html": [
       "<div>\n",
       "<table border=\"1\" class=\"dataframe\">\n",
       "  <thead>\n",
       "    <tr style=\"text-align: right;\">\n",
       "      <th></th>\n",
       "      <th>unit</th>\n",
       "      <th>count</th>\n",
       "      <th>X0</th>\n",
       "      <th>X1</th>\n",
       "      <th>X2</th>\n",
       "      <th>time</th>\n",
       "    </tr>\n",
       "  </thead>\n",
       "  <tbody>\n",
       "    <tr>\n",
       "      <th>0</th>\n",
       "      <td>0</td>\n",
       "      <td>0</td>\n",
       "      <td>0.0</td>\n",
       "      <td>0.0</td>\n",
       "      <td>0.0</td>\n",
       "      <td>0</td>\n",
       "    </tr>\n",
       "    <tr>\n",
       "      <th>1</th>\n",
       "      <td>1</td>\n",
       "      <td>0</td>\n",
       "      <td>0.0</td>\n",
       "      <td>0.0</td>\n",
       "      <td>0.0</td>\n",
       "      <td>0</td>\n",
       "    </tr>\n",
       "    <tr>\n",
       "      <th>2</th>\n",
       "      <td>2</td>\n",
       "      <td>0</td>\n",
       "      <td>0.0</td>\n",
       "      <td>0.0</td>\n",
       "      <td>0.0</td>\n",
       "      <td>0</td>\n",
       "    </tr>\n",
       "    <tr>\n",
       "      <th>3</th>\n",
       "      <td>3</td>\n",
       "      <td>0</td>\n",
       "      <td>0.0</td>\n",
       "      <td>0.0</td>\n",
       "      <td>0.0</td>\n",
       "      <td>0</td>\n",
       "    </tr>\n",
       "    <tr>\n",
       "      <th>4</th>\n",
       "      <td>4</td>\n",
       "      <td>0</td>\n",
       "      <td>0.0</td>\n",
       "      <td>0.0</td>\n",
       "      <td>0.0</td>\n",
       "      <td>0</td>\n",
       "    </tr>\n",
       "  </tbody>\n",
       "</table>\n",
       "</div>"
      ],
      "text/plain": [
       "  unit  count   X0   X1   X2  time\n",
       "0    0      0  0.0  0.0  0.0     0\n",
       "1    1      0  0.0  0.0  0.0     0\n",
       "2    2      0  0.0  0.0  0.0     0\n",
       "3    3      0  0.0  0.0  0.0     0\n",
       "4    4      0  0.0  0.0  0.0     0"
      ]
     },
     "execution_count": 21,
     "metadata": {},
     "output_type": "execute_result"
    }
   ],
   "source": [
    "df = frames_to_times(df)\n",
    "M = df.shape[0]\n",
    "df.head()"
   ]
  },
  {
   "cell_type": "markdown",
   "metadata": {},
   "source": [
    "# Testing\n",
    "\n",
    "Just testing out sanity on $\\mathcal{L}$."
   ]
  },
  {
   "cell_type": "markdown",
   "metadata": {},
   "source": [
    "## Spikes and $\\eta$ term"
   ]
  },
  {
   "cell_type": "code",
   "execution_count": 22,
   "metadata": {
    "collapsed": false
   },
   "outputs": [
    {
     "name": "stdout",
     "output_type": "stream",
     "text": [
      "-1386157.93024\n"
     ]
    }
   ],
   "source": [
    "eta_mean = stats.norm.rvs(scale=bl_sig, loc=bl_mean, size=(T, U)) \n",
    "eta_cov = np.random.rand(T, U, U)\n",
    "\n",
    "print(ln.log_observed_spikes(N, eta_mean, eta_cov))"
   ]
  },
  {
   "cell_type": "markdown",
   "metadata": {},
   "source": [
    "## Normal $\\mathbb{E}[\\log p]$ and entropy"
   ]
  },
  {
   "cell_type": "code",
   "execution_count": 23,
   "metadata": {
    "collapsed": false
   },
   "outputs": [
    {
     "name": "stdout",
     "output_type": "stream",
     "text": [
      "-1268.08006964\n",
      "-56.2399832674\n"
     ]
    }
   ],
   "source": [
    "m_a = 0.1  # mean of prior on a\n",
    "s_a = 0.05**2  # variance of prior on a\n",
    "mu_a = 0.05 * np.random.randn(U)\n",
    "sig_a = 0.1 * np.random.rand(U)\n",
    "\n",
    "print(ln.expected_log_normal(m_a, s_a, mu_a, sig_a))\n",
    "print(ln.normal_entropy(mu_a, sig_a))"
   ]
  },
  {
   "cell_type": "code",
   "execution_count": 24,
   "metadata": {
    "collapsed": false
   },
   "outputs": [
    {
     "name": "stdout",
     "output_type": "stream",
     "text": [
      "-823.289251977\n",
      "-698.577959376\n"
     ]
    }
   ],
   "source": [
    "m_b = 0.1 * np.ones((R,))\n",
    "S_b = 0.05**2 * np.eye(R)\n",
    "mu_b = 0.05 * np.random.randn(U, R)\n",
    "Sig_b = 0.05**2 * np.random.rand(U, R, R)\n",
    "\n",
    "print(ln.expected_log_mvnormal(m_b, S_b, mu_b, Sig_b))\n",
    "print(ln.mvnormal_entropy(mu_b, Sig_b))"
   ]
  },
  {
   "cell_type": "markdown",
   "metadata": {},
   "source": [
    "## HMM state sequence and entropy"
   ]
  },
  {
   "cell_type": "code",
   "execution_count": 25,
   "metadata": {
    "collapsed": false
   },
   "outputs": [
    {
     "name": "stdout",
     "output_type": "stream",
     "text": [
      "793.847077705\n",
      "-126.678346083\n"
     ]
    }
   ],
   "source": [
    "psi = np.random.rand(T, 1)\n",
    "log_psi = np.hstack([np.log(psi), 1 - np.log(psi)])\n",
    "log_A = np.log(A)\n",
    "log_pi = np.log([0.9, 0.1])\n",
    "xi, logZ, Xi = fb_infer(A, np.exp(log_pi), np.exp(psi))\n",
    "\n",
    "print(ln.hmm_entropy(log_psi, log_A, log_pi, xi, Xi, logZ))\n",
    "print(ln.expected_log_state_sequence(xi, Xi, log_A, log_pi))"
   ]
  },
  {
   "cell_type": "code",
   "execution_count": 26,
   "metadata": {
    "collapsed": false
   },
   "outputs": [
    {
     "data": {
      "text/plain": [
       "(1, 1000, 12)"
      ]
     },
     "execution_count": 26,
     "metadata": {},
     "output_type": "execute_result"
    }
   ],
   "source": [
    "np.tile(xi, (1, 1, 6)).shape"
   ]
  },
  {
   "cell_type": "markdown",
   "metadata": {},
   "source": [
    "## Emission probabilities for Markov Chain"
   ]
  },
  {
   "cell_type": "raw",
   "metadata": {},
   "source": [
    "Kthis = 4\n",
    "tau = np.random.rand(U)\n",
    "mu_c = np.random.randn(U, Kthis)\n",
    "Sig_c = np.random.rand(U, Kthis, Kthis)\n",
    "xi_this = np.stack([xi] * Kthis, 2)\n",
    "print(ln.log_emission_probs(tau, eta_mean, mu_a, mu_b, Xchain, mu_c, Sig_c, xi_this).shape)"
   ]
  },
  {
   "cell_type": "markdown",
   "metadata": {},
   "source": [
    "## Entropies and log priors for $A$ and $\\pi$"
   ]
  },
  {
   "cell_type": "code",
   "execution_count": 27,
   "metadata": {
    "collapsed": false
   },
   "outputs": [
    {
     "name": "stdout",
     "output_type": "stream",
     "text": [
      "-60.985228435\n",
      "60.985228435\n"
     ]
    }
   ],
   "source": [
    "print(ln.dirichlet_entropy(A.T))\n",
    "print(ln.expected_log_dirichlet(A.T, A.T))"
   ]
  },
  {
   "cell_type": "markdown",
   "metadata": {},
   "source": [
    "## Inverse-Gamma for variances:"
   ]
  },
  {
   "cell_type": "code",
   "execution_count": 28,
   "metadata": {
    "collapsed": false
   },
   "outputs": [
    {
     "name": "stdout",
     "output_type": "stream",
     "text": [
      "265599.508953\n",
      "-909734.428526\n"
     ]
    }
   ],
   "source": [
    "alpha = 5 * np.random.rand(T, U)\n",
    "beta = 2 * np.random.rand(T, U)\n",
    "aa = 3.7 * np.random.rand(T, U)\n",
    "bb = 5.6 * np.random.rand(T, U)\n",
    "\n",
    "print(ln.inverse_gamma_entropy(alpha, beta))\n",
    "print(ln.expected_log_inverse_gamma(aa, bb, alpha, beta))"
   ]
  },
  {
   "cell_type": "markdown",
   "metadata": {},
   "source": [
    "## LKJ covariances:"
   ]
  },
  {
   "cell_type": "code",
   "execution_count": 29,
   "metadata": {
    "collapsed": false
   },
   "outputs": [
    {
     "name": "stdout",
     "output_type": "stream",
     "text": [
      "7337.92328772\n",
      "-7359.66050036\n"
     ]
    }
   ],
   "source": [
    "eta = 10\n",
    "h = 15\n",
    "print(ln.expected_log_LKJ(h, eta, U))\n",
    "print(ln.LKJ_entropy(eta, U))"
   ]
  },
  {
   "cell_type": "code",
   "execution_count": 30,
   "metadata": {
    "collapsed": false
   },
   "outputs": [
    {
     "data": {
      "text/plain": [
       "<matplotlib.image.AxesImage at 0x7f008c67e410>"
      ]
     },
     "execution_count": 30,
     "metadata": {},
     "output_type": "execute_result"
    },
    {
     "data": {
      "image/png": "[encoded data removed]",
      "text/plain": [
       "<matplotlib.figure.Figure at 0x7f008c6f3090>"
      ]
     },
     "metadata": {},
     "output_type": "display_data"
    }
   ],
   "source": [
    "Omega = ln.draw_LKJ(1, U)\n",
    "plt.matshow(np.abs(Omega))"
   ]
  },
  {
   "cell_type": "code",
   "execution_count": 31,
   "metadata": {
    "collapsed": false
   },
   "outputs": [
    {
     "name": "stdout",
     "output_type": "stream",
     "text": [
      "[ 50.5  50.5  50.5 ...,   2.    2.    1.5]\n",
      "[ 0.08258819  0.00586954 -0.00654709 ..., -0.5355102  -0.07994297\n",
      " -0.36359821]\n",
      "[ 0.08258819  0.00586954 -0.00654709 ...,  0.03842982 -0.03178628\n",
      " -0.08339512]\n"
     ]
    }
   ],
   "source": [
    "betas = ln.LKJ_to_beta_pars(1, U)\n",
    "print(betas)\n",
    "cpc = 2 * np.random.beta(betas, betas) - 1\n",
    "print(cpc)\n",
    "corrvec = ln.corr_from_cpc(cpc)\n",
    "print(corrvec)"
   ]
  },
  {
   "cell_type": "code",
   "execution_count": 32,
   "metadata": {
    "collapsed": false
   },
   "outputs": [
    {
     "data": {
      "text/plain": [
       "(-1, 1)"
      ]
     },
     "execution_count": 32,
     "metadata": {},
     "output_type": "execute_result"
    },
    {
     "data": {
      "image/png": "[encoded data removed]",
      "text/plain": [
       "<matplotlib.figure.Figure at 0x7f008c728190>"
      ]
     },
     "metadata": {},
     "output_type": "display_data"
    }
   ],
   "source": [
    "plt.hist(corrvec);\n",
    "plt.xlim(-1, 1)"
   ]
  },
  {
   "cell_type": "markdown",
   "metadata": {},
   "source": [
    "# Set up Priors"
   ]
  },
  {
   "cell_type": "markdown",
   "metadata": {},
   "source": [
    "## Priors on baseline:"
   ]
  },
  {
   "cell_type": "markdown",
   "metadata": {},
   "source": [
    "We will use a simple model for baseline priors\n",
    "$$\n",
    "a_u \\sim \\mathcal{N}(m_a, s_a^2)\n",
    "$$\n",
    "where the actual baseline firing rate is $f = e^{a}$."
   ]
  },
  {
   "cell_type": "code",
   "execution_count": 33,
   "metadata": {
    "collapsed": false
   },
   "outputs": [
    {
     "data": {
      "image/png": "[encoded data removed]",
      "text/plain": [
       "<matplotlib.figure.Figure at 0x7f008c7c8210>"
      ]
     },
     "metadata": {},
     "output_type": "display_data"
    }
   ],
   "source": [
    "m_a = np.log(15) + np.log(dt)\n",
    "s_a = 0.7\n",
    "\n",
    "xx = np.linspace(0, 50, 1000)\n",
    "samples = np.exp(stats.norm.rvs(loc=m_a, scale=s_a, size=1e5))\n",
    "sns.kdeplot(samples / dt, clip=(0, 150))\n",
    "plt.title('baseline prior distribution')\n",
    "plt.xlim(0, 100);\n",
    "plt.xlabel('spikes per second');"
   ]
  },
  {
   "cell_type": "markdown",
   "metadata": {},
   "source": [
    "## Priors on latent firing rate effects:"
   ]
  },
  {
   "cell_type": "markdown",
   "metadata": {},
   "source": [
    "Here, we adopt a prior\n",
    "$$\n",
    "c_{\\cdot u} \\sim \\mathcal{N}(0, S_{c}) \\\\\n",
    "$$"
   ]
  },
  {
   "cell_type": "code",
   "execution_count": 34,
   "metadata": {
    "collapsed": false
   },
   "outputs": [],
   "source": [
    "# set number of categories to fit\n",
    "K = 5"
   ]
  },
  {
   "cell_type": "code",
   "execution_count": 35,
   "metadata": {
    "collapsed": false,
    "scrolled": false
   },
   "outputs": [
    {
     "data": {
      "text/plain": [
       "[<matplotlib.lines.Line2D at 0x7f00b20d5e90>]"
      ]
     },
     "execution_count": 35,
     "metadata": {},
     "output_type": "execute_result"
    },
    {
     "data": {
      "image/png": "[encoded data removed]",
      "text/plain": [
       "<matplotlib.figure.Figure at 0x7f00b1a93e10>"
      ]
     },
     "metadata": {},
     "output_type": "display_data"
    }
   ],
   "source": [
    "m_c = 0  # prior mean\n",
    "s_c = 0.05  # std\n",
    "tau_b = 1/s_c**2\n",
    "S_c = tau_b * np.eye(K)  # prior cov\n",
    "\n",
    "xx = np.linspace(-2, 2, 5000)\n",
    "plt.plot(np.exp(xx), stats.norm.pdf(xx, scale=np.sqrt(s_c)))"
   ]
  },
  {
   "cell_type": "markdown",
   "metadata": {},
   "source": [
    "## Priors on regression coefficients:\n",
    "\n",
    "Similar to firing rate effects:\n",
    "\n",
    "$$\n",
    "b_{\\cdot u} \\sim \\mathcal{N}(0, S_{b}) \\\\\n",
    "$$"
   ]
  },
  {
   "cell_type": "code",
   "execution_count": 36,
   "metadata": {
    "collapsed": false
   },
   "outputs": [
    {
     "data": {
      "text/plain": [
       "[<matplotlib.lines.Line2D at 0x7f008d3672d0>]"
      ]
     },
     "execution_count": 36,
     "metadata": {},
     "output_type": "execute_result"
    },
    {
     "data": {
      "image/png": "[encoded data removed]",
      "text/plain": [
       "<matplotlib.figure.Figure at 0x7f008c86ab10>"
      ]
     },
     "metadata": {},
     "output_type": "display_data"
    }
   ],
   "source": [
    "m_b = 0  # prior mean\n",
    "s_b = 0.05  # std\n",
    "S_b = s_b * np.eye(R)  # prior cov\n",
    "\n",
    "xx = np.linspace(-2, 2, 5000)\n",
    "plt.plot(np.exp(xx), stats.norm.pdf(xx, scale=np.sqrt(s_b)))"
   ]
  },
  {
   "cell_type": "markdown",
   "metadata": {},
   "source": [
    "## Priors on $A$, $\\pi$"
   ]
  },
  {
   "cell_type": "code",
   "execution_count": 37,
   "metadata": {
    "collapsed": false
   },
   "outputs": [],
   "source": [
    "###### A ###############\n",
    "A_off = 10.\n",
    "A_on = 1.\n",
    "Avec = np.r_[A_off, A_on].reshape(2, 1, 1)\n",
    "A_prior = np.tile(Avec, (1, 2, K))\n",
    "\n",
    "###### pi ###############\n",
    "pi_off = 15.\n",
    "pi_on = 1.\n",
    "pi_prior = np.tile(np.r_[pi_off, pi_on].reshape(2, 1), (1, K))"
   ]
  },
  {
   "cell_type": "code",
   "execution_count": 38,
   "metadata": {
    "collapsed": false
   },
   "outputs": [
    {
     "data": {
      "image/png": "[encoded data removed]",
      "text/plain": [
       "<matplotlib.figure.Figure at 0x7f00b0099bd0>"
      ]
     },
     "metadata": {},
     "output_type": "display_data"
    }
   ],
   "source": [
    "xx = np.linspace(0, 1, 100)\n",
    "plt.figure(figsize=(12, 4))\n",
    "plt.subplot(1, 3, 1)\n",
    "plt.plot(xx, stats.beta.pdf(xx, A_prior[1, 0, 0], A_prior[0, 0, 0]))\n",
    "plt.title(r'Transition $0 \\rightarrow 1$');\n",
    "\n",
    "plt.subplot(1, 3, 2)\n",
    "plt.plot(xx, stats.beta.pdf(xx, A_prior[1, 1, 0], A_prior[0, 1, 0]))\n",
    "plt.title(r'Transition $1 \\rightarrow 1$');\n",
    "\n",
    "plt.subplot(1, 3, 3)\n",
    "plt.plot(xx, stats.beta.pdf(xx, pi_prior[1, 0], pi_prior[0, 0]))\n",
    "plt.title('Initial state value');\n"
   ]
  },
  {
   "cell_type": "markdown",
   "metadata": {},
   "source": [
    "## Priors on $\\Sigma_\\varepsilon$ (overdispersion)"
   ]
  },
  {
   "cell_type": "code",
   "execution_count": 39,
   "metadata": {
    "collapsed": false
   },
   "outputs": [
    {
     "data": {
      "text/plain": [
       "[<matplotlib.lines.Line2D at 0x7f008d183350>]"
      ]
     },
     "execution_count": 39,
     "metadata": {},
     "output_type": "execute_result"
    },
    {
     "data": {
      "image/png": "[encoded data removed]",
      "text/plain": [
       "<matplotlib.figure.Figure at 0x7f008d236710>"
      ]
     },
     "metadata": {},
     "output_type": "display_data"
    }
   ],
   "source": [
    "h_eps = 1\n",
    "eta = 1\n",
    "m_eps = 40\n",
    "v_eps = 0.5\n",
    "a_eps = m_eps**2/v_eps\n",
    "b_eps = m_eps/v_eps\n",
    "\n",
    "xx = np.linspace(0, 0.3, 1000)\n",
    "plt.plot(xx, np.sqrt(stats.invgamma.pdf(xx, a_eps, scale=b_eps)))"
   ]
  },
  {
   "cell_type": "code",
   "execution_count": 40,
   "metadata": {
    "collapsed": false
   },
   "outputs": [
    {
     "data": {
      "text/plain": [
       "<matplotlib.image.AxesImage at 0x7f008c93bc10>"
      ]
     },
     "execution_count": 40,
     "metadata": {},
     "output_type": "execute_result"
    },
    {
     "data": {
      "image/png": "[encoded data removed]",
      "text/plain": [
       "<matplotlib.figure.Figure at 0x7f00b201e550>"
      ]
     },
     "metadata": {},
     "output_type": "display_data"
    }
   ],
   "source": [
    "Sig_eps = ln.draw_LKJ(h_eps, U)\n",
    "    \n",
    "plt.matshow(np.abs(Sig_eps))"
   ]
  },
  {
   "cell_type": "markdown",
   "metadata": {},
   "source": [
    "# Initial guesses for posterior parameters"
   ]
  },
  {
   "cell_type": "code",
   "execution_count": 41,
   "metadata": {
    "collapsed": false
   },
   "outputs": [],
   "source": [
    "# baseline posteriors\n",
    "mu_a = (np.log(15) + np.log(dt)) * np.random.randn(U)\n",
    "sig_a = 0.06 * np.ones(U)\n",
    "log_sig_a = np.log(sig_a)"
   ]
  },
  {
   "cell_type": "code",
   "execution_count": 42,
   "metadata": {
    "collapsed": false
   },
   "outputs": [],
   "source": [
    "# firing rate effects for regressors\n",
    "mu_b = 0.1 * np.random.randn(U, R)\n",
    "Sig_b = 0.05 * np.tile(np.eye(R).reshape(1, R, R), (U, 1, 1))\n",
    "Sig_b_chol = np.linalg.cholesky(Sig_b)"
   ]
  },
  {
   "cell_type": "code",
   "execution_count": 43,
   "metadata": {
    "collapsed": false
   },
   "outputs": [],
   "source": [
    "# firing rate effects for latents\n",
    "mu_c = 0.1 * np.random.randn(U, K)\n",
    "Sig_c = 0.05 * np.tile(np.eye(K).reshape(1, K, K), (U, 1, 1))\n",
    "Sig_c_chol = np.linalg.cholesky(Sig_c)"
   ]
  },
  {
   "cell_type": "code",
   "execution_count": 44,
   "metadata": {
    "collapsed": false
   },
   "outputs": [],
   "source": [
    "log_A = np.log(np.tile(np.array([0.9, 0.1]).reshape(2, 1, 1), (1, 2, K)))\n",
    "log_pi = np.log(np.tile(np.array([0.9, 0.1]).reshape(2, 1), (1, K)))\n",
    "A_post = np.exp(log_A)\n",
    "pi_post = np.exp(log_pi)\n",
    "\n",
    "pp = np.random.rand(T, K)\n",
    "psi = np.stack([pp, 1 - pp], axis=1)\n",
    "log_psi = np.log(psi)\n",
    "\n",
    "xi01 = np.random.rand(T, K)\n",
    "xi0 = np.empty((T, 2, K))\n",
    "xi0[:, 0, :] = 1 - xi01\n",
    "xi0[:, 1, :] = xi01"
   ]
  },
  {
   "cell_type": "code",
   "execution_count": 45,
   "metadata": {
    "collapsed": false
   },
   "outputs": [],
   "source": [
    "# overdispersion\n",
    "alpha_eps, beta_eps = 10 * np.ones(U), np.ones(U)\n",
    "log_alpha_eps = np.log(alpha_eps)\n",
    "log_beta_eps = np.log(beta_eps)\n",
    "log_mu_eps = np.log(10 * np.ones(U))\n",
    "log_ups_eps = np.log(0.02 * np.ones(U))\n",
    "\n",
    "eta_eps = 2.1\n",
    "log_eta_eps = np.log(eta_eps - 1)"
   ]
  },
  {
   "cell_type": "code",
   "execution_count": 46,
   "metadata": {
    "collapsed": false
   },
   "outputs": [],
   "source": [
    "#etas\n",
    "# eta_mean = mu_a + Xchain.dot(mu_b.T) + xi0[:, 1, :].dot(mu_c.T)\n",
    "eta_mean = np.maximum(np.log(N), -2)\n",
    "eta_scale = 0.01\n",
    "eta_cov = eta_scale * np.tile(np.eye(U).reshape(1, U, U), (T, 1, 1))\n",
    "eta_cov_chol = np.linalg.cholesky(eta_cov)"
   ]
  },
  {
   "cell_type": "markdown",
   "metadata": {},
   "source": [
    "# Initialize $\\eta$ and $\\overline{\\eta}$ by data"
   ]
  },
  {
   "cell_type": "raw",
   "metadata": {
    "collapsed": false
   },
   "source": [
    "import statsmodels.api as sm\n",
    "\n",
    "Xmat = np.concatenate([np.ones((T, 1)), Xchain, xi0[:, 1, :]], axis=1)\n",
    "\n",
    "for u in range(U):\n",
    "    m = sm.GLM(N[:, u], Xmat, family=sm.families.Poisson()).fit()\n",
    "    mu_a[u] = m.params[0]\n",
    "    mu_b[u, :] = m.params[1:R + 1]\n",
    "    mu_c[u, :] = m.params[1:K + 1]\n",
    "    eta_mean[:, u] = np.log(m.fittedvalues)"
   ]
  },
  {
   "cell_type": "code",
   "execution_count": 47,
   "metadata": {
    "collapsed": false
   },
   "outputs": [
    {
     "data": {
      "image/png": "[encoded data removed]",
      "text/plain": [
       "<matplotlib.figure.Figure at 0x7f008c965e50>"
      ]
     },
     "metadata": {},
     "output_type": "display_data"
    }
   ],
   "source": [
    "plt.hist(np.log(fr).ravel(), alpha=0.5);\n",
    "plt.hist(eta_mean.ravel(), alpha=0.5);"
   ]
  },
  {
   "cell_type": "markdown",
   "metadata": {},
   "source": [
    "## Check $\\mathcal{L}$:"
   ]
  },
  {
   "cell_type": "code",
   "execution_count": 48,
   "metadata": {
    "collapsed": false
   },
   "outputs": [
    {
     "name": "stdout",
     "output_type": "stream",
     "text": [
      "CPU times: user 2.16 s, sys: 28 ms, total: 2.19 s\n",
      "Wall time: 848 ms\n"
     ]
    }
   ],
   "source": [
    "%%time\n",
    "(eta_cov, sig_a, Sig_b, Sig_c, \n",
    "     A_post, pi_post, mu_eps, ups_eps, eta_eps) = ln.transform_inputs(\n",
    "        eta_cov_chol, log_sig_a, Sig_b_chol, Sig_c_chol, \n",
    "        log_A, log_pi, log_mu_eps, log_ups_eps, log_eta_eps)\n",
    "    \n",
    "ln.L(N, Xchain, m_a, s_a, m_b, S_b, m_c, S_c, \n",
    "                      A_prior, pi_prior, h_eps, m_eps, v_eps, \n",
    "             eta_mean, eta_cov, mu_a, sig_a, mu_b, Sig_b, mu_c, Sig_c, \n",
    "                      log_psi, A_post, pi_post, mu_eps, ups_eps, eta_eps)"
   ]
  },
  {
   "cell_type": "markdown",
   "metadata": {},
   "source": [
    "## Check $\\nabla \\mathcal{L}$:"
   ]
  },
  {
   "cell_type": "code",
   "execution_count": 49,
   "metadata": {
    "collapsed": false
   },
   "outputs": [],
   "source": [
    "def Lflat(x):\n",
    "    (eta_mean, eta_cov_chol, mu_a, log_sig_a, mu_b, Sig_b_chol, mu_c, Sig_c_chol, log_psi,\n",
    "     log_A_post, log_pi_post, log_mu_eps, log_ups_eps, eta_eps) = ln.unpack(x, dimlist)\n",
    "    \n",
    "    # transform unconstrained to constrained params\n",
    "    (eta_cov, sig_a, Sig_b, Sig_c, \n",
    "     A_post, pi_post, mu_eps, ups_eps, eta_eps) = ln.transform_inputs(\n",
    "        eta_cov_chol, log_sig_a, Sig_b_chol, Sig_c_chol, \n",
    "        log_A_post, log_pi_post, log_mu_eps, log_ups_eps, log_eta_eps)\n",
    "    \n",
    "    L = ln.L(N, Xchain, m_a, s_a, m_b, S_b, m_c, S_c, \n",
    "                      A_prior, pi_prior, h_eps, m_eps, v_eps, \n",
    "             eta_mean, eta_cov, mu_a, sig_a, mu_b, Sig_b, mu_c, Sig_c, \n",
    "                      log_psi, A_post, pi_post, mu_eps, ups_eps, eta_eps)\n",
    "    return L"
   ]
  },
  {
   "cell_type": "code",
   "execution_count": 50,
   "metadata": {
    "collapsed": false
   },
   "outputs": [],
   "source": [
    "xx, dimlist = ln.pack(eta_mean, eta_cov_chol, \n",
    "                      mu_a, log_sig_a, \n",
    "                      mu_b, Sig_b_chol, \n",
    "                      mu_c, Sig_c_chol, \n",
    "                      log_psi,\n",
    "                      log_A, log_pi, \n",
    "                      log_mu_eps, log_ups_eps, \n",
    "                      log_eta_eps)"
   ]
  },
  {
   "cell_type": "code",
   "execution_count": 51,
   "metadata": {
    "collapsed": false
   },
   "outputs": [
    {
     "data": {
      "text/plain": [
       "((10114631,),\n",
       " [(1000, 100),\n",
       "  (1000, 100, 100),\n",
       "  (100,),\n",
       "  (100,),\n",
       "  (100, 3),\n",
       "  (100, 3, 3),\n",
       "  (100, 5),\n",
       "  (100, 5, 5),\n",
       "  (1000, 2, 5),\n",
       "  (2, 2, 5),\n",
       "  (2, 5),\n",
       "  (100,),\n",
       "  (100,),\n",
       "  ()])"
      ]
     },
     "execution_count": 51,
     "metadata": {},
     "output_type": "execute_result"
    }
   ],
   "source": [
    "xx.shape, dimlist"
   ]
  },
  {
   "cell_type": "code",
   "execution_count": 52,
   "metadata": {
    "collapsed": false
   },
   "outputs": [
    {
     "name": "stdout",
     "output_type": "stream",
     "text": [
      "CPU times: user 3.52 s, sys: 92 ms, total: 3.61 s\n",
      "Wall time: 877 ms\n"
     ]
    },
    {
     "data": {
      "text/plain": [
       "-1121693.240484002"
      ]
     },
     "execution_count": 52,
     "metadata": {},
     "output_type": "execute_result"
    }
   ],
   "source": [
    "%%time\n",
    "Lflat(xx)"
   ]
  },
  {
   "cell_type": "code",
   "execution_count": 53,
   "metadata": {
    "collapsed": true
   },
   "outputs": [],
   "source": [
    "gradL = grad(Lflat)"
   ]
  },
  {
   "cell_type": "code",
   "execution_count": 54,
   "metadata": {
    "collapsed": false
   },
   "outputs": [
    {
     "name": "stdout",
     "output_type": "stream",
     "text": [
      "CPU times: user 23.8 s, sys: 464 ms, total: 24.3 s\n",
      "Wall time: 15.6 s\n"
     ]
    }
   ],
   "source": [
    "%%time\n",
    "gg = gradL(xx)"
   ]
  },
  {
   "cell_type": "markdown",
   "metadata": {},
   "source": [
    "## Optimize \n",
    "\n",
    "Use RMSprop:"
   ]
  },
  {
   "cell_type": "code",
   "execution_count": 55,
   "metadata": {
    "collapsed": true
   },
   "outputs": [],
   "source": [
    "yy = xx.copy()\n",
    "avg_sq_grad = None"
   ]
  },
  {
   "cell_type": "code",
   "execution_count": 88,
   "metadata": {
    "collapsed": false
   },
   "outputs": [
    {
     "name": "stdout",
     "output_type": "stream",
     "text": [
      "776697.100576\n",
      "Iteration 0\n",
      "782399.130878\n",
      "Iteration 1\n",
      "792485.434747\n",
      "Iteration 2\n",
      "804546.30188\n",
      "Iteration 3\n",
      "810069.034102\n",
      "Iteration 4\n",
      "809858.534864\n",
      "Iteration 5\n",
      "806119.720892\n",
      "Iteration 6\n",
      "806410.945057\n",
      "Iteration 7\n",
      "807768.801959\n",
      "Iteration 8\n",
      "805778.139522\n",
      "Iteration 9\n",
      "803525.247839\n",
      "Iteration 10\n",
      "804434.037346\n",
      "Iteration 11\n",
      "810438.302528\n",
      "Iteration 12\n",
      "809355.065179\n",
      "Iteration 13\n",
      "819265.390497\n",
      "Iteration 14\n",
      "821583.977936\n",
      "Iteration 15\n",
      "822592.751735\n",
      "Iteration 16\n",
      "822811.330434\n",
      "Iteration 17\n",
      "822873.767337\n",
      "Iteration 18\n",
      "824961.567763\n",
      "Iteration 19\n",
      "821581.609339\n",
      "Iteration 20\n",
      "823420.929022\n",
      "Iteration 21\n",
      "827615.132541\n",
      "Iteration 22\n",
      "822443.331774\n",
      "Iteration 23\n",
      "822575.104955\n",
      "Iteration 24\n",
      "826927.816922\n",
      "Iteration 25\n",
      "826894.459812\n",
      "Iteration 26\n",
      "831792.057807\n",
      "Iteration 27\n",
      "832083.530984\n",
      "Iteration 28\n",
      "831490.127141\n",
      "Iteration 29\n",
      "832974.271078\n",
      "Iteration 30\n",
      "833015.045368\n",
      "Iteration 31\n",
      "822355.174715\n",
      "Iteration 32\n",
      "823804.287744\n",
      "Iteration 33\n",
      "827441.25241\n",
      "Iteration 34\n",
      "831849.170193\n",
      "Iteration 35\n",
      "833100.017502\n",
      "Iteration 36\n",
      "833750.078653\n",
      "Iteration 37\n",
      "831362.411756\n",
      "Iteration 38\n",
      "829891.677526\n",
      "Iteration 39\n",
      "831399.162915\n",
      "Iteration 40\n",
      "826693.83711\n",
      "Iteration 41\n",
      "828795.568173\n",
      "Iteration 42\n",
      "831873.16528\n",
      "Iteration 43\n",
      "834817.046708\n",
      "Iteration 44\n",
      "835816.303124\n",
      "Iteration 45\n",
      "832658.452594\n",
      "Iteration 46\n",
      "833698.503207\n",
      "Iteration 47\n",
      "827841.38228\n",
      "Iteration 48\n",
      "828606.203166\n",
      "Iteration 49\n",
      "834505.070166\n",
      "Iteration 50\n",
      "833647.441408\n",
      "Iteration 51\n",
      "830174.416771\n",
      "Iteration 52\n",
      "833610.707407\n",
      "Iteration 53\n",
      "826906.00213\n",
      "Iteration 54\n",
      "827310.520745\n",
      "Iteration 55\n",
      "827912.690511\n",
      "Iteration 56\n",
      "830365.702003\n",
      "Iteration 57\n",
      "832456.360021\n",
      "Iteration 58\n",
      "832986.918694\n",
      "Iteration 59\n",
      "835911.222661\n",
      "Iteration 60\n",
      "833212.182662\n",
      "Iteration 61\n",
      "830162.491035\n",
      "Iteration 62\n",
      "827771.25711\n",
      "Iteration 63\n",
      "832536.31217\n",
      "Iteration 64\n",
      "833880.42154\n",
      "Iteration 65\n",
      "838687.925971\n",
      "Iteration 66\n",
      "835892.866655\n",
      "Iteration 67\n",
      "832084.641088\n",
      "Iteration 68\n",
      "828984.999169\n",
      "Iteration 69\n",
      "829839.659472\n",
      "Iteration 70\n",
      "828598.236229\n",
      "Iteration 71\n",
      "833399.700327\n",
      "Iteration 72\n",
      "832871.646645\n",
      "Iteration 73\n",
      "837370.162344\n",
      "Iteration 74\n",
      "838988.937681\n",
      "Iteration 75\n",
      "836915.520406\n",
      "Iteration 76\n",
      "833968.579325\n",
      "Iteration 77\n",
      "827046.038761\n",
      "Iteration 78\n",
      "824598.427292\n",
      "Iteration 79\n",
      "831861.9562\n",
      "Iteration 80\n",
      "833191.209067\n",
      "Iteration 81\n",
      "837859.478228\n",
      "Iteration 82\n",
      "837049.259347\n",
      "Iteration 83\n",
      "835799.957511\n",
      "Iteration 84\n",
      "828149.800657\n",
      "Iteration 85\n",
      "829295.88114\n",
      "Iteration 86\n",
      "823636.797473\n",
      "Iteration 87\n",
      "829210.723913\n",
      "Iteration 88\n",
      "835505.571411\n",
      "Iteration 89\n",
      "832517.771073\n",
      "Iteration 90\n",
      "834901.577703\n",
      "Iteration 91\n",
      "836419.779143\n",
      "Iteration 92\n",
      "835606.809175\n",
      "Iteration 93\n",
      "831475.672848\n",
      "Iteration 94\n",
      "831478.447029\n",
      "Iteration 95\n",
      "833462.656947\n",
      "Iteration 96\n",
      "830051.168778\n",
      "Iteration 97\n",
      "832232.496937\n",
      "Iteration 98\n",
      "832376.462136\n",
      "Iteration 99\n",
      "832798.15634\n",
      "Iteration 100\n",
      "836513.628307\n",
      "Iteration 101\n",
      "829593.708464\n",
      "Iteration 102\n",
      "836340.231252\n",
      "Iteration 103\n",
      "832575.310977\n",
      "Iteration 104\n",
      "831834.198838\n",
      "Iteration 105\n",
      "826800.601926\n",
      "Iteration 106\n",
      "829069.184518\n",
      "Iteration 107\n",
      "832244.834429\n",
      "Iteration 108\n",
      "835806.398554\n",
      "Iteration 109\n",
      "839444.985819\n",
      "Iteration 110\n",
      "837163.746456\n",
      "Iteration 111\n",
      "828487.778256\n",
      "Iteration 112\n",
      "830062.464858\n",
      "Iteration 113\n",
      "828919.815577\n",
      "Iteration 114\n",
      "831226.606702\n",
      "Iteration 115\n",
      "833438.42296\n",
      "Iteration 116\n",
      "831427.044034\n",
      "Iteration 117\n",
      "834250.744199\n",
      "Iteration 118\n",
      "834673.697203\n",
      "Iteration 119\n",
      "832750.196541\n",
      "Iteration 120\n",
      "831607.871321\n",
      "Iteration 121\n",
      "832318.18502\n",
      "Iteration 122\n",
      "832215.349002\n",
      "Iteration 123\n",
      "834530.064042\n",
      "Iteration 124\n",
      "838133.728824\n",
      "Iteration 125\n",
      "835675.440986\n",
      "Iteration 126\n",
      "834923.100033\n",
      "Iteration 127\n",
      "835385.901603\n",
      "Iteration 128\n",
      "834321.995133\n",
      "Iteration 129\n",
      "834450.668508\n",
      "Iteration 130\n",
      "832386.59346\n",
      "Iteration 131\n",
      "832740.568753\n",
      "Iteration 132\n",
      "832896.095005\n",
      "Iteration 133\n",
      "834844.230377\n",
      "Iteration 134\n",
      "831804.12453\n",
      "Iteration 135\n",
      "837899.013509\n",
      "Iteration 136\n",
      "836609.511219\n",
      "Iteration 137\n",
      "838015.500407\n",
      "Iteration 138\n",
      "838075.583944\n",
      "Iteration 139\n",
      "831814.801883\n",
      "Iteration 140\n",
      "831999.69428\n",
      "Iteration 141\n",
      "830942.226856\n",
      "Iteration 142\n",
      "834903.270012\n",
      "Iteration 143\n",
      "835545.590391\n",
      "Iteration 144\n",
      "837087.034915\n",
      "Iteration 145\n",
      "836849.155613\n",
      "Iteration 146\n",
      "835537.582222\n",
      "Iteration 147\n",
      "834903.399535\n",
      "Iteration 148\n",
      "835130.617456\n",
      "Iteration 149\n",
      "835725.456423\n",
      "Iteration 150\n",
      "837189.46798\n",
      "Iteration 151\n",
      "834262.620153\n",
      "Iteration 152\n",
      "829586.182944\n",
      "Iteration 153\n",
      "830661.507075\n",
      "Iteration 154\n",
      "836745.319455\n",
      "Iteration 155\n",
      "836210.110507\n",
      "Iteration 156\n",
      "838228.875641\n",
      "Iteration 157\n",
      "833729.74319\n",
      "Iteration 158\n",
      "834542.556748\n",
      "Iteration 159\n",
      "833226.180783\n",
      "Iteration 160\n",
      "832864.596392\n",
      "Iteration 161\n",
      "836128.429508\n",
      "Iteration 162\n",
      "836280.846926\n",
      "Iteration 163\n",
      "836860.287638\n",
      "Iteration 164\n",
      "831078.128689\n",
      "Iteration 165\n",
      "829041.860239\n",
      "Iteration 166\n",
      "834913.429747\n",
      "Iteration 167\n",
      "835189.357974\n",
      "Iteration 168\n",
      "831785.933077\n",
      "Iteration 169\n",
      "826678.197952\n",
      "Iteration 170\n",
      "833395.1599\n",
      "Iteration 171\n",
      "834658.559953\n",
      "Iteration 172\n",
      "830150.876024\n",
      "Iteration 173\n",
      "831167.018442\n",
      "Iteration 174\n",
      "831271.876644\n",
      "Iteration 175\n",
      "835907.187902\n",
      "Iteration 176\n",
      "833182.934874\n",
      "Iteration 177\n",
      "836062.747456\n",
      "Iteration 178\n",
      "836327.359444\n",
      "Iteration 179\n",
      "838454.429027\n",
      "Iteration 180\n",
      "838409.861863\n",
      "Iteration 181\n",
      "836964.662272\n",
      "Iteration 182\n",
      "836024.871006\n",
      "Iteration 183\n",
      "834669.883039\n",
      "Iteration 184\n",
      "828527.362802\n",
      "Iteration 185\n",
      "832151.815065\n",
      "Iteration 186\n",
      "833332.588158\n",
      "Iteration 187\n",
      "835799.501277\n",
      "Iteration 188\n",
      "840882.176578\n",
      "Iteration 189\n",
      "843192.51896\n",
      "Iteration 190\n",
      "840337.835093\n",
      "Iteration 191\n",
      "834057.003045\n",
      "Iteration 192\n",
      "834784.655375\n",
      "Iteration 193\n",
      "835396.007851\n",
      "Iteration 194\n",
      "834388.235973\n",
      "Iteration 195\n",
      "833126.894445\n",
      "Iteration 196\n",
      "834307.297447\n",
      "Iteration 197\n",
      "840724.876992\n",
      "Iteration 198\n",
      "840266.022729\n",
      "Iteration 199\n",
      "839575.047506\n"
     ]
    }
   ],
   "source": [
    "step_size = 0.1\n",
    "decay = 0.9\n",
    "eps = 1e-8\n",
    "nsteps = 200\n",
    "\n",
    "print(Lflat(yy))\n",
    "for k in range(nsteps):\n",
    "    print(\"Iteration \" + str(k))\n",
    "    gg = gradL(yy)\n",
    "    if avg_sq_grad is not None:\n",
    "        avg_sq_grad = avg_sq_grad * decay + gg**2 * (1 - decay)\n",
    "    else:\n",
    "        avg_sq_grad = gg ** 2\n",
    "    yy += step_size * gg / (np.sqrt(avg_sq_grad) + eps)\n",
    "    print(Lflat(yy))"
   ]
  },
  {
   "cell_type": "code",
   "execution_count": 78,
   "metadata": {
    "collapsed": true
   },
   "outputs": [],
   "source": [
    "pars = ln.unpack(yy, dimlist)"
   ]
  },
  {
   "cell_type": "code",
   "execution_count": 79,
   "metadata": {
    "collapsed": true
   },
   "outputs": [],
   "source": [
    "gradvec = ln.unpack(gg, dimlist)"
   ]
  },
  {
   "cell_type": "markdown",
   "metadata": {},
   "source": [
    "# Assess fit\n",
    "\n",
    "## State coding"
   ]
  },
  {
   "cell_type": "code",
   "execution_count": 80,
   "metadata": {
    "collapsed": true
   },
   "outputs": [],
   "source": [
    "xi_post = ln.get_xi(yy, Xchain, dimlist)"
   ]
  },
  {
   "cell_type": "code",
   "execution_count": 81,
   "metadata": {
    "collapsed": false
   },
   "outputs": [
    {
     "data": {
      "image/png": "[encoded data removed]",
      "text/plain": [
       "<matplotlib.figure.Figure at 0x7f004f360810>"
      ]
     },
     "metadata": {},
     "output_type": "display_data"
    },
    {
     "data": {
      "image/png": "[encoded data removed]",
      "text/plain": [
       "<matplotlib.figure.Figure at 0x7f004f360790>"
      ]
     },
     "metadata": {},
     "output_type": "display_data"
    }
   ],
   "source": [
    "matshow(chain.T, vmin=0, vmax=1);\n",
    "matshow(xi_post[:, 1, :].T, vmin=0, vmax=1);"
   ]
  },
  {
   "cell_type": "markdown",
   "metadata": {},
   "source": [
    "## Firing rate variables"
   ]
  },
  {
   "cell_type": "code",
   "execution_count": 82,
   "metadata": {
    "collapsed": false
   },
   "outputs": [
    {
     "data": {
      "image/png": "[encoded data removed]",
      "text/plain": [
       "<matplotlib.figure.Figure at 0x7f005c226490>"
      ]
     },
     "metadata": {},
     "output_type": "display_data"
    }
   ],
   "source": [
    "plt.hist(np.log(fr).ravel());\n",
    "plt.hist(pars[0].ravel(), alpha=0.5);"
   ]
  },
  {
   "cell_type": "markdown",
   "metadata": {},
   "source": [
    "## Baselines"
   ]
  },
  {
   "cell_type": "code",
   "execution_count": 83,
   "metadata": {
    "collapsed": false
   },
   "outputs": [
    {
     "data": {
      "image/png": "[encoded data removed]",
      "text/plain": [
       "<matplotlib.figure.Figure at 0x7f005c166c50>"
      ]
     },
     "metadata": {},
     "output_type": "display_data"
    }
   ],
   "source": [
    "plt.hist(bl + np.log(dt), bins=20);\n",
    "plt.hist(pars[2], bins=20, alpha=0.5);"
   ]
  },
  {
   "cell_type": "markdown",
   "metadata": {},
   "source": [
    "## Regression coefficients"
   ]
  },
  {
   "cell_type": "code",
   "execution_count": 84,
   "metadata": {
    "collapsed": false
   },
   "outputs": [
    {
     "data": {
      "image/png": "[encoded data removed]",
      "text/plain": [
       "<matplotlib.figure.Figure at 0x7f005c01ec90>"
      ]
     },
     "metadata": {},
     "output_type": "display_data"
    }
   ],
   "source": [
    "plt.hist(Xlam.ravel(), bins=20);\n",
    "plt.hist(pars[4].ravel(), bins=20, alpha=0.5);"
   ]
  },
  {
   "cell_type": "markdown",
   "metadata": {},
   "source": [
    "## HMM firing rate effects"
   ]
  },
  {
   "cell_type": "code",
   "execution_count": 85,
   "metadata": {
    "collapsed": false
   },
   "outputs": [
    {
     "data": {
      "image/png": "[encoded data removed]",
      "text/plain": [
       "<matplotlib.figure.Figure at 0x7f005bdf2ad0>"
      ]
     },
     "metadata": {},
     "output_type": "display_data"
    }
   ],
   "source": [
    "plt.hist(lam.ravel(), bins=20);\n",
    "plt.hist(pars[6].ravel(), bins=20, alpha=0.5);"
   ]
  },
  {
   "cell_type": "markdown",
   "metadata": {},
   "source": [
    "## $\\log \\psi$: start vs finish"
   ]
  },
  {
   "cell_type": "code",
   "execution_count": 86,
   "metadata": {
    "collapsed": false
   },
   "outputs": [
    {
     "data": {
      "image/png": "[encoded data removed]",
      "text/plain": [
       "<matplotlib.figure.Figure at 0x7f005c226c90>"
      ]
     },
     "metadata": {},
     "output_type": "display_data"
    }
   ],
   "source": [
    "plt.hist(np.diff(log_psi, axis=1).ravel(), bins=20)\n",
    "plt.hist(np.diff(pars[8], axis=1).ravel(), bins=20, alpha=0.5);"
   ]
  },
  {
   "cell_type": "markdown",
   "metadata": {},
   "source": [
    "## Noise scale: start vs finish:"
   ]
  },
  {
   "cell_type": "code",
   "execution_count": 87,
   "metadata": {
    "collapsed": false
   },
   "outputs": [
    {
     "data": {
      "image/png": "[encoded data removed]",
      "text/plain": [
       "<matplotlib.figure.Figure at 0x7f005bc71510>"
      ]
     },
     "metadata": {},
     "output_type": "display_data"
    }
   ],
   "source": [
    "plt.hist(log_mu_eps.ravel(), bins=20)\n",
    "plt.hist(pars[-3].ravel(), bins=20, alpha=0.5);"
   ]
  },
  {
   "cell_type": "markdown",
   "metadata": {},
   "source": [
    "# Do inference with random restarts:"
   ]
  },
  {
   "cell_type": "code",
   "execution_count": null,
   "metadata": {
    "collapsed": false
   },
   "outputs": [],
   "source": [
    "numstarts = 1"
   ]
  },
  {
   "cell_type": "code",
   "execution_count": null,
   "metadata": {
    "collapsed": false
   },
   "outputs": [],
   "source": [
    "fitobjs = []\n",
    "Lvals = []\n",
    "for idx in xrange(numstarts):\n",
    "    lnm = ln.LogNormalModel(df, K)\n",
    "    lnm.initialize_baseline(**jitter_inits(baseline_dict, 0.25))\n",
    "    lnm.initialize_fr_latents(**jitter_inits(fr_latent_dict, 0.25))\n",
    "    lnm.initialize_latents(**jitter_inits(latent_dict, 0.05))\n",
    "    lnm.initialize_fr_regressors(**jitter_inits(reg_dict, 0.05))\n",
    "    if overdisp:\n",
    "        lnm.initialize_overdispersion(**jitter_inits(od_dict, 0.25))\n",
    "    lnm.finalize()\n",
    "    \n",
    "    print \"Start {} -----------------------\".format(idx)\n",
    "    %time lnm.do_inference(tol=1e-4, verbosity=2)\n",
    "    print \"Final L = {}\".format(lnm.L())\n",
    "    Lvals.append(lnm.L())\n",
    "    fitobjs.append(lnm)"
   ]
  },
  {
   "cell_type": "code",
   "execution_count": null,
   "metadata": {
    "collapsed": false
   },
   "outputs": [],
   "source": [
    "# pick out best fit\n",
    "bestind = np.argmax(Lvals)\n",
    "lnm = fitobjs[bestind]\n",
    "del fitobjs  # to save memory"
   ]
  },
  {
   "cell_type": "markdown",
   "metadata": {},
   "source": [
    "# Check results"
   ]
  },
  {
   "cell_type": "markdown",
   "metadata": {},
   "source": [
    "## Do we correctly recover $z$?"
   ]
  },
  {
   "cell_type": "markdown",
   "metadata": {},
   "source": [
    "Zoom in on a small part of the time series:"
   ]
  },
  {
   "cell_type": "code",
   "execution_count": null,
   "metadata": {
    "collapsed": false
   },
   "outputs": [],
   "source": [
    "Trng = (500, 1000)\n",
    "matshow(chain.T[:, slice(*Trng)], vmin=0, vmax=1);\n",
    "xi = lnm.nodes['HMM'].nodes['z'].z[1]\n",
    "matshow(xi.T[:, slice(*Trng)], vmin=0, vmax=1);"
   ]
  },
  {
   "cell_type": "markdown",
   "metadata": {},
   "source": [
    "What about the whole time series?"
   ]
  },
  {
   "cell_type": "code",
   "execution_count": null,
   "metadata": {
    "collapsed": false
   },
   "outputs": [],
   "source": [
    "matshow(chain.T, vmin=0, vmax=1);\n",
    "matshow(xi.T, vmin=0, vmax=1);"
   ]
  },
  {
   "cell_type": "code",
   "execution_count": null,
   "metadata": {
    "collapsed": false
   },
   "outputs": [],
   "source": [
    "matshow(chain.T);\n",
    "plt.title('Actual states')\n",
    "matshow(xi.T, vmin=0, vmax=1);\n",
    "plt.title('Inferred states')\n",
    "matshow(fr.T / dt, vmax=30);\n",
    "plt.title('Actual firing rate')\n",
    "matshow(N.T, vmin=0, vmax=1);\n",
    "plt.title('Spike rastergram');"
   ]
  },
  {
   "cell_type": "code",
   "execution_count": null,
   "metadata": {
    "collapsed": false
   },
   "outputs": [],
   "source": [
    "match = (chain.T.dot(xi) + (1 - chain.T).dot(1 - xi)) / T\n",
    "mismatch = (chain.T.dot(1 - xi) + (1 - chain.T).dot(xi)) / T\n",
    "overlap = np.maximum(match, mismatch)"
   ]
  },
  {
   "cell_type": "markdown",
   "metadata": {},
   "source": [
    "## Calculate overlap between actual and inferred latents"
   ]
  },
  {
   "cell_type": "markdown",
   "metadata": {},
   "source": [
    "Define the overlap as the maximum of the match or mismatch percentage. That is, if $x$ and $y$ are binary vectors, \n",
    "$$\n",
    "\\mathrm{overlap} = \\max \\{ \\mathbb{E}[xy + (1-x)(1-y)], \\mathbb{E}[(1-x)y + x(1-y)]\\}\n",
    "$$"
   ]
  },
  {
   "cell_type": "code",
   "execution_count": null,
   "metadata": {
    "collapsed": false
   },
   "outputs": [],
   "source": [
    "matshow(overlap, vmin=0, vmax=1)\n",
    "plt.colorbar();\n",
    "plt.xlabel('Inferred categories');\n",
    "plt.ylabel('Actual categories');"
   ]
  },
  {
   "cell_type": "code",
   "execution_count": null,
   "metadata": {
    "collapsed": false
   },
   "outputs": [],
   "source": [
    "print overlap"
   ]
  },
  {
   "cell_type": "markdown",
   "metadata": {},
   "source": [
    "## Diagnostics for gamma-distributed variables"
   ]
  },
  {
   "cell_type": "markdown",
   "metadata": {},
   "source": [
    "Let's look at what we get for $\\lambda$, $\\theta$, and $\\upsilon$:"
   ]
  },
  {
   "cell_type": "markdown",
   "metadata": {},
   "source": [
    "### Baselines"
   ]
  },
  {
   "cell_type": "code",
   "execution_count": null,
   "metadata": {
    "collapsed": false
   },
   "outputs": [],
   "source": [
    "plt.figure(figsize=(12, 4))\n",
    "\n",
    "actual_means = bl\n",
    "inferred_means = lnm.nodes['baseline'].expected_x() - np.log(dt)\n",
    "\n",
    "plt.subplot(1, 2, 1)\n",
    "plt.hist(bl, bins=50, normed=True, alpha=0.25)\n",
    "plt.hist(inferred_means, bins=50, normed=True, alpha=0.25);\n",
    "plt.legend(['actual', 'inferred']);\n",
    "plt.xlim([0, 5])\n",
    "plt.title('Baseline firing rates');\n",
    "\n",
    "plt.subplot(1, 2, 2)\n",
    "plt.scatter(bl, inferred_means);\n",
    "plt.xlabel('actual')\n",
    "plt.ylabel('inferred')\n",
    "plt.title('baseline rates');"
   ]
  },
  {
   "cell_type": "markdown",
   "metadata": {},
   "source": [
    "### $\\lambda$ terms (latents for each unit)"
   ]
  },
  {
   "cell_type": "code",
   "execution_count": null,
   "metadata": {
    "collapsed": false
   },
   "outputs": [],
   "source": [
    "var_shape = lnm.nodes['fr_latents_prec'].post_shape\n",
    "var_rate = lnm.nodes['fr_latents_prec'].post_rate\n",
    "\n",
    "xx = np.linspace(0, 0.1, 500)\n",
    "for kk in xrange(K):\n",
    "    plt.plot(xx, stats.invgamma.pdf(xx, a=var_shape[kk], scale=var_rate[kk]), label=kk)\n",
    "plt.title('effect variance posterior');\n",
    "plt.legend();"
   ]
  },
  {
   "cell_type": "code",
   "execution_count": null,
   "metadata": {
    "collapsed": false
   },
   "outputs": [],
   "source": [
    "plt.hist(lam.ravel(), bins=50, normed=True, alpha=0.25)\n",
    "inferred_effects = lnm.nodes['fr_latents'].expected_x().ravel()\n",
    "plt.hist(inferred_effects, bins=50, normed=True, alpha=0.25);\n",
    "plt.legend(['actual', 'inferred']);\n",
    "plt.title('Firing rate effects');"
   ]
  },
  {
   "cell_type": "markdown",
   "metadata": {},
   "source": [
    "### $\\theta$ terms (overdispersion)"
   ]
  },
  {
   "cell_type": "code",
   "execution_count": null,
   "metadata": {
    "collapsed": false
   },
   "outputs": [],
   "source": [
    "if overdisp:\n",
    "    inferred_means = lnm.nodes['overdispersion'].expected_x().ravel()\n",
    "    plt.hist(eps.ravel(), bins=500, normed=True, alpha=0.25)\n",
    "    plt.hist(inferred_means, bins=500, normed=True, alpha=0.25);\n",
    "    plt.legend(['actual', 'inferred']);\n",
    "    plt.title('Overdispersion effects');\n",
    "    plt.ylim(0, 2);"
   ]
  },
  {
   "cell_type": "code",
   "execution_count": null,
   "metadata": {
    "collapsed": false
   },
   "outputs": [],
   "source": [
    "plt.scatter(eps.ravel(), inferred_means, alpha=0.01);\n",
    "plt.xlabel('actual')\n",
    "plt.ylabel('inferred')\n",
    "plt.title('overdispersion');"
   ]
  },
  {
   "cell_type": "markdown",
   "metadata": {},
   "source": [
    "### $\\upsilon$ terms (regressors)"
   ]
  },
  {
   "cell_type": "code",
   "execution_count": null,
   "metadata": {
    "collapsed": false
   },
   "outputs": [],
   "source": [
    "inferred_means = lnm.nodes['fr_regressors'].expected_x().ravel()\n",
    "plt.hist(Xlam.ravel(), bins=50, normed=True, alpha=0.25)\n",
    "plt.hist(inferred_means, bins=50, normed=True, alpha=0.25);\n",
    "plt.legend(['actual', 'inferred']);\n",
    "plt.title('Regression effects');"
   ]
  },
  {
   "cell_type": "code",
   "execution_count": null,
   "metadata": {
    "collapsed": false
   },
   "outputs": [],
   "source": [
    "plt.scatter(Xlam.T.ravel(), inferred_means);\n",
    "plt.xlabel('actual')\n",
    "plt.ylabel('inferred')\n",
    "plt.title('regression weights');"
   ]
  }
 ],
 "metadata": {
  "kernelspec": {
   "display_name": "Python 2",
   "language": "python",
   "name": "python2"
  },
  "language_info": {
   "codemirror_mode": {
    "name": "ipython",
    "version": 2
   },
   "file_extension": ".py",
   "mimetype": "text/x-python",
   "name": "python",
   "nbconvert_exporter": "python",
   "pygments_lexer": "ipython2",
   "version": "2.7.11"
  }
 },
 "nbformat": 4,
 "nbformat_minor": 0
}
